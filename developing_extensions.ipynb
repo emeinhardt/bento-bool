{
 "cells": [
  {
   "cell_type": "code",
   "execution_count": 1,
   "metadata": {
    "collapsed": true
   },
   "outputs": [],
   "source": [
    "import numpy as np\n",
    "import itertools"
   ]
  },
  {
   "cell_type": "code",
   "execution_count": 2,
   "metadata": {
    "collapsed": true
   },
   "outputs": [],
   "source": [
    "def heaviside(x):\n",
    "    return np.array(1 * (x >= 0))"
   ]
  },
  {
   "cell_type": "code",
   "execution_count": 22,
   "metadata": {
    "collapsed": false
   },
   "outputs": [],
   "source": [
    "def extension_bool(p,V):\n",
    "    \"\"\"\n",
    "    Compute a boolean vector that represents the extension of p in V\n",
    "    \n",
    "    Inputs:\n",
    "        p - a vector of shape (M,) with elements from {-1,0,1}.  The partially specified feature vector\n",
    "        V-  a matrix of shape (L,M) with elements from {-1,1}.  The feature vectors\n",
    "    Outputs:\n",
    "        extension - a vector of shape (L) with elements from {1,0}.  extension[l]=1 iff V[l,:] is in the extension of p\n",
    "    \"\"\"\n",
    "    \n",
    "    E = np.dot(V,p)/np.sum(abs(p))\n",
    "    return heaviside(E-1)\n",
    "def extension_mat(p,V):\n",
    "    \"\"\"\n",
    "    Returns a matrix representing the extension of p in V\n",
    "    \n",
    "    Inputs:\n",
    "        p - a vector of shape (M,) with elements from {-1,0,1}.  The partially specified feature vector\n",
    "        V-  a matrix of shape (L,M) with elements from {-1,1}.  The feature vectors\n",
    "    Outputs:\n",
    "        A - A matrix of shape (N,M) with elements from {-1,1}, where N <=L, and the rows of A are the rows of V in the\n",
    "            extension of p\n",
    "    \"\"\"\n",
    "    \n",
    "    bool_vec = extension_bool(p,V)\n",
    "    return V[bool_vec>0,:]\n",
    "def check_equivalent(p,q,V):\n",
    "    \"\"\"\n",
    "    Checks if p and q have the same extension in V\n",
    "    \n",
    "    Inputs:\n",
    "        p,q - vectors of shape (M,) with elements from {-1,0,1}.  The partially specified feature vectors\n",
    "        V-  a matrix of shape (L,M) with elements from {-1,1}.  The feature vectors\n",
    "    Outputs:\n",
    "        match - bool, whether or not p and q have the same extension \n",
    "    \"\"\"\n",
    "    p_bool = extension_bool(p,V)\n",
    "    q_bool = extension_bool(q,V)\n",
    "    M = np.shape(q_bool)[0]\n",
    "    return all([p_bool[i]==q_bool[i] for i in range(M)])\n",
    "def equivalence_class(p,V):\n",
    "    \"\"\"\n",
    "    Given a set of feature vectors V and a query partially specified feature vector p, return all partially\n",
    "    specified vectors q that have the same extension in V as p.\n",
    "    \n",
    "    Inputs:\n",
    "        p - a vector of shape (M,) with elements from {-1,0,1}.  The partially specified feature vector\n",
    "        V-  a matrix of shape (L,M) with elements from {-1,1}.  The feature vectors\n",
    "    Outputs:\n",
    "        R - a list of vectors where R[i] has shape (M,) and all vectors in R have the same extension in V as p\n",
    "    \"\"\"\n",
    "    \n",
    "    M = np.shape(p)[0]\n",
    "    L = np.shape(V)[0]\n",
    "    V_sums = np.sum(V,axis=0)\n",
    "    bool_p = extension_bool(p,V)\n",
    "    \n",
    "    A = V[bool_p>0,:]#shape is (N,M)\n",
    "    N = np.shape(A)[0]\n",
    "    A_sums = np.sum(A,axis=0)\n",
    "    \n",
    "    allowed_specifications = []\n",
    "    prespecified_indices = []\n",
    "    for i in range(M):\n",
    "        if p[i]==0:\n",
    "            #we can flip this position to a signed value if only if all A[:,i] or equivalently A_sums[i]== +/- N\n",
    "            if A_sums[i]==N:\n",
    "                allowed_specifications.append((i,1)) #they're all 1 so we can mutate p[i] to 1\n",
    "            elif A_sums[i]==-N:\n",
    "                allowed_specifications.append((i,-1)) #they're all -1 so we can mutate p[i] to -1\n",
    "        else:\n",
    "            prespecified_indices.append(i)\n",
    "    \n",
    "    #which indices of p can be zeroed out without changing the extension of p in V?\n",
    "    \n",
    "    T = L - N\n",
    "    B = V[bool_p<=0,:]#shape is (L-N,M), p is not compatible with any vector in B\n",
    "    \n",
    "    #now we must check which subsets of the specified indices can be zeroed out without making the resulting \n",
    "    # 'de-specified' vector consistent any vectors in B\n",
    "    \n",
    "    return allowed_specifications"
   ]
  },
  {
   "cell_type": "code",
   "execution_count": 19,
   "metadata": {
    "collapsed": false
   },
   "outputs": [
    {
     "data": {
      "text/plain": [
       "2"
      ]
     },
     "execution_count": 19,
     "metadata": {},
     "output_type": "execute_result"
    }
   ],
   "source": [
    "p = np.array([-1,0,1])\n",
    "V = np.array([\n",
    "    [1,1,1],\n",
    "    [1,1,1],\n",
    "    [1,-1,1]\n",
    "])\n",
    "extension_mat(p,V).ndim"
   ]
  },
  {
   "cell_type": "code",
   "execution_count": 13,
   "metadata": {
    "collapsed": false
   },
   "outputs": [
    {
     "data": {
      "text/plain": [
       "array([[0, 1],\n",
       "       [4, 5],\n",
       "       [8, 9]])"
      ]
     },
     "execution_count": 13,
     "metadata": {},
     "output_type": "execute_result"
    }
   ],
   "source": [
    "test = np.array([1,0,1,0,1])\n",
    "B[test>0,:]"
   ]
  },
  {
   "cell_type": "code",
   "execution_count": null,
   "metadata": {
    "collapsed": true
   },
   "outputs": [],
   "source": [
    "\"\"\"\n",
    "If a vector is in V but not in A, that means it differs from p in at least one of the places p has an assigned value\n",
    "\n",
    "If flipping a 1 to 0 in p would add a vector from V to A that wasn't there before, then that new vector agreed with p\n",
    "everywhere but at the flipped index\n",
    "\"\"\""
   ]
  }
 ],
 "metadata": {
  "kernelspec": {
   "display_name": "Python [default]",
   "language": "python",
   "name": "python2"
  },
  "language_info": {
   "codemirror_mode": {
    "name": "ipython",
    "version": 2
   },
   "file_extension": ".py",
   "mimetype": "text/x-python",
   "name": "python",
   "nbconvert_exporter": "python",
   "pygments_lexer": "ipython2",
   "version": "2.7.12"
  }
 },
 "nbformat": 4,
 "nbformat_minor": 2
}
