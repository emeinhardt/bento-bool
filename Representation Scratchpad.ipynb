{
 "cells": [
  {
   "cell_type": "markdown",
   "metadata": {
    "toc": true
   },
   "source": [
    "<h1>Table of Contents<span class=\"tocSkip\"></span></h1>\n",
    "<div class=\"toc\"><ul class=\"toc-item\"><li><span><a href=\"#Overview\" data-toc-modified-id=\"Overview-1\"><span class=\"toc-item-num\">1&nbsp;&nbsp;</span>Overview</a></span></li><li><span><a href=\"#Comparison-of-basic-representations-and-operations\" data-toc-modified-id=\"Comparison-of-basic-representations-and-operations-2\"><span class=\"toc-item-num\">2&nbsp;&nbsp;</span>Comparison of basic representations and operations</a></span><ul class=\"toc-item\"><li><span><a href=\"#Baseline-representation-of-partial-feature-vectors\" data-toc-modified-id=\"Baseline-representation-of-partial-feature-vectors-2.1\"><span class=\"toc-item-num\">2.1&nbsp;&nbsp;</span>Baseline representation of partial feature vectors</a></span><ul class=\"toc-item\"><li><span><a href=\"#Overhead---generation,-well-formedness,-uniquification\" data-toc-modified-id=\"Overhead---generation,-well-formedness,-uniquification-2.1.1\"><span class=\"toc-item-num\">2.1.1&nbsp;&nbsp;</span>Overhead - generation, well-formedness, uniquification</a></span></li><li><span><a href=\"#Agreement\" data-toc-modified-id=\"Agreement-2.1.2\"><span class=\"toc-item-num\">2.1.2&nbsp;&nbsp;</span>Agreement</a></span></li><li><span><a href=\"#Union\" data-toc-modified-id=\"Union-2.1.3\"><span class=\"toc-item-num\">2.1.3&nbsp;&nbsp;</span>Union</a></span></li><li><span><a href=\"#Intersection\" data-toc-modified-id=\"Intersection-2.1.4\"><span class=\"toc-item-num\">2.1.4&nbsp;&nbsp;</span>Intersection</a></span></li></ul></li><li><span><a href=\"#Specification-array-+-value-array\" data-toc-modified-id=\"Specification-array-+-value-array-2.2\"><span class=\"toc-item-num\">2.2&nbsp;&nbsp;</span>Specification array + value array</a></span><ul class=\"toc-item\"><li><span><a href=\"#Converting-between-representations\" data-toc-modified-id=\"Converting-between-representations-2.2.1\"><span class=\"toc-item-num\">2.2.1&nbsp;&nbsp;</span>Converting between representations</a></span></li><li><span><a href=\"#Operations\" data-toc-modified-id=\"Operations-2.2.2\"><span class=\"toc-item-num\">2.2.2&nbsp;&nbsp;</span>Operations</a></span></li><li><span><a href=\"#Performance-evaluation\" data-toc-modified-id=\"Performance-evaluation-2.2.3\"><span class=\"toc-item-num\">2.2.3&nbsp;&nbsp;</span>Performance evaluation</a></span><ul class=\"toc-item\"><li><span><a href=\"#Conclusion\" data-toc-modified-id=\"Conclusion-2.2.3.1\"><span class=\"toc-item-num\">2.2.3.1&nbsp;&nbsp;</span>Conclusion</a></span></li></ul></li></ul></li><li><span><a href=\"#Matrix-extension-of-the-baseline-representation\" data-toc-modified-id=\"Matrix-extension-of-the-baseline-representation-2.3\"><span class=\"toc-item-num\">2.3&nbsp;&nbsp;</span>Matrix extension of the baseline representation</a></span><ul class=\"toc-item\"><li><span><a href=\"#Agreement-testing\" data-toc-modified-id=\"Agreement-testing-2.3.1\"><span class=\"toc-item-num\">2.3.1&nbsp;&nbsp;</span>Agreement testing</a></span></li><li><span><a href=\"#Union\" data-toc-modified-id=\"Union-2.3.2\"><span class=\"toc-item-num\">2.3.2&nbsp;&nbsp;</span>Union</a></span></li><li><span><a href=\"#Intersection\" data-toc-modified-id=\"Intersection-2.3.3\"><span class=\"toc-item-num\">2.3.3&nbsp;&nbsp;</span>Intersection</a></span></li></ul></li></ul></li></ul></div>"
   ]
  },
  {
   "cell_type": "code",
   "execution_count": 1,
   "metadata": {
    "ExecuteTime": {
     "end_time": "2019-05-08T16:07:27.637369Z",
     "start_time": "2019-05-08T16:07:27.430257Z"
    }
   },
   "outputs": [],
   "source": [
    "import numpy as np\n",
    "myint = np.int8\n",
    "\n",
    "from vg import normalize"
   ]
  },
  {
   "cell_type": "code",
   "execution_count": 2,
   "metadata": {
    "ExecuteTime": {
     "end_time": "2019-05-08T16:07:27.658273Z",
     "start_time": "2019-05-08T16:07:27.638814Z"
    }
   },
   "outputs": [],
   "source": [
    "from bitarray import bitarray"
   ]
  },
  {
   "cell_type": "code",
   "execution_count": 3,
   "metadata": {
    "ExecuteTime": {
     "end_time": "2019-05-08T16:07:27.663085Z",
     "start_time": "2019-05-08T16:07:27.660382Z"
    }
   },
   "outputs": [],
   "source": [
    "from itertools import starmap, product"
   ]
  },
  {
   "cell_type": "code",
   "execution_count": 4,
   "metadata": {
    "ExecuteTime": {
     "end_time": "2019-05-08T16:07:27.668095Z",
     "start_time": "2019-05-08T16:07:27.665971Z"
    }
   },
   "outputs": [],
   "source": [
    "# from more_itertools import unique_everseen"
   ]
  },
  {
   "cell_type": "code",
   "execution_count": 5,
   "metadata": {
    "ExecuteTime": {
     "end_time": "2019-05-08T16:07:27.796588Z",
     "start_time": "2019-05-08T16:07:27.670508Z"
    }
   },
   "outputs": [],
   "source": [
    "from tqdm import tqdm\n",
    "\n",
    "from joblib import Parallel, delayed, Memory\n",
    "\n",
    "J = 30\n",
    "BACKEND = 'multiprocessing'\n",
    "# BACKEND = 'loky'\n",
    "V = 10\n",
    "PREFER = 'processes'\n",
    "# PREFER = 'threads'\n",
    "\n",
    "def par(gen_expr, j=None, backend=None, verbose=None, prefer=None):\n",
    "    if j is None:\n",
    "        j = J\n",
    "    if backend is None:\n",
    "        backend = BACKEND\n",
    "    if verbose is None:\n",
    "        verbose = V\n",
    "    if prefer is None:\n",
    "        prefer = PREFER\n",
    "    return Parallel(n_jobs=j, backend=backend, verbose=verbose, prefer=prefer)(gen_expr)\n",
    "\n",
    "def identity(x):\n",
    "    return x"
   ]
  },
  {
   "cell_type": "code",
   "execution_count": 6,
   "metadata": {
    "ExecuteTime": {
     "end_time": "2019-05-08T16:07:27.800329Z",
     "start_time": "2019-05-08T16:07:27.798293Z"
    }
   },
   "outputs": [],
   "source": [
    "from random import choice"
   ]
  },
  {
   "cell_type": "code",
   "execution_count": 7,
   "metadata": {
    "ExecuteTime": {
     "end_time": "2019-05-08T16:07:27.804996Z",
     "start_time": "2019-05-08T16:07:27.801682Z"
    }
   },
   "outputs": [],
   "source": [
    "CAREFUL = False"
   ]
  },
  {
   "cell_type": "markdown",
   "metadata": {},
   "source": [
    "# Overview"
   ]
  },
  {
   "cell_type": "markdown",
   "metadata": {},
   "source": [
    "Goal of this notebook: find / document representations of and operations on partial feature vectors with an eye towards efficient calculation."
   ]
  },
  {
   "cell_type": "markdown",
   "metadata": {},
   "source": [
    "# Comparison of basic representations and operations"
   ]
  },
  {
   "cell_type": "markdown",
   "metadata": {},
   "source": [
    "## Baseline representation of partial feature vectors"
   ]
  },
  {
   "cell_type": "markdown",
   "metadata": {},
   "source": [
    "A partial feature vector $p$ on $m$ features is an element of $\\{-1,0,1\\}^m$, where\n",
    " - $p_i = 0$ iff feature $i$ is unspecified\n",
    " - $p_i = -1$ iff feature $i$ is specified $-$\n",
    " - $p_i = 1$ iff feature $i$ is specified $+$"
   ]
  },
  {
   "cell_type": "markdown",
   "metadata": {},
   "source": [
    "Below this representation is implemented using `numpy` `int8` arrays and (usually) vectorized operations on them."
   ]
  },
  {
   "cell_type": "markdown",
   "metadata": {},
   "source": [
    "### Overhead - generation, well-formedness, uniquification"
   ]
  },
  {
   "cell_type": "code",
   "execution_count": 8,
   "metadata": {
    "ExecuteTime": {
     "end_time": "2019-05-08T16:07:27.825654Z",
     "start_time": "2019-05-08T16:07:27.806297Z"
    }
   },
   "outputs": [],
   "source": [
    "m = 3"
   ]
  },
  {
   "cell_type": "code",
   "execution_count": 9,
   "metadata": {
    "ExecuteTime": {
     "end_time": "2019-05-08T16:07:27.830703Z",
     "start_time": "2019-05-08T16:07:27.826975Z"
    }
   },
   "outputs": [],
   "source": [
    "def make_generator_vectors(num_features):\n",
    "    basis_vectors = [np.zeros(num_features, dtype=myint) for each in range(num_features)]\n",
    "    basis_vectors_neg = [np.zeros(num_features, dtype=myint) for each in range(num_features)]\n",
    "    for i,v in enumerate(basis_vectors):\n",
    "        v[i] = 1\n",
    "    for i,v in enumerate(basis_vectors_neg):\n",
    "        v[i] = -1\n",
    "    generators = basis_vectors + basis_vectors_neg\n",
    "    return generators"
   ]
  },
  {
   "cell_type": "code",
   "execution_count": 10,
   "metadata": {
    "ExecuteTime": {
     "end_time": "2019-05-08T16:07:27.841106Z",
     "start_time": "2019-05-08T16:07:27.831840Z"
    }
   },
   "outputs": [
    {
     "data": {
      "text/plain": [
       "[array([1, 0, 0], dtype=int8),\n",
       " array([0, 1, 0], dtype=int8),\n",
       " array([0, 0, 1], dtype=int8),\n",
       " array([-1,  0,  0], dtype=int8),\n",
       " array([ 0, -1,  0], dtype=int8),\n",
       " array([ 0,  0, -1], dtype=int8)]"
      ]
     },
     "execution_count": 10,
     "metadata": {},
     "output_type": "execute_result"
    }
   ],
   "source": [
    "generators = make_generator_vectors(m)\n",
    "generators"
   ]
  },
  {
   "cell_type": "code",
   "execution_count": 11,
   "metadata": {
    "ExecuteTime": {
     "end_time": "2019-05-08T16:07:27.845950Z",
     "start_time": "2019-05-08T16:07:27.842286Z"
    }
   },
   "outputs": [
    {
     "data": {
      "text/plain": [
       "8"
      ]
     },
     "execution_count": 11,
     "metadata": {},
     "output_type": "execute_result"
    },
    {
     "data": {
      "text/plain": [
       "27"
      ]
     },
     "execution_count": 11,
     "metadata": {},
     "output_type": "execute_result"
    }
   ],
   "source": [
    "max_num_objects = 2 ** m\n",
    "max_num_objects\n",
    "\n",
    "max_num_partial_fvs = (2 + 1) ** m\n",
    "max_num_partial_fvs"
   ]
  },
  {
   "cell_type": "code",
   "execution_count": 12,
   "metadata": {
    "ExecuteTime": {
     "end_time": "2019-05-08T16:07:27.849426Z",
     "start_time": "2019-05-08T16:07:27.847159Z"
    }
   },
   "outputs": [],
   "source": [
    "def wf_pfv(v):\n",
    "    allowedValues = {-1,0,1}\n",
    "    return all([x in allowedValues for x in v])"
   ]
  },
  {
   "cell_type": "code",
   "execution_count": 13,
   "metadata": {
    "ExecuteTime": {
     "end_time": "2019-05-08T16:07:27.853734Z",
     "start_time": "2019-05-08T16:07:27.850577Z"
    }
   },
   "outputs": [],
   "source": [
    "def make_random_pfv():\n",
    "    return np.random.randint(3, size=m, dtype=myint) - 1"
   ]
  },
  {
   "cell_type": "code",
   "execution_count": 14,
   "metadata": {
    "ExecuteTime": {
     "end_time": "2019-05-08T16:07:27.859221Z",
     "start_time": "2019-05-08T16:07:27.854837Z"
    }
   },
   "outputs": [],
   "source": [
    "def uniquify(ndarray_iterable):\n",
    "    tuples = [tuple(a) for a in ndarray_iterable]\n",
    "    s = set(tuples)\n",
    "    arrays = [np.array(t) for t in s]\n",
    "    return arrays"
   ]
  },
  {
   "cell_type": "markdown",
   "metadata": {},
   "source": [
    "### Agreement"
   ]
  },
  {
   "cell_type": "code",
   "execution_count": 15,
   "metadata": {
    "ExecuteTime": {
     "end_time": "2019-05-08T16:07:27.865083Z",
     "start_time": "2019-05-08T16:07:27.860383Z"
    }
   },
   "outputs": [],
   "source": [
    "def ag(x,y):\n",
    "    '''\n",
    "    Formula:\n",
    "    (x == 0 or y == 0) or ((x != 0 and y != 0) and (x == y)), where T = 1 and F = 0\n",
    "    \n",
    "    Pattern:\n",
    "    x = x ⟶ 1\n",
    "    0 = _ ⟶ 1\n",
    "    _ = 0 ⟶ 1\n",
    "    _ = _ ⟶ 0\n",
    "    '''\n",
    "    if x == y:\n",
    "        return True\n",
    "    elif x == 0:\n",
    "        return True\n",
    "    elif y == 0:\n",
    "        return True\n",
    "    else:\n",
    "        return False"
   ]
  },
  {
   "cell_type": "code",
   "execution_count": 16,
   "metadata": {
    "ExecuteTime": {
     "end_time": "2019-05-08T16:07:27.872786Z",
     "start_time": "2019-05-08T16:07:27.866192Z"
    }
   },
   "outputs": [],
   "source": [
    "def agree(u,v):\n",
    "    '''\n",
    "    Given two vectors u and v, returns a binary vector indicating,\n",
    "    elementwise, whether u and v 'agree'.\n",
    "    \n",
    "    agree(u[i], v[i]) iff (u[i] == 0 or v[i] == 0) or (u[i] == v[i])\n",
    "    '''\n",
    "#     return np.array([True if (u[i] == 0 or v[i] == 0) or (u[i] == v[i]) else False \n",
    "#                      for i in range(len(u))])\n",
    "    return np.array([1 if (u[i] == 0 or v[i] == 0) or (u[i] == v[i]) else 0 \n",
    "                     for i in range(len(u))], dtype=myint)\n",
    "\n",
    "def agree_(u,v):\n",
    "    '''\n",
    "    Given two vectors u and v, return 1 iff u and v agree at all indices\n",
    "    and 0 otherwise.\n",
    "    '''\n",
    "    ag = agree(u,v)\n",
    "    return int(ag.all())\n",
    "\n",
    "def agree_alt(u,v):\n",
    "    '''\n",
    "    Given two vectors u and v, return 1 iff u and v agree at all indices\n",
    "    and 0 otherwise.\n",
    "    '''\n",
    "    ag = agree(u,v)\n",
    "    total_agreement = np.linalg.norm(agree(u,v), 1) == m\n",
    "    return int(total_agreement)\n",
    "#     if total_agreement:\n",
    "#         return 1.0\n",
    "#     return 0.0"
   ]
  },
  {
   "cell_type": "code",
   "execution_count": 17,
   "metadata": {
    "ExecuteTime": {
     "end_time": "2019-05-08T16:07:27.878832Z",
     "start_time": "2019-05-08T16:07:27.873892Z"
    }
   },
   "outputs": [],
   "source": [
    "def make_agreeing_vector_pair(pred=None):\n",
    "    u = make_random_pfv()\n",
    "    v = make_random_pfv()\n",
    "    if pred is None:\n",
    "        while not agree_(u,v):\n",
    "            u = make_random_pfv()\n",
    "            v = make_random_pfv()\n",
    "        return u,v\n",
    "    while not agree_(u,v) and not pred(u,v):\n",
    "        u = make_random_pfv()\n",
    "        v = make_random_pfv()\n",
    "    return u,v"
   ]
  },
  {
   "cell_type": "code",
   "execution_count": 18,
   "metadata": {
    "ExecuteTime": {
     "end_time": "2019-05-08T16:07:28.507418Z",
     "start_time": "2019-05-08T16:07:27.882034Z"
    }
   },
   "outputs": [
    {
     "data": {
      "text/plain": [
       "100000"
      ]
     },
     "execution_count": 18,
     "metadata": {},
     "output_type": "execute_result"
    }
   ],
   "source": [
    "num_test_pairs = int(1e5)\n",
    "random_vector_pairs = [(make_random_pfv(), make_random_pfv()) for each in range(num_test_pairs)]\n",
    "len(random_vector_pairs)"
   ]
  },
  {
   "cell_type": "code",
   "execution_count": 19,
   "metadata": {
    "ExecuteTime": {
     "end_time": "2019-05-08T16:07:33.187034Z",
     "start_time": "2019-05-08T16:07:28.509535Z"
    }
   },
   "outputs": [],
   "source": [
    "for pair in random_vector_pairs:\n",
    "    assert agree_(*pair) == agree_alt(*pair)"
   ]
  },
  {
   "cell_type": "code",
   "execution_count": 20,
   "metadata": {
    "ExecuteTime": {
     "end_time": "2019-05-08T16:07:41.424171Z",
     "start_time": "2019-05-08T16:07:33.188626Z"
    }
   },
   "outputs": [
    {
     "name": "stdout",
     "output_type": "stream",
     "text": [
      "1.03 s ± 27 ms per loop (mean ± std. dev. of 7 runs, 1 loop each)\n"
     ]
    }
   ],
   "source": [
    "%%timeit\n",
    "\n",
    "list(starmap(agree, random_vector_pairs))"
   ]
  },
  {
   "cell_type": "code",
   "execution_count": 21,
   "metadata": {
    "ExecuteTime": {
     "end_time": "2019-05-08T16:07:52.442377Z",
     "start_time": "2019-05-08T16:07:41.425915Z"
    }
   },
   "outputs": [
    {
     "name": "stdout",
     "output_type": "stream",
     "text": [
      "1.38 s ± 18.5 ms per loop (mean ± std. dev. of 7 runs, 1 loop each)\n"
     ]
    }
   ],
   "source": [
    "%%timeit\n",
    "\n",
    "list(starmap(agree_, random_vector_pairs))"
   ]
  },
  {
   "cell_type": "code",
   "execution_count": 22,
   "metadata": {
    "ExecuteTime": {
     "end_time": "2019-05-08T16:08:17.433215Z",
     "start_time": "2019-05-08T16:07:52.443885Z"
    }
   },
   "outputs": [
    {
     "name": "stdout",
     "output_type": "stream",
     "text": [
      "3.13 s ± 44.7 ms per loop (mean ± std. dev. of 7 runs, 1 loop each)\n"
     ]
    }
   ],
   "source": [
    "%%timeit\n",
    "\n",
    "list(starmap(agree_alt, random_vector_pairs))"
   ]
  },
  {
   "cell_type": "code",
   "execution_count": 23,
   "metadata": {
    "ExecuteTime": {
     "end_time": "2019-05-08T16:08:22.272365Z",
     "start_time": "2019-05-08T16:08:17.436096Z"
    }
   },
   "outputs": [
    {
     "data": {
      "text/plain": [
       "100000"
      ]
     },
     "execution_count": 23,
     "metadata": {},
     "output_type": "execute_result"
    }
   ],
   "source": [
    "num_test_pairs = int(1e5)\n",
    "agreeing_vector_pairs = [make_agreeing_vector_pair() for each in range(num_test_pairs)]\n",
    "len(agreeing_vector_pairs)"
   ]
  },
  {
   "cell_type": "markdown",
   "metadata": {},
   "source": [
    "### Union"
   ]
  },
  {
   "cell_type": "markdown",
   "metadata": {},
   "source": [
    "The union of two partial feature vectors $u,v$ that agree should result in a partial feature vector that has every specified value in $u$, every specified value in $v$, and no other specified values.\n",
    "\n",
    "In general, the result is at least as specified as either $u$ or $v$: when $u=v$ $u \\cup v = u = v$ and $u \\cup v$ is no more specified, but otherwise $u \\cup v$ will be strictly more specified than either $u$ or $v$."
   ]
  },
  {
   "cell_type": "code",
   "execution_count": 24,
   "metadata": {
    "ExecuteTime": {
     "end_time": "2019-05-08T16:08:22.290775Z",
     "start_time": "2019-05-08T16:08:22.273929Z"
    }
   },
   "outputs": [
    {
     "data": {
      "text/plain": [
       "((-1, -1), (-1, 0), (-1, 1), (0, -1), (0, 0), (0, 1), (1, -1), (1, 0), (1, 1))"
      ]
     },
     "execution_count": 24,
     "metadata": {},
     "output_type": "execute_result"
    },
    {
     "data": {
      "text/plain": [
       "((-1, -1), -1)"
      ]
     },
     "execution_count": 24,
     "metadata": {},
     "output_type": "execute_result"
    },
    {
     "data": {
      "text/plain": [
       "((-1, 0), -1)"
      ]
     },
     "execution_count": 24,
     "metadata": {},
     "output_type": "execute_result"
    },
    {
     "data": {
      "text/plain": [
       "((-1, 1), 0)"
      ]
     },
     "execution_count": 24,
     "metadata": {},
     "output_type": "execute_result"
    },
    {
     "data": {
      "text/plain": [
       "((0, -1), -1)"
      ]
     },
     "execution_count": 24,
     "metadata": {},
     "output_type": "execute_result"
    },
    {
     "data": {
      "text/plain": [
       "((0, 0), 0)"
      ]
     },
     "execution_count": 24,
     "metadata": {},
     "output_type": "execute_result"
    },
    {
     "data": {
      "text/plain": [
       "((0, 1), 1)"
      ]
     },
     "execution_count": 24,
     "metadata": {},
     "output_type": "execute_result"
    },
    {
     "data": {
      "text/plain": [
       "((1, -1), 0)"
      ]
     },
     "execution_count": 24,
     "metadata": {},
     "output_type": "execute_result"
    },
    {
     "data": {
      "text/plain": [
       "((1, 0), 1)"
      ]
     },
     "execution_count": 24,
     "metadata": {},
     "output_type": "execute_result"
    },
    {
     "data": {
      "text/plain": [
       "((1, 1), 1)"
      ]
     },
     "execution_count": 24,
     "metadata": {},
     "output_type": "execute_result"
    }
   ],
   "source": [
    "XYs = tuple(product((-1,0,1), (-1,0,1)))\n",
    "XYs\n",
    "\n",
    "def cup(x,y):\n",
    "    '''\n",
    "    Formula:\n",
    "    x or y, where 1 = T, -1 = T, 0 = F\n",
    "    \n",
    "    Algebra:\n",
    "    0 is the identity ∀x ∈ {-1,0,+1}\n",
    "    x is its own identity ∀x ∈ {-1,0,+1}\n",
    "    (-1 and +1 are mutual inverses, but this case shouldn't occur when agree(x,y) holds)\n",
    "    \n",
    "    Pattern:\n",
    "    x ∪ x = x\n",
    "    \n",
    "    0 ∪ y = y\n",
    "    x ∪ 0 = x\n",
    "    \n",
    "    _ ∪ _ = 0  \\\\ <- shouldn't occur in two pfvs that agree\n",
    "    '''\n",
    "    if x == 0:  #if x is unspecified, return y\n",
    "        return y\n",
    "    elif y == 0: #if y is unspecified, return x\n",
    "        return x\n",
    "    elif x == y: #if both are specified and the same, return their common value\n",
    "        return x\n",
    "    else: #otherwise return 0\n",
    "        return 0\n",
    "\n",
    "for x,y in XYs:\n",
    "    ((x,y), cup(x,y))"
   ]
  },
  {
   "cell_type": "code",
   "execution_count": 25,
   "metadata": {
    "ExecuteTime": {
     "end_time": "2019-05-08T16:08:22.302742Z",
     "start_time": "2019-05-08T16:08:22.292454Z"
    }
   },
   "outputs": [],
   "source": [
    "def union(u, v):\n",
    "    if CAREFUL:\n",
    "        assert agree_(u,v)\n",
    "    return np.sign(u + v)\n",
    "\n",
    "def twoToOne(x):\n",
    "    if x != 2 and x != -2:\n",
    "        return x\n",
    "    elif x == 2:\n",
    "        return 1\n",
    "    else:\n",
    "        return -1\n",
    "\n",
    "twoToOne_v = np.vectorize(twoToOne)\n",
    "\n",
    "def union_alt(u, v):\n",
    "    if CAREFUL:\n",
    "        assert agree_(u,v)\n",
    "    return np.array(twoToOne_v(u + v), dtype=myint)\n",
    "\n",
    "def union_alt2(u, v):\n",
    "    if CAREFUL:\n",
    "        assert agree_(u,v)\n",
    "    s = u + v\n",
    "    return np.trunc( np.sqrt(np.abs(s)) ) * np.sign(s,dtype=myint)\n",
    "\n",
    "def union_alt3(u, v):\n",
    "    if CAREFUL:\n",
    "        assert agree_(u,v)\n",
    "    w = u.copy()\n",
    "    for i,x in enumerate(v):\n",
    "        if x != 0:\n",
    "            w[i] = x\n",
    "    return w\n",
    "\n",
    "def union_alt4(u, v):\n",
    "    if CAREFUL:\n",
    "        assert agree_(u,v)\n",
    "    return np.array([cup(u[i],v[i]) for i in range(m)], dtype=myint)\n",
    "\n",
    "cup_v = np.vectorize(cup)\n",
    "\n",
    "def union_alt5(u, v):\n",
    "    if CAREFUL:\n",
    "        assert agree_(u,v)\n",
    "    return np.array(cup_v(u,v), dtype=myint)"
   ]
  },
  {
   "cell_type": "code",
   "execution_count": 26,
   "metadata": {
    "ExecuteTime": {
     "end_time": "2019-05-08T16:08:22.318945Z",
     "start_time": "2019-05-08T16:08:22.304007Z"
    }
   },
   "outputs": [
    {
     "data": {
      "text/plain": [
       "(array([ 0,  1, -1], dtype=int8), array([1, 1, 0], dtype=int8))"
      ]
     },
     "execution_count": 26,
     "metadata": {},
     "output_type": "execute_result"
    },
    {
     "data": {
      "text/plain": [
       "array([ 1,  1, -1], dtype=int8)"
      ]
     },
     "execution_count": 26,
     "metadata": {},
     "output_type": "execute_result"
    },
    {
     "data": {
      "text/plain": [
       "array([ 1,  1, -1], dtype=int8)"
      ]
     },
     "execution_count": 26,
     "metadata": {},
     "output_type": "execute_result"
    },
    {
     "data": {
      "text/plain": [
       "array([ 1.,  1., -1.], dtype=float16)"
      ]
     },
     "execution_count": 26,
     "metadata": {},
     "output_type": "execute_result"
    },
    {
     "data": {
      "text/plain": [
       "array([ 1,  1, -1], dtype=int8)"
      ]
     },
     "execution_count": 26,
     "metadata": {},
     "output_type": "execute_result"
    },
    {
     "data": {
      "text/plain": [
       "array([ 1,  1, -1], dtype=int8)"
      ]
     },
     "execution_count": 26,
     "metadata": {},
     "output_type": "execute_result"
    },
    {
     "data": {
      "text/plain": [
       "array([ 1,  1, -1], dtype=int8)"
      ]
     },
     "execution_count": 26,
     "metadata": {},
     "output_type": "execute_result"
    }
   ],
   "source": [
    "test_pair = choice(agreeing_vector_pairs)\n",
    "test_pair\n",
    "\n",
    "union(*test_pair)\n",
    "union_alt(*test_pair)\n",
    "union_alt2(*test_pair)\n",
    "union_alt3(*test_pair)\n",
    "union_alt4(*test_pair)\n",
    "union_alt5(*test_pair)"
   ]
  },
  {
   "cell_type": "code",
   "execution_count": 27,
   "metadata": {
    "ExecuteTime": {
     "end_time": "2019-05-08T16:08:30.673831Z",
     "start_time": "2019-05-08T16:08:22.320174Z"
    }
   },
   "outputs": [
    {
     "name": "stdout",
     "output_type": "stream",
     "text": [
      "103 ms ± 1.6 ms per loop (mean ± std. dev. of 7 runs, 10 loops each)\n"
     ]
    }
   ],
   "source": [
    "%%timeit\n",
    "\n",
    "list(starmap(union, agreeing_vector_pairs));"
   ]
  },
  {
   "cell_type": "code",
   "execution_count": 28,
   "metadata": {
    "ExecuteTime": {
     "end_time": "2019-05-08T16:08:45.968939Z",
     "start_time": "2019-05-08T16:08:30.675291Z"
    }
   },
   "outputs": [
    {
     "name": "stdout",
     "output_type": "stream",
     "text": [
      "1.9 s ± 108 ms per loop (mean ± std. dev. of 7 runs, 1 loop each)\n"
     ]
    }
   ],
   "source": [
    "%%timeit\n",
    "\n",
    "list(starmap(union_alt, agreeing_vector_pairs));"
   ]
  },
  {
   "cell_type": "code",
   "execution_count": 29,
   "metadata": {
    "ExecuteTime": {
     "end_time": "2019-05-08T16:08:49.408378Z",
     "start_time": "2019-05-08T16:08:45.970410Z"
    }
   },
   "outputs": [
    {
     "name": "stdout",
     "output_type": "stream",
     "text": [
      "430 ms ± 3.67 ms per loop (mean ± std. dev. of 7 runs, 1 loop each)\n"
     ]
    }
   ],
   "source": [
    "%%timeit\n",
    "\n",
    "list(starmap(union_alt2, agreeing_vector_pairs));"
   ]
  },
  {
   "cell_type": "code",
   "execution_count": 30,
   "metadata": {
    "ExecuteTime": {
     "end_time": "2019-05-08T16:08:54.348690Z",
     "start_time": "2019-05-08T16:08:49.410098Z"
    }
   },
   "outputs": [
    {
     "name": "stdout",
     "output_type": "stream",
     "text": [
      "604 ms ± 17 ms per loop (mean ± std. dev. of 7 runs, 1 loop each)\n"
     ]
    }
   ],
   "source": [
    "%%timeit\n",
    "\n",
    "list(starmap(union_alt3, agreeing_vector_pairs));"
   ]
  },
  {
   "cell_type": "code",
   "execution_count": 31,
   "metadata": {
    "ExecuteTime": {
     "end_time": "2019-05-08T16:09:02.174698Z",
     "start_time": "2019-05-08T16:08:54.350104Z"
    }
   },
   "outputs": [
    {
     "name": "stdout",
     "output_type": "stream",
     "text": [
      "976 ms ± 9.1 ms per loop (mean ± std. dev. of 7 runs, 1 loop each)\n"
     ]
    }
   ],
   "source": [
    "%%timeit\n",
    "\n",
    "list(starmap(union_alt4, agreeing_vector_pairs));"
   ]
  },
  {
   "cell_type": "code",
   "execution_count": 32,
   "metadata": {
    "ExecuteTime": {
     "end_time": "2019-05-08T16:09:18.439664Z",
     "start_time": "2019-05-08T16:09:02.175719Z"
    }
   },
   "outputs": [
    {
     "name": "stdout",
     "output_type": "stream",
     "text": [
      "2.03 s ± 63.9 ms per loop (mean ± std. dev. of 7 runs, 1 loop each)\n"
     ]
    }
   ],
   "source": [
    "%%timeit\n",
    "\n",
    "list(starmap(union_alt5, agreeing_vector_pairs));"
   ]
  },
  {
   "cell_type": "markdown",
   "metadata": {},
   "source": [
    "### Intersection"
   ]
  },
  {
   "cell_type": "markdown",
   "metadata": {},
   "source": [
    "The intersection of two partial feature vectors $u,v$ should result in a partial feature vector that has every specified value that is specified in both $u$ and $v$ and where $u$ and $v$ agree, and no other specified values.\n",
    "\n",
    "In general, the result is no more specified than either $u$ or $v$: when $u=v$ $u \\cap v = u = v$ and $u \\cap v$ is no less specified, but otherwise $u \\cap v$ will be strictly less specified than either $u$ or $v$."
   ]
  },
  {
   "cell_type": "code",
   "execution_count": 33,
   "metadata": {
    "ExecuteTime": {
     "end_time": "2019-05-08T16:09:18.460622Z",
     "start_time": "2019-05-08T16:09:18.440830Z"
    }
   },
   "outputs": [
    {
     "data": {
      "text/plain": [
       "((-1, -1), (-1, 0), (-1, 1), (0, -1), (0, 0), (0, 1), (1, -1), (1, 0), (1, 1))"
      ]
     },
     "execution_count": 33,
     "metadata": {},
     "output_type": "execute_result"
    },
    {
     "data": {
      "text/plain": [
       "((-1, -1), -1, -1, -1.0, -1)"
      ]
     },
     "execution_count": 33,
     "metadata": {},
     "output_type": "execute_result"
    },
    {
     "data": {
      "text/plain": [
       "((-1, 0), 0, 0, 0.0, 0)"
      ]
     },
     "execution_count": 33,
     "metadata": {},
     "output_type": "execute_result"
    },
    {
     "data": {
      "text/plain": [
       "((-1, 1), 0, 0, 0.0, 0)"
      ]
     },
     "execution_count": 33,
     "metadata": {},
     "output_type": "execute_result"
    },
    {
     "data": {
      "text/plain": [
       "((0, -1), 0, 0, 0.0, 0)"
      ]
     },
     "execution_count": 33,
     "metadata": {},
     "output_type": "execute_result"
    },
    {
     "data": {
      "text/plain": [
       "((0, 0), 0, 0, 0.0, 0)"
      ]
     },
     "execution_count": 33,
     "metadata": {},
     "output_type": "execute_result"
    },
    {
     "data": {
      "text/plain": [
       "((0, 1), 0, 0, 0.0, 0)"
      ]
     },
     "execution_count": 33,
     "metadata": {},
     "output_type": "execute_result"
    },
    {
     "data": {
      "text/plain": [
       "((1, -1), 0, 0, 0.0, 0)"
      ]
     },
     "execution_count": 33,
     "metadata": {},
     "output_type": "execute_result"
    },
    {
     "data": {
      "text/plain": [
       "((1, 0), 0, 0, 0.0, 0)"
      ]
     },
     "execution_count": 33,
     "metadata": {},
     "output_type": "execute_result"
    },
    {
     "data": {
      "text/plain": [
       "((1, 1), 1, 1, 1.0, 1)"
      ]
     },
     "execution_count": 33,
     "metadata": {},
     "output_type": "execute_result"
    }
   ],
   "source": [
    "XYs = tuple(product((-1,0,1), (-1,0,1)))\n",
    "XYs \n",
    "    \n",
    "def cap(x,y):\n",
    "    '''\n",
    "    Algebra:\n",
    "    0 is the annihilating element ∀x ∈ {-1,0,+1}\n",
    "    x is its own identity ∀x ∈ {-1,0,+1}\n",
    "    -1 and +1 annihilate each other\n",
    "    \n",
    "    Pattern:\n",
    "    x ∩ x = x\n",
    "    \n",
    "    0 ∩ _ = 0\n",
    "    _ ∩ 0 = 0\n",
    "    \n",
    "    _ ∩ _ = 0\n",
    "    '''\n",
    "    if x == 0: #if x is unspecified, return 0\n",
    "        return 0\n",
    "    elif y == 0: #if y is unspecified, return 0\n",
    "        return 0\n",
    "    elif x == y: #if both are specified and the same, return their common value\n",
    "        return x\n",
    "    else: #otherwise return 0\n",
    "        return 0\n",
    "\n",
    "def foo(x,y):\n",
    "    return np.sign( (x == y) * (x + y) )\n",
    "\n",
    "def bar(x,y):\n",
    "    return (x == y) * (x + y) * 0.5\n",
    "\n",
    "def baz(x,y):\n",
    "    return (x == y) * int((x + y) / 2)\n",
    "\n",
    "for x,y in XYs:\n",
    "#     ((x,y), cap(x,y))\n",
    "    ((x,y), cap(x,y), foo(x,y), bar(x,y), baz(x,y))"
   ]
  },
  {
   "cell_type": "code",
   "execution_count": 34,
   "metadata": {
    "ExecuteTime": {
     "end_time": "2019-05-08T16:09:18.465731Z",
     "start_time": "2019-05-08T16:09:18.461610Z"
    }
   },
   "outputs": [],
   "source": [
    "def intersection(u, v):\n",
    "    return np.sign(  np.equal(u, v) * (u + v) )\n",
    "\n",
    "def intersection_alt(u, v):\n",
    "    return np.array([cap(u[i],v[i]) for i in range(m)], dtype=myint)\n",
    "\n",
    "def intersection_alt2(u, v):\n",
    "    return np.array(np.equal(u, v) * (u + v) * 0.5, dtype=myint)\n",
    "\n",
    "def intersection_alt3(u, v):\n",
    "    return np.array([bar(u[i], v[i]) for i in range(m)], dtype=myint)"
   ]
  },
  {
   "cell_type": "code",
   "execution_count": 35,
   "metadata": {
    "ExecuteTime": {
     "end_time": "2019-05-08T16:09:18.474753Z",
     "start_time": "2019-05-08T16:09:18.466628Z"
    }
   },
   "outputs": [
    {
     "data": {
      "text/plain": [
       "(array([0, 1, 0], dtype=int8), array([ 1,  1, -1], dtype=int8))"
      ]
     },
     "execution_count": 35,
     "metadata": {},
     "output_type": "execute_result"
    },
    {
     "data": {
      "text/plain": [
       "array([0, 1, 0], dtype=int8)"
      ]
     },
     "execution_count": 35,
     "metadata": {},
     "output_type": "execute_result"
    },
    {
     "data": {
      "text/plain": [
       "array([0, 1, 0], dtype=int8)"
      ]
     },
     "execution_count": 35,
     "metadata": {},
     "output_type": "execute_result"
    },
    {
     "data": {
      "text/plain": [
       "array([0, 1, 0], dtype=int8)"
      ]
     },
     "execution_count": 35,
     "metadata": {},
     "output_type": "execute_result"
    },
    {
     "data": {
      "text/plain": [
       "array([0, 1, 0], dtype=int8)"
      ]
     },
     "execution_count": 35,
     "metadata": {},
     "output_type": "execute_result"
    }
   ],
   "source": [
    "test_pair = choice(random_vector_pairs)\n",
    "test_pair\n",
    "\n",
    "intersection(*test_pair)\n",
    "intersection_alt(*test_pair)\n",
    "intersection_alt2(*test_pair)\n",
    "intersection_alt3(*test_pair)"
   ]
  },
  {
   "cell_type": "code",
   "execution_count": 36,
   "metadata": {
    "ExecuteTime": {
     "end_time": "2019-05-08T16:09:25.271558Z",
     "start_time": "2019-05-08T16:09:18.476166Z"
    }
   },
   "outputs": [],
   "source": [
    "for pair in random_vector_pairs:\n",
    "    assert np.array_equal(intersection(*pair), intersection_alt(*pair)), 'Agreement failure on {0}'.format(pair)\n",
    "    assert np.array_equal(intersection_alt2(*pair), intersection_alt(*pair)), 'Agreement failure on {0}'.format(pair)\n",
    "    assert np.array_equal(intersection_alt3(*pair), intersection_alt(*pair)), 'Agreement failure on {0}'.format(pair)"
   ]
  },
  {
   "cell_type": "code",
   "execution_count": 37,
   "metadata": {
    "ExecuteTime": {
     "end_time": "2019-05-08T16:09:27.133894Z",
     "start_time": "2019-05-08T16:09:25.272727Z"
    }
   },
   "outputs": [
    {
     "name": "stdout",
     "output_type": "stream",
     "text": [
      "227 ms ± 4.29 ms per loop (mean ± std. dev. of 7 runs, 1 loop each)\n"
     ]
    }
   ],
   "source": [
    "%%timeit\n",
    "\n",
    "list(starmap(intersection, random_vector_pairs));"
   ]
  },
  {
   "cell_type": "code",
   "execution_count": 38,
   "metadata": {
    "ExecuteTime": {
     "end_time": "2019-05-08T16:09:35.386891Z",
     "start_time": "2019-05-08T16:09:27.135082Z"
    }
   },
   "outputs": [
    {
     "name": "stdout",
     "output_type": "stream",
     "text": [
      "1.03 s ± 16 ms per loop (mean ± std. dev. of 7 runs, 1 loop each)\n"
     ]
    }
   ],
   "source": [
    "%%timeit\n",
    "\n",
    "list(starmap(intersection_alt, random_vector_pairs));"
   ]
  },
  {
   "cell_type": "code",
   "execution_count": 39,
   "metadata": {
    "ExecuteTime": {
     "end_time": "2019-05-08T16:09:38.658632Z",
     "start_time": "2019-05-08T16:09:35.388082Z"
    }
   },
   "outputs": [
    {
     "name": "stdout",
     "output_type": "stream",
     "text": [
      "406 ms ± 2.53 ms per loop (mean ± std. dev. of 7 runs, 1 loop each)\n"
     ]
    }
   ],
   "source": [
    "%%timeit\n",
    "\n",
    "list(starmap(intersection_alt2, random_vector_pairs));"
   ]
  },
  {
   "cell_type": "code",
   "execution_count": 40,
   "metadata": {
    "ExecuteTime": {
     "end_time": "2019-05-08T16:09:50.594567Z",
     "start_time": "2019-05-08T16:09:38.660269Z"
    }
   },
   "outputs": [
    {
     "name": "stdout",
     "output_type": "stream",
     "text": [
      "1.49 s ± 19.7 ms per loop (mean ± std. dev. of 7 runs, 1 loop each)\n"
     ]
    }
   ],
   "source": [
    "%%timeit\n",
    "\n",
    "list(starmap(intersection_alt3, random_vector_pairs));"
   ]
  },
  {
   "cell_type": "markdown",
   "metadata": {},
   "source": [
    "## Specification array + value array"
   ]
  },
  {
   "cell_type": "markdown",
   "metadata": {},
   "source": [
    "This representation of a partial feature vector $p$ uses two bit sequences, $s$ and $v$\n",
    " - $s_i = 0$ iff $p_i = 0$ and is otherwise $1$\n",
    " - $v_i = 0$ if $p_i = -1$\n",
    " - $v_i = 1$ if $p_i = 1$\n",
    "\n",
    "Note that the value of $v_i$ is unspecified if $p_i = 0$."
   ]
  },
  {
   "cell_type": "markdown",
   "metadata": {},
   "source": [
    "### Converting between representations"
   ]
  },
  {
   "cell_type": "code",
   "execution_count": 41,
   "metadata": {
    "ExecuteTime": {
     "end_time": "2019-05-08T16:09:50.598983Z",
     "start_time": "2019-05-08T16:09:50.596218Z"
    }
   },
   "outputs": [],
   "source": [
    "spec_cb = {-1:bitarray('1'),\n",
    "            0:bitarray('0'),\n",
    "            1:bitarray('1')}\n",
    "val_cb = {-1:bitarray('0'),\n",
    "           0:bitarray('0'),\n",
    "           1:bitarray('1')}"
   ]
  },
  {
   "cell_type": "code",
   "execution_count": 42,
   "metadata": {
    "ExecuteTime": {
     "end_time": "2019-05-08T16:09:50.606464Z",
     "start_time": "2019-05-08T16:09:50.600015Z"
    }
   },
   "outputs": [],
   "source": [
    "def pfv_to_sv(pfv):\n",
    "    s = bitarray()\n",
    "    s.encode(spec_cb, list(pfv))\n",
    "    v = bitarray()\n",
    "    v.encode(val_cb, list(pfv))\n",
    "    return s,v\n",
    "\n",
    "def sv_to_pfv(s,v):\n",
    "#     print('s,v = {0}, {1}'.format(s.to01(), v.to01()))\n",
    "    specified = np.array(s.tolist(), dtype=myint)\n",
    "    values = np.array(v.tolist(), dtype=myint)\n",
    "#     print('\\ts,v = {0}, {1}'.format(specified, values))\n",
    "    for i in range(m):\n",
    "        if specified[i] != 0:\n",
    "            specified[i] = 1 if values[i] else -1\n",
    "#     print('\\ts = {0}'.format(specified))\n",
    "    return specified"
   ]
  },
  {
   "cell_type": "code",
   "execution_count": 43,
   "metadata": {
    "ExecuteTime": {
     "end_time": "2019-05-08T16:09:50.912236Z",
     "start_time": "2019-05-08T16:09:50.607629Z"
    }
   },
   "outputs": [
    {
     "data": {
      "text/plain": [
       "100000"
      ]
     },
     "execution_count": 43,
     "metadata": {},
     "output_type": "execute_result"
    }
   ],
   "source": [
    "num_test_pairs = int(1e5)\n",
    "random_vectors = [make_random_pfv() for each in range(num_test_pairs)]\n",
    "len(random_vectors)"
   ]
  },
  {
   "cell_type": "code",
   "execution_count": 44,
   "metadata": {
    "ExecuteTime": {
     "end_time": "2019-05-08T16:09:53.509609Z",
     "start_time": "2019-05-08T16:09:50.913760Z"
    }
   },
   "outputs": [],
   "source": [
    "for p in random_vectors:\n",
    "    s,v = pfv_to_sv(p)\n",
    "    p_prime = sv_to_pfv(s,v)\n",
    "    assert np.array_equal(p, p_prime), 'Conversion failure on {0}'.format(pair)"
   ]
  },
  {
   "cell_type": "markdown",
   "metadata": {},
   "source": [
    "### Operations"
   ]
  },
  {
   "cell_type": "markdown",
   "metadata": {},
   "source": [
    "If $p,q$ are two partial feature vectors and $(s^p, v^p), (s^q, v^q)$ are their associated specification and value bitvectors, then:"
   ]
  },
  {
   "cell_type": "markdown",
   "metadata": {},
   "source": [
    "We can define an element-wise agree operation by pattern matching:\n",
    "```\n",
    "agree((s^p_i,v^p_i), (s^q_i,v^q_i)):\n",
    "    (s_w, s_x) = (s_w, s_x) ⟶ 1\n",
    "    (0,0)      = (_, _)     ⟶ 1\n",
    "    (_, _)     = (0,0)      ⟶ 1\n",
    "    _          = _          ⟶ 0\n",
    "```\n",
    "Or perhaps more clearly by Boolean formula:\n",
    " - $\\text{agree}(s^p_i,v^p_i,s^q_i,v^q_i) = (\\neg s^p_i \\lor \\neg s^q_i) \\lor ((s^p_i \\land s^q_i) \\land (v^p_i \\iff v^q_i)) $"
   ]
  },
  {
   "cell_type": "markdown",
   "metadata": {},
   "source": [
    "We can define an element-wise union operation (assuming agreement holds) by pattern matching:\n",
    "```\n",
    "Assuming agree(p,q) holds:\n",
    "\n",
    "cup((s^p_i,v^p_i), (s^q_i,v^q_i)):\n",
    "    (s_w, s_x) ∪ (s_w, s_x) = (s_w, s_x)\n",
    "    (0,0)      ∪ (s_y, s_z) = (s_y, s_z)\n",
    "    (s_w, s_x) ∪ (0,0)      = (s_w, s_x)\n",
    "    _          ∪ _          = (0,0)\n",
    "```\n",
    "Or again, more clearly by Boolean formula:\n",
    " - $\\text{cup}(s^p_i,v^p_i,s^q_i,v^q_i) = (s^p_i \\lor s^q_i, v^p_i \\lor v^q_i)$\n",
    "\n",
    "I.e. we can take the `bitwise or` of respective specification vectors and value vectors to get the specification and value vector of the union of two partial feature vectors."
   ]
  },
  {
   "cell_type": "markdown",
   "metadata": {},
   "source": [
    "We can define an element-wise intersection operation by pattern matching:\n",
    "```\n",
    "cap((s^p_i,v^p_i), (s^q_i,v^q_i)):\n",
    "    (s_w, s_x) ∩ (s_w, s_x) = (s_w, s_x)\n",
    "    (0,0)      ∩ (_, _)     = (0,0)\n",
    "    (_, _)     ∩ (0,0)      = (0,0)\n",
    "    _          ∩ _          = (0,0)\n",
    "```\n",
    "...or by Boolean formula\n",
    " - $\\text{cap}(s^p_i,v^p_i,s^q_i,v^q_i) = ((s^p_i \\land s^q_i) \\land (v^p_i \\iff v^q_i), v^p_i \\land v^q_i)$"
   ]
  },
  {
   "cell_type": "code",
   "execution_count": 45,
   "metadata": {
    "ExecuteTime": {
     "end_time": "2019-05-08T16:09:53.515093Z",
     "start_time": "2019-05-08T16:09:53.511196Z"
    }
   },
   "outputs": [],
   "source": [
    "def xor(p,q):\n",
    "    return (p & ~q) | (~p & q)\n",
    "\n",
    "def ifthen(p,q):\n",
    "    return ~p | q\n",
    "\n",
    "def iff(p,q):\n",
    "    return ifthen(p,q) & ifthen(q,p)\n",
    "\n",
    "assert xor(bitarray('0011'), bitarray('0101')) == bitarray('0110')\n",
    "assert ifthen(bitarray('0011'), bitarray('0101')) == bitarray('1101')\n",
    "assert iff(bitarray('0011'), bitarray('0101')) == bitarray('1001')"
   ]
  },
  {
   "cell_type": "code",
   "execution_count": 46,
   "metadata": {
    "ExecuteTime": {
     "end_time": "2019-05-08T16:09:53.525909Z",
     "start_time": "2019-05-08T16:09:53.516349Z"
    }
   },
   "outputs": [],
   "source": [
    "def agree_ba(s_p, v_p, s_q, v_q):\n",
    "    return (~s_p | ~s_q) | ((s_p & s_q) & iff(v_p, v_q))\n",
    "\n",
    "def union_ba(s_p, v_p, s_q, v_q):\n",
    "    return s_p | s_q, v_p | v_q\n",
    "\n",
    "def intersection_ba(s_p, v_p, s_q, v_q):\n",
    "    return (s_p & s_q) & iff(v_p, v_q), v_p & v_q"
   ]
  },
  {
   "cell_type": "markdown",
   "metadata": {},
   "source": [
    "Below we test that they have the same behavior as the baseline representation and operations:"
   ]
  },
  {
   "cell_type": "code",
   "execution_count": 47,
   "metadata": {
    "ExecuteTime": {
     "end_time": "2019-05-08T16:09:59.542526Z",
     "start_time": "2019-05-08T16:09:53.526993Z"
    }
   },
   "outputs": [],
   "source": [
    "for p,q in agreeing_vector_pairs:\n",
    "    s_p, v_p = pfv_to_sv(p)\n",
    "    s_q, v_q = pfv_to_sv(q)\n",
    "    assert np.array_equal(agree(p,q), np.array(list(agree_ba(s_p, v_p, s_q, v_q)), dtype=myint))\n",
    "    assert np.array_equal(union(p,q), sv_to_pfv(*union_ba(s_p, v_p, s_q, v_q)))"
   ]
  },
  {
   "cell_type": "code",
   "execution_count": 48,
   "metadata": {
    "ExecuteTime": {
     "end_time": "2019-05-08T16:10:06.285370Z",
     "start_time": "2019-05-08T16:09:59.543981Z"
    }
   },
   "outputs": [],
   "source": [
    "for p,q in random_vector_pairs:\n",
    "    s_p, v_p = pfv_to_sv(p)\n",
    "    s_q, v_q = pfv_to_sv(q)\n",
    "    assert np.array_equal(agree(p,q), np.array(list(agree_ba(s_p, v_p, s_q, v_q)), dtype=myint))\n",
    "    assert np.array_equal(intersection(p,q), sv_to_pfv(*intersection_ba(s_p, v_p, s_q, v_q)))"
   ]
  },
  {
   "cell_type": "markdown",
   "metadata": {},
   "source": [
    "### Performance evaluation"
   ]
  },
  {
   "cell_type": "markdown",
   "metadata": {},
   "source": [
    "Now we compare timing:"
   ]
  },
  {
   "cell_type": "code",
   "execution_count": 49,
   "metadata": {
    "ExecuteTime": {
     "end_time": "2019-05-08T16:10:11.238387Z",
     "start_time": "2019-05-08T16:10:06.286930Z"
    }
   },
   "outputs": [],
   "source": [
    "agreeing_vector_pairs_ba = [(pfv_to_sv(u)[0], pfv_to_sv(u)[1], pfv_to_sv(v)[0], pfv_to_sv(v)[1]) for u,v in agreeing_vector_pairs]"
   ]
  },
  {
   "cell_type": "code",
   "execution_count": 50,
   "metadata": {
    "ExecuteTime": {
     "end_time": "2019-05-08T16:10:16.307644Z",
     "start_time": "2019-05-08T16:10:11.239887Z"
    }
   },
   "outputs": [],
   "source": [
    "random_vector_pairs_ba = [(pfv_to_sv(u)[0], pfv_to_sv(u)[1], pfv_to_sv(v)[0], pfv_to_sv(v)[1]) for u,v in random_vector_pairs]"
   ]
  },
  {
   "cell_type": "code",
   "execution_count": 51,
   "metadata": {
    "ExecuteTime": {
     "end_time": "2019-05-08T16:10:16.313837Z",
     "start_time": "2019-05-08T16:10:16.309215Z"
    }
   },
   "outputs": [],
   "source": [
    "def unpack_pfv_pair(pair):\n",
    "    p = pair[0]\n",
    "    q = pair[1]\n",
    "    s_p, v_p = pfv_to_sv(p)\n",
    "    s_q, v_q = pfv_to_sv(q)\n",
    "    return (s_p, v_p, s_q, v_q)\n",
    "\n",
    "# def unpack_sv_pair_pair(sv_pair_pair):\n",
    "#     s_p, v_p = sv_pair_pair[0][0], sv_pair_pair[0][1]\n",
    "#     s_q, v_q = sv_pair_pair[1][2], sv_pair_pair[1][1]\n",
    "#     return (s_p, v_p, s_q, v_q)"
   ]
  },
  {
   "cell_type": "code",
   "execution_count": 52,
   "metadata": {
    "ExecuteTime": {
     "end_time": "2019-05-08T16:10:24.579644Z",
     "start_time": "2019-05-08T16:10:16.315082Z"
    }
   },
   "outputs": [
    {
     "name": "stdout",
     "output_type": "stream",
     "text": [
      "1.03 s ± 10.9 ms per loop (mean ± std. dev. of 7 runs, 1 loop each)\n"
     ]
    }
   ],
   "source": [
    "%%timeit\n",
    "\n",
    "list(starmap(agree, random_vector_pairs))"
   ]
  },
  {
   "cell_type": "code",
   "execution_count": 53,
   "metadata": {
    "ExecuteTime": {
     "end_time": "2019-05-08T16:10:26.474914Z",
     "start_time": "2019-05-08T16:10:24.581158Z"
    }
   },
   "outputs": [
    {
     "name": "stdout",
     "output_type": "stream",
     "text": [
      "237 ms ± 5.2 ms per loop (mean ± std. dev. of 7 runs, 1 loop each)\n"
     ]
    }
   ],
   "source": [
    "%%timeit\n",
    "\n",
    "list(starmap(agree_ba, random_vector_pairs_ba))"
   ]
  },
  {
   "cell_type": "code",
   "execution_count": 54,
   "metadata": {
    "ExecuteTime": {
     "end_time": "2019-05-08T16:10:35.176851Z",
     "start_time": "2019-05-08T16:10:26.476420Z"
    }
   },
   "outputs": [
    {
     "name": "stdout",
     "output_type": "stream",
     "text": [
      "107 ms ± 1.16 ms per loop (mean ± std. dev. of 7 runs, 10 loops each)\n"
     ]
    }
   ],
   "source": [
    "%%timeit\n",
    "\n",
    "list(starmap(union, agreeing_vector_pairs))"
   ]
  },
  {
   "cell_type": "code",
   "execution_count": 55,
   "metadata": {
    "ExecuteTime": {
     "end_time": "2019-05-08T16:10:39.670090Z",
     "start_time": "2019-05-08T16:10:35.178364Z"
    }
   },
   "outputs": [
    {
     "name": "stdout",
     "output_type": "stream",
     "text": [
      "55.4 ms ± 1.1 ms per loop (mean ± std. dev. of 7 runs, 10 loops each)\n"
     ]
    }
   ],
   "source": [
    "%%timeit\n",
    "\n",
    "list(starmap(union_ba, agreeing_vector_pairs_ba))"
   ]
  },
  {
   "cell_type": "code",
   "execution_count": 56,
   "metadata": {
    "ExecuteTime": {
     "end_time": "2019-05-08T16:10:41.496195Z",
     "start_time": "2019-05-08T16:10:39.671622Z"
    }
   },
   "outputs": [
    {
     "name": "stdout",
     "output_type": "stream",
     "text": [
      "227 ms ± 2.37 ms per loop (mean ± std. dev. of 7 runs, 1 loop each)\n"
     ]
    }
   ],
   "source": [
    "%%timeit\n",
    "\n",
    "list(starmap(intersection, random_vector_pairs))"
   ]
  },
  {
   "cell_type": "code",
   "execution_count": 57,
   "metadata": {
    "ExecuteTime": {
     "end_time": "2019-05-08T16:10:43.129707Z",
     "start_time": "2019-05-08T16:10:41.497992Z"
    }
   },
   "outputs": [
    {
     "name": "stdout",
     "output_type": "stream",
     "text": [
      "203 ms ± 6.04 ms per loop (mean ± std. dev. of 7 runs, 1 loop each)\n"
     ]
    }
   ],
   "source": [
    "%%timeit\n",
    "\n",
    "list(starmap(intersection_ba, random_vector_pairs_ba))"
   ]
  },
  {
   "cell_type": "markdown",
   "metadata": {},
   "source": [
    "#### Conclusion"
   ]
  },
  {
   "cell_type": "markdown",
   "metadata": {},
   "source": [
    "In the baseline representation:\n",
    " - `agreement` checking is very expensive, taking ≈10x longer than `union`ing and ≈5x longer than `intersect`ing\n",
    "\n",
    "In the bitarray representation:\n",
    " - `agreement` checking and `intersection` take comparably long, and both take about 5x longer than `union`\n",
    "\n",
    "`agreement` checking is about 5x faster with bitarrays than with the baseline representation, `intersection` is about 1.25x faster, and `union` is about 2x faster."
   ]
  },
  {
   "cell_type": "markdown",
   "metadata": {},
   "source": [
    "## Matrix extension of the baseline representation"
   ]
  },
  {
   "cell_type": "code",
   "execution_count": 59,
   "metadata": {
    "ExecuteTime": {
     "end_time": "2019-05-08T16:10:43.143565Z",
     "start_time": "2019-05-08T16:10:43.138580Z"
    }
   },
   "outputs": [
    {
     "data": {
      "text/plain": [
       "[(array([0, 1, 1], dtype=int8), array([0, 1, 1], dtype=int8)),\n",
       " (array([0, 1, 0], dtype=int8), array([-1,  0, -1], dtype=int8)),\n",
       " (array([ 0,  1, -1], dtype=int8), array([-1, -1,  1], dtype=int8))]"
      ]
     },
     "execution_count": 59,
     "metadata": {},
     "output_type": "execute_result"
    }
   ],
   "source": [
    "random_stack_list = random_vector_pairs[:3]; random_stack_list"
   ]
  },
  {
   "cell_type": "code",
   "execution_count": 61,
   "metadata": {
    "ExecuteTime": {
     "end_time": "2019-05-08T16:10:54.910659Z",
     "start_time": "2019-05-08T16:10:54.903913Z"
    }
   },
   "outputs": [
    {
     "data": {
      "text/plain": [
       "[(array([0, 1, 1], dtype=int8), array([0, 1, 1], dtype=int8)),\n",
       " (array([0, 1, 0], dtype=int8), array([-1,  0, -1], dtype=int8)),\n",
       " (array([ 0,  1, -1], dtype=int8), array([-1, -1,  1], dtype=int8)),\n",
       " (array([-1, -1, -1], dtype=int8), array([-1, -1,  0], dtype=int8)),\n",
       " (array([0, 0, 0], dtype=int8), array([ 1, -1,  1], dtype=int8)),\n",
       " (array([0, 1, 0], dtype=int8), array([-1, -1, -1], dtype=int8)),\n",
       " (array([-1,  1,  0], dtype=int8), array([ 0, -1, -1], dtype=int8)),\n",
       " (array([-1, -1,  0], dtype=int8), array([-1,  1, -1], dtype=int8)),\n",
       " (array([0, 1, 1], dtype=int8), array([-1,  0,  0], dtype=int8)),\n",
       " (array([ 1, -1, -1], dtype=int8), array([0, 1, 1], dtype=int8))]"
      ]
     },
     "execution_count": 61,
     "metadata": {},
     "output_type": "execute_result"
    }
   ],
   "source": [
    "random_vector_pairs[:10]"
   ]
  },
  {
   "cell_type": "code",
   "execution_count": 69,
   "metadata": {
    "ExecuteTime": {
     "end_time": "2019-05-08T16:13:49.194101Z",
     "start_time": "2019-05-08T16:13:49.111450Z"
    }
   },
   "outputs": [
    {
     "data": {
      "text/plain": [
       "dtype('int8')"
      ]
     },
     "execution_count": 69,
     "metadata": {},
     "output_type": "execute_result"
    },
    {
     "data": {
      "text/plain": [
       "dtype('int8')"
      ]
     },
     "execution_count": 69,
     "metadata": {},
     "output_type": "execute_result"
    }
   ],
   "source": [
    "first = lambda seq: seq[0]\n",
    "second = lambda seq: seq[1]\n",
    "\n",
    "stack_a, stack_b = list(map(first, random_vector_pairs)), list(map(second, random_vector_pairs))\n",
    "random_pair_stack_a, random_pair_stack_b = np.array(stack_a), np.array(stack_b)\n",
    "random_pair_stack_a.dtype\n",
    "random_pair_stack_b.dtype"
   ]
  },
  {
   "cell_type": "code",
   "execution_count": 70,
   "metadata": {
    "ExecuteTime": {
     "end_time": "2019-05-08T16:14:40.308543Z",
     "start_time": "2019-05-08T16:14:40.230732Z"
    }
   },
   "outputs": [
    {
     "data": {
      "text/plain": [
       "dtype('int8')"
      ]
     },
     "execution_count": 70,
     "metadata": {},
     "output_type": "execute_result"
    },
    {
     "data": {
      "text/plain": [
       "dtype('int8')"
      ]
     },
     "execution_count": 70,
     "metadata": {},
     "output_type": "execute_result"
    }
   ],
   "source": [
    "stack_a, stack_b = list(map(first, agreeing_vector_pairs)), list(map(second, agreeing_vector_pairs))\n",
    "agreeing_pair_stack_a, agreeing_pair_stack_b = np.array(stack_a), np.array(stack_b)\n",
    "agreeing_pair_stack_a.dtype\n",
    "agreeing_pair_stack_b.dtype"
   ]
  },
  {
   "cell_type": "markdown",
   "metadata": {},
   "source": [
    "### Agreement testing"
   ]
  },
  {
   "cell_type": "code",
   "execution_count": 73,
   "metadata": {
    "ExecuteTime": {
     "end_time": "2019-05-08T16:16:49.470243Z",
     "start_time": "2019-05-08T16:16:49.466579Z"
    }
   },
   "outputs": [
    {
     "data": {
      "text/plain": [
       "(100000, 3)"
      ]
     },
     "execution_count": 73,
     "metadata": {},
     "output_type": "execute_result"
    }
   ],
   "source": [
    "random_pair_stack_a.shape\n",
    "n = random_pair_stack_a.shape[0]"
   ]
  },
  {
   "cell_type": "code",
   "execution_count": 76,
   "metadata": {
    "ExecuteTime": {
     "end_time": "2019-05-08T16:17:46.534155Z",
     "start_time": "2019-05-08T16:17:45.252294Z"
    }
   },
   "outputs": [],
   "source": [
    "list(starmap(agree_, random_vector_pairs));"
   ]
  },
  {
   "cell_type": "code",
   "execution_count": 120,
   "metadata": {
    "ExecuteTime": {
     "end_time": "2019-05-08T16:39:48.221252Z",
     "start_time": "2019-05-08T16:39:46.908705Z"
    }
   },
   "outputs": [
    {
     "data": {
      "text/plain": [
       "(100000,)"
      ]
     },
     "execution_count": 120,
     "metadata": {},
     "output_type": "execute_result"
    }
   ],
   "source": [
    "vector_agree__results = np.array([agree_(random_pair_stack_a[i],random_pair_stack_b[i]) for i in range(n)])\n",
    "vector_agree__results.shape"
   ]
  },
  {
   "cell_type": "code",
   "execution_count": 150,
   "metadata": {
    "ExecuteTime": {
     "end_time": "2019-05-08T16:45:27.460791Z",
     "start_time": "2019-05-08T16:45:27.454689Z"
    }
   },
   "outputs": [],
   "source": [
    "def agree_mat(A,B):\n",
    "    '''\n",
    "    Given two matrices A::(n,m) and B::(n,m), \n",
    "    return C::(n,1) where \n",
    "    C[i] = 1 iff A[i] and B[i] agree at all indices\n",
    "    and 0 otherwise.\n",
    "    '''\n",
    "    # (x == 0 or y == 0) or ((x != 0 and y != 0) and (x == y))\n",
    "    A_unspecified = A == 0\n",
    "    B_unspecified = B == 0\n",
    "    A_or_B_unspecified = A_unspecified | B_unspecified\n",
    "    \n",
    "    A_specified = A != 0\n",
    "    B_specified = B != 0\n",
    "    A_and_B_specified = A_specified & B_specified\n",
    "    A_equal_B = np.equal(A,B)\n",
    "    A_B_both_specified_and_equal = A_and_B_specified & A_equal_B\n",
    "\n",
    "    ag = A_or_B_unspecified | A_B_both_specified_and_equal\n",
    "#     return ag\n",
    "    result = np.prod(ag, axis=-1)\n",
    "    return result"
   ]
  },
  {
   "cell_type": "code",
   "execution_count": 147,
   "metadata": {
    "ExecuteTime": {
     "end_time": "2019-05-08T16:45:10.478687Z",
     "start_time": "2019-05-08T16:45:10.469988Z"
    }
   },
   "outputs": [
    {
     "data": {
      "text/plain": [
       "(100000,)"
      ]
     },
     "execution_count": 147,
     "metadata": {},
     "output_type": "execute_result"
    }
   ],
   "source": [
    "matrix_agree_result = agree_mat(random_pair_stack_a, random_pair_stack_b)\n",
    "matrix_agree_result.shape"
   ]
  },
  {
   "cell_type": "code",
   "execution_count": 151,
   "metadata": {
    "ExecuteTime": {
     "end_time": "2019-05-08T16:45:30.914930Z",
     "start_time": "2019-05-08T16:45:30.912024Z"
    }
   },
   "outputs": [
    {
     "data": {
      "text/plain": [
       "True"
      ]
     },
     "execution_count": 151,
     "metadata": {},
     "output_type": "execute_result"
    }
   ],
   "source": [
    "np.array_equal(matrix_agree_result, vector_agree__results)"
   ]
  },
  {
   "cell_type": "code",
   "execution_count": 152,
   "metadata": {
    "ExecuteTime": {
     "end_time": "2019-05-08T16:45:34.233129Z",
     "start_time": "2019-05-08T16:45:31.702228Z"
    }
   },
   "outputs": [],
   "source": [
    "for i in range(n):\n",
    "    u = random_pair_stack_a[i]\n",
    "    v = random_pair_stack_b[i]\n",
    "    assert agree_(u,v) == agree_mat(u,v), '{0}, {1} -> {2} vs. {3}'.format(u,v, agree_(u,v), agree_mat(u,v, True))"
   ]
  },
  {
   "cell_type": "markdown",
   "metadata": {},
   "source": [
    "### Union"
   ]
  },
  {
   "cell_type": "code",
   "execution_count": 153,
   "metadata": {
    "ExecuteTime": {
     "end_time": "2019-05-08T16:46:49.874794Z",
     "start_time": "2019-05-08T16:46:49.702965Z"
    }
   },
   "outputs": [
    {
     "data": {
      "text/plain": [
       "(100000, 3)"
      ]
     },
     "execution_count": 153,
     "metadata": {},
     "output_type": "execute_result"
    }
   ],
   "source": [
    "vector_union_results = np.array([union(agreeing_pair_stack_a[i],agreeing_pair_stack_b[i]) for i in range(n)])\n",
    "vector_union_results.shape"
   ]
  },
  {
   "cell_type": "code",
   "execution_count": 156,
   "metadata": {
    "ExecuteTime": {
     "end_time": "2019-05-08T16:47:15.758306Z",
     "start_time": "2019-05-08T16:47:15.754642Z"
    }
   },
   "outputs": [
    {
     "data": {
      "text/plain": [
       "array([[-1,  1, -1],\n",
       "       [-1,  1, -1],\n",
       "       [ 1,  1,  1],\n",
       "       ..., \n",
       "       [-1, -1, -1],\n",
       "       [ 0, -1, -1],\n",
       "       [ 1,  1, -1]], dtype=int8)"
      ]
     },
     "execution_count": 156,
     "metadata": {},
     "output_type": "execute_result"
    }
   ],
   "source": [
    "union(agreeing_pair_stack_a, agreeing_pair_stack_b)"
   ]
  },
  {
   "cell_type": "code",
   "execution_count": 157,
   "metadata": {
    "ExecuteTime": {
     "end_time": "2019-05-08T16:47:27.494975Z",
     "start_time": "2019-05-08T16:47:27.490017Z"
    }
   },
   "outputs": [
    {
     "data": {
      "text/plain": [
       "True"
      ]
     },
     "execution_count": 157,
     "metadata": {},
     "output_type": "execute_result"
    }
   ],
   "source": [
    "np.array_equal(vector_union_results, union(agreeing_pair_stack_a, agreeing_pair_stack_b) )"
   ]
  },
  {
   "cell_type": "markdown",
   "metadata": {},
   "source": [
    "### Intersection"
   ]
  },
  {
   "cell_type": "code",
   "execution_count": 158,
   "metadata": {
    "ExecuteTime": {
     "end_time": "2019-05-08T16:48:16.263987Z",
     "start_time": "2019-05-08T16:48:15.962471Z"
    }
   },
   "outputs": [
    {
     "data": {
      "text/plain": [
       "(100000, 3)"
      ]
     },
     "execution_count": 158,
     "metadata": {},
     "output_type": "execute_result"
    }
   ],
   "source": [
    "vector_intersection_results = np.array([intersection(random_pair_stack_a[i],random_pair_stack_b[i]) for i in range(n)])\n",
    "vector_intersection_results.shape"
   ]
  },
  {
   "cell_type": "code",
   "execution_count": 159,
   "metadata": {
    "ExecuteTime": {
     "end_time": "2019-05-08T16:48:23.328293Z",
     "start_time": "2019-05-08T16:48:23.322637Z"
    }
   },
   "outputs": [
    {
     "data": {
      "text/plain": [
       "array([[ 0,  0, -1],\n",
       "       [ 0,  0,  0],\n",
       "       [ 1,  0,  0],\n",
       "       ..., \n",
       "       [ 0, -1,  0],\n",
       "       [ 0,  0, -1],\n",
       "       [ 0,  0,  0]], dtype=int8)"
      ]
     },
     "execution_count": 159,
     "metadata": {},
     "output_type": "execute_result"
    }
   ],
   "source": [
    "intersection(agreeing_pair_stack_a, agreeing_pair_stack_b)"
   ]
  },
  {
   "cell_type": "code",
   "execution_count": 160,
   "metadata": {
    "ExecuteTime": {
     "end_time": "2019-05-08T16:48:48.236241Z",
     "start_time": "2019-05-08T16:48:48.231321Z"
    }
   },
   "outputs": [
    {
     "data": {
      "text/plain": [
       "True"
      ]
     },
     "execution_count": 160,
     "metadata": {},
     "output_type": "execute_result"
    }
   ],
   "source": [
    "np.array_equal(vector_intersection_results, intersection(random_pair_stack_a, random_pair_stack_b) )"
   ]
  },
  {
   "cell_type": "code",
   "execution_count": null,
   "metadata": {},
   "outputs": [],
   "source": []
  }
 ],
 "metadata": {
  "kernelspec": {
   "display_name": "Python 3",
   "language": "python",
   "name": "python3"
  },
  "language_info": {
   "codemirror_mode": {
    "name": "ipython",
    "version": 3
   },
   "file_extension": ".py",
   "mimetype": "text/x-python",
   "name": "python",
   "nbconvert_exporter": "python",
   "pygments_lexer": "ipython3",
   "version": "3.6.8"
  },
  "toc": {
   "base_numbering": 1,
   "nav_menu": {},
   "number_sections": true,
   "sideBar": true,
   "skip_h1_title": false,
   "title_cell": "Table of Contents",
   "title_sidebar": "Contents",
   "toc_cell": true,
   "toc_position": {},
   "toc_section_display": true,
   "toc_window_display": true
  }
 },
 "nbformat": 4,
 "nbformat_minor": 2
}
