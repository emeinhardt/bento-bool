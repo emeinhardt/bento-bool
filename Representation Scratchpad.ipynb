{
 "cells": [
  {
   "cell_type": "code",
   "execution_count": 1,
   "metadata": {
    "ExecuteTime": {
     "end_time": "2019-05-10T06:29:31.346956Z",
     "start_time": "2019-05-10T06:29:31.333103Z"
    }
   },
   "outputs": [],
   "source": [
    "#Prints **all** console output, not just last item in cell \n",
    "from IPython.core.interactiveshell import InteractiveShell\n",
    "InteractiveShell.ast_node_interactivity = \"all\""
   ]
  },
  {
   "cell_type": "markdown",
   "metadata": {},
   "source": [
    "**Eric Meinhardt / emeinhardt@ucsd.edu**"
   ]
  },
  {
   "cell_type": "markdown",
   "metadata": {
    "toc": true
   },
   "source": [
    "<h1>Table of Contents<span class=\"tocSkip\"></span></h1>\n",
    "<div class=\"toc\"><ul class=\"toc-item\"><li><span><a href=\"#Overview\" data-toc-modified-id=\"Overview-1\"><span class=\"toc-item-num\">1&nbsp;&nbsp;</span>Overview</a></span></li><li><span><a href=\"#Comparison-of-basic-representations-and-operations\" data-toc-modified-id=\"Comparison-of-basic-representations-and-operations-2\"><span class=\"toc-item-num\">2&nbsp;&nbsp;</span>Comparison of basic representations and operations</a></span><ul class=\"toc-item\"><li><span><a href=\"#Baseline-representation-of-partial-feature-vectors\" data-toc-modified-id=\"Baseline-representation-of-partial-feature-vectors-2.1\"><span class=\"toc-item-num\">2.1&nbsp;&nbsp;</span>Baseline representation of partial feature vectors</a></span><ul class=\"toc-item\"><li><span><a href=\"#Overhead---generation,-well-formedness,-uniquification\" data-toc-modified-id=\"Overhead---generation,-well-formedness,-uniquification-2.1.1\"><span class=\"toc-item-num\">2.1.1&nbsp;&nbsp;</span>Overhead - generation, well-formedness, uniquification</a></span></li><li><span><a href=\"#Agreement\" data-toc-modified-id=\"Agreement-2.1.2\"><span class=\"toc-item-num\">2.1.2&nbsp;&nbsp;</span>Agreement</a></span></li><li><span><a href=\"#Union\" data-toc-modified-id=\"Union-2.1.3\"><span class=\"toc-item-num\">2.1.3&nbsp;&nbsp;</span>Union</a></span></li><li><span><a href=\"#Intersection\" data-toc-modified-id=\"Intersection-2.1.4\"><span class=\"toc-item-num\">2.1.4&nbsp;&nbsp;</span>Intersection</a></span></li><li><span><a href=\"#Extension\" data-toc-modified-id=\"Extension-2.1.5\"><span class=\"toc-item-num\">2.1.5&nbsp;&nbsp;</span>Extension</a></span></li></ul></li><li><span><a href=\"#Specification-array-+-value-array\" data-toc-modified-id=\"Specification-array-+-value-array-2.2\"><span class=\"toc-item-num\">2.2&nbsp;&nbsp;</span>Specification array + value array</a></span><ul class=\"toc-item\"><li><span><a href=\"#Converting-between-representations\" data-toc-modified-id=\"Converting-between-representations-2.2.1\"><span class=\"toc-item-num\">2.2.1&nbsp;&nbsp;</span>Converting between representations</a></span></li><li><span><a href=\"#Operations\" data-toc-modified-id=\"Operations-2.2.2\"><span class=\"toc-item-num\">2.2.2&nbsp;&nbsp;</span>Operations</a></span></li><li><span><a href=\"#Performance-evaluation\" data-toc-modified-id=\"Performance-evaluation-2.2.3\"><span class=\"toc-item-num\">2.2.3&nbsp;&nbsp;</span>Performance evaluation</a></span><ul class=\"toc-item\"><li><span><a href=\"#Conclusion\" data-toc-modified-id=\"Conclusion-2.2.3.1\"><span class=\"toc-item-num\">2.2.3.1&nbsp;&nbsp;</span>Conclusion</a></span></li></ul></li></ul></li><li><span><a href=\"#Matrix-extension-of-the-baseline-representation\" data-toc-modified-id=\"Matrix-extension-of-the-baseline-representation-2.3\"><span class=\"toc-item-num\">2.3&nbsp;&nbsp;</span>Matrix extension of the baseline representation</a></span><ul class=\"toc-item\"><li><span><a href=\"#Agreement-testing\" data-toc-modified-id=\"Agreement-testing-2.3.1\"><span class=\"toc-item-num\">2.3.1&nbsp;&nbsp;</span>Agreement testing</a></span></li><li><span><a href=\"#Union\" data-toc-modified-id=\"Union-2.3.2\"><span class=\"toc-item-num\">2.3.2&nbsp;&nbsp;</span>Union</a></span></li><li><span><a href=\"#Intersection\" data-toc-modified-id=\"Intersection-2.3.3\"><span class=\"toc-item-num\">2.3.3&nbsp;&nbsp;</span>Intersection</a></span></li><li><span><a href=\"#Extension\" data-toc-modified-id=\"Extension-2.3.4\"><span class=\"toc-item-num\">2.3.4&nbsp;&nbsp;</span>Extension</a></span></li><li><span><a href=\"#Conclusion\" data-toc-modified-id=\"Conclusion-2.3.5\"><span class=\"toc-item-num\">2.3.5&nbsp;&nbsp;</span>Conclusion</a></span></li></ul></li><li><span><a href=\"#pytorch-and-gpus\" data-toc-modified-id=\"pytorch-and-gpus-2.4\"><span class=\"toc-item-num\">2.4&nbsp;&nbsp;</span><code>pytorch</code> and gpus</a></span><ul class=\"toc-item\"><li><span><a href=\"#Agreement\" data-toc-modified-id=\"Agreement-2.4.1\"><span class=\"toc-item-num\">2.4.1&nbsp;&nbsp;</span>Agreement</a></span></li><li><span><a href=\"#Union\" data-toc-modified-id=\"Union-2.4.2\"><span class=\"toc-item-num\">2.4.2&nbsp;&nbsp;</span>Union</a></span></li><li><span><a href=\"#Intersection\" data-toc-modified-id=\"Intersection-2.4.3\"><span class=\"toc-item-num\">2.4.3&nbsp;&nbsp;</span>Intersection</a></span></li><li><span><a href=\"#Extension\" data-toc-modified-id=\"Extension-2.4.4\"><span class=\"toc-item-num\">2.4.4&nbsp;&nbsp;</span>Extension</a></span></li><li><span><a href=\"#Conclusion\" data-toc-modified-id=\"Conclusion-2.4.5\"><span class=\"toc-item-num\">2.4.5&nbsp;&nbsp;</span>Conclusion</a></span></li></ul></li></ul></li></ul></div>"
   ]
  },
  {
   "cell_type": "code",
   "execution_count": 2,
   "metadata": {
    "ExecuteTime": {
     "end_time": "2019-05-10T06:29:31.634737Z",
     "start_time": "2019-05-10T06:29:31.351915Z"
    }
   },
   "outputs": [],
   "source": [
    "import numpy as np\n",
    "myint = np.int8\n",
    "\n",
    "from vg import normalize"
   ]
  },
  {
   "cell_type": "code",
   "execution_count": 3,
   "metadata": {
    "ExecuteTime": {
     "end_time": "2019-05-10T06:29:31.678082Z",
     "start_time": "2019-05-10T06:29:31.648463Z"
    }
   },
   "outputs": [],
   "source": [
    "from bitarray import bitarray"
   ]
  },
  {
   "cell_type": "code",
   "execution_count": 4,
   "metadata": {
    "ExecuteTime": {
     "end_time": "2019-05-10T06:29:31.701835Z",
     "start_time": "2019-05-10T06:29:31.688876Z"
    }
   },
   "outputs": [],
   "source": [
    "from itertools import starmap, product"
   ]
  },
  {
   "cell_type": "code",
   "execution_count": 5,
   "metadata": {
    "ExecuteTime": {
     "end_time": "2019-05-10T06:29:31.715094Z",
     "start_time": "2019-05-10T06:29:31.705482Z"
    }
   },
   "outputs": [],
   "source": [
    "# from more_itertools import unique_everseen"
   ]
  },
  {
   "cell_type": "code",
   "execution_count": 6,
   "metadata": {
    "ExecuteTime": {
     "end_time": "2019-05-10T06:29:31.918081Z",
     "start_time": "2019-05-10T06:29:31.718166Z"
    }
   },
   "outputs": [],
   "source": [
    "from tqdm import tqdm\n",
    "\n",
    "from joblib import Parallel, delayed, Memory\n",
    "\n",
    "J = 30\n",
    "BACKEND = 'multiprocessing'\n",
    "# BACKEND = 'loky'\n",
    "V = 10\n",
    "PREFER = 'processes'\n",
    "# PREFER = 'threads'\n",
    "\n",
    "def par(gen_expr, j=None, backend=None, verbose=None, prefer=None):\n",
    "    if j is None:\n",
    "        j = J\n",
    "    if backend is None:\n",
    "        backend = BACKEND\n",
    "    if verbose is None:\n",
    "        verbose = V\n",
    "    if prefer is None:\n",
    "        prefer = PREFER\n",
    "    return Parallel(n_jobs=j, backend=backend, verbose=verbose, prefer=prefer)(gen_expr)\n",
    "\n",
    "def identity(x):\n",
    "    return x"
   ]
  },
  {
   "cell_type": "code",
   "execution_count": 7,
   "metadata": {
    "ExecuteTime": {
     "end_time": "2019-05-10T06:29:31.927801Z",
     "start_time": "2019-05-10T06:29:31.922893Z"
    }
   },
   "outputs": [],
   "source": [
    "from random import choice"
   ]
  },
  {
   "cell_type": "code",
   "execution_count": 8,
   "metadata": {
    "ExecuteTime": {
     "end_time": "2019-05-10T06:29:31.937138Z",
     "start_time": "2019-05-10T06:29:31.931988Z"
    }
   },
   "outputs": [],
   "source": [
    "CAREFUL = False"
   ]
  },
  {
   "cell_type": "markdown",
   "metadata": {},
   "source": [
    "# Overview"
   ]
  },
  {
   "cell_type": "markdown",
   "metadata": {},
   "source": [
    "Goal of this notebook: find / document representations of and operations on partial feature vectors with an eye towards efficient calculation."
   ]
  },
  {
   "cell_type": "markdown",
   "metadata": {},
   "source": [
    "# Comparison of basic representations and operations"
   ]
  },
  {
   "cell_type": "markdown",
   "metadata": {},
   "source": [
    "## Baseline representation of partial feature vectors"
   ]
  },
  {
   "cell_type": "markdown",
   "metadata": {},
   "source": [
    "A partial feature vector $p$ on $m$ features is an element of $\\{-1,0,1\\}^m$, where\n",
    " - $p_i = 0$ iff feature $i$ is unspecified\n",
    " - $p_i = -1$ iff feature $i$ is specified $-$\n",
    " - $p_i = 1$ iff feature $i$ is specified $+$"
   ]
  },
  {
   "cell_type": "markdown",
   "metadata": {},
   "source": [
    "Below this representation is implemented using `numpy` `int8` arrays and (usually) vectorized operations on them."
   ]
  },
  {
   "cell_type": "markdown",
   "metadata": {},
   "source": [
    "### Overhead - generation, well-formedness, uniquification"
   ]
  },
  {
   "cell_type": "code",
   "execution_count": 9,
   "metadata": {
    "ExecuteTime": {
     "end_time": "2019-05-10T06:29:31.950053Z",
     "start_time": "2019-05-10T06:29:31.943981Z"
    }
   },
   "outputs": [],
   "source": [
    "m = 6"
   ]
  },
  {
   "cell_type": "code",
   "execution_count": 10,
   "metadata": {
    "ExecuteTime": {
     "end_time": "2019-05-10T06:29:31.967851Z",
     "start_time": "2019-05-10T06:29:31.954670Z"
    }
   },
   "outputs": [],
   "source": [
    "def make_generator_vectors(num_features):\n",
    "    basis_vectors = [np.zeros(num_features, dtype=myint) for each in range(num_features)]\n",
    "    basis_vectors_neg = [np.zeros(num_features, dtype=myint) for each in range(num_features)]\n",
    "    for i,v in enumerate(basis_vectors):\n",
    "        v[i] = 1\n",
    "    for i,v in enumerate(basis_vectors_neg):\n",
    "        v[i] = -1\n",
    "    generators = basis_vectors + basis_vectors_neg\n",
    "    return generators"
   ]
  },
  {
   "cell_type": "code",
   "execution_count": 11,
   "metadata": {
    "ExecuteTime": {
     "end_time": "2019-05-10T06:29:31.999638Z",
     "start_time": "2019-05-10T06:29:31.971654Z"
    }
   },
   "outputs": [
    {
     "data": {
      "text/plain": [
       "[array([1, 0, 0, 0, 0, 0], dtype=int8),\n",
       " array([0, 1, 0, 0, 0, 0], dtype=int8),\n",
       " array([0, 0, 1, 0, 0, 0], dtype=int8),\n",
       " array([0, 0, 0, 1, 0, 0], dtype=int8),\n",
       " array([0, 0, 0, 0, 1, 0], dtype=int8),\n",
       " array([0, 0, 0, 0, 0, 1], dtype=int8),\n",
       " array([-1,  0,  0,  0,  0,  0], dtype=int8),\n",
       " array([ 0, -1,  0,  0,  0,  0], dtype=int8),\n",
       " array([ 0,  0, -1,  0,  0,  0], dtype=int8),\n",
       " array([ 0,  0,  0, -1,  0,  0], dtype=int8),\n",
       " array([ 0,  0,  0,  0, -1,  0], dtype=int8),\n",
       " array([ 0,  0,  0,  0,  0, -1], dtype=int8)]"
      ]
     },
     "execution_count": 11,
     "metadata": {},
     "output_type": "execute_result"
    }
   ],
   "source": [
    "generators = make_generator_vectors(m)\n",
    "generators"
   ]
  },
  {
   "cell_type": "code",
   "execution_count": 12,
   "metadata": {
    "ExecuteTime": {
     "end_time": "2019-05-10T06:29:32.015004Z",
     "start_time": "2019-05-10T06:29:32.003144Z"
    }
   },
   "outputs": [
    {
     "data": {
      "text/plain": [
       "64"
      ]
     },
     "execution_count": 12,
     "metadata": {},
     "output_type": "execute_result"
    },
    {
     "data": {
      "text/plain": [
       "729"
      ]
     },
     "execution_count": 12,
     "metadata": {},
     "output_type": "execute_result"
    }
   ],
   "source": [
    "max_num_objects = 2 ** m\n",
    "max_num_objects\n",
    "\n",
    "max_num_partial_fvs = (2 + 1) ** m\n",
    "max_num_partial_fvs"
   ]
  },
  {
   "cell_type": "code",
   "execution_count": 13,
   "metadata": {
    "ExecuteTime": {
     "end_time": "2019-05-10T06:29:32.026249Z",
     "start_time": "2019-05-10T06:29:32.018586Z"
    }
   },
   "outputs": [],
   "source": [
    "def wf_pfv(v):\n",
    "    allowedValues = {-1,0,1}\n",
    "    return all([x in allowedValues for x in v])"
   ]
  },
  {
   "cell_type": "code",
   "execution_count": 14,
   "metadata": {
    "ExecuteTime": {
     "end_time": "2019-05-10T06:29:32.034516Z",
     "start_time": "2019-05-10T06:29:32.029963Z"
    }
   },
   "outputs": [],
   "source": [
    "def make_random_pfv():\n",
    "    return np.random.randint(3, size=m, dtype=myint) - 1"
   ]
  },
  {
   "cell_type": "code",
   "execution_count": 15,
   "metadata": {
    "ExecuteTime": {
     "end_time": "2019-05-10T06:29:32.044701Z",
     "start_time": "2019-05-10T06:29:32.038280Z"
    }
   },
   "outputs": [],
   "source": [
    "def uniquify(ndarray_iterable):\n",
    "    tuples = [tuple(a) for a in ndarray_iterable]\n",
    "    s = set(tuples)\n",
    "    arrays = [np.array(t) for t in s]\n",
    "    return arrays"
   ]
  },
  {
   "cell_type": "code",
   "execution_count": 16,
   "metadata": {
    "ExecuteTime": {
     "end_time": "2019-05-10T06:29:32.053648Z",
     "start_time": "2019-05-10T06:29:32.048369Z"
    }
   },
   "outputs": [],
   "source": [
    "def wf_tfv(v):\n",
    "    allowedValues = {-1,1}\n",
    "    return all([x in allowedValues for x in v])"
   ]
  },
  {
   "cell_type": "code",
   "execution_count": 17,
   "metadata": {
    "ExecuteTime": {
     "end_time": "2019-05-10T06:29:53.351587Z",
     "start_time": "2019-05-10T06:29:53.343737Z"
    }
   },
   "outputs": [
    {
     "data": {
      "text/plain": [
       "64"
      ]
     },
     "execution_count": 17,
     "metadata": {},
     "output_type": "execute_result"
    },
    {
     "data": {
      "text/plain": [
       "32"
      ]
     },
     "execution_count": 17,
     "metadata": {},
     "output_type": "execute_result"
    }
   ],
   "source": [
    "max_num_objects\n",
    "actual_num_objects = np.random.randint(max_num_objects)\n",
    "# actual_num_objects = 40\n",
    "actual_num_objects\n",
    "\n",
    "assert actual_num_objects < max_num_objects"
   ]
  },
  {
   "cell_type": "code",
   "execution_count": 18,
   "metadata": {
    "ExecuteTime": {
     "end_time": "2019-05-10T06:29:57.439876Z",
     "start_time": "2019-05-10T06:29:57.397748Z"
    }
   },
   "outputs": [
    {
     "data": {
      "text/plain": [
       "23"
      ]
     },
     "execution_count": 18,
     "metadata": {},
     "output_type": "execute_result"
    },
    {
     "data": {
      "text/plain": [
       "(array([-1,  1,  1,  1, -1,  1]),\n",
       " array([ 1, -1, -1,  1, -1,  1]),\n",
       " array([-1, -1,  1, -1, -1,  1]),\n",
       " array([-1,  1,  1, -1,  1,  1]),\n",
       " array([-1, -1,  1,  1, -1, -1]),\n",
       " array([-1, -1,  1, -1,  1,  1]),\n",
       " array([-1,  1,  1, -1, -1,  1]),\n",
       " array([-1, -1,  1,  1,  1,  1]),\n",
       " array([-1, -1,  1, -1, -1, -1]),\n",
       " array([-1,  1,  1, -1,  1, -1]),\n",
       " array([ 1,  1,  1, -1, -1, -1]),\n",
       " array([-1,  1, -1, -1,  1, -1]),\n",
       " array([-1, -1, -1,  1,  1,  1]),\n",
       " array([ 1,  1, -1,  1,  1, -1]),\n",
       " array([-1, -1, -1, -1,  1,  1]),\n",
       " array([ 1,  1,  1,  1,  1, -1]),\n",
       " array([ 1,  1, -1,  1,  1,  1]),\n",
       " array([-1, -1, -1, -1,  1, -1]),\n",
       " array([ 1,  1, -1, -1,  1,  1]),\n",
       " array([ 1, -1, -1, -1, -1,  1]),\n",
       " array([-1,  1, -1,  1, -1,  1]),\n",
       " array([ 1, -1, -1,  1, -1, -1]),\n",
       " array([ 1,  1, -1, -1, -1,  1]))"
      ]
     },
     "execution_count": 18,
     "metadata": {},
     "output_type": "execute_result"
    }
   ],
   "source": [
    "objects = tuple(set([tuple(np.random.randint(2, size=m)) for each in range(actual_num_objects)]))\n",
    "objects = tuple(map(np.array, objects))\n",
    "l = len(objects)\n",
    "\n",
    "def zeroToMinusOne(u):\n",
    "    return np.array([x if x == 1 else -1 for x in u])\n",
    "\n",
    "objects = tuple([zeroToMinusOne(o) for o in objects])\n",
    "\n",
    "\n",
    "actual_num_objects = len(objects)\n",
    "actual_num_objects\n",
    "objects"
   ]
  },
  {
   "cell_type": "code",
   "execution_count": 19,
   "metadata": {
    "ExecuteTime": {
     "end_time": "2019-05-10T06:29:58.198094Z",
     "start_time": "2019-05-10T06:29:58.156414Z"
    }
   },
   "outputs": [
    {
     "data": {
      "text/plain": [
       "(23, 6)"
      ]
     },
     "execution_count": 19,
     "metadata": {},
     "output_type": "execute_result"
    },
    {
     "data": {
      "text/plain": [
       "array([[-1,  1,  1,  1, -1,  1],\n",
       "       [ 1, -1, -1,  1, -1,  1],\n",
       "       [-1, -1,  1, -1, -1,  1],\n",
       "       [-1,  1,  1, -1,  1,  1],\n",
       "       [-1, -1,  1,  1, -1, -1],\n",
       "       [-1, -1,  1, -1,  1,  1],\n",
       "       [-1,  1,  1, -1, -1,  1],\n",
       "       [-1, -1,  1,  1,  1,  1],\n",
       "       [-1, -1,  1, -1, -1, -1],\n",
       "       [-1,  1,  1, -1,  1, -1],\n",
       "       [ 1,  1,  1, -1, -1, -1],\n",
       "       [-1,  1, -1, -1,  1, -1],\n",
       "       [-1, -1, -1,  1,  1,  1],\n",
       "       [ 1,  1, -1,  1,  1, -1],\n",
       "       [-1, -1, -1, -1,  1,  1],\n",
       "       [ 1,  1,  1,  1,  1, -1],\n",
       "       [ 1,  1, -1,  1,  1,  1],\n",
       "       [-1, -1, -1, -1,  1, -1],\n",
       "       [ 1,  1, -1, -1,  1,  1],\n",
       "       [ 1, -1, -1, -1, -1,  1],\n",
       "       [-1,  1, -1,  1, -1,  1],\n",
       "       [ 1, -1, -1,  1, -1, -1],\n",
       "       [ 1,  1, -1, -1, -1,  1]])"
      ]
     },
     "execution_count": 19,
     "metadata": {},
     "output_type": "execute_result"
    },
    {
     "data": {
      "text/plain": [
       "array([-1,  1,  1,  1, -1,  1])"
      ]
     },
     "execution_count": 19,
     "metadata": {},
     "output_type": "execute_result"
    }
   ],
   "source": [
    "objectMap = np.array([objects[i] for i in range(l)])\n",
    "objectMap.shape\n",
    "objectMap\n",
    "objectMap[0]"
   ]
  },
  {
   "cell_type": "code",
   "execution_count": 20,
   "metadata": {
    "ExecuteTime": {
     "end_time": "2019-05-10T06:29:58.453103Z",
     "start_time": "2019-05-10T06:29:58.437779Z"
    }
   },
   "outputs": [],
   "source": [
    "def getIndex(o):\n",
    "    matches = [i for i,v in enumerate(objectMap) if np.array_equal(v,o)]\n",
    "    if len(matches) == 0:\n",
    "        return -1\n",
    "    if CAREFUL:\n",
    "        assert len(matches) == 1\n",
    "    return matches[0]"
   ]
  },
  {
   "cell_type": "code",
   "execution_count": 21,
   "metadata": {
    "ExecuteTime": {
     "end_time": "2019-05-10T06:29:59.107279Z",
     "start_time": "2019-05-10T06:29:59.092612Z"
    }
   },
   "outputs": [],
   "source": [
    "def makeExtensionVector(positive_Indices):\n",
    "    return np.array([1 if i in positive_Indices else 0 for i in np.arange(objectMap.shape[0])], dtype=myint)"
   ]
  },
  {
   "cell_type": "code",
   "execution_count": 22,
   "metadata": {
    "ExecuteTime": {
     "end_time": "2019-05-10T06:29:59.515232Z",
     "start_time": "2019-05-10T06:29:59.493008Z"
    }
   },
   "outputs": [
    {
     "data": {
      "text/plain": [
       "array([1, 0, 0, 0, 1, 0, 0, 0, 1, 0, 0, 0, 0, 0, 0, 0, 0, 0, 0, 0, 0, 0, 0], dtype=int8)"
      ]
     },
     "execution_count": 22,
     "metadata": {},
     "output_type": "execute_result"
    }
   ],
   "source": [
    "makeExtensionVector([0, 4, 8])"
   ]
  },
  {
   "cell_type": "markdown",
   "metadata": {},
   "source": [
    "### Agreement"
   ]
  },
  {
   "cell_type": "code",
   "execution_count": 23,
   "metadata": {
    "ExecuteTime": {
     "end_time": "2019-05-10T06:30:00.577049Z",
     "start_time": "2019-05-10T06:30:00.561787Z"
    }
   },
   "outputs": [],
   "source": [
    "def ag(x,y):\n",
    "    '''\n",
    "    Formula:\n",
    "    (x == 0 or y == 0) or ((x != 0 and y != 0) and (x == y)), where T = 1 and F = 0\n",
    "    \n",
    "    Pattern:\n",
    "    x = x ⟶ 1\n",
    "    0 = _ ⟶ 1\n",
    "    _ = 0 ⟶ 1\n",
    "    _ = _ ⟶ 0\n",
    "    '''\n",
    "    if x == y:\n",
    "        return True\n",
    "    elif x == 0:\n",
    "        return True\n",
    "    elif y == 0:\n",
    "        return True\n",
    "    else:\n",
    "        return False"
   ]
  },
  {
   "cell_type": "code",
   "execution_count": 24,
   "metadata": {
    "ExecuteTime": {
     "end_time": "2019-05-10T06:30:00.967073Z",
     "start_time": "2019-05-10T06:30:00.950654Z"
    }
   },
   "outputs": [],
   "source": [
    "def agree(u,v):\n",
    "    '''\n",
    "    Given two vectors u and v, returns a binary vector indicating,\n",
    "    elementwise, whether u and v 'agree'.\n",
    "    \n",
    "    agree(u[i], v[i]) iff (u[i] == 0 or v[i] == 0) or (u[i] == v[i])\n",
    "    '''\n",
    "#     return np.array([True if (u[i] == 0 or v[i] == 0) or (u[i] == v[i]) else False \n",
    "#                      for i in range(len(u))])\n",
    "    return np.array([1 if (u[i] == 0 or v[i] == 0) or (u[i] == v[i]) else 0 \n",
    "                     for i in range(len(u))], dtype=myint)\n",
    "\n",
    "def agree_(u,v):\n",
    "    '''\n",
    "    Given two vectors u and v, return 1 iff u and v agree at all indices\n",
    "    and 0 otherwise.\n",
    "    '''\n",
    "    ag = agree(u,v)\n",
    "    return int(ag.all())\n",
    "\n",
    "def agree_alt(u,v):\n",
    "    '''\n",
    "    Given two vectors u and v, return 1 iff u and v agree at all indices\n",
    "    and 0 otherwise.\n",
    "    '''\n",
    "    ag = agree(u,v)\n",
    "    total_agreement = np.linalg.norm(agree(u,v), 1) == m\n",
    "    return int(total_agreement)\n",
    "#     if total_agreement:\n",
    "#         return 1.0\n",
    "#     return 0.0"
   ]
  },
  {
   "cell_type": "code",
   "execution_count": 25,
   "metadata": {
    "ExecuteTime": {
     "end_time": "2019-05-10T06:30:01.399641Z",
     "start_time": "2019-05-10T06:30:01.393364Z"
    }
   },
   "outputs": [],
   "source": [
    "def make_agreeing_vector_pair(pred=None):\n",
    "    u = make_random_pfv()\n",
    "    v = make_random_pfv()\n",
    "    if pred is None:\n",
    "        while not agree_(u,v):\n",
    "            u = make_random_pfv()\n",
    "            v = make_random_pfv()\n",
    "        return u,v\n",
    "    while not agree_(u,v) and not pred(u,v):\n",
    "        u = make_random_pfv()\n",
    "        v = make_random_pfv()\n",
    "    return u,v"
   ]
  },
  {
   "cell_type": "code",
   "execution_count": 26,
   "metadata": {
    "ExecuteTime": {
     "end_time": "2019-05-10T06:30:03.051127Z",
     "start_time": "2019-05-10T06:30:01.913253Z"
    }
   },
   "outputs": [
    {
     "data": {
      "text/plain": [
       "100000"
      ]
     },
     "execution_count": 26,
     "metadata": {},
     "output_type": "execute_result"
    }
   ],
   "source": [
    "num_test_pairs = int(1e5)\n",
    "random_vector_pairs = [(make_random_pfv(), make_random_pfv()) for each in range(num_test_pairs)]\n",
    "len(random_vector_pairs)"
   ]
  },
  {
   "cell_type": "code",
   "execution_count": 27,
   "metadata": {
    "ExecuteTime": {
     "end_time": "2019-05-10T06:30:21.106117Z",
     "start_time": "2019-05-10T06:30:05.272575Z"
    }
   },
   "outputs": [],
   "source": [
    "for pair in random_vector_pairs:\n",
    "    assert agree_(*pair) == agree_alt(*pair)"
   ]
  },
  {
   "cell_type": "code",
   "execution_count": 316,
   "metadata": {
    "ExecuteTime": {
     "end_time": "2019-05-10T05:20:59.392657Z",
     "start_time": "2019-05-10T05:20:33.690378Z"
    }
   },
   "outputs": [
    {
     "name": "stdout",
     "output_type": "stream",
     "text": [
      "3.2 s ± 168 ms per loop (mean ± std. dev. of 7 runs, 1 loop each)\n"
     ]
    }
   ],
   "source": [
    "%%timeit\n",
    "\n",
    "list(starmap(agree, random_vector_pairs))"
   ]
  },
  {
   "cell_type": "code",
   "execution_count": 317,
   "metadata": {
    "ExecuteTime": {
     "end_time": "2019-05-10T05:21:25.622203Z",
     "start_time": "2019-05-10T05:20:59.398638Z"
    }
   },
   "outputs": [
    {
     "name": "stdout",
     "output_type": "stream",
     "text": [
      "3.17 s ± 815 ms per loop (mean ± std. dev. of 7 runs, 1 loop each)\n"
     ]
    }
   ],
   "source": [
    "%%timeit\n",
    "\n",
    "list(starmap(agree_, random_vector_pairs))"
   ]
  },
  {
   "cell_type": "code",
   "execution_count": 318,
   "metadata": {
    "ExecuteTime": {
     "end_time": "2019-05-10T05:22:17.447087Z",
     "start_time": "2019-05-10T05:21:25.627586Z"
    }
   },
   "outputs": [
    {
     "name": "stdout",
     "output_type": "stream",
     "text": [
      "6.32 s ± 1.54 s per loop (mean ± std. dev. of 7 runs, 1 loop each)\n"
     ]
    }
   ],
   "source": [
    "%%timeit\n",
    "\n",
    "list(starmap(agree_alt, random_vector_pairs))"
   ]
  },
  {
   "cell_type": "code",
   "execution_count": 28,
   "metadata": {
    "ExecuteTime": {
     "end_time": "2019-05-10T06:30:47.939354Z",
     "start_time": "2019-05-10T06:30:21.109814Z"
    }
   },
   "outputs": [
    {
     "data": {
      "text/plain": [
       "100000"
      ]
     },
     "execution_count": 28,
     "metadata": {},
     "output_type": "execute_result"
    }
   ],
   "source": [
    "num_test_pairs = int(1e5)\n",
    "agreeing_vector_pairs = [make_agreeing_vector_pair() for each in range(num_test_pairs)]\n",
    "len(agreeing_vector_pairs)"
   ]
  },
  {
   "cell_type": "code",
   "execution_count": 29,
   "metadata": {
    "ExecuteTime": {
     "end_time": "2019-05-10T06:30:47.946982Z",
     "start_time": "2019-05-10T06:30:47.941491Z"
    },
    "scrolled": true
   },
   "outputs": [
    {
     "data": {
      "text/plain": [
       "(array([-1,  1,  0,  0,  0,  0], dtype=int8),\n",
       " array([ 0,  0,  0, -1, -1, -1], dtype=int8))"
      ]
     },
     "execution_count": 29,
     "metadata": {},
     "output_type": "execute_result"
    }
   ],
   "source": [
    "pair = agreeing_vector_pairs[0]; pair"
   ]
  },
  {
   "cell_type": "code",
   "execution_count": 30,
   "metadata": {
    "ExecuteTime": {
     "end_time": "2019-05-10T06:30:47.999436Z",
     "start_time": "2019-05-10T06:30:47.949820Z"
    }
   },
   "outputs": [
    {
     "data": {
      "text/plain": [
       "0"
      ]
     },
     "execution_count": 30,
     "metadata": {},
     "output_type": "execute_result"
    }
   ],
   "source": [
    "pair[0].dot(pair[1])"
   ]
  },
  {
   "cell_type": "code",
   "execution_count": 31,
   "metadata": {
    "ExecuteTime": {
     "end_time": "2019-05-10T06:30:48.006835Z",
     "start_time": "2019-05-10T06:30:48.001877Z"
    }
   },
   "outputs": [
    {
     "data": {
      "text/plain": [
       "array([-1,  1,  0,  0,  0,  0], dtype=int8)"
      ]
     },
     "execution_count": 31,
     "metadata": {},
     "output_type": "execute_result"
    }
   ],
   "source": [
    "p0 = pair[0]; p0"
   ]
  },
  {
   "cell_type": "code",
   "execution_count": 32,
   "metadata": {
    "ExecuteTime": {
     "end_time": "2019-05-10T06:30:48.014209Z",
     "start_time": "2019-05-10T06:30:48.009234Z"
    }
   },
   "outputs": [
    {
     "data": {
      "text/plain": [
       "2"
      ]
     },
     "execution_count": 32,
     "metadata": {},
     "output_type": "execute_result"
    }
   ],
   "source": [
    "np.abs(p0).sum()"
   ]
  },
  {
   "cell_type": "code",
   "execution_count": 34,
   "metadata": {
    "ExecuteTime": {
     "end_time": "2019-05-10T06:40:40.184871Z",
     "start_time": "2019-05-10T06:40:40.181419Z"
    }
   },
   "outputs": [],
   "source": [
    "# extension(p0, False)\n",
    "# f = extension(p0, False)[0]; f"
   ]
  },
  {
   "cell_type": "code",
   "execution_count": null,
   "metadata": {
    "ExecuteTime": {
     "end_time": "2019-05-10T06:30:48.470064Z",
     "start_time": "2019-05-10T06:30:17.989Z"
    }
   },
   "outputs": [],
   "source": [
    "# np.dot(p0,f)"
   ]
  },
  {
   "cell_type": "code",
   "execution_count": 497,
   "metadata": {
    "ExecuteTime": {
     "end_time": "2019-05-10T06:29:03.956411Z",
     "start_time": "2019-05-10T06:29:03.950891Z"
    }
   },
   "outputs": [],
   "source": [
    "del pair\n",
    "del p0\n",
    "del f"
   ]
  },
  {
   "cell_type": "markdown",
   "metadata": {},
   "source": [
    "### Union"
   ]
  },
  {
   "cell_type": "markdown",
   "metadata": {},
   "source": [
    "The union of two partial feature vectors $u,v$ that agree should result in a partial feature vector that has every specified value in $u$, every specified value in $v$, and no other specified values.\n",
    "\n",
    "In general, the result is at least as specified as either $u$ or $v$: when $u=v$ $u \\cup v = u = v$ and $u \\cup v$ is no more specified, but otherwise $u \\cup v$ will be strictly more specified than either $u$ or $v$."
   ]
  },
  {
   "cell_type": "code",
   "execution_count": 35,
   "metadata": {
    "ExecuteTime": {
     "end_time": "2019-05-10T06:40:44.633205Z",
     "start_time": "2019-05-10T06:40:44.565385Z"
    }
   },
   "outputs": [
    {
     "data": {
      "text/plain": [
       "((-1, -1), (-1, 0), (-1, 1), (0, -1), (0, 0), (0, 1), (1, -1), (1, 0), (1, 1))"
      ]
     },
     "execution_count": 35,
     "metadata": {},
     "output_type": "execute_result"
    },
    {
     "data": {
      "text/plain": [
       "((-1, -1), -1)"
      ]
     },
     "execution_count": 35,
     "metadata": {},
     "output_type": "execute_result"
    },
    {
     "data": {
      "text/plain": [
       "((-1, 0), -1)"
      ]
     },
     "execution_count": 35,
     "metadata": {},
     "output_type": "execute_result"
    },
    {
     "data": {
      "text/plain": [
       "((-1, 1), 0)"
      ]
     },
     "execution_count": 35,
     "metadata": {},
     "output_type": "execute_result"
    },
    {
     "data": {
      "text/plain": [
       "((0, -1), -1)"
      ]
     },
     "execution_count": 35,
     "metadata": {},
     "output_type": "execute_result"
    },
    {
     "data": {
      "text/plain": [
       "((0, 0), 0)"
      ]
     },
     "execution_count": 35,
     "metadata": {},
     "output_type": "execute_result"
    },
    {
     "data": {
      "text/plain": [
       "((0, 1), 1)"
      ]
     },
     "execution_count": 35,
     "metadata": {},
     "output_type": "execute_result"
    },
    {
     "data": {
      "text/plain": [
       "((1, -1), 0)"
      ]
     },
     "execution_count": 35,
     "metadata": {},
     "output_type": "execute_result"
    },
    {
     "data": {
      "text/plain": [
       "((1, 0), 1)"
      ]
     },
     "execution_count": 35,
     "metadata": {},
     "output_type": "execute_result"
    },
    {
     "data": {
      "text/plain": [
       "((1, 1), 1)"
      ]
     },
     "execution_count": 35,
     "metadata": {},
     "output_type": "execute_result"
    }
   ],
   "source": [
    "XYs = tuple(product((-1,0,1), (-1,0,1)))\n",
    "XYs\n",
    "\n",
    "def cup(x,y):\n",
    "    '''\n",
    "    Formula:\n",
    "    x or y, where 1 = T, -1 = T, 0 = F\n",
    "    \n",
    "    Algebra:\n",
    "    0 is the identity ∀x ∈ {-1,0,+1}\n",
    "    x is its own identity ∀x ∈ {-1,0,+1}\n",
    "    (-1 and +1 are mutual inverses, but this case shouldn't occur when agree(x,y) holds)\n",
    "    \n",
    "    Pattern:\n",
    "    x ∪ x = x\n",
    "    \n",
    "    0 ∪ y = y\n",
    "    x ∪ 0 = x\n",
    "    \n",
    "    _ ∪ _ = 0  \\\\ <- shouldn't occur in two pfvs that agree\n",
    "    '''\n",
    "    if x == 0:  #if x is unspecified, return y\n",
    "        return y\n",
    "    elif y == 0: #if y is unspecified, return x\n",
    "        return x\n",
    "    elif x == y: #if both are specified and the same, return their common value\n",
    "        return x\n",
    "    else: #otherwise return 0\n",
    "        return 0\n",
    "\n",
    "for x,y in XYs:\n",
    "    ((x,y), cup(x,y))"
   ]
  },
  {
   "cell_type": "code",
   "execution_count": 36,
   "metadata": {
    "ExecuteTime": {
     "end_time": "2019-05-10T06:40:45.002453Z",
     "start_time": "2019-05-10T06:40:44.987936Z"
    }
   },
   "outputs": [],
   "source": [
    "def union(u, v):\n",
    "    if CAREFUL:\n",
    "        assert agree_(u,v)\n",
    "    return np.sign(u + v)\n",
    "\n",
    "def twoToOne(x):\n",
    "    if x != 2 and x != -2:\n",
    "        return x\n",
    "    elif x == 2:\n",
    "        return 1\n",
    "    else:\n",
    "        return -1\n",
    "\n",
    "twoToOne_v = np.vectorize(twoToOne)\n",
    "\n",
    "def union_alt(u, v):\n",
    "    if CAREFUL:\n",
    "        assert agree_(u,v)\n",
    "    return np.array(twoToOne_v(u + v), dtype=myint)\n",
    "\n",
    "def union_alt2(u, v):\n",
    "    if CAREFUL:\n",
    "        assert agree_(u,v)\n",
    "    s = u + v\n",
    "    return np.trunc( np.sqrt(np.abs(s)) ) * np.sign(s,dtype=myint)\n",
    "\n",
    "def union_alt3(u, v):\n",
    "    if CAREFUL:\n",
    "        assert agree_(u,v)\n",
    "    w = u.copy()\n",
    "    for i,x in enumerate(v):\n",
    "        if x != 0:\n",
    "            w[i] = x\n",
    "    return w\n",
    "\n",
    "def union_alt4(u, v):\n",
    "    if CAREFUL:\n",
    "        assert agree_(u,v)\n",
    "    return np.array([cup(u[i],v[i]) for i in range(m)], dtype=myint)\n",
    "\n",
    "cup_v = np.vectorize(cup)\n",
    "\n",
    "def union_alt5(u, v):\n",
    "    if CAREFUL:\n",
    "        assert agree_(u,v)\n",
    "    return np.array(cup_v(u,v), dtype=myint)"
   ]
  },
  {
   "cell_type": "code",
   "execution_count": 37,
   "metadata": {
    "ExecuteTime": {
     "end_time": "2019-05-10T06:40:45.850729Z",
     "start_time": "2019-05-10T06:40:45.818052Z"
    }
   },
   "outputs": [
    {
     "data": {
      "text/plain": [
       "(array([ 0, -1, -1,  1,  0,  0], dtype=int8),\n",
       " array([ 1,  0,  0,  0, -1, -1], dtype=int8))"
      ]
     },
     "execution_count": 37,
     "metadata": {},
     "output_type": "execute_result"
    },
    {
     "data": {
      "text/plain": [
       "array([ 1, -1, -1,  1, -1, -1], dtype=int8)"
      ]
     },
     "execution_count": 37,
     "metadata": {},
     "output_type": "execute_result"
    },
    {
     "data": {
      "text/plain": [
       "array([ 1, -1, -1,  1, -1, -1], dtype=int8)"
      ]
     },
     "execution_count": 37,
     "metadata": {},
     "output_type": "execute_result"
    },
    {
     "data": {
      "text/plain": [
       "array([ 1., -1., -1.,  1., -1., -1.], dtype=float16)"
      ]
     },
     "execution_count": 37,
     "metadata": {},
     "output_type": "execute_result"
    },
    {
     "data": {
      "text/plain": [
       "array([ 1, -1, -1,  1, -1, -1], dtype=int8)"
      ]
     },
     "execution_count": 37,
     "metadata": {},
     "output_type": "execute_result"
    },
    {
     "data": {
      "text/plain": [
       "array([ 1, -1, -1,  1, -1, -1], dtype=int8)"
      ]
     },
     "execution_count": 37,
     "metadata": {},
     "output_type": "execute_result"
    },
    {
     "data": {
      "text/plain": [
       "array([ 1, -1, -1,  1, -1, -1], dtype=int8)"
      ]
     },
     "execution_count": 37,
     "metadata": {},
     "output_type": "execute_result"
    }
   ],
   "source": [
    "test_pair = choice(agreeing_vector_pairs)\n",
    "test_pair\n",
    "\n",
    "union(*test_pair)\n",
    "union_alt(*test_pair)\n",
    "union_alt2(*test_pair)\n",
    "union_alt3(*test_pair)\n",
    "union_alt4(*test_pair)\n",
    "union_alt5(*test_pair)"
   ]
  },
  {
   "cell_type": "code",
   "execution_count": 38,
   "metadata": {
    "ExecuteTime": {
     "end_time": "2019-05-10T06:41:01.278535Z",
     "start_time": "2019-05-10T06:40:46.688109Z"
    }
   },
   "outputs": [
    {
     "name": "stdout",
     "output_type": "stream",
     "text": [
      "184 ms ± 45.6 ms per loop (mean ± std. dev. of 7 runs, 10 loops each)\n"
     ]
    }
   ],
   "source": [
    "%%timeit\n",
    "\n",
    "list(starmap(union, agreeing_vector_pairs));"
   ]
  },
  {
   "cell_type": "code",
   "execution_count": 330,
   "metadata": {
    "ExecuteTime": {
     "end_time": "2019-05-10T05:23:12.001524Z",
     "start_time": "2019-05-10T05:22:45.781606Z"
    }
   },
   "outputs": [
    {
     "name": "stdout",
     "output_type": "stream",
     "text": [
      "3.23 s ± 1.06 s per loop (mean ± std. dev. of 7 runs, 1 loop each)\n"
     ]
    }
   ],
   "source": [
    "%%timeit\n",
    "\n",
    "list(starmap(union_alt, agreeing_vector_pairs));"
   ]
  },
  {
   "cell_type": "code",
   "execution_count": 331,
   "metadata": {
    "ExecuteTime": {
     "end_time": "2019-05-10T05:23:17.345970Z",
     "start_time": "2019-05-10T05:23:12.004690Z"
    }
   },
   "outputs": [
    {
     "name": "stdout",
     "output_type": "stream",
     "text": [
      "587 ms ± 107 ms per loop (mean ± std. dev. of 7 runs, 1 loop each)\n"
     ]
    }
   ],
   "source": [
    "%%timeit\n",
    "\n",
    "list(starmap(union_alt2, agreeing_vector_pairs));"
   ]
  },
  {
   "cell_type": "code",
   "execution_count": 332,
   "metadata": {
    "ExecuteTime": {
     "end_time": "2019-05-10T05:23:30.049180Z",
     "start_time": "2019-05-10T05:23:17.349354Z"
    }
   },
   "outputs": [
    {
     "name": "stdout",
     "output_type": "stream",
     "text": [
      "1.56 s ± 382 ms per loop (mean ± std. dev. of 7 runs, 1 loop each)\n"
     ]
    }
   ],
   "source": [
    "%%timeit\n",
    "\n",
    "list(starmap(union_alt3, agreeing_vector_pairs));"
   ]
  },
  {
   "cell_type": "code",
   "execution_count": 333,
   "metadata": {
    "ExecuteTime": {
     "end_time": "2019-05-10T05:23:45.113132Z",
     "start_time": "2019-05-10T05:23:30.053751Z"
    }
   },
   "outputs": [
    {
     "name": "stdout",
     "output_type": "stream",
     "text": [
      "1.91 s ± 621 ms per loop (mean ± std. dev. of 7 runs, 1 loop each)\n"
     ]
    }
   ],
   "source": [
    "%%timeit\n",
    "\n",
    "list(starmap(union_alt4, agreeing_vector_pairs));"
   ]
  },
  {
   "cell_type": "code",
   "execution_count": 334,
   "metadata": {
    "ExecuteTime": {
     "end_time": "2019-05-10T05:24:15.695721Z",
     "start_time": "2019-05-10T05:23:45.116773Z"
    }
   },
   "outputs": [
    {
     "name": "stdout",
     "output_type": "stream",
     "text": [
      "3.59 s ± 1.29 s per loop (mean ± std. dev. of 7 runs, 1 loop each)\n"
     ]
    }
   ],
   "source": [
    "%%timeit\n",
    "\n",
    "list(starmap(union_alt5, agreeing_vector_pairs));"
   ]
  },
  {
   "cell_type": "markdown",
   "metadata": {},
   "source": [
    "### Intersection"
   ]
  },
  {
   "cell_type": "markdown",
   "metadata": {},
   "source": [
    "The intersection of two partial feature vectors $u,v$ should result in a partial feature vector that has every specified value that is specified in both $u$ and $v$ and where $u$ and $v$ agree, and no other specified values.\n",
    "\n",
    "In general, the result is no more specified than either $u$ or $v$: when $u=v$ $u \\cap v = u = v$ and $u \\cap v$ is no less specified, but otherwise $u \\cap v$ will be strictly less specified than either $u$ or $v$."
   ]
  },
  {
   "cell_type": "code",
   "execution_count": 39,
   "metadata": {
    "ExecuteTime": {
     "end_time": "2019-05-10T06:41:01.367334Z",
     "start_time": "2019-05-10T06:41:01.287225Z"
    }
   },
   "outputs": [
    {
     "data": {
      "text/plain": [
       "((-1, -1), (-1, 0), (-1, 1), (0, -1), (0, 0), (0, 1), (1, -1), (1, 0), (1, 1))"
      ]
     },
     "execution_count": 39,
     "metadata": {},
     "output_type": "execute_result"
    },
    {
     "data": {
      "text/plain": [
       "((-1, -1), -1, -1, -1.0, -1)"
      ]
     },
     "execution_count": 39,
     "metadata": {},
     "output_type": "execute_result"
    },
    {
     "data": {
      "text/plain": [
       "((-1, 0), 0, 0, 0.0, 0)"
      ]
     },
     "execution_count": 39,
     "metadata": {},
     "output_type": "execute_result"
    },
    {
     "data": {
      "text/plain": [
       "((-1, 1), 0, 0, 0.0, 0)"
      ]
     },
     "execution_count": 39,
     "metadata": {},
     "output_type": "execute_result"
    },
    {
     "data": {
      "text/plain": [
       "((0, -1), 0, 0, 0.0, 0)"
      ]
     },
     "execution_count": 39,
     "metadata": {},
     "output_type": "execute_result"
    },
    {
     "data": {
      "text/plain": [
       "((0, 0), 0, 0, 0.0, 0)"
      ]
     },
     "execution_count": 39,
     "metadata": {},
     "output_type": "execute_result"
    },
    {
     "data": {
      "text/plain": [
       "((0, 1), 0, 0, 0.0, 0)"
      ]
     },
     "execution_count": 39,
     "metadata": {},
     "output_type": "execute_result"
    },
    {
     "data": {
      "text/plain": [
       "((1, -1), 0, 0, 0.0, 0)"
      ]
     },
     "execution_count": 39,
     "metadata": {},
     "output_type": "execute_result"
    },
    {
     "data": {
      "text/plain": [
       "((1, 0), 0, 0, 0.0, 0)"
      ]
     },
     "execution_count": 39,
     "metadata": {},
     "output_type": "execute_result"
    },
    {
     "data": {
      "text/plain": [
       "((1, 1), 1, 1, 1.0, 1)"
      ]
     },
     "execution_count": 39,
     "metadata": {},
     "output_type": "execute_result"
    }
   ],
   "source": [
    "XYs = tuple(product((-1,0,1), (-1,0,1)))\n",
    "XYs \n",
    "    \n",
    "def cap(x,y):\n",
    "    '''\n",
    "    Algebra:\n",
    "    0 is the annihilating element ∀x ∈ {-1,0,+1}\n",
    "    x is its own identity ∀x ∈ {-1,0,+1}\n",
    "    -1 and +1 annihilate each other\n",
    "    \n",
    "    Pattern:\n",
    "    x ∩ x = x\n",
    "    \n",
    "    0 ∩ _ = 0\n",
    "    _ ∩ 0 = 0\n",
    "    \n",
    "    _ ∩ _ = 0\n",
    "    '''\n",
    "    if x == 0: #if x is unspecified, return 0\n",
    "        return 0\n",
    "    elif y == 0: #if y is unspecified, return 0\n",
    "        return 0\n",
    "    elif x == y: #if both are specified and the same, return their common value\n",
    "        return x\n",
    "    else: #otherwise return 0\n",
    "        return 0\n",
    "\n",
    "def foo(x,y):\n",
    "    return np.sign( (x == y) * (x + y) )\n",
    "\n",
    "def bar(x,y):\n",
    "    return (x == y) * (x + y) * 0.5\n",
    "\n",
    "def baz(x,y):\n",
    "    return (x == y) * int((x + y) / 2)\n",
    "\n",
    "for x,y in XYs:\n",
    "#     ((x,y), cap(x,y))\n",
    "    ((x,y), cap(x,y), foo(x,y), bar(x,y), baz(x,y))"
   ]
  },
  {
   "cell_type": "code",
   "execution_count": 40,
   "metadata": {
    "ExecuteTime": {
     "end_time": "2019-05-10T06:41:01.386397Z",
     "start_time": "2019-05-10T06:41:01.370197Z"
    }
   },
   "outputs": [],
   "source": [
    "def intersection(u, v):\n",
    "    return np.sign(  np.equal(u, v) * (u + v) )\n",
    "\n",
    "def intersection_alt(u, v):\n",
    "    return np.array([cap(u[i],v[i]) for i in range(m)], dtype=myint)\n",
    "\n",
    "def intersection_alt2(u, v):\n",
    "    return np.array(np.equal(u, v) * (u + v) * 0.5, dtype=myint)\n",
    "\n",
    "def intersection_alt3(u, v):\n",
    "    return np.array([bar(u[i], v[i]) for i in range(m)], dtype=myint)"
   ]
  },
  {
   "cell_type": "code",
   "execution_count": 41,
   "metadata": {
    "ExecuteTime": {
     "end_time": "2019-05-10T06:41:01.418384Z",
     "start_time": "2019-05-10T06:41:01.390412Z"
    }
   },
   "outputs": [
    {
     "data": {
      "text/plain": [
       "(array([ 0,  1, -1,  0,  0,  0], dtype=int8),\n",
       " array([ 1, -1,  0, -1,  0, -1], dtype=int8))"
      ]
     },
     "execution_count": 41,
     "metadata": {},
     "output_type": "execute_result"
    },
    {
     "data": {
      "text/plain": [
       "array([0, 0, 0, 0, 0, 0], dtype=int8)"
      ]
     },
     "execution_count": 41,
     "metadata": {},
     "output_type": "execute_result"
    },
    {
     "data": {
      "text/plain": [
       "array([0, 0, 0, 0, 0, 0], dtype=int8)"
      ]
     },
     "execution_count": 41,
     "metadata": {},
     "output_type": "execute_result"
    },
    {
     "data": {
      "text/plain": [
       "array([0, 0, 0, 0, 0, 0], dtype=int8)"
      ]
     },
     "execution_count": 41,
     "metadata": {},
     "output_type": "execute_result"
    },
    {
     "data": {
      "text/plain": [
       "array([0, 0, 0, 0, 0, 0], dtype=int8)"
      ]
     },
     "execution_count": 41,
     "metadata": {},
     "output_type": "execute_result"
    }
   ],
   "source": [
    "test_pair = choice(random_vector_pairs)\n",
    "test_pair\n",
    "\n",
    "intersection(*test_pair)\n",
    "intersection_alt(*test_pair)\n",
    "intersection_alt2(*test_pair)\n",
    "intersection_alt3(*test_pair)"
   ]
  },
  {
   "cell_type": "code",
   "execution_count": 338,
   "metadata": {
    "ExecuteTime": {
     "end_time": "2019-05-10T05:24:32.937873Z",
     "start_time": "2019-05-10T05:24:15.841532Z"
    }
   },
   "outputs": [],
   "source": [
    "for pair in random_vector_pairs:\n",
    "    assert np.array_equal(intersection(*pair), intersection_alt(*pair)), 'Agreement failure on {0}'.format(pair)\n",
    "    assert np.array_equal(intersection_alt2(*pair), intersection_alt(*pair)), 'Agreement failure on {0}'.format(pair)\n",
    "    assert np.array_equal(intersection_alt3(*pair), intersection_alt(*pair)), 'Agreement failure on {0}'.format(pair)"
   ]
  },
  {
   "cell_type": "code",
   "execution_count": 339,
   "metadata": {
    "ExecuteTime": {
     "end_time": "2019-05-10T05:24:36.824065Z",
     "start_time": "2019-05-10T05:24:32.940142Z"
    }
   },
   "outputs": [
    {
     "name": "stdout",
     "output_type": "stream",
     "text": [
      "468 ms ± 141 ms per loop (mean ± std. dev. of 7 runs, 1 loop each)\n"
     ]
    }
   ],
   "source": [
    "%%timeit\n",
    "\n",
    "list(starmap(intersection, random_vector_pairs));"
   ]
  },
  {
   "cell_type": "code",
   "execution_count": 340,
   "metadata": {
    "ExecuteTime": {
     "end_time": "2019-05-10T05:24:59.179498Z",
     "start_time": "2019-05-10T05:24:36.825846Z"
    }
   },
   "outputs": [
    {
     "name": "stdout",
     "output_type": "stream",
     "text": [
      "2.82 s ± 550 ms per loop (mean ± std. dev. of 7 runs, 1 loop each)\n"
     ]
    }
   ],
   "source": [
    "%%timeit\n",
    "\n",
    "list(starmap(intersection_alt, random_vector_pairs));"
   ]
  },
  {
   "cell_type": "code",
   "execution_count": 341,
   "metadata": {
    "ExecuteTime": {
     "end_time": "2019-05-10T05:25:05.676053Z",
     "start_time": "2019-05-10T05:24:59.185403Z"
    }
   },
   "outputs": [
    {
     "name": "stdout",
     "output_type": "stream",
     "text": [
      "850 ms ± 249 ms per loop (mean ± std. dev. of 7 runs, 1 loop each)\n"
     ]
    }
   ],
   "source": [
    "%%timeit\n",
    "\n",
    "list(starmap(intersection_alt2, random_vector_pairs));"
   ]
  },
  {
   "cell_type": "code",
   "execution_count": 342,
   "metadata": {
    "ExecuteTime": {
     "end_time": "2019-05-10T05:25:32.833816Z",
     "start_time": "2019-05-10T05:25:05.680103Z"
    }
   },
   "outputs": [
    {
     "name": "stdout",
     "output_type": "stream",
     "text": [
      "3.27 s ± 1 s per loop (mean ± std. dev. of 7 runs, 1 loop each)\n"
     ]
    }
   ],
   "source": [
    "%%timeit\n",
    "\n",
    "list(starmap(intersection_alt3, random_vector_pairs));"
   ]
  },
  {
   "cell_type": "markdown",
   "metadata": {},
   "source": [
    "### Extension"
   ]
  },
  {
   "cell_type": "code",
   "execution_count": 42,
   "metadata": {
    "ExecuteTime": {
     "end_time": "2019-05-10T06:41:01.430892Z",
     "start_time": "2019-05-10T06:41:01.421470Z"
    }
   },
   "outputs": [],
   "source": [
    "def extension(v, asIndexVector=True):\n",
    "    '''\n",
    "    The extension of a partial feature vector v is the set of object vectors\n",
    "    (= fully specified, or 'total' feature vectors) that 'agree' with it.\n",
    "    '''\n",
    "    matches = tuple([o for o in objects if agree_(v,o)])\n",
    "#     matches = tuple([o for o in objects if agree(v,o).all()])\n",
    "#     matches = np.array([1.0 if np.linalg.norm(agree(v,o), 1) == num_features else 0.0 for o in objects])\n",
    "    if asIndexVector:\n",
    "        return makeExtensionVector([getIndex(o) for o in matches])\n",
    "    return matches"
   ]
  },
  {
   "cell_type": "code",
   "execution_count": 43,
   "metadata": {
    "ExecuteTime": {
     "end_time": "2019-05-10T06:41:01.451324Z",
     "start_time": "2019-05-10T06:41:01.434015Z"
    }
   },
   "outputs": [],
   "source": [
    "def in_extension(s, o):\n",
    "    '''\n",
    "    Given a partial feature vector s and a fully specified object vector o,\n",
    "    returns True iff o ∈ ⟦s⟧ and False otherwise.\n",
    "    '''\n",
    "    if np.array_equal( s, np.zeros(s.shape) ):\n",
    "        return True\n",
    "    \n",
    "    s_ = np.abs(s)\n",
    "    o_ = s_ * o\n",
    "    s_normed = normalize(s)\n",
    "    o_normed = normalize(o_)\n",
    "    pr = np.dot(s_normed, o_normed)\n",
    "    return np.isclose(1.0, pr)\n",
    "\n",
    "def extension_alt(s):\n",
    "    extensionVector = np.array([1 if in_extension(s, o) else 0 for o in objectMap], dtype=myint)\n",
    "    return extensionVector"
   ]
  },
  {
   "cell_type": "code",
   "execution_count": 44,
<<<<<<< HEAD
   "metadata": {
    "ExecuteTime": {
     "end_time": "2019-05-10T06:41:01.849263Z",
     "start_time": "2019-05-10T06:41:01.842458Z"
    }
   },
   "outputs": [],
   "source": [
    "def in_extension_alt2(s, o):\n",
    "    '''\n",
    "    Given a partial feature vector s and a fully specified object vector o,\n",
    "    returns True iff o ∈ ⟦s⟧ and False otherwise.\n",
    "    '''\n",
    "    if np.array_equal( s, np.zeros(s.shape) ):\n",
    "        return True\n",
    "    \n",
    "    s_ = np.abs(s)\n",
    "    mag = np.sum(s_)\n",
    "    s_prime = s_ / mag\n",
    "#     o_ = s_ * o\n",
    "#     s_normed = normalize(s)\n",
    "#     o_normed = normalize(o_)\n",
    "#     pr = np.dot(s_normed, o_normed)\n",
    "#     pr = np.dot(s_normed, o)\n",
    "#     pr = np.dot(s_, o)\n",
    "    pr = np.dot(s_prime, o)\n",
    "#     return np.isclose(1.0, pr)\n",
    "#     return pr == mag\n",
    "    return pr#, mag\n",
    "\n",
    "def extension_alt2(s):\n",
    "    extensionVector = np.array([1 if in_extension_alt(s, o) else 0 for o in objectMap], dtype=myint)\n",
    "    return extensionVector"
   ]
  },
  {
   "cell_type": "code",
   "execution_count": 45,
   "metadata": {
    "ExecuteTime": {
=======
   "metadata": {
    "ExecuteTime": {
     "end_time": "2019-05-10T06:41:01.849263Z",
     "start_time": "2019-05-10T06:41:01.842458Z"
    }
   },
   "outputs": [],
   "source": [
    "def in_extension_alt2(s, o):\n",
    "    '''\n",
    "    Given a partial feature vector s and a fully specified object vector o,\n",
    "    returns True iff o ∈ ⟦s⟧ and False otherwise.\n",
    "    '''\n",
    "    if np.array_equal( s, np.zeros(s.shape) ):\n",
    "        return True\n",
    "    \n",
    "    s_ = np.abs(s)\n",
    "    mag = np.sum(s_)\n",
    "    s_prime = s_ / mag\n",
    "#     o_ = s_ * o\n",
    "#     s_normed = normalize(s)\n",
    "#     o_normed = normalize(o_)\n",
    "#     pr = np.dot(s_normed, o_normed)\n",
    "#     pr = np.dot(s_normed, o)\n",
    "#     pr = np.dot(s_, o)\n",
    "    pr = np.dot(s_prime, o)\n",
    "#     return np.isclose(1.0, pr)\n",
    "#     return pr == mag\n",
    "    return pr#, mag\n",
    "\n",
    "def extension_alt2(s):\n",
    "    extensionVector = np.array([1 if in_extension_alt(s, o) else 0 for o in objectMap], dtype=myint)\n",
    "    return extensionVector"
   ]
  },
  {
   "cell_type": "code",
   "execution_count": 45,
   "metadata": {
    "ExecuteTime": {
>>>>>>> 0a328375a3f14f6013bfebf1214fe140b81c5be2
     "end_time": "2019-05-10T06:41:04.587261Z",
     "start_time": "2019-05-10T06:41:04.579189Z"
    }
   },
   "outputs": [],
   "source": [
    "def ramp(M):\n",
    "    return np.heaviside(M-1, 1).astype(myint)\n",
    "\n",
    "def primed(p):\n",
    "    mag_p = np.sum(np.abs(p))\n",
    "    return p / mag_p\n",
    "\n",
    "def unramped_in_extension_alt3(s,o):\n",
    "    p = s\n",
    "    return np.dot(o, primed(p))\n",
    "\n",
    "def in_extension_alt3(s, o):\n",
    "    p = s\n",
    "    return ramp( np.dot(o, primed(p)) )\n",
    "\n",
    "def extension_alt3(s):\n",
    "    if np.array_equal(s, np.zeros(s.shape)):\n",
    "        return np.ones((l,), dtype=myint)\n",
    "    p = s\n",
    "#     mag_p = np.sum(np.abs(p))\n",
    "#     p_prime = p / mag_p\n",
    "    return ramp( np.dot(objectMap, primed(p)) )\n",
    "\n",
    "def unramped_extension_alt3(s):\n",
    "    if np.array_equal(s, np.zeros(s.shape)):\n",
    "        return np.ones((l,), dtype=myint)\n",
    "    p = s\n",
    "#     mag_p = np.sum(np.abs(p))\n",
    "#     p_prime = p / mag_p\n",
    "    return np.dot(objectMap, primed(p))"
   ]
  },
  {
   "cell_type": "code",
   "execution_count": 48,
   "metadata": {
    "ExecuteTime": {
     "end_time": "2019-05-10T06:42:25.104800Z",
     "start_time": "2019-05-10T06:42:25.050070Z"
    }
   },
   "outputs": [
    {
     "name": "stdout",
     "output_type": "stream",
     "text": [
      "p = [0 0 1 1 0 0]\n",
      "⟦p⟧ = \n",
      "(array([-1,  1,  1,  1, -1,  1]), array([-1, -1,  1,  1, -1, -1]), array([-1, -1,  1,  1,  1,  1]), array([ 1,  1,  1,  1,  1, -1]))\n",
      "⟦p⟧_0 = \n",
      "[-1  1  1  1 -1  1]\n",
      "⟦p⟧_0 ∈ ⟦p⟧? True\n"
     ]
    },
    {
<<<<<<< HEAD
     "data": {
      "text/plain": [
       "array([1, 1, 1, 1], dtype=int8)"
      ]
     },
     "execution_count": 48,
     "metadata": {},
     "output_type": "execute_result"
    },
    {
     "name": "stdout",
     "output_type": "stream",
     "text": [
      " \n",
      "|abs(p)| = 2\n",
      "p' = [ 0.   0.   0.5  0.5  0.   0. ]\n",
      "⟦p⟧ = \n",
      "[1 0 0 0 1 0 0 1 0 0 0 0 0 0 0 1 0 0 0 0 0 0 0]\n",
      "A = ⟦p⟧ = \n",
      "[[-1  1  1  1 -1  1]\n",
      " [-1 -1  1  1 -1 -1]\n",
      " [-1 -1  1  1  1  1]\n",
      " [ 1  1  1  1  1 -1]]\n",
      "A⸱p = [2 2 2 2]\n",
      "V = \n",
      "[[-1  1  1  1 -1  1]\n",
      " [ 1 -1 -1  1 -1  1]\n",
      " [-1 -1  1 -1 -1  1]\n",
      " [-1  1  1 -1  1  1]\n",
      " [-1 -1  1  1 -1 -1]\n",
      " [-1 -1  1 -1  1  1]\n",
      " [-1  1  1 -1 -1  1]\n",
      " [-1 -1  1  1  1  1]\n",
      " [-1 -1  1 -1 -1 -1]\n",
      " [-1  1  1 -1  1 -1]\n",
      " [ 1  1  1 -1 -1 -1]\n",
      " [-1  1 -1 -1  1 -1]\n",
      " [-1 -1 -1  1  1  1]\n",
      " [ 1  1 -1  1  1 -1]\n",
      " [-1 -1 -1 -1  1  1]\n",
      " [ 1  1  1  1  1 -1]\n",
      " [ 1  1 -1  1  1  1]\n",
      " [-1 -1 -1 -1  1 -1]\n",
      " [ 1  1 -1 -1  1  1]\n",
      " [ 1 -1 -1 -1 -1  1]\n",
      " [-1  1 -1  1 -1  1]\n",
      " [ 1 -1 -1  1 -1 -1]\n",
      " [ 1  1 -1 -1 -1  1]]\n",
      "V⸱p = \n",
      "[ 2  0  0  0  2  0  0  2  0  0  0 -2  0  0 -2  2  0 -2 -2 -2  0  0 -2]\n",
      "V⸱p' = \n",
      "[ 1.  0.  0.  0.  1.  0.  0.  1.  0.  0.  0. -1.  0.  0. -1.  1.  0. -1.\n",
      " -1. -1.  0.  0. -1.]\n"
     ]
    },
    {
     "data": {
      "text/plain": [
       "array([1, 0, 0, 0, 1, 0, 0, 1, 0, 0, 0, 0, 0, 0, 0, 1, 0, 0, 0, 0, 0, 0, 0], dtype=int8)"
=======
     "data": {
      "text/plain": [
       "array([1, 1, 1, 1], dtype=int8)"
>>>>>>> 0a328375a3f14f6013bfebf1214fe140b81c5be2
      ]
     },
     "execution_count": 48,
     "metadata": {},
     "output_type": "execute_result"
    },
    {
     "name": "stdout",
     "output_type": "stream",
     "text": [
      " \n",
      "|abs(p)| = 2\n",
      "p' = [ 0.   0.   0.5  0.5  0.   0. ]\n",
      "⟦p⟧ = \n",
      "[1 0 0 0 1 0 0 1 0 0 0 0 0 0 0 1 0 0 0 0 0 0 0]\n",
      "A = ⟦p⟧ = \n",
      "[[-1  1  1  1 -1  1]\n",
      " [-1 -1  1  1 -1 -1]\n",
      " [-1 -1  1  1  1  1]\n",
      " [ 1  1  1  1  1 -1]]\n",
      "A⸱p = [2 2 2 2]\n",
      "V = \n",
      "[[-1  1  1  1 -1  1]\n",
      " [ 1 -1 -1  1 -1  1]\n",
      " [-1 -1  1 -1 -1  1]\n",
      " [-1  1  1 -1  1  1]\n",
      " [-1 -1  1  1 -1 -1]\n",
      " [-1 -1  1 -1  1  1]\n",
      " [-1  1  1 -1 -1  1]\n",
      " [-1 -1  1  1  1  1]\n",
      " [-1 -1  1 -1 -1 -1]\n",
      " [-1  1  1 -1  1 -1]\n",
      " [ 1  1  1 -1 -1 -1]\n",
      " [-1  1 -1 -1  1 -1]\n",
      " [-1 -1 -1  1  1  1]\n",
      " [ 1  1 -1  1  1 -1]\n",
      " [-1 -1 -1 -1  1  1]\n",
      " [ 1  1  1  1  1 -1]\n",
      " [ 1  1 -1  1  1  1]\n",
      " [-1 -1 -1 -1  1 -1]\n",
      " [ 1  1 -1 -1  1  1]\n",
      " [ 1 -1 -1 -1 -1  1]\n",
      " [-1  1 -1  1 -1  1]\n",
      " [ 1 -1 -1  1 -1 -1]\n",
      " [ 1  1 -1 -1 -1  1]]\n",
      "V⸱p = \n",
      "[ 2  0  0  0  2  0  0  2  0  0  0 -2  0  0 -2  2  0 -2 -2 -2  0  0 -2]\n",
      "V⸱p' = \n",
      "[ 1.  0.  0.  0.  1.  0.  0.  1.  0.  0.  0. -1.  0.  0. -1.  1.  0. -1.\n",
      " -1. -1.  0.  0. -1.]\n"
     ]
    },
    {
     "data": {
      "text/plain": [
<<<<<<< HEAD
=======
       "array([1, 0, 0, 0, 1, 0, 0, 1, 0, 0, 0, 0, 0, 0, 0, 1, 0, 0, 0, 0, 0, 0, 0], dtype=int8)"
      ]
     },
     "execution_count": 48,
     "metadata": {},
     "output_type": "execute_result"
    },
    {
     "data": {
      "text/plain": [
>>>>>>> 0a328375a3f14f6013bfebf1214fe140b81c5be2
       "True"
      ]
     },
     "execution_count": 48,
     "metadata": {},
     "output_type": "execute_result"
    }
   ],
   "source": [
    "p = make_random_pfv()\n",
    "print( 'p = {0}'.format(p) )\n",
    "print( '⟦p⟧ = \\n{0}'.format(extension(p, False)) )\n",
    "p_x0 = extension(p, False)[0];\n",
    "print( '⟦p⟧_0 = \\n{0}'.format(p_x0) )\n",
    "print( '⟦p⟧_0 ∈ ⟦p⟧? {0}'.format(in_extension(p, p_x0)) )\n",
    "# in_extension_alt(p, p_x0)\n",
    "np.array( [ramp( np.dot(p_xi, primed(p)) ) for p_xi in extension(p, False)] )\n",
    "print(' ')\n",
    "\n",
    "mag_p = np.sum(np.abs(p))\n",
    "print( '|abs(p)| = {0}'.format( mag_p ) )\n",
    "p_prime = p / mag_p\n",
    "print( \"p' = {0}\".format( p_prime  ) )\n",
    "ext_p = np.array(extension(p, True))\n",
    "print( '⟦p⟧ = \\n{0}'.format(ext_p) )\n",
    "A = extension(p, False)\n",
    "print( 'A = ⟦p⟧ = \\n{0}'.format(np.array(A)) )\n",
    "A_dot_p = np.dot(A, p)\n",
    "print('A⸱p = {0}'.format( A_dot_p ))\n",
    "print( 'V = \\n{0}'.format(objectMap) )\n",
    "# print( 'unramped_3 ⟦p⟧:\\n{0}'.format(unramped_extension_alt3(p)) )\n",
    "V_dot_p = np.dot(objectMap, p)\n",
    "print(\"V⸱p = \\n{0}\".format( V_dot_p))\n",
    "V_dot_p_prime = np.dot(objectMap, p_prime)\n",
    "print( \"V⸱p' = \\n{0}\".format(V_dot_p_prime) )\n",
    "\n",
    "def ramp(M):\n",
    "    return np.heaviside(M-1, 1).astype(myint)\n",
    "ramp(V_dot_p_prime)\n",
    "np.array_equal(ext_p, ramp(V_dot_p_prime))\n",
    "# np.heaviside( np.dot(objectMap, p/(np.sum(np.abs(p)))) )"
<<<<<<< HEAD
=======
   ]
  },
  {
   "cell_type": "code",
   "execution_count": 61,
   "metadata": {
    "ExecuteTime": {
     "end_time": "2019-05-10T07:00:45.585206Z",
     "start_time": "2019-05-10T07:00:45.579379Z"
    }
   },
   "outputs": [],
   "source": [
    "def specifiable_zero_indices(p, ext_p):\n",
    "    '''\n",
    "    Given p and A::(n,m) = ⟦p⟧:\n",
    "    \n",
    "    If p_j = 0 and A_{:,j} = k≠0, then\n",
    "    p_j is unspecified (i.e. p_j = 0) but \n",
    "    can be set to k and yield a co-extensive \n",
    "    and more specific pfv p'.\n",
    "    \n",
    "    This function returns a list of 0-valued \n",
    "    indices of p that can be specified, but not \n",
    "    what the common value at that index is.\n",
    "    \n",
    "    Correctly specifying any one or any combination\n",
    "    of the indices in this list of indices will result\n",
    "    in a more specific vector than p that is coextensive.\n",
    "    \n",
    "    From this list, you can construct (or count) all of the\n",
    "    more specified pfvs that are coextensive with p.\n",
    "    '''\n",
    "    A = ext_p\n",
    "    n = A.shape[0]\n",
    "    n_opp = -1.0 * n\n",
    "#     zeros = np.nonzero(p)[0]\n",
    "    zero_indices = np.array(tuple(  set(range(len(p))) - set(np.nonzero(p)[0])  ), dtype=myint)\n",
    "    specifiable_indices = set()\n",
    "    for j in zero_indices:\n",
    "        j_col_sum = np.sum(A[:,j])\n",
    "        if j_col_sum == n or j_col_sum == n_opp:\n",
    "            "
   ]
  },
  {
   "cell_type": "code",
   "execution_count": 69,
   "metadata": {
    "ExecuteTime": {
     "end_time": "2019-05-10T07:03:51.598212Z",
     "start_time": "2019-05-10T07:03:51.593385Z"
    }
   },
   "outputs": [
    {
     "data": {
      "text/plain": [
       "array([0, 0, 1, 1, 0, 0], dtype=int8)"
      ]
     },
     "execution_count": 69,
     "metadata": {},
     "output_type": "execute_result"
    }
   ],
   "source": [
    "p"
   ]
  },
  {
   "cell_type": "code",
   "execution_count": 68,
   "metadata": {
    "ExecuteTime": {
     "end_time": "2019-05-10T07:03:44.181047Z",
     "start_time": "2019-05-10T07:03:44.174641Z"
    }
   },
   "outputs": [
    {
     "data": {
      "text/plain": [
       "array([[-1,  1,  1,  1, -1,  1],\n",
       "       [-1, -1,  1,  1, -1, -1],\n",
       "       [-1, -1,  1,  1,  1,  1],\n",
       "       [ 1,  1,  1,  1,  1, -1]])"
      ]
     },
     "execution_count": 68,
     "metadata": {},
     "output_type": "execute_result"
    },
    {
     "data": {
      "text/plain": [
       "(4, 6)"
      ]
     },
     "execution_count": 68,
     "metadata": {},
     "output_type": "execute_result"
    }
   ],
   "source": [
    "np.array(extension(p, False))\n",
    "np.array(extension(p, False)).shape"
   ]
  },
  {
   "cell_type": "code",
   "execution_count": 74,
   "metadata": {
    "ExecuteTime": {
     "end_time": "2019-05-10T07:07:07.281390Z",
     "start_time": "2019-05-10T07:07:07.265975Z"
    }
   },
   "outputs": [
    {
     "data": {
      "text/plain": [
       "array([0, 0, 1, 1, 0, 0], dtype=int8)"
      ]
     },
     "execution_count": 74,
     "metadata": {},
     "output_type": "execute_result"
    },
    {
     "data": {
      "text/plain": [
       "array([2, 3])"
      ]
     },
     "execution_count": 74,
     "metadata": {},
     "output_type": "execute_result"
    },
    {
     "data": {
      "text/plain": [
       "{2, 3}"
      ]
     },
     "execution_count": 74,
     "metadata": {},
     "output_type": "execute_result"
    },
    {
     "data": {
      "text/plain": [
       "array([0, 1, 4, 5], dtype=int8)"
      ]
     },
     "execution_count": 74,
     "metadata": {},
     "output_type": "execute_result"
    }
   ],
   "source": [
    "p\n",
    "np.nonzero(p)[0]\n",
    "set(np.nonzero(p)[0])\n",
    "np.array( tuple(\n",
    "    set(range(len(p))) - set(np.nonzero(p)[0])\n",
    "), dtype=myint )"
   ]
  },
  {
   "cell_type": "code",
   "execution_count": 428,
   "metadata": {
    "ExecuteTime": {
     "end_time": "2019-05-10T05:41:28.652963Z",
     "start_time": "2019-05-10T05:41:28.641049Z"
    }
   },
   "outputs": [
    {
     "data": {
      "text/plain": [
       "array([1, 0, 0, 1, 0, 1, 0, 0, 1, 0], dtype=int8)"
      ]
     },
     "execution_count": 428,
     "metadata": {},
     "output_type": "execute_result"
    },
    {
     "data": {
      "text/plain": [
       "array([1, 0, 0, 1, 0, 1, 0, 0, 1, 0], dtype=int8)"
      ]
     },
     "execution_count": 428,
     "metadata": {},
     "output_type": "execute_result"
    },
    {
     "data": {
      "text/plain": [
       "array([1, 0, 0, 1, 0, 1, 0, 0, 1, 0], dtype=int8)"
      ]
     },
     "execution_count": 428,
     "metadata": {},
     "output_type": "execute_result"
    },
    {
     "data": {
      "text/plain": [
       "True"
      ]
     },
     "execution_count": 428,
     "metadata": {},
     "output_type": "execute_result"
    }
   ],
   "source": [
    "# p = make_random_pfv()\n",
    "extension(p)\n",
    "extension_alt(p)\n",
    "extension_alt3(p)\n",
    "np.array_equal(extension_alt(p), extension_alt3(p))"
>>>>>>> 0a328375a3f14f6013bfebf1214fe140b81c5be2
   ]
  },
  {
   "cell_type": "code",
<<<<<<< HEAD
   "execution_count": 118,
   "metadata": {
    "ExecuteTime": {
     "end_time": "2019-05-10T08:17:11.385390Z",
     "start_time": "2019-05-10T08:17:11.376425Z"
=======
   "execution_count": 429,
   "metadata": {
    "ExecuteTime": {
     "end_time": "2019-05-10T05:41:30.011517Z",
     "start_time": "2019-05-10T05:41:30.005434Z"
>>>>>>> 0a328375a3f14f6013bfebf1214fe140b81c5be2
    }
   },
   "outputs": [],
   "source": [
    "def specifiable_zero_indices(p, ext_p):\n",
    "    '''\n",
    "    Given p and A::(n,m) = ⟦p⟧:\n",
    "    \n",
    "    If p_j = 0 and A_{:,j} = k≠0, then\n",
    "    p_j is unspecified (i.e. p_j = 0) but \n",
    "    can be set to k and yield a co-extensive \n",
    "    and more specific pfv p'.\n",
    "    \n",
    "    This function returns a list of pairs of \n",
    "     - (i,v)\n",
    "     - = (0-valued indices of p that can be specified, \n",
    "     and what the common value at that index is).\n",
    "    \n",
    "    Correctly specifying any one or any combination\n",
    "    of the indices in this list of indices will result\n",
    "    in a more specific vector than p that is coextensive.\n",
    "    \n",
    "    From this list, you can construct (or count) all of the\n",
    "    more specified pfvs that are coextensive with p.\n",
    "    '''\n",
    "    A = ext_p\n",
    "    n = A.shape[0]\n",
    "    n_opp = -1.0 * n\n",
    "#     zeros = np.nonzero(p)[0]\n",
    "    zero_indices = np.array(tuple(  set(range(len(p))) - set(np.nonzero(p)[0])  ), dtype=myint)\n",
    "    specifiable_indices = set()\n",
    "    for j in zero_indices:\n",
    "        j_col_sum = np.sum(A[:,j])\n",
    "        if j_col_sum == n:\n",
    "            specifiable_indices.add((j,1))\n",
    "        if j_col_sum == n_opp:\n",
    "            specifiable_indices.add((j,-1))\n",
    "    return specifiable_indices\n",
    "#np.array(tuple(specifiable_indices), dtype=myint)\n",
    "\n",
    "def unabstractable_nonzero_indices(p, ext_p):\n",
    "    '''\n",
    "    Given p and A::(n,m) = ⟦p⟧:\n",
    "    \n",
    "     - Let I::(m,) = [1 if p_i≠0 else 0 for i in range(m)]\n",
    "       - These are the specified (nonzero) indices of p.\n",
    "     \n",
    "     - Let C::() = agree_mat(p,A), i.e.\n",
    "       C_\n",
    "    \n",
    "    If p_j ≠ 0 and A_\n",
    "    '''"
   ]
  },
  {
   "cell_type": "code",
   "execution_count": 163,
   "metadata": {
    "ExecuteTime": {
     "end_time": "2019-05-10T09:09:34.313986Z",
     "start_time": "2019-05-10T09:09:34.310699Z"
    },
    "scrolled": true
   },
   "outputs": [
    {
     "data": {
      "text/plain": [
<<<<<<< HEAD
       "array([0, 0, 0, 0, 0, 0, 0, 0, 0, 0, 0, 0, 0, 0, 0, 0, 0, 1, 0, 0, 0, 0, 0], dtype=int8)"
      ]
     },
     "execution_count": 163,
=======
       "array([1, 0, 0, 1, 0, 1, 0, 0, 1, 0], dtype=int8)"
      ]
     },
     "execution_count": 429,
     "metadata": {},
     "output_type": "execute_result"
    }
   ],
   "source": [
    "extension_alt3(p)"
   ]
  },
  {
   "cell_type": "code",
   "execution_count": 430,
   "metadata": {
    "ExecuteTime": {
     "end_time": "2019-05-10T05:41:30.438485Z",
     "start_time": "2019-05-10T05:41:30.429483Z"
    }
   },
   "outputs": [
    {
     "data": {
      "text/plain": [
       "array([[ 1,  1, -1,  1],\n",
       "       [ 1, -1,  1,  1],\n",
       "       [ 1, -1, -1, -1],\n",
       "       [ 1,  1,  1, -1],\n",
       "       [ 1, -1,  1, -1],\n",
       "       [-1,  1,  1,  1],\n",
       "       [ 1, -1, -1,  1],\n",
       "       [-1, -1, -1, -1],\n",
       "       [-1,  1,  1, -1],\n",
       "       [-1, -1,  1,  1]])"
      ]
     },
     "execution_count": 430,
>>>>>>> 0a328375a3f14f6013bfebf1214fe140b81c5be2
     "metadata": {},
     "output_type": "execute_result"
    }
   ],
   "source": [
    "agree_mat(p, objectMap)"
   ]
  },
  {
   "cell_type": "code",
<<<<<<< HEAD
   "execution_count": 119,
   "metadata": {
    "ExecuteTime": {
     "end_time": "2019-05-10T08:17:12.125279Z",
     "start_time": "2019-05-10T08:17:12.114830Z"
=======
   "execution_count": 431,
   "metadata": {
    "ExecuteTime": {
     "end_time": "2019-05-10T05:41:31.423026Z",
     "start_time": "2019-05-10T05:41:31.023775Z"
>>>>>>> 0a328375a3f14f6013bfebf1214fe140b81c5be2
    }
   },
   "outputs": [
    {
     "data": {
      "text/plain": [
       "array([[-1,  1,  1,  1, -1,  1],\n",
       "       [-1, -1,  1,  1, -1, -1],\n",
       "       [-1, -1,  1,  1,  1,  1],\n",
       "       [ 1,  1,  1,  1,  1, -1]])"
      ]
     },
<<<<<<< HEAD
     "execution_count": 119,
     "metadata": {},
     "output_type": "execute_result"
    },
    {
     "data": {
      "text/plain": [
       "array([[-1,  1,  1,  1, -1,  1],\n",
       "       [-1, -1,  1,  1, -1, -1],\n",
       "       [-1, -1,  1,  1,  1,  1],\n",
       "       [ 1,  1,  1,  1,  1, -1]])"
      ]
     },
     "execution_count": 119,
=======
     "execution_count": 431,
>>>>>>> 0a328375a3f14f6013bfebf1214fe140b81c5be2
     "metadata": {},
     "output_type": "execute_result"
    }
   ],
   "source": [
    "np.array(extension(p, False))\n",
    "extension_mat(p, objectMap)"
   ]
  },
  {
   "cell_type": "code",
<<<<<<< HEAD
   "execution_count": 124,
   "metadata": {
    "ExecuteTime": {
     "end_time": "2019-05-10T08:17:20.130894Z",
     "start_time": "2019-05-10T08:17:20.102682Z"
=======
   "execution_count": 438,
   "metadata": {
    "ExecuteTime": {
     "end_time": "2019-05-10T05:42:41.204837Z",
     "start_time": "2019-05-10T05:42:41.194765Z"
>>>>>>> 0a328375a3f14f6013bfebf1214fe140b81c5be2
    }
   },
   "outputs": [
    {
     "data": {
      "text/plain": [
       "array([0, 0, 1, 1, 0, 0], dtype=int8)"
      ]
     },
     "execution_count": 124,
     "metadata": {},
     "output_type": "execute_result"
    },
    {
     "data": {
      "text/plain": [
       "set()"
      ]
     },
     "execution_count": 124,
     "metadata": {},
     "output_type": "execute_result"
    }
   ],
   "source": [
<<<<<<< HEAD
    "p\n",
    "specifiable_zero_indices(p, extension_mat(p, objectMap))"
=======
    "def extension_test(v):\n",
    "    foo = extension(v)\n",
    "    bar = extension_alt(v)\n",
    "    baz = extension_alt3(v)\n",
    "    if not np.array_equal(foo, bar):\n",
    "        raise Exception('1. Disagreement on {0}: {1} vs. {2}'.format(v, extension(v), extension_alt(v)))\n",
    "    if not np.array_equal(foo, baz):\n",
    "        raise Exception('2. Disagreement on {0}: {1} vs. {2}'.format(v, extension(v), extension_alt3(v)))\n",
    "    return True"
>>>>>>> 0a328375a3f14f6013bfebf1214fe140b81c5be2
   ]
  },
  {
   "cell_type": "code",
<<<<<<< HEAD
   "execution_count": 77,
   "metadata": {
    "ExecuteTime": {
     "end_time": "2019-05-10T07:40:05.739115Z",
     "start_time": "2019-05-10T07:40:05.726835Z"
=======
   "execution_count": 439,
   "metadata": {
    "ExecuteTime": {
     "end_time": "2019-05-10T05:42:59.625487Z",
     "start_time": "2019-05-10T05:42:41.688110Z"
>>>>>>> 0a328375a3f14f6013bfebf1214fe140b81c5be2
    }
   },
   "outputs": [
    {
<<<<<<< HEAD
     "data": {
      "text/plain": [
       "array([1, 0, 0, 0, 1, 0, 0, 1, 0, 0, 0, 0, 0, 0, 0, 1, 0, 0, 0, 0, 0, 0, 0], dtype=int8)"
      ]
     },
     "execution_count": 77,
     "metadata": {},
     "output_type": "execute_result"
    },
    {
     "data": {
      "text/plain": [
       "array([1, 0, 0, 0, 1, 0, 0, 1, 0, 0, 0, 0, 0, 0, 0, 1, 0, 0, 0, 0, 0, 0, 0])"
      ]
     },
     "execution_count": 77,
     "metadata": {},
     "output_type": "execute_result"
    }
   ],
   "source": [
    "def heaviside(x):\n",
    "    return np.array(1 * (x >= 0))\n",
    "\n",
    "def extension_bool(p,V):\n",
    "    \"\"\"\n",
    "    Compute a boolean vector that represents the extension of p in V\n",
    "    \n",
    "    Inputs:\n",
    "        p - a vector of shape (M,) with elements from {-1,0,1}.  The partially specified feature vector\n",
    "        V-  a matrix of shape (L,M) with elements from {-1,1}.  The feature vectors\n",
    "    Outputs:\n",
    "        extension - a vector of shape (L) with elements from {1,0}.  extension[l]=1 iff V[l,:] is in the extension of p\n",
    "    \"\"\"\n",
    "    \n",
    "    E = np.dot(V,p)/np.sum(abs(p))\n",
    "    return heaviside(E-1)\n",
    "\n",
    "extension(p)\n",
    "extension_bool(p, objectMap)"
   ]
  },
  {
   "cell_type": "code",
   "execution_count": 81,
   "metadata": {
    "ExecuteTime": {
     "end_time": "2019-05-10T07:41:05.630599Z",
     "start_time": "2019-05-10T07:41:05.612037Z"
    }
   },
   "outputs": [
    {
     "data": {
      "text/plain": [
       "array([[-1,  1,  1,  1, -1,  1],\n",
       "       [-1, -1,  1,  1, -1, -1],\n",
       "       [-1, -1,  1,  1,  1,  1],\n",
       "       [ 1,  1,  1,  1,  1, -1]])"
      ]
     },
     "execution_count": 81,
     "metadata": {},
     "output_type": "execute_result"
=======
     "name": "stderr",
     "output_type": "stream",
     "text": [
      "[Parallel(n_jobs=30)]: Using backend MultiprocessingBackend with 30 concurrent workers.\n",
      "[Parallel(n_jobs=30)]: Done   1 tasks      | elapsed:    0.0s\n",
      "[Parallel(n_jobs=30)]: Batch computation too fast (0.0105s.) Setting batch_size=36.\n",
      "[Parallel(n_jobs=30)]: Done  12 tasks      | elapsed:    0.1s\n",
      "[Parallel(n_jobs=30)]: Done  25 tasks      | elapsed:    0.1s\n",
      "[Parallel(n_jobs=30)]: Done  38 tasks      | elapsed:    0.1s\n",
      "[Parallel(n_jobs=30)]: Done  53 tasks      | elapsed:    0.1s\n",
      "[Parallel(n_jobs=30)]: Batch computation too fast (0.1174s.) Setting batch_size=122.\n",
      "[Parallel(n_jobs=30)]: Done 348 tasks      | elapsed:    0.2s\n",
      "[Parallel(n_jobs=30)]: Done 960 tasks      | elapsed:    0.4s\n",
      "[Parallel(n_jobs=30)]: Done 1572 tasks      | elapsed:    0.5s\n",
      "[Parallel(n_jobs=30)]: Done 2342 tasks      | elapsed:    0.9s\n",
      "[Parallel(n_jobs=30)]: Done 4660 tasks      | elapsed:    1.1s\n",
      "[Parallel(n_jobs=30)]: Done 7222 tasks      | elapsed:    1.4s\n",
      "[Parallel(n_jobs=30)]: Done 9784 tasks      | elapsed:    1.8s\n",
      "[Parallel(n_jobs=30)]: Done 12590 tasks      | elapsed:    2.2s\n",
      "[Parallel(n_jobs=30)]: Done 15396 tasks      | elapsed:    2.6s\n",
      "[Parallel(n_jobs=30)]: Done 18446 tasks      | elapsed:    3.0s\n",
      "[Parallel(n_jobs=30)]: Done 21496 tasks      | elapsed:    3.3s\n",
      "[Parallel(n_jobs=30)]: Done 24790 tasks      | elapsed:    3.8s\n",
      "[Parallel(n_jobs=30)]: Done 28084 tasks      | elapsed:    4.2s\n",
      "[Parallel(n_jobs=30)]: Done 31622 tasks      | elapsed:    4.7s\n",
      "[Parallel(n_jobs=30)]: Done 35160 tasks      | elapsed:    5.1s\n",
      "[Parallel(n_jobs=30)]: Done 38942 tasks      | elapsed:    5.6s\n",
      "[Parallel(n_jobs=30)]: Done 42724 tasks      | elapsed:    6.1s\n",
      "[Parallel(n_jobs=30)]: Done 46750 tasks      | elapsed:    6.6s\n",
      "[Parallel(n_jobs=30)]: Done 50776 tasks      | elapsed:    7.1s\n",
      "[Parallel(n_jobs=30)]: Done 55046 tasks      | elapsed:    7.7s\n",
      "[Parallel(n_jobs=30)]: Done 59316 tasks      | elapsed:    8.3s\n",
      "[Parallel(n_jobs=30)]: Done 63830 tasks      | elapsed:    8.9s\n",
      "[Parallel(n_jobs=30)]: Done 68344 tasks      | elapsed:    9.5s\n",
      "[Parallel(n_jobs=30)]: Done 73102 tasks      | elapsed:   10.1s\n",
      "[Parallel(n_jobs=30)]: Done 77860 tasks      | elapsed:   10.7s\n",
      "[Parallel(n_jobs=30)]: Done 82862 tasks      | elapsed:   11.4s\n",
      "[Parallel(n_jobs=30)]: Done 87864 tasks      | elapsed:   12.0s\n",
      "[Parallel(n_jobs=30)]: Done 100000 out of 100000 | elapsed:   13.5s finished\n"
     ]
>>>>>>> 0a328375a3f14f6013bfebf1214fe140b81c5be2
    },
    {
     "data": {
      "text/plain": [
<<<<<<< HEAD
       "array([[-1,  1,  1,  1, -1,  1],\n",
       "       [-1, -1,  1,  1, -1, -1],\n",
       "       [-1, -1,  1,  1,  1,  1],\n",
       "       [ 1,  1,  1,  1,  1, -1]])"
      ]
     },
     "execution_count": 81,
=======
       "[True,\n",
       " True,\n",
       " True,\n",
       " True,\n",
       " True,\n",
       " True,\n",
       " True,\n",
       " True,\n",
       " True,\n",
       " True,\n",
       " True,\n",
       " True,\n",
       " True,\n",
       " True,\n",
       " True,\n",
       " True,\n",
       " True,\n",
       " True,\n",
       " True,\n",
       " True,\n",
       " True,\n",
       " True,\n",
       " True,\n",
       " True,\n",
       " True,\n",
       " True,\n",
       " True,\n",
       " True,\n",
       " True,\n",
       " True,\n",
       " True,\n",
       " True,\n",
       " True,\n",
       " True,\n",
       " True,\n",
       " True,\n",
       " True,\n",
       " True,\n",
       " True,\n",
       " True,\n",
       " True,\n",
       " True,\n",
       " True,\n",
       " True,\n",
       " True,\n",
       " True,\n",
       " True,\n",
       " True,\n",
       " True,\n",
       " True,\n",
       " True,\n",
       " True,\n",
       " True,\n",
       " True,\n",
       " True,\n",
       " True,\n",
       " True,\n",
       " True,\n",
       " True,\n",
       " True,\n",
       " True,\n",
       " True,\n",
       " True,\n",
       " True,\n",
       " True,\n",
       " True,\n",
       " True,\n",
       " True,\n",
       " True,\n",
       " True,\n",
       " True,\n",
       " True,\n",
       " True,\n",
       " True,\n",
       " True,\n",
       " True,\n",
       " True,\n",
       " True,\n",
       " True,\n",
       " True,\n",
       " True,\n",
       " True,\n",
       " True,\n",
       " True,\n",
       " True,\n",
       " True,\n",
       " True,\n",
       " True,\n",
       " True,\n",
       " True,\n",
       " True,\n",
       " True,\n",
       " True,\n",
       " True,\n",
       " True,\n",
       " True,\n",
       " True,\n",
       " True,\n",
       " True,\n",
       " True,\n",
       " True,\n",
       " True,\n",
       " True,\n",
       " True,\n",
       " True,\n",
       " True,\n",
       " True,\n",
       " True,\n",
       " True,\n",
       " True,\n",
       " True,\n",
       " True,\n",
       " True,\n",
       " True,\n",
       " True,\n",
       " True,\n",
       " True,\n",
       " True,\n",
       " True,\n",
       " True,\n",
       " True,\n",
       " True,\n",
       " True,\n",
       " True,\n",
       " True,\n",
       " True,\n",
       " True,\n",
       " True,\n",
       " True,\n",
       " True,\n",
       " True,\n",
       " True,\n",
       " True,\n",
       " True,\n",
       " True,\n",
       " True,\n",
       " True,\n",
       " True,\n",
       " True,\n",
       " True,\n",
       " True,\n",
       " True,\n",
       " True,\n",
       " True,\n",
       " True,\n",
       " True,\n",
       " True,\n",
       " True,\n",
       " True,\n",
       " True,\n",
       " True,\n",
       " True,\n",
       " True,\n",
       " True,\n",
       " True,\n",
       " True,\n",
       " True,\n",
       " True,\n",
       " True,\n",
       " True,\n",
       " True,\n",
       " True,\n",
       " True,\n",
       " True,\n",
       " True,\n",
       " True,\n",
       " True,\n",
       " True,\n",
       " True,\n",
       " True,\n",
       " True,\n",
       " True,\n",
       " True,\n",
       " True,\n",
       " True,\n",
       " True,\n",
       " True,\n",
       " True,\n",
       " True,\n",
       " True,\n",
       " True,\n",
       " True,\n",
       " True,\n",
       " True,\n",
       " True,\n",
       " True,\n",
       " True,\n",
       " True,\n",
       " True,\n",
       " True,\n",
       " True,\n",
       " True,\n",
       " True,\n",
       " True,\n",
       " True,\n",
       " True,\n",
       " True,\n",
       " True,\n",
       " True,\n",
       " True,\n",
       " True,\n",
       " True,\n",
       " True,\n",
       " True,\n",
       " True,\n",
       " True,\n",
       " True,\n",
       " True,\n",
       " True,\n",
       " True,\n",
       " True,\n",
       " True,\n",
       " True,\n",
       " True,\n",
       " True,\n",
       " True,\n",
       " True,\n",
       " True,\n",
       " True,\n",
       " True,\n",
       " True,\n",
       " True,\n",
       " True,\n",
       " True,\n",
       " True,\n",
       " True,\n",
       " True,\n",
       " True,\n",
       " True,\n",
       " True,\n",
       " True,\n",
       " True,\n",
       " True,\n",
       " True,\n",
       " True,\n",
       " True,\n",
       " True,\n",
       " True,\n",
       " True,\n",
       " True,\n",
       " True,\n",
       " True,\n",
       " True,\n",
       " True,\n",
       " True,\n",
       " True,\n",
       " True,\n",
       " True,\n",
       " True,\n",
       " True,\n",
       " True,\n",
       " True,\n",
       " True,\n",
       " True,\n",
       " True,\n",
       " True,\n",
       " True,\n",
       " True,\n",
       " True,\n",
       " True,\n",
       " True,\n",
       " True,\n",
       " True,\n",
       " True,\n",
       " True,\n",
       " True,\n",
       " True,\n",
       " True,\n",
       " True,\n",
       " True,\n",
       " True,\n",
       " True,\n",
       " True,\n",
       " True,\n",
       " True,\n",
       " True,\n",
       " True,\n",
       " True,\n",
       " True,\n",
       " True,\n",
       " True,\n",
       " True,\n",
       " True,\n",
       " True,\n",
       " True,\n",
       " True,\n",
       " True,\n",
       " True,\n",
       " True,\n",
       " True,\n",
       " True,\n",
       " True,\n",
       " True,\n",
       " True,\n",
       " True,\n",
       " True,\n",
       " True,\n",
       " True,\n",
       " True,\n",
       " True,\n",
       " True,\n",
       " True,\n",
       " True,\n",
       " True,\n",
       " True,\n",
       " True,\n",
       " True,\n",
       " True,\n",
       " True,\n",
       " True,\n",
       " True,\n",
       " True,\n",
       " True,\n",
       " True,\n",
       " True,\n",
       " True,\n",
       " True,\n",
       " True,\n",
       " True,\n",
       " True,\n",
       " True,\n",
       " True,\n",
       " True,\n",
       " True,\n",
       " True,\n",
       " True,\n",
       " True,\n",
       " True,\n",
       " True,\n",
       " True,\n",
       " True,\n",
       " True,\n",
       " True,\n",
       " True,\n",
       " True,\n",
       " True,\n",
       " True,\n",
       " True,\n",
       " True,\n",
       " True,\n",
       " True,\n",
       " True,\n",
       " True,\n",
       " True,\n",
       " True,\n",
       " True,\n",
       " True,\n",
       " True,\n",
       " True,\n",
       " True,\n",
       " True,\n",
       " True,\n",
       " True,\n",
       " True,\n",
       " True,\n",
       " True,\n",
       " True,\n",
       " True,\n",
       " True,\n",
       " True,\n",
       " True,\n",
       " True,\n",
       " True,\n",
       " True,\n",
       " True,\n",
       " True,\n",
       " True,\n",
       " True,\n",
       " True,\n",
       " True,\n",
       " True,\n",
       " True,\n",
       " True,\n",
       " True,\n",
       " True,\n",
       " True,\n",
       " True,\n",
       " True,\n",
       " True,\n",
       " True,\n",
       " True,\n",
       " True,\n",
       " True,\n",
       " True,\n",
       " True,\n",
       " True,\n",
       " True,\n",
       " True,\n",
       " True,\n",
       " True,\n",
       " True,\n",
       " True,\n",
       " True,\n",
       " True,\n",
       " True,\n",
       " True,\n",
       " True,\n",
       " True,\n",
       " True,\n",
       " True,\n",
       " True,\n",
       " True,\n",
       " True,\n",
       " True,\n",
       " True,\n",
       " True,\n",
       " True,\n",
       " True,\n",
       " True,\n",
       " True,\n",
       " True,\n",
       " True,\n",
       " True,\n",
       " True,\n",
       " True,\n",
       " True,\n",
       " True,\n",
       " True,\n",
       " True,\n",
       " True,\n",
       " True,\n",
       " True,\n",
       " True,\n",
       " True,\n",
       " True,\n",
       " True,\n",
       " True,\n",
       " True,\n",
       " True,\n",
       " True,\n",
       " True,\n",
       " True,\n",
       " True,\n",
       " True,\n",
       " True,\n",
       " True,\n",
       " True,\n",
       " True,\n",
       " True,\n",
       " True,\n",
       " True,\n",
       " True,\n",
       " True,\n",
       " True,\n",
       " True,\n",
       " True,\n",
       " True,\n",
       " True,\n",
       " True,\n",
       " True,\n",
       " True,\n",
       " True,\n",
       " True,\n",
       " True,\n",
       " True,\n",
       " True,\n",
       " True,\n",
       " True,\n",
       " True,\n",
       " True,\n",
       " True,\n",
       " True,\n",
       " True,\n",
       " True,\n",
       " True,\n",
       " True,\n",
       " True,\n",
       " True,\n",
       " True,\n",
       " True,\n",
       " True,\n",
       " True,\n",
       " True,\n",
       " True,\n",
       " True,\n",
       " True,\n",
       " True,\n",
       " True,\n",
       " True,\n",
       " True,\n",
       " True,\n",
       " True,\n",
       " True,\n",
       " True,\n",
       " True,\n",
       " True,\n",
       " True,\n",
       " True,\n",
       " True,\n",
       " True,\n",
       " True,\n",
       " True,\n",
       " True,\n",
       " True,\n",
       " True,\n",
       " True,\n",
       " True,\n",
       " True,\n",
       " True,\n",
       " True,\n",
       " True,\n",
       " True,\n",
       " True,\n",
       " True,\n",
       " True,\n",
       " True,\n",
       " True,\n",
       " True,\n",
       " True,\n",
       " True,\n",
       " True,\n",
       " True,\n",
       " True,\n",
       " True,\n",
       " True,\n",
       " True,\n",
       " True,\n",
       " True,\n",
       " True,\n",
       " True,\n",
       " True,\n",
       " True,\n",
       " True,\n",
       " True,\n",
       " True,\n",
       " True,\n",
       " True,\n",
       " True,\n",
       " True,\n",
       " True,\n",
       " True,\n",
       " True,\n",
       " True,\n",
       " True,\n",
       " True,\n",
       " True,\n",
       " True,\n",
       " True,\n",
       " True,\n",
       " True,\n",
       " True,\n",
       " True,\n",
       " True,\n",
       " True,\n",
       " True,\n",
       " True,\n",
       " True,\n",
       " True,\n",
       " True,\n",
       " True,\n",
       " True,\n",
       " True,\n",
       " True,\n",
       " True,\n",
       " True,\n",
       " True,\n",
       " True,\n",
       " True,\n",
       " True,\n",
       " True,\n",
       " True,\n",
       " True,\n",
       " True,\n",
       " True,\n",
       " True,\n",
       " True,\n",
       " True,\n",
       " True,\n",
       " True,\n",
       " True,\n",
       " True,\n",
       " True,\n",
       " True,\n",
       " True,\n",
       " True,\n",
       " True,\n",
       " True,\n",
       " True,\n",
       " True,\n",
       " True,\n",
       " True,\n",
       " True,\n",
       " True,\n",
       " True,\n",
       " True,\n",
       " True,\n",
       " True,\n",
       " True,\n",
       " True,\n",
       " True,\n",
       " True,\n",
       " True,\n",
       " True,\n",
       " True,\n",
       " True,\n",
       " True,\n",
       " True,\n",
       " True,\n",
       " True,\n",
       " True,\n",
       " True,\n",
       " True,\n",
       " True,\n",
       " True,\n",
       " True,\n",
       " True,\n",
       " True,\n",
       " True,\n",
       " True,\n",
       " True,\n",
       " True,\n",
       " True,\n",
       " True,\n",
       " True,\n",
       " True,\n",
       " True,\n",
       " True,\n",
       " True,\n",
       " True,\n",
       " True,\n",
       " True,\n",
       " True,\n",
       " True,\n",
       " True,\n",
       " True,\n",
       " True,\n",
       " True,\n",
       " True,\n",
       " True,\n",
       " True,\n",
       " True,\n",
       " True,\n",
       " True,\n",
       " True,\n",
       " True,\n",
       " True,\n",
       " True,\n",
       " True,\n",
       " True,\n",
       " True,\n",
       " True,\n",
       " True,\n",
       " True,\n",
       " True,\n",
       " True,\n",
       " True,\n",
       " True,\n",
       " True,\n",
       " True,\n",
       " True,\n",
       " True,\n",
       " True,\n",
       " True,\n",
       " True,\n",
       " True,\n",
       " True,\n",
       " True,\n",
       " True,\n",
       " True,\n",
       " True,\n",
       " True,\n",
       " True,\n",
       " True,\n",
       " True,\n",
       " True,\n",
       " True,\n",
       " True,\n",
       " True,\n",
       " True,\n",
       " True,\n",
       " True,\n",
       " True,\n",
       " True,\n",
       " True,\n",
       " True,\n",
       " True,\n",
       " True,\n",
       " True,\n",
       " True,\n",
       " True,\n",
       " True,\n",
       " True,\n",
       " True,\n",
       " True,\n",
       " True,\n",
       " True,\n",
       " True,\n",
       " True,\n",
       " True,\n",
       " True,\n",
       " True,\n",
       " True,\n",
       " True,\n",
       " True,\n",
       " True,\n",
       " True,\n",
       " True,\n",
       " True,\n",
       " True,\n",
       " True,\n",
       " True,\n",
       " True,\n",
       " True,\n",
       " True,\n",
       " True,\n",
       " True,\n",
       " True,\n",
       " True,\n",
       " True,\n",
       " True,\n",
       " True,\n",
       " True,\n",
       " True,\n",
       " True,\n",
       " True,\n",
       " True,\n",
       " True,\n",
       " True,\n",
       " True,\n",
       " True,\n",
       " True,\n",
       " True,\n",
       " True,\n",
       " True,\n",
       " True,\n",
       " True,\n",
       " True,\n",
       " True,\n",
       " True,\n",
       " True,\n",
       " True,\n",
       " True,\n",
       " True,\n",
       " True,\n",
       " True,\n",
       " True,\n",
       " True,\n",
       " True,\n",
       " True,\n",
       " True,\n",
       " True,\n",
       " True,\n",
       " True,\n",
       " True,\n",
       " True,\n",
       " True,\n",
       " True,\n",
       " True,\n",
       " True,\n",
       " True,\n",
       " True,\n",
       " True,\n",
       " True,\n",
       " True,\n",
       " True,\n",
       " True,\n",
       " True,\n",
       " True,\n",
       " True,\n",
       " True,\n",
       " True,\n",
       " True,\n",
       " True,\n",
       " True,\n",
       " True,\n",
       " True,\n",
       " True,\n",
       " True,\n",
       " True,\n",
       " True,\n",
       " True,\n",
       " True,\n",
       " True,\n",
       " True,\n",
       " True,\n",
       " True,\n",
       " True,\n",
       " True,\n",
       " True,\n",
       " True,\n",
       " True,\n",
       " True,\n",
       " True,\n",
       " True,\n",
       " True,\n",
       " True,\n",
       " True,\n",
       " True,\n",
       " True,\n",
       " True,\n",
       " True,\n",
       " True,\n",
       " True,\n",
       " True,\n",
       " True,\n",
       " True,\n",
       " True,\n",
       " True,\n",
       " True,\n",
       " True,\n",
       " True,\n",
       " True,\n",
       " True,\n",
       " True,\n",
       " True,\n",
       " True,\n",
       " True,\n",
       " True,\n",
       " True,\n",
       " True,\n",
       " True,\n",
       " True,\n",
       " True,\n",
       " True,\n",
       " True,\n",
       " True,\n",
       " True,\n",
       " True,\n",
       " True,\n",
       " True,\n",
       " True,\n",
       " True,\n",
       " True,\n",
       " True,\n",
       " True,\n",
       " True,\n",
       " True,\n",
       " True,\n",
       " True,\n",
       " True,\n",
       " True,\n",
       " True,\n",
       " True,\n",
       " True,\n",
       " True,\n",
       " True,\n",
       " True,\n",
       " True,\n",
       " True,\n",
       " True,\n",
       " True,\n",
       " True,\n",
       " True,\n",
       " True,\n",
       " True,\n",
       " True,\n",
       " True,\n",
       " True,\n",
       " True,\n",
       " True,\n",
       " True,\n",
       " True,\n",
       " True,\n",
       " True,\n",
       " True,\n",
       " True,\n",
       " True,\n",
       " True,\n",
       " True,\n",
       " True,\n",
       " True,\n",
       " True,\n",
       " True,\n",
       " True,\n",
       " True,\n",
       " True,\n",
       " True,\n",
       " True,\n",
       " True,\n",
       " True,\n",
       " True,\n",
       " True,\n",
       " True,\n",
       " True,\n",
       " True,\n",
       " True,\n",
       " True,\n",
       " True,\n",
       " True,\n",
       " True,\n",
       " True,\n",
       " True,\n",
       " True,\n",
       " True,\n",
       " True,\n",
       " True,\n",
       " True,\n",
       " True,\n",
       " True,\n",
       " True,\n",
       " True,\n",
       " True,\n",
       " True,\n",
       " True,\n",
       " True,\n",
       " True,\n",
       " True,\n",
       " True,\n",
       " True,\n",
       " True,\n",
       " True,\n",
       " True,\n",
       " True,\n",
       " True,\n",
       " True,\n",
       " True,\n",
       " True,\n",
       " True,\n",
       " True,\n",
       " True,\n",
       " True,\n",
       " True,\n",
       " True,\n",
       " True,\n",
       " True,\n",
       " True,\n",
       " True,\n",
       " True,\n",
       " True,\n",
       " True,\n",
       " True,\n",
       " True,\n",
       " True,\n",
       " True,\n",
       " True,\n",
       " True,\n",
       " True,\n",
       " True,\n",
       " True,\n",
       " True,\n",
       " True,\n",
       " True,\n",
       " True,\n",
       " True,\n",
       " True,\n",
       " True,\n",
       " True,\n",
       " True,\n",
       " True,\n",
       " True,\n",
       " True,\n",
       " True,\n",
       " True,\n",
       " True,\n",
       " True,\n",
       " True,\n",
       " True,\n",
       " True,\n",
       " True,\n",
       " True,\n",
       " True,\n",
       " True,\n",
       " True,\n",
       " True,\n",
       " True,\n",
       " True,\n",
       " True,\n",
       " True,\n",
       " True,\n",
       " True,\n",
       " True,\n",
       " True,\n",
       " True,\n",
       " True,\n",
       " True,\n",
       " True,\n",
       " True,\n",
       " True,\n",
       " True,\n",
       " True,\n",
       " True,\n",
       " True,\n",
       " True,\n",
       " True,\n",
       " True,\n",
       " True,\n",
       " True,\n",
       " True,\n",
       " True,\n",
       " True,\n",
       " True,\n",
       " True,\n",
       " True,\n",
       " True,\n",
       " True,\n",
       " True,\n",
       " True,\n",
       " True,\n",
       " True,\n",
       " True,\n",
       " True,\n",
       " True,\n",
       " True,\n",
       " True,\n",
       " True,\n",
       " True,\n",
       " True,\n",
       " True,\n",
       " True,\n",
       " True,\n",
       " ...]"
      ]
     },
     "execution_count": 439,
>>>>>>> 0a328375a3f14f6013bfebf1214fe140b81c5be2
     "metadata": {},
     "output_type": "execute_result"
    }
   ],
   "source": [
<<<<<<< HEAD
    "def extension_mat(p,V):\n",
    "    \"\"\"\n",
    "    Returns a matrix representing the extension of p in V\n",
    "    \n",
    "    Inputs:\n",
    "        p - a vector of shape (M,) with elements from {-1,0,1}.  The partially specified feature vector\n",
    "        V-  a matrix of shape (L,M) with elements from {-1,1}.  The feature vectors\n",
    "    Outputs:\n",
    "        A - A matrix of shape (N,M) with elements from {-1,1}, where N <=L, and the rows of A are the rows of V in the\n",
    "            extension of p\n",
    "    \"\"\"\n",
    "    \n",
    "    bool_vec = extension_bool(p,V)\n",
    "    return V[bool_vec>0,:]\n",
    "\n",
    "np.array(extension(p, False))\n",
    "extension_mat(p, objectMap)"
=======
    "par(delayed(extension_test)(v) for v in random_vectors)\n",
    "\n",
    "# for p in tqdm(random_vectors):\n",
    "#     assert np.array_equal(extension(p), extension_alt(p)), 'Disagreement on {0}: {1} vs. {2}'.format(p, extension(p), extension_alt(p))"
   ]
  },
  {
   "cell_type": "code",
   "execution_count": 440,
   "metadata": {
    "ExecuteTime": {
     "end_time": "2019-05-10T05:50:23.689566Z",
     "start_time": "2019-05-10T05:44:03.368279Z"
    }
   },
   "outputs": [
    {
     "name": "stdout",
     "output_type": "stream",
     "text": [
      "47.9 s ± 7.04 s per loop (mean ± std. dev. of 7 runs, 1 loop each)\n"
     ]
    }
   ],
   "source": [
    "%%timeit\n",
    "\n",
    "list(map(extension, random_vectors))"
   ]
  },
  {
   "cell_type": "code",
   "execution_count": 441,
   "metadata": {
    "ExecuteTime": {
     "end_time": "2019-05-10T06:01:38.443383Z",
     "start_time": "2019-05-10T05:50:23.692296Z"
    }
   },
   "outputs": [
    {
     "name": "stdout",
     "output_type": "stream",
     "text": [
      "1min 26s ± 6.37 s per loop (mean ± std. dev. of 7 runs, 1 loop each)\n"
     ]
    }
   ],
   "source": [
    "%%timeit\n",
    "\n",
    "list(map(extension_alt, random_vectors))"
   ]
  },
  {
   "cell_type": "code",
   "execution_count": 443,
   "metadata": {
    "ExecuteTime": {
     "end_time": "2019-05-10T06:02:17.359375Z",
     "start_time": "2019-05-10T06:01:48.975114Z"
    }
   },
   "outputs": [
    {
     "name": "stdout",
     "output_type": "stream",
     "text": [
      "3.53 s ± 367 ms per loop (mean ± std. dev. of 7 runs, 1 loop each)\n"
     ]
    }
   ],
   "source": [
    "%%timeit\n",
    "\n",
    "list(map(extension_alt3, random_vectors))"
   ]
  },
  {
   "cell_type": "code",
   "execution_count": 99,
   "metadata": {
    "ExecuteTime": {
     "end_time": "2019-05-09T07:42:03.040593Z",
     "start_time": "2019-05-09T07:42:03.038715Z"
    },
    "scrolled": true
   },
   "outputs": [],
   "source": [
    "# agree_mat(p, objectMap)"
   ]
  },
  {
   "cell_type": "markdown",
   "metadata": {},
   "source": [
    "## Specification array + value array"
   ]
  },
  {
   "cell_type": "markdown",
   "metadata": {},
   "source": [
    "This representation of a partial feature vector $p$ uses two bit sequences, $s$ and $v$\n",
    " - $s_i = 0$ iff $p_i = 0$ and is otherwise $1$\n",
    " - $v_i = 0$ if $p_i = -1$\n",
    " - $v_i = 1$ if $p_i = 1$\n",
    "\n",
    "Note that the value of $v_i$ is unspecified if $p_i = 0$."
   ]
  },
  {
   "cell_type": "markdown",
   "metadata": {},
   "source": [
    "### Converting between representations"
   ]
  },
  {
   "cell_type": "code",
   "execution_count": 100,
   "metadata": {
    "ExecuteTime": {
     "end_time": "2019-05-09T07:42:03.391005Z",
     "start_time": "2019-05-09T07:42:03.041908Z"
    }
   },
   "outputs": [],
   "source": [
    "spec_cb = {-1:bitarray('1'),\n",
    "            0:bitarray('0'),\n",
    "            1:bitarray('1')}\n",
    "val_cb = {-1:bitarray('0'),\n",
    "           0:bitarray('0'),\n",
    "           1:bitarray('1')}"
   ]
  },
  {
   "cell_type": "code",
   "execution_count": 101,
   "metadata": {
    "ExecuteTime": {
     "end_time": "2019-05-09T07:42:03.399276Z",
     "start_time": "2019-05-09T07:42:03.392724Z"
    }
   },
   "outputs": [],
   "source": [
    "def pfv_to_sv(pfv):\n",
    "    s = bitarray()\n",
    "    s.encode(spec_cb, list(pfv))\n",
    "    v = bitarray()\n",
    "    v.encode(val_cb, list(pfv))\n",
    "    return s,v\n",
    "\n",
    "def sv_to_pfv(s,v):\n",
    "#     print('s,v = {0}, {1}'.format(s.to01(), v.to01()))\n",
    "    specified = np.array(s.tolist(), dtype=myint)\n",
    "    values = np.array(v.tolist(), dtype=myint)\n",
    "#     print('\\ts,v = {0}, {1}'.format(specified, values))\n",
    "    for i in range(m):\n",
    "        if specified[i] != 0:\n",
    "            specified[i] = 1 if values[i] else -1\n",
    "#     print('\\ts = {0}'.format(specified))\n",
    "    return specified"
   ]
  },
  {
   "cell_type": "code",
   "execution_count": 102,
   "metadata": {
    "ExecuteTime": {
     "end_time": "2019-05-09T07:42:03.840758Z",
     "start_time": "2019-05-09T07:42:03.400143Z"
    }
   },
   "outputs": [
    {
     "name": "stderr",
     "output_type": "stream",
     "text": [
      "\n",
      "\n",
      "  0%|          | 0/100000 [00:00<?, ?it/s]\u001b[A\u001b[A\n",
      "\n",
      " 23%|██▎       | 22745/100000 [00:00<00:00, 227444.79it/s]\u001b[A\u001b[A\n",
      "\n",
      " 46%|████▌     | 45741/100000 [00:00<00:00, 228193.14it/s]\u001b[A\u001b[A\n",
      "\n",
      " 69%|██████▉   | 69040/100000 [00:00<00:00, 229609.29it/s]\u001b[A\u001b[A\n",
      "\n",
      " 92%|█████████▏| 92338/100000 [00:00<00:00, 230608.65it/s]\u001b[A\u001b[A\n",
      "\n",
      "100%|██████████| 100000/100000 [00:00<00:00, 230439.80it/s]\u001b[A\u001b[A"
     ]
    },
    {
     "data": {
      "text/plain": [
       "100000"
      ]
     },
     "execution_count": 102,
     "metadata": {},
     "output_type": "execute_result"
    }
   ],
   "source": [
    "num_test_pairs = int(1e5)\n",
    "random_vectors = [make_random_pfv() for each in tqdm(range(num_test_pairs))]\n",
    "len(random_vectors)"
   ]
  },
  {
   "cell_type": "code",
   "execution_count": 103,
   "metadata": {
    "ExecuteTime": {
     "end_time": "2019-05-09T19:59:19.435264Z",
     "start_time": "2019-05-09T19:59:13.835782Z"
    }
   },
   "outputs": [
    {
     "name": "stderr",
     "output_type": "stream",
     "text": [
      "\n",
      "\n",
      "  0%|          | 0/100000 [00:00<?, ?it/s]\u001b[A\u001b[A\n",
      "\n",
      "  2%|▏         | 1872/100000 [00:00<00:05, 18714.26it/s]\u001b[A\u001b[A\n",
      "\n",
      "  3%|▎         | 3369/100000 [00:00<00:05, 17407.37it/s]\u001b[A\u001b[A\n",
      "\n",
      "  5%|▍         | 4949/100000 [00:00<00:05, 16889.57it/s]\u001b[A\u001b[A\n",
      "\n",
      "  7%|▋         | 6653/100000 [00:00<00:05, 16931.94it/s]\u001b[A\u001b[A\n",
      "\n",
      "  8%|▊         | 8478/100000 [00:00<00:05, 17304.41it/s]\u001b[A\u001b[A\n",
      "\n",
      " 10%|█         | 10338/100000 [00:00<00:05, 17671.55it/s]\u001b[A\u001b[A\n",
      "\n",
      " 12%|█▏        | 12153/100000 [00:00<00:04, 17810.07it/s]\u001b[A\u001b[A\n",
      "\n",
      " 14%|█▍        | 13978/100000 [00:00<00:04, 17937.73it/s]\u001b[A\u001b[A\n",
      "\n",
      " 16%|█▌        | 15837/100000 [00:00<00:04, 18126.90it/s]\u001b[A\u001b[A\n",
      "\n",
      " 18%|█▊        | 17679/100000 [00:01<00:04, 18211.50it/s]\u001b[A\u001b[A\n",
      "\n",
      " 20%|█▉        | 19511/100000 [00:01<00:04, 18241.11it/s]\u001b[A\u001b[A\n",
      "\n",
      " 21%|██▏       | 21347/100000 [00:01<00:04, 18274.99it/s]\u001b[A\u001b[A\n",
      "\n",
      " 23%|██▎       | 23165/100000 [00:01<00:04, 18245.15it/s]\u001b[A\u001b[A\n",
      "\n",
      " 25%|██▌       | 25009/100000 [00:01<00:04, 18302.58it/s]\u001b[A\u001b[A\n",
      "\n",
      " 27%|██▋       | 26835/100000 [00:01<00:04, 18289.73it/s]\u001b[A\u001b[A\n",
      "\n",
      " 29%|██▊       | 28659/100000 [00:01<00:03, 18273.20it/s]\u001b[A\u001b[A\n",
      "\n",
      " 30%|███       | 30481/100000 [00:01<00:03, 18239.70it/s]\u001b[A\u001b[A\n",
      "\n",
      " 32%|███▏      | 32313/100000 [00:01<00:03, 18262.79it/s]\u001b[A\u001b[A\n",
      "\n",
      " 34%|███▍      | 34150/100000 [00:01<00:03, 18294.29it/s]\u001b[A\u001b[A\n",
      "\n",
      " 36%|███▌      | 35978/100000 [00:02<00:03, 17357.51it/s]\u001b[A\u001b[A\n",
      "\n",
      " 38%|███▊      | 37723/100000 [00:02<00:03, 16854.45it/s]\u001b[A\u001b[A\n",
      "\n",
      " 39%|███▉      | 39418/100000 [00:02<00:03, 16815.05it/s]\u001b[A\u001b[A\n",
      "\n",
      " 41%|████▏     | 41284/100000 [00:02<00:03, 17326.58it/s]\u001b[A\u001b[A\n",
      "\n",
      " 43%|████▎     | 43128/100000 [00:02<00:03, 17644.14it/s]\u001b[A\u001b[A\n",
      "\n",
      " 45%|████▍     | 44952/100000 [00:02<00:03, 17818.63it/s]\u001b[A\u001b[A\n",
      "\n",
      " 47%|████▋     | 46800/100000 [00:02<00:02, 18009.37it/s]\u001b[A\u001b[A\n",
      "\n",
      " 49%|████▊     | 48625/100000 [00:02<00:02, 18078.70it/s]\u001b[A\u001b[A\n",
      "\n",
      " 50%|█████     | 50474/100000 [00:02<00:02, 18198.31it/s]\u001b[A\u001b[A\n",
      "\n",
      " 52%|█████▏    | 52331/100000 [00:02<00:02, 18308.13it/s]\u001b[A\u001b[A\n",
      "\n",
      " 54%|█████▍    | 54164/100000 [00:03<00:02, 18274.96it/s]\u001b[A\u001b[A\n",
      "\n",
      " 56%|█████▌    | 55993/100000 [00:03<00:02, 18097.07it/s]\u001b[A\u001b[A\n",
      "\n",
      " 58%|█████▊    | 57805/100000 [00:03<00:02, 17887.26it/s]\u001b[A\u001b[A\n",
      "\n",
      " 60%|█████▉    | 59596/100000 [00:03<00:02, 17761.59it/s]\u001b[A\u001b[A\n",
      "\n",
      " 61%|██████▏   | 61374/100000 [00:03<00:02, 17627.51it/s]\u001b[A\u001b[A\n",
      "\n",
      " 63%|██████▎   | 63197/100000 [00:03<00:02, 17801.88it/s]\u001b[A\u001b[A\n",
      "\n",
      " 65%|██████▌   | 65030/100000 [00:03<00:01, 17956.16it/s]\u001b[A\u001b[A\n",
      "\n",
      " 67%|██████▋   | 66848/100000 [00:03<00:01, 18021.48it/s]\u001b[A\u001b[A\n",
      "\n",
      " 69%|██████▊   | 68685/100000 [00:03<00:01, 18123.47it/s]\u001b[A\u001b[A\n",
      "\n",
      " 71%|███████   | 70520/100000 [00:03<00:01, 18189.19it/s]\u001b[A\u001b[A\n",
      "\n",
      " 72%|███████▏  | 72357/100000 [00:04<00:01, 18241.20it/s]\u001b[A\u001b[A\n",
      "\n",
      " 74%|███████▍  | 74200/100000 [00:04<00:01, 18294.84it/s]\u001b[A\u001b[A\n",
      "\n",
      " 76%|███████▌  | 76042/100000 [00:04<00:01, 18331.09it/s]\u001b[A\u001b[A\n",
      "\n",
      " 78%|███████▊  | 77883/100000 [00:04<00:01, 18353.18it/s]\u001b[A\u001b[A\n",
      "\n",
      " 80%|███████▉  | 79720/100000 [00:04<00:01, 18357.65it/s]\u001b[A\u001b[A\n",
      "\n",
      " 82%|████████▏ | 81564/100000 [00:04<00:01, 18381.31it/s]\u001b[A\u001b[A\n",
      "\n",
      " 83%|████████▎ | 83403/100000 [00:04<00:00, 18061.28it/s]\u001b[A\u001b[A\n",
      "\n",
      " 85%|████████▌ | 85211/100000 [00:04<00:00, 17555.54it/s]\u001b[A\u001b[A\n",
      "\n",
      " 87%|████████▋ | 86971/100000 [00:04<00:00, 17008.79it/s]\u001b[A\u001b[A\n",
      "\n",
      " 89%|████████▊ | 88702/100000 [00:04<00:00, 17096.09it/s]\u001b[A\u001b[A\n",
      "\n",
      " 91%|█████████ | 90544/100000 [00:05<00:00, 17472.29it/s]\u001b[A\u001b[A\n",
      "\n",
      " 92%|█████████▏| 92382/100000 [00:05<00:00, 17734.82it/s]\u001b[A\u001b[A\n",
      "\n",
      " 94%|█████████▍| 94230/100000 [00:05<00:00, 17951.42it/s]\u001b[A\u001b[A\n",
      "\n",
      " 96%|█████████▌| 96030/100000 [00:05<00:00, 17825.38it/s]\u001b[A\u001b[A\n",
      "\n",
      " 98%|█████████▊| 97820/100000 [00:05<00:00, 17845.68it/s]\u001b[A\u001b[A\n",
      "\n",
      "100%|█████████▉| 99671/100000 [00:05<00:00, 18038.39it/s]\u001b[A\u001b[A\n",
      "\n",
      "100%|██████████| 100000/100000 [00:05<00:00, 17878.76it/s]\u001b[A\u001b[A"
     ]
    }
   ],
   "source": [
    "for p in tqdm(random_vectors):\n",
    "    s,v = pfv_to_sv(p)\n",
    "    p_prime = sv_to_pfv(s,v)\n",
    "    assert np.array_equal(p, p_prime), 'Conversion failure on {0}'.format(pair)"
   ]
  },
  {
   "cell_type": "markdown",
   "metadata": {},
   "source": [
    "### Operations"
   ]
  },
  {
   "cell_type": "markdown",
   "metadata": {},
   "source": [
    "If $p,q$ are two partial feature vectors and $(s^p, v^p), (s^q, v^q)$ are their associated specification and value bitvectors, then:"
   ]
  },
  {
   "cell_type": "markdown",
   "metadata": {},
   "source": [
    "We can define an element-wise agree operation by pattern matching:\n",
    "```\n",
    "agree((s^p_i,v^p_i), (s^q_i,v^q_i)):\n",
    "    (s_w, s_x) = (s_w, s_x) ⟶ 1\n",
    "    (0,0)      = (_, _)     ⟶ 1\n",
    "    (_, _)     = (0,0)      ⟶ 1\n",
    "    _          = _          ⟶ 0\n",
    "```\n",
    "Or perhaps more clearly by Boolean formula:\n",
    " - $\\text{agree}(s^p_i,v^p_i,s^q_i,v^q_i) = (\\neg s^p_i \\lor \\neg s^q_i) \\lor ((s^p_i \\land s^q_i) \\land (v^p_i \\iff v^q_i)) $"
   ]
  },
  {
   "cell_type": "markdown",
   "metadata": {},
   "source": [
    "We can define an element-wise union operation (assuming agreement holds) by pattern matching:\n",
    "```\n",
    "Assuming agree(p,q) holds:\n",
    "\n",
    "cup((s^p_i,v^p_i), (s^q_i,v^q_i)):\n",
    "    (s_w, s_x) ∪ (s_w, s_x) = (s_w, s_x)\n",
    "    (0,0)      ∪ (s_y, s_z) = (s_y, s_z)\n",
    "    (s_w, s_x) ∪ (0,0)      = (s_w, s_x)\n",
    "    _          ∪ _          = (0,0)\n",
    "```\n",
    "Or again, more clearly by Boolean formula:\n",
    " - $\\text{cup}(s^p_i,v^p_i,s^q_i,v^q_i) = (s^p_i \\lor s^q_i, v^p_i \\lor v^q_i)$\n",
    "\n",
    "I.e. we can take the `bitwise or` of respective specification vectors and value vectors to get the specification and value vector of the union of two partial feature vectors."
   ]
  },
  {
   "cell_type": "markdown",
   "metadata": {},
   "source": [
    "We can define an element-wise intersection operation by pattern matching:\n",
    "```\n",
    "cap((s^p_i,v^p_i), (s^q_i,v^q_i)):\n",
    "    (s_w, s_x) ∩ (s_w, s_x) = (s_w, s_x)\n",
    "    (0,0)      ∩ (_, _)     = (0,0)\n",
    "    (_, _)     ∩ (0,0)      = (0,0)\n",
    "    _          ∩ _          = (0,0)\n",
    "```\n",
    "...or by Boolean formula\n",
    " - $\\text{cap}(s^p_i,v^p_i,s^q_i,v^q_i) = ((s^p_i \\land s^q_i) \\land (v^p_i \\iff v^q_i), v^p_i \\land v^q_i)$"
   ]
  },
  {
   "cell_type": "code",
   "execution_count": 104,
   "metadata": {
    "ExecuteTime": {
     "end_time": "2019-05-09T19:59:28.064020Z",
     "start_time": "2019-05-09T19:59:28.059881Z"
    }
   },
   "outputs": [],
   "source": [
    "def xor(p,q):\n",
    "    return (p & ~q) | (~p & q)\n",
    "\n",
    "def ifthen(p,q):\n",
    "    return ~p | q\n",
    "\n",
    "def iff(p,q):\n",
    "    return ifthen(p,q) & ifthen(q,p)\n",
    "\n",
    "assert xor(bitarray('0011'), bitarray('0101')) == bitarray('0110')\n",
    "assert ifthen(bitarray('0011'), bitarray('0101')) == bitarray('1101')\n",
    "assert iff(bitarray('0011'), bitarray('0101')) == bitarray('1001')"
   ]
  },
  {
   "cell_type": "code",
   "execution_count": 105,
   "metadata": {
    "ExecuteTime": {
     "end_time": "2019-05-09T19:59:29.321013Z",
     "start_time": "2019-05-09T19:59:29.316283Z"
    }
   },
   "outputs": [],
   "source": [
    "def agree_ba(s_p, v_p, s_q, v_q):\n",
    "    return (~s_p | ~s_q) | ((s_p & s_q) & iff(v_p, v_q))\n",
    "\n",
    "def agree_ba_(s_p, v_p, s_q, v_q):\n",
    "    return agree_ba(s_p, v_p, s_q, v_q).all()\n",
    "\n",
    "def union_ba(s_p, v_p, s_q, v_q):\n",
    "    return s_p | s_q, v_p | v_q\n",
    "\n",
    "def intersection_ba(s_p, v_p, s_q, v_q):\n",
    "    return (s_p & s_q) & iff(v_p, v_q), v_p & v_q"
   ]
  },
  {
   "cell_type": "markdown",
   "metadata": {},
   "source": [
    "Below we test that they have the same behavior as the baseline representation and operations:"
   ]
  },
  {
   "cell_type": "code",
   "execution_count": 107,
   "metadata": {
    "ExecuteTime": {
     "end_time": "2019-05-09T19:59:59.069627Z",
     "start_time": "2019-05-09T19:59:46.725006Z"
    }
   },
   "outputs": [
    {
     "name": "stderr",
     "output_type": "stream",
     "text": [
      "\n",
      "\n",
      "  0%|          | 0/100000 [00:00<?, ?it/s]\u001b[A\u001b[A\n",
      "\n",
      "  1%|          | 825/100000 [00:00<00:12, 8249.22it/s]\u001b[A\u001b[A\n",
      "\n",
      "  2%|▏         | 1645/100000 [00:00<00:11, 8233.19it/s]\u001b[A\u001b[A\n",
      "\n",
      "  2%|▏         | 2471/100000 [00:00<00:11, 8238.89it/s]\u001b[A\u001b[A\n",
      "\n",
      "  3%|▎         | 3300/100000 [00:00<00:11, 8251.90it/s]\u001b[A\u001b[A\n",
      "\n",
      "  4%|▍         | 4113/100000 [00:00<00:11, 8214.49it/s]\u001b[A\u001b[A\n",
      "\n",
      "  5%|▍         | 4934/100000 [00:00<00:11, 8212.47it/s]\u001b[A\u001b[A\n",
      "\n",
      "  6%|▌         | 5756/100000 [00:00<00:11, 8212.00it/s]\u001b[A\u001b[A\n",
      "\n",
      "  7%|▋         | 6574/100000 [00:00<00:11, 8201.22it/s]\u001b[A\u001b[A\n",
      "\n",
      "  7%|▋         | 7397/100000 [00:00<00:11, 8209.49it/s]\u001b[A\u001b[A\n",
      "\n",
      "  8%|▊         | 8211/100000 [00:01<00:11, 8187.23it/s]\u001b[A\u001b[A\n",
      "\n",
      "  9%|▉         | 9034/100000 [00:01<00:11, 8198.89it/s]\u001b[A\u001b[A\n",
      "\n",
      " 10%|▉         | 9855/100000 [00:01<00:10, 8199.70it/s]\u001b[A\u001b[A\n",
      "\n",
      " 11%|█         | 10664/100000 [00:01<00:11, 7641.49it/s]\u001b[A\u001b[A\n",
      "\n",
      " 11%|█▏        | 11429/100000 [00:01<00:11, 7643.09it/s]\u001b[A\u001b[A\n",
      "\n",
      " 12%|█▏        | 12250/100000 [00:01<00:11, 7802.84it/s]\u001b[A\u001b[A\n",
      "\n",
      " 13%|█▎        | 13075/100000 [00:01<00:10, 7929.74it/s]\u001b[A\u001b[A\n",
      "\n",
      " 14%|█▍        | 13900/100000 [00:01<00:10, 8022.41it/s]\u001b[A\u001b[A\n",
      "\n",
      " 15%|█▍        | 14723/100000 [00:01<00:10, 8081.12it/s]\u001b[A\u001b[A\n",
      "\n",
      " 16%|█▌        | 15547/100000 [00:01<00:10, 8125.36it/s]\u001b[A\u001b[A\n",
      "\n",
      " 16%|█▋        | 16371/100000 [00:02<00:10, 8158.79it/s]\u001b[A\u001b[A\n",
      "\n",
      " 17%|█▋        | 17202/100000 [00:02<00:10, 8201.99it/s]\u001b[A\u001b[A\n",
      "\n",
      " 18%|█▊        | 18023/100000 [00:02<00:10, 8096.25it/s]\u001b[A\u001b[A\n",
      "\n",
      " 19%|█▉        | 18854/100000 [00:02<00:09, 8157.43it/s]\u001b[A\u001b[A\n",
      "\n",
      " 20%|█▉        | 19684/100000 [00:02<00:09, 8196.84it/s]\u001b[A\u001b[A\n",
      "\n",
      " 21%|██        | 20508/100000 [00:02<00:09, 8209.40it/s]\u001b[A\u001b[A\n",
      "\n",
      " 21%|██▏       | 21337/100000 [00:02<00:09, 8231.58it/s]\u001b[A\u001b[A\n",
      "\n",
      " 22%|██▏       | 22166/100000 [00:02<00:09, 8248.24it/s]\u001b[A\u001b[A\n",
      "\n",
      " 23%|██▎       | 22996/100000 [00:02<00:09, 8263.28it/s]\u001b[A\u001b[A\n",
      "\n",
      " 24%|██▍       | 23823/100000 [00:02<00:09, 8255.58it/s]\u001b[A\u001b[A\n",
      "\n",
      " 25%|██▍       | 24649/100000 [00:03<00:09, 8252.77it/s]\u001b[A\u001b[A\n",
      "\n",
      " 25%|██▌       | 25479/100000 [00:03<00:09, 8264.85it/s]\u001b[A\u001b[A\n",
      "\n",
      " 26%|██▋       | 26309/100000 [00:03<00:08, 8273.54it/s]\u001b[A\u001b[A\n",
      "\n",
      " 27%|██▋       | 27137/100000 [00:03<00:08, 8148.71it/s]\u001b[A\u001b[A\n",
      "\n",
      " 28%|██▊       | 27953/100000 [00:03<00:08, 8072.53it/s]\u001b[A\u001b[A\n",
      "\n",
      " 29%|██▉       | 28774/100000 [00:03<00:08, 8112.47it/s]\u001b[A\u001b[A\n",
      "\n",
      " 30%|██▉       | 29607/100000 [00:03<00:08, 8175.84it/s]\u001b[A\u001b[A\n",
      "\n",
      " 30%|███       | 30434/100000 [00:03<00:08, 8203.23it/s]\u001b[A\u001b[A\n",
      "\n",
      " 31%|███▏      | 31270/100000 [00:03<00:08, 8246.84it/s]\u001b[A\u001b[A\n",
      "\n",
      " 32%|███▏      | 32095/100000 [00:03<00:08, 8222.36it/s]\u001b[A\u001b[A\n",
      "\n",
      " 33%|███▎      | 32918/100000 [00:04<00:08, 8054.54it/s]\u001b[A\u001b[A\n",
      "\n",
      " 34%|███▎      | 33725/100000 [00:04<00:08, 8016.82it/s]\u001b[A\u001b[A\n",
      "\n",
      " 35%|███▍      | 34547/100000 [00:04<00:08, 8074.57it/s]\u001b[A\u001b[A\n",
      "\n",
      " 35%|███▌      | 35379/100000 [00:04<00:07, 8145.83it/s]\u001b[A\u001b[A\n",
      "\n",
      " 36%|███▌      | 36198/100000 [00:04<00:07, 8156.52it/s]\u001b[A\u001b[A\n",
      "\n",
      " 37%|███▋      | 37025/100000 [00:04<00:07, 8189.40it/s]\u001b[A\u001b[A\n",
      "\n",
      " 38%|███▊      | 37855/100000 [00:04<00:07, 8221.36it/s]\u001b[A\u001b[A\n",
      "\n",
      " 39%|███▊      | 38678/100000 [00:04<00:07, 8205.75it/s]\u001b[A\u001b[A\n",
      "\n",
      " 40%|███▉      | 39509/100000 [00:04<00:07, 8234.14it/s]\u001b[A\u001b[A\n",
      "\n",
      " 40%|████      | 40333/100000 [00:04<00:07, 8115.47it/s]\u001b[A\u001b[A\n",
      "\n",
      " 41%|████      | 41154/100000 [00:05<00:07, 8141.21it/s]\u001b[A\u001b[A\n",
      "\n",
      " 42%|████▏     | 41969/100000 [00:05<00:07, 8023.95it/s]\u001b[A\u001b[A\n",
      "\n",
      " 43%|████▎     | 42794/100000 [00:05<00:07, 8089.76it/s]\u001b[A\u001b[A\n",
      "\n",
      " 44%|████▎     | 43624/100000 [00:05<00:06, 8149.93it/s]\u001b[A\u001b[A\n",
      "\n",
      " 44%|████▍     | 44440/100000 [00:05<00:06, 8005.04it/s]\u001b[A\u001b[A\n",
      "\n",
      " 45%|████▌     | 45262/100000 [00:05<00:06, 8064.19it/s]\u001b[A\u001b[A\n",
      "\n",
      " 46%|████▌     | 46085/100000 [00:05<00:06, 8111.92it/s]\u001b[A\u001b[A\n",
      "\n",
      " 47%|████▋     | 46910/100000 [00:05<00:06, 8150.32it/s]\u001b[A\u001b[A\n",
      "\n",
      " 48%|████▊     | 47726/100000 [00:05<00:06, 8133.18it/s]\u001b[A\u001b[A\n",
      "\n",
      " 49%|████▊     | 48540/100000 [00:05<00:06, 8078.56it/s]\u001b[A\u001b[A\n",
      "\n",
      " 49%|████▉     | 49349/100000 [00:06<00:06, 8061.35it/s]\u001b[A\u001b[A\n",
      "\n",
      " 50%|█████     | 50186/100000 [00:06<00:06, 8148.94it/s]\u001b[A\u001b[A\n",
      "\n",
      " 51%|█████     | 51002/100000 [00:06<00:06, 8039.20it/s]\u001b[A\u001b[A\n",
      "\n",
      " 52%|█████▏    | 51829/100000 [00:06<00:05, 8105.69it/s]\u001b[A\u001b[A\n",
      "\n",
      " 53%|█████▎    | 52656/100000 [00:06<00:05, 8152.01it/s]\u001b[A\u001b[A\n",
      "\n",
      " 53%|█████▎    | 53480/100000 [00:06<00:05, 8177.18it/s]\u001b[A\u001b[A\n",
      "\n",
      " 54%|█████▍    | 54306/100000 [00:06<00:05, 8201.55it/s]\u001b[A\u001b[A\n",
      "\n",
      " 55%|█████▌    | 55142/100000 [00:06<00:05, 8246.50it/s]\u001b[A\u001b[A\n",
      "\n",
      " 56%|█████▌    | 55969/100000 [00:06<00:05, 8253.00it/s]\u001b[A\u001b[A\n",
      "\n",
      " 57%|█████▋    | 56795/100000 [00:06<00:05, 8239.51it/s]\u001b[A\u001b[A\n",
      "\n",
      " 58%|█████▊    | 57623/100000 [00:07<00:05, 8249.05it/s]\u001b[A\u001b[A\n",
      "\n",
      " 58%|█████▊    | 58448/100000 [00:07<00:05, 8238.78it/s]\u001b[A\u001b[A\n",
      "\n",
      " 59%|█████▉    | 59275/100000 [00:07<00:04, 8246.98it/s]\u001b[A\u001b[A\n",
      "\n",
      " 60%|██████    | 60103/100000 [00:07<00:04, 8256.26it/s]\u001b[A\u001b[A\n",
      "\n",
      " 61%|██████    | 60929/100000 [00:07<00:04, 8248.51it/s]\u001b[A\u001b[A\n",
      "\n",
      " 62%|██████▏   | 61754/100000 [00:07<00:04, 8123.07it/s]\u001b[A\u001b[A\n",
      "\n",
      " 63%|██████▎   | 62567/100000 [00:07<00:04, 8054.66it/s]\u001b[A\u001b[A\n",
      "\n",
      " 63%|██████▎   | 63393/100000 [00:07<00:04, 8113.11it/s]\u001b[A\u001b[A\n",
      "\n",
      " 64%|██████▍   | 64209/100000 [00:07<00:04, 8124.91it/s]\u001b[A\u001b[A\n",
      "\n",
      " 65%|██████▌   | 65033/100000 [00:07<00:04, 8158.26it/s]\u001b[A\u001b[A\n",
      "\n",
      " 66%|██████▌   | 65850/100000 [00:08<00:04, 8160.60it/s]\u001b[A\u001b[A\n",
      "\n",
      " 67%|██████▋   | 66673/100000 [00:08<00:04, 8179.83it/s]\u001b[A\u001b[A\n",
      "\n",
      " 67%|██████▋   | 67499/100000 [00:08<00:03, 8201.93it/s]\u001b[A\u001b[A\n",
      "\n",
      " 68%|██████▊   | 68324/100000 [00:08<00:03, 8216.18it/s]\u001b[A\u001b[A\n",
      "\n",
      " 69%|██████▉   | 69146/100000 [00:08<00:03, 8202.47it/s]\u001b[A\u001b[A\n",
      "\n",
      " 70%|██████▉   | 69967/100000 [00:08<00:03, 7843.46it/s]\u001b[A\u001b[A\n",
      "\n",
      " 71%|███████   | 70770/100000 [00:08<00:03, 7895.72it/s]\u001b[A\u001b[A\n",
      "\n",
      " 72%|███████▏  | 71567/100000 [00:08<00:03, 7915.57it/s]\u001b[A\u001b[A\n",
      "\n",
      " 72%|███████▏  | 72379/100000 [00:08<00:03, 7975.13it/s]\u001b[A\u001b[A\n",
      "\n",
      " 73%|███████▎  | 73178/100000 [00:09<00:03, 7923.47it/s]\u001b[A\u001b[A\n",
      "\n",
      " 74%|███████▍  | 74005/100000 [00:09<00:03, 8022.70it/s]\u001b[A\u001b[A\n",
      "\n",
      " 75%|███████▍  | 74831/100000 [00:09<00:03, 8091.24it/s]\u001b[A\u001b[A\n",
      "\n",
      " 76%|███████▌  | 75658/100000 [00:09<00:02, 8143.19it/s]\u001b[A\u001b[A\n",
      "\n",
      " 76%|███████▋  | 76479/100000 [00:09<00:02, 8161.13it/s]\u001b[A\u001b[A\n",
      "\n",
      " 77%|███████▋  | 77313/100000 [00:09<00:02, 8212.20it/s]\u001b[A\u001b[A\n",
      "\n",
      " 78%|███████▊  | 78135/100000 [00:09<00:02, 8088.68it/s]\u001b[A\u001b[A\n",
      "\n",
      " 79%|███████▉  | 78945/100000 [00:09<00:02, 8025.78it/s]\u001b[A\u001b[A\n",
      "\n",
      " 80%|███████▉  | 79773/100000 [00:09<00:02, 8100.05it/s]\u001b[A\u001b[A\n",
      "\n",
      " 81%|████████  | 80597/100000 [00:09<00:02, 8139.04it/s]\u001b[A\u001b[A\n",
      "\n",
      " 81%|████████▏ | 81418/100000 [00:10<00:02, 8157.49it/s]\u001b[A\u001b[A\n",
      "\n",
      " 82%|████████▏ | 82254/100000 [00:10<00:02, 8215.47it/s]\u001b[A\u001b[A\n",
      "\n",
      " 83%|████████▎ | 83080/100000 [00:10<00:02, 8226.14it/s]\u001b[A\u001b[A\n",
      "\n",
      " 84%|████████▍ | 83903/100000 [00:10<00:01, 8091.33it/s]\u001b[A\u001b[A\n",
      "\n",
      " 85%|████████▍ | 84713/100000 [00:10<00:01, 7826.39it/s]\u001b[A\u001b[A\n",
      "\n",
      " 85%|████████▌ | 85498/100000 [00:10<00:01, 7579.26it/s]\u001b[A\u001b[A\n",
      "\n",
      " 86%|████████▋ | 86260/100000 [00:10<00:01, 7477.76it/s]\u001b[A\u001b[A\n",
      "\n",
      " 87%|████████▋ | 87084/100000 [00:10<00:01, 7689.71it/s]\u001b[A\u001b[A\n",
      "\n",
      " 88%|████████▊ | 87914/100000 [00:10<00:01, 7861.11it/s]\u001b[A\u001b[A\n",
      "\n",
      " 89%|████████▊ | 88704/100000 [00:10<00:01, 7742.23it/s]\u001b[A\u001b[A\n",
      "\n",
      " 90%|████████▉ | 89529/100000 [00:11<00:01, 7883.82it/s]\u001b[A\u001b[A\n",
      "\n",
      " 90%|█████████ | 90358/100000 [00:11<00:01, 8000.24it/s]\u001b[A\u001b[A\n",
      "\n",
      " 91%|█████████ | 91161/100000 [00:11<00:01, 7836.32it/s]\u001b[A\u001b[A\n",
      "\n",
      " 92%|█████████▏| 91990/100000 [00:11<00:01, 7964.23it/s]\u001b[A\u001b[A\n",
      "\n",
      " 93%|█████████▎| 92789/100000 [00:11<00:00, 7913.41it/s]\u001b[A\u001b[A\n",
      "\n",
      " 94%|█████████▎| 93614/100000 [00:11<00:00, 8010.23it/s]\u001b[A\u001b[A\n",
      "\n",
      " 94%|█████████▍| 94444/100000 [00:11<00:00, 8093.96it/s]\u001b[A\u001b[A\n",
      "\n",
      " 95%|█████████▌| 95273/100000 [00:11<00:00, 8149.77it/s]\u001b[A\u001b[A\n",
      "\n",
      " 96%|█████████▌| 96096/100000 [00:11<00:00, 8172.62it/s]\u001b[A\u001b[A\n",
      "\n",
      " 97%|█████████▋| 96928/100000 [00:11<00:00, 8215.13it/s]\u001b[A\u001b[A\n",
      "\n",
      " 98%|█████████▊| 97753/100000 [00:12<00:00, 8225.16it/s]\u001b[A\u001b[A\n",
      "\n",
      " 99%|█████████▊| 98576/100000 [00:12<00:00, 8220.96it/s]\u001b[A\u001b[A\n",
      "\n",
      " 99%|█████████▉| 99399/100000 [00:12<00:00, 8212.23it/s]\u001b[A\u001b[A\n",
      "\n",
      "100%|██████████| 100000/100000 [00:12<00:00, 8105.74it/s]\u001b[A\u001b[A"
     ]
    }
   ],
   "source": [
    "for p,q in tqdm(agreeing_vector_pairs):\n",
    "    s_p, v_p = pfv_to_sv(p)\n",
    "    s_q, v_q = pfv_to_sv(q)\n",
    "    assert np.array_equal(agree(p,q), np.array(list(agree_ba(s_p, v_p, s_q, v_q)), dtype=myint))\n",
    "    assert np.array_equal(union(p,q), sv_to_pfv(*union_ba(s_p, v_p, s_q, v_q)))"
   ]
  },
  {
   "cell_type": "code",
   "execution_count": 108,
   "metadata": {
    "ExecuteTime": {
     "end_time": "2019-05-09T20:00:12.958448Z",
     "start_time": "2019-05-09T20:00:00.312046Z"
    }
   },
   "outputs": [
    {
     "name": "stderr",
     "output_type": "stream",
     "text": [
      "\n",
      "\n",
      "  0%|          | 0/100000 [00:00<?, ?it/s]\u001b[A\u001b[A\n",
      "\n",
      "  1%|          | 754/100000 [00:00<00:13, 7531.37it/s]\u001b[A\u001b[A\n",
      "\n",
      "  2%|▏         | 1537/100000 [00:00<00:12, 7616.22it/s]\u001b[A\u001b[A\n",
      "\n",
      "  2%|▏         | 2327/100000 [00:00<00:12, 7699.15it/s]\u001b[A\u001b[A\n",
      "\n",
      "  3%|▎         | 3122/100000 [00:00<00:12, 7770.80it/s]\u001b[A\u001b[A\n",
      "\n",
      "  4%|▍         | 3903/100000 [00:00<00:12, 7781.55it/s]\u001b[A\u001b[A\n",
      "\n",
      "  5%|▍         | 4698/100000 [00:00<00:12, 7828.82it/s]\u001b[A\u001b[A\n",
      "\n",
      "  5%|▌         | 5496/100000 [00:00<00:12, 7871.62it/s]\u001b[A\u001b[A\n",
      "\n",
      "  6%|▋         | 6297/100000 [00:00<00:11, 7910.22it/s]\u001b[A\u001b[A\n",
      "\n",
      "  7%|▋         | 7097/100000 [00:00<00:11, 7934.40it/s]\u001b[A\u001b[A\n",
      "\n",
      "  8%|▊         | 7891/100000 [00:01<00:11, 7935.85it/s]\u001b[A\u001b[A\n",
      "\n",
      "  9%|▊         | 8693/100000 [00:01<00:11, 7958.60it/s]\u001b[A\u001b[A\n",
      "\n",
      "  9%|▉         | 9491/100000 [00:01<00:11, 7964.84it/s]\u001b[A\u001b[A\n",
      "\n",
      " 10%|█         | 10283/100000 [00:01<00:11, 7950.87it/s]\u001b[A\u001b[A\n",
      "\n",
      " 11%|█         | 11072/100000 [00:01<00:11, 7931.11it/s]\u001b[A\u001b[A\n",
      "\n",
      " 12%|█▏        | 11861/100000 [00:01<00:11, 7784.71it/s]\u001b[A\u001b[A\n",
      "\n",
      " 13%|█▎        | 12637/100000 [00:01<00:11, 7679.32it/s]\u001b[A\u001b[A\n",
      "\n",
      " 13%|█▎        | 13429/100000 [00:01<00:11, 7748.32it/s]\u001b[A\u001b[A\n",
      "\n",
      " 14%|█▍        | 14203/100000 [00:01<00:11, 7679.49it/s]\u001b[A\u001b[A\n",
      "\n",
      " 15%|█▍        | 14994/100000 [00:01<00:10, 7746.58it/s]\u001b[A\u001b[A\n",
      "\n",
      " 16%|█▌        | 15782/100000 [00:02<00:10, 7784.77it/s]\u001b[A\u001b[A\n",
      "\n",
      " 17%|█▋        | 16574/100000 [00:02<00:10, 7824.34it/s]\u001b[A\u001b[A\n",
      "\n",
      " 17%|█▋        | 17361/100000 [00:02<00:10, 7836.02it/s]\u001b[A\u001b[A\n",
      "\n",
      " 18%|█▊        | 18145/100000 [00:02<00:10, 7832.52it/s]\u001b[A\u001b[A\n",
      "\n",
      " 19%|█▉        | 18942/100000 [00:02<00:10, 7870.90it/s]\u001b[A\u001b[A\n",
      "\n",
      " 20%|█▉        | 19730/100000 [00:02<00:10, 7855.49it/s]\u001b[A\u001b[A\n",
      "\n",
      " 21%|██        | 20523/100000 [00:02<00:10, 7876.90it/s]\u001b[A\u001b[A\n",
      "\n",
      " 21%|██▏       | 21321/100000 [00:02<00:09, 7906.20it/s]\u001b[A\u001b[A\n",
      "\n",
      " 22%|██▏       | 22118/100000 [00:02<00:09, 7922.74it/s]\u001b[A\u001b[A\n",
      "\n",
      " 23%|██▎       | 22914/100000 [00:02<00:09, 7932.33it/s]\u001b[A\u001b[A\n",
      "\n",
      " 24%|██▎       | 23713/100000 [00:03<00:09, 7947.47it/s]\u001b[A\u001b[A\n",
      "\n",
      " 25%|██▍       | 24508/100000 [00:03<00:09, 7916.93it/s]\u001b[A\u001b[A\n",
      "\n",
      " 25%|██▌       | 25300/100000 [00:03<00:09, 7883.93it/s]\u001b[A\u001b[A\n",
      "\n",
      " 26%|██▌       | 26091/100000 [00:03<00:09, 7891.52it/s]\u001b[A\u001b[A\n",
      "\n",
      " 27%|██▋       | 26885/100000 [00:03<00:09, 7903.76it/s]\u001b[A\u001b[A\n",
      "\n",
      " 28%|██▊       | 27676/100000 [00:03<00:09, 7896.31it/s]\u001b[A\u001b[A\n",
      "\n",
      " 28%|██▊       | 28471/100000 [00:03<00:09, 7910.29it/s]\u001b[A\u001b[A\n",
      "\n",
      " 29%|██▉       | 29265/100000 [00:03<00:08, 7918.76it/s]\u001b[A\u001b[A\n",
      "\n",
      " 30%|███       | 30061/100000 [00:03<00:08, 7929.08it/s]\u001b[A\u001b[A\n",
      "\n",
      " 31%|███       | 30862/100000 [00:03<00:08, 7953.04it/s]\u001b[A\u001b[A\n",
      "\n",
      " 32%|███▏      | 31660/100000 [00:04<00:08, 7959.99it/s]\u001b[A\u001b[A\n",
      "\n",
      " 32%|███▏      | 32463/100000 [00:04<00:08, 7979.30it/s]\u001b[A\u001b[A\n",
      "\n",
      " 33%|███▎      | 33261/100000 [00:04<00:08, 7813.75it/s]\u001b[A\u001b[A\n",
      "\n",
      " 34%|███▍      | 34044/100000 [00:04<00:08, 7721.37it/s]\u001b[A\u001b[A\n",
      "\n",
      " 35%|███▍      | 34824/100000 [00:04<00:08, 7744.04it/s]\u001b[A\u001b[A\n",
      "\n",
      " 36%|███▌      | 35628/100000 [00:04<00:08, 7828.77it/s]\u001b[A\u001b[A\n",
      "\n",
      " 36%|███▋      | 36436/100000 [00:04<00:08, 7902.03it/s]\u001b[A\u001b[A\n",
      "\n",
      " 37%|███▋      | 37242/100000 [00:04<00:07, 7946.16it/s]\u001b[A\u001b[A\n",
      "\n",
      " 38%|███▊      | 38040/100000 [00:04<00:07, 7953.47it/s]\u001b[A\u001b[A\n",
      "\n",
      " 39%|███▉      | 38840/100000 [00:04<00:07, 7967.30it/s]\u001b[A\u001b[A\n",
      "\n",
      " 40%|███▉      | 39637/100000 [00:05<00:07, 7953.55it/s]\u001b[A\u001b[A\n",
      "\n",
      " 40%|████      | 40433/100000 [00:05<00:07, 7951.63it/s]\u001b[A\u001b[A\n",
      "\n",
      " 41%|████      | 41229/100000 [00:05<00:07, 7942.84it/s]\u001b[A\u001b[A\n",
      "\n",
      " 42%|████▏     | 42025/100000 [00:05<00:07, 7946.63it/s]\u001b[A\u001b[A\n",
      "\n",
      " 43%|████▎     | 42827/100000 [00:05<00:07, 7968.00it/s]\u001b[A\u001b[A\n",
      "\n",
      " 44%|████▎     | 43632/100000 [00:05<00:07, 7991.23it/s]\u001b[A\u001b[A\n",
      "\n",
      " 44%|████▍     | 44437/100000 [00:05<00:06, 8006.56it/s]\u001b[A\u001b[A\n",
      "\n",
      " 45%|████▌     | 45238/100000 [00:05<00:06, 8001.58it/s]\u001b[A\u001b[A\n",
      "\n",
      " 46%|████▌     | 46044/100000 [00:05<00:06, 8018.00it/s]\u001b[A\u001b[A\n",
      "\n",
      " 47%|████▋     | 46847/100000 [00:05<00:06, 8020.40it/s]\u001b[A\u001b[A\n",
      "\n",
      " 48%|████▊     | 47653/100000 [00:06<00:06, 8029.31it/s]\u001b[A\u001b[A\n",
      "\n",
      " 48%|████▊     | 48457/100000 [00:06<00:06, 8031.47it/s]\u001b[A\u001b[A\n",
      "\n",
      " 49%|████▉     | 49261/100000 [00:06<00:06, 8019.12it/s]\u001b[A\u001b[A\n",
      "\n",
      " 50%|█████     | 50063/100000 [00:06<00:06, 7872.92it/s]\u001b[A\u001b[A\n",
      "\n",
      " 51%|█████     | 50851/100000 [00:06<00:06, 7749.01it/s]\u001b[A\u001b[A\n",
      "\n",
      " 52%|█████▏    | 51644/100000 [00:06<00:06, 7800.32it/s]\u001b[A\u001b[A\n",
      "\n",
      " 52%|█████▏    | 52445/100000 [00:06<00:06, 7861.02it/s]\u001b[A\u001b[A\n",
      "\n",
      " 53%|█████▎    | 53247/100000 [00:06<00:05, 7908.00it/s]\u001b[A\u001b[A\n",
      "\n",
      " 54%|█████▍    | 54054/100000 [00:06<00:05, 7954.97it/s]\u001b[A\u001b[A\n",
      "\n",
      " 55%|█████▍    | 54854/100000 [00:06<00:05, 7966.68it/s]\u001b[A\u001b[A\n",
      "\n",
      " 56%|█████▌    | 55654/100000 [00:07<00:05, 7974.13it/s]\u001b[A\u001b[A\n",
      "\n",
      " 56%|█████▋    | 56457/100000 [00:07<00:05, 7988.47it/s]\u001b[A\u001b[A\n",
      "\n",
      " 57%|█████▋    | 57262/100000 [00:07<00:05, 8005.23it/s]\u001b[A\u001b[A\n",
      "\n",
      " 58%|█████▊    | 58063/100000 [00:07<00:05, 7984.86it/s]\u001b[A\u001b[A\n",
      "\n",
      " 59%|█████▉    | 58867/100000 [00:07<00:05, 8000.28it/s]\u001b[A\u001b[A\n",
      "\n",
      " 60%|█████▉    | 59671/100000 [00:07<00:05, 8010.12it/s]\u001b[A\u001b[A\n",
      "\n",
      " 60%|██████    | 60473/100000 [00:07<00:04, 8007.32it/s]\u001b[A\u001b[A\n",
      "\n",
      " 61%|██████▏   | 61282/100000 [00:07<00:04, 8029.69it/s]\u001b[A\u001b[A\n",
      "\n",
      " 62%|██████▏   | 62086/100000 [00:07<00:04, 8019.33it/s]\u001b[A\u001b[A\n",
      "\n",
      " 63%|██████▎   | 62894/100000 [00:07<00:04, 8036.59it/s]\u001b[A\u001b[A\n",
      "\n",
      " 64%|██████▎   | 63698/100000 [00:08<00:04, 8027.33it/s]\u001b[A\u001b[A\n",
      "\n",
      " 65%|██████▍   | 64501/100000 [00:08<00:04, 7993.21it/s]\u001b[A\u001b[A\n",
      "\n",
      " 65%|██████▌   | 65301/100000 [00:08<00:04, 7980.36it/s]\u001b[A\u001b[A\n",
      "\n",
      " 66%|██████▌   | 66100/100000 [00:08<00:04, 7965.89it/s]\u001b[A\u001b[A\n",
      "\n",
      " 67%|██████▋   | 66897/100000 [00:08<00:04, 7955.43it/s]\u001b[A\u001b[A\n",
      "\n",
      " 68%|██████▊   | 67693/100000 [00:08<00:04, 7952.84it/s]\u001b[A\u001b[A\n",
      "\n",
      " 68%|██████▊   | 68492/100000 [00:08<00:03, 7961.62it/s]\u001b[A\u001b[A\n",
      "\n",
      " 69%|██████▉   | 69289/100000 [00:08<00:03, 7956.05it/s]\u001b[A\u001b[A\n",
      "\n",
      " 70%|███████   | 70085/100000 [00:08<00:03, 7887.59it/s]\u001b[A\u001b[A\n",
      "\n",
      " 71%|███████   | 70874/100000 [00:08<00:03, 7648.63it/s]\u001b[A\u001b[A\n",
      "\n",
      " 72%|███████▏  | 71651/100000 [00:09<00:03, 7683.14it/s]\u001b[A\u001b[A\n",
      "\n",
      " 72%|███████▏  | 72444/100000 [00:09<00:03, 7753.52it/s]\u001b[A\u001b[A\n",
      "\n",
      " 73%|███████▎  | 73240/100000 [00:09<00:03, 7812.70it/s]\u001b[A\u001b[A\n",
      "\n",
      " 74%|███████▍  | 74037/100000 [00:09<00:03, 7858.81it/s]\u001b[A\u001b[A\n",
      "\n",
      " 75%|███████▍  | 74839/100000 [00:09<00:03, 7903.62it/s]\u001b[A\u001b[A\n",
      "\n",
      " 76%|███████▌  | 75639/100000 [00:09<00:03, 7931.12it/s]\u001b[A\u001b[A\n",
      "\n",
      " 76%|███████▋  | 76435/100000 [00:09<00:02, 7938.26it/s]\u001b[A\u001b[A\n",
      "\n",
      " 77%|███████▋  | 77230/100000 [00:09<00:02, 7932.71it/s]\u001b[A\u001b[A\n",
      "\n",
      " 78%|███████▊  | 78030/100000 [00:09<00:02, 7950.28it/s]\u001b[A\u001b[A\n",
      "\n",
      " 79%|███████▉  | 78828/100000 [00:09<00:02, 7956.90it/s]\u001b[A\u001b[A\n",
      "\n",
      " 80%|███████▉  | 79624/100000 [00:10<00:02, 7954.31it/s]\u001b[A\u001b[A\n",
      "\n",
      " 80%|████████  | 80420/100000 [00:10<00:02, 7908.44it/s]\u001b[A\u001b[A\n",
      "\n",
      " 81%|████████  | 81217/100000 [00:10<00:02, 7925.76it/s]\u001b[A\u001b[A\n",
      "\n",
      " 82%|████████▏ | 82019/100000 [00:10<00:02, 7951.29it/s]\u001b[A\u001b[A\n",
      "\n",
      " 83%|████████▎ | 82821/100000 [00:10<00:02, 7970.49it/s]\u001b[A\u001b[A\n",
      "\n",
      " 84%|████████▎ | 83619/100000 [00:10<00:02, 7963.98it/s]\u001b[A\u001b[A\n",
      "\n",
      " 84%|████████▍ | 84416/100000 [00:10<00:01, 7893.70it/s]\u001b[A\u001b[A\n",
      "\n",
      " 85%|████████▌ | 85206/100000 [00:10<00:01, 7823.65it/s]\u001b[A\u001b[A\n",
      "\n",
      " 86%|████████▌ | 85989/100000 [00:10<00:01, 7803.14it/s]\u001b[A\u001b[A\n",
      "\n",
      " 87%|████████▋ | 86787/100000 [00:10<00:01, 7852.73it/s]\u001b[A\u001b[A\n",
      "\n",
      " 88%|████████▊ | 87584/100000 [00:11<00:01, 7886.81it/s]\u001b[A\u001b[A\n",
      "\n",
      " 88%|████████▊ | 88382/100000 [00:11<00:01, 7912.34it/s]\u001b[A\u001b[A\n",
      "\n",
      " 89%|████████▉ | 89186/100000 [00:11<00:01, 7949.07it/s]\u001b[A\u001b[A\n",
      "\n",
      " 90%|████████▉ | 89982/100000 [00:11<00:01, 7793.81it/s]\u001b[A\u001b[A\n",
      "\n",
      " 91%|█████████ | 90781/100000 [00:11<00:01, 7850.91it/s]\u001b[A\u001b[A\n",
      "\n",
      " 92%|█████████▏| 91584/100000 [00:11<00:01, 7901.38it/s]\u001b[A\u001b[A\n",
      "\n",
      " 92%|█████████▏| 92388/100000 [00:11<00:00, 7942.04it/s]\u001b[A\u001b[A\n",
      "\n",
      " 93%|█████████▎| 93190/100000 [00:11<00:00, 7964.70it/s]\u001b[A\u001b[A\n",
      "\n",
      " 94%|█████████▍| 93987/100000 [00:11<00:00, 7965.84it/s]\u001b[A\u001b[A\n",
      "\n",
      " 95%|█████████▍| 94785/100000 [00:11<00:00, 7969.93it/s]\u001b[A\u001b[A\n",
      "\n",
      " 96%|█████████▌| 95583/100000 [00:12<00:00, 7968.37it/s]\u001b[A\u001b[A\n",
      "\n",
      " 96%|█████████▋| 96381/100000 [00:12<00:00, 7970.95it/s]\u001b[A\u001b[A\n",
      "\n",
      " 97%|█████████▋| 97179/100000 [00:12<00:00, 7967.85it/s]\u001b[A\u001b[A\n",
      "\n",
      " 98%|█████████▊| 97978/100000 [00:12<00:00, 7972.24it/s]\u001b[A\u001b[A\n",
      "\n",
      " 99%|█████████▉| 98776/100000 [00:12<00:00, 7972.94it/s]\u001b[A\u001b[A\n",
      "\n",
      "100%|█████████▉| 99574/100000 [00:12<00:00, 7960.75it/s]\u001b[A\u001b[A\n",
      "\n",
      "100%|██████████| 100000/100000 [00:12<00:00, 7912.30it/s]\u001b[A\u001b[A"
     ]
    }
   ],
   "source": [
    "for p,q in tqdm(random_vector_pairs):\n",
    "    s_p, v_p = pfv_to_sv(p)\n",
    "    s_q, v_q = pfv_to_sv(q)\n",
    "    assert np.array_equal(agree(p,q), np.array(list(agree_ba(s_p, v_p, s_q, v_q)), dtype=myint))\n",
    "    assert np.array_equal(intersection(p,q), sv_to_pfv(*intersection_ba(s_p, v_p, s_q, v_q)))"
   ]
  },
  {
   "cell_type": "code",
   "execution_count": 109,
   "metadata": {
    "ExecuteTime": {
     "end_time": "2019-05-09T20:00:12.962245Z",
     "start_time": "2019-05-09T20:00:12.960137Z"
    }
   },
   "outputs": [],
   "source": [
    "def in_extension_ba(s_p, v_p, s_o, v_o):\n",
    "    return agree_ba_(s_p, v_p, s_o, v_o)"
   ]
  },
  {
   "cell_type": "markdown",
   "metadata": {},
   "source": [
    "### Performance evaluation"
   ]
  },
  {
   "cell_type": "markdown",
   "metadata": {},
   "source": [
    "Now we compare timing:"
   ]
  },
  {
   "cell_type": "code",
   "execution_count": 110,
   "metadata": {
    "ExecuteTime": {
     "end_time": "2019-05-09T20:00:24.918137Z",
     "start_time": "2019-05-09T20:00:12.963155Z"
    }
   },
   "outputs": [],
   "source": [
    "agreeing_vector_pairs_ba = [(pfv_to_sv(u)[0], pfv_to_sv(u)[1], pfv_to_sv(v)[0], pfv_to_sv(v)[1]) for u,v in agreeing_vector_pairs]"
   ]
  },
  {
   "cell_type": "code",
   "execution_count": 111,
   "metadata": {
    "ExecuteTime": {
     "end_time": "2019-05-09T20:00:36.624589Z",
     "start_time": "2019-05-09T20:00:24.920079Z"
    }
   },
   "outputs": [],
   "source": [
    "random_vector_pairs_ba = [(pfv_to_sv(u)[0], pfv_to_sv(u)[1], pfv_to_sv(v)[0], pfv_to_sv(v)[1]) for u,v in random_vector_pairs]"
   ]
  },
  {
   "cell_type": "code",
   "execution_count": 112,
   "metadata": {
    "ExecuteTime": {
     "end_time": "2019-05-09T20:00:36.629133Z",
     "start_time": "2019-05-09T20:00:36.626285Z"
    }
   },
   "outputs": [],
   "source": [
    "def unpack_pfv_pair(pair):\n",
    "    p = pair[0]\n",
    "    q = pair[1]\n",
    "    s_p, v_p = pfv_to_sv(p)\n",
    "    s_q, v_q = pfv_to_sv(q)\n",
    "    return (s_p, v_p, s_q, v_q)\n",
    "\n",
    "# def unpack_sv_pair_pair(sv_pair_pair):\n",
    "#     s_p, v_p = sv_pair_pair[0][0], sv_pair_pair[0][1]\n",
    "#     s_q, v_q = sv_pair_pair[1][2], sv_pair_pair[1][1]\n",
    "#     return (s_p, v_p, s_q, v_q)"
   ]
  },
  {
   "cell_type": "code",
   "execution_count": 113,
   "metadata": {
    "ExecuteTime": {
     "end_time": "2019-05-09T20:00:58.132317Z",
     "start_time": "2019-05-09T20:00:38.306002Z"
    }
   },
   "outputs": [
    {
     "name": "stdout",
     "output_type": "stream",
     "text": [
      "2.48 s ± 16.3 ms per loop (mean ± std. dev. of 7 runs, 1 loop each)\n"
     ]
    }
   ],
   "source": [
    "%%timeit\n",
    "\n",
    "list(starmap(agree, random_vector_pairs))"
   ]
  },
  {
   "cell_type": "code",
   "execution_count": 114,
   "metadata": {
    "ExecuteTime": {
     "end_time": "2019-05-09T20:00:59.806785Z",
     "start_time": "2019-05-09T20:00:58.135462Z"
    }
   },
   "outputs": [
    {
     "name": "stdout",
     "output_type": "stream",
     "text": [
      "207 ms ± 5.67 ms per loop (mean ± std. dev. of 7 runs, 1 loop each)\n"
     ]
    }
   ],
   "source": [
    "%%timeit\n",
    "\n",
    "list(starmap(agree_ba, random_vector_pairs_ba))"
   ]
  },
  {
   "cell_type": "code",
   "execution_count": 115,
   "metadata": {
    "ExecuteTime": {
     "end_time": "2019-05-09T20:01:08.085770Z",
     "start_time": "2019-05-09T20:00:59.808340Z"
    }
   },
   "outputs": [
    {
     "name": "stdout",
     "output_type": "stream",
     "text": [
      "102 ms ± 654 µs per loop (mean ± std. dev. of 7 runs, 10 loops each)\n"
     ]
    }
   ],
   "source": [
    "%%timeit\n",
    "\n",
    "list(starmap(union, agreeing_vector_pairs))"
   ]
  },
  {
   "cell_type": "code",
   "execution_count": 116,
   "metadata": {
    "ExecuteTime": {
     "end_time": "2019-05-09T20:01:12.576945Z",
     "start_time": "2019-05-09T20:01:08.089557Z"
    }
   },
   "outputs": [
    {
     "name": "stdout",
     "output_type": "stream",
     "text": [
      "55.4 ms ± 1.17 ms per loop (mean ± std. dev. of 7 runs, 10 loops each)\n"
     ]
    }
   ],
   "source": [
    "%%timeit\n",
    "\n",
    "list(starmap(union_ba, agreeing_vector_pairs_ba))"
   ]
  },
  {
   "cell_type": "code",
   "execution_count": 117,
   "metadata": {
    "ExecuteTime": {
     "end_time": "2019-05-09T20:01:14.442449Z",
     "start_time": "2019-05-09T20:01:12.578838Z"
    }
   },
   "outputs": [
    {
     "name": "stdout",
     "output_type": "stream",
     "text": [
      "232 ms ± 4.88 ms per loop (mean ± std. dev. of 7 runs, 1 loop each)\n"
     ]
    }
   ],
   "source": [
    "%%timeit\n",
    "\n",
    "list(starmap(intersection, random_vector_pairs))"
   ]
  },
  {
   "cell_type": "code",
   "execution_count": 118,
   "metadata": {
    "ExecuteTime": {
     "end_time": "2019-05-09T20:01:29.441675Z",
     "start_time": "2019-05-09T20:01:14.444872Z"
    }
   },
   "outputs": [
    {
     "name": "stdout",
     "output_type": "stream",
     "text": [
      "185 ms ± 2.15 ms per loop (mean ± std. dev. of 7 runs, 10 loops each)\n"
     ]
    }
   ],
   "source": [
    "%%timeit\n",
    "\n",
    "list(starmap(intersection_ba, random_vector_pairs_ba))"
   ]
  },
  {
   "cell_type": "markdown",
   "metadata": {},
   "source": [
    "#### Conclusion"
   ]
  },
  {
   "cell_type": "markdown",
   "metadata": {},
   "source": [
    "In the baseline representation:\n",
    " - `agreement` checking is very expensive, taking ≈10x longer than `union`ing and ≈5x longer than `intersect`ing\n",
    "\n",
    "In the bitarray representation:\n",
    " - `agreement` checking and `intersection` take comparably long, and both take about 5x longer than `union`\n",
    "\n",
    "`agreement` checking is about 5x faster with bitarrays than with the baseline representation, `intersection` is about 1.25x faster, and `union` is about 2x faster."
   ]
  },
  {
   "cell_type": "markdown",
   "metadata": {},
   "source": [
    "## Matrix extension of the baseline representation"
   ]
  },
  {
   "cell_type": "code",
   "execution_count": 119,
   "metadata": {
    "ExecuteTime": {
     "end_time": "2019-05-09T20:02:03.062227Z",
     "start_time": "2019-05-09T20:02:03.056867Z"
    }
   },
   "outputs": [
    {
     "data": {
      "text/plain": [
       "[(array([ 1,  0,  1,  0,  1,  0,  1, -1,  0], dtype=int8),\n",
       "  array([ 1,  0,  0,  0,  0,  0,  0,  0, -1], dtype=int8)),\n",
       " (array([ 0,  1,  0, -1, -1,  0, -1, -1, -1], dtype=int8),\n",
       "  array([-1,  0,  0,  0,  0,  0,  0,  1,  0], dtype=int8)),\n",
       " (array([ 0,  1,  1,  1, -1, -1,  0, -1,  0], dtype=int8),\n",
       "  array([ 0,  1, -1, -1, -1,  1,  1,  0,  1], dtype=int8))]"
      ]
     },
     "execution_count": 119,
     "metadata": {},
     "output_type": "execute_result"
    }
   ],
   "source": [
    "random_stack_list = random_vector_pairs[:3]; random_stack_list"
   ]
  },
  {
   "cell_type": "code",
   "execution_count": 120,
   "metadata": {
    "ExecuteTime": {
     "end_time": "2019-05-09T20:02:03.903628Z",
     "start_time": "2019-05-09T20:02:03.895396Z"
    }
   },
   "outputs": [
    {
     "data": {
      "text/plain": [
       "[(array([ 1,  0,  1,  0,  1,  0,  1, -1,  0], dtype=int8),\n",
       "  array([ 1,  0,  0,  0,  0,  0,  0,  0, -1], dtype=int8)),\n",
       " (array([ 0,  1,  0, -1, -1,  0, -1, -1, -1], dtype=int8),\n",
       "  array([-1,  0,  0,  0,  0,  0,  0,  1,  0], dtype=int8)),\n",
       " (array([ 0,  1,  1,  1, -1, -1,  0, -1,  0], dtype=int8),\n",
       "  array([ 0,  1, -1, -1, -1,  1,  1,  0,  1], dtype=int8)),\n",
       " (array([ 1,  0,  0, -1,  1, -1, -1,  1, -1], dtype=int8),\n",
       "  array([-1, -1,  1, -1,  1,  1, -1,  0,  0], dtype=int8)),\n",
       " (array([-1, -1,  1,  1,  0,  1, -1,  1,  0], dtype=int8),\n",
       "  array([ 1,  1, -1, -1,  1,  1,  1, -1,  1], dtype=int8)),\n",
       " (array([ 0, -1, -1, -1,  0, -1,  0, -1, -1], dtype=int8),\n",
       "  array([ 0,  1,  0,  1, -1, -1, -1, -1,  0], dtype=int8)),\n",
       " (array([ 0,  0,  0,  0, -1,  0, -1,  0, -1], dtype=int8),\n",
       "  array([ 0, -1,  0,  0,  1,  1,  1, -1,  0], dtype=int8)),\n",
       " (array([ 0,  1,  0, -1, -1, -1,  0, -1,  0], dtype=int8),\n",
       "  array([-1, -1,  0, -1,  0,  1,  0, -1, -1], dtype=int8)),\n",
       " (array([-1,  0,  1, -1, -1,  0,  0, -1,  0], dtype=int8),\n",
       "  array([ 1,  1, -1,  1,  1, -1,  1,  1,  1], dtype=int8)),\n",
       " (array([-1,  1, -1,  1,  1, -1, -1, -1, -1], dtype=int8),\n",
       "  array([ 1,  0,  1, -1,  0,  0,  1, -1,  1], dtype=int8))]"
      ]
     },
     "execution_count": 120,
     "metadata": {},
     "output_type": "execute_result"
    }
   ],
   "source": [
    "random_vector_pairs[:10]"
   ]
  },
  {
   "cell_type": "code",
   "execution_count": 121,
   "metadata": {
    "ExecuteTime": {
     "end_time": "2019-05-09T20:02:05.026039Z",
     "start_time": "2019-05-09T20:02:04.950176Z"
    }
   },
   "outputs": [
    {
     "data": {
      "text/plain": [
       "dtype('int8')"
      ]
     },
     "execution_count": 121,
     "metadata": {},
     "output_type": "execute_result"
    },
    {
     "data": {
      "text/plain": [
       "dtype('int8')"
      ]
     },
     "execution_count": 121,
     "metadata": {},
     "output_type": "execute_result"
    }
   ],
   "source": [
    "first = lambda seq: seq[0]\n",
    "second = lambda seq: seq[1]\n",
    "\n",
    "stack_a, stack_b = list(map(first, random_vector_pairs)), list(map(second, random_vector_pairs))\n",
    "random_pair_stack_a, random_pair_stack_b = np.array(stack_a), np.array(stack_b)\n",
    "random_pair_stack_a.dtype\n",
    "random_pair_stack_b.dtype"
   ]
  },
  {
   "cell_type": "code",
   "execution_count": 122,
   "metadata": {
    "ExecuteTime": {
     "end_time": "2019-05-09T20:02:10.943754Z",
     "start_time": "2019-05-09T20:02:10.864062Z"
    }
   },
   "outputs": [
    {
     "data": {
      "text/plain": [
       "dtype('int8')"
      ]
     },
     "execution_count": 122,
     "metadata": {},
     "output_type": "execute_result"
    },
    {
     "data": {
      "text/plain": [
       "dtype('int8')"
      ]
     },
     "execution_count": 122,
     "metadata": {},
     "output_type": "execute_result"
    }
   ],
   "source": [
    "stack_a, stack_b = list(map(first, agreeing_vector_pairs)), list(map(second, agreeing_vector_pairs))\n",
    "agreeing_pair_stack_a, agreeing_pair_stack_b = np.array(stack_a), np.array(stack_b)\n",
    "agreeing_pair_stack_a.dtype\n",
    "agreeing_pair_stack_b.dtype"
   ]
  },
  {
   "cell_type": "markdown",
   "metadata": {},
   "source": [
    "### Agreement testing"
   ]
  },
  {
   "cell_type": "code",
   "execution_count": 123,
   "metadata": {
    "ExecuteTime": {
     "end_time": "2019-05-09T20:02:13.705574Z",
     "start_time": "2019-05-09T20:02:13.700746Z"
    }
   },
   "outputs": [
    {
     "data": {
      "text/plain": [
       "(100000, 9)"
      ]
     },
     "execution_count": 123,
     "metadata": {},
     "output_type": "execute_result"
    }
   ],
   "source": [
    "random_pair_stack_a.shape\n",
    "n = random_pair_stack_a.shape[0]"
   ]
  },
  {
   "cell_type": "code",
   "execution_count": 124,
   "metadata": {
    "ExecuteTime": {
     "end_time": "2019-05-09T20:02:17.290501Z",
     "start_time": "2019-05-09T20:02:14.432896Z"
    }
   },
   "outputs": [],
   "source": [
    "list(starmap(agree_, random_vector_pairs));"
   ]
  },
  {
   "cell_type": "code",
   "execution_count": 125,
   "metadata": {
    "ExecuteTime": {
     "end_time": "2019-05-09T20:02:20.173737Z",
     "start_time": "2019-05-09T20:02:17.292335Z"
    }
   },
   "outputs": [
    {
     "data": {
      "text/plain": [
       "(100000,)"
      ]
     },
     "execution_count": 125,
     "metadata": {},
     "output_type": "execute_result"
    }
   ],
   "source": [
    "vector_agree__results = np.array([agree_(random_pair_stack_a[i],random_pair_stack_b[i]) for i in range(n)])\n",
    "vector_agree__results.shape"
   ]
  },
  {
   "cell_type": "code",
   "execution_count": 126,
   "metadata": {
    "ExecuteTime": {
     "end_time": "2019-05-09T20:02:20.179319Z",
     "start_time": "2019-05-09T20:02:20.174914Z"
    }
   },
   "outputs": [],
   "source": [
    "def agree_mat(A,B):\n",
    "    '''\n",
    "    Given two matrices A::(n,m) and B::(n,m), \n",
    "    return C::(n,1) where \n",
    "    C[i] = 1 iff A[i] and B[i] agree at all indices\n",
    "    and 0 otherwise.\n",
    "    '''\n",
    "    # (x == 0 or y == 0) or ((x != 0 and y != 0) and (x == y))\n",
    "    A_unspecified = A == 0\n",
    "    B_unspecified = B == 0\n",
    "    A_or_B_unspecified = A_unspecified | B_unspecified\n",
    "    \n",
    "    A_specified = A != 0\n",
    "    B_specified = B != 0\n",
    "    A_and_B_specified = A_specified & B_specified\n",
    "    A_equal_B = np.equal(A,B)\n",
    "    A_B_both_specified_and_equal = A_and_B_specified & A_equal_B\n",
    "\n",
    "    ag = A_or_B_unspecified | A_B_both_specified_and_equal\n",
    "#     return ag\n",
    "    result = np.prod(ag, axis=-1, dtype=myint)\n",
    "    return result"
   ]
  },
  {
   "cell_type": "code",
   "execution_count": 127,
   "metadata": {
    "ExecuteTime": {
     "end_time": "2019-05-09T20:02:20.188530Z",
     "start_time": "2019-05-09T20:02:20.181178Z"
    }
   },
   "outputs": [
    {
     "data": {
      "text/plain": [
       "(100000,)"
      ]
     },
     "execution_count": 127,
     "metadata": {},
     "output_type": "execute_result"
    }
   ],
   "source": [
    "matrix_agree_result = agree_mat(random_pair_stack_a, random_pair_stack_b)\n",
    "matrix_agree_result.shape"
   ]
  },
  {
   "cell_type": "code",
   "execution_count": 128,
   "metadata": {
    "ExecuteTime": {
     "end_time": "2019-05-09T20:02:20.193951Z",
     "start_time": "2019-05-09T20:02:20.190523Z"
    }
   },
   "outputs": [
    {
     "data": {
      "text/plain": [
       "True"
      ]
     },
     "execution_count": 128,
     "metadata": {},
     "output_type": "execute_result"
    }
   ],
   "source": [
    "np.array_equal(matrix_agree_result, vector_agree__results)"
>>>>>>> 0a328375a3f14f6013bfebf1214fe140b81c5be2
   ]
  },
  {
   "cell_type": "code",
<<<<<<< HEAD
   "execution_count": 82,
   "metadata": {
    "ExecuteTime": {
     "end_time": "2019-05-10T07:43:02.853581Z",
     "start_time": "2019-05-10T07:43:02.848317Z"
=======
   "execution_count": 129,
   "metadata": {
    "ExecuteTime": {
     "end_time": "2019-05-09T20:02:25.144359Z",
     "start_time": "2019-05-09T20:02:20.961324Z"
>>>>>>> 0a328375a3f14f6013bfebf1214fe140b81c5be2
    }
   },
   "outputs": [],
   "source": [
<<<<<<< HEAD
    "def check_equivalent(p,q,V):\n",
    "    \"\"\"\n",
    "    Checks if p and q have the same extension in V\n",
    "    \n",
    "    Inputs:\n",
    "        p,q - vectors of shape (M,) with elements from {-1,0,1}.  The partially specified feature vectors\n",
    "        V-  a matrix of shape (L,M) with elements from {-1,1}.  The feature vectors\n",
    "    Outputs:\n",
    "        match - bool, whether or not p and q have the same extension \n",
    "    \"\"\"\n",
    "    p_bool = extension_bool(p,V)\n",
    "    q_bool = extension_bool(q,V)\n",
    "    M = np.shape(q_bool)[0]\n",
    "    return all([p_bool[i]==q_bool[i] for i in range(M)])"
=======
    "for i in range(n):\n",
    "    u = random_pair_stack_a[i]\n",
    "    v = random_pair_stack_b[i]\n",
    "    assert agree_(u,v) == agree_mat(u,v), '{0}, {1} -> {2} vs. {3}'.format(u,v, agree_(u,v), agree_mat(u,v, True))"
   ]
  },
  {
   "cell_type": "markdown",
   "metadata": {},
   "source": [
    "### Union"
   ]
  },
  {
   "cell_type": "code",
   "execution_count": 130,
   "metadata": {
    "ExecuteTime": {
     "end_time": "2019-05-09T20:02:25.309964Z",
     "start_time": "2019-05-09T20:02:25.146171Z"
    }
   },
   "outputs": [
    {
     "data": {
      "text/plain": [
       "(100000, 9)"
      ]
     },
     "execution_count": 130,
     "metadata": {},
     "output_type": "execute_result"
    }
   ],
   "source": [
    "vector_union_results = np.array([union(agreeing_pair_stack_a[i],agreeing_pair_stack_b[i]) for i in range(n)])\n",
    "vector_union_results.shape"
   ]
  },
  {
   "cell_type": "code",
   "execution_count": 131,
   "metadata": {
    "ExecuteTime": {
     "end_time": "2019-05-09T20:02:25.314840Z",
     "start_time": "2019-05-09T20:02:25.311313Z"
    }
   },
   "outputs": [
    {
     "data": {
      "text/plain": [
       "array([[ 1, -1,  1, ...,  1,  1, -1],\n",
       "       [-1, -1,  0, ..., -1,  1, -1],\n",
       "       [ 1,  1,  1, ..., -1,  1,  1],\n",
       "       ..., \n",
       "       [ 1, -1,  1, ...,  1,  1, -1],\n",
       "       [ 1,  0,  1, ..., -1,  1, -1],\n",
       "       [-1,  1,  1, ..., -1,  1, -1]], dtype=int8)"
      ]
     },
     "execution_count": 131,
     "metadata": {},
     "output_type": "execute_result"
    }
   ],
   "source": [
    "union(agreeing_pair_stack_a, agreeing_pair_stack_b)"
   ]
  },
  {
   "cell_type": "code",
   "execution_count": 132,
   "metadata": {
    "ExecuteTime": {
     "end_time": "2019-05-09T20:02:25.319797Z",
     "start_time": "2019-05-09T20:02:25.316452Z"
    }
   },
   "outputs": [
    {
     "data": {
      "text/plain": [
       "True"
      ]
     },
     "execution_count": 132,
     "metadata": {},
     "output_type": "execute_result"
    }
   ],
   "source": [
    "np.array_equal(vector_union_results, union(agreeing_pair_stack_a, agreeing_pair_stack_b) )"
   ]
  },
  {
   "cell_type": "markdown",
   "metadata": {},
   "source": [
    "### Intersection"
   ]
  },
  {
   "cell_type": "code",
   "execution_count": 133,
   "metadata": {
    "ExecuteTime": {
     "end_time": "2019-05-09T20:02:26.017339Z",
     "start_time": "2019-05-09T20:02:25.704371Z"
    }
   },
   "outputs": [
    {
     "data": {
      "text/plain": [
       "(100000, 9)"
      ]
     },
     "execution_count": 133,
     "metadata": {},
     "output_type": "execute_result"
    }
   ],
   "source": [
    "vector_intersection_results = np.array([intersection(random_pair_stack_a[i],random_pair_stack_b[i]) for i in range(n)])\n",
    "vector_intersection_results.shape"
   ]
  },
  {
   "cell_type": "code",
   "execution_count": 134,
   "metadata": {
    "ExecuteTime": {
     "end_time": "2019-05-09T20:02:26.143145Z",
     "start_time": "2019-05-09T20:02:26.137526Z"
    }
   },
   "outputs": [
    {
     "data": {
      "text/plain": [
       "array([[ 0, -1,  0, ...,  0,  0, -1],\n",
       "       [ 0,  0,  0, ...,  0,  1,  0],\n",
       "       [ 1,  1,  1, ...,  0,  0,  1],\n",
       "       ..., \n",
       "       [ 1,  0,  0, ...,  1,  0, -1],\n",
       "       [ 0,  0,  1, ..., -1,  0,  0],\n",
       "       [ 0,  0,  1, ...,  0,  1,  0]], dtype=int8)"
      ]
     },
     "execution_count": 134,
     "metadata": {},
     "output_type": "execute_result"
    }
   ],
   "source": [
    "intersection(agreeing_pair_stack_a, agreeing_pair_stack_b)"
   ]
  },
  {
   "cell_type": "code",
   "execution_count": 135,
   "metadata": {
    "ExecuteTime": {
     "end_time": "2019-05-09T20:02:26.524822Z",
     "start_time": "2019-05-09T20:02:26.520779Z"
    }
   },
   "outputs": [
    {
     "data": {
      "text/plain": [
       "True"
      ]
     },
     "execution_count": 135,
     "metadata": {},
     "output_type": "execute_result"
    }
   ],
   "source": [
    "np.array_equal(vector_intersection_results, intersection(random_pair_stack_a, random_pair_stack_b) )"
   ]
  },
  {
   "cell_type": "markdown",
   "metadata": {},
   "source": [
    "### Extension"
   ]
  },
  {
   "cell_type": "markdown",
   "metadata": {},
   "source": [
    "Using `agree_mat` we can define a faster method for calculating extensions:"
   ]
  },
  {
   "cell_type": "code",
   "execution_count": 136,
   "metadata": {
    "ExecuteTime": {
     "end_time": "2019-05-09T20:02:30.666559Z",
     "start_time": "2019-05-09T20:02:30.664557Z"
    }
   },
   "outputs": [],
   "source": [
    "def extension_(pfv):\n",
    "    return agree_mat(pfv, objectMap)"
   ]
  },
  {
   "cell_type": "code",
   "execution_count": 137,
   "metadata": {
    "ExecuteTime": {
     "end_time": "2019-05-09T20:02:31.232981Z",
     "start_time": "2019-05-09T20:02:31.191983Z"
    }
   },
   "outputs": [
    {
     "data": {
      "text/plain": [
       "array([ 1,  0, -1,  1,  1,  0,  0,  0,  0], dtype=int8)"
      ]
     },
     "execution_count": 137,
     "metadata": {},
     "output_type": "execute_result"
    },
    {
     "data": {
      "text/plain": [
       "' '"
      ]
     },
     "execution_count": 137,
     "metadata": {},
     "output_type": "execute_result"
    },
    {
     "data": {
      "text/plain": [
       "array([0, 0, 0, 0, 0, 0, 1, 0, 0, 0, 0, 0, 0, 0, 0, 0, 0, 0, 0, 0, 0, 0, 0,\n",
       "       0, 0, 0, 0, 0, 0, 0, 1, 0, 0, 0, 0, 0, 0, 0, 1, 0, 0, 0, 0, 0, 1, 0,\n",
       "       0, 0, 0, 0, 0, 0, 0, 0, 0, 0, 0, 0, 0, 0, 0, 0, 0, 0, 0, 0, 0, 0, 0,\n",
       "       0, 1, 1, 0, 0, 0, 0, 0, 0, 0, 0, 0, 0, 0, 0, 0, 0, 0, 0, 0, 0, 0, 0,\n",
       "       0, 0, 0, 0, 0, 0, 0, 0, 0, 0, 0, 0, 0, 0, 0, 0, 0, 0, 1, 1, 0, 0, 0,\n",
       "       0, 0, 0, 0, 0, 0, 0, 0, 0, 0, 0, 0, 0, 0, 0, 1, 0, 0, 0, 0, 0, 0, 0,\n",
       "       0, 0, 0, 0, 0, 0, 0, 0, 0, 0, 0, 0, 0, 0, 0, 0, 0, 0, 0, 0, 0, 0, 0,\n",
       "       0, 0, 0, 0, 0, 0, 1, 1, 0, 0, 0, 0, 0, 0, 0, 0, 0, 0, 0, 0, 0, 0, 0,\n",
       "       0, 0, 0, 0, 0, 0, 0, 0, 0, 0, 0, 0, 0, 0, 0, 0, 0, 0, 0, 0, 0, 0, 1,\n",
       "       0, 0, 1, 0, 0, 0, 1, 0, 0], dtype=int8)"
      ]
     },
     "execution_count": 137,
     "metadata": {},
     "output_type": "execute_result"
    },
    {
     "data": {
      "text/plain": [
       "array([0, 0, 0, 0, 0, 0, 1, 0, 0, 0, 0, 0, 0, 0, 0, 0, 0, 0, 0, 0, 0, 0, 0,\n",
       "       0, 0, 0, 0, 0, 0, 0, 1, 0, 0, 0, 0, 0, 0, 0, 1, 0, 0, 0, 0, 0, 1, 0,\n",
       "       0, 0, 0, 0, 0, 0, 0, 0, 0, 0, 0, 0, 0, 0, 0, 0, 0, 0, 0, 0, 0, 0, 0,\n",
       "       0, 1, 1, 0, 0, 0, 0, 0, 0, 0, 0, 0, 0, 0, 0, 0, 0, 0, 0, 0, 0, 0, 0,\n",
       "       0, 0, 0, 0, 0, 0, 0, 0, 0, 0, 0, 0, 0, 0, 0, 0, 0, 0, 1, 1, 0, 0, 0,\n",
       "       0, 0, 0, 0, 0, 0, 0, 0, 0, 0, 0, 0, 0, 0, 0, 1, 0, 0, 0, 0, 0, 0, 0,\n",
       "       0, 0, 0, 0, 0, 0, 0, 0, 0, 0, 0, 0, 0, 0, 0, 0, 0, 0, 0, 0, 0, 0, 0,\n",
       "       0, 0, 0, 0, 0, 0, 1, 1, 0, 0, 0, 0, 0, 0, 0, 0, 0, 0, 0, 0, 0, 0, 0,\n",
       "       0, 0, 0, 0, 0, 0, 0, 0, 0, 0, 0, 0, 0, 0, 0, 0, 0, 0, 0, 0, 0, 0, 1,\n",
       "       0, 0, 1, 0, 0, 0, 1, 0, 0], dtype=int8)"
      ]
     },
     "execution_count": 137,
     "metadata": {},
     "output_type": "execute_result"
    },
    {
     "data": {
      "text/plain": [
       "array([0, 0, 0, 0, 0, 0, 1, 0, 0, 0, 0, 0, 0, 0, 0, 0, 0, 0, 0, 0, 0, 0, 0,\n",
       "       0, 0, 0, 0, 0, 0, 0, 1, 0, 0, 0, 0, 0, 0, 0, 1, 0, 0, 0, 0, 0, 1, 0,\n",
       "       0, 0, 0, 0, 0, 0, 0, 0, 0, 0, 0, 0, 0, 0, 0, 0, 0, 0, 0, 0, 0, 0, 0,\n",
       "       0, 1, 1, 0, 0, 0, 0, 0, 0, 0, 0, 0, 0, 0, 0, 0, 0, 0, 0, 0, 0, 0, 0,\n",
       "       0, 0, 0, 0, 0, 0, 0, 0, 0, 0, 0, 0, 0, 0, 0, 0, 0, 0, 1, 1, 0, 0, 0,\n",
       "       0, 0, 0, 0, 0, 0, 0, 0, 0, 0, 0, 0, 0, 0, 0, 1, 0, 0, 0, 0, 0, 0, 0,\n",
       "       0, 0, 0, 0, 0, 0, 0, 0, 0, 0, 0, 0, 0, 0, 0, 0, 0, 0, 0, 0, 0, 0, 0,\n",
       "       0, 0, 0, 0, 0, 0, 1, 1, 0, 0, 0, 0, 0, 0, 0, 0, 0, 0, 0, 0, 0, 0, 0,\n",
       "       0, 0, 0, 0, 0, 0, 0, 0, 0, 0, 0, 0, 0, 0, 0, 0, 0, 0, 0, 0, 0, 0, 1,\n",
       "       0, 0, 1, 0, 0, 0, 1, 0, 0], dtype=int8)"
      ]
     },
     "execution_count": 137,
     "metadata": {},
     "output_type": "execute_result"
    }
   ],
   "source": [
    "p = make_random_pfv()\n",
    "p\n",
    "' '\n",
    "extension(p)\n",
    "extension_alt(p)\n",
    "extension_(p)"
>>>>>>> 0a328375a3f14f6013bfebf1214fe140b81c5be2
   ]
  },
  {
   "cell_type": "code",
<<<<<<< HEAD
   "execution_count": 90,
   "metadata": {
    "ExecuteTime": {
     "end_time": "2019-05-10T07:45:29.491387Z",
     "start_time": "2019-05-10T07:45:25.797697Z"
    }
   },
   "outputs": [
=======
   "execution_count": 139,
   "metadata": {
    "ExecuteTime": {
     "end_time": "2019-05-09T20:37:09.628054Z",
     "start_time": "2019-05-09T20:18:33.255322Z"
    }
   },
   "outputs": [
    {
     "name": "stderr",
     "output_type": "stream",
     "text": [
      "\n",
      "\n",
      "  0%|          | 0/100000 [00:00<?, ?it/s]\u001b[A\u001b[A\n",
      "\n",
      "  0%|          | 11/100000 [00:00<17:54, 93.05it/s]\u001b[A\u001b[A\n",
      "\n",
      "  0%|          | 22/100000 [00:00<17:11, 96.88it/s]\u001b[A\u001b[A\n",
      "\n",
      "  0%|          | 31/100000 [00:00<17:47, 93.61it/s]\u001b[A\u001b[A\n",
      "\n",
      "  0%|          | 42/100000 [00:00<17:22, 95.84it/s]\u001b[A\u001b[A\n",
      "\n",
      "  0%|          | 53/100000 [00:00<17:05, 97.42it/s]\u001b[A\u001b[A\n",
      "\n",
      "  0%|          | 65/100000 [00:00<16:56, 98.32it/s]\u001b[A\u001b[A\n",
      "\n",
      "  0%|          | 74/100000 [00:00<18:31, 89.89it/s]\u001b[A\u001b[A\n",
      "\n",
      "  0%|          | 85/100000 [00:00<17:47, 93.59it/s]\u001b[A\u001b[A\n",
      "\n",
      "  0%|          | 94/100000 [00:00<18:37, 89.38it/s]\u001b[A\u001b[A\n",
      "\n",
      "  0%|          | 103/100000 [00:01<18:36, 89.46it/s]\u001b[A\u001b[A\n",
      "\n",
      "  0%|          | 112/100000 [00:01<19:01, 87.49it/s]\u001b[A\u001b[A\n",
      "\n",
      "  0%|          | 122/100000 [00:01<18:58, 87.71it/s]\u001b[A\u001b[A\n",
      "\n",
      "  0%|          | 131/100000 [00:01<19:05, 87.17it/s]\u001b[A\u001b[A\n",
      "\n",
      "  0%|          | 142/100000 [00:01<17:59, 92.52it/s]\u001b[A\u001b[A\n",
      "\n",
      "  0%|          | 152/100000 [00:01<18:15, 91.17it/s]\u001b[A\u001b[A\n",
      "\n",
      "  0%|          | 163/100000 [00:01<17:30, 95.06it/s]\u001b[A\u001b[A\n",
      "\n",
      "  0%|          | 173/100000 [00:01<18:01, 92.29it/s]\u001b[A\u001b[A\n",
      "\n",
      "  0%|          | 183/100000 [00:01<17:52, 93.04it/s]\u001b[A\u001b[A\n",
      "\n",
      "  0%|          | 193/100000 [00:02<17:52, 93.05it/s]\u001b[A\u001b[A\n",
      "\n",
      "  0%|          | 204/100000 [00:02<17:14, 96.50it/s]\u001b[A\u001b[A\n",
      "\n",
      "  0%|          | 215/100000 [00:02<16:46, 99.16it/s]\u001b[A\u001b[A\n",
      "\n",
      "  0%|          | 225/100000 [00:02<18:10, 91.48it/s]\u001b[A\u001b[A\n",
      "\n",
      "  0%|          | 235/100000 [00:02<17:59, 92.39it/s]\u001b[A\u001b[A\n",
      "\n",
      "  0%|          | 245/100000 [00:02<18:01, 92.28it/s]\u001b[A\u001b[A\n",
      "\n",
      "  0%|          | 255/100000 [00:02<18:49, 88.31it/s]\u001b[A\u001b[A\n",
      "\n",
      "  0%|          | 266/100000 [00:02<17:54, 92.85it/s]\u001b[A\u001b[A\n",
      "\n",
      "  0%|          | 276/100000 [00:02<17:46, 93.48it/s]\u001b[A\u001b[A\n",
      "\n",
      "  0%|          | 286/100000 [00:03<20:18, 81.85it/s]\u001b[A\u001b[A\n",
      "\n",
      "  0%|          | 295/100000 [00:03<19:48, 83.88it/s]\u001b[A\u001b[A\n",
      "\n",
      "  0%|          | 305/100000 [00:03<19:14, 86.33it/s]\u001b[A\u001b[A\n",
      "\n",
      "  0%|          | 314/100000 [00:03<19:07, 86.85it/s]\u001b[A\u001b[A\n",
      "\n",
      "  0%|          | 324/100000 [00:03<18:31, 89.67it/s]\u001b[A\u001b[A\n",
      "\n",
      "  0%|          | 334/100000 [00:03<18:51, 88.09it/s]\u001b[A\u001b[A\n",
      "\n",
      "  0%|          | 344/100000 [00:03<18:27, 89.99it/s]\u001b[A\u001b[A\n",
      "\n",
      "  0%|          | 354/100000 [00:03<18:25, 90.10it/s]\u001b[A\u001b[A\n",
      "\n",
      "  0%|          | 364/100000 [00:03<18:38, 89.08it/s]\u001b[A\u001b[A\n",
      "\n",
      "  0%|          | 375/100000 [00:04<17:54, 92.74it/s]\u001b[A\u001b[A\n",
      "\n",
      "  0%|          | 385/100000 [00:04<17:47, 93.30it/s]\u001b[A\u001b[A\n",
      "\n",
      "  0%|          | 395/100000 [00:04<19:16, 86.16it/s]\u001b[A\u001b[A\n",
      "\n",
      "  0%|          | 406/100000 [00:04<18:30, 89.70it/s]\u001b[A\u001b[A\n",
      "\n",
      "  0%|          | 416/100000 [00:04<21:06, 78.65it/s]\u001b[A\u001b[A\n",
      "\n",
      "  0%|          | 426/100000 [00:04<19:45, 84.02it/s]\u001b[A\u001b[A\n",
      "\n",
      "  0%|          | 435/100000 [00:04<24:50, 66.79it/s]\u001b[A\u001b[A\n",
      "\n",
      "  0%|          | 443/100000 [00:05<24:47, 66.95it/s]\u001b[A\u001b[A\n",
      "\n",
      "  0%|          | 452/100000 [00:05<23:44, 69.86it/s]\u001b[A\u001b[A\n",
      "\n",
      "  0%|          | 460/100000 [00:05<23:03, 71.97it/s]\u001b[A\u001b[A\n",
      "\n",
      "  0%|          | 468/100000 [00:05<22:21, 74.20it/s]\u001b[A\u001b[A\n",
      "\n",
      "  0%|          | 478/100000 [00:05<21:05, 78.65it/s]\u001b[A\u001b[A\n",
      "\n",
      "  0%|          | 487/100000 [00:05<21:01, 78.87it/s]\u001b[A\u001b[A\n",
      "\n",
      "  0%|          | 497/100000 [00:05<19:49, 83.67it/s]\u001b[A\u001b[A\n",
      "\n",
      "  1%|          | 506/100000 [00:05<19:54, 83.31it/s]\u001b[A\u001b[A\n",
      "\n",
      "  1%|          | 518/100000 [00:05<18:18, 90.54it/s]\u001b[A\u001b[A\n",
      "\n",
      "  1%|          | 528/100000 [00:05<18:12, 91.04it/s]\u001b[A\u001b[A\n",
      "\n",
      "  1%|          | 539/100000 [00:06<17:51, 92.79it/s]\u001b[A\u001b[A\n",
      "\n",
      "  1%|          | 549/100000 [00:06<17:39, 93.88it/s]\u001b[A\u001b[A\n",
      "\n",
      "  1%|          | 559/100000 [00:06<17:34, 94.27it/s]\u001b[A\u001b[A\n",
      "\n",
      "  1%|          | 571/100000 [00:06<16:53, 98.07it/s]\u001b[A\u001b[A\n",
      "\n",
      "  1%|          | 582/100000 [00:06<16:43, 99.05it/s]\u001b[A\u001b[A\n",
      "\n",
      "  1%|          | 593/100000 [00:06<16:34, 99.98it/s]\u001b[A\u001b[A\n",
      "\n",
      "  1%|          | 604/100000 [00:06<18:15, 90.76it/s]\u001b[A\u001b[A\n",
      "\n",
      "  1%|          | 614/100000 [00:06<18:14, 90.78it/s]\u001b[A\u001b[A\n",
      "\n",
      "  1%|          | 624/100000 [00:06<17:49, 92.93it/s]\u001b[A\u001b[A\n",
      "\n",
      "  1%|          | 634/100000 [00:07<18:35, 89.06it/s]\u001b[A\u001b[A\n",
      "\n",
      "  1%|          | 644/100000 [00:07<18:32, 89.30it/s]\u001b[A\u001b[A\n",
      "\n",
      "  1%|          | 654/100000 [00:07<18:16, 90.59it/s]\u001b[A\u001b[A\n",
      "\n",
      "  1%|          | 664/100000 [00:07<17:48, 92.96it/s]\u001b[A\u001b[A\n",
      "\n",
      "  1%|          | 674/100000 [00:07<18:26, 89.80it/s]\u001b[A\u001b[A\n",
      "\n",
      "  1%|          | 684/100000 [00:07<18:09, 91.12it/s]\u001b[A\u001b[A\n",
      "\n",
      "  1%|          | 694/100000 [00:07<17:58, 92.09it/s]\u001b[A\u001b[A\n",
      "\n",
      "  1%|          | 705/100000 [00:07<17:09, 96.45it/s]\u001b[A\u001b[A\n",
      "\n",
      "  1%|          | 715/100000 [00:07<18:06, 91.36it/s]\u001b[A\u001b[A\n",
      "\n",
      "  1%|          | 725/100000 [00:08<19:15, 85.94it/s]\u001b[A\u001b[A\n",
      "\n",
      "  1%|          | 734/100000 [00:08<19:33, 84.56it/s]\u001b[A\u001b[A\n",
      "\n",
      "  1%|          | 744/100000 [00:08<18:45, 88.18it/s]\u001b[A\u001b[A\n",
      "\n",
      "  1%|          | 755/100000 [00:08<17:53, 92.41it/s]\u001b[A\u001b[A\n",
      "\n",
      "  1%|          | 765/100000 [00:08<18:46, 88.10it/s]\u001b[A\u001b[A\n",
      "\n",
      "  1%|          | 774/100000 [00:08<19:02, 86.88it/s]\u001b[A\u001b[A\n",
      "\n",
      "  1%|          | 784/100000 [00:08<18:55, 87.35it/s]\u001b[A\u001b[A\n",
      "\n",
      "  1%|          | 793/100000 [00:08<19:57, 82.84it/s]\u001b[A\u001b[A\n",
      "\n",
      "  1%|          | 804/100000 [00:09<18:43, 88.28it/s]\u001b[A\u001b[A\n",
      "\n",
      "  1%|          | 813/100000 [00:09<18:53, 87.49it/s]\u001b[A\u001b[A\n",
      "\n",
      "  1%|          | 824/100000 [00:09<18:01, 91.73it/s]\u001b[A\u001b[A\n",
      "\n",
      "  1%|          | 834/100000 [00:09<17:58, 91.91it/s]\u001b[A\u001b[A\n",
      "\n",
      "  1%|          | 844/100000 [00:09<18:29, 89.39it/s]\u001b[A\u001b[A\n",
      "\n",
      "  1%|          | 854/100000 [00:09<18:39, 88.59it/s]\u001b[A\u001b[A\n",
      "\n",
      "  1%|          | 865/100000 [00:09<17:45, 93.04it/s]\u001b[A\u001b[A\n",
      "\n",
      "  1%|          | 875/100000 [00:09<19:37, 84.19it/s]\u001b[A\u001b[A\n",
      "\n",
      "  1%|          | 884/100000 [00:09<20:07, 82.09it/s]\u001b[A\u001b[A\n",
      "\n",
      "  1%|          | 895/100000 [00:10<18:50, 87.68it/s]\u001b[A\u001b[A\n",
      "\n",
      "  1%|          | 905/100000 [00:10<18:27, 89.45it/s]\u001b[A\u001b[A\n",
      "\n",
      "  1%|          | 915/100000 [00:10<18:20, 90.05it/s]\u001b[A\u001b[A\n",
      "\n",
      "  1%|          | 927/100000 [00:10<17:17, 95.52it/s]\u001b[A\u001b[A\n",
      "\n",
      "  1%|          | 938/100000 [00:10<16:38, 99.22it/s]\u001b[A\u001b[A\n",
      "\n",
      "  1%|          | 950/100000 [00:10<16:01, 103.00it/s]\u001b[A\u001b[A\n",
      "\n",
      "  1%|          | 961/100000 [00:10<17:29, 94.39it/s] \u001b[A\u001b[A\n",
      "\n",
      "  1%|          | 971/100000 [00:10<18:45, 88.01it/s]\u001b[A\u001b[A\n",
      "\n",
      "  1%|          | 983/100000 [00:10<17:29, 94.30it/s]\u001b[A\u001b[A\n",
      "\n",
      "  1%|          | 993/100000 [00:11<17:44, 92.99it/s]\u001b[A\u001b[A\n",
      "\n",
      "  1%|          | 1003/100000 [00:11<20:27, 80.66it/s]\u001b[A\u001b[A\n",
      "\n",
      "  1%|          | 1012/100000 [00:11<20:03, 82.28it/s]\u001b[A\u001b[A\n",
      "\n",
      "  1%|          | 1022/100000 [00:11<19:11, 85.99it/s]\u001b[A\u001b[A\n",
      "\n",
      "  1%|          | 1032/100000 [00:11<18:39, 88.42it/s]\u001b[A\u001b[A\n",
      "\n",
      "  1%|          | 1042/100000 [00:11<19:09, 86.08it/s]\u001b[A\u001b[A\n",
      "\n",
      "  1%|          | 1051/100000 [00:11<19:07, 86.25it/s]\u001b[A\u001b[A\n",
      "\n",
      "  1%|          | 1060/100000 [00:11<19:10, 86.03it/s]\u001b[A\u001b[A\n",
      "\n",
      "  1%|          | 1069/100000 [00:11<18:57, 86.95it/s]\u001b[A\u001b[A\n",
      "\n",
      "  1%|          | 1079/100000 [00:12<18:29, 89.16it/s]\u001b[A\u001b[A\n",
      "\n",
      "  1%|          | 1090/100000 [00:12<18:13, 90.44it/s]\u001b[A\u001b[A\n",
      "\n",
      "  1%|          | 1100/100000 [00:12<17:46, 92.74it/s]\u001b[A\u001b[A\n",
      "\n",
      "  1%|          | 1111/100000 [00:12<16:58, 97.12it/s]\u001b[A\u001b[A\n",
      "\n",
      "  1%|          | 1121/100000 [00:12<17:21, 94.95it/s]\u001b[A\u001b[A\n",
      "\n",
      "  1%|          | 1131/100000 [00:12<17:14, 95.56it/s]\u001b[A\u001b[A\n",
      "\n",
      "  1%|          | 1141/100000 [00:12<18:12, 90.50it/s]\u001b[A\u001b[A\n",
      "\n",
      "  1%|          | 1151/100000 [00:12<18:46, 87.77it/s]\u001b[A\u001b[A\n",
      "\n",
      "  1%|          | 1162/100000 [00:12<18:13, 90.39it/s]\u001b[A\u001b[A\n",
      "\n",
      "  1%|          | 1172/100000 [00:13<18:04, 91.09it/s]\u001b[A\u001b[A\n",
      "\n",
      "  1%|          | 1183/100000 [00:13<17:31, 94.00it/s]\u001b[A\u001b[A\n",
      "\n",
      "  1%|          | 1194/100000 [00:13<16:49, 97.83it/s]\u001b[A\u001b[A\n",
      "\n",
      "  1%|          | 1204/100000 [00:13<18:31, 88.92it/s]\u001b[A\u001b[A\n",
      "\n",
      "  1%|          | 1214/100000 [00:13<18:26, 89.31it/s]\u001b[A\u001b[A\n",
      "\n",
      "  1%|          | 1224/100000 [00:13<18:06, 90.93it/s]\u001b[A\u001b[A\n",
      "\n",
      "  1%|          | 1234/100000 [00:13<17:48, 92.45it/s]\u001b[A\u001b[A\n",
      "\n",
      "  1%|          | 1244/100000 [00:13<18:11, 90.47it/s]\u001b[A\u001b[A\n",
      "\n",
      "  1%|▏         | 1254/100000 [00:14<19:47, 83.12it/s]\u001b[A\u001b[A\n",
      "\n",
      "  1%|▏         | 1263/100000 [00:14<20:39, 79.64it/s]\u001b[A\u001b[A\n",
      "\n",
      "  1%|▏         | 1273/100000 [00:14<20:12, 81.42it/s]\u001b[A\u001b[A\n",
      "\n",
      "  1%|▏         | 1283/100000 [00:14<19:06, 86.10it/s]\u001b[A\u001b[A\n",
      "\n",
      "  1%|▏         | 1292/100000 [00:14<18:55, 86.96it/s]\u001b[A\u001b[A\n",
      "\n",
      "  1%|▏         | 1301/100000 [00:14<19:17, 85.28it/s]\u001b[A\u001b[A\n",
      "\n",
      "  1%|▏         | 1312/100000 [00:14<18:23, 89.44it/s]\u001b[A\u001b[A\n",
      "\n",
      "  1%|▏         | 1323/100000 [00:14<17:54, 91.83it/s]\u001b[A\u001b[A\n",
      "\n",
      "  1%|▏         | 1333/100000 [00:14<17:30, 93.92it/s]\u001b[A\u001b[A\n",
      "\n",
      "  1%|▏         | 1343/100000 [00:15<19:14, 85.42it/s]\u001b[A\u001b[A\n",
      "\n",
      "  1%|▏         | 1353/100000 [00:15<18:26, 89.13it/s]\u001b[A\u001b[A\n",
      "\n",
      "  1%|▏         | 1364/100000 [00:15<17:34, 93.52it/s]\u001b[A\u001b[A\n",
      "\n"
     ]
    },
    {
     "name": "stderr",
     "output_type": "stream",
     "text": [
      "  1%|▏         | 1374/100000 [00:15<18:05, 90.87it/s]\u001b[A\u001b[A\n",
      "\n",
      "  1%|▏         | 1384/100000 [00:15<21:05, 77.90it/s]\u001b[A\u001b[A\n",
      "\n",
      "  1%|▏         | 1394/100000 [00:15<19:42, 83.40it/s]\u001b[A\u001b[A\n",
      "\n",
      "  1%|▏         | 1405/100000 [00:15<18:23, 89.38it/s]\u001b[A\u001b[A\n",
      "\n",
      "  1%|▏         | 1415/100000 [00:15<19:54, 82.50it/s]\u001b[A\u001b[A\n",
      "\n",
      "  1%|▏         | 1426/100000 [00:15<18:47, 87.46it/s]\u001b[A\u001b[A\n",
      "\n",
      "  1%|▏         | 1436/100000 [00:16<18:49, 87.27it/s]\u001b[A\u001b[A\n",
      "\n",
      "  1%|▏         | 1445/100000 [00:16<23:14, 70.68it/s]\u001b[A\u001b[A\n",
      "\n",
      "  1%|▏         | 1455/100000 [00:16<21:13, 77.40it/s]\u001b[A\u001b[A\n",
      "\n",
      "  1%|▏         | 1464/100000 [00:16<20:36, 79.67it/s]\u001b[A\u001b[A\n",
      "\n",
      "  1%|▏         | 1474/100000 [00:16<19:30, 84.20it/s]\u001b[A\u001b[A\n",
      "\n",
      "  1%|▏         | 1483/100000 [00:16<19:38, 83.56it/s]\u001b[A\u001b[A\n",
      "\n",
      "  1%|▏         | 1494/100000 [00:16<19:12, 85.43it/s]\u001b[A\u001b[A\n",
      "\n",
      "  2%|▏         | 1504/100000 [00:16<18:22, 89.31it/s]\u001b[A\u001b[A\n",
      "\n",
      "  2%|▏         | 1515/100000 [00:17<17:32, 93.61it/s]\u001b[A\u001b[A\n",
      "\n",
      "  2%|▏         | 1527/100000 [00:17<16:32, 99.20it/s]\u001b[A\u001b[A\n",
      "\n",
      "  2%|▏         | 1538/100000 [00:17<16:24, 99.99it/s]\u001b[A\u001b[A\n",
      "\n",
      "  2%|▏         | 1549/100000 [00:17<16:44, 97.99it/s]\u001b[A\u001b[A\n",
      "\n",
      "  2%|▏         | 1559/100000 [00:17<19:29, 84.17it/s]\u001b[A\u001b[A\n",
      "\n",
      "  2%|▏         | 1569/100000 [00:17<18:39, 87.93it/s]\u001b[A\u001b[A\n",
      "\n",
      "  2%|▏         | 1579/100000 [00:17<19:01, 86.20it/s]\u001b[A\u001b[A\n",
      "\n",
      "  2%|▏         | 1590/100000 [00:17<18:15, 89.87it/s]\u001b[A\u001b[A\n",
      "\n",
      "  2%|▏         | 1600/100000 [00:17<18:16, 89.74it/s]\u001b[A\u001b[A\n",
      "\n",
      "  2%|▏         | 1610/100000 [00:18<19:47, 82.83it/s]\u001b[A\u001b[A\n",
      "\n",
      "  2%|▏         | 1620/100000 [00:18<18:51, 86.96it/s]\u001b[A\u001b[A\n",
      "\n",
      "  2%|▏         | 1629/100000 [00:18<19:52, 82.47it/s]\u001b[A\u001b[A\n",
      "\n",
      "  2%|▏         | 1638/100000 [00:18<19:45, 82.97it/s]\u001b[A\u001b[A\n",
      "\n",
      "  2%|▏         | 1648/100000 [00:18<18:57, 86.45it/s]\u001b[A\u001b[A\n",
      "\n",
      "  2%|▏         | 1657/100000 [00:18<18:59, 86.33it/s]\u001b[A\u001b[A\n",
      "\n",
      "  2%|▏         | 1667/100000 [00:18<18:15, 89.73it/s]\u001b[A\u001b[A\n",
      "\n",
      "  2%|▏         | 1677/100000 [00:18<18:24, 89.03it/s]\u001b[A\u001b[A\n",
      "\n",
      "  2%|▏         | 1686/100000 [00:18<18:56, 86.51it/s]\u001b[A\u001b[A\n",
      "\n",
      "  2%|▏         | 1695/100000 [00:19<18:49, 87.03it/s]\u001b[A\u001b[A\n",
      "\n",
      "  2%|▏         | 1706/100000 [00:19<19:28, 84.09it/s]\u001b[A\u001b[A\n",
      "\n",
      "  2%|▏         | 1715/100000 [00:19<22:11, 73.80it/s]\u001b[A\u001b[A\n",
      "\n",
      "  2%|▏         | 1724/100000 [00:19<21:12, 77.25it/s]\u001b[A\u001b[A\n",
      "\n",
      "  2%|▏         | 1734/100000 [00:19<19:50, 82.54it/s]\u001b[A\u001b[A\n",
      "\n",
      "  2%|▏         | 1745/100000 [00:19<18:21, 89.17it/s]\u001b[A\u001b[A\n",
      "\n",
      "  2%|▏         | 1755/100000 [00:19<17:54, 91.42it/s]\u001b[A\u001b[A\n",
      "\n",
      "  2%|▏         | 1765/100000 [00:19<17:35, 93.05it/s]\u001b[A\u001b[A\n",
      "\n",
      "  2%|▏         | 1776/100000 [00:19<16:51, 97.14it/s]\u001b[A\u001b[A\n",
      "\n",
      "  2%|▏         | 1786/100000 [00:20<17:34, 93.13it/s]\u001b[A\u001b[A\n",
      "\n",
      "  2%|▏         | 1796/100000 [00:20<18:08, 90.25it/s]\u001b[A\u001b[A\n",
      "\n",
      "  2%|▏         | 1806/100000 [00:20<20:09, 81.16it/s]\u001b[A\u001b[A\n",
      "\n",
      "  2%|▏         | 1815/100000 [00:20<19:45, 82.80it/s]\u001b[A\u001b[A\n",
      "\n",
      "  2%|▏         | 1824/100000 [00:20<19:39, 83.26it/s]\u001b[A\u001b[A\n",
      "\n",
      "  2%|▏         | 1833/100000 [00:20<20:06, 81.37it/s]\u001b[A\u001b[A\n",
      "\n",
      "  2%|▏         | 1842/100000 [00:20<20:28, 79.91it/s]\u001b[A\u001b[A\n",
      "\n",
      "  2%|▏         | 1852/100000 [00:20<19:29, 83.92it/s]\u001b[A\u001b[A\n",
      "\n",
      "  2%|▏         | 1861/100000 [00:21<19:22, 84.39it/s]\u001b[A\u001b[A\n",
      "\n",
      "  2%|▏         | 1871/100000 [00:21<19:22, 84.39it/s]\u001b[A\u001b[A\n",
      "\n",
      "  2%|▏         | 1882/100000 [00:21<18:59, 86.12it/s]\u001b[A\u001b[A\n",
      "\n",
      "  2%|▏         | 1893/100000 [00:21<18:02, 90.63it/s]\u001b[A\u001b[A\n",
      "\n",
      "  2%|▏         | 1904/100000 [00:21<17:26, 93.73it/s]\u001b[A\u001b[A\n",
      "\n",
      "  2%|▏         | 1915/100000 [00:21<16:41, 97.91it/s]\u001b[A\u001b[A\n",
      "\n",
      "  2%|▏         | 1925/100000 [00:21<17:10, 95.14it/s]\u001b[A\u001b[A\n",
      "\n",
      "  2%|▏         | 1935/100000 [00:21<17:09, 95.28it/s]\u001b[A\u001b[A\n",
      "\n",
      "  2%|▏         | 1946/100000 [00:21<16:33, 98.69it/s]\u001b[A\u001b[A\n",
      "\n",
      "  2%|▏         | 1957/100000 [00:21<16:21, 99.91it/s]\u001b[A\u001b[A\n",
      "\n",
      "  2%|▏         | 1968/100000 [00:22<16:05, 101.51it/s]\u001b[A\u001b[A\n",
      "\n",
      "  2%|▏         | 1979/100000 [00:22<16:31, 98.91it/s] \u001b[A\u001b[A\n",
      "\n",
      "  2%|▏         | 1989/100000 [00:22<17:28, 93.50it/s]\u001b[A\u001b[A\n",
      "\n",
      "  2%|▏         | 1999/100000 [00:22<18:55, 86.28it/s]\u001b[A\u001b[A\n",
      "\n",
      "  2%|▏         | 2008/100000 [00:22<19:55, 81.95it/s]\u001b[A\u001b[A\n",
      "\n",
      "  2%|▏         | 2018/100000 [00:22<19:06, 85.44it/s]\u001b[A\u001b[A\n",
      "\n",
      "  2%|▏         | 2027/100000 [00:22<19:33, 83.49it/s]\u001b[A\u001b[A\n",
      "\n",
      "  2%|▏         | 2036/100000 [00:22<19:33, 83.51it/s]\u001b[A\u001b[A\n",
      "\n",
      "  2%|▏         | 2047/100000 [00:23<18:25, 88.57it/s]\u001b[A\u001b[A\n",
      "\n",
      "  2%|▏         | 2056/100000 [00:23<19:10, 85.11it/s]\u001b[A\u001b[A\n",
      "\n",
      "  2%|▏         | 2066/100000 [00:23<18:26, 88.51it/s]\u001b[A\u001b[A\n",
      "\n",
      "  2%|▏         | 2076/100000 [00:23<18:05, 90.19it/s]\u001b[A\u001b[A\n",
      "\n",
      "  2%|▏         | 2086/100000 [00:23<18:12, 89.62it/s]\u001b[A\u001b[A\n",
      "\n",
      "  2%|▏         | 2096/100000 [00:23<18:06, 90.10it/s]\u001b[A\u001b[A\n",
      "\n",
      "  2%|▏         | 2106/100000 [00:23<17:45, 91.90it/s]\u001b[A\u001b[A\n",
      "\n",
      "  2%|▏         | 2117/100000 [00:23<17:10, 94.99it/s]\u001b[A\u001b[A\n",
      "\n",
      "  2%|▏         | 2127/100000 [00:23<18:21, 88.82it/s]\u001b[A\u001b[A\n",
      "\n",
      "  2%|▏         | 2138/100000 [00:24<17:33, 92.85it/s]\u001b[A\u001b[A\n",
      "\n",
      "  2%|▏         | 2148/100000 [00:24<17:46, 91.75it/s]\u001b[A\u001b[A\n",
      "\n",
      "  2%|▏         | 2158/100000 [00:24<17:43, 92.00it/s]\u001b[A\u001b[A\n",
      "\n",
      "  2%|▏         | 2168/100000 [00:24<18:12, 89.52it/s]\u001b[A\u001b[A\n",
      "\n",
      "  2%|▏         | 2178/100000 [00:24<19:25, 83.91it/s]\u001b[A\u001b[A\n",
      "\n",
      "  2%|▏         | 2187/100000 [00:24<19:31, 83.49it/s]\u001b[A\u001b[A\n",
      "\n",
      "  2%|▏         | 2196/100000 [00:24<19:10, 85.04it/s]\u001b[A\u001b[A\n",
      "\n",
      "  2%|▏         | 2205/100000 [00:24<20:03, 81.27it/s]\u001b[A\u001b[A\n",
      "\n",
      "  2%|▏         | 2214/100000 [00:24<20:21, 80.07it/s]\u001b[A\u001b[A\n",
      "\n",
      "  2%|▏         | 2223/100000 [00:25<21:27, 75.93it/s]\u001b[A\u001b[A\n",
      "\n",
      "  2%|▏         | 2232/100000 [00:25<20:50, 78.17it/s]\u001b[A\u001b[A\n",
      "\n",
      "  2%|▏         | 2241/100000 [00:25<20:14, 80.47it/s]\u001b[A\u001b[A\n",
      "\n",
      "  2%|▏         | 2250/100000 [00:25<20:34, 79.20it/s]\u001b[A\u001b[A\n",
      "\n",
      "  2%|▏         | 2261/100000 [00:25<19:13, 84.77it/s]\u001b[A\u001b[A\n",
      "\n",
      "  2%|▏         | 2271/100000 [00:25<18:23, 88.59it/s]\u001b[A\u001b[A\n",
      "\n",
      "  2%|▏         | 2281/100000 [00:25<17:54, 90.95it/s]\u001b[A\u001b[A\n",
      "\n",
      "  2%|▏         | 2291/100000 [00:25<17:41, 92.05it/s]\u001b[A\u001b[A\n",
      "\n",
      "  2%|▏         | 2301/100000 [00:25<17:23, 93.67it/s]\u001b[A\u001b[A\n",
      "\n",
      "  2%|▏         | 2311/100000 [00:26<17:18, 94.09it/s]\u001b[A\u001b[A\n",
      "\n",
      "  2%|▏         | 2322/100000 [00:26<16:43, 97.33it/s]\u001b[A\u001b[A\n",
      "\n",
      "  2%|▏         | 2334/100000 [00:26<16:11, 100.49it/s]\u001b[A\u001b[A\n",
      "\n",
      "  2%|▏         | 2345/100000 [00:26<16:18, 99.79it/s] \u001b[A\u001b[A\n",
      "\n",
      "  2%|▏         | 2356/100000 [00:26<16:55, 96.12it/s]\u001b[A\u001b[A\n",
      "\n",
      "  2%|▏         | 2366/100000 [00:26<16:52, 96.45it/s]\u001b[A\u001b[A\n",
      "\n",
      "  2%|▏         | 2376/100000 [00:26<16:42, 97.43it/s]\u001b[A\u001b[A\n",
      "\n",
      "  2%|▏         | 2386/100000 [00:26<16:55, 96.17it/s]\u001b[A\u001b[A\n",
      "\n",
      "  2%|▏         | 2396/100000 [00:26<18:02, 90.15it/s]\u001b[A\u001b[A\n",
      "\n",
      "  2%|▏         | 2406/100000 [00:27<17:45, 91.62it/s]\u001b[A\u001b[A\n",
      "\n",
      "  2%|▏         | 2416/100000 [00:27<17:32, 92.74it/s]\u001b[A\u001b[A\n",
      "\n",
      "  2%|▏         | 2426/100000 [00:27<18:05, 89.85it/s]\u001b[A\u001b[A\n",
      "\n",
      "  2%|▏         | 2436/100000 [00:27<18:09, 89.53it/s]\u001b[A\u001b[A\n",
      "\n",
      "  2%|▏         | 2446/100000 [00:27<17:45, 91.53it/s]\u001b[A\u001b[A\n",
      "\n",
      "  2%|▏         | 2457/100000 [00:27<16:59, 95.64it/s]\u001b[A\u001b[A\n",
      "\n",
      "  2%|▏         | 2468/100000 [00:27<16:51, 96.43it/s]\u001b[A\u001b[A\n",
      "\n",
      "  2%|▏         | 2478/100000 [00:27<17:16, 94.12it/s]\u001b[A\u001b[A\n",
      "\n",
      "  2%|▏         | 2489/100000 [00:27<16:48, 96.72it/s]\u001b[A\u001b[A\n",
      "\n",
      "  2%|▎         | 2500/100000 [00:28<16:32, 98.19it/s]\u001b[A\u001b[A\n",
      "\n",
      "  3%|▎         | 2510/100000 [00:28<16:39, 97.58it/s]\u001b[A\u001b[A\n",
      "\n",
      "  3%|▎         | 2520/100000 [00:28<18:24, 88.26it/s]\u001b[A\u001b[A\n",
      "\n",
      "  3%|▎         | 2530/100000 [00:28<18:06, 89.71it/s]\u001b[A\u001b[A\n",
      "\n",
      "  3%|▎         | 2540/100000 [00:28<18:09, 89.46it/s]\u001b[A\u001b[A\n",
      "\n",
      "  3%|▎         | 2550/100000 [00:28<17:56, 90.52it/s]\u001b[A\u001b[A\n",
      "\n",
      "  3%|▎         | 2560/100000 [00:28<17:59, 90.23it/s]\u001b[A\u001b[A\n",
      "\n",
      "  3%|▎         | 2571/100000 [00:28<17:23, 93.33it/s]\u001b[A\u001b[A\n",
      "\n",
      "  3%|▎         | 2582/100000 [00:28<16:38, 97.59it/s]\u001b[A\u001b[A\n",
      "\n",
      "  3%|▎         | 2594/100000 [00:28<15:42, 103.30it/s]\u001b[A\u001b[A\n",
      "\n",
      "  3%|▎         | 2605/100000 [00:29<15:53, 102.15it/s]\u001b[A\u001b[A\n",
      "\n",
      "  3%|▎         | 2617/100000 [00:29<15:32, 104.43it/s]\u001b[A\u001b[A\n",
      "\n",
      "  3%|▎         | 2628/100000 [00:29<15:53, 102.17it/s]\u001b[A\u001b[A\n",
      "\n",
      "  3%|▎         | 2639/100000 [00:29<16:57, 95.68it/s] \u001b[A\u001b[A\n",
      "\n",
      "  3%|▎         | 2649/100000 [00:29<16:49, 96.43it/s]\u001b[A\u001b[A\n",
      "\n",
      "  3%|▎         | 2659/100000 [00:29<18:22, 88.29it/s]\u001b[A\u001b[A\n",
      "\n",
      "  3%|▎         | 2669/100000 [00:29<18:59, 85.44it/s]\u001b[A\u001b[A\n",
      "\n",
      "  3%|▎         | 2678/100000 [00:29<19:18, 84.04it/s]\u001b[A\u001b[A\n",
      "\n",
      "  3%|▎         | 2687/100000 [00:30<20:01, 81.01it/s]\u001b[A\u001b[A\n",
      "\n",
      "  3%|▎         | 2696/100000 [00:30<19:56, 81.33it/s]\u001b[A\u001b[A\n",
      "\n",
      "  3%|▎         | 2705/100000 [00:30<20:12, 80.28it/s]\u001b[A\u001b[A\n",
      "\n",
      "  3%|▎         | 2714/100000 [00:30<20:21, 79.66it/s]\u001b[A\u001b[A\n",
      "\n"
     ]
    },
>>>>>>> 0a328375a3f14f6013bfebf1214fe140b81c5be2
    {
     "name": "stderr",
     "output_type": "stream",
     "text": [
      "/home/AD/emeinhar/anaconda3/envs/anvil/lib/python3.6/site-packages/ipykernel_launcher.py:15: RuntimeWarning: invalid value encountered in true_divide\n",
      "  from ipykernel import kernelapp as app\n",
      "/home/AD/emeinhar/anaconda3/envs/anvil/lib/python3.6/site-packages/ipykernel_launcher.py:2: RuntimeWarning: invalid value encountered in greater_equal\n",
      "  \n"
     ]
    },
    {
     "data": {
      "text/plain": [
       "5540"
      ]
     },
     "execution_count": 90,
     "metadata": {},
     "output_type": "execute_result"
    }
   ],
   "source": [
    "equiv_and_ag_pairs = [(p,q) for p,q in agreeing_vector_pairs if check_equivalent(p,q, objectMap)]\n",
    "len(equiv_and_ag_pairs)"
   ]
  },
  {
   "cell_type": "code",
   "execution_count": 91,
   "metadata": {
    "ExecuteTime": {
     "end_time": "2019-05-10T07:45:35.515159Z",
     "start_time": "2019-05-10T07:45:35.506563Z"
    }
   },
   "outputs": [
    {
     "data": {
      "text/plain": [
       "(array([-1,  0,  1,  1,  1,  0], dtype=int8),\n",
       " array([-1, -1,  1,  1,  1,  1], dtype=int8))"
      ]
     },
     "execution_count": 91,
     "metadata": {},
     "output_type": "execute_result"
    }
   ],
   "source": [
    "equiv_and_ag_pairs[0]"
   ]
  },
  {
   "cell_type": "code",
   "execution_count": 94,
   "metadata": {
    "ExecuteTime": {
     "end_time": "2019-05-10T07:47:05.012555Z",
     "start_time": "2019-05-10T07:47:05.001440Z"
    }
   },
   "outputs": [
    {
     "data": {
      "text/plain": [
       "array([0, 0, 0, 0, 0, 0, 0, 1, 0, 0, 0, 0, 0, 0, 0, 0, 0, 0, 0, 0, 0, 0, 0])"
      ]
     },
     "execution_count": 94,
     "metadata": {},
     "output_type": "execute_result"
    },
    {
     "data": {
      "text/plain": [
       "array([0, 0, 0, 0, 0, 0, 0, 1, 0, 0, 0, 0, 0, 0, 0, 0, 0, 0, 0, 0, 0, 0, 0])"
      ]
     },
     "execution_count": 94,
     "metadata": {},
     "output_type": "execute_result"
    }
   ],
   "source": [
    "extension_bool(equiv_and_ag_pairs[0][0], objectMap)\n",
    "extension_bool(equiv_and_ag_pairs[0][1], objectMap)"
   ]
  },
  {
   "cell_type": "code",
   "execution_count": 95,
   "metadata": {
    "ExecuteTime": {
     "end_time": "2019-05-10T07:47:37.260817Z",
     "start_time": "2019-05-10T07:47:37.237065Z"
    }
   },
   "outputs": [],
   "source": [
    "def equivalence_class(p,V):\n",
    "    \"\"\"\n",
    "    Given a set of feature vectors V and a query partially specified feature vector p, return all partially\n",
    "    specified vectors q that have the same extension in V as p.\n",
    "    \n",
    "    Inputs:\n",
    "        p - a vector of shape (M,) with elements from {-1,0,1}.  The partially specified feature vector\n",
    "        V-  a matrix of shape (L,M) with elements from {-1,1}.  The feature vectors\n",
    "    Outputs:\n",
    "        R - a list of vectors where R[i] has shape (M,) and all vectors in R have the same extension in V as p\n",
    "    \"\"\"\n",
    "    \n",
    "    M = np.shape(p)[0]\n",
    "    L = np.shape(V)[0]\n",
    "    V_sums = np.sum(V,axis=0)\n",
    "    bool_p = extension_bool(p,V)\n",
    "    \n",
    "    A = V[bool_p>0,:]#shape is (N,M)\n",
    "    N = np.shape(A)[0]\n",
    "    A_sums = np.sum(A,axis=0)\n",
    "    \n",
    "    allowed_specifications = []\n",
    "    prespecified_indices = []\n",
    "    for i in range(M):\n",
    "        if p[i]==0:\n",
    "            #we can flip this position to a signed value if only if all A[:,i] or equivalently A_sums[i]== +/- N\n",
    "            if A_sums[i]==N:\n",
    "                allowed_specifications.append((i,1)) #they're all 1 so we can mutate p[i] to 1\n",
    "            elif A_sums[i]==-N:\n",
    "                allowed_specifications.append((i,-1)) #they're all -1 so we can mutate p[i] to -1\n",
    "        else:\n",
    "            prespecified_indices.append(i)\n",
    "    \n",
    "    #which indices of p can be zeroed out without changing the extension of p in V?\n",
    "    \n",
    "    T = L - N\n",
    "    B = V[bool_p<=0,:]#shape is (L-N,M), p is not compatible with any vector in B\n",
    "    \n",
    "    #now we must check which subsets of the specified indices can be zeroed out without making the resulting \n",
    "    # 'de-specified' vector consistent any vectors in B\n",
    "    \n",
    "    return allowed_specifications"
   ]
  },
  {
   "cell_type": "code",
   "execution_count": null,
   "metadata": {},
   "outputs": [],
   "source": []
  },
  {
   "cell_type": "code",
   "execution_count": 69,
   "metadata": {
    "ExecuteTime": {
     "end_time": "2019-05-10T07:03:51.598212Z",
     "start_time": "2019-05-10T07:03:51.593385Z"
    }
   },
   "outputs": [
    {
     "data": {
      "text/plain": [
       "array([0, 0, 1, 1, 0, 0], dtype=int8)"
      ]
     },
     "execution_count": 69,
     "metadata": {},
     "output_type": "execute_result"
    }
   ],
   "source": [
    "p"
   ]
  },
  {
   "cell_type": "code",
   "execution_count": 68,
   "metadata": {
    "ExecuteTime": {
     "end_time": "2019-05-10T07:03:44.181047Z",
     "start_time": "2019-05-10T07:03:44.174641Z"
    }
   },
   "outputs": [
    {
     "data": {
      "text/plain": [
       "array([[-1,  1,  1,  1, -1,  1],\n",
       "       [-1, -1,  1,  1, -1, -1],\n",
       "       [-1, -1,  1,  1,  1,  1],\n",
       "       [ 1,  1,  1,  1,  1, -1]])"
      ]
     },
     "execution_count": 68,
     "metadata": {},
     "output_type": "execute_result"
    },
    {
     "data": {
      "text/plain": [
       "(4, 6)"
      ]
     },
     "execution_count": 68,
     "metadata": {},
     "output_type": "execute_result"
    }
   ],
   "source": [
    "np.array(extension(p, False))\n",
    "np.array(extension(p, False)).shape"
   ]
  },
  {
   "cell_type": "code",
   "execution_count": 74,
   "metadata": {
    "ExecuteTime": {
     "end_time": "2019-05-10T07:07:07.281390Z",
     "start_time": "2019-05-10T07:07:07.265975Z"
    }
   },
   "outputs": [
    {
     "data": {
      "text/plain": [
       "array([0, 0, 1, 1, 0, 0], dtype=int8)"
      ]
     },
     "execution_count": 74,
     "metadata": {},
     "output_type": "execute_result"
    },
    {
     "data": {
      "text/plain": [
       "array([2, 3])"
      ]
     },
     "execution_count": 74,
     "metadata": {},
     "output_type": "execute_result"
    },
    {
     "data": {
      "text/plain": [
       "{2, 3}"
      ]
     },
     "execution_count": 74,
     "metadata": {},
     "output_type": "execute_result"
    },
    {
     "data": {
      "text/plain": [
       "array([0, 1, 4, 5], dtype=int8)"
      ]
     },
     "execution_count": 74,
     "metadata": {},
     "output_type": "execute_result"
    }
   ],
   "source": [
    "p\n",
    "np.nonzero(p)[0]\n",
    "set(np.nonzero(p)[0])\n",
    "np.array( tuple(\n",
    "    set(range(len(p))) - set(np.nonzero(p)[0])\n",
    "), dtype=myint )"
   ]
  },
  {
   "cell_type": "code",
   "execution_count": 428,
   "metadata": {
    "ExecuteTime": {
     "end_time": "2019-05-10T05:41:28.652963Z",
     "start_time": "2019-05-10T05:41:28.641049Z"
    }
   },
   "outputs": [
    {
     "data": {
      "text/plain": [
       "array([1, 0, 0, 1, 0, 1, 0, 0, 1, 0], dtype=int8)"
      ]
     },
     "execution_count": 428,
     "metadata": {},
     "output_type": "execute_result"
    },
    {
     "data": {
      "text/plain": [
       "array([1, 0, 0, 1, 0, 1, 0, 0, 1, 0], dtype=int8)"
      ]
     },
     "execution_count": 428,
     "metadata": {},
     "output_type": "execute_result"
    },
    {
     "data": {
      "text/plain": [
       "array([1, 0, 0, 1, 0, 1, 0, 0, 1, 0], dtype=int8)"
      ]
     },
     "execution_count": 428,
     "metadata": {},
     "output_type": "execute_result"
    },
    {
     "data": {
      "text/plain": [
       "True"
      ]
     },
     "execution_count": 428,
     "metadata": {},
     "output_type": "execute_result"
    }
   ],
   "source": [
    "# p = make_random_pfv()\n",
    "extension(p)\n",
    "extension_alt(p)\n",
    "extension_alt3(p)\n",
    "np.array_equal(extension_alt(p), extension_alt3(p))"
   ]
  },
  {
   "cell_type": "code",
   "execution_count": 429,
   "metadata": {
    "ExecuteTime": {
     "end_time": "2019-05-10T05:41:30.011517Z",
     "start_time": "2019-05-10T05:41:30.005434Z"
    }
   },
   "outputs": [
    {
     "data": {
      "text/plain": [
       "array([1, 0, 0, 1, 0, 1, 0, 0, 1, 0], dtype=int8)"
      ]
     },
     "execution_count": 429,
     "metadata": {},
     "output_type": "execute_result"
    }
   ],
   "source": [
    "extension_alt3(p)"
   ]
  },
  {
   "cell_type": "code",
   "execution_count": 430,
   "metadata": {
    "ExecuteTime": {
     "end_time": "2019-05-10T05:41:30.438485Z",
     "start_time": "2019-05-10T05:41:30.429483Z"
    }
   },
   "outputs": [
    {
     "data": {
      "text/plain": [
       "array([[ 1,  1, -1,  1],\n",
       "       [ 1, -1,  1,  1],\n",
       "       [ 1, -1, -1, -1],\n",
       "       [ 1,  1,  1, -1],\n",
       "       [ 1, -1,  1, -1],\n",
       "       [-1,  1,  1,  1],\n",
       "       [ 1, -1, -1,  1],\n",
       "       [-1, -1, -1, -1],\n",
       "       [-1,  1,  1, -1],\n",
       "       [-1, -1,  1,  1]])"
      ]
     },
     "execution_count": 430,
     "metadata": {},
     "output_type": "execute_result"
    }
   ],
   "source": [
    "objectMap"
   ]
  },
  {
   "cell_type": "code",
   "execution_count": 100,
   "metadata": {
    "ExecuteTime": {
     "end_time": "2019-05-10T08:01:24.339027Z",
     "start_time": "2019-05-10T08:01:23.429310Z"
    }
   },
   "outputs": [
    {
     "data": {
      "text/plain": [
       "100000"
      ]
     },
     "execution_count": 100,
     "metadata": {},
     "output_type": "execute_result"
    }
   ],
   "source": [
    "num_test_pairs = int(1e5)\n",
    "random_vectors = [make_random_pfv() for each in range(num_test_pairs)]\n",
    "len(random_vectors)"
   ]
  },
  {
   "cell_type": "code",
   "execution_count": 438,
   "metadata": {
    "ExecuteTime": {
     "end_time": "2019-05-10T05:42:41.204837Z",
     "start_time": "2019-05-10T05:42:41.194765Z"
    }
   },
   "outputs": [],
   "source": [
    "def extension_test(v):\n",
    "    foo = extension(v)\n",
    "    bar = extension_alt(v)\n",
    "    baz = extension_alt3(v)\n",
    "    if not np.array_equal(foo, bar):\n",
    "        raise Exception('1. Disagreement on {0}: {1} vs. {2}'.format(v, extension(v), extension_alt(v)))\n",
    "    if not np.array_equal(foo, baz):\n",
    "        raise Exception('2. Disagreement on {0}: {1} vs. {2}'.format(v, extension(v), extension_alt3(v)))\n",
    "    return True"
   ]
  },
  {
   "cell_type": "code",
   "execution_count": 439,
   "metadata": {
    "ExecuteTime": {
     "end_time": "2019-05-10T05:42:59.625487Z",
     "start_time": "2019-05-10T05:42:41.688110Z"
    }
   },
   "outputs": [
    {
     "name": "stderr",
     "output_type": "stream",
     "text": [
      "[Parallel(n_jobs=30)]: Using backend MultiprocessingBackend with 30 concurrent workers.\n",
      "[Parallel(n_jobs=30)]: Done   1 tasks      | elapsed:    0.0s\n",
      "[Parallel(n_jobs=30)]: Batch computation too fast (0.0105s.) Setting batch_size=36.\n",
      "[Parallel(n_jobs=30)]: Done  12 tasks      | elapsed:    0.1s\n",
      "[Parallel(n_jobs=30)]: Done  25 tasks      | elapsed:    0.1s\n",
      "[Parallel(n_jobs=30)]: Done  38 tasks      | elapsed:    0.1s\n",
      "[Parallel(n_jobs=30)]: Done  53 tasks      | elapsed:    0.1s\n",
      "[Parallel(n_jobs=30)]: Batch computation too fast (0.1174s.) Setting batch_size=122.\n",
      "[Parallel(n_jobs=30)]: Done 348 tasks      | elapsed:    0.2s\n",
      "[Parallel(n_jobs=30)]: Done 960 tasks      | elapsed:    0.4s\n",
      "[Parallel(n_jobs=30)]: Done 1572 tasks      | elapsed:    0.5s\n",
      "[Parallel(n_jobs=30)]: Done 2342 tasks      | elapsed:    0.9s\n",
      "[Parallel(n_jobs=30)]: Done 4660 tasks      | elapsed:    1.1s\n",
      "[Parallel(n_jobs=30)]: Done 7222 tasks      | elapsed:    1.4s\n",
      "[Parallel(n_jobs=30)]: Done 9784 tasks      | elapsed:    1.8s\n",
      "[Parallel(n_jobs=30)]: Done 12590 tasks      | elapsed:    2.2s\n",
      "[Parallel(n_jobs=30)]: Done 15396 tasks      | elapsed:    2.6s\n",
      "[Parallel(n_jobs=30)]: Done 18446 tasks      | elapsed:    3.0s\n",
      "[Parallel(n_jobs=30)]: Done 21496 tasks      | elapsed:    3.3s\n",
      "[Parallel(n_jobs=30)]: Done 24790 tasks      | elapsed:    3.8s\n",
      "[Parallel(n_jobs=30)]: Done 28084 tasks      | elapsed:    4.2s\n",
      "[Parallel(n_jobs=30)]: Done 31622 tasks      | elapsed:    4.7s\n",
      "[Parallel(n_jobs=30)]: Done 35160 tasks      | elapsed:    5.1s\n",
      "[Parallel(n_jobs=30)]: Done 38942 tasks      | elapsed:    5.6s\n",
      "[Parallel(n_jobs=30)]: Done 42724 tasks      | elapsed:    6.1s\n",
      "[Parallel(n_jobs=30)]: Done 46750 tasks      | elapsed:    6.6s\n",
      "[Parallel(n_jobs=30)]: Done 50776 tasks      | elapsed:    7.1s\n",
      "[Parallel(n_jobs=30)]: Done 55046 tasks      | elapsed:    7.7s\n",
      "[Parallel(n_jobs=30)]: Done 59316 tasks      | elapsed:    8.3s\n",
      "[Parallel(n_jobs=30)]: Done 63830 tasks      | elapsed:    8.9s\n",
      "[Parallel(n_jobs=30)]: Done 68344 tasks      | elapsed:    9.5s\n",
      "[Parallel(n_jobs=30)]: Done 73102 tasks      | elapsed:   10.1s\n",
      "[Parallel(n_jobs=30)]: Done 77860 tasks      | elapsed:   10.7s\n",
      "[Parallel(n_jobs=30)]: Done 82862 tasks      | elapsed:   11.4s\n",
      "[Parallel(n_jobs=30)]: Done 87864 tasks      | elapsed:   12.0s\n",
      "[Parallel(n_jobs=30)]: Done 100000 out of 100000 | elapsed:   13.5s finished\n"
     ]
    },
    {
     "data": {
      "text/plain": [
       "[True,\n",
       " True,\n",
       " True,\n",
       " True,\n",
       " True,\n",
       " True,\n",
       " True,\n",
       " True,\n",
       " True,\n",
       " True,\n",
       " True,\n",
       " True,\n",
       " True,\n",
       " True,\n",
       " True,\n",
       " True,\n",
       " True,\n",
       " True,\n",
       " True,\n",
       " True,\n",
       " True,\n",
       " True,\n",
       " True,\n",
       " True,\n",
       " True,\n",
       " True,\n",
       " True,\n",
       " True,\n",
       " True,\n",
       " True,\n",
       " True,\n",
       " True,\n",
       " True,\n",
       " True,\n",
       " True,\n",
       " True,\n",
       " True,\n",
       " True,\n",
       " True,\n",
       " True,\n",
       " True,\n",
       " True,\n",
       " True,\n",
       " True,\n",
       " True,\n",
       " True,\n",
       " True,\n",
       " True,\n",
       " True,\n",
       " True,\n",
       " True,\n",
       " True,\n",
       " True,\n",
       " True,\n",
       " True,\n",
       " True,\n",
       " True,\n",
       " True,\n",
       " True,\n",
       " True,\n",
       " True,\n",
       " True,\n",
       " True,\n",
       " True,\n",
       " True,\n",
       " True,\n",
       " True,\n",
       " True,\n",
       " True,\n",
       " True,\n",
       " True,\n",
       " True,\n",
       " True,\n",
       " True,\n",
       " True,\n",
       " True,\n",
       " True,\n",
       " True,\n",
       " True,\n",
       " True,\n",
       " True,\n",
       " True,\n",
       " True,\n",
       " True,\n",
       " True,\n",
       " True,\n",
       " True,\n",
       " True,\n",
       " True,\n",
       " True,\n",
       " True,\n",
       " True,\n",
       " True,\n",
       " True,\n",
       " True,\n",
       " True,\n",
       " True,\n",
       " True,\n",
       " True,\n",
       " True,\n",
       " True,\n",
       " True,\n",
       " True,\n",
       " True,\n",
       " True,\n",
       " True,\n",
       " True,\n",
       " True,\n",
       " True,\n",
       " True,\n",
       " True,\n",
       " True,\n",
       " True,\n",
       " True,\n",
       " True,\n",
       " True,\n",
       " True,\n",
       " True,\n",
       " True,\n",
       " True,\n",
       " True,\n",
       " True,\n",
       " True,\n",
       " True,\n",
       " True,\n",
       " True,\n",
       " True,\n",
       " True,\n",
       " True,\n",
       " True,\n",
       " True,\n",
       " True,\n",
       " True,\n",
       " True,\n",
       " True,\n",
       " True,\n",
       " True,\n",
       " True,\n",
       " True,\n",
       " True,\n",
       " True,\n",
       " True,\n",
       " True,\n",
       " True,\n",
       " True,\n",
       " True,\n",
       " True,\n",
       " True,\n",
       " True,\n",
       " True,\n",
       " True,\n",
       " True,\n",
       " True,\n",
       " True,\n",
       " True,\n",
       " True,\n",
       " True,\n",
       " True,\n",
       " True,\n",
       " True,\n",
       " True,\n",
       " True,\n",
       " True,\n",
       " True,\n",
       " True,\n",
       " True,\n",
       " True,\n",
       " True,\n",
       " True,\n",
       " True,\n",
       " True,\n",
       " True,\n",
       " True,\n",
       " True,\n",
       " True,\n",
       " True,\n",
       " True,\n",
       " True,\n",
       " True,\n",
       " True,\n",
       " True,\n",
       " True,\n",
       " True,\n",
       " True,\n",
       " True,\n",
       " True,\n",
       " True,\n",
       " True,\n",
       " True,\n",
       " True,\n",
       " True,\n",
       " True,\n",
       " True,\n",
       " True,\n",
       " True,\n",
       " True,\n",
       " True,\n",
       " True,\n",
       " True,\n",
       " True,\n",
       " True,\n",
       " True,\n",
       " True,\n",
       " True,\n",
       " True,\n",
       " True,\n",
       " True,\n",
       " True,\n",
       " True,\n",
       " True,\n",
       " True,\n",
       " True,\n",
       " True,\n",
       " True,\n",
       " True,\n",
       " True,\n",
       " True,\n",
       " True,\n",
       " True,\n",
       " True,\n",
       " True,\n",
       " True,\n",
       " True,\n",
       " True,\n",
       " True,\n",
       " True,\n",
       " True,\n",
       " True,\n",
       " True,\n",
       " True,\n",
       " True,\n",
       " True,\n",
       " True,\n",
       " True,\n",
       " True,\n",
       " True,\n",
       " True,\n",
       " True,\n",
       " True,\n",
       " True,\n",
       " True,\n",
       " True,\n",
       " True,\n",
       " True,\n",
       " True,\n",
       " True,\n",
       " True,\n",
       " True,\n",
       " True,\n",
       " True,\n",
       " True,\n",
       " True,\n",
       " True,\n",
       " True,\n",
       " True,\n",
       " True,\n",
       " True,\n",
       " True,\n",
       " True,\n",
       " True,\n",
       " True,\n",
       " True,\n",
       " True,\n",
       " True,\n",
       " True,\n",
       " True,\n",
       " True,\n",
       " True,\n",
       " True,\n",
       " True,\n",
       " True,\n",
       " True,\n",
       " True,\n",
       " True,\n",
       " True,\n",
       " True,\n",
       " True,\n",
       " True,\n",
       " True,\n",
       " True,\n",
       " True,\n",
       " True,\n",
       " True,\n",
       " True,\n",
       " True,\n",
       " True,\n",
       " True,\n",
       " True,\n",
       " True,\n",
       " True,\n",
       " True,\n",
       " True,\n",
       " True,\n",
       " True,\n",
       " True,\n",
       " True,\n",
       " True,\n",
       " True,\n",
       " True,\n",
       " True,\n",
       " True,\n",
       " True,\n",
       " True,\n",
       " True,\n",
       " True,\n",
       " True,\n",
       " True,\n",
       " True,\n",
       " True,\n",
       " True,\n",
       " True,\n",
       " True,\n",
       " True,\n",
       " True,\n",
       " True,\n",
       " True,\n",
       " True,\n",
       " True,\n",
       " True,\n",
       " True,\n",
       " True,\n",
       " True,\n",
       " True,\n",
       " True,\n",
       " True,\n",
       " True,\n",
       " True,\n",
       " True,\n",
       " True,\n",
       " True,\n",
       " True,\n",
       " True,\n",
       " True,\n",
       " True,\n",
       " True,\n",
       " True,\n",
       " True,\n",
       " True,\n",
       " True,\n",
       " True,\n",
       " True,\n",
       " True,\n",
       " True,\n",
       " True,\n",
       " True,\n",
       " True,\n",
       " True,\n",
       " True,\n",
       " True,\n",
       " True,\n",
       " True,\n",
       " True,\n",
       " True,\n",
       " True,\n",
       " True,\n",
       " True,\n",
       " True,\n",
       " True,\n",
       " True,\n",
       " True,\n",
       " True,\n",
       " True,\n",
       " True,\n",
       " True,\n",
       " True,\n",
       " True,\n",
       " True,\n",
       " True,\n",
       " True,\n",
       " True,\n",
       " True,\n",
       " True,\n",
       " True,\n",
       " True,\n",
       " True,\n",
       " True,\n",
       " True,\n",
       " True,\n",
       " True,\n",
       " True,\n",
       " True,\n",
       " True,\n",
       " True,\n",
       " True,\n",
       " True,\n",
       " True,\n",
       " True,\n",
       " True,\n",
       " True,\n",
       " True,\n",
       " True,\n",
       " True,\n",
       " True,\n",
       " True,\n",
       " True,\n",
       " True,\n",
       " True,\n",
       " True,\n",
       " True,\n",
       " True,\n",
       " True,\n",
       " True,\n",
       " True,\n",
       " True,\n",
       " True,\n",
       " True,\n",
       " True,\n",
       " True,\n",
       " True,\n",
       " True,\n",
       " True,\n",
       " True,\n",
       " True,\n",
       " True,\n",
       " True,\n",
       " True,\n",
       " True,\n",
       " True,\n",
       " True,\n",
       " True,\n",
       " True,\n",
       " True,\n",
       " True,\n",
       " True,\n",
       " True,\n",
       " True,\n",
       " True,\n",
       " True,\n",
       " True,\n",
       " True,\n",
       " True,\n",
       " True,\n",
       " True,\n",
       " True,\n",
       " True,\n",
       " True,\n",
       " True,\n",
       " True,\n",
       " True,\n",
       " True,\n",
       " True,\n",
       " True,\n",
       " True,\n",
       " True,\n",
       " True,\n",
       " True,\n",
       " True,\n",
       " True,\n",
       " True,\n",
       " True,\n",
       " True,\n",
       " True,\n",
       " True,\n",
       " True,\n",
       " True,\n",
       " True,\n",
       " True,\n",
       " True,\n",
       " True,\n",
       " True,\n",
       " True,\n",
       " True,\n",
       " True,\n",
       " True,\n",
       " True,\n",
       " True,\n",
       " True,\n",
       " True,\n",
       " True,\n",
       " True,\n",
       " True,\n",
       " True,\n",
       " True,\n",
       " True,\n",
       " True,\n",
       " True,\n",
       " True,\n",
       " True,\n",
       " True,\n",
       " True,\n",
       " True,\n",
       " True,\n",
       " True,\n",
       " True,\n",
       " True,\n",
       " True,\n",
       " True,\n",
       " True,\n",
       " True,\n",
       " True,\n",
       " True,\n",
       " True,\n",
       " True,\n",
       " True,\n",
       " True,\n",
       " True,\n",
       " True,\n",
       " True,\n",
       " True,\n",
       " True,\n",
       " True,\n",
       " True,\n",
       " True,\n",
       " True,\n",
       " True,\n",
       " True,\n",
       " True,\n",
       " True,\n",
       " True,\n",
       " True,\n",
       " True,\n",
       " True,\n",
       " True,\n",
       " True,\n",
       " True,\n",
       " True,\n",
       " True,\n",
       " True,\n",
       " True,\n",
       " True,\n",
       " True,\n",
       " True,\n",
       " True,\n",
       " True,\n",
       " True,\n",
       " True,\n",
       " True,\n",
       " True,\n",
       " True,\n",
       " True,\n",
       " True,\n",
       " True,\n",
       " True,\n",
       " True,\n",
       " True,\n",
       " True,\n",
       " True,\n",
       " True,\n",
       " True,\n",
       " True,\n",
       " True,\n",
       " True,\n",
       " True,\n",
       " True,\n",
       " True,\n",
       " True,\n",
       " True,\n",
       " True,\n",
       " True,\n",
       " True,\n",
       " True,\n",
       " True,\n",
       " True,\n",
       " True,\n",
       " True,\n",
       " True,\n",
       " True,\n",
       " True,\n",
       " True,\n",
       " True,\n",
       " True,\n",
       " True,\n",
       " True,\n",
       " True,\n",
       " True,\n",
       " True,\n",
       " True,\n",
       " True,\n",
       " True,\n",
       " True,\n",
       " True,\n",
       " True,\n",
       " True,\n",
       " True,\n",
       " True,\n",
       " True,\n",
       " True,\n",
       " True,\n",
       " True,\n",
       " True,\n",
       " True,\n",
       " True,\n",
       " True,\n",
       " True,\n",
       " True,\n",
       " True,\n",
       " True,\n",
       " True,\n",
       " True,\n",
       " True,\n",
       " True,\n",
       " True,\n",
       " True,\n",
       " True,\n",
       " True,\n",
       " True,\n",
       " True,\n",
       " True,\n",
       " True,\n",
       " True,\n",
       " True,\n",
       " True,\n",
       " True,\n",
       " True,\n",
       " True,\n",
       " True,\n",
       " True,\n",
       " True,\n",
       " True,\n",
       " True,\n",
       " True,\n",
       " True,\n",
       " True,\n",
       " True,\n",
       " True,\n",
       " True,\n",
       " True,\n",
       " True,\n",
       " True,\n",
       " True,\n",
       " True,\n",
       " True,\n",
       " True,\n",
       " True,\n",
       " True,\n",
       " True,\n",
       " True,\n",
       " True,\n",
       " True,\n",
       " True,\n",
       " True,\n",
       " True,\n",
       " True,\n",
       " True,\n",
       " True,\n",
       " True,\n",
       " True,\n",
       " True,\n",
       " True,\n",
       " True,\n",
       " True,\n",
       " True,\n",
       " True,\n",
       " True,\n",
       " True,\n",
       " True,\n",
       " True,\n",
       " True,\n",
       " True,\n",
       " True,\n",
       " True,\n",
       " True,\n",
       " True,\n",
       " True,\n",
       " True,\n",
       " True,\n",
       " True,\n",
       " True,\n",
       " True,\n",
       " True,\n",
       " True,\n",
       " True,\n",
       " True,\n",
       " True,\n",
       " True,\n",
       " True,\n",
       " True,\n",
       " True,\n",
       " True,\n",
       " True,\n",
       " True,\n",
       " True,\n",
       " True,\n",
       " True,\n",
       " True,\n",
       " True,\n",
       " True,\n",
       " True,\n",
       " True,\n",
       " True,\n",
       " True,\n",
       " True,\n",
       " True,\n",
       " True,\n",
       " True,\n",
       " True,\n",
       " True,\n",
       " True,\n",
       " True,\n",
       " True,\n",
       " True,\n",
       " True,\n",
       " True,\n",
       " True,\n",
       " True,\n",
       " True,\n",
       " True,\n",
       " True,\n",
       " True,\n",
       " True,\n",
       " True,\n",
       " True,\n",
       " True,\n",
       " True,\n",
       " True,\n",
       " True,\n",
       " True,\n",
       " True,\n",
       " True,\n",
       " True,\n",
       " True,\n",
       " True,\n",
       " True,\n",
       " True,\n",
       " True,\n",
       " True,\n",
       " True,\n",
       " True,\n",
       " True,\n",
       " True,\n",
       " True,\n",
       " True,\n",
       " True,\n",
       " True,\n",
       " True,\n",
       " True,\n",
       " True,\n",
       " True,\n",
       " True,\n",
       " True,\n",
       " True,\n",
       " True,\n",
       " True,\n",
       " True,\n",
       " True,\n",
       " True,\n",
       " True,\n",
       " True,\n",
       " True,\n",
       " True,\n",
       " True,\n",
       " True,\n",
       " True,\n",
       " True,\n",
       " True,\n",
       " True,\n",
       " True,\n",
       " True,\n",
       " True,\n",
       " True,\n",
       " True,\n",
       " True,\n",
       " True,\n",
       " True,\n",
       " True,\n",
       " True,\n",
       " True,\n",
       " True,\n",
       " True,\n",
       " True,\n",
       " True,\n",
       " True,\n",
       " True,\n",
       " True,\n",
       " True,\n",
       " True,\n",
       " True,\n",
       " True,\n",
       " True,\n",
       " True,\n",
       " True,\n",
       " True,\n",
       " True,\n",
       " True,\n",
       " True,\n",
       " True,\n",
       " True,\n",
       " True,\n",
       " True,\n",
       " True,\n",
       " True,\n",
       " True,\n",
       " True,\n",
       " True,\n",
       " True,\n",
       " True,\n",
       " True,\n",
       " True,\n",
       " True,\n",
       " True,\n",
       " True,\n",
       " True,\n",
       " True,\n",
       " True,\n",
       " True,\n",
       " True,\n",
       " True,\n",
       " True,\n",
       " True,\n",
       " True,\n",
       " True,\n",
       " True,\n",
       " True,\n",
       " True,\n",
       " True,\n",
       " True,\n",
       " True,\n",
       " True,\n",
       " True,\n",
       " True,\n",
       " True,\n",
       " True,\n",
       " True,\n",
       " True,\n",
       " True,\n",
       " True,\n",
       " True,\n",
       " True,\n",
       " True,\n",
       " True,\n",
       " True,\n",
       " True,\n",
       " True,\n",
       " True,\n",
       " True,\n",
       " True,\n",
       " True,\n",
       " True,\n",
       " True,\n",
       " True,\n",
       " True,\n",
       " True,\n",
       " True,\n",
       " True,\n",
       " True,\n",
       " True,\n",
       " True,\n",
       " True,\n",
       " True,\n",
       " True,\n",
       " True,\n",
       " True,\n",
       " True,\n",
       " True,\n",
       " True,\n",
       " True,\n",
       " True,\n",
       " True,\n",
       " True,\n",
       " True,\n",
       " True,\n",
       " True,\n",
       " True,\n",
       " True,\n",
       " True,\n",
       " True,\n",
       " True,\n",
       " True,\n",
       " True,\n",
       " True,\n",
       " True,\n",
       " True,\n",
       " True,\n",
       " True,\n",
       " True,\n",
       " True,\n",
       " True,\n",
       " True,\n",
       " True,\n",
       " True,\n",
       " True,\n",
       " True,\n",
       " True,\n",
       " True,\n",
       " True,\n",
       " True,\n",
       " True,\n",
       " True,\n",
       " True,\n",
       " True,\n",
       " True,\n",
       " True,\n",
       " True,\n",
       " True,\n",
       " True,\n",
       " True,\n",
       " True,\n",
       " True,\n",
       " True,\n",
       " True,\n",
       " True,\n",
       " True,\n",
       " True,\n",
       " True,\n",
       " True,\n",
       " True,\n",
       " True,\n",
       " True,\n",
       " True,\n",
       " True,\n",
       " True,\n",
       " True,\n",
       " True,\n",
       " True,\n",
       " True,\n",
       " True,\n",
       " True,\n",
       " True,\n",
       " True,\n",
       " True,\n",
       " True,\n",
       " True,\n",
       " True,\n",
       " True,\n",
       " True,\n",
       " True,\n",
       " True,\n",
       " True,\n",
       " True,\n",
       " True,\n",
       " True,\n",
       " True,\n",
       " True,\n",
       " True,\n",
       " True,\n",
       " True,\n",
       " True,\n",
       " True,\n",
       " True,\n",
       " True,\n",
       " True,\n",
       " True,\n",
       " True,\n",
       " True,\n",
       " True,\n",
       " True,\n",
       " True,\n",
       " True,\n",
       " True,\n",
       " True,\n",
       " True,\n",
       " True,\n",
       " True,\n",
       " True,\n",
       " True,\n",
       " True,\n",
       " True,\n",
       " True,\n",
       " True,\n",
       " True,\n",
       " True,\n",
       " True,\n",
       " True,\n",
       " True,\n",
       " True,\n",
       " True,\n",
       " True,\n",
       " True,\n",
       " True,\n",
       " True,\n",
       " True,\n",
       " True,\n",
       " True,\n",
       " True,\n",
       " True,\n",
       " True,\n",
       " True,\n",
       " True,\n",
       " True,\n",
       " True,\n",
       " True,\n",
       " True,\n",
       " True,\n",
       " True,\n",
       " True,\n",
       " True,\n",
       " True,\n",
       " True,\n",
       " True,\n",
       " True,\n",
       " True,\n",
       " True,\n",
       " True,\n",
       " True,\n",
       " True,\n",
       " True,\n",
       " True,\n",
       " True,\n",
       " True,\n",
       " True,\n",
       " True,\n",
       " True,\n",
       " True,\n",
       " True,\n",
       " True,\n",
       " True,\n",
       " True,\n",
       " True,\n",
       " True,\n",
       " True,\n",
       " ...]"
      ]
     },
     "execution_count": 439,
     "metadata": {},
     "output_type": "execute_result"
    }
   ],
   "source": [
    "par(delayed(extension_test)(v) for v in random_vectors)\n",
    "\n",
    "# for p in tqdm(random_vectors):\n",
    "#     assert np.array_equal(extension(p), extension_alt(p)), 'Disagreement on {0}: {1} vs. {2}'.format(p, extension(p), extension_alt(p))"
   ]
  },
  {
   "cell_type": "code",
   "execution_count": 440,
   "metadata": {
    "ExecuteTime": {
     "end_time": "2019-05-10T05:50:23.689566Z",
     "start_time": "2019-05-10T05:44:03.368279Z"
    }
   },
   "outputs": [
    {
     "name": "stdout",
     "output_type": "stream",
     "text": [
      "47.9 s ± 7.04 s per loop (mean ± std. dev. of 7 runs, 1 loop each)\n"
     ]
    }
   ],
   "source": [
    "%%timeit\n",
    "\n",
    "list(map(extension, random_vectors))"
   ]
  },
  {
   "cell_type": "code",
   "execution_count": 441,
   "metadata": {
    "ExecuteTime": {
     "end_time": "2019-05-10T06:01:38.443383Z",
     "start_time": "2019-05-10T05:50:23.692296Z"
    }
   },
   "outputs": [
    {
     "name": "stdout",
     "output_type": "stream",
     "text": [
      "1min 26s ± 6.37 s per loop (mean ± std. dev. of 7 runs, 1 loop each)\n"
     ]
    }
   ],
   "source": [
    "%%timeit\n",
    "\n",
    "list(map(extension_alt, random_vectors))"
   ]
  },
  {
   "cell_type": "code",
   "execution_count": 103,
   "metadata": {
    "ExecuteTime": {
     "end_time": "2019-05-10T08:02:39.350730Z",
     "start_time": "2019-05-10T08:02:21.923408Z"
    }
   },
   "outputs": [
    {
     "name": "stdout",
     "output_type": "stream",
     "text": [
      "2.12 s ± 378 ms per loop (mean ± std. dev. of 7 runs, 1 loop each)\n"
     ]
    }
   ],
   "source": [
    "%%timeit\n",
    "\n",
    "list(map(extension_alt3, random_vectors))"
   ]
  },
  {
   "cell_type": "code",
   "execution_count": 104,
   "metadata": {
    "ExecuteTime": {
     "end_time": "2019-05-10T08:03:31.405477Z",
     "start_time": "2019-05-10T08:03:16.886379Z"
    }
   },
   "outputs": [
    {
     "name": "stderr",
     "output_type": "stream",
     "text": [
      "/home/AD/emeinhar/anaconda3/envs/anvil/lib/python3.6/site-packages/ipykernel_launcher.py:15: RuntimeWarning: invalid value encountered in true_divide\n",
      "  from ipykernel import kernelapp as app\n",
      "/home/AD/emeinhar/anaconda3/envs/anvil/lib/python3.6/site-packages/ipykernel_launcher.py:2: RuntimeWarning: invalid value encountered in greater_equal\n",
      "  \n"
     ]
    },
    {
     "name": "stdout",
     "output_type": "stream",
     "text": [
      "1.85 s ± 569 ms per loop (mean ± std. dev. of 7 runs, 1 loop each)\n"
     ]
    }
   ],
   "source": [
    "%%timeit\n",
    "\n",
    "list(map(lambda p: extension_bool(p, objectMap), \n",
    "         random_vectors))"
   ]
  },
  {
   "cell_type": "code",
   "execution_count": 105,
   "metadata": {
    "ExecuteTime": {
     "end_time": "2019-05-10T08:03:56.795168Z",
     "start_time": "2019-05-10T08:03:31.408928Z"
    }
   },
   "outputs": [
    {
     "name": "stderr",
     "output_type": "stream",
     "text": [
      "/home/AD/emeinhar/anaconda3/envs/anvil/lib/python3.6/site-packages/ipykernel_launcher.py:15: RuntimeWarning: invalid value encountered in true_divide\n",
      "  from ipykernel import kernelapp as app\n",
      "/home/AD/emeinhar/anaconda3/envs/anvil/lib/python3.6/site-packages/ipykernel_launcher.py:2: RuntimeWarning: invalid value encountered in greater_equal\n",
      "  \n"
     ]
    },
    {
     "name": "stdout",
     "output_type": "stream",
     "text": [
      "3.29 s ± 584 ms per loop (mean ± std. dev. of 7 runs, 1 loop each)\n"
     ]
    }
   ],
   "source": [
    "%%timeit\n",
    "\n",
    "list(map(lambda p: extension_mat(p, objectMap),\n",
    "         random_vectors))"
   ]
  },
  {
   "cell_type": "code",
   "execution_count": 99,
   "metadata": {
    "ExecuteTime": {
     "end_time": "2019-05-09T07:42:03.040593Z",
     "start_time": "2019-05-09T07:42:03.038715Z"
    },
    "scrolled": true
   },
   "outputs": [],
   "source": [
    "# agree_mat(p, objectMap)"
   ]
  },
  {
   "cell_type": "markdown",
   "metadata": {},
   "source": [
    "## Specification array + value array"
   ]
  },
  {
   "cell_type": "markdown",
   "metadata": {},
   "source": [
    "This representation of a partial feature vector $p$ uses two bit sequences, $s$ and $v$\n",
    " - $s_i = 0$ iff $p_i = 0$ and is otherwise $1$\n",
    " - $v_i = 0$ if $p_i = -1$\n",
    " - $v_i = 1$ if $p_i = 1$\n",
    "\n",
    "Note that the value of $v_i$ is unspecified if $p_i = 0$."
   ]
  },
  {
   "cell_type": "markdown",
   "metadata": {},
   "source": [
    "### Converting between representations"
   ]
  },
  {
   "cell_type": "code",
   "execution_count": 126,
   "metadata": {
    "ExecuteTime": {
     "end_time": "2019-05-10T09:06:27.521905Z",
     "start_time": "2019-05-10T09:06:27.518831Z"
    }
   },
   "outputs": [],
   "source": [
    "spec_cb = {-1:bitarray('1'),\n",
    "            0:bitarray('0'),\n",
    "            1:bitarray('1')}\n",
    "val_cb = {-1:bitarray('0'),\n",
    "           0:bitarray('0'),\n",
    "           1:bitarray('1')}"
   ]
  },
  {
   "cell_type": "code",
   "execution_count": 127,
   "metadata": {
    "ExecuteTime": {
     "end_time": "2019-05-10T09:06:27.726731Z",
     "start_time": "2019-05-10T09:06:27.722016Z"
    }
   },
   "outputs": [],
   "source": [
    "def pfv_to_sv(pfv):\n",
    "    s = bitarray()\n",
    "    s.encode(spec_cb, list(pfv))\n",
    "    v = bitarray()\n",
    "    v.encode(val_cb, list(pfv))\n",
    "    return s,v\n",
    "\n",
    "def sv_to_pfv(s,v):\n",
    "#     print('s,v = {0}, {1}'.format(s.to01(), v.to01()))\n",
    "    specified = np.array(s.tolist(), dtype=myint)\n",
    "    values = np.array(v.tolist(), dtype=myint)\n",
    "#     print('\\ts,v = {0}, {1}'.format(specified, values))\n",
    "    for i in range(m):\n",
    "        if specified[i] != 0:\n",
    "            specified[i] = 1 if values[i] else -1\n",
    "#     print('\\ts = {0}'.format(specified))\n",
    "    return specified"
   ]
  },
  {
   "cell_type": "code",
   "execution_count": 128,
   "metadata": {
    "ExecuteTime": {
     "end_time": "2019-05-10T09:06:29.660522Z",
     "start_time": "2019-05-10T09:06:29.038024Z"
    }
   },
   "outputs": [
    {
     "name": "stderr",
     "output_type": "stream",
     "text": [
      "100%|██████████| 100000/100000 [00:00<00:00, 164122.02it/s]\n"
     ]
    },
    {
     "data": {
      "text/plain": [
       "100000"
      ]
     },
     "execution_count": 128,
     "metadata": {},
     "output_type": "execute_result"
    }
   ],
   "source": [
    "num_test_pairs = int(1e5)\n",
    "random_vectors = [make_random_pfv() for each in tqdm(range(num_test_pairs))]\n",
    "len(random_vectors)"
   ]
  },
  {
   "cell_type": "code",
   "execution_count": 129,
   "metadata": {
    "ExecuteTime": {
     "end_time": "2019-05-10T09:06:34.537360Z",
     "start_time": "2019-05-10T09:06:30.115353Z"
    }
   },
   "outputs": [
    {
     "name": "stderr",
     "output_type": "stream",
     "text": [
      "100%|██████████| 100000/100000 [00:04<00:00, 22634.03it/s]\n"
     ]
    }
   ],
   "source": [
    "for p in tqdm(random_vectors):\n",
    "    s,v = pfv_to_sv(p)\n",
    "    p_prime = sv_to_pfv(s,v)\n",
    "    assert np.array_equal(p, p_prime), 'Conversion failure on {0}'.format(pair)"
   ]
  },
  {
   "cell_type": "markdown",
   "metadata": {},
   "source": [
    "### Operations"
   ]
  },
  {
   "cell_type": "markdown",
   "metadata": {},
   "source": [
    "If $p,q$ are two partial feature vectors and $(s^p, v^p), (s^q, v^q)$ are their associated specification and value bitvectors, then:"
   ]
  },
  {
   "cell_type": "markdown",
   "metadata": {},
   "source": [
    "We can define an element-wise agree operation by pattern matching:\n",
    "```\n",
    "agree((s^p_i,v^p_i), (s^q_i,v^q_i)):\n",
    "    (s_w, s_x) = (s_w, s_x) ⟶ 1\n",
    "    (0,0)      = (_, _)     ⟶ 1\n",
    "    (_, _)     = (0,0)      ⟶ 1\n",
    "    _          = _          ⟶ 0\n",
    "```\n",
    "Or perhaps more clearly by Boolean formula:\n",
    " - $\\text{agree}(s^p_i,v^p_i,s^q_i,v^q_i) = (\\neg s^p_i \\lor \\neg s^q_i) \\lor ((s^p_i \\land s^q_i) \\land (v^p_i \\iff v^q_i)) $"
   ]
  },
  {
   "cell_type": "markdown",
   "metadata": {},
   "source": [
    "We can define an element-wise union operation (assuming agreement holds) by pattern matching:\n",
    "```\n",
    "Assuming agree(p,q) holds:\n",
    "\n",
    "cup((s^p_i,v^p_i), (s^q_i,v^q_i)):\n",
    "    (s_w, s_x) ∪ (s_w, s_x) = (s_w, s_x)\n",
    "    (0,0)      ∪ (s_y, s_z) = (s_y, s_z)\n",
    "    (s_w, s_x) ∪ (0,0)      = (s_w, s_x)\n",
    "    _          ∪ _          = (0,0)\n",
    "```\n",
    "Or again, more clearly by Boolean formula:\n",
    " - $\\text{cup}(s^p_i,v^p_i,s^q_i,v^q_i) = (s^p_i \\lor s^q_i, v^p_i \\lor v^q_i)$\n",
    "\n",
    "I.e. we can take the `bitwise or` of respective specification vectors and value vectors to get the specification and value vector of the union of two partial feature vectors."
   ]
  },
  {
   "cell_type": "markdown",
   "metadata": {},
   "source": [
    "We can define an element-wise intersection operation by pattern matching:\n",
    "```\n",
    "cap((s^p_i,v^p_i), (s^q_i,v^q_i)):\n",
    "    (s_w, s_x) ∩ (s_w, s_x) = (s_w, s_x)\n",
    "    (0,0)      ∩ (_, _)     = (0,0)\n",
    "    (_, _)     ∩ (0,0)      = (0,0)\n",
    "    _          ∩ _          = (0,0)\n",
    "```\n",
    "...or by Boolean formula\n",
    " - $\\text{cap}(s^p_i,v^p_i,s^q_i,v^q_i) = ((s^p_i \\land s^q_i) \\land (v^p_i \\iff v^q_i), v^p_i \\land v^q_i)$"
   ]
  },
  {
   "cell_type": "code",
   "execution_count": 130,
   "metadata": {
    "ExecuteTime": {
     "end_time": "2019-05-10T09:06:34.542631Z",
     "start_time": "2019-05-10T09:06:34.538756Z"
    }
   },
   "outputs": [],
   "source": [
    "def xor(p,q):\n",
    "    return (p & ~q) | (~p & q)\n",
    "\n",
    "def ifthen(p,q):\n",
    "    return ~p | q\n",
    "\n",
    "def iff(p,q):\n",
    "    return ifthen(p,q) & ifthen(q,p)\n",
    "\n",
    "assert xor(bitarray('0011'), bitarray('0101')) == bitarray('0110')\n",
    "assert ifthen(bitarray('0011'), bitarray('0101')) == bitarray('1101')\n",
    "assert iff(bitarray('0011'), bitarray('0101')) == bitarray('1001')"
   ]
  },
  {
   "cell_type": "code",
   "execution_count": 131,
   "metadata": {
    "ExecuteTime": {
     "end_time": "2019-05-10T09:06:34.550129Z",
     "start_time": "2019-05-10T09:06:34.543852Z"
    }
   },
   "outputs": [],
   "source": [
    "def agree_ba(s_p, v_p, s_q, v_q):\n",
    "    return (~s_p | ~s_q) | ((s_p & s_q) & iff(v_p, v_q))\n",
    "\n",
    "def agree_ba_(s_p, v_p, s_q, v_q):\n",
    "    return agree_ba(s_p, v_p, s_q, v_q).all()\n",
    "\n",
    "def union_ba(s_p, v_p, s_q, v_q):\n",
    "    return s_p | s_q, v_p | v_q\n",
    "\n",
    "def intersection_ba(s_p, v_p, s_q, v_q):\n",
    "    return (s_p & s_q) & iff(v_p, v_q), v_p & v_q"
   ]
  },
  {
   "cell_type": "markdown",
   "metadata": {},
   "source": [
    "Below we test that they have the same behavior as the baseline representation and operations:"
   ]
  },
  {
   "cell_type": "code",
   "execution_count": 132,
   "metadata": {
    "ExecuteTime": {
     "end_time": "2019-05-10T09:06:44.571701Z",
     "start_time": "2019-05-10T09:06:34.551711Z"
    }
   },
   "outputs": [
    {
     "name": "stderr",
     "output_type": "stream",
     "text": [
      "100%|██████████| 100000/100000 [00:10<00:00, 9984.97it/s]\n"
     ]
    }
   ],
   "source": [
    "for p,q in tqdm(agreeing_vector_pairs):\n",
    "    s_p, v_p = pfv_to_sv(p)\n",
    "    s_q, v_q = pfv_to_sv(q)\n",
    "    assert np.array_equal(agree(p,q), np.array(list(agree_ba(s_p, v_p, s_q, v_q)), dtype=myint))\n",
    "    assert np.array_equal(union(p,q), sv_to_pfv(*union_ba(s_p, v_p, s_q, v_q)))"
   ]
  },
  {
   "cell_type": "code",
   "execution_count": 133,
   "metadata": {
    "ExecuteTime": {
     "end_time": "2019-05-10T09:06:55.363473Z",
     "start_time": "2019-05-10T09:06:44.573255Z"
    }
   },
   "outputs": [
    {
     "name": "stderr",
     "output_type": "stream",
     "text": [
      "100%|██████████| 100000/100000 [00:10<00:00, 9272.63it/s]\n"
     ]
    }
   ],
   "source": [
    "for p,q in tqdm(random_vector_pairs):\n",
    "    s_p, v_p = pfv_to_sv(p)\n",
    "    s_q, v_q = pfv_to_sv(q)\n",
    "    assert np.array_equal(agree(p,q), np.array(list(agree_ba(s_p, v_p, s_q, v_q)), dtype=myint))\n",
    "    assert np.array_equal(intersection(p,q), sv_to_pfv(*intersection_ba(s_p, v_p, s_q, v_q)))"
   ]
  },
  {
   "cell_type": "code",
   "execution_count": 134,
   "metadata": {
    "ExecuteTime": {
     "end_time": "2019-05-10T09:06:55.368994Z",
     "start_time": "2019-05-10T09:06:55.366440Z"
    }
   },
   "outputs": [],
   "source": [
    "def in_extension_ba(s_p, v_p, s_o, v_o):\n",
    "    return agree_ba_(s_p, v_p, s_o, v_o)"
   ]
  },
  {
   "cell_type": "markdown",
   "metadata": {},
   "source": [
    "### Performance evaluation"
   ]
  },
  {
   "cell_type": "markdown",
   "metadata": {},
   "source": [
    "Now we compare timing:"
   ]
  },
  {
   "cell_type": "code",
   "execution_count": 135,
   "metadata": {
    "ExecuteTime": {
     "end_time": "2019-05-10T09:07:04.443647Z",
     "start_time": "2019-05-10T09:06:55.370371Z"
    }
   },
   "outputs": [],
   "source": [
    "agreeing_vector_pairs_ba = [(pfv_to_sv(u)[0], pfv_to_sv(u)[1], pfv_to_sv(v)[0], pfv_to_sv(v)[1]) for u,v in agreeing_vector_pairs]"
   ]
  },
  {
   "cell_type": "code",
   "execution_count": 136,
   "metadata": {
    "ExecuteTime": {
     "end_time": "2019-05-10T09:07:13.615549Z",
     "start_time": "2019-05-10T09:07:04.445800Z"
    }
   },
   "outputs": [],
   "source": [
    "random_vector_pairs_ba = [(pfv_to_sv(u)[0], pfv_to_sv(u)[1], pfv_to_sv(v)[0], pfv_to_sv(v)[1]) for u,v in random_vector_pairs]"
   ]
  },
  {
   "cell_type": "code",
   "execution_count": 137,
   "metadata": {
    "ExecuteTime": {
     "end_time": "2019-05-10T09:07:13.620339Z",
     "start_time": "2019-05-10T09:07:13.617375Z"
    }
   },
   "outputs": [],
   "source": [
    "def unpack_pfv_pair(pair):\n",
    "    p = pair[0]\n",
    "    q = pair[1]\n",
    "    s_p, v_p = pfv_to_sv(p)\n",
    "    s_q, v_q = pfv_to_sv(q)\n",
    "    return (s_p, v_p, s_q, v_q)\n",
    "\n",
    "# def unpack_sv_pair_pair(sv_pair_pair):\n",
    "#     s_p, v_p = sv_pair_pair[0][0], sv_pair_pair[0][1]\n",
    "#     s_q, v_q = sv_pair_pair[1][2], sv_pair_pair[1][1]\n",
    "#     return (s_p, v_p, s_q, v_q)"
   ]
  },
  {
   "cell_type": "code",
   "execution_count": 113,
   "metadata": {
    "ExecuteTime": {
     "end_time": "2019-05-09T20:00:58.132317Z",
     "start_time": "2019-05-09T20:00:38.306002Z"
    }
   },
   "outputs": [
    {
     "name": "stdout",
     "output_type": "stream",
     "text": [
      "2.48 s ± 16.3 ms per loop (mean ± std. dev. of 7 runs, 1 loop each)\n"
     ]
    }
   ],
   "source": [
    "%%timeit\n",
    "\n",
    "list(starmap(agree, random_vector_pairs))"
   ]
  },
  {
   "cell_type": "code",
   "execution_count": 114,
   "metadata": {
    "ExecuteTime": {
     "end_time": "2019-05-09T20:00:59.806785Z",
     "start_time": "2019-05-09T20:00:58.135462Z"
    }
   },
   "outputs": [
    {
     "name": "stdout",
     "output_type": "stream",
     "text": [
      "207 ms ± 5.67 ms per loop (mean ± std. dev. of 7 runs, 1 loop each)\n"
     ]
    }
   ],
   "source": [
    "%%timeit\n",
    "\n",
    "list(starmap(agree_ba, random_vector_pairs_ba))"
   ]
  },
  {
   "cell_type": "code",
   "execution_count": 115,
   "metadata": {
    "ExecuteTime": {
     "end_time": "2019-05-09T20:01:08.085770Z",
     "start_time": "2019-05-09T20:00:59.808340Z"
    }
   },
   "outputs": [
    {
     "name": "stdout",
     "output_type": "stream",
     "text": [
      "102 ms ± 654 µs per loop (mean ± std. dev. of 7 runs, 10 loops each)\n"
     ]
    }
   ],
   "source": [
    "%%timeit\n",
    "\n",
    "list(starmap(union, agreeing_vector_pairs))"
   ]
  },
  {
   "cell_type": "code",
   "execution_count": 116,
   "metadata": {
    "ExecuteTime": {
     "end_time": "2019-05-09T20:01:12.576945Z",
     "start_time": "2019-05-09T20:01:08.089557Z"
    }
   },
   "outputs": [
    {
     "name": "stdout",
     "output_type": "stream",
     "text": [
      "55.4 ms ± 1.17 ms per loop (mean ± std. dev. of 7 runs, 10 loops each)\n"
     ]
    }
   ],
   "source": [
    "%%timeit\n",
    "\n",
    "list(starmap(union_ba, agreeing_vector_pairs_ba))"
   ]
  },
  {
   "cell_type": "code",
   "execution_count": 117,
   "metadata": {
    "ExecuteTime": {
     "end_time": "2019-05-09T20:01:14.442449Z",
     "start_time": "2019-05-09T20:01:12.578838Z"
    }
   },
   "outputs": [
    {
     "name": "stdout",
     "output_type": "stream",
     "text": [
      "232 ms ± 4.88 ms per loop (mean ± std. dev. of 7 runs, 1 loop each)\n"
     ]
    }
   ],
   "source": [
    "%%timeit\n",
    "\n",
    "list(starmap(intersection, random_vector_pairs))"
   ]
  },
  {
   "cell_type": "code",
   "execution_count": 118,
   "metadata": {
    "ExecuteTime": {
     "end_time": "2019-05-09T20:01:29.441675Z",
     "start_time": "2019-05-09T20:01:14.444872Z"
    }
   },
   "outputs": [
    {
     "name": "stdout",
     "output_type": "stream",
     "text": [
      "185 ms ± 2.15 ms per loop (mean ± std. dev. of 7 runs, 10 loops each)\n"
     ]
    }
   ],
   "source": [
    "%%timeit\n",
    "\n",
    "list(starmap(intersection_ba, random_vector_pairs_ba))"
   ]
  },
  {
   "cell_type": "markdown",
   "metadata": {},
   "source": [
    "#### Conclusion"
   ]
  },
  {
   "cell_type": "markdown",
   "metadata": {},
   "source": [
    "In the baseline representation:\n",
    " - `agreement` checking is very expensive, taking ≈10x longer than `union`ing and ≈5x longer than `intersect`ing\n",
    "\n",
    "In the bitarray representation:\n",
    " - `agreement` checking and `intersection` take comparably long, and both take about 5x longer than `union`\n",
    "\n",
    "`agreement` checking is about 5x faster with bitarrays than with the baseline representation, `intersection` is about 1.25x faster, and `union` is about 2x faster."
   ]
  },
  {
   "cell_type": "markdown",
   "metadata": {},
   "source": [
    "## Matrix extension of the baseline representation"
   ]
  },
  {
   "cell_type": "code",
   "execution_count": 138,
   "metadata": {
    "ExecuteTime": {
     "end_time": "2019-05-10T09:07:13.627412Z",
     "start_time": "2019-05-10T09:07:13.621616Z"
    }
   },
   "outputs": [
    {
     "data": {
      "text/plain": [
       "[(array([ 0,  1,  0, -1, -1,  0], dtype=int8),\n",
       "  array([ 1,  1,  1,  1, -1,  0], dtype=int8)),\n",
       " (array([ 0, -1,  0, -1,  1,  1], dtype=int8),\n",
       "  array([-1,  0,  0, -1, -1,  1], dtype=int8)),\n",
       " (array([ 1,  0,  0,  0,  1, -1], dtype=int8),\n",
       "  array([0, 1, 0, 0, 0, 0], dtype=int8))]"
      ]
     },
     "execution_count": 138,
     "metadata": {},
     "output_type": "execute_result"
    }
   ],
   "source": [
    "random_stack_list = random_vector_pairs[:3]; random_stack_list"
   ]
  },
  {
   "cell_type": "code",
   "execution_count": 139,
   "metadata": {
    "ExecuteTime": {
     "end_time": "2019-05-10T09:07:13.634039Z",
     "start_time": "2019-05-10T09:07:13.628687Z"
    }
   },
   "outputs": [
    {
     "data": {
      "text/plain": [
       "[(array([ 0,  1,  0, -1, -1,  0], dtype=int8),\n",
       "  array([ 1,  1,  1,  1, -1,  0], dtype=int8)),\n",
       " (array([ 0, -1,  0, -1,  1,  1], dtype=int8),\n",
       "  array([-1,  0,  0, -1, -1,  1], dtype=int8)),\n",
       " (array([ 1,  0,  0,  0,  1, -1], dtype=int8),\n",
       "  array([0, 1, 0, 0, 0, 0], dtype=int8)),\n",
       " (array([ 0, -1,  0,  1,  0, -1], dtype=int8),\n",
       "  array([ 1,  1,  0, -1,  0,  0], dtype=int8)),\n",
       " (array([ 1, -1,  0,  1,  0, -1], dtype=int8),\n",
       "  array([-1,  0,  0,  0,  1,  1], dtype=int8)),\n",
       " (array([ 0,  1,  1, -1, -1, -1], dtype=int8),\n",
       "  array([ 0, -1,  1,  0, -1, -1], dtype=int8)),\n",
       " (array([-1,  0,  0, -1,  0,  1], dtype=int8),\n",
       "  array([-1,  0, -1,  0, -1,  0], dtype=int8)),\n",
       " (array([ 0, -1,  0, -1,  1, -1], dtype=int8),\n",
       "  array([-1, -1,  0, -1,  0,  0], dtype=int8)),\n",
       " (array([-1,  0,  0, -1, -1,  1], dtype=int8),\n",
       "  array([ 1,  1,  1, -1,  1, -1], dtype=int8)),\n",
       " (array([-1,  1,  1, -1,  1,  0], dtype=int8),\n",
       "  array([1, 1, 1, 1, 1, 0], dtype=int8))]"
      ]
     },
     "execution_count": 139,
     "metadata": {},
     "output_type": "execute_result"
    }
   ],
   "source": [
    "random_vector_pairs[:10]"
   ]
  },
  {
   "cell_type": "code",
   "execution_count": 140,
   "metadata": {
    "ExecuteTime": {
     "end_time": "2019-05-10T09:07:13.722429Z",
     "start_time": "2019-05-10T09:07:13.635346Z"
    }
   },
   "outputs": [
    {
     "data": {
      "text/plain": [
       "dtype('int8')"
      ]
     },
     "execution_count": 140,
     "metadata": {},
     "output_type": "execute_result"
    },
    {
     "data": {
      "text/plain": [
       "dtype('int8')"
      ]
     },
     "execution_count": 140,
     "metadata": {},
     "output_type": "execute_result"
    }
   ],
   "source": [
    "first = lambda seq: seq[0]\n",
    "second = lambda seq: seq[1]\n",
    "\n",
    "stack_a, stack_b = list(map(first, random_vector_pairs)), list(map(second, random_vector_pairs))\n",
    "random_pair_stack_a, random_pair_stack_b = np.array(stack_a), np.array(stack_b)\n",
    "random_pair_stack_a.dtype\n",
    "random_pair_stack_b.dtype"
   ]
  },
  {
   "cell_type": "code",
   "execution_count": 141,
   "metadata": {
    "ExecuteTime": {
     "end_time": "2019-05-10T09:07:13.808058Z",
     "start_time": "2019-05-10T09:07:13.723943Z"
    }
   },
   "outputs": [
    {
     "data": {
      "text/plain": [
       "dtype('int8')"
      ]
     },
     "execution_count": 141,
     "metadata": {},
     "output_type": "execute_result"
    },
    {
     "data": {
      "text/plain": [
       "dtype('int8')"
      ]
     },
     "execution_count": 141,
     "metadata": {},
     "output_type": "execute_result"
    }
   ],
   "source": [
    "stack_a, stack_b = list(map(first, agreeing_vector_pairs)), list(map(second, agreeing_vector_pairs))\n",
    "agreeing_pair_stack_a, agreeing_pair_stack_b = np.array(stack_a), np.array(stack_b)\n",
    "agreeing_pair_stack_a.dtype\n",
    "agreeing_pair_stack_b.dtype"
   ]
  },
  {
   "cell_type": "markdown",
   "metadata": {},
   "source": [
    "### Agreement testing"
   ]
  },
  {
   "cell_type": "code",
   "execution_count": 142,
   "metadata": {
    "ExecuteTime": {
     "end_time": "2019-05-10T09:07:13.812773Z",
     "start_time": "2019-05-10T09:07:13.809557Z"
    }
   },
   "outputs": [
    {
     "data": {
      "text/plain": [
       "(100000, 6)"
      ]
     },
     "execution_count": 142,
     "metadata": {},
     "output_type": "execute_result"
    }
   ],
   "source": [
    "random_pair_stack_a.shape\n",
    "n = random_pair_stack_a.shape[0]"
   ]
  },
  {
   "cell_type": "code",
   "execution_count": 152,
   "metadata": {
    "ExecuteTime": {
     "end_time": "2019-05-10T09:08:00.698384Z",
     "start_time": "2019-05-10T09:07:58.516719Z"
    }
   },
   "outputs": [],
   "source": [
    "list(starmap(agree_, random_vector_pairs));"
   ]
  },
  {
   "cell_type": "code",
   "execution_count": 151,
   "metadata": {
    "ExecuteTime": {
     "end_time": "2019-05-10T09:07:58.399142Z",
     "start_time": "2019-05-10T09:07:56.182192Z"
    }
   },
   "outputs": [
    {
     "data": {
      "text/plain": [
       "(100000,)"
      ]
     },
     "execution_count": 151,
     "metadata": {},
     "output_type": "execute_result"
    }
   ],
   "source": [
    "vector_agree__results = np.array([agree_(random_pair_stack_a[i],random_pair_stack_b[i]) for i in range(n)])\n",
    "vector_agree__results.shape"
   ]
  },
  {
   "cell_type": "code",
   "execution_count": 144,
   "metadata": {
    "ExecuteTime": {
     "end_time": "2019-05-10T09:07:16.027267Z",
     "start_time": "2019-05-10T09:07:16.015823Z"
    }
   },
   "outputs": [],
   "source": [
    "def agree_mat(A,B):\n",
    "    '''\n",
    "    Given two matrices A::(n,m) and B::(n,m), \n",
    "    return C::(n,1) where \n",
    "    C[i] = 1 iff A[i] and B[i] agree at all indices\n",
    "    and 0 otherwise.\n",
    "    '''\n",
    "    # (x == 0 or y == 0) or ((x != 0 and y != 0) and (x == y))\n",
    "    A_unspecified = A == 0\n",
    "    B_unspecified = B == 0\n",
    "    A_or_B_unspecified = A_unspecified | B_unspecified\n",
    "    \n",
    "    A_specified = A != 0\n",
    "    B_specified = B != 0\n",
    "    A_and_B_specified = A_specified & B_specified\n",
    "    A_equal_B = np.equal(A,B)\n",
    "    A_B_both_specified_and_equal = A_and_B_specified & A_equal_B\n",
    "\n",
    "    ag = A_or_B_unspecified | A_B_both_specified_and_equal\n",
    "#     return ag\n",
    "    result = np.prod(ag, axis=-1, dtype=myint)\n",
    "    return result"
   ]
  },
  {
   "cell_type": "code",
   "execution_count": 145,
   "metadata": {
    "ExecuteTime": {
     "end_time": "2019-05-10T09:07:16.074969Z",
     "start_time": "2019-05-10T09:07:16.028550Z"
    }
   },
   "outputs": [
    {
     "data": {
      "text/plain": [
       "(100000,)"
      ]
     },
     "execution_count": 145,
     "metadata": {},
     "output_type": "execute_result"
    }
   ],
   "source": [
    "matrix_agree_result = agree_mat(random_pair_stack_a, random_pair_stack_b)\n",
    "matrix_agree_result.shape"
   ]
  },
  {
   "cell_type": "code",
   "execution_count": 153,
   "metadata": {
    "ExecuteTime": {
     "end_time": "2019-05-10T09:08:02.550180Z",
     "start_time": "2019-05-10T09:08:02.547139Z"
    }
   },
   "outputs": [
    {
     "data": {
      "text/plain": [
       "True"
      ]
     },
     "execution_count": 153,
     "metadata": {},
     "output_type": "execute_result"
    }
   ],
   "source": [
    "np.array_equal(matrix_agree_result, vector_agree__results)"
   ]
  },
  {
   "cell_type": "code",
   "execution_count": 149,
   "metadata": {
    "ExecuteTime": {
     "end_time": "2019-05-10T09:07:37.400428Z",
     "start_time": "2019-05-10T09:07:33.681564Z"
    }
   },
   "outputs": [],
   "source": [
    "for i in range(n):\n",
    "    u = random_pair_stack_a[i]\n",
    "    v = random_pair_stack_b[i]\n",
    "    assert agree_(u,v) == agree_mat(u,v), '{0}, {1} -> {2} vs. {3}'.format(u,v, agree_(u,v), agree_mat(u,v, True))"
   ]
  },
  {
   "cell_type": "markdown",
   "metadata": {},
   "source": [
    "### Union"
   ]
  },
  {
   "cell_type": "code",
   "execution_count": 154,
   "metadata": {
    "ExecuteTime": {
     "end_time": "2019-05-10T09:08:06.661658Z",
     "start_time": "2019-05-10T09:08:06.447745Z"
    }
   },
   "outputs": [
    {
     "data": {
      "text/plain": [
       "(100000, 6)"
      ]
     },
     "execution_count": 154,
     "metadata": {},
     "output_type": "execute_result"
    }
   ],
   "source": [
    "vector_union_results = np.array([union(agreeing_pair_stack_a[i],agreeing_pair_stack_b[i]) for i in range(n)])\n",
    "vector_union_results.shape"
   ]
  },
  {
   "cell_type": "code",
   "execution_count": 155,
   "metadata": {
    "ExecuteTime": {
     "end_time": "2019-05-10T09:08:06.666089Z",
     "start_time": "2019-05-10T09:08:06.662965Z"
    }
   },
   "outputs": [
    {
     "data": {
      "text/plain": [
       "array([[-1,  1,  0, -1, -1, -1],\n",
       "       [ 1, -1,  1,  1, -1, -1],\n",
       "       [ 1,  1,  1, -1,  1,  1],\n",
       "       ..., \n",
       "       [-1,  1,  1,  1, -1, -1],\n",
       "       [-1, -1, -1,  1,  1,  1],\n",
       "       [-1,  1,  1, -1,  1, -1]], dtype=int8)"
      ]
     },
     "execution_count": 155,
     "metadata": {},
     "output_type": "execute_result"
    }
   ],
   "source": [
    "union(agreeing_pair_stack_a, agreeing_pair_stack_b)"
   ]
  },
  {
   "cell_type": "code",
   "execution_count": 156,
   "metadata": {
    "ExecuteTime": {
     "end_time": "2019-05-10T09:08:06.860270Z",
     "start_time": "2019-05-10T09:08:06.856722Z"
    }
   },
   "outputs": [
    {
     "data": {
      "text/plain": [
       "True"
      ]
     },
     "execution_count": 156,
     "metadata": {},
     "output_type": "execute_result"
    }
   ],
   "source": [
    "np.array_equal(vector_union_results, union(agreeing_pair_stack_a, agreeing_pair_stack_b) )"
   ]
  },
  {
   "cell_type": "markdown",
   "metadata": {},
   "source": [
    "### Intersection"
   ]
  },
  {
   "cell_type": "code",
   "execution_count": 157,
   "metadata": {
    "ExecuteTime": {
     "end_time": "2019-05-10T09:08:08.898164Z",
     "start_time": "2019-05-10T09:08:08.543446Z"
    }
   },
   "outputs": [
    {
     "data": {
      "text/plain": [
       "(100000, 6)"
      ]
     },
     "execution_count": 157,
     "metadata": {},
     "output_type": "execute_result"
    }
   ],
   "source": [
    "vector_intersection_results = np.array([intersection(random_pair_stack_a[i],random_pair_stack_b[i]) for i in range(n)])\n",
    "vector_intersection_results.shape"
   ]
  },
  {
   "cell_type": "code",
   "execution_count": 158,
   "metadata": {
    "ExecuteTime": {
     "end_time": "2019-05-10T09:08:08.903380Z",
     "start_time": "2019-05-10T09:08:08.899541Z"
    }
   },
   "outputs": [
    {
     "data": {
      "text/plain": [
       "array([[ 0,  0,  0,  0,  0,  0],\n",
       "       [ 0,  0,  0,  1,  0, -1],\n",
       "       [ 1,  1,  0,  0,  0,  0],\n",
       "       ..., \n",
       "       [ 0,  1,  0,  0,  0,  0],\n",
       "       [-1,  0,  0,  1,  0,  1],\n",
       "       [ 0,  0,  0, -1,  0, -1]], dtype=int8)"
      ]
     },
     "execution_count": 158,
     "metadata": {},
     "output_type": "execute_result"
    }
   ],
   "source": [
    "intersection(agreeing_pair_stack_a, agreeing_pair_stack_b)"
   ]
  },
  {
   "cell_type": "code",
   "execution_count": 159,
   "metadata": {
    "ExecuteTime": {
     "end_time": "2019-05-10T09:08:09.380513Z",
     "start_time": "2019-05-10T09:08:09.377140Z"
    }
   },
   "outputs": [
    {
     "data": {
      "text/plain": [
       "True"
      ]
     },
     "execution_count": 159,
     "metadata": {},
     "output_type": "execute_result"
    }
   ],
   "source": [
    "np.array_equal(vector_intersection_results, intersection(random_pair_stack_a, random_pair_stack_b) )"
   ]
  },
  {
   "cell_type": "markdown",
   "metadata": {},
   "source": [
    "### Extension"
   ]
  },
  {
   "cell_type": "markdown",
   "metadata": {},
   "source": [
    "Using `agree_mat` we can define a faster method for calculating extensions:"
   ]
  },
  {
   "cell_type": "code",
   "execution_count": 160,
   "metadata": {
    "ExecuteTime": {
     "end_time": "2019-05-10T09:08:11.341790Z",
     "start_time": "2019-05-10T09:08:11.339595Z"
    }
   },
   "outputs": [],
   "source": [
    "def extension_(pfv):\n",
    "    return agree_mat(pfv, objectMap)"
   ]
  },
  {
   "cell_type": "code",
   "execution_count": 161,
   "metadata": {
    "ExecuteTime": {
     "end_time": "2019-05-10T09:08:11.626724Z",
     "start_time": "2019-05-10T09:08:11.616580Z"
    }
   },
   "outputs": [
    {
     "data": {
      "text/plain": [
       "array([ 1,  1,  0, -1, -1,  1], dtype=int8)"
      ]
     },
     "execution_count": 161,
     "metadata": {},
     "output_type": "execute_result"
    },
    {
     "data": {
      "text/plain": [
       "' '"
      ]
     },
     "execution_count": 161,
     "metadata": {},
     "output_type": "execute_result"
    },
    {
     "data": {
      "text/plain": [
       "array([0, 0, 0, 0, 0, 0, 0, 0, 0, 0, 0, 0, 0, 0, 0, 0, 0, 0, 0, 0, 0, 0, 1], dtype=int8)"
      ]
     },
     "execution_count": 161,
     "metadata": {},
     "output_type": "execute_result"
    },
    {
     "data": {
      "text/plain": [
       "array([0, 0, 0, 0, 0, 0, 0, 0, 0, 0, 0, 0, 0, 0, 0, 0, 0, 0, 0, 0, 0, 0, 1], dtype=int8)"
      ]
     },
     "execution_count": 161,
     "metadata": {},
     "output_type": "execute_result"
    },
    {
     "data": {
      "text/plain": [
       "array([0, 0, 0, 0, 0, 0, 0, 0, 0, 0, 0, 0, 0, 0, 0, 0, 0, 0, 0, 0, 0, 0, 1], dtype=int8)"
      ]
     },
     "execution_count": 161,
     "metadata": {},
     "output_type": "execute_result"
    }
   ],
   "source": [
    "p = make_random_pfv()\n",
    "p\n",
    "' '\n",
    "extension(p)\n",
    "extension_alt(p)\n",
    "extension_(p)"
   ]
  },
  {
   "cell_type": "code",
   "execution_count": 162,
   "metadata": {
    "ExecuteTime": {
     "end_time": "2019-05-10T09:09:34.308209Z",
     "start_time": "2019-05-10T09:08:12.664311Z"
    }
   },
   "outputs": [
    {
     "name": "stderr",
     "output_type": "stream",
     "text": [
      "100%|██████████| 100000/100000 [01:21<00:00, 1224.92it/s]\n"
     ]
    }
   ],
   "source": [
    "for p in tqdm(random_vectors):\n",
    "    assert np.array_equal(extension(p), extension_(p)), 'Disagreement on {0}: {1} vs. {2}'.format(p, extension(p), extension_alt(p))"
   ]
  },
  {
   "cell_type": "code",
   "execution_count": 228,
   "metadata": {
    "ExecuteTime": {
     "end_time": "2019-05-10T00:11:59.797114Z",
     "start_time": "2019-05-09T23:14:41.571342Z"
    }
   },
   "outputs": [
    {
     "ename": "KeyboardInterrupt",
     "evalue": "",
     "output_type": "error",
     "traceback": [
      "\u001b[0;31m---------------------------------------------------------------------------\u001b[0m",
      "\u001b[0;31mKeyboardInterrupt\u001b[0m                         Traceback (most recent call last)",
      "\u001b[0;32m<ipython-input-228-1f96bcf81b53>\u001b[0m in \u001b[0;36m<module>\u001b[0;34m\u001b[0m\n\u001b[0;32m----> 1\u001b[0;31m \u001b[0mget_ipython\u001b[0m\u001b[0;34m(\u001b[0m\u001b[0;34m)\u001b[0m\u001b[0;34m.\u001b[0m\u001b[0mrun_cell_magic\u001b[0m\u001b[0;34m(\u001b[0m\u001b[0;34m'timeit'\u001b[0m\u001b[0;34m,\u001b[0m \u001b[0;34m''\u001b[0m\u001b[0;34m,\u001b[0m \u001b[0;34m'\\nlist(map(extension, random_vectors))\\n'\u001b[0m\u001b[0;34m)\u001b[0m\u001b[0;34m\u001b[0m\u001b[0;34m\u001b[0m\u001b[0m\n\u001b[0m",
      "\u001b[0;32m~/anaconda3/envs/anvil/lib/python3.6/site-packages/IPython/core/interactiveshell.py\u001b[0m in \u001b[0;36mrun_cell_magic\u001b[0;34m(self, magic_name, line, cell)\u001b[0m\n\u001b[1;32m   2321\u001b[0m             \u001b[0mmagic_arg_s\u001b[0m \u001b[0;34m=\u001b[0m \u001b[0mself\u001b[0m\u001b[0;34m.\u001b[0m\u001b[0mvar_expand\u001b[0m\u001b[0;34m(\u001b[0m\u001b[0mline\u001b[0m\u001b[0;34m,\u001b[0m \u001b[0mstack_depth\u001b[0m\u001b[0;34m)\u001b[0m\u001b[0;34m\u001b[0m\u001b[0;34m\u001b[0m\u001b[0m\n\u001b[1;32m   2322\u001b[0m             \u001b[0;32mwith\u001b[0m \u001b[0mself\u001b[0m\u001b[0;34m.\u001b[0m\u001b[0mbuiltin_trap\u001b[0m\u001b[0;34m:\u001b[0m\u001b[0;34m\u001b[0m\u001b[0;34m\u001b[0m\u001b[0m\n\u001b[0;32m-> 2323\u001b[0;31m                 \u001b[0mresult\u001b[0m \u001b[0;34m=\u001b[0m \u001b[0mfn\u001b[0m\u001b[0;34m(\u001b[0m\u001b[0mmagic_arg_s\u001b[0m\u001b[0;34m,\u001b[0m \u001b[0mcell\u001b[0m\u001b[0;34m)\u001b[0m\u001b[0;34m\u001b[0m\u001b[0;34m\u001b[0m\u001b[0m\n\u001b[0m\u001b[1;32m   2324\u001b[0m             \u001b[0;32mreturn\u001b[0m \u001b[0mresult\u001b[0m\u001b[0;34m\u001b[0m\u001b[0;34m\u001b[0m\u001b[0m\n\u001b[1;32m   2325\u001b[0m \u001b[0;34m\u001b[0m\u001b[0m\n",
      "\u001b[0;32m</home/AD/emeinhar/anaconda3/envs/anvil/lib/python3.6/site-packages/decorator.py:decorator-gen-61>\u001b[0m in \u001b[0;36mtimeit\u001b[0;34m(self, line, cell, local_ns)\u001b[0m\n",
      "\u001b[0;32m~/anaconda3/envs/anvil/lib/python3.6/site-packages/IPython/core/magic.py\u001b[0m in \u001b[0;36m<lambda>\u001b[0;34m(f, *a, **k)\u001b[0m\n\u001b[1;32m    185\u001b[0m     \u001b[0;31m# but it's overkill for just that one bit of state.\u001b[0m\u001b[0;34m\u001b[0m\u001b[0;34m\u001b[0m\u001b[0;34m\u001b[0m\u001b[0m\n\u001b[1;32m    186\u001b[0m     \u001b[0;32mdef\u001b[0m \u001b[0mmagic_deco\u001b[0m\u001b[0;34m(\u001b[0m\u001b[0marg\u001b[0m\u001b[0;34m)\u001b[0m\u001b[0;34m:\u001b[0m\u001b[0;34m\u001b[0m\u001b[0;34m\u001b[0m\u001b[0m\n\u001b[0;32m--> 187\u001b[0;31m         \u001b[0mcall\u001b[0m \u001b[0;34m=\u001b[0m \u001b[0;32mlambda\u001b[0m \u001b[0mf\u001b[0m\u001b[0;34m,\u001b[0m \u001b[0;34m*\u001b[0m\u001b[0ma\u001b[0m\u001b[0;34m,\u001b[0m \u001b[0;34m**\u001b[0m\u001b[0mk\u001b[0m\u001b[0;34m:\u001b[0m \u001b[0mf\u001b[0m\u001b[0;34m(\u001b[0m\u001b[0;34m*\u001b[0m\u001b[0ma\u001b[0m\u001b[0;34m,\u001b[0m \u001b[0;34m**\u001b[0m\u001b[0mk\u001b[0m\u001b[0;34m)\u001b[0m\u001b[0;34m\u001b[0m\u001b[0;34m\u001b[0m\u001b[0m\n\u001b[0m\u001b[1;32m    188\u001b[0m \u001b[0;34m\u001b[0m\u001b[0m\n\u001b[1;32m    189\u001b[0m         \u001b[0;32mif\u001b[0m \u001b[0mcallable\u001b[0m\u001b[0;34m(\u001b[0m\u001b[0marg\u001b[0m\u001b[0;34m)\u001b[0m\u001b[0;34m:\u001b[0m\u001b[0;34m\u001b[0m\u001b[0;34m\u001b[0m\u001b[0m\n",
      "\u001b[0;32m~/anaconda3/envs/anvil/lib/python3.6/site-packages/IPython/core/magics/execution.py\u001b[0m in \u001b[0;36mtimeit\u001b[0;34m(self, line, cell, local_ns)\u001b[0m\n\u001b[1;32m   1108\u001b[0m                     \u001b[0;32mbreak\u001b[0m\u001b[0;34m\u001b[0m\u001b[0;34m\u001b[0m\u001b[0m\n\u001b[1;32m   1109\u001b[0m \u001b[0;34m\u001b[0m\u001b[0m\n\u001b[0;32m-> 1110\u001b[0;31m         \u001b[0mall_runs\u001b[0m \u001b[0;34m=\u001b[0m \u001b[0mtimer\u001b[0m\u001b[0;34m.\u001b[0m\u001b[0mrepeat\u001b[0m\u001b[0;34m(\u001b[0m\u001b[0mrepeat\u001b[0m\u001b[0;34m,\u001b[0m \u001b[0mnumber\u001b[0m\u001b[0;34m)\u001b[0m\u001b[0;34m\u001b[0m\u001b[0;34m\u001b[0m\u001b[0m\n\u001b[0m\u001b[1;32m   1111\u001b[0m         \u001b[0mbest\u001b[0m \u001b[0;34m=\u001b[0m \u001b[0mmin\u001b[0m\u001b[0;34m(\u001b[0m\u001b[0mall_runs\u001b[0m\u001b[0;34m)\u001b[0m \u001b[0;34m/\u001b[0m \u001b[0mnumber\u001b[0m\u001b[0;34m\u001b[0m\u001b[0;34m\u001b[0m\u001b[0m\n\u001b[1;32m   1112\u001b[0m         \u001b[0mworst\u001b[0m \u001b[0;34m=\u001b[0m \u001b[0mmax\u001b[0m\u001b[0;34m(\u001b[0m\u001b[0mall_runs\u001b[0m\u001b[0;34m)\u001b[0m \u001b[0;34m/\u001b[0m \u001b[0mnumber\u001b[0m\u001b[0;34m\u001b[0m\u001b[0;34m\u001b[0m\u001b[0m\n",
      "\u001b[0;32m~/anaconda3/envs/anvil/lib/python3.6/timeit.py\u001b[0m in \u001b[0;36mrepeat\u001b[0;34m(self, repeat, number)\u001b[0m\n\u001b[1;32m    204\u001b[0m         \u001b[0mr\u001b[0m \u001b[0;34m=\u001b[0m \u001b[0;34m[\u001b[0m\u001b[0;34m]\u001b[0m\u001b[0;34m\u001b[0m\u001b[0;34m\u001b[0m\u001b[0m\n\u001b[1;32m    205\u001b[0m         \u001b[0;32mfor\u001b[0m \u001b[0mi\u001b[0m \u001b[0;32min\u001b[0m \u001b[0mrange\u001b[0m\u001b[0;34m(\u001b[0m\u001b[0mrepeat\u001b[0m\u001b[0;34m)\u001b[0m\u001b[0;34m:\u001b[0m\u001b[0;34m\u001b[0m\u001b[0;34m\u001b[0m\u001b[0m\n\u001b[0;32m--> 206\u001b[0;31m             \u001b[0mt\u001b[0m \u001b[0;34m=\u001b[0m \u001b[0mself\u001b[0m\u001b[0;34m.\u001b[0m\u001b[0mtimeit\u001b[0m\u001b[0;34m(\u001b[0m\u001b[0mnumber\u001b[0m\u001b[0;34m)\u001b[0m\u001b[0;34m\u001b[0m\u001b[0;34m\u001b[0m\u001b[0m\n\u001b[0m\u001b[1;32m    207\u001b[0m             \u001b[0mr\u001b[0m\u001b[0;34m.\u001b[0m\u001b[0mappend\u001b[0m\u001b[0;34m(\u001b[0m\u001b[0mt\u001b[0m\u001b[0;34m)\u001b[0m\u001b[0;34m\u001b[0m\u001b[0;34m\u001b[0m\u001b[0m\n\u001b[1;32m    208\u001b[0m         \u001b[0;32mreturn\u001b[0m \u001b[0mr\u001b[0m\u001b[0;34m\u001b[0m\u001b[0;34m\u001b[0m\u001b[0m\n",
      "\u001b[0;32m~/anaconda3/envs/anvil/lib/python3.6/site-packages/IPython/core/magics/execution.py\u001b[0m in \u001b[0;36mtimeit\u001b[0;34m(self, number)\u001b[0m\n\u001b[1;32m    158\u001b[0m         \u001b[0mgc\u001b[0m\u001b[0;34m.\u001b[0m\u001b[0mdisable\u001b[0m\u001b[0;34m(\u001b[0m\u001b[0;34m)\u001b[0m\u001b[0;34m\u001b[0m\u001b[0;34m\u001b[0m\u001b[0m\n\u001b[1;32m    159\u001b[0m         \u001b[0;32mtry\u001b[0m\u001b[0;34m:\u001b[0m\u001b[0;34m\u001b[0m\u001b[0;34m\u001b[0m\u001b[0m\n\u001b[0;32m--> 160\u001b[0;31m             \u001b[0mtiming\u001b[0m \u001b[0;34m=\u001b[0m \u001b[0mself\u001b[0m\u001b[0;34m.\u001b[0m\u001b[0minner\u001b[0m\u001b[0;34m(\u001b[0m\u001b[0mit\u001b[0m\u001b[0;34m,\u001b[0m \u001b[0mself\u001b[0m\u001b[0;34m.\u001b[0m\u001b[0mtimer\u001b[0m\u001b[0;34m)\u001b[0m\u001b[0;34m\u001b[0m\u001b[0;34m\u001b[0m\u001b[0m\n\u001b[0m\u001b[1;32m    161\u001b[0m         \u001b[0;32mfinally\u001b[0m\u001b[0;34m:\u001b[0m\u001b[0;34m\u001b[0m\u001b[0;34m\u001b[0m\u001b[0m\n\u001b[1;32m    162\u001b[0m             \u001b[0;32mif\u001b[0m \u001b[0mgcold\u001b[0m\u001b[0;34m:\u001b[0m\u001b[0;34m\u001b[0m\u001b[0;34m\u001b[0m\u001b[0m\n",
      "\u001b[0;32m<magic-timeit>\u001b[0m in \u001b[0;36minner\u001b[0;34m(_it, _timer)\u001b[0m\n",
      "\u001b[0;32m<ipython-input-64-42f7050f1d5d>\u001b[0m in \u001b[0;36mextension\u001b[0;34m(v, asIndexVector)\u001b[0m\n\u001b[1;32m      4\u001b[0m     \u001b[0;34m(\u001b[0m\u001b[0;34m=\u001b[0m \u001b[0mfully\u001b[0m \u001b[0mspecified\u001b[0m\u001b[0;34m,\u001b[0m \u001b[0;32mor\u001b[0m \u001b[0;34m'total'\u001b[0m \u001b[0mfeature\u001b[0m \u001b[0mvectors\u001b[0m\u001b[0;34m)\u001b[0m \u001b[0mthat\u001b[0m \u001b[0;34m'agree'\u001b[0m \u001b[0;32mwith\u001b[0m \u001b[0mit\u001b[0m\u001b[0;34m.\u001b[0m\u001b[0;34m\u001b[0m\u001b[0;34m\u001b[0m\u001b[0m\n\u001b[1;32m      5\u001b[0m     '''\n\u001b[0;32m----> 6\u001b[0;31m     \u001b[0mmatches\u001b[0m \u001b[0;34m=\u001b[0m \u001b[0mtuple\u001b[0m\u001b[0;34m(\u001b[0m\u001b[0;34m[\u001b[0m\u001b[0mo\u001b[0m \u001b[0;32mfor\u001b[0m \u001b[0mo\u001b[0m \u001b[0;32min\u001b[0m \u001b[0mobjects\u001b[0m \u001b[0;32mif\u001b[0m \u001b[0magree_\u001b[0m\u001b[0;34m(\u001b[0m\u001b[0mv\u001b[0m\u001b[0;34m,\u001b[0m\u001b[0mo\u001b[0m\u001b[0;34m)\u001b[0m\u001b[0;34m]\u001b[0m\u001b[0;34m)\u001b[0m\u001b[0;34m\u001b[0m\u001b[0;34m\u001b[0m\u001b[0m\n\u001b[0m\u001b[1;32m      7\u001b[0m \u001b[0;31m#     matches = tuple([o for o in objects if agree(v,o).all()])\u001b[0m\u001b[0;34m\u001b[0m\u001b[0;34m\u001b[0m\u001b[0;34m\u001b[0m\u001b[0m\n\u001b[1;32m      8\u001b[0m \u001b[0;31m#     matches = np.array([1.0 if np.linalg.norm(agree(v,o), 1) == num_features else 0.0 for o in objects])\u001b[0m\u001b[0;34m\u001b[0m\u001b[0;34m\u001b[0m\u001b[0;34m\u001b[0m\u001b[0m\n",
      "\u001b[0;32m<ipython-input-64-42f7050f1d5d>\u001b[0m in \u001b[0;36m<listcomp>\u001b[0;34m(.0)\u001b[0m\n\u001b[1;32m      4\u001b[0m     \u001b[0;34m(\u001b[0m\u001b[0;34m=\u001b[0m \u001b[0mfully\u001b[0m \u001b[0mspecified\u001b[0m\u001b[0;34m,\u001b[0m \u001b[0;32mor\u001b[0m \u001b[0;34m'total'\u001b[0m \u001b[0mfeature\u001b[0m \u001b[0mvectors\u001b[0m\u001b[0;34m)\u001b[0m \u001b[0mthat\u001b[0m \u001b[0;34m'agree'\u001b[0m \u001b[0;32mwith\u001b[0m \u001b[0mit\u001b[0m\u001b[0;34m.\u001b[0m\u001b[0;34m\u001b[0m\u001b[0;34m\u001b[0m\u001b[0m\n\u001b[1;32m      5\u001b[0m     '''\n\u001b[0;32m----> 6\u001b[0;31m     \u001b[0mmatches\u001b[0m \u001b[0;34m=\u001b[0m \u001b[0mtuple\u001b[0m\u001b[0;34m(\u001b[0m\u001b[0;34m[\u001b[0m\u001b[0mo\u001b[0m \u001b[0;32mfor\u001b[0m \u001b[0mo\u001b[0m \u001b[0;32min\u001b[0m \u001b[0mobjects\u001b[0m \u001b[0;32mif\u001b[0m \u001b[0magree_\u001b[0m\u001b[0;34m(\u001b[0m\u001b[0mv\u001b[0m\u001b[0;34m,\u001b[0m\u001b[0mo\u001b[0m\u001b[0;34m)\u001b[0m\u001b[0;34m]\u001b[0m\u001b[0;34m)\u001b[0m\u001b[0;34m\u001b[0m\u001b[0;34m\u001b[0m\u001b[0m\n\u001b[0m\u001b[1;32m      7\u001b[0m \u001b[0;31m#     matches = tuple([o for o in objects if agree(v,o).all()])\u001b[0m\u001b[0;34m\u001b[0m\u001b[0;34m\u001b[0m\u001b[0;34m\u001b[0m\u001b[0m\n\u001b[1;32m      8\u001b[0m \u001b[0;31m#     matches = np.array([1.0 if np.linalg.norm(agree(v,o), 1) == num_features else 0.0 for o in objects])\u001b[0m\u001b[0;34m\u001b[0m\u001b[0;34m\u001b[0m\u001b[0;34m\u001b[0m\u001b[0m\n",
      "\u001b[0;32m<ipython-input-24-c0177430c9f4>\u001b[0m in \u001b[0;36magree_\u001b[0;34m(u, v)\u001b[0m\n\u001b[1;32m     16\u001b[0m     \u001b[0;32mand\u001b[0m \u001b[0;36m0\u001b[0m \u001b[0motherwise\u001b[0m\u001b[0;34m.\u001b[0m\u001b[0;34m\u001b[0m\u001b[0;34m\u001b[0m\u001b[0m\n\u001b[1;32m     17\u001b[0m     '''\n\u001b[0;32m---> 18\u001b[0;31m     \u001b[0mag\u001b[0m \u001b[0;34m=\u001b[0m \u001b[0magree\u001b[0m\u001b[0;34m(\u001b[0m\u001b[0mu\u001b[0m\u001b[0;34m,\u001b[0m\u001b[0mv\u001b[0m\u001b[0;34m)\u001b[0m\u001b[0;34m\u001b[0m\u001b[0;34m\u001b[0m\u001b[0m\n\u001b[0m\u001b[1;32m     19\u001b[0m     \u001b[0;32mreturn\u001b[0m \u001b[0mint\u001b[0m\u001b[0;34m(\u001b[0m\u001b[0mag\u001b[0m\u001b[0;34m.\u001b[0m\u001b[0mall\u001b[0m\u001b[0;34m(\u001b[0m\u001b[0;34m)\u001b[0m\u001b[0;34m)\u001b[0m\u001b[0;34m\u001b[0m\u001b[0;34m\u001b[0m\u001b[0m\n\u001b[1;32m     20\u001b[0m \u001b[0;34m\u001b[0m\u001b[0m\n",
      "\u001b[0;32m<ipython-input-24-c0177430c9f4>\u001b[0m in \u001b[0;36magree\u001b[0;34m(u, v)\u001b[0m\n\u001b[1;32m      9\u001b[0m \u001b[0;31m#                      for i in range(len(u))])\u001b[0m\u001b[0;34m\u001b[0m\u001b[0;34m\u001b[0m\u001b[0;34m\u001b[0m\u001b[0m\n\u001b[1;32m     10\u001b[0m     return np.array([1 if (u[i] == 0 or v[i] == 0) or (u[i] == v[i]) else 0 \n\u001b[0;32m---> 11\u001b[0;31m                      for i in range(len(u))], dtype=myint)\n\u001b[0m\u001b[1;32m     12\u001b[0m \u001b[0;34m\u001b[0m\u001b[0m\n\u001b[1;32m     13\u001b[0m \u001b[0;32mdef\u001b[0m \u001b[0magree_\u001b[0m\u001b[0;34m(\u001b[0m\u001b[0mu\u001b[0m\u001b[0;34m,\u001b[0m\u001b[0mv\u001b[0m\u001b[0;34m)\u001b[0m\u001b[0;34m:\u001b[0m\u001b[0;34m\u001b[0m\u001b[0;34m\u001b[0m\u001b[0m\n",
      "\u001b[0;32m<ipython-input-24-c0177430c9f4>\u001b[0m in \u001b[0;36m<listcomp>\u001b[0;34m(.0)\u001b[0m\n\u001b[1;32m      9\u001b[0m \u001b[0;31m#                      for i in range(len(u))])\u001b[0m\u001b[0;34m\u001b[0m\u001b[0;34m\u001b[0m\u001b[0;34m\u001b[0m\u001b[0m\n\u001b[1;32m     10\u001b[0m     return np.array([1 if (u[i] == 0 or v[i] == 0) or (u[i] == v[i]) else 0 \n\u001b[0;32m---> 11\u001b[0;31m                      for i in range(len(u))], dtype=myint)\n\u001b[0m\u001b[1;32m     12\u001b[0m \u001b[0;34m\u001b[0m\u001b[0m\n\u001b[1;32m     13\u001b[0m \u001b[0;32mdef\u001b[0m \u001b[0magree_\u001b[0m\u001b[0;34m(\u001b[0m\u001b[0mu\u001b[0m\u001b[0;34m,\u001b[0m\u001b[0mv\u001b[0m\u001b[0;34m)\u001b[0m\u001b[0;34m:\u001b[0m\u001b[0;34m\u001b[0m\u001b[0;34m\u001b[0m\u001b[0m\n",
      "\u001b[0;31mKeyboardInterrupt\u001b[0m: "
     ]
    }
   ],
   "source": [
    "%%timeit\n",
    "\n",
    "list(map(extension, random_vectors))"
   ]
  },
  {
   "cell_type": "code",
   "execution_count": null,
   "metadata": {
    "ExecuteTime": {
     "end_time": "2019-05-09T21:58:50.480466Z",
     "start_time": "2019-05-09T20:22:47.027Z"
    }
   },
   "outputs": [],
   "source": [
    "%%timeit\n",
    "\n",
    "list(map(extension_, random_vectors))"
   ]
  },
  {
   "cell_type": "markdown",
   "metadata": {},
   "source": [
    "### Conclusion"
   ]
  },
  {
   "cell_type": "markdown",
   "metadata": {},
   "source": [
    "The `union` and `intersection` operations extend naturally to vector stacks (matrices), and vectorized versions of the boolean formulas discovered during exploration of bitarrays make a vectorized version of `agreement` easily definable.\n",
    "\n",
    "All three operations are enormously faster than either the baseline representation or the bitarray methods.\n",
    "\n",
    "The vectorized version of agreement naturally permits a moderately (≈5-6x) faster method of calculating the extension of a partial feature vector."
   ]
  },
  {
   "cell_type": "markdown",
   "metadata": {},
   "source": [
    "## `pytorch` and gpus"
   ]
  },
  {
   "cell_type": "markdown",
   "metadata": {},
   "source": [
    "The next logical question is whether gpus can usefully accelerate computation..."
   ]
  },
  {
   "cell_type": "code",
   "execution_count": 148,
   "metadata": {
    "ExecuteTime": {
     "end_time": "2019-05-09T22:02:35.533316Z",
     "start_time": "2019-05-09T22:02:34.907841Z"
    }
   },
   "outputs": [],
   "source": [
    "import torch"
   ]
  },
  {
   "cell_type": "code",
   "execution_count": 179,
   "metadata": {
    "ExecuteTime": {
     "end_time": "2019-05-09T22:14:28.397569Z",
     "start_time": "2019-05-09T22:14:28.393264Z"
    }
   },
   "outputs": [],
   "source": [
    "torch.set_default_tensor_type('torch.cuda.FloatTensor')\n",
    "gpu_int8_ttype = torch.cuda.CharTensor\n",
    "gpu_int16_ttype = torch.cuda.ShortTensor\n",
    "my_ttype = gpu_int8_ttype\n",
    "my_dtype = torch.uint8\n",
    "def t(ndarray):\n",
    "    if ndarray.dtype == myint:\n",
    "        return torch.tensor(ndarray.astype(np.int16)).type(my_ttype)\n",
    "    return torch.tensor(ndarray).type(my_ttype)"
   ]
  },
  {
   "cell_type": "code",
   "execution_count": 180,
   "metadata": {
    "ExecuteTime": {
     "end_time": "2019-05-09T22:14:29.711497Z",
     "start_time": "2019-05-09T22:14:29.695216Z"
    }
   },
   "outputs": [],
   "source": [
    "objects_t = t(np.array(objects))\n",
    "objectMap_t = t(objectMap)"
   ]
  },
  {
   "cell_type": "markdown",
   "metadata": {},
   "source": [
    "### Agreement"
   ]
  },
  {
   "cell_type": "code",
   "execution_count": 151,
   "metadata": {
    "ExecuteTime": {
     "end_time": "2019-05-09T22:02:40.239165Z",
     "start_time": "2019-05-09T22:02:40.204559Z"
    }
   },
   "outputs": [
    {
     "ename": "NameError",
     "evalue": "name 'p' is not defined",
     "output_type": "error",
     "traceback": [
      "\u001b[0;31m---------------------------------------------------------------------------\u001b[0m",
      "\u001b[0;31mNameError\u001b[0m                                 Traceback (most recent call last)",
      "\u001b[0;32m<ipython-input-151-6c10289a8da7>\u001b[0m in \u001b[0;36m<module>\u001b[0;34m\u001b[0m\n\u001b[0;32m----> 1\u001b[0;31m \u001b[0mp\u001b[0m\u001b[0;34m\u001b[0m\u001b[0;34m\u001b[0m\u001b[0m\n\u001b[0m",
      "\u001b[0;31mNameError\u001b[0m: name 'p' is not defined"
     ]
    }
   ],
   "source": [
    "p"
   ]
  },
  {
   "cell_type": "code",
   "execution_count": 253,
   "metadata": {
    "ExecuteTime": {
     "end_time": "2019-05-08T23:21:57.344502Z",
     "start_time": "2019-05-08T23:21:57.340280Z"
    }
   },
   "outputs": [
    {
     "data": {
      "text/plain": [
       "array([ 0,  1, -1], dtype=int8)"
      ]
     },
     "execution_count": 253,
     "metadata": {},
     "output_type": "execute_result"
    }
   ],
   "source": [
    "q"
   ]
  },
  {
   "cell_type": "code",
   "execution_count": 254,
   "metadata": {
    "ExecuteTime": {
     "end_time": "2019-05-08T23:21:57.481746Z",
     "start_time": "2019-05-08T23:21:57.476161Z"
    }
   },
   "outputs": [
    {
     "data": {
      "text/plain": [
       "array([False, False, False], dtype=bool)"
      ]
     },
     "execution_count": 254,
     "metadata": {},
     "output_type": "execute_result"
    },
    {
     "data": {
      "text/plain": [
       "tensor([0, 0, 0], dtype=torch.uint8)"
      ]
     },
     "execution_count": 254,
     "metadata": {},
     "output_type": "execute_result"
    }
   ],
   "source": [
    "np.equal(p,q)\n",
    "torch.eq(t(p), t(q))"
   ]
  },
  {
   "cell_type": "code",
   "execution_count": 255,
   "metadata": {
    "ExecuteTime": {
     "end_time": "2019-05-08T23:21:57.630003Z",
     "start_time": "2019-05-08T23:21:57.623424Z"
    }
   },
   "outputs": [
    {
     "data": {
      "text/plain": [
       "tensor([1, 1, 1], dtype=torch.uint8)"
      ]
     },
     "execution_count": 255,
     "metadata": {},
     "output_type": "execute_result"
    },
    {
     "data": {
      "text/plain": [
       "'torch.cuda.ByteTensor'"
      ]
     },
     "execution_count": 255,
     "metadata": {},
     "output_type": "execute_result"
    },
    {
     "data": {
      "text/plain": [
       "tensor(1, dtype=torch.uint8)"
      ]
     },
     "execution_count": 255,
     "metadata": {},
     "output_type": "execute_result"
    }
   ],
   "source": [
    "tens = torch.tensor([1,1,1])\n",
    "tens = tens.type(torch.cuda.ByteTensor)\n",
    "tens\n",
    "tens.type()\n",
    "tens.all()"
   ]
  },
  {
   "cell_type": "code",
   "execution_count": 256,
   "metadata": {
    "ExecuteTime": {
     "end_time": "2019-05-08T23:21:57.778246Z",
     "start_time": "2019-05-08T23:21:57.769880Z"
    }
   },
   "outputs": [
    {
     "data": {
      "text/plain": [
       "tensor([[1, 1, 1],\n",
       "        [1, 0, 1]], dtype=torch.int8)"
      ]
     },
     "execution_count": 256,
     "metadata": {},
     "output_type": "execute_result"
    },
    {
     "data": {
      "text/plain": [
       "(tensor([[1, 1, 1]], dtype=torch.int8), tensor([[1, 0, 1]], dtype=torch.int8))"
      ]
     },
     "execution_count": 256,
     "metadata": {},
     "output_type": "execute_result"
    },
    {
     "data": {
      "text/plain": [
       "(tensor(1), tensor(0))"
      ]
     },
     "execution_count": 256,
     "metadata": {},
     "output_type": "execute_result"
    }
   ],
   "source": [
    "quux = torch.tensor([[1,1,1],[1,0,1]])\n",
    "quux = quux.type(gpu_int8)\n",
    "quux\n",
    "torch.split(quux, 1, dim=0)\n",
    "tuple(map(torch.prod, torch.split(quux, 1, dim=0) ))"
   ]
  },
  {
   "cell_type": "code",
   "execution_count": 181,
   "metadata": {
    "ExecuteTime": {
     "end_time": "2019-05-09T22:14:48.414488Z",
     "start_time": "2019-05-09T22:14:48.409597Z"
    }
   },
   "outputs": [],
   "source": [
    "def agree_mat_t(A,B):\n",
    "    '''\n",
    "    Given two matrices (torch tensors) A::(n,m) and B::(n,m), \n",
    "    return C::(n,1) where \n",
    "    C[i] = 1 iff A[i] and B[i] agree at all indices\n",
    "    and 0 otherwise.\n",
    "    '''\n",
    "    # (x == 0 or y == 0) or ((x != 0 and y != 0) and (x == y))\n",
    "    A_unspecified = A == 0\n",
    "    B_unspecified = B == 0\n",
    "    A_or_B_unspecified = A_unspecified | B_unspecified\n",
    "    \n",
    "    A_specified = A != 0\n",
    "    B_specified = B != 0\n",
    "    A_and_B_specified = A_specified & B_specified\n",
    "    A_equal_B = torch.eq(A,B)\n",
    "    A_B_both_specified_and_equal = A_and_B_specified & A_equal_B\n",
    "\n",
    "    ag = A_or_B_unspecified | A_B_both_specified_and_equal\n",
    "#     return ag\n",
    "#     result = np.prod(ag, axis=-1, dtype=myint)\n",
    "    result = torch.zeros([A.shape[0]],dtype=my_dtype)\n",
    "    result = torch.prod(ag, dim=1,dtype=my_dtype, out=result)\n",
    "#     result = ag.type(torch.cuda.ByteTensor).all()\n",
    "    return result#.type(my_torch_type)"
   ]
  },
  {
   "cell_type": "code",
   "execution_count": 153,
   "metadata": {
    "ExecuteTime": {
     "end_time": "2019-05-09T22:02:49.709898Z",
     "start_time": "2019-05-09T22:02:47.052289Z"
    }
   },
   "outputs": [
    {
     "name": "stdout",
     "output_type": "stream",
     "text": [
      "3.19 ms ± 114 µs per loop (mean ± std. dev. of 7 runs, 100 loops each)\n"
     ]
    }
   ],
   "source": [
    "%%timeit\n",
    "\n",
    "agree_mat(random_pair_stack_a, random_pair_stack_b)"
   ]
  },
  {
   "cell_type": "code",
   "execution_count": 154,
   "metadata": {
    "ExecuteTime": {
     "end_time": "2019-05-09T22:02:50.732788Z",
     "start_time": "2019-05-09T22:02:50.728779Z"
    }
   },
   "outputs": [],
   "source": [
    "random_pair_stack_a_t, random_pair_stack_b_t = t(random_pair_stack_a), t(random_pair_stack_b)"
   ]
  },
  {
   "cell_type": "code",
   "execution_count": 182,
   "metadata": {
    "ExecuteTime": {
     "end_time": "2019-05-09T22:14:54.531221Z",
     "start_time": "2019-05-09T22:14:52.699267Z"
    }
   },
   "outputs": [
    {
     "name": "stdout",
     "output_type": "stream",
     "text": [
      "221 µs ± 276 ns per loop (mean ± std. dev. of 7 runs, 1000 loops each)\n"
     ]
    }
   ],
   "source": [
    "%%timeit\n",
    "\n",
    "agree_mat_t(random_pair_stack_a_t, random_pair_stack_b_t)"
   ]
  },
  {
   "cell_type": "code",
   "execution_count": 186,
   "metadata": {
    "ExecuteTime": {
     "end_time": "2019-05-09T22:15:26.587025Z",
     "start_time": "2019-05-09T22:15:26.562868Z"
    }
   },
   "outputs": [
    {
     "data": {
      "text/plain": [
       "True"
      ]
     },
     "execution_count": 186,
     "metadata": {},
     "output_type": "execute_result"
    }
   ],
   "source": [
    "np.array_equal(\n",
    "    matrix_agree_result,\n",
    "    agree_mat_t(t(random_pair_stack_a), t(random_pair_stack_b)).cpu().type(torch.int16).numpy()\n",
    ")"
   ]
  },
  {
   "cell_type": "markdown",
   "metadata": {},
   "source": [
    "### Union"
   ]
  },
  {
   "cell_type": "code",
   "execution_count": 187,
   "metadata": {
    "ExecuteTime": {
     "end_time": "2019-05-09T22:15:27.843973Z",
     "start_time": "2019-05-09T22:15:27.841732Z"
    }
   },
   "outputs": [],
   "source": [
    "def union_t(u, v):\n",
    "#     if CAREFUL:\n",
    "#         assert agree_(u,v)\n",
    "    return torch.sign(u + v)"
   ]
  },
  {
   "cell_type": "code",
   "execution_count": 188,
   "metadata": {
    "ExecuteTime": {
     "end_time": "2019-05-09T22:15:37.869575Z",
     "start_time": "2019-05-09T22:15:30.973116Z"
    }
   },
   "outputs": [
    {
     "name": "stdout",
     "output_type": "stream",
     "text": [
      "84.4 µs ± 3.16 µs per loop (mean ± std. dev. of 7 runs, 10000 loops each)\n"
     ]
    }
   ],
   "source": [
    "%%timeit\n",
    "\n",
    "union(agreeing_pair_stack_a, agreeing_pair_stack_b)"
   ]
  },
  {
   "cell_type": "code",
   "execution_count": 189,
   "metadata": {
    "ExecuteTime": {
     "end_time": "2019-05-09T22:15:37.874279Z",
     "start_time": "2019-05-09T22:15:37.871103Z"
    }
   },
   "outputs": [],
   "source": [
    "agreeing_pair_stack_a_t, agreeing_pair_stack_b_t = t(agreeing_pair_stack_a), t(agreeing_pair_stack_b)"
   ]
  },
  {
   "cell_type": "code",
   "execution_count": 190,
   "metadata": {
    "ExecuteTime": {
     "end_time": "2019-05-09T22:15:39.571660Z",
     "start_time": "2019-05-09T22:15:37.875522Z"
    }
   },
   "outputs": [
    {
     "name": "stdout",
     "output_type": "stream",
     "text": [
      "20.2 µs ± 344 ns per loop (mean ± std. dev. of 7 runs, 10000 loops each)\n"
     ]
    }
   ],
   "source": [
    "%%timeit\n",
    "\n",
    "union_t(agreeing_pair_stack_a_t, agreeing_pair_stack_b_t)"
   ]
  },
  {
   "cell_type": "code",
   "execution_count": 191,
   "metadata": {
    "ExecuteTime": {
     "end_time": "2019-05-09T22:15:39.582897Z",
     "start_time": "2019-05-09T22:15:39.573394Z"
    }
   },
   "outputs": [
    {
     "data": {
      "text/plain": [
       "True"
      ]
     },
     "execution_count": 191,
     "metadata": {},
     "output_type": "execute_result"
    }
   ],
   "source": [
    "np.array_equal(\n",
    "    union(agreeing_pair_stack_a, agreeing_pair_stack_b),\n",
    "    union_t(t(agreeing_pair_stack_a), t(agreeing_pair_stack_b)).cpu().type(torch.int16).numpy()\n",
    ")"
   ]
  },
  {
   "cell_type": "markdown",
   "metadata": {},
   "source": [
    "### Intersection"
   ]
  },
  {
   "cell_type": "code",
   "execution_count": 192,
   "metadata": {
    "ExecuteTime": {
     "end_time": "2019-05-09T22:15:46.766227Z",
     "start_time": "2019-05-09T22:15:46.758287Z"
    }
   },
   "outputs": [
    {
     "ename": "NameError",
     "evalue": "name 'p' is not defined",
     "output_type": "error",
     "traceback": [
      "\u001b[0;31m---------------------------------------------------------------------------\u001b[0m",
      "\u001b[0;31mNameError\u001b[0m                                 Traceback (most recent call last)",
      "\u001b[0;32m<ipython-input-192-b90bbfe24029>\u001b[0m in \u001b[0;36m<module>\u001b[0;34m\u001b[0m\n\u001b[0;32m----> 1\u001b[0;31m \u001b[0mp_t\u001b[0m \u001b[0;34m=\u001b[0m \u001b[0mt\u001b[0m\u001b[0;34m(\u001b[0m\u001b[0mp\u001b[0m\u001b[0;34m)\u001b[0m\u001b[0;34m;\u001b[0m \u001b[0mp_t\u001b[0m\u001b[0;34m\u001b[0m\u001b[0;34m\u001b[0m\u001b[0m\n\u001b[0m\u001b[1;32m      2\u001b[0m \u001b[0mq_t\u001b[0m \u001b[0;34m=\u001b[0m \u001b[0mt\u001b[0m\u001b[0;34m(\u001b[0m\u001b[0mq\u001b[0m\u001b[0;34m)\u001b[0m\u001b[0;34m;\u001b[0m \u001b[0mq_t\u001b[0m\u001b[0;34m\u001b[0m\u001b[0;34m\u001b[0m\u001b[0m\n",
      "\u001b[0;31mNameError\u001b[0m: name 'p' is not defined"
     ]
    }
   ],
   "source": [
    "p_t = t(p); p_t\n",
    "q_t = t(q); q_t"
   ]
  },
  {
   "cell_type": "code",
   "execution_count": 207,
   "metadata": {
    "ExecuteTime": {
     "end_time": "2019-05-09T22:27:00.645244Z",
     "start_time": "2019-05-09T22:27:00.642249Z"
    }
   },
   "outputs": [],
   "source": [
    "def intersection_t(u, v):\n",
    "    #u, v should be CharTensors (int8)\n",
    "    \n",
    "    s = u + v\n",
    "    \n",
    "    #torch.eq will always return a ByteTensor (uint8)\n",
    "    e = torch.eq(u,v).type(torch.cuda.CharTensor)\n",
    "\n",
    "    p = e * s\n",
    "    \n",
    "    result = torch.sign(p)\n",
    "    return result\n",
    "#     return torch.sign(  torch.eq(u, v) * (u + v) )"
   ]
  },
  {
   "cell_type": "code",
   "execution_count": 210,
   "metadata": {
    "ExecuteTime": {
     "end_time": "2019-05-09T22:27:19.690396Z",
     "start_time": "2019-05-09T22:27:17.898850Z"
    }
   },
   "outputs": [
    {
     "name": "stdout",
     "output_type": "stream",
     "text": [
      "215 µs ± 18 µs per loop (mean ± std. dev. of 7 runs, 1000 loops each)\n"
     ]
    }
   ],
   "source": [
    "%%timeit\n",
    "\n",
    "intersection(random_pair_stack_a, random_pair_stack_b)"
   ]
  },
  {
   "cell_type": "code",
   "execution_count": 209,
   "metadata": {
    "ExecuteTime": {
     "end_time": "2019-05-09T22:27:13.652584Z",
     "start_time": "2019-05-09T22:27:08.367139Z"
    }
   },
   "outputs": [
    {
     "name": "stdout",
     "output_type": "stream",
     "text": [
      "65.1 µs ± 7.62 µs per loop (mean ± std. dev. of 7 runs, 10000 loops each)\n"
     ]
    }
   ],
   "source": [
    "%%timeit\n",
    "\n",
    "intersection_t(random_pair_stack_a_t, random_pair_stack_b_t)"
   ]
  },
  {
   "cell_type": "code",
   "execution_count": 211,
   "metadata": {
    "ExecuteTime": {
     "end_time": "2019-05-09T22:28:41.592122Z",
     "start_time": "2019-05-09T22:28:41.570551Z"
    }
   },
   "outputs": [
    {
     "data": {
      "text/plain": [
       "True"
      ]
     },
     "execution_count": 211,
     "metadata": {},
     "output_type": "execute_result"
    }
   ],
   "source": [
    "np.array_equal(\n",
    "    intersection(agreeing_pair_stack_a, agreeing_pair_stack_b),\n",
    "    intersection_t(t(agreeing_pair_stack_a), t(agreeing_pair_stack_b)).cpu().type(torch.int16).numpy()\n",
    ")"
   ]
  },
  {
   "cell_type": "markdown",
   "metadata": {},
   "source": [
    "### Extension"
   ]
  },
  {
   "cell_type": "code",
   "execution_count": 212,
   "metadata": {
    "ExecuteTime": {
     "end_time": "2019-05-09T22:28:47.476358Z",
     "start_time": "2019-05-09T22:28:47.473728Z"
    }
   },
   "outputs": [],
   "source": [
    "def extension_t(pfv):\n",
    "    return agree_mat_t(pfv, objectMap_t)"
   ]
  },
  {
   "cell_type": "code",
   "execution_count": 216,
   "metadata": {
    "ExecuteTime": {
     "end_time": "2019-05-09T22:31:18.136869Z",
     "start_time": "2019-05-09T22:30:57.836820Z"
    }
   },
   "outputs": [
    {
     "name": "stdout",
     "output_type": "stream",
     "text": [
      "2.54 s ± 26.4 ms per loop (mean ± std. dev. of 7 runs, 1 loop each)\n"
     ]
    }
   ],
   "source": [
    "%%timeit\n",
    "\n",
    "list(map(extension_, random_vectors))"
   ]
  },
  {
   "cell_type": "code",
   "execution_count": 217,
   "metadata": {
    "ExecuteTime": {
     "end_time": "2019-05-09T22:32:33.464009Z",
     "start_time": "2019-05-09T22:32:10.537759Z"
    }
   },
   "outputs": [
    {
     "name": "stdout",
     "output_type": "stream",
     "text": [
      "2.86 s ± 22.2 ms per loop (mean ± std. dev. of 7 runs, 1 loop each)\n"
     ]
    }
   ],
   "source": [
    "%%timeit\n",
    "\n",
    "np.apply_along_axis(extension_, axis=1, arr=random_vectors).shape"
   ]
  },
  {
   "cell_type": "code",
   "execution_count": 214,
   "metadata": {
    "ExecuteTime": {
     "end_time": "2019-05-09T22:29:10.697664Z",
     "start_time": "2019-05-09T22:29:10.656889Z"
    }
   },
   "outputs": [],
   "source": [
    "random_vectors_t = t(np.array(random_vectors))"
   ]
  },
  {
   "cell_type": "code",
   "execution_count": 215,
   "metadata": {
    "ExecuteTime": {
     "end_time": "2019-05-09T22:30:57.835283Z",
     "start_time": "2019-05-09T22:29:14.675683Z"
    }
   },
   "outputs": [
    {
     "name": "stdout",
     "output_type": "stream",
     "text": [
      "12.9 s ± 181 ms per loop (mean ± std. dev. of 7 runs, 1 loop each)\n"
     ]
    }
   ],
   "source": [
    "%%timeit\n",
    "\n",
    "list(map(extension_t, random_vectors_t))"
   ]
  },
  {
   "cell_type": "code",
   "execution_count": 218,
   "metadata": {
    "ExecuteTime": {
     "end_time": "2019-05-09T22:34:14.646148Z",
     "start_time": "2019-05-09T22:32:33.465880Z"
    }
   },
   "outputs": [
    {
     "name": "stdout",
     "output_type": "stream",
     "text": [
      "12.7 s ± 123 ms per loop (mean ± std. dev. of 7 runs, 1 loop each)\n"
     ]
    }
   ],
   "source": [
    "%%timeit\n",
    "\n",
    "torch.stack([extension_t(v) for v in torch.unbind(random_vectors_t, dim=0)])"
   ]
  },
  {
   "cell_type": "markdown",
   "metadata": {},
   "source": [
    "The `pytorch` cell time is probably terribly slow because of the `list` and `map` (or list comprehension) operations happening in Python and on/involving the CPU..."
   ]
  },
  {
   "cell_type": "code",
   "execution_count": 219,
   "metadata": {
    "ExecuteTime": {
     "end_time": "2019-05-09T22:34:16.979264Z",
     "start_time": "2019-05-09T22:34:14.647295Z"
    }
   },
   "outputs": [
    {
     "name": "stdout",
     "output_type": "stream",
     "text": [
      "28.8 µs ± 160 ns per loop (mean ± std. dev. of 7 runs, 10000 loops each)\n"
     ]
    }
   ],
   "source": [
    "%%timeit\n",
    "\n",
    "extension_(choice(random_vectors))"
   ]
  },
  {
   "cell_type": "code",
   "execution_count": 220,
   "metadata": {
    "ExecuteTime": {
     "end_time": "2019-05-09T22:34:27.927048Z",
     "start_time": "2019-05-09T22:34:16.981108Z"
    }
   },
   "outputs": [
    {
     "name": "stdout",
     "output_type": "stream",
     "text": [
      "134 µs ± 1.68 µs per loop (mean ± std. dev. of 7 runs, 10000 loops each)\n"
     ]
    }
   ],
   "source": [
    "%%timeit\n",
    "\n",
    "extension_t(choice(random_vectors_t))"
   ]
  },
  {
   "cell_type": "code",
   "execution_count": 221,
   "metadata": {
    "ExecuteTime": {
     "end_time": "2019-05-09T22:34:48.424178Z",
     "start_time": "2019-05-09T22:34:27.928598Z"
    }
   },
   "outputs": [
    {
     "name": "stdout",
     "output_type": "stream",
     "text": [
      "2.56 s ± 24.5 ms per loop (mean ± std. dev. of 7 runs, 1 loop each)\n"
     ]
    }
   ],
   "source": [
    "%%timeit\n",
    "\n",
    "for v in random_vectors:\n",
    "    extension_(v)"
   ]
  },
  {
   "cell_type": "code",
   "execution_count": 222,
   "metadata": {
    "ExecuteTime": {
     "end_time": "2019-05-09T22:36:34.279002Z",
     "start_time": "2019-05-09T22:34:48.425422Z"
    }
   },
   "outputs": [
    {
     "name": "stdout",
     "output_type": "stream",
     "text": [
      "13.2 s ± 307 ms per loop (mean ± std. dev. of 7 runs, 1 loop each)\n"
     ]
    }
   ],
   "source": [
    "%%timeit\n",
    "\n",
    "for v in random_vectors_t:\n",
    "    extension_t(v)"
   ]
  },
  {
   "cell_type": "code",
   "execution_count": 223,
   "metadata": {
    "ExecuteTime": {
     "end_time": "2019-05-09T22:36:34.282068Z",
     "start_time": "2019-05-09T22:36:34.280192Z"
    }
   },
   "outputs": [],
   "source": [
    "random_v = choice(random_vectors)"
   ]
  },
  {
   "cell_type": "code",
   "execution_count": 224,
   "metadata": {
    "ExecuteTime": {
     "end_time": "2019-05-09T22:36:36.435605Z",
     "start_time": "2019-05-09T22:36:34.283282Z"
    }
   },
   "outputs": [
    {
     "name": "stdout",
     "output_type": "stream",
     "text": [
      "25.3 µs ± 1.05 µs per loop (mean ± std. dev. of 7 runs, 10000 loops each)\n"
     ]
    }
   ],
   "source": [
    "%%timeit\n",
    "\n",
    "extension_(random_v)"
   ]
  },
  {
   "cell_type": "code",
   "execution_count": 225,
   "metadata": {
    "ExecuteTime": {
     "end_time": "2019-05-09T22:36:36.438844Z",
     "start_time": "2019-05-09T22:36:36.436861Z"
    }
   },
   "outputs": [],
   "source": [
    "random_v_t = t(random_v)"
   ]
  },
  {
   "cell_type": "code",
   "execution_count": 226,
   "metadata": {
    "ExecuteTime": {
     "end_time": "2019-05-09T22:36:46.636113Z",
     "start_time": "2019-05-09T22:36:36.440109Z"
    }
   },
   "outputs": [
    {
     "name": "stdout",
     "output_type": "stream",
     "text": [
      "125 µs ± 2.47 µs per loop (mean ± std. dev. of 7 runs, 10000 loops each)\n"
     ]
    }
   ],
   "source": [
    "%%timeit\n",
    "\n",
    "extension_t(random_v_t)"
   ]
  },
  {
   "cell_type": "code",
   "execution_count": 227,
   "metadata": {
    "ExecuteTime": {
     "end_time": "2019-05-09T22:37:13.817968Z",
     "start_time": "2019-05-09T22:36:46.637366Z"
    }
   },
   "outputs": [
    {
     "name": "stderr",
     "output_type": "stream",
     "text": [
      "\n",
      "\n",
      "  0%|          | 0/100000 [00:00<?, ?it/s]\u001b[A\u001b[A\n",
      "\n",
      "  0%|          | 387/100000 [00:00<00:25, 3866.00it/s]\u001b[A\u001b[A\n",
      "\n",
      "  1%|          | 697/100000 [00:00<00:27, 3587.71it/s]\u001b[A\u001b[A\n",
      "\n",
      "  1%|          | 1028/100000 [00:00<00:28, 3456.79it/s]\u001b[A\u001b[A\n",
      "\n",
      "  1%|▏         | 1372/100000 [00:00<00:28, 3450.51it/s]\u001b[A\u001b[A\n",
      "\n",
      "  2%|▏         | 1738/100000 [00:00<00:28, 3508.45it/s]\u001b[A\u001b[A\n",
      "\n",
      "  2%|▏         | 2117/100000 [00:00<00:27, 3587.37it/s]\u001b[A\u001b[A\n",
      "\n",
      "  2%|▏         | 2482/100000 [00:00<00:27, 3603.26it/s]\u001b[A\u001b[A\n",
      "\n",
      "  3%|▎         | 2850/100000 [00:00<00:26, 3625.15it/s]\u001b[A\u001b[A\n",
      "\n",
      "  3%|▎         | 3217/100000 [00:00<00:26, 3637.21it/s]\u001b[A\u001b[A\n",
      "\n",
      "  4%|▎         | 3585/100000 [00:01<00:26, 3648.02it/s]\u001b[A\u001b[A\n",
      "\n",
      "  4%|▍         | 3953/100000 [00:01<00:26, 3655.82it/s]\u001b[A\u001b[A\n",
      "\n",
      "  4%|▍         | 4321/100000 [00:01<00:26, 3661.04it/s]\u001b[A\u001b[A\n",
      "\n",
      "  5%|▍         | 4690/100000 [00:01<00:25, 3667.18it/s]\u001b[A\u001b[A\n",
      "\n",
      "  5%|▌         | 5057/100000 [00:01<00:25, 3667.38it/s]\u001b[A\u001b[A\n",
      "\n",
      "  5%|▌         | 5428/100000 [00:01<00:25, 3677.40it/s]\u001b[A\u001b[A\n",
      "\n",
      "  6%|▌         | 5794/100000 [00:01<00:25, 3665.27it/s]\u001b[A\u001b[A\n",
      "\n",
      "  6%|▌         | 6168/100000 [00:01<00:25, 3684.52it/s]\u001b[A\u001b[A\n",
      "\n",
      "  7%|▋         | 6543/100000 [00:01<00:25, 3702.94it/s]\u001b[A\u001b[A\n",
      "\n",
      "  7%|▋         | 6918/100000 [00:01<00:25, 3715.88it/s]\u001b[A\u001b[A\n",
      "\n",
      "  7%|▋         | 7296/100000 [00:02<00:24, 3732.82it/s]\u001b[A\u001b[A\n",
      "\n",
      "  8%|▊         | 7674/100000 [00:02<00:24, 3745.66it/s]\u001b[A\u001b[A\n",
      "\n",
      "  8%|▊         | 8067/100000 [00:02<00:24, 3796.95it/s]\u001b[A\u001b[A\n",
      "\n",
      "  8%|▊         | 8447/100000 [00:02<00:24, 3763.40it/s]\u001b[A\u001b[A\n",
      "\n",
      "  9%|▉         | 8824/100000 [00:02<00:24, 3735.00it/s]\u001b[A\u001b[A\n",
      "\n",
      "  9%|▉         | 9198/100000 [00:02<00:24, 3726.40it/s]\u001b[A\u001b[A\n",
      "\n",
      " 10%|▉         | 9571/100000 [00:02<00:24, 3716.52it/s]\u001b[A\u001b[A\n",
      "\n",
      " 10%|▉         | 9943/100000 [00:02<00:24, 3654.07it/s]\u001b[A\u001b[A\n",
      "\n",
      " 10%|█         | 10309/100000 [00:02<00:25, 3566.50it/s]\u001b[A\u001b[A\n",
      "\n",
      " 11%|█         | 10667/100000 [00:02<00:25, 3529.19it/s]\u001b[A\u001b[A\n",
      "\n",
      " 11%|█         | 11021/100000 [00:03<00:25, 3488.66it/s]\u001b[A\u001b[A\n",
      "\n",
      " 11%|█▏        | 11383/100000 [00:03<00:25, 3525.07it/s]\u001b[A\u001b[A\n",
      "\n",
      " 12%|█▏        | 11769/100000 [00:03<00:24, 3618.25it/s]\u001b[A\u001b[A\n",
      "\n",
      " 12%|█▏        | 12148/100000 [00:03<00:23, 3666.07it/s]\u001b[A\u001b[A\n",
      "\n",
      " 13%|█▎        | 12535/100000 [00:03<00:23, 3724.22it/s]\u001b[A\u001b[A\n",
      "\n",
      " 13%|█▎        | 12919/100000 [00:03<00:23, 3758.07it/s]\u001b[A\u001b[A\n",
      "\n",
      " 13%|█▎        | 13298/100000 [00:03<00:23, 3765.18it/s]\u001b[A\u001b[A\n",
      "\n",
      " 14%|█▎        | 13675/100000 [00:03<00:23, 3721.74it/s]\u001b[A\u001b[A\n",
      "\n",
      " 14%|█▍        | 14048/100000 [00:03<00:23, 3652.70it/s]\u001b[A\u001b[A\n",
      "\n",
      " 14%|█▍        | 14441/100000 [00:03<00:22, 3730.23it/s]\u001b[A\u001b[A\n",
      "\n",
      " 15%|█▍        | 14816/100000 [00:04<00:22, 3734.05it/s]\u001b[A\u001b[A\n",
      "\n",
      " 15%|█▌        | 15190/100000 [00:04<00:22, 3718.30it/s]\u001b[A\u001b[A\n",
      "\n",
      " 16%|█▌        | 15563/100000 [00:04<00:22, 3707.48it/s]\u001b[A\u001b[A\n",
      "\n",
      " 16%|█▌        | 15935/100000 [00:04<00:22, 3699.35it/s]\u001b[A\u001b[A\n",
      "\n",
      " 16%|█▋        | 16306/100000 [00:04<00:22, 3695.36it/s]\u001b[A\u001b[A\n",
      "\n",
      " 17%|█▋        | 16676/100000 [00:04<00:22, 3689.28it/s]\u001b[A\u001b[A\n",
      "\n",
      " 17%|█▋        | 17046/100000 [00:04<00:22, 3688.28it/s]\u001b[A\u001b[A\n",
      "\n",
      " 17%|█▋        | 17415/100000 [00:04<00:22, 3683.51it/s]\u001b[A\u001b[A\n",
      "\n",
      " 18%|█▊        | 17784/100000 [00:04<00:22, 3647.59it/s]\u001b[A\u001b[A\n",
      "\n",
      " 18%|█▊        | 18149/100000 [00:04<00:23, 3523.14it/s]\u001b[A\u001b[A\n",
      "\n",
      " 19%|█▊        | 18503/100000 [00:05<00:23, 3456.94it/s]\u001b[A\u001b[A\n",
      "\n",
      " 19%|█▉        | 18868/100000 [00:05<00:23, 3511.20it/s]\u001b[A\u001b[A\n",
      "\n",
      " 19%|█▉        | 19235/100000 [00:05<00:22, 3555.17it/s]\u001b[A\u001b[A\n",
      "\n",
      " 20%|█▉        | 19603/100000 [00:05<00:22, 3589.34it/s]\u001b[A\u001b[A\n",
      "\n",
      " 20%|█▉        | 19970/100000 [00:05<00:22, 3611.57it/s]\u001b[A\u001b[A\n",
      "\n",
      " 20%|██        | 20337/100000 [00:05<00:21, 3627.69it/s]\u001b[A\u001b[A\n",
      "\n",
      " 21%|██        | 20701/100000 [00:05<00:21, 3629.81it/s]\u001b[A\u001b[A\n",
      "\n",
      " 21%|██        | 21067/100000 [00:05<00:21, 3636.86it/s]\u001b[A\u001b[A\n",
      "\n",
      " 21%|██▏       | 21433/100000 [00:05<00:21, 3643.23it/s]\u001b[A\u001b[A\n",
      "\n",
      " 22%|██▏       | 21800/100000 [00:05<00:21, 3650.57it/s]\u001b[A\u001b[A\n",
      "\n",
      " 22%|██▏       | 22166/100000 [00:06<00:21, 3652.77it/s]\u001b[A\u001b[A\n",
      "\n",
      " 23%|██▎       | 22532/100000 [00:06<00:21, 3653.27it/s]\u001b[A\u001b[A\n",
      "\n",
      " 23%|██▎       | 22898/100000 [00:06<00:21, 3653.39it/s]\u001b[A\u001b[A\n",
      "\n",
      " 23%|██▎       | 23264/100000 [00:06<00:21, 3650.80it/s]\u001b[A\u001b[A\n",
      "\n",
      " 24%|██▎       | 23630/100000 [00:06<00:20, 3651.97it/s]\u001b[A\u001b[A\n",
      "\n",
      " 24%|██▍       | 23996/100000 [00:06<00:20, 3650.31it/s]\u001b[A\u001b[A\n",
      "\n",
      " 24%|██▍       | 24362/100000 [00:06<00:20, 3646.44it/s]\u001b[A\u001b[A\n",
      "\n",
      " 25%|██▍       | 24729/100000 [00:06<00:20, 3652.56it/s]\u001b[A\u001b[A\n",
      "\n",
      " 25%|██▌       | 25095/100000 [00:06<00:20, 3651.66it/s]\u001b[A\u001b[A\n",
      "\n",
      " 25%|██▌       | 25463/100000 [00:06<00:20, 3657.55it/s]\u001b[A\u001b[A\n",
      "\n",
      " 26%|██▌       | 25830/100000 [00:07<00:20, 3661.27it/s]\u001b[A\u001b[A\n",
      "\n",
      " 26%|██▌       | 26197/100000 [00:07<00:20, 3663.16it/s]\u001b[A\u001b[A\n",
      "\n",
      " 27%|██▋       | 26565/100000 [00:07<00:20, 3665.82it/s]\u001b[A\u001b[A\n",
      "\n",
      " 27%|██▋       | 26933/100000 [00:07<00:19, 3668.17it/s]\u001b[A\u001b[A\n",
      "\n",
      " 27%|██▋       | 27301/100000 [00:07<00:19, 3669.86it/s]\u001b[A\u001b[A\n",
      "\n",
      " 28%|██▊       | 27668/100000 [00:07<00:19, 3662.06it/s]\u001b[A\u001b[A\n",
      "\n",
      " 28%|██▊       | 28035/100000 [00:07<00:19, 3657.72it/s]\u001b[A\u001b[A\n",
      "\n",
      " 28%|██▊       | 28401/100000 [00:07<00:20, 3545.43it/s]\u001b[A\u001b[A\n",
      "\n",
      " 29%|██▉       | 28757/100000 [00:07<00:20, 3485.40it/s]\u001b[A\u001b[A\n",
      "\n",
      " 29%|██▉       | 29107/100000 [00:08<00:20, 3462.38it/s]\u001b[A\u001b[A\n",
      "\n",
      " 29%|██▉       | 29498/100000 [00:08<00:19, 3583.41it/s]\u001b[A\u001b[A\n",
      "\n",
      " 30%|██▉       | 29885/100000 [00:08<00:19, 3663.54it/s]\u001b[A\u001b[A\n",
      "\n",
      " 30%|███       | 30255/100000 [00:08<00:18, 3673.92it/s]\u001b[A\u001b[A\n",
      "\n",
      " 31%|███       | 30626/100000 [00:08<00:18, 3682.25it/s]\u001b[A\u001b[A\n",
      "\n",
      " 31%|███       | 30996/100000 [00:08<00:18, 3685.27it/s]\u001b[A\u001b[A\n",
      "\n",
      " 31%|███▏      | 31367/100000 [00:08<00:18, 3690.81it/s]\u001b[A\u001b[A\n",
      "\n",
      " 32%|███▏      | 31741/100000 [00:08<00:18, 3703.37it/s]\u001b[A\u001b[A\n",
      "\n",
      " 32%|███▏      | 32113/100000 [00:08<00:18, 3707.23it/s]\u001b[A\u001b[A\n",
      "\n",
      " 32%|███▏      | 32485/100000 [00:08<00:18, 3708.72it/s]\u001b[A\u001b[A\n",
      "\n",
      " 33%|███▎      | 32858/100000 [00:09<00:18, 3713.97it/s]\u001b[A\u001b[A\n",
      "\n",
      " 33%|███▎      | 33230/100000 [00:09<00:17, 3711.58it/s]\u001b[A\u001b[A\n",
      "\n",
      " 34%|███▎      | 33603/100000 [00:09<00:17, 3716.61it/s]\u001b[A\u001b[A\n",
      "\n",
      " 34%|███▍      | 33975/100000 [00:09<00:17, 3706.04it/s]\u001b[A\u001b[A\n",
      "\n",
      " 34%|███▍      | 34346/100000 [00:09<00:18, 3604.85it/s]\u001b[A\u001b[A\n",
      "\n",
      " 35%|███▍      | 34708/100000 [00:09<00:18, 3550.95it/s]\u001b[A\u001b[A\n",
      "\n",
      " 35%|███▌      | 35072/100000 [00:09<00:18, 3576.94it/s]\u001b[A\u001b[A\n",
      "\n",
      " 35%|███▌      | 35445/100000 [00:09<00:17, 3620.53it/s]\u001b[A\u001b[A\n",
      "\n",
      " 36%|███▌      | 35818/100000 [00:09<00:17, 3651.34it/s]\u001b[A\u001b[A\n",
      "\n",
      " 36%|███▌      | 36189/100000 [00:09<00:17, 3665.86it/s]\u001b[A\u001b[A\n",
      "\n",
      " 37%|███▋      | 36559/100000 [00:10<00:17, 3675.38it/s]\u001b[A\u001b[A\n",
      "\n",
      " 37%|███▋      | 36929/100000 [00:10<00:17, 3682.08it/s]\u001b[A\u001b[A\n",
      "\n",
      " 37%|███▋      | 37298/100000 [00:10<00:17, 3582.41it/s]\u001b[A\u001b[A\n",
      "\n",
      " 38%|███▊      | 37657/100000 [00:10<00:17, 3530.50it/s]\u001b[A\u001b[A\n",
      "\n",
      " 38%|███▊      | 38036/100000 [00:10<00:17, 3602.17it/s]\u001b[A\u001b[A\n",
      "\n",
      " 38%|███▊      | 38430/100000 [00:10<00:16, 3696.82it/s]\u001b[A\u001b[A\n",
      "\n",
      " 39%|███▉      | 38819/100000 [00:10<00:16, 3752.66it/s]\u001b[A\u001b[A\n",
      "\n",
      " 39%|███▉      | 39209/100000 [00:10<00:16, 3794.57it/s]\u001b[A\u001b[A\n",
      "\n",
      " 40%|███▉      | 39608/100000 [00:10<00:15, 3849.47it/s]\u001b[A\u001b[A\n",
      "\n",
      " 40%|███▉      | 39994/100000 [00:10<00:15, 3824.09it/s]\u001b[A\u001b[A\n",
      "\n",
      " 40%|████      | 40377/100000 [00:11<00:15, 3780.56it/s]\u001b[A\u001b[A\n",
      "\n",
      " 41%|████      | 40756/100000 [00:11<00:15, 3751.46it/s]\u001b[A\u001b[A\n",
      "\n",
      " 41%|████      | 41132/100000 [00:11<00:15, 3730.94it/s]\u001b[A\u001b[A\n",
      "\n",
      " 42%|████▏     | 41506/100000 [00:11<00:15, 3717.42it/s]\u001b[A\u001b[A\n",
      "\n",
      " 42%|████▏     | 41900/100000 [00:11<00:15, 3779.50it/s]\u001b[A\u001b[A\n",
      "\n",
      " 42%|████▏     | 42295/100000 [00:11<00:15, 3826.52it/s]\u001b[A\u001b[A\n",
      "\n",
      " 43%|████▎     | 42688/100000 [00:11<00:14, 3856.66it/s]\u001b[A\u001b[A\n",
      "\n",
      " 43%|████▎     | 43075/100000 [00:11<00:14, 3831.81it/s]\u001b[A\u001b[A\n",
      "\n",
      " 43%|████▎     | 43468/100000 [00:11<00:14, 3860.23it/s]\u001b[A\u001b[A\n",
      "\n",
      " 44%|████▍     | 43861/100000 [00:11<00:14, 3878.40it/s]\u001b[A\u001b[A\n",
      "\n",
      " 44%|████▍     | 44253/100000 [00:12<00:14, 3890.14it/s]\u001b[A\u001b[A\n",
      "\n",
      " 45%|████▍     | 44645/100000 [00:12<00:14, 3897.27it/s]\u001b[A\u001b[A\n",
      "\n",
      " 45%|████▌     | 45035/100000 [00:12<00:14, 3861.95it/s]\u001b[A\u001b[A\n",
      "\n",
      " 45%|████▌     | 45427/100000 [00:12<00:14, 3878.26it/s]\u001b[A\u001b[A\n",
      "\n",
      " 46%|████▌     | 45820/100000 [00:12<00:13, 3892.11it/s]\u001b[A\u001b[A\n",
      "\n",
      " 46%|████▌     | 46214/100000 [00:12<00:13, 3904.65it/s]\u001b[A\u001b[A\n",
      "\n",
      " 47%|████▋     | 46605/100000 [00:12<00:13, 3905.76it/s]\u001b[A\u001b[A\n",
      "\n",
      " 47%|████▋     | 46996/100000 [00:12<00:13, 3884.96it/s]\u001b[A\u001b[A\n",
      "\n",
      " 47%|████▋     | 47385/100000 [00:12<00:13, 3870.36it/s]\u001b[A\u001b[A\n",
      "\n"
     ]
    },
    {
     "name": "stderr",
     "output_type": "stream",
     "text": [
      " 48%|████▊     | 47776/100000 [00:12<00:13, 3880.03it/s]\u001b[A\u001b[A\n",
      "\n",
      " 48%|████▊     | 48165/100000 [00:13<00:13, 3798.31it/s]\u001b[A\u001b[A\n",
      "\n",
      " 49%|████▊     | 48546/100000 [00:13<00:13, 3717.54it/s]\u001b[A\u001b[A\n",
      "\n",
      " 49%|████▉     | 48919/100000 [00:13<00:13, 3683.49it/s]\u001b[A\u001b[A\n",
      "\n",
      " 49%|████▉     | 49288/100000 [00:13<00:13, 3670.29it/s]\u001b[A\u001b[A\n",
      "\n",
      " 50%|████▉     | 49656/100000 [00:13<00:13, 3660.22it/s]\u001b[A\u001b[A\n",
      "\n",
      " 50%|█████     | 50023/100000 [00:13<00:13, 3657.99it/s]\u001b[A\u001b[A\n",
      "\n",
      " 50%|█████     | 50389/100000 [00:13<00:13, 3656.28it/s]\u001b[A\u001b[A\n",
      "\n",
      " 51%|█████     | 50757/100000 [00:13<00:13, 3662.67it/s]\u001b[A\u001b[A\n",
      "\n",
      " 51%|█████     | 51126/100000 [00:13<00:13, 3669.79it/s]\u001b[A\u001b[A\n",
      "\n",
      " 51%|█████▏    | 51495/100000 [00:13<00:13, 3674.47it/s]\u001b[A\u001b[A\n",
      "\n",
      " 52%|█████▏    | 51863/100000 [00:14<00:13, 3673.83it/s]\u001b[A\u001b[A\n",
      "\n",
      " 52%|█████▏    | 52231/100000 [00:14<00:13, 3632.90it/s]\u001b[A\u001b[A\n",
      "\n",
      " 53%|█████▎    | 52606/100000 [00:14<00:12, 3666.04it/s]\u001b[A\u001b[A\n",
      "\n",
      " 53%|█████▎    | 52973/100000 [00:14<00:12, 3650.55it/s]\u001b[A\u001b[A\n",
      "\n",
      " 53%|█████▎    | 53339/100000 [00:14<00:12, 3620.16it/s]\u001b[A\u001b[A\n",
      "\n",
      " 54%|█████▎    | 53718/100000 [00:14<00:12, 3667.61it/s]\u001b[A\u001b[A\n",
      "\n",
      " 54%|█████▍    | 54086/100000 [00:14<00:12, 3664.69it/s]\u001b[A\u001b[A\n",
      "\n",
      " 54%|█████▍    | 54453/100000 [00:14<00:12, 3654.77it/s]\u001b[A\u001b[A\n",
      "\n",
      " 55%|█████▍    | 54819/100000 [00:14<00:12, 3650.80it/s]\u001b[A\u001b[A\n",
      "\n",
      " 55%|█████▌    | 55185/100000 [00:15<00:12, 3585.91it/s]\u001b[A\u001b[A\n",
      "\n",
      " 56%|█████▌    | 55550/100000 [00:15<00:12, 3602.47it/s]\u001b[A\u001b[A\n",
      "\n",
      " 56%|█████▌    | 55911/100000 [00:15<00:12, 3556.66it/s]\u001b[A\u001b[A\n",
      "\n",
      " 56%|█████▋    | 56267/100000 [00:15<00:12, 3554.05it/s]\u001b[A\u001b[A\n",
      "\n",
      " 57%|█████▋    | 56631/100000 [00:15<00:12, 3578.36it/s]\u001b[A\u001b[A\n",
      "\n",
      " 57%|█████▋    | 57004/100000 [00:15<00:11, 3620.85it/s]\u001b[A\u001b[A\n",
      "\n",
      " 57%|█████▋    | 57374/100000 [00:15<00:11, 3643.50it/s]\u001b[A\u001b[A\n",
      "\n",
      " 58%|█████▊    | 57744/100000 [00:15<00:11, 3658.82it/s]\u001b[A\u001b[A\n",
      "\n",
      " 58%|█████▊    | 58111/100000 [00:15<00:11, 3648.83it/s]\u001b[A\u001b[A\n",
      "\n",
      " 58%|█████▊    | 58477/100000 [00:15<00:11, 3571.19it/s]\u001b[A\u001b[A\n",
      "\n",
      " 59%|█████▉    | 58835/100000 [00:16<00:11, 3563.65it/s]\u001b[A\u001b[A\n",
      "\n",
      " 59%|█████▉    | 59192/100000 [00:16<00:11, 3519.84it/s]\u001b[A\u001b[A\n",
      "\n",
      " 60%|█████▉    | 59545/100000 [00:16<00:11, 3511.48it/s]\u001b[A\u001b[A\n",
      "\n",
      " 60%|█████▉    | 59916/100000 [00:16<00:11, 3567.66it/s]\u001b[A\u001b[A\n",
      "\n",
      " 60%|██████    | 60283/100000 [00:16<00:11, 3595.23it/s]\u001b[A\u001b[A\n",
      "\n",
      " 61%|██████    | 60643/100000 [00:16<00:11, 3561.44it/s]\u001b[A\u001b[A\n",
      "\n",
      " 61%|██████    | 61000/100000 [00:16<00:11, 3514.92it/s]\u001b[A\u001b[A\n",
      "\n",
      " 61%|██████▏   | 61352/100000 [00:16<00:11, 3487.67it/s]\u001b[A\u001b[A\n",
      "\n",
      " 62%|██████▏   | 61723/100000 [00:16<00:10, 3549.69it/s]\u001b[A\u001b[A\n",
      "\n",
      " 62%|██████▏   | 62093/100000 [00:16<00:10, 3591.84it/s]\u001b[A\u001b[A\n",
      "\n",
      " 62%|██████▏   | 62488/100000 [00:17<00:10, 3691.14it/s]\u001b[A\u001b[A\n",
      "\n",
      " 63%|██████▎   | 62883/100000 [00:17<00:09, 3763.10it/s]\u001b[A\u001b[A\n",
      "\n",
      " 63%|██████▎   | 63278/100000 [00:17<00:09, 3814.64it/s]\u001b[A\u001b[A\n",
      "\n",
      " 64%|██████▎   | 63666/100000 [00:17<00:09, 3832.40it/s]\u001b[A\u001b[A\n",
      "\n",
      " 64%|██████▍   | 64056/100000 [00:17<00:09, 3851.71it/s]\u001b[A\u001b[A\n",
      "\n",
      " 64%|██████▍   | 64448/100000 [00:17<00:09, 3869.89it/s]\u001b[A\u001b[A\n",
      "\n",
      " 65%|██████▍   | 64840/100000 [00:17<00:09, 3883.76it/s]\u001b[A\u001b[A\n",
      "\n",
      " 65%|██████▌   | 65229/100000 [00:17<00:09, 3835.81it/s]\u001b[A\u001b[A\n",
      "\n",
      " 66%|██████▌   | 65623/100000 [00:17<00:08, 3866.42it/s]\u001b[A\u001b[A\n",
      "\n",
      " 66%|██████▌   | 66020/100000 [00:17<00:08, 3895.63it/s]\u001b[A\u001b[A\n",
      "\n",
      " 66%|██████▋   | 66415/100000 [00:18<00:08, 3908.81it/s]\u001b[A\u001b[A\n",
      "\n",
      " 67%|██████▋   | 66807/100000 [00:18<00:08, 3821.58it/s]\u001b[A\u001b[A\n",
      "\n",
      " 67%|██████▋   | 67190/100000 [00:18<00:09, 3616.20it/s]\u001b[A\u001b[A\n",
      "\n",
      " 68%|██████▊   | 67565/100000 [00:18<00:08, 3655.02it/s]\u001b[A\u001b[A\n",
      "\n",
      " 68%|██████▊   | 67958/100000 [00:18<00:08, 3731.17it/s]\u001b[A\u001b[A\n",
      "\n",
      " 68%|██████▊   | 68333/100000 [00:18<00:08, 3707.68it/s]\u001b[A\u001b[A\n",
      "\n",
      " 69%|██████▊   | 68706/100000 [00:18<00:08, 3691.82it/s]\u001b[A\u001b[A\n",
      "\n",
      " 69%|██████▉   | 69077/100000 [00:18<00:08, 3683.71it/s]\u001b[A\u001b[A\n",
      "\n",
      " 69%|██████▉   | 69447/100000 [00:18<00:08, 3681.35it/s]\u001b[A\u001b[A\n",
      "\n",
      " 70%|██████▉   | 69820/100000 [00:18<00:08, 3693.44it/s]\u001b[A\u001b[A\n",
      "\n",
      " 70%|███████   | 70192/100000 [00:19<00:08, 3700.22it/s]\u001b[A\u001b[A\n",
      "\n",
      " 71%|███████   | 70563/100000 [00:19<00:07, 3702.84it/s]\u001b[A\u001b[A\n",
      "\n",
      " 71%|███████   | 70934/100000 [00:19<00:07, 3703.54it/s]\u001b[A\u001b[A\n",
      "\n",
      " 71%|███████▏  | 71305/100000 [00:19<00:07, 3704.88it/s]\u001b[A\u001b[A\n",
      "\n",
      " 72%|███████▏  | 71676/100000 [00:19<00:07, 3701.68it/s]\u001b[A\u001b[A\n",
      "\n",
      " 72%|███████▏  | 72048/100000 [00:19<00:07, 3705.22it/s]\u001b[A\u001b[A\n",
      "\n",
      " 72%|███████▏  | 72419/100000 [00:19<00:07, 3703.80it/s]\u001b[A\u001b[A\n",
      "\n",
      " 73%|███████▎  | 72790/100000 [00:19<00:07, 3701.56it/s]\u001b[A\u001b[A\n",
      "\n",
      " 73%|███████▎  | 73161/100000 [00:19<00:07, 3701.19it/s]\u001b[A\u001b[A\n",
      "\n",
      " 74%|███████▎  | 73532/100000 [00:19<00:07, 3698.67it/s]\u001b[A\u001b[A\n",
      "\n",
      " 74%|███████▍  | 73902/100000 [00:20<00:07, 3699.04it/s]\u001b[A\u001b[A\n",
      "\n",
      " 74%|███████▍  | 74272/100000 [00:20<00:07, 3594.77it/s]\u001b[A\u001b[A\n",
      "\n",
      " 75%|███████▍  | 74633/100000 [00:20<00:07, 3532.26it/s]\u001b[A\u001b[A\n",
      "\n",
      " 75%|███████▍  | 74987/100000 [00:20<00:07, 3512.32it/s]\u001b[A\u001b[A\n",
      "\n",
      " 75%|███████▌  | 75350/100000 [00:20<00:06, 3545.15it/s]\u001b[A\u001b[A\n",
      "\n",
      " 76%|███████▌  | 75717/100000 [00:20<00:06, 3579.53it/s]\u001b[A\u001b[A\n",
      "\n",
      " 76%|███████▌  | 76078/100000 [00:20<00:06, 3587.78it/s]\u001b[A\u001b[A\n",
      "\n",
      " 76%|███████▋  | 76470/100000 [00:20<00:06, 3681.17it/s]\u001b[A\u001b[A\n",
      "\n",
      " 77%|███████▋  | 76855/100000 [00:20<00:06, 3728.98it/s]\u001b[A\u001b[A\n",
      "\n",
      " 77%|███████▋  | 77230/100000 [00:20<00:06, 3733.78it/s]\u001b[A\u001b[A\n",
      "\n",
      " 78%|███████▊  | 77604/100000 [00:21<00:06, 3725.35it/s]\u001b[A\u001b[A\n",
      "\n",
      " 78%|███████▊  | 77977/100000 [00:21<00:05, 3719.60it/s]\u001b[A\u001b[A\n",
      "\n",
      " 78%|███████▊  | 78350/100000 [00:21<00:05, 3715.59it/s]\u001b[A\u001b[A\n",
      "\n",
      " 79%|███████▊  | 78722/100000 [00:21<00:05, 3714.07it/s]\u001b[A\u001b[A\n",
      "\n",
      " 79%|███████▉  | 79094/100000 [00:21<00:05, 3713.10it/s]\u001b[A\u001b[A\n",
      "\n",
      " 79%|███████▉  | 79466/100000 [00:21<00:05, 3712.72it/s]\u001b[A\u001b[A\n",
      "\n",
      " 80%|███████▉  | 79838/100000 [00:21<00:05, 3671.66it/s]\u001b[A\u001b[A\n",
      "\n",
      " 80%|████████  | 80206/100000 [00:21<00:05, 3596.81it/s]\u001b[A\u001b[A\n",
      "\n",
      " 81%|████████  | 80567/100000 [00:21<00:05, 3556.48it/s]\u001b[A\u001b[A\n",
      "\n",
      " 81%|████████  | 80953/100000 [00:22<00:05, 3642.19it/s]\u001b[A\u001b[A\n",
      "\n",
      " 81%|████████▏ | 81335/100000 [00:22<00:05, 3693.32it/s]\u001b[A\u001b[A\n",
      "\n",
      " 82%|████████▏ | 81718/100000 [00:22<00:04, 3730.51it/s]\u001b[A\u001b[A\n",
      "\n",
      " 82%|████████▏ | 82095/100000 [00:22<00:04, 3739.81it/s]\u001b[A\u001b[A\n",
      "\n",
      " 82%|████████▏ | 82475/100000 [00:22<00:04, 3755.12it/s]\u001b[A\u001b[A\n",
      "\n",
      " 83%|████████▎ | 82853/100000 [00:22<00:04, 3759.78it/s]\u001b[A\u001b[A\n",
      "\n",
      " 83%|████████▎ | 83230/100000 [00:22<00:04, 3732.78it/s]\u001b[A\u001b[A\n",
      "\n",
      " 84%|████████▎ | 83612/100000 [00:22<00:04, 3757.47it/s]\u001b[A\u001b[A\n",
      "\n",
      " 84%|████████▍ | 83988/100000 [00:22<00:04, 3735.68it/s]\u001b[A\u001b[A\n",
      "\n",
      " 84%|████████▍ | 84364/100000 [00:22<00:04, 3740.98it/s]\u001b[A\u001b[A\n",
      "\n",
      " 85%|████████▍ | 84751/100000 [00:23<00:04, 3778.23it/s]\u001b[A\u001b[A\n",
      "\n",
      " 85%|████████▌ | 85129/100000 [00:23<00:03, 3731.98it/s]\u001b[A\u001b[A\n",
      "\n",
      " 86%|████████▌ | 85503/100000 [00:23<00:03, 3710.93it/s]\u001b[A\u001b[A\n",
      "\n",
      " 86%|████████▌ | 85875/100000 [00:23<00:03, 3620.90it/s]\u001b[A\u001b[A\n",
      "\n",
      " 86%|████████▌ | 86245/100000 [00:23<00:03, 3642.78it/s]\u001b[A\u001b[A\n",
      "\n",
      " 87%|████████▋ | 86625/100000 [00:23<00:03, 3686.30it/s]\u001b[A\u001b[A\n",
      "\n",
      " 87%|████████▋ | 86995/100000 [00:23<00:03, 3651.39it/s]\u001b[A\u001b[A\n",
      "\n",
      " 87%|████████▋ | 87362/100000 [00:23<00:03, 3655.89it/s]\u001b[A\u001b[A\n",
      "\n",
      " 88%|████████▊ | 87744/100000 [00:23<00:03, 3701.88it/s]\u001b[A\u001b[A\n",
      "\n",
      " 88%|████████▊ | 88115/100000 [00:23<00:03, 3689.00it/s]\u001b[A\u001b[A\n",
      "\n",
      " 88%|████████▊ | 88485/100000 [00:24<00:03, 3677.45it/s]\u001b[A\u001b[A\n",
      "\n",
      " 89%|████████▉ | 88854/100000 [00:24<00:03, 3678.70it/s]\u001b[A\u001b[A\n",
      "\n",
      " 89%|████████▉ | 89232/100000 [00:24<00:02, 3706.42it/s]\u001b[A\u001b[A\n",
      "\n",
      " 90%|████████▉ | 89603/100000 [00:24<00:02, 3675.45it/s]\u001b[A\u001b[A\n",
      "\n",
      " 90%|████████▉ | 89971/100000 [00:24<00:02, 3673.75it/s]\u001b[A\u001b[A\n",
      "\n",
      " 90%|█████████ | 90342/100000 [00:24<00:02, 3684.14it/s]\u001b[A\u001b[A\n",
      "\n",
      " 91%|█████████ | 90711/100000 [00:24<00:02, 3678.05it/s]\u001b[A\u001b[A\n",
      "\n",
      " 91%|█████████ | 91082/100000 [00:24<00:02, 3686.01it/s]\u001b[A\u001b[A\n",
      "\n",
      " 91%|█████████▏| 91451/100000 [00:24<00:02, 3686.73it/s]\u001b[A\u001b[A\n",
      "\n",
      " 92%|█████████▏| 91821/100000 [00:24<00:02, 3690.47it/s]\u001b[A\u001b[A\n",
      "\n",
      " 92%|█████████▏| 92191/100000 [00:25<00:02, 3691.99it/s]\u001b[A\u001b[A\n",
      "\n",
      " 93%|█████████▎| 92561/100000 [00:25<00:02, 3597.59it/s]\u001b[A\u001b[A\n",
      "\n",
      " 93%|█████████▎| 92922/100000 [00:25<00:01, 3540.71it/s]\u001b[A\u001b[A\n",
      "\n",
      " 93%|█████████▎| 93288/100000 [00:25<00:01, 3574.20it/s]\u001b[A\u001b[A\n",
      "\n",
      " 94%|█████████▎| 93660/100000 [00:25<00:01, 3615.74it/s]\u001b[A\u001b[A\n",
      "\n",
      " 94%|█████████▍| 94031/100000 [00:25<00:01, 3641.49it/s]\u001b[A\u001b[A\n",
      "\n",
      " 94%|█████████▍| 94401/100000 [00:25<00:01, 3656.15it/s]\u001b[A\u001b[A\n",
      "\n",
      " 95%|█████████▍| 94772/100000 [00:25<00:01, 3671.47it/s]\u001b[A\u001b[A\n",
      "\n",
      " 95%|█████████▌| 95144/100000 [00:25<00:01, 3684.97it/s]\u001b[A\u001b[A\n",
      "\n"
     ]
    },
    {
     "name": "stderr",
     "output_type": "stream",
     "text": [
      " 96%|█████████▌| 95515/100000 [00:25<00:01, 3691.54it/s]\u001b[A\u001b[A\n",
      "\n",
      " 96%|█████████▌| 95885/100000 [00:26<00:01, 3681.73it/s]\u001b[A\u001b[A\n",
      "\n",
      " 96%|█████████▋| 96267/100000 [00:26<00:01, 3721.41it/s]\u001b[A\u001b[A\n",
      "\n",
      " 97%|█████████▋| 96640/100000 [00:26<00:00, 3703.70it/s]\u001b[A\u001b[A\n",
      "\n",
      " 97%|█████████▋| 97011/100000 [00:26<00:00, 3681.76it/s]\u001b[A\u001b[A\n",
      "\n",
      " 97%|█████████▋| 97380/100000 [00:26<00:00, 3660.01it/s]\u001b[A\u001b[A\n",
      "\n",
      " 98%|█████████▊| 97747/100000 [00:26<00:00, 3662.71it/s]\u001b[A\u001b[A\n",
      "\n",
      " 98%|█████████▊| 98120/100000 [00:26<00:00, 3682.14it/s]\u001b[A\u001b[A\n",
      "\n",
      " 98%|█████████▊| 98492/100000 [00:26<00:00, 3693.40it/s]\u001b[A\u001b[A\n",
      "\n",
      " 99%|█████████▉| 98865/100000 [00:26<00:00, 3701.93it/s]\u001b[A\u001b[A\n",
      "\n",
      " 99%|█████████▉| 99238/100000 [00:26<00:00, 3708.43it/s]\u001b[A\u001b[A\n",
      "\n",
      "100%|█████████▉| 99610/100000 [00:27<00:00, 3711.02it/s]\u001b[A\u001b[A\n",
      "\n",
      "100%|█████████▉| 99982/100000 [00:27<00:00, 3709.98it/s]\u001b[A\u001b[A\n",
      "\n",
      "100%|██████████| 100000/100000 [00:27<00:00, 3679.72it/s]\u001b[A\u001b[A"
     ]
    }
   ],
   "source": [
    "for p in tqdm(random_vectors):\n",
    "    assert np.array_equal(extension_(p), extension_t(t(p)).cpu().type(torch.int16).numpy()), 'Disagreement on {0}: {1} vs. {2}'.format(p, extension_(p), extension_t(t(p)))"
   ]
  },
  {
   "cell_type": "markdown",
   "metadata": {},
   "source": [
    "### Conclusion"
   ]
  },
  {
   "cell_type": "markdown",
   "metadata": {},
   "source": [
    "At a relatively low number of features (`m = 3`)...\n",
    " - `agreement` checking of entire matrices is ≈10x faster using `pytorch`+a GPU than using `numpy`.\n",
    " - `union` and `intersection` are about as fast in both implementations\n",
    " - `extension` seems abominably slower in pytorch than in numpy. Since `extension_t` is just a wrapper around `agree_mat_t`, and `agree_mat_t` is substantially faster than the numpy version, I think the explanation probably has something to do with inefficiencies in broadcasting. I'm not sure if there's anything I can do about that."
   ]
  }
 ],
 "metadata": {
  "kernelspec": {
   "display_name": "Python 3",
   "language": "python",
   "name": "python3"
  },
  "language_info": {
   "codemirror_mode": {
    "name": "ipython",
    "version": 3
   },
   "file_extension": ".py",
   "mimetype": "text/x-python",
   "name": "python",
   "nbconvert_exporter": "python",
   "pygments_lexer": "ipython3",
   "version": "3.6.8"
  },
  "toc": {
   "base_numbering": 1,
   "nav_menu": {},
   "number_sections": true,
   "sideBar": true,
   "skip_h1_title": false,
   "title_cell": "Table of Contents",
   "title_sidebar": "Contents",
   "toc_cell": true,
   "toc_position": {
    "height": "calc(100% - 180px)",
    "left": "10px",
    "top": "150px",
    "width": "384px"
   },
   "toc_section_display": true,
   "toc_window_display": true
  }
 },
 "nbformat": 4,
 "nbformat_minor": 2
}
