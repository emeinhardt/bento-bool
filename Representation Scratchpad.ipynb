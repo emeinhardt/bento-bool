{
 "cells": [
  {
   "cell_type": "code",
   "execution_count": 1,
   "metadata": {
    "ExecuteTime": {
     "end_time": "2019-05-12T21:26:44.681195Z",
     "start_time": "2019-05-12T21:26:44.673640Z"
    }
   },
   "outputs": [],
   "source": [
    "#Prints **all** console output, not just last item in cell \n",
    "from IPython.core.interactiveshell import InteractiveShell\n",
    "InteractiveShell.ast_node_interactivity = \"all\""
   ]
  },
  {
   "cell_type": "markdown",
   "metadata": {},
   "source": [
    "**Eric Meinhardt / emeinhardt@ucsd.edu**"
   ]
  },
  {
   "cell_type": "markdown",
   "metadata": {
    "toc": true
   },
   "source": [
    "<h1>Table of Contents<span class=\"tocSkip\"></span></h1>\n",
    "<div class=\"toc\"><ul class=\"toc-item\"><li><span><a href=\"#Overview\" data-toc-modified-id=\"Overview-1\"><span class=\"toc-item-num\">1&nbsp;&nbsp;</span>Overview</a></span></li><li><span><a href=\"#Comparison-of-basic-representations-and-operations\" data-toc-modified-id=\"Comparison-of-basic-representations-and-operations-2\"><span class=\"toc-item-num\">2&nbsp;&nbsp;</span>Comparison of basic representations and operations</a></span><ul class=\"toc-item\"><li><span><a href=\"#Baseline-representation-of-partial-feature-vectors\" data-toc-modified-id=\"Baseline-representation-of-partial-feature-vectors-2.1\"><span class=\"toc-item-num\">2.1&nbsp;&nbsp;</span>Baseline representation of partial feature vectors</a></span><ul class=\"toc-item\"><li><span><a href=\"#Overhead---generation,-well-formedness,-uniquification\" data-toc-modified-id=\"Overhead---generation,-well-formedness,-uniquification-2.1.1\"><span class=\"toc-item-num\">2.1.1&nbsp;&nbsp;</span>Overhead - generation, well-formedness, uniquification</a></span></li><li><span><a href=\"#Agreement\" data-toc-modified-id=\"Agreement-2.1.2\"><span class=\"toc-item-num\">2.1.2&nbsp;&nbsp;</span>Agreement</a></span></li><li><span><a href=\"#Union\" data-toc-modified-id=\"Union-2.1.3\"><span class=\"toc-item-num\">2.1.3&nbsp;&nbsp;</span>Union</a></span></li><li><span><a href=\"#Intersection\" data-toc-modified-id=\"Intersection-2.1.4\"><span class=\"toc-item-num\">2.1.4&nbsp;&nbsp;</span>Intersection</a></span></li><li><span><a href=\"#Extension\" data-toc-modified-id=\"Extension-2.1.5\"><span class=\"toc-item-num\">2.1.5&nbsp;&nbsp;</span>Extension</a></span></li></ul></li><li><span><a href=\"#Specification-array-+-value-array\" data-toc-modified-id=\"Specification-array-+-value-array-2.2\"><span class=\"toc-item-num\">2.2&nbsp;&nbsp;</span>Specification array + value array</a></span><ul class=\"toc-item\"><li><span><a href=\"#Converting-between-representations\" data-toc-modified-id=\"Converting-between-representations-2.2.1\"><span class=\"toc-item-num\">2.2.1&nbsp;&nbsp;</span>Converting between representations</a></span></li><li><span><a href=\"#Operations\" data-toc-modified-id=\"Operations-2.2.2\"><span class=\"toc-item-num\">2.2.2&nbsp;&nbsp;</span>Operations</a></span></li><li><span><a href=\"#Performance-evaluation\" data-toc-modified-id=\"Performance-evaluation-2.2.3\"><span class=\"toc-item-num\">2.2.3&nbsp;&nbsp;</span>Performance evaluation</a></span><ul class=\"toc-item\"><li><span><a href=\"#Conclusion\" data-toc-modified-id=\"Conclusion-2.2.3.1\"><span class=\"toc-item-num\">2.2.3.1&nbsp;&nbsp;</span>Conclusion</a></span></li></ul></li></ul></li><li><span><a href=\"#Matrix-extension-of-the-baseline-representation\" data-toc-modified-id=\"Matrix-extension-of-the-baseline-representation-2.3\"><span class=\"toc-item-num\">2.3&nbsp;&nbsp;</span>Matrix extension of the baseline representation</a></span><ul class=\"toc-item\"><li><span><a href=\"#Agreement-testing\" data-toc-modified-id=\"Agreement-testing-2.3.1\"><span class=\"toc-item-num\">2.3.1&nbsp;&nbsp;</span>Agreement testing</a></span></li><li><span><a href=\"#Union\" data-toc-modified-id=\"Union-2.3.2\"><span class=\"toc-item-num\">2.3.2&nbsp;&nbsp;</span>Union</a></span></li><li><span><a href=\"#Intersection\" data-toc-modified-id=\"Intersection-2.3.3\"><span class=\"toc-item-num\">2.3.3&nbsp;&nbsp;</span>Intersection</a></span></li><li><span><a href=\"#Extension\" data-toc-modified-id=\"Extension-2.3.4\"><span class=\"toc-item-num\">2.3.4&nbsp;&nbsp;</span>Extension</a></span></li><li><span><a href=\"#Conclusion\" data-toc-modified-id=\"Conclusion-2.3.5\"><span class=\"toc-item-num\">2.3.5&nbsp;&nbsp;</span>Conclusion</a></span></li></ul></li><li><span><a href=\"#pytorch-and-gpus\" data-toc-modified-id=\"pytorch-and-gpus-2.4\"><span class=\"toc-item-num\">2.4&nbsp;&nbsp;</span><code>pytorch</code> and gpus</a></span><ul class=\"toc-item\"><li><span><a href=\"#Agreement\" data-toc-modified-id=\"Agreement-2.4.1\"><span class=\"toc-item-num\">2.4.1&nbsp;&nbsp;</span>Agreement</a></span></li><li><span><a href=\"#Union\" data-toc-modified-id=\"Union-2.4.2\"><span class=\"toc-item-num\">2.4.2&nbsp;&nbsp;</span>Union</a></span></li><li><span><a href=\"#Intersection\" data-toc-modified-id=\"Intersection-2.4.3\"><span class=\"toc-item-num\">2.4.3&nbsp;&nbsp;</span>Intersection</a></span></li><li><span><a href=\"#Extension\" data-toc-modified-id=\"Extension-2.4.4\"><span class=\"toc-item-num\">2.4.4&nbsp;&nbsp;</span>Extension</a></span></li><li><span><a href=\"#Conclusion\" data-toc-modified-id=\"Conclusion-2.4.5\"><span class=\"toc-item-num\">2.4.5&nbsp;&nbsp;</span>Conclusion</a></span></li></ul></li></ul></li></ul></div>"
   ]
  },
  {
   "cell_type": "code",
   "execution_count": 2,
   "metadata": {
    "ExecuteTime": {
     "end_time": "2019-05-12T21:26:44.804297Z",
     "start_time": "2019-05-12T21:26:44.687024Z"
    }
   },
   "outputs": [],
   "source": [
    "import numpy as np\n",
    "myint = np.int8\n",
    "\n",
    "from vg import normalize"
   ]
  },
  {
   "cell_type": "code",
   "execution_count": 3,
   "metadata": {
    "ExecuteTime": {
     "end_time": "2019-05-12T21:26:44.808994Z",
     "start_time": "2019-05-12T21:26:44.805512Z"
    }
   },
   "outputs": [],
   "source": [
    "from bitarray import bitarray"
   ]
  },
  {
   "cell_type": "code",
   "execution_count": 4,
   "metadata": {
    "ExecuteTime": {
     "end_time": "2019-05-12T21:26:44.812060Z",
     "start_time": "2019-05-12T21:26:44.810324Z"
    }
   },
   "outputs": [],
   "source": [
    "from itertools import starmap, product"
   ]
  },
  {
   "cell_type": "code",
   "execution_count": 5,
   "metadata": {
    "ExecuteTime": {
     "end_time": "2019-05-12T21:26:44.816832Z",
     "start_time": "2019-05-12T21:26:44.813068Z"
    }
   },
   "outputs": [],
   "source": [
    "# from more_itertools import unique_everseen"
   ]
  },
  {
   "cell_type": "code",
   "execution_count": 6,
   "metadata": {
    "ExecuteTime": {
     "end_time": "2019-05-12T21:26:44.875243Z",
     "start_time": "2019-05-12T21:26:44.818128Z"
    }
   },
   "outputs": [],
   "source": [
    "from tqdm import tqdm\n",
    "\n",
    "from joblib import Parallel, delayed, Memory\n",
    "\n",
    "J = 30\n",
    "BACKEND = 'multiprocessing'\n",
    "# BACKEND = 'loky'\n",
    "V = 10\n",
    "PREFER = 'processes'\n",
    "# PREFER = 'threads'\n",
    "\n",
    "def par(gen_expr, j=None, backend=None, verbose=None, prefer=None):\n",
    "    if j is None:\n",
    "        j = J\n",
    "    if backend is None:\n",
    "        backend = BACKEND\n",
    "    if verbose is None:\n",
    "        verbose = V\n",
    "    if prefer is None:\n",
    "        prefer = PREFER\n",
    "    return Parallel(n_jobs=j, backend=backend, verbose=verbose, prefer=prefer)(gen_expr)\n",
    "\n",
    "def identity(x):\n",
    "    return x"
   ]
  },
  {
   "cell_type": "code",
   "execution_count": 7,
   "metadata": {
    "ExecuteTime": {
     "end_time": "2019-05-12T21:26:44.878859Z",
     "start_time": "2019-05-12T21:26:44.876890Z"
    }
   },
   "outputs": [],
   "source": [
    "from random import choice"
   ]
  },
  {
   "cell_type": "code",
   "execution_count": 8,
   "metadata": {
    "ExecuteTime": {
     "end_time": "2019-05-12T21:26:44.883961Z",
     "start_time": "2019-05-12T21:26:44.880164Z"
    }
   },
   "outputs": [],
   "source": [
    "CAREFUL = False"
   ]
  },
  {
   "cell_type": "markdown",
   "metadata": {},
   "source": [
    "# Overview"
   ]
  },
  {
   "cell_type": "markdown",
   "metadata": {},
   "source": [
    "Goal of this notebook: find / document representations of and operations on partial feature vectors with an eye towards efficient calculation."
   ]
  },
  {
   "cell_type": "markdown",
   "metadata": {},
   "source": [
    "# Comparison of basic representations and operations"
   ]
  },
  {
   "cell_type": "markdown",
   "metadata": {},
   "source": [
    "## Baseline representation of partial feature vectors"
   ]
  },
  {
   "cell_type": "markdown",
   "metadata": {},
   "source": [
    "A partial feature vector $p$ on $m$ features is an element of $\\{-1,0,1\\}^m$, where\n",
    " - $p_i = 0$ iff feature $i$ is unspecified\n",
    " - $p_i = -1$ iff feature $i$ is specified $-$\n",
    " - $p_i = 1$ iff feature $i$ is specified $+$"
   ]
  },
  {
   "cell_type": "markdown",
   "metadata": {},
   "source": [
    "Below this representation is implemented using `numpy` `int8` arrays and (usually) vectorized operations on them."
   ]
  },
  {
   "cell_type": "markdown",
   "metadata": {},
   "source": [
    "### Overhead - generation, well-formedness, uniquification"
   ]
  },
  {
   "cell_type": "code",
   "execution_count": 9,
   "metadata": {
    "ExecuteTime": {
     "end_time": "2019-05-12T21:26:44.888443Z",
     "start_time": "2019-05-12T21:26:44.884956Z"
    }
   },
   "outputs": [],
   "source": [
    "m = 5"
   ]
  },
  {
   "cell_type": "code",
   "execution_count": 10,
   "metadata": {
    "ExecuteTime": {
     "end_time": "2019-05-12T21:26:44.892803Z",
     "start_time": "2019-05-12T21:26:44.889499Z"
    }
   },
   "outputs": [],
   "source": [
    "def make_generator_vectors(num_features):\n",
    "    basis_vectors = [np.zeros(num_features, dtype=myint) for each in range(num_features)]\n",
    "    basis_vectors_neg = [np.zeros(num_features, dtype=myint) for each in range(num_features)]\n",
    "    for i,v in enumerate(basis_vectors):\n",
    "        v[i] = 1\n",
    "    for i,v in enumerate(basis_vectors_neg):\n",
    "        v[i] = -1\n",
    "    generators = basis_vectors + basis_vectors_neg\n",
    "    return generators"
   ]
  },
  {
   "cell_type": "code",
   "execution_count": 11,
   "metadata": {
    "ExecuteTime": {
     "end_time": "2019-05-12T21:26:44.903447Z",
     "start_time": "2019-05-12T21:26:44.893775Z"
    }
   },
   "outputs": [
    {
     "data": {
      "text/plain": [
       "[array([1, 0, 0, 0, 0], dtype=int8),\n",
       " array([0, 1, 0, 0, 0], dtype=int8),\n",
       " array([0, 0, 1, 0, 0], dtype=int8),\n",
       " array([0, 0, 0, 1, 0], dtype=int8),\n",
       " array([0, 0, 0, 0, 1], dtype=int8),\n",
       " array([-1,  0,  0,  0,  0], dtype=int8),\n",
       " array([ 0, -1,  0,  0,  0], dtype=int8),\n",
       " array([ 0,  0, -1,  0,  0], dtype=int8),\n",
       " array([ 0,  0,  0, -1,  0], dtype=int8),\n",
       " array([ 0,  0,  0,  0, -1], dtype=int8)]"
      ]
     },
     "execution_count": 11,
     "metadata": {},
     "output_type": "execute_result"
    }
   ],
   "source": [
    "generators = make_generator_vectors(m)\n",
    "generators"
   ]
  },
  {
   "cell_type": "code",
   "execution_count": 12,
   "metadata": {
    "ExecuteTime": {
     "end_time": "2019-05-12T21:26:44.907917Z",
     "start_time": "2019-05-12T21:26:44.904645Z"
    }
   },
   "outputs": [
    {
     "data": {
      "text/plain": [
       "32"
      ]
     },
     "execution_count": 12,
     "metadata": {},
     "output_type": "execute_result"
    },
    {
     "data": {
      "text/plain": [
       "243"
      ]
     },
     "execution_count": 12,
     "metadata": {},
     "output_type": "execute_result"
    }
   ],
   "source": [
    "max_num_objects = 2 ** m\n",
    "max_num_objects\n",
    "\n",
    "max_num_partial_fvs = (2 + 1) ** m\n",
    "max_num_partial_fvs"
   ]
  },
  {
   "cell_type": "code",
   "execution_count": 13,
   "metadata": {
    "ExecuteTime": {
     "end_time": "2019-05-12T21:26:44.911237Z",
     "start_time": "2019-05-12T21:26:44.909058Z"
    }
   },
   "outputs": [],
   "source": [
    "def wf_pfv(v):\n",
    "    allowedValues = {-1,0,1}\n",
    "    return all([x in allowedValues for x in v])"
   ]
  },
  {
   "cell_type": "code",
   "execution_count": 14,
   "metadata": {
    "ExecuteTime": {
     "end_time": "2019-05-12T21:26:44.916622Z",
     "start_time": "2019-05-12T21:26:44.912295Z"
    }
   },
   "outputs": [],
   "source": [
    "def make_random_pfv():\n",
    "    return np.random.randint(3, size=m, dtype=myint) - 1"
   ]
  },
  {
   "cell_type": "code",
   "execution_count": 15,
   "metadata": {
    "ExecuteTime": {
     "end_time": "2019-05-12T21:26:44.921104Z",
     "start_time": "2019-05-12T21:26:44.918667Z"
    }
   },
   "outputs": [],
   "source": [
    "def uniquify(ndarray_iterable):\n",
    "    tuples = [tuple(a) for a in ndarray_iterable]\n",
    "    s = set(tuples)\n",
    "    arrays = [np.array(t) for t in s]\n",
    "    return arrays"
   ]
  },
  {
   "cell_type": "code",
   "execution_count": 16,
   "metadata": {
    "ExecuteTime": {
     "end_time": "2019-05-12T21:26:44.924912Z",
     "start_time": "2019-05-12T21:26:44.922712Z"
    }
   },
   "outputs": [],
   "source": [
    "def wf_tfv(v):\n",
    "    allowedValues = {-1,1}\n",
    "    return all([x in allowedValues for x in v])"
   ]
  },
  {
   "cell_type": "code",
   "execution_count": 17,
   "metadata": {
    "ExecuteTime": {
     "end_time": "2019-05-12T21:26:44.929824Z",
     "start_time": "2019-05-12T21:26:44.926015Z"
    }
   },
   "outputs": [
    {
     "data": {
      "text/plain": [
       "32"
      ]
     },
     "execution_count": 17,
     "metadata": {},
     "output_type": "execute_result"
    },
    {
     "data": {
      "text/plain": [
       "6"
      ]
     },
     "execution_count": 17,
     "metadata": {},
     "output_type": "execute_result"
    }
   ],
   "source": [
    "max_num_objects\n",
    "actual_num_objects = np.random.randint(max_num_objects)\n",
    "# actual_num_objects = 40\n",
    "actual_num_objects\n",
    "\n",
    "assert actual_num_objects < max_num_objects"
   ]
  },
  {
   "cell_type": "code",
   "execution_count": 18,
   "metadata": {
    "ExecuteTime": {
     "end_time": "2019-05-12T21:26:44.937815Z",
     "start_time": "2019-05-12T21:26:44.931017Z"
    }
   },
   "outputs": [
    {
     "data": {
      "text/plain": [
       "5"
      ]
     },
     "execution_count": 18,
     "metadata": {},
     "output_type": "execute_result"
    },
    {
     "data": {
      "text/plain": [
       "(array([-1, -1,  1,  1, -1]),\n",
       " array([-1, -1,  1, -1,  1]),\n",
       " array([-1, -1, -1, -1,  1]),\n",
       " array([-1,  1,  1,  1,  1]),\n",
       " array([-1, -1,  1,  1,  1]))"
      ]
     },
     "execution_count": 18,
     "metadata": {},
     "output_type": "execute_result"
    }
   ],
   "source": [
    "objects = tuple(set([tuple(np.random.randint(2, size=m)) for each in range(actual_num_objects)]))\n",
    "objects = tuple(map(np.array, objects))\n",
    "l = len(objects)\n",
    "\n",
    "def zeroToMinusOne(u):\n",
    "    return np.array([x if x == 1 else -1 for x in u])\n",
    "\n",
    "objects = tuple([zeroToMinusOne(o) for o in objects])\n",
    "\n",
    "\n",
    "actual_num_objects = len(objects)\n",
    "actual_num_objects\n",
    "objects"
   ]
  },
  {
   "cell_type": "code",
   "execution_count": 19,
   "metadata": {
    "ExecuteTime": {
     "end_time": "2019-05-12T21:26:44.943541Z",
     "start_time": "2019-05-12T21:26:44.938830Z"
    }
   },
   "outputs": [
    {
     "data": {
      "text/plain": [
       "(5, 5)"
      ]
     },
     "execution_count": 19,
     "metadata": {},
     "output_type": "execute_result"
    },
    {
     "data": {
      "text/plain": [
       "array([[-1, -1,  1,  1, -1],\n",
       "       [-1, -1,  1, -1,  1],\n",
       "       [-1, -1, -1, -1,  1],\n",
       "       [-1,  1,  1,  1,  1],\n",
       "       [-1, -1,  1,  1,  1]])"
      ]
     },
     "execution_count": 19,
     "metadata": {},
     "output_type": "execute_result"
    },
    {
     "data": {
      "text/plain": [
       "array([-1, -1,  1,  1, -1])"
      ]
     },
     "execution_count": 19,
     "metadata": {},
     "output_type": "execute_result"
    }
   ],
   "source": [
    "objectMap = np.array([objects[i] for i in range(l)])\n",
    "objectMap.shape\n",
    "objectMap\n",
    "objectMap[0]\n",
    "\n",
    "O = objectMap"
   ]
  },
  {
   "cell_type": "code",
   "execution_count": 20,
   "metadata": {
    "ExecuteTime": {
     "end_time": "2019-05-12T21:26:44.947157Z",
     "start_time": "2019-05-12T21:26:44.944674Z"
    }
   },
   "outputs": [],
   "source": [
    "def getIndex(o, O):\n",
    "    matches = [i for i,v in enumerate(O) if np.array_equal(v,o)]\n",
    "    if len(matches) == 0:\n",
    "        return -1\n",
    "    if CAREFUL:\n",
    "        assert len(matches) == 1\n",
    "    return matches[0]"
   ]
  },
  {
   "cell_type": "code",
   "execution_count": 21,
   "metadata": {
    "ExecuteTime": {
     "end_time": "2019-05-12T21:26:44.952820Z",
     "start_time": "2019-05-12T21:26:44.948131Z"
    }
   },
   "outputs": [],
   "source": [
    "def makeExtensionVector(positive_Indices, O):\n",
    "    return np.array([1 if i in positive_Indices else 0 for i in np.arange(O.shape[0])], dtype=myint)"
   ]
  },
  {
   "cell_type": "code",
   "execution_count": 22,
   "metadata": {
    "ExecuteTime": {
     "end_time": "2019-05-12T21:26:44.958107Z",
     "start_time": "2019-05-12T21:26:44.953856Z"
    }
   },
   "outputs": [
    {
     "data": {
      "text/plain": [
       "array([1, 0, 0, 0, 1], dtype=int8)"
      ]
     },
     "execution_count": 22,
     "metadata": {},
     "output_type": "execute_result"
    }
   ],
   "source": [
    "makeExtensionVector([0, 4, 8], O)"
   ]
  },
  {
   "cell_type": "markdown",
   "metadata": {},
   "source": [
    "### Agreement"
   ]
  },
  {
   "cell_type": "code",
   "execution_count": 23,
   "metadata": {
    "ExecuteTime": {
     "end_time": "2019-05-12T21:26:44.962350Z",
     "start_time": "2019-05-12T21:26:44.959193Z"
    }
   },
   "outputs": [],
   "source": [
    "def ag(x,y):\n",
    "    '''\n",
    "    Formula:\n",
    "    (x == 0 or y == 0) or ((x != 0 and y != 0) and (x == y)), where T = 1 and F = 0\n",
    "    \n",
    "    Pattern:\n",
    "    x = x ⟶ 1\n",
    "    0 = _ ⟶ 1\n",
    "    _ = 0 ⟶ 1\n",
    "    _ = _ ⟶ 0\n",
    "    '''\n",
    "    if x == y:\n",
    "        return True\n",
    "    elif x == 0:\n",
    "        return True\n",
    "    elif y == 0:\n",
    "        return True\n",
    "    else:\n",
    "        return False"
   ]
  },
  {
   "cell_type": "code",
   "execution_count": 24,
   "metadata": {
    "ExecuteTime": {
     "end_time": "2019-05-12T21:26:44.969328Z",
     "start_time": "2019-05-12T21:26:44.963425Z"
    }
   },
   "outputs": [],
   "source": [
    "def agree(u,v):\n",
    "    '''\n",
    "    Given two vectors u and v, returns a binary vector indicating,\n",
    "    elementwise, whether u and v 'agree'.\n",
    "    \n",
    "    agree(u[i], v[i]) iff (u[i] == 0 or v[i] == 0) or (u[i] == v[i])\n",
    "    '''\n",
    "#     return np.array([True if (u[i] == 0 or v[i] == 0) or (u[i] == v[i]) else False \n",
    "#                      for i in range(len(u))])\n",
    "    return np.array([1 if (u[i] == 0 or v[i] == 0) or (u[i] == v[i]) else 0 \n",
    "                     for i in range(len(u))], dtype=myint)\n",
    "\n",
    "def agree_(u,v):\n",
    "    '''\n",
    "    Given two vectors u and v, return 1 iff u and v agree at all indices\n",
    "    and 0 otherwise.\n",
    "    '''\n",
    "    ag = agree(u,v)\n",
    "    return int(ag.all())\n",
    "\n",
    "def agree_alt(u,v):\n",
    "    '''\n",
    "    Given two vectors u and v, return 1 iff u and v agree at all indices\n",
    "    and 0 otherwise.\n",
    "    '''\n",
    "    ag = agree(u,v)\n",
    "    total_agreement = np.linalg.norm(agree(u,v), 1) == m\n",
    "    return int(total_agreement)\n",
    "#     if total_agreement:\n",
    "#         return 1.0\n",
    "#     return 0.0"
   ]
  },
  {
   "cell_type": "code",
   "execution_count": 25,
   "metadata": {
    "ExecuteTime": {
     "end_time": "2019-05-12T21:26:44.974914Z",
     "start_time": "2019-05-12T21:26:44.970284Z"
    }
   },
   "outputs": [],
   "source": [
    "def make_agreeing_vector_pair(pred=None):\n",
    "    u = make_random_pfv()\n",
    "    v = make_random_pfv()\n",
    "    if pred is None:\n",
    "        while not agree_(u,v):\n",
    "            u = make_random_pfv()\n",
    "            v = make_random_pfv()\n",
    "        return u,v\n",
    "    while not agree_(u,v) and not pred(u,v):\n",
    "        u = make_random_pfv()\n",
    "        v = make_random_pfv()\n",
    "    return u,v"
   ]
  },
  {
   "cell_type": "code",
   "execution_count": 26,
   "metadata": {
    "ExecuteTime": {
     "end_time": "2019-05-12T21:26:45.574350Z",
     "start_time": "2019-05-12T21:26:44.975997Z"
    }
   },
   "outputs": [
    {
     "data": {
      "text/plain": [
       "100000"
      ]
     },
     "execution_count": 26,
     "metadata": {},
     "output_type": "execute_result"
    }
   ],
   "source": [
    "num_test_pairs = int(1e5)\n",
    "random_vector_pairs = [(make_random_pfv(), make_random_pfv()) for each in range(num_test_pairs)]\n",
    "len(random_vector_pairs)"
   ]
  },
  {
   "cell_type": "code",
   "execution_count": 27,
   "metadata": {
    "ExecuteTime": {
     "end_time": "2019-05-12T21:26:50.087716Z",
     "start_time": "2019-05-12T21:26:45.575575Z"
    }
   },
   "outputs": [],
   "source": [
    "for pair in random_vector_pairs:\n",
    "    assert agree_(*pair) == agree_alt(*pair)"
   ]
  },
  {
   "cell_type": "code",
   "execution_count": 28,
   "metadata": {
    "ExecuteTime": {
     "end_time": "2019-05-12T21:26:59.097916Z",
     "start_time": "2019-05-12T21:26:50.088771Z"
    }
   },
   "outputs": [
    {
     "name": "stdout",
     "output_type": "stream",
     "text": [
      "1.13 s ± 2.5 ms per loop (mean ± std. dev. of 7 runs, 1 loop each)\n"
     ]
    }
   ],
   "source": [
    "%%timeit\n",
    "\n",
    "list(starmap(agree, random_vector_pairs))"
   ]
  },
  {
   "cell_type": "code",
   "execution_count": 29,
   "metadata": {
    "ExecuteTime": {
     "end_time": "2019-05-12T21:27:10.221645Z",
     "start_time": "2019-05-12T21:26:59.099041Z"
    }
   },
   "outputs": [
    {
     "name": "stdout",
     "output_type": "stream",
     "text": [
      "1.39 s ± 26.8 ms per loop (mean ± std. dev. of 7 runs, 1 loop each)\n"
     ]
    }
   ],
   "source": [
    "%%timeit\n",
    "\n",
    "list(starmap(agree_, random_vector_pairs))"
   ]
  },
  {
   "cell_type": "code",
   "execution_count": 30,
   "metadata": {
    "ExecuteTime": {
     "end_time": "2019-05-12T21:27:33.669107Z",
     "start_time": "2019-05-12T21:27:10.222666Z"
    }
   },
   "outputs": [
    {
     "name": "stdout",
     "output_type": "stream",
     "text": [
      "2.92 s ± 14.5 ms per loop (mean ± std. dev. of 7 runs, 1 loop each)\n"
     ]
    }
   ],
   "source": [
    "%%timeit\n",
    "\n",
    "list(starmap(agree_alt, random_vector_pairs))"
   ]
  },
  {
   "cell_type": "code",
   "execution_count": 31,
   "metadata": {
    "ExecuteTime": {
     "end_time": "2019-05-12T21:27:41.181793Z",
     "start_time": "2019-05-12T21:27:33.670217Z"
    }
   },
   "outputs": [
    {
     "data": {
      "text/plain": [
       "100000"
      ]
     },
     "execution_count": 31,
     "metadata": {},
     "output_type": "execute_result"
    }
   ],
   "source": [
    "num_test_pairs = int(1e5)\n",
    "agreeing_vector_pairs = [make_agreeing_vector_pair() for each in range(num_test_pairs)]\n",
    "len(agreeing_vector_pairs)"
   ]
  },
  {
   "cell_type": "code",
   "execution_count": 39,
   "metadata": {
    "ExecuteTime": {
     "end_time": "2019-05-12T21:28:09.769563Z",
     "start_time": "2019-05-12T21:28:09.764121Z"
    },
    "scrolled": true
   },
   "outputs": [
    {
     "data": {
      "text/plain": [
       "(array([0, 0, 1, 0, 0], dtype=int8), array([1, 0, 1, 0, 0], dtype=int8))"
      ]
     },
     "execution_count": 39,
     "metadata": {},
     "output_type": "execute_result"
    }
   ],
   "source": [
    "pair = agreeing_vector_pairs[0]; pair"
   ]
  },
  {
   "cell_type": "code",
   "execution_count": 40,
   "metadata": {
    "ExecuteTime": {
     "end_time": "2019-05-12T21:28:10.277479Z",
     "start_time": "2019-05-12T21:28:10.272124Z"
    }
   },
   "outputs": [
    {
     "data": {
      "text/plain": [
       "1"
      ]
     },
     "execution_count": 40,
     "metadata": {},
     "output_type": "execute_result"
    }
   ],
   "source": [
    "pair[0].dot(pair[1])"
   ]
  },
  {
   "cell_type": "code",
   "execution_count": 41,
   "metadata": {
    "ExecuteTime": {
     "end_time": "2019-05-12T21:28:10.682884Z",
     "start_time": "2019-05-12T21:28:10.677983Z"
    }
   },
   "outputs": [
    {
     "data": {
      "text/plain": [
       "array([0, 0, 1, 0, 0], dtype=int8)"
      ]
     },
     "execution_count": 41,
     "metadata": {},
     "output_type": "execute_result"
    }
   ],
   "source": [
    "p0 = pair[0]; p0"
   ]
  },
  {
   "cell_type": "code",
   "execution_count": 42,
   "metadata": {
    "ExecuteTime": {
     "end_time": "2019-05-12T21:28:11.004844Z",
     "start_time": "2019-05-12T21:28:11.001925Z"
    }
   },
   "outputs": [
    {
     "data": {
      "text/plain": [
       "1"
      ]
     },
     "execution_count": 42,
     "metadata": {},
     "output_type": "execute_result"
    }
   ],
   "source": [
    "np.abs(p0).sum()"
   ]
  },
  {
   "cell_type": "code",
   "execution_count": 36,
   "metadata": {
    "ExecuteTime": {
     "end_time": "2019-05-12T21:27:41.201079Z",
     "start_time": "2019-05-12T21:27:41.199609Z"
    }
   },
   "outputs": [],
   "source": [
    "# extension(p0, False)\n",
    "# f = extension(p0, False)[0]; f"
   ]
  },
  {
   "cell_type": "code",
   "execution_count": 37,
   "metadata": {
    "ExecuteTime": {
     "end_time": "2019-05-12T21:27:41.203966Z",
     "start_time": "2019-05-12T21:27:41.202126Z"
    }
   },
   "outputs": [],
   "source": [
    "# np.dot(p0,f)"
   ]
  },
  {
   "cell_type": "code",
   "execution_count": 38,
   "metadata": {
    "ExecuteTime": {
     "end_time": "2019-05-12T21:27:41.308004Z",
     "start_time": "2019-05-12T21:27:41.205092Z"
    }
   },
   "outputs": [
    {
     "ename": "NameError",
     "evalue": "name 'f' is not defined",
     "output_type": "error",
     "traceback": [
      "\u001b[0;31m---------------------------------------------------------------------------\u001b[0m",
      "\u001b[0;31mNameError\u001b[0m                                 Traceback (most recent call last)",
      "\u001b[0;32m<ipython-input-38-b70dd62b618a>\u001b[0m in \u001b[0;36m<module>\u001b[0;34m\u001b[0m\n\u001b[1;32m      1\u001b[0m \u001b[0;32mdel\u001b[0m \u001b[0mpair\u001b[0m\u001b[0;34m\u001b[0m\u001b[0;34m\u001b[0m\u001b[0m\n\u001b[1;32m      2\u001b[0m \u001b[0;32mdel\u001b[0m \u001b[0mp0\u001b[0m\u001b[0;34m\u001b[0m\u001b[0;34m\u001b[0m\u001b[0m\n\u001b[0;32m----> 3\u001b[0;31m \u001b[0;32mdel\u001b[0m \u001b[0mf\u001b[0m\u001b[0;34m\u001b[0m\u001b[0;34m\u001b[0m\u001b[0m\n\u001b[0m",
      "\u001b[0;31mNameError\u001b[0m: name 'f' is not defined"
     ]
    }
   ],
   "source": [
    "# del pair\n",
    "# del p0\n",
    "# # del f"
   ]
  },
  {
   "cell_type": "markdown",
   "metadata": {},
   "source": [
    "### Union"
   ]
  },
  {
   "cell_type": "markdown",
   "metadata": {},
   "source": [
    "The union of two partial feature vectors $u,v$ that agree should result in a partial feature vector that has every specified value in $u$, every specified value in $v$, and no other specified values.\n",
    "\n",
    "In general, the result is at least as specified as either $u$ or $v$: when $u=v$ $u \\cup v = u = v$ and $u \\cup v$ is no more specified, but otherwise $u \\cup v$ will be strictly more specified than either $u$ or $v$."
   ]
  },
  {
   "cell_type": "code",
   "execution_count": 43,
   "metadata": {
    "ExecuteTime": {
     "end_time": "2019-05-12T21:28:20.600100Z",
     "start_time": "2019-05-12T21:28:20.582483Z"
    }
   },
   "outputs": [
    {
     "data": {
      "text/plain": [
       "((-1, -1), (-1, 0), (-1, 1), (0, -1), (0, 0), (0, 1), (1, -1), (1, 0), (1, 1))"
      ]
     },
     "execution_count": 43,
     "metadata": {},
     "output_type": "execute_result"
    },
    {
     "data": {
      "text/plain": [
       "((-1, -1), -1)"
      ]
     },
     "execution_count": 43,
     "metadata": {},
     "output_type": "execute_result"
    },
    {
     "data": {
      "text/plain": [
       "((-1, 0), -1)"
      ]
     },
     "execution_count": 43,
     "metadata": {},
     "output_type": "execute_result"
    },
    {
     "data": {
      "text/plain": [
       "((-1, 1), 0)"
      ]
     },
     "execution_count": 43,
     "metadata": {},
     "output_type": "execute_result"
    },
    {
     "data": {
      "text/plain": [
       "((0, -1), -1)"
      ]
     },
     "execution_count": 43,
     "metadata": {},
     "output_type": "execute_result"
    },
    {
     "data": {
      "text/plain": [
       "((0, 0), 0)"
      ]
     },
     "execution_count": 43,
     "metadata": {},
     "output_type": "execute_result"
    },
    {
     "data": {
      "text/plain": [
       "((0, 1), 1)"
      ]
     },
     "execution_count": 43,
     "metadata": {},
     "output_type": "execute_result"
    },
    {
     "data": {
      "text/plain": [
       "((1, -1), 0)"
      ]
     },
     "execution_count": 43,
     "metadata": {},
     "output_type": "execute_result"
    },
    {
     "data": {
      "text/plain": [
       "((1, 0), 1)"
      ]
     },
     "execution_count": 43,
     "metadata": {},
     "output_type": "execute_result"
    },
    {
     "data": {
      "text/plain": [
       "((1, 1), 1)"
      ]
     },
     "execution_count": 43,
     "metadata": {},
     "output_type": "execute_result"
    }
   ],
   "source": [
    "XYs = tuple(product((-1,0,1), (-1,0,1)))\n",
    "XYs\n",
    "\n",
    "def cup(x,y):\n",
    "    '''\n",
    "    Formula:\n",
    "    x or y, where 1 = T, -1 = T, 0 = F\n",
    "    \n",
    "    Algebra:\n",
    "    0 is the identity ∀x ∈ {-1,0,+1}\n",
    "    x is its own identity ∀x ∈ {-1,0,+1}\n",
    "    (-1 and +1 are mutual inverses, but this case shouldn't occur when agree(x,y) holds)\n",
    "    \n",
    "    Pattern:\n",
    "    x ∪ x = x\n",
    "    \n",
    "    0 ∪ y = y\n",
    "    x ∪ 0 = x\n",
    "    \n",
    "    _ ∪ _ = 0  \\\\ <- shouldn't occur in two pfvs that agree\n",
    "    '''\n",
    "    if x == 0:  #if x is unspecified, return y\n",
    "        return y\n",
    "    elif y == 0: #if y is unspecified, return x\n",
    "        return x\n",
    "    elif x == y: #if both are specified and the same, return their common value\n",
    "        return x\n",
    "    else: #otherwise return 0\n",
    "        return 0\n",
    "\n",
    "for x,y in XYs:\n",
    "    ((x,y), cup(x,y))"
   ]
  },
  {
   "cell_type": "code",
   "execution_count": 44,
   "metadata": {
    "ExecuteTime": {
     "end_time": "2019-05-12T21:28:20.608907Z",
     "start_time": "2019-05-12T21:28:20.601478Z"
    }
   },
   "outputs": [],
   "source": [
    "def union(u, v):\n",
    "    if CAREFUL:\n",
    "        assert agree_(u,v)\n",
    "    return np.sign(u + v)\n",
    "\n",
    "def twoToOne(x):\n",
    "    if x != 2 and x != -2:\n",
    "        return x\n",
    "    elif x == 2:\n",
    "        return 1\n",
    "    else:\n",
    "        return -1\n",
    "\n",
    "twoToOne_v = np.vectorize(twoToOne)\n",
    "\n",
    "def union_alt(u, v):\n",
    "    if CAREFUL:\n",
    "        assert agree_(u,v)\n",
    "    return np.array(twoToOne_v(u + v), dtype=myint)\n",
    "\n",
    "def union_alt2(u, v):\n",
    "    if CAREFUL:\n",
    "        assert agree_(u,v)\n",
    "    s = u + v\n",
    "    return np.trunc( np.sqrt(np.abs(s)) ) * np.sign(s,dtype=myint)\n",
    "\n",
    "def union_alt3(u, v):\n",
    "    if CAREFUL:\n",
    "        assert agree_(u,v)\n",
    "    w = u.copy()\n",
    "    for i,x in enumerate(v):\n",
    "        if x != 0:\n",
    "            w[i] = x\n",
    "    return w\n",
    "\n",
    "def union_alt4(u, v):\n",
    "    if CAREFUL:\n",
    "        assert agree_(u,v)\n",
    "    return np.array([cup(u[i],v[i]) for i in range(m)], dtype=myint)\n",
    "\n",
    "cup_v = np.vectorize(cup)\n",
    "\n",
    "def union_alt5(u, v):\n",
    "    if CAREFUL:\n",
    "        assert agree_(u,v)\n",
    "    return np.array(cup_v(u,v), dtype=myint)"
   ]
  },
  {
   "cell_type": "code",
   "execution_count": 45,
   "metadata": {
    "ExecuteTime": {
     "end_time": "2019-05-12T21:28:20.620385Z",
     "start_time": "2019-05-12T21:28:20.610411Z"
    }
   },
   "outputs": [
    {
     "data": {
      "text/plain": [
       "(array([-1,  0,  0,  0,  0], dtype=int8),\n",
       " array([ 0,  1,  1, -1,  0], dtype=int8))"
      ]
     },
     "execution_count": 45,
     "metadata": {},
     "output_type": "execute_result"
    },
    {
     "data": {
      "text/plain": [
       "array([-1,  1,  1, -1,  0], dtype=int8)"
      ]
     },
     "execution_count": 45,
     "metadata": {},
     "output_type": "execute_result"
    },
    {
     "data": {
      "text/plain": [
       "array([-1,  1,  1, -1,  0], dtype=int8)"
      ]
     },
     "execution_count": 45,
     "metadata": {},
     "output_type": "execute_result"
    },
    {
     "data": {
      "text/plain": [
       "array([-1.,  1.,  1., -1.,  0.], dtype=float16)"
      ]
     },
     "execution_count": 45,
     "metadata": {},
     "output_type": "execute_result"
    },
    {
     "data": {
      "text/plain": [
       "array([-1,  1,  1, -1,  0], dtype=int8)"
      ]
     },
     "execution_count": 45,
     "metadata": {},
     "output_type": "execute_result"
    },
    {
     "data": {
      "text/plain": [
       "array([-1,  1,  1, -1,  0], dtype=int8)"
      ]
     },
     "execution_count": 45,
     "metadata": {},
     "output_type": "execute_result"
    },
    {
     "data": {
      "text/plain": [
       "array([-1,  1,  1, -1,  0], dtype=int8)"
      ]
     },
     "execution_count": 45,
     "metadata": {},
     "output_type": "execute_result"
    }
   ],
   "source": [
    "test_pair = choice(agreeing_vector_pairs)\n",
    "test_pair\n",
    "\n",
    "union(*test_pair)\n",
    "union_alt(*test_pair)\n",
    "union_alt2(*test_pair)\n",
    "union_alt3(*test_pair)\n",
    "union_alt4(*test_pair)\n",
    "union_alt5(*test_pair)"
   ]
  },
  {
   "cell_type": "code",
   "execution_count": 46,
   "metadata": {
    "ExecuteTime": {
     "end_time": "2019-05-12T21:28:27.233720Z",
     "start_time": "2019-05-12T21:28:20.621502Z"
    }
   },
   "outputs": [
    {
     "name": "stdout",
     "output_type": "stream",
     "text": [
      "81.5 ms ± 116 µs per loop (mean ± std. dev. of 7 runs, 10 loops each)\n"
     ]
    }
   ],
   "source": [
    "%%timeit\n",
    "\n",
    "list(starmap(union, agreeing_vector_pairs));"
   ]
  },
  {
   "cell_type": "code",
   "execution_count": 47,
   "metadata": {
    "ExecuteTime": {
     "end_time": "2019-05-12T21:28:39.655673Z",
     "start_time": "2019-05-12T21:28:27.234740Z"
    }
   },
   "outputs": [
    {
     "name": "stdout",
     "output_type": "stream",
     "text": [
      "1.54 s ± 10.6 ms per loop (mean ± std. dev. of 7 runs, 1 loop each)\n"
     ]
    }
   ],
   "source": [
    "%%timeit\n",
    "\n",
    "list(starmap(union_alt, agreeing_vector_pairs));"
   ]
  },
  {
   "cell_type": "code",
   "execution_count": 48,
   "metadata": {
    "ExecuteTime": {
     "end_time": "2019-05-12T21:28:42.427367Z",
     "start_time": "2019-05-12T21:28:39.656686Z"
    }
   },
   "outputs": [
    {
     "name": "stdout",
     "output_type": "stream",
     "text": [
      "345 ms ± 1.02 ms per loop (mean ± std. dev. of 7 runs, 1 loop each)\n"
     ]
    }
   ],
   "source": [
    "%%timeit\n",
    "\n",
    "list(starmap(union_alt2, agreeing_vector_pairs));"
   ]
  },
  {
   "cell_type": "code",
   "execution_count": 49,
   "metadata": {
    "ExecuteTime": {
     "end_time": "2019-05-12T21:28:47.822624Z",
     "start_time": "2019-05-12T21:28:42.428429Z"
    }
   },
   "outputs": [
    {
     "name": "stdout",
     "output_type": "stream",
     "text": [
      "671 ms ± 1.91 ms per loop (mean ± std. dev. of 7 runs, 1 loop each)\n"
     ]
    }
   ],
   "source": [
    "%%timeit\n",
    "\n",
    "list(starmap(union_alt3, agreeing_vector_pairs));"
   ]
  },
  {
   "cell_type": "code",
   "execution_count": 50,
   "metadata": {
    "ExecuteTime": {
     "end_time": "2019-05-12T21:28:56.664855Z",
     "start_time": "2019-05-12T21:28:47.824119Z"
    }
   },
   "outputs": [
    {
     "name": "stdout",
     "output_type": "stream",
     "text": [
      "1.1 s ± 3.26 ms per loop (mean ± std. dev. of 7 runs, 1 loop each)\n"
     ]
    }
   ],
   "source": [
    "%%timeit\n",
    "\n",
    "list(starmap(union_alt4, agreeing_vector_pairs));"
   ]
  },
  {
   "cell_type": "code",
   "execution_count": 51,
   "metadata": {
    "ExecuteTime": {
     "end_time": "2019-05-12T21:29:09.894247Z",
     "start_time": "2019-05-12T21:28:56.666417Z"
    }
   },
   "outputs": [
    {
     "name": "stdout",
     "output_type": "stream",
     "text": [
      "1.65 s ± 11.3 ms per loop (mean ± std. dev. of 7 runs, 1 loop each)\n"
     ]
    }
   ],
   "source": [
    "%%timeit\n",
    "\n",
    "list(starmap(union_alt5, agreeing_vector_pairs));"
   ]
  },
  {
   "cell_type": "markdown",
   "metadata": {},
   "source": [
    "### Intersection"
   ]
  },
  {
   "cell_type": "markdown",
   "metadata": {},
   "source": [
    "The intersection of two partial feature vectors $u,v$ should result in a partial feature vector that has every specified value that is specified in both $u$ and $v$ and where $u$ and $v$ agree, and no other specified values.\n",
    "\n",
    "In general, the result is no more specified than either $u$ or $v$: when $u=v$ $u \\cap v = u = v$ and $u \\cap v$ is no less specified, but otherwise $u \\cap v$ will be strictly less specified than either $u$ or $v$."
   ]
  },
  {
   "cell_type": "code",
   "execution_count": 52,
   "metadata": {
    "ExecuteTime": {
     "end_time": "2019-05-12T21:29:09.915837Z",
     "start_time": "2019-05-12T21:29:09.895294Z"
    }
   },
   "outputs": [
    {
     "data": {
      "text/plain": [
       "((-1, -1), (-1, 0), (-1, 1), (0, -1), (0, 0), (0, 1), (1, -1), (1, 0), (1, 1))"
      ]
     },
     "execution_count": 52,
     "metadata": {},
     "output_type": "execute_result"
    },
    {
     "data": {
      "text/plain": [
       "((-1, -1), -1, -1, -1.0, -1)"
      ]
     },
     "execution_count": 52,
     "metadata": {},
     "output_type": "execute_result"
    },
    {
     "data": {
      "text/plain": [
       "((-1, 0), 0, 0, 0.0, 0)"
      ]
     },
     "execution_count": 52,
     "metadata": {},
     "output_type": "execute_result"
    },
    {
     "data": {
      "text/plain": [
       "((-1, 1), 0, 0, 0.0, 0)"
      ]
     },
     "execution_count": 52,
     "metadata": {},
     "output_type": "execute_result"
    },
    {
     "data": {
      "text/plain": [
       "((0, -1), 0, 0, 0.0, 0)"
      ]
     },
     "execution_count": 52,
     "metadata": {},
     "output_type": "execute_result"
    },
    {
     "data": {
      "text/plain": [
       "((0, 0), 0, 0, 0.0, 0)"
      ]
     },
     "execution_count": 52,
     "metadata": {},
     "output_type": "execute_result"
    },
    {
     "data": {
      "text/plain": [
       "((0, 1), 0, 0, 0.0, 0)"
      ]
     },
     "execution_count": 52,
     "metadata": {},
     "output_type": "execute_result"
    },
    {
     "data": {
      "text/plain": [
       "((1, -1), 0, 0, 0.0, 0)"
      ]
     },
     "execution_count": 52,
     "metadata": {},
     "output_type": "execute_result"
    },
    {
     "data": {
      "text/plain": [
       "((1, 0), 0, 0, 0.0, 0)"
      ]
     },
     "execution_count": 52,
     "metadata": {},
     "output_type": "execute_result"
    },
    {
     "data": {
      "text/plain": [
       "((1, 1), 1, 1, 1.0, 1)"
      ]
     },
     "execution_count": 52,
     "metadata": {},
     "output_type": "execute_result"
    }
   ],
   "source": [
    "XYs = tuple(product((-1,0,1), (-1,0,1)))\n",
    "XYs \n",
    "    \n",
    "def cap(x,y):\n",
    "    '''\n",
    "    Algebra:\n",
    "    0 is the annihilating element ∀x ∈ {-1,0,+1}\n",
    "    x is its own identity ∀x ∈ {-1,0,+1}\n",
    "    -1 and +1 annihilate each other\n",
    "    \n",
    "    Pattern:\n",
    "    x ∩ x = x\n",
    "    \n",
    "    0 ∩ _ = 0\n",
    "    _ ∩ 0 = 0\n",
    "    \n",
    "    _ ∩ _ = 0\n",
    "    '''\n",
    "    if x == 0: #if x is unspecified, return 0\n",
    "        return 0\n",
    "    elif y == 0: #if y is unspecified, return 0\n",
    "        return 0\n",
    "    elif x == y: #if both are specified and the same, return their common value\n",
    "        return x\n",
    "    else: #otherwise return 0\n",
    "        return 0\n",
    "\n",
    "def foo(x,y):\n",
    "    return np.sign( (x == y) * (x + y) )\n",
    "\n",
    "def bar(x,y):\n",
    "    return (x == y) * (x + y) * 0.5\n",
    "\n",
    "def baz(x,y):\n",
    "    return (x == y) * int((x + y) / 2)\n",
    "\n",
    "for x,y in XYs:\n",
    "#     ((x,y), cap(x,y))\n",
    "    ((x,y), cap(x,y), foo(x,y), bar(x,y), baz(x,y))"
   ]
  },
  {
   "cell_type": "code",
   "execution_count": 53,
   "metadata": {
    "ExecuteTime": {
     "end_time": "2019-05-12T21:29:09.920636Z",
     "start_time": "2019-05-12T21:29:09.916852Z"
    }
   },
   "outputs": [],
   "source": [
    "def intersection(u, v):\n",
    "    return np.sign(  np.equal(u, v) * (u + v) )\n",
    "\n",
    "def intersection_alt(u, v):\n",
    "    return np.array([cap(u[i],v[i]) for i in range(m)], dtype=myint)\n",
    "\n",
    "def intersection_alt2(u, v):\n",
    "    return np.array(np.equal(u, v) * (u + v) * 0.5, dtype=myint)\n",
    "\n",
    "def intersection_alt3(u, v):\n",
    "    return np.array([bar(u[i], v[i]) for i in range(m)], dtype=myint)"
   ]
  },
  {
   "cell_type": "code",
   "execution_count": 54,
   "metadata": {
    "ExecuteTime": {
     "end_time": "2019-05-12T21:29:09.930427Z",
     "start_time": "2019-05-12T21:29:09.921700Z"
    }
   },
   "outputs": [
    {
     "data": {
      "text/plain": [
       "(array([ 1,  0,  1,  1, -1], dtype=int8),\n",
       " array([ 1,  0, -1,  0,  1], dtype=int8))"
      ]
     },
     "execution_count": 54,
     "metadata": {},
     "output_type": "execute_result"
    },
    {
     "data": {
      "text/plain": [
       "array([1, 0, 0, 0, 0], dtype=int8)"
      ]
     },
     "execution_count": 54,
     "metadata": {},
     "output_type": "execute_result"
    },
    {
     "data": {
      "text/plain": [
       "array([1, 0, 0, 0, 0], dtype=int8)"
      ]
     },
     "execution_count": 54,
     "metadata": {},
     "output_type": "execute_result"
    },
    {
     "data": {
      "text/plain": [
       "array([1, 0, 0, 0, 0], dtype=int8)"
      ]
     },
     "execution_count": 54,
     "metadata": {},
     "output_type": "execute_result"
    },
    {
     "data": {
      "text/plain": [
       "array([1, 0, 0, 0, 0], dtype=int8)"
      ]
     },
     "execution_count": 54,
     "metadata": {},
     "output_type": "execute_result"
    }
   ],
   "source": [
    "test_pair = choice(random_vector_pairs)\n",
    "test_pair\n",
    "\n",
    "intersection(*test_pair)\n",
    "intersection_alt(*test_pair)\n",
    "intersection_alt2(*test_pair)\n",
    "intersection_alt3(*test_pair)"
   ]
  },
  {
   "cell_type": "code",
   "execution_count": 55,
   "metadata": {
    "ExecuteTime": {
     "end_time": "2019-05-12T21:29:17.362463Z",
     "start_time": "2019-05-12T21:29:09.931416Z"
    }
   },
   "outputs": [],
   "source": [
    "for pair in random_vector_pairs:\n",
    "    assert np.array_equal(intersection(*pair), intersection_alt(*pair)), 'Agreement failure on {0}'.format(pair)\n",
    "    assert np.array_equal(intersection_alt2(*pair), intersection_alt(*pair)), 'Agreement failure on {0}'.format(pair)\n",
    "    assert np.array_equal(intersection_alt3(*pair), intersection_alt(*pair)), 'Agreement failure on {0}'.format(pair)"
   ]
  },
  {
   "cell_type": "code",
   "execution_count": 56,
   "metadata": {
    "ExecuteTime": {
     "end_time": "2019-05-12T21:29:31.695663Z",
     "start_time": "2019-05-12T21:29:17.363495Z"
    }
   },
   "outputs": [
    {
     "name": "stdout",
     "output_type": "stream",
     "text": [
      "177 ms ± 61.8 µs per loop (mean ± std. dev. of 7 runs, 10 loops each)\n"
     ]
    }
   ],
   "source": [
    "%%timeit\n",
    "\n",
    "list(starmap(intersection, random_vector_pairs));"
   ]
  },
  {
   "cell_type": "code",
   "execution_count": 57,
   "metadata": {
    "ExecuteTime": {
     "end_time": "2019-05-12T21:29:40.971923Z",
     "start_time": "2019-05-12T21:29:31.696679Z"
    }
   },
   "outputs": [
    {
     "name": "stdout",
     "output_type": "stream",
     "text": [
      "1.16 s ± 2.06 ms per loop (mean ± std. dev. of 7 runs, 1 loop each)\n"
     ]
    }
   ],
   "source": [
    "%%timeit\n",
    "\n",
    "list(starmap(intersection_alt, random_vector_pairs));"
   ]
  },
  {
   "cell_type": "code",
   "execution_count": 58,
   "metadata": {
    "ExecuteTime": {
     "end_time": "2019-05-12T21:29:43.360143Z",
     "start_time": "2019-05-12T21:29:40.972957Z"
    }
   },
   "outputs": [
    {
     "name": "stdout",
     "output_type": "stream",
     "text": [
      "298 ms ± 478 µs per loop (mean ± std. dev. of 7 runs, 1 loop each)\n"
     ]
    }
   ],
   "source": [
    "%%timeit\n",
    "\n",
    "list(starmap(intersection_alt2, random_vector_pairs));"
   ]
  },
  {
   "cell_type": "code",
   "execution_count": 59,
   "metadata": {
    "ExecuteTime": {
     "end_time": "2019-05-12T21:29:58.337890Z",
     "start_time": "2019-05-12T21:29:43.361157Z"
    }
   },
   "outputs": [
    {
     "name": "stdout",
     "output_type": "stream",
     "text": [
      "1.87 s ± 3.77 ms per loop (mean ± std. dev. of 7 runs, 1 loop each)\n"
     ]
    }
   ],
   "source": [
    "%%timeit\n",
    "\n",
    "list(starmap(intersection_alt3, random_vector_pairs));"
   ]
  },
  {
   "cell_type": "markdown",
   "metadata": {},
   "source": [
    "### Extension"
   ]
  },
  {
   "cell_type": "code",
   "execution_count": 60,
   "metadata": {
    "ExecuteTime": {
     "end_time": "2019-05-12T21:29:58.341610Z",
     "start_time": "2019-05-12T21:29:58.338918Z"
    }
   },
   "outputs": [],
   "source": [
    "def extension(v, O, asIndexVector=True):\n",
    "    '''\n",
    "    The extension of a partial feature vector v is the set of object vectors\n",
    "    (= fully specified, or 'total' feature vectors) that 'agree' with it.\n",
    "    '''\n",
    "    matches = tuple([o for o in O if agree_(v,o)])\n",
    "#     matches = tuple([o for o in objects if agree(v,o).all()])\n",
    "#     matches = np.array([1.0 if np.linalg.norm(agree(v,o), 1) == num_features else 0.0 for o in objects])\n",
    "    if asIndexVector:\n",
    "        return makeExtensionVector([getIndex(o, O) for o in matches], O)\n",
    "    return matches"
   ]
  },
  {
   "cell_type": "code",
   "execution_count": 61,
   "metadata": {
    "ExecuteTime": {
     "end_time": "2019-05-12T21:29:58.346504Z",
     "start_time": "2019-05-12T21:29:58.342871Z"
    }
   },
   "outputs": [],
   "source": [
    "def in_extension(s, o):\n",
    "    '''\n",
    "    Given a partial feature vector s and a fully specified object vector o,\n",
    "    returns True iff o ∈ ⟦s⟧ and False otherwise.\n",
    "    '''\n",
    "    if np.array_equal( s, np.zeros(s.shape) ):\n",
    "        return True\n",
    "    \n",
    "    s_ = np.abs(s)\n",
    "    o_ = s_ * o\n",
    "    s_normed = normalize(s)\n",
    "    o_normed = normalize(o_)\n",
    "    pr = np.dot(s_normed, o_normed)\n",
    "    return np.isclose(1.0, pr)\n",
    "\n",
    "def extension_alt(s, O):\n",
    "    extensionVector = np.array([1 if in_extension(s, o) else 0 for o in O], dtype=myint)\n",
    "    return extensionVector"
   ]
  },
  {
   "cell_type": "code",
   "execution_count": 62,
   "metadata": {
    "ExecuteTime": {
     "end_time": "2019-05-12T21:29:58.352966Z",
     "start_time": "2019-05-12T21:29:58.347692Z"
    }
   },
   "outputs": [],
   "source": [
    "def in_extension_alt2(s, o):\n",
    "    '''\n",
    "    Given a partial feature vector s and a fully specified object vector o,\n",
    "    returns True iff o ∈ ⟦s⟧ and False otherwise.\n",
    "    '''\n",
    "    if np.array_equal( s, np.zeros(s.shape) ):\n",
    "        return True\n",
    "    \n",
    "    s_ = np.abs(s)\n",
    "    mag = np.sum(s_)\n",
    "    s_prime = s_ / mag\n",
    "#     o_ = s_ * o\n",
    "#     s_normed = normalize(s)\n",
    "#     o_normed = normalize(o_)\n",
    "#     pr = np.dot(s_normed, o_normed)\n",
    "#     pr = np.dot(s_normed, o)\n",
    "#     pr = np.dot(s_, o)\n",
    "    pr = np.dot(s_prime, o)\n",
    "#     return np.isclose(1.0, pr)\n",
    "#     return pr == mag\n",
    "    return pr#, mag\n",
    "\n",
    "def extension_alt2(s, O):\n",
    "    extensionVector = np.array([1 if in_extension_alt(s, o) else 0 for o in O], dtype=myint)\n",
    "    return extensionVector"
   ]
  },
  {
   "cell_type": "code",
   "execution_count": 63,
   "metadata": {
    "ExecuteTime": {
     "end_time": "2019-05-12T21:29:58.360692Z",
     "start_time": "2019-05-12T21:29:58.354037Z"
    }
   },
   "outputs": [],
   "source": [
    "def ramp(M):\n",
    "    return np.heaviside(M-1, 1).astype(myint)\n",
    "\n",
    "def primed(p):\n",
    "    mag_p = np.sum(np.abs(p))\n",
    "    return p / mag_p\n",
    "\n",
    "def unramped_in_extension_alt3(s,o):\n",
    "    p = s\n",
    "    return np.dot(o, primed(p))\n",
    "\n",
    "def in_extension_alt3(s, o):\n",
    "    p = s\n",
    "    return ramp( np.dot(o, primed(p)) )\n",
    "\n",
    "def extension_alt3(s, O):\n",
    "    if np.array_equal(s, np.zeros(s.shape)):\n",
    "        return np.ones((l,), dtype=myint)\n",
    "    p = s\n",
    "#     mag_p = np.sum(np.abs(p))\n",
    "#     p_prime = p / mag_p\n",
    "    return ramp( np.dot(O, primed(p)) )\n",
    "\n",
    "def unramped_extension_alt3(s, O):\n",
    "    if np.array_equal(s, np.zeros(s.shape)):\n",
    "        return np.ones((l,), dtype=myint)\n",
    "    p = s\n",
    "#     mag_p = np.sum(np.abs(p))\n",
    "#     p_prime = p / mag_p\n",
    "    return np.dot(O, primed(p))"
   ]
  },
  {
   "cell_type": "code",
   "execution_count": 64,
   "metadata": {
    "ExecuteTime": {
     "end_time": "2019-05-12T21:29:58.377423Z",
     "start_time": "2019-05-12T21:29:58.361867Z"
    }
   },
   "outputs": [
    {
     "name": "stdout",
     "output_type": "stream",
     "text": [
      "p = [ 0  0  0  0 -1]\n",
      "⟦p⟧ = \n",
      "(array([-1, -1,  1,  1, -1]),)\n",
      "⟦p⟧_0 = \n",
      "[-1 -1  1  1 -1]\n",
      "⟦p⟧_0 ∈ ⟦p⟧? True\n"
     ]
    },
    {
     "data": {
      "text/plain": [
       "array([1], dtype=int8)"
      ]
     },
     "execution_count": 64,
     "metadata": {},
     "output_type": "execute_result"
    },
    {
     "name": "stdout",
     "output_type": "stream",
     "text": [
      " \n",
      "|abs(p)| = 1\n",
      "p' = [ 0.  0.  0.  0. -1.]\n",
      "⟦p⟧ = \n",
      "[1 0 0 0 0]\n",
      "A = ⟦p⟧ = \n",
      "[[-1 -1  1  1 -1]]\n",
      "A⸱p = [1]\n",
      "V = \n",
      "[[-1 -1  1  1 -1]\n",
      " [-1 -1  1 -1  1]\n",
      " [-1 -1 -1 -1  1]\n",
      " [-1  1  1  1  1]\n",
      " [-1 -1  1  1  1]]\n",
      "V⸱p = \n",
      "[ 1 -1 -1 -1 -1]\n",
      "V⸱p' = \n",
      "[ 1. -1. -1. -1. -1.]\n"
     ]
    },
    {
     "data": {
      "text/plain": [
       "array([1, 0, 0, 0, 0], dtype=int8)"
      ]
     },
     "execution_count": 64,
     "metadata": {},
     "output_type": "execute_result"
    },
    {
     "data": {
      "text/plain": [
       "True"
      ]
     },
     "execution_count": 64,
     "metadata": {},
     "output_type": "execute_result"
    }
   ],
   "source": [
    "p = make_random_pfv()\n",
    "while len(extension(p, O, False)) == 0:\n",
    "    p = make_random_pfv()\n",
    "print( 'p = {0}'.format(p) )\n",
    "print( '⟦p⟧ = \\n{0}'.format(extension(p, O, False)) )\n",
    "p_x0 = extension(p, O, False)[0];\n",
    "print( '⟦p⟧_0 = \\n{0}'.format(p_x0) )\n",
    "print( '⟦p⟧_0 ∈ ⟦p⟧? {0}'.format(in_extension(p, p_x0)) )\n",
    "# in_extension_alt(p, p_x0)\n",
    "np.array( [ramp( np.dot(p_xi, primed(p)) ) for p_xi in extension(p, O, False)] )\n",
    "print(' ')\n",
    "\n",
    "mag_p = np.sum(np.abs(p))\n",
    "print( '|abs(p)| = {0}'.format( mag_p ) )\n",
    "p_prime = p / mag_p\n",
    "print( \"p' = {0}\".format( p_prime  ) )\n",
    "ext_p = np.array(extension(p, O, True))\n",
    "print( '⟦p⟧ = \\n{0}'.format(ext_p) )\n",
    "A = extension(p, O, False)\n",
    "print( 'A = ⟦p⟧ = \\n{0}'.format(np.array(A)) )\n",
    "A_dot_p = np.dot(A, p)\n",
    "print('A⸱p = {0}'.format( A_dot_p ))\n",
    "print( 'V = \\n{0}'.format(O) )\n",
    "# print( 'unramped_3 ⟦p⟧:\\n{0}'.format(unramped_extension_alt3(p)) )\n",
    "V_dot_p = np.dot(objectMap, p)\n",
    "print(\"V⸱p = \\n{0}\".format( V_dot_p))\n",
    "V_dot_p_prime = np.dot(objectMap, p_prime)\n",
    "print( \"V⸱p' = \\n{0}\".format(V_dot_p_prime) )\n",
    "\n",
    "def ramp(M):\n",
    "    return np.heaviside(M-1, 1).astype(myint)\n",
    "ramp(V_dot_p_prime)\n",
    "np.array_equal(ext_p, ramp(V_dot_p_prime))\n",
    "# np.heaviside( np.dot(objectMap, p/(np.sum(np.abs(p)))) )"
   ]
  },
  {
   "cell_type": "code",
   "execution_count": 65,
   "metadata": {
    "ExecuteTime": {
     "end_time": "2019-05-12T21:29:58.383170Z",
     "start_time": "2019-05-12T21:29:58.379609Z"
    }
   },
   "outputs": [],
   "source": [
    "def specifiable_zero_indices(p, ext_p):\n",
    "    '''\n",
    "    Given p and A::(n,m) = ⟦p⟧:\n",
    "    \n",
    "    If p_j = 0 and ∀i A_{i,j} = k≠0, then\n",
    "    p_j is unspecified (i.e. p_j = 0) but \n",
    "    can be set to k and yield a co-extensive \n",
    "    and more specific pfv p'. (NB: p' entails \n",
    "    p.)\n",
    "    \n",
    "    This function returns a list of 0-valued \n",
    "    indices of p that can be specified, but not \n",
    "    what the common value at that index is.\n",
    "    \n",
    "    Correctly specifying any one or any combination\n",
    "    of the indices in this list of indices will result\n",
    "    in a more specific vector than p that is coextensive.\n",
    "    \n",
    "    From this list, you can construct (or count) all of the\n",
    "    more specified pfvs that are coextensive with p.\n",
    "    '''\n",
    "    A = ext_p\n",
    "    n = A.shape[0]\n",
    "    n_opp = -1.0 * n\n",
    "#     zeros = np.nonzero(p)[0]\n",
    "    zero_indices = np.array(tuple(  set(range(len(p))) - set(np.nonzero(p)[0])  ), dtype=myint)\n",
    "    specifiable_indices = set()\n",
    "    for j in zero_indices:\n",
    "        j_col_sum = np.sum(A[:,j])\n",
    "        if j_col_sum == n or j_col_sum == n_opp:\n",
    "            specifiable_indices.add(j)\n",
    "    return specifiable_indices"
   ]
  },
  {
   "cell_type": "code",
   "execution_count": 66,
   "metadata": {
    "ExecuteTime": {
     "end_time": "2019-05-12T21:29:58.387409Z",
     "start_time": "2019-05-12T21:29:58.385056Z"
    }
   },
   "outputs": [
    {
     "data": {
      "text/plain": [
       "array([ 0,  0,  0,  0, -1], dtype=int8)"
      ]
     },
     "execution_count": 66,
     "metadata": {},
     "output_type": "execute_result"
    }
   ],
   "source": [
    "p"
   ]
  },
  {
   "cell_type": "code",
   "execution_count": 67,
   "metadata": {
    "ExecuteTime": {
     "end_time": "2019-05-12T21:29:58.392338Z",
     "start_time": "2019-05-12T21:29:58.388356Z"
    }
   },
   "outputs": [
    {
     "data": {
      "text/plain": [
       "array([[-1, -1,  1,  1, -1]])"
      ]
     },
     "execution_count": 67,
     "metadata": {},
     "output_type": "execute_result"
    },
    {
     "data": {
      "text/plain": [
       "(1, 5)"
      ]
     },
     "execution_count": 67,
     "metadata": {},
     "output_type": "execute_result"
    }
   ],
   "source": [
    "np.array(extension(p, O, False))\n",
    "np.array(extension(p, O, False)).shape"
   ]
  },
  {
   "cell_type": "code",
   "execution_count": 68,
   "metadata": {
    "ExecuteTime": {
     "end_time": "2019-05-12T21:29:58.399549Z",
     "start_time": "2019-05-12T21:29:58.393364Z"
    }
   },
   "outputs": [
    {
     "data": {
      "text/plain": [
       "array([ 0,  0,  0,  0, -1], dtype=int8)"
      ]
     },
     "execution_count": 68,
     "metadata": {},
     "output_type": "execute_result"
    },
    {
     "data": {
      "text/plain": [
       "array([4])"
      ]
     },
     "execution_count": 68,
     "metadata": {},
     "output_type": "execute_result"
    },
    {
     "data": {
      "text/plain": [
       "{4}"
      ]
     },
     "execution_count": 68,
     "metadata": {},
     "output_type": "execute_result"
    },
    {
     "data": {
      "text/plain": [
       "array([0, 1, 2, 3], dtype=int8)"
      ]
     },
     "execution_count": 68,
     "metadata": {},
     "output_type": "execute_result"
    }
   ],
   "source": [
    "p\n",
    "np.nonzero(p)[0]\n",
    "set(np.nonzero(p)[0])\n",
    "np.array( tuple(\n",
    "    set(range(len(p))) - set(np.nonzero(p)[0])\n",
    "), dtype=myint )"
   ]
  },
  {
   "cell_type": "code",
   "execution_count": 69,
   "metadata": {
    "ExecuteTime": {
     "end_time": "2019-05-12T21:29:58.423362Z",
     "start_time": "2019-05-12T21:29:58.400515Z"
    }
   },
   "outputs": [],
   "source": [
    "?extension_alt3"
   ]
  },
  {
   "cell_type": "code",
   "execution_count": 70,
   "metadata": {
    "ExecuteTime": {
     "end_time": "2019-05-12T21:29:58.431072Z",
     "start_time": "2019-05-12T21:29:58.424386Z"
    }
   },
   "outputs": [
    {
     "data": {
      "text/plain": [
       "array([1, 0, 0, 0, 0], dtype=int8)"
      ]
     },
     "execution_count": 70,
     "metadata": {},
     "output_type": "execute_result"
    },
    {
     "data": {
      "text/plain": [
       "array([1, 0, 0, 0, 0], dtype=int8)"
      ]
     },
     "execution_count": 70,
     "metadata": {},
     "output_type": "execute_result"
    },
    {
     "data": {
      "text/plain": [
       "array([1, 0, 0, 0, 0], dtype=int8)"
      ]
     },
     "execution_count": 70,
     "metadata": {},
     "output_type": "execute_result"
    },
    {
     "data": {
      "text/plain": [
       "True"
      ]
     },
     "execution_count": 70,
     "metadata": {},
     "output_type": "execute_result"
    }
   ],
   "source": [
    "# p = make_random_pfv()\n",
    "extension(p, O)\n",
    "extension_alt(p, O)\n",
    "extension_alt3(p, O)\n",
    "np.array_equal(extension_alt(p, O), extension_alt3(p, O))"
   ]
  },
  {
   "cell_type": "code",
   "execution_count": 71,
   "metadata": {
    "ExecuteTime": {
     "end_time": "2019-05-12T21:29:58.434523Z",
     "start_time": "2019-05-12T21:29:58.432020Z"
    }
   },
   "outputs": [
    {
     "data": {
      "text/plain": [
       "array([1, 0, 0, 0, 0], dtype=int8)"
      ]
     },
     "execution_count": 71,
     "metadata": {},
     "output_type": "execute_result"
    }
   ],
   "source": [
    "extension_alt3(p, O)"
   ]
  },
  {
   "cell_type": "code",
   "execution_count": 72,
   "metadata": {
    "ExecuteTime": {
     "end_time": "2019-05-12T21:29:58.437913Z",
     "start_time": "2019-05-12T21:29:58.435525Z"
    }
   },
   "outputs": [
    {
     "data": {
      "text/plain": [
       "array([[-1, -1,  1,  1, -1],\n",
       "       [-1, -1,  1, -1,  1],\n",
       "       [-1, -1, -1, -1,  1],\n",
       "       [-1,  1,  1,  1,  1],\n",
       "       [-1, -1,  1,  1,  1]])"
      ]
     },
     "execution_count": 72,
     "metadata": {},
     "output_type": "execute_result"
    }
   ],
   "source": [
    "O"
   ]
  },
  {
   "cell_type": "code",
   "execution_count": 73,
   "metadata": {
    "ExecuteTime": {
     "end_time": "2019-05-12T21:29:58.767787Z",
     "start_time": "2019-05-12T21:29:58.438917Z"
    }
   },
   "outputs": [
    {
     "data": {
      "text/plain": [
       "100000"
      ]
     },
     "execution_count": 73,
     "metadata": {},
     "output_type": "execute_result"
    }
   ],
   "source": [
    "num_test_pairs = int(1e5)\n",
    "random_vectors = [make_random_pfv() for each in range(num_test_pairs)]\n",
    "len(random_vectors)"
   ]
  },
  {
   "cell_type": "code",
   "execution_count": 74,
   "metadata": {
    "ExecuteTime": {
     "end_time": "2019-05-12T21:29:58.772054Z",
     "start_time": "2019-05-12T21:29:58.768818Z"
    }
   },
   "outputs": [],
   "source": [
    "def extension_test(v, O):\n",
    "    foo = extension(v, O)\n",
    "    bar = extension_alt(v, O)\n",
    "    baz = extension_alt3(v, O)\n",
    "    if not np.array_equal(foo, bar):\n",
    "        raise Exception('1. Disagreement on {0}: {1} vs. {2}'.format(v, extension(v, O), extension_alt(v, O)))\n",
    "    if not np.array_equal(foo, baz):\n",
    "        raise Exception('2. Disagreement on {0}: {1} vs. {2}'.format(v, extension(v, O), extension_alt3(v, O)))\n",
    "    return True"
   ]
  },
  {
   "cell_type": "code",
   "execution_count": 75,
   "metadata": {
    "ExecuteTime": {
     "end_time": "2019-05-12T21:30:08.661132Z",
     "start_time": "2019-05-12T21:29:58.773101Z"
    }
   },
   "outputs": [
    {
     "name": "stderr",
     "output_type": "stream",
     "text": [
      "[Parallel(n_jobs=30)]: Using backend MultiprocessingBackend with 30 concurrent workers.\n",
      "[Parallel(n_jobs=30)]: Done   1 tasks      | elapsed:    0.0s\n",
      "[Parallel(n_jobs=30)]: Batch computation too fast (0.0052s.) Setting batch_size=76.\n",
      "[Parallel(n_jobs=30)]: Done  12 tasks      | elapsed:    0.0s\n",
      "[Parallel(n_jobs=30)]: Done  25 tasks      | elapsed:    0.0s\n",
      "[Parallel(n_jobs=30)]: Done  38 tasks      | elapsed:    0.0s\n",
      "[Parallel(n_jobs=30)]: Done  53 tasks      | elapsed:    0.1s\n",
      "[Parallel(n_jobs=30)]: Batch computation too fast (0.0620s.) Setting batch_size=490.\n",
      "[Parallel(n_jobs=30)]: Done 668 tasks      | elapsed:    0.2s\n",
      "[Parallel(n_jobs=30)]: Done 1960 tasks      | elapsed:    0.4s\n",
      "[Parallel(n_jobs=30)]: Done 3252 tasks      | elapsed:    0.5s\n",
      "[Parallel(n_jobs=30)]: Done 5110 tasks      | elapsed:    0.7s\n",
      "[Parallel(n_jobs=30)]: Done 14420 tasks      | elapsed:    2.2s\n",
      "[Parallel(n_jobs=30)]: Batch computation too slow (2.0095s.) Setting batch_size=245.\n",
      "[Parallel(n_jobs=30)]: Done 24710 tasks      | elapsed:    3.2s\n",
      "[Parallel(n_jobs=30)]: Done 35000 tasks      | elapsed:    4.1s\n",
      "[Parallel(n_jobs=30)]: Batch computation too slow (2.0253s.) Setting batch_size=122.\n",
      "[Parallel(n_jobs=30)]: Done 44800 tasks      | elapsed:    4.9s\n",
      "[Parallel(n_jobs=30)]: Done 52885 tasks      | elapsed:    5.5s\n",
      "[Parallel(n_jobs=30)]: Done 58149 tasks      | elapsed:    5.9s\n",
      "[Parallel(n_jobs=30)]: Done 62183 tasks      | elapsed:    6.2s\n",
      "[Parallel(n_jobs=30)]: Done 65477 tasks      | elapsed:    6.5s\n",
      "[Parallel(n_jobs=30)]: Done 68771 tasks      | elapsed:    6.9s\n",
      "[Parallel(n_jobs=30)]: Done 72309 tasks      | elapsed:    7.2s\n",
      "[Parallel(n_jobs=30)]: Done 75847 tasks      | elapsed:    7.6s\n",
      "[Parallel(n_jobs=30)]: Done 79629 tasks      | elapsed:    7.9s\n",
      "[Parallel(n_jobs=30)]: Done 83411 tasks      | elapsed:    8.3s\n",
      "[Parallel(n_jobs=30)]: Done 87437 tasks      | elapsed:    8.6s\n",
      "[Parallel(n_jobs=30)]: Done 91463 tasks      | elapsed:    9.1s\n",
      "[Parallel(n_jobs=30)]: Done 100000 out of 100000 | elapsed:    9.7s finished\n"
     ]
    },
    {
     "data": {
      "text/plain": [
       "[True,\n",
       " True,\n",
       " True,\n",
       " True,\n",
       " True,\n",
       " True,\n",
       " True,\n",
       " True,\n",
       " True,\n",
       " True,\n",
       " True,\n",
       " True,\n",
       " True,\n",
       " True,\n",
       " True,\n",
       " True,\n",
       " True,\n",
       " True,\n",
       " True,\n",
       " True,\n",
       " True,\n",
       " True,\n",
       " True,\n",
       " True,\n",
       " True,\n",
       " True,\n",
       " True,\n",
       " True,\n",
       " True,\n",
       " True,\n",
       " True,\n",
       " True,\n",
       " True,\n",
       " True,\n",
       " True,\n",
       " True,\n",
       " True,\n",
       " True,\n",
       " True,\n",
       " True,\n",
       " True,\n",
       " True,\n",
       " True,\n",
       " True,\n",
       " True,\n",
       " True,\n",
       " True,\n",
       " True,\n",
       " True,\n",
       " True,\n",
       " True,\n",
       " True,\n",
       " True,\n",
       " True,\n",
       " True,\n",
       " True,\n",
       " True,\n",
       " True,\n",
       " True,\n",
       " True,\n",
       " True,\n",
       " True,\n",
       " True,\n",
       " True,\n",
       " True,\n",
       " True,\n",
       " True,\n",
       " True,\n",
       " True,\n",
       " True,\n",
       " True,\n",
       " True,\n",
       " True,\n",
       " True,\n",
       " True,\n",
       " True,\n",
       " True,\n",
       " True,\n",
       " True,\n",
       " True,\n",
       " True,\n",
       " True,\n",
       " True,\n",
       " True,\n",
       " True,\n",
       " True,\n",
       " True,\n",
       " True,\n",
       " True,\n",
       " True,\n",
       " True,\n",
       " True,\n",
       " True,\n",
       " True,\n",
       " True,\n",
       " True,\n",
       " True,\n",
       " True,\n",
       " True,\n",
       " True,\n",
       " True,\n",
       " True,\n",
       " True,\n",
       " True,\n",
       " True,\n",
       " True,\n",
       " True,\n",
       " True,\n",
       " True,\n",
       " True,\n",
       " True,\n",
       " True,\n",
       " True,\n",
       " True,\n",
       " True,\n",
       " True,\n",
       " True,\n",
       " True,\n",
       " True,\n",
       " True,\n",
       " True,\n",
       " True,\n",
       " True,\n",
       " True,\n",
       " True,\n",
       " True,\n",
       " True,\n",
       " True,\n",
       " True,\n",
       " True,\n",
       " True,\n",
       " True,\n",
       " True,\n",
       " True,\n",
       " True,\n",
       " True,\n",
       " True,\n",
       " True,\n",
       " True,\n",
       " True,\n",
       " True,\n",
       " True,\n",
       " True,\n",
       " True,\n",
       " True,\n",
       " True,\n",
       " True,\n",
       " True,\n",
       " True,\n",
       " True,\n",
       " True,\n",
       " True,\n",
       " True,\n",
       " True,\n",
       " True,\n",
       " True,\n",
       " True,\n",
       " True,\n",
       " True,\n",
       " True,\n",
       " True,\n",
       " True,\n",
       " True,\n",
       " True,\n",
       " True,\n",
       " True,\n",
       " True,\n",
       " True,\n",
       " True,\n",
       " True,\n",
       " True,\n",
       " True,\n",
       " True,\n",
       " True,\n",
       " True,\n",
       " True,\n",
       " True,\n",
       " True,\n",
       " True,\n",
       " True,\n",
       " True,\n",
       " True,\n",
       " True,\n",
       " True,\n",
       " True,\n",
       " True,\n",
       " True,\n",
       " True,\n",
       " True,\n",
       " True,\n",
       " True,\n",
       " True,\n",
       " True,\n",
       " True,\n",
       " True,\n",
       " True,\n",
       " True,\n",
       " True,\n",
       " True,\n",
       " True,\n",
       " True,\n",
       " True,\n",
       " True,\n",
       " True,\n",
       " True,\n",
       " True,\n",
       " True,\n",
       " True,\n",
       " True,\n",
       " True,\n",
       " True,\n",
       " True,\n",
       " True,\n",
       " True,\n",
       " True,\n",
       " True,\n",
       " True,\n",
       " True,\n",
       " True,\n",
       " True,\n",
       " True,\n",
       " True,\n",
       " True,\n",
       " True,\n",
       " True,\n",
       " True,\n",
       " True,\n",
       " True,\n",
       " True,\n",
       " True,\n",
       " True,\n",
       " True,\n",
       " True,\n",
       " True,\n",
       " True,\n",
       " True,\n",
       " True,\n",
       " True,\n",
       " True,\n",
       " True,\n",
       " True,\n",
       " True,\n",
       " True,\n",
       " True,\n",
       " True,\n",
       " True,\n",
       " True,\n",
       " True,\n",
       " True,\n",
       " True,\n",
       " True,\n",
       " True,\n",
       " True,\n",
       " True,\n",
       " True,\n",
       " True,\n",
       " True,\n",
       " True,\n",
       " True,\n",
       " True,\n",
       " True,\n",
       " True,\n",
       " True,\n",
       " True,\n",
       " True,\n",
       " True,\n",
       " True,\n",
       " True,\n",
       " True,\n",
       " True,\n",
       " True,\n",
       " True,\n",
       " True,\n",
       " True,\n",
       " True,\n",
       " True,\n",
       " True,\n",
       " True,\n",
       " True,\n",
       " True,\n",
       " True,\n",
       " True,\n",
       " True,\n",
       " True,\n",
       " True,\n",
       " True,\n",
       " True,\n",
       " True,\n",
       " True,\n",
       " True,\n",
       " True,\n",
       " True,\n",
       " True,\n",
       " True,\n",
       " True,\n",
       " True,\n",
       " True,\n",
       " True,\n",
       " True,\n",
       " True,\n",
       " True,\n",
       " True,\n",
       " True,\n",
       " True,\n",
       " True,\n",
       " True,\n",
       " True,\n",
       " True,\n",
       " True,\n",
       " True,\n",
       " True,\n",
       " True,\n",
       " True,\n",
       " True,\n",
       " True,\n",
       " True,\n",
       " True,\n",
       " True,\n",
       " True,\n",
       " True,\n",
       " True,\n",
       " True,\n",
       " True,\n",
       " True,\n",
       " True,\n",
       " True,\n",
       " True,\n",
       " True,\n",
       " True,\n",
       " True,\n",
       " True,\n",
       " True,\n",
       " True,\n",
       " True,\n",
       " True,\n",
       " True,\n",
       " True,\n",
       " True,\n",
       " True,\n",
       " True,\n",
       " True,\n",
       " True,\n",
       " True,\n",
       " True,\n",
       " True,\n",
       " True,\n",
       " True,\n",
       " True,\n",
       " True,\n",
       " True,\n",
       " True,\n",
       " True,\n",
       " True,\n",
       " True,\n",
       " True,\n",
       " True,\n",
       " True,\n",
       " True,\n",
       " True,\n",
       " True,\n",
       " True,\n",
       " True,\n",
       " True,\n",
       " True,\n",
       " True,\n",
       " True,\n",
       " True,\n",
       " True,\n",
       " True,\n",
       " True,\n",
       " True,\n",
       " True,\n",
       " True,\n",
       " True,\n",
       " True,\n",
       " True,\n",
       " True,\n",
       " True,\n",
       " True,\n",
       " True,\n",
       " True,\n",
       " True,\n",
       " True,\n",
       " True,\n",
       " True,\n",
       " True,\n",
       " True,\n",
       " True,\n",
       " True,\n",
       " True,\n",
       " True,\n",
       " True,\n",
       " True,\n",
       " True,\n",
       " True,\n",
       " True,\n",
       " True,\n",
       " True,\n",
       " True,\n",
       " True,\n",
       " True,\n",
       " True,\n",
       " True,\n",
       " True,\n",
       " True,\n",
       " True,\n",
       " True,\n",
       " True,\n",
       " True,\n",
       " True,\n",
       " True,\n",
       " True,\n",
       " True,\n",
       " True,\n",
       " True,\n",
       " True,\n",
       " True,\n",
       " True,\n",
       " True,\n",
       " True,\n",
       " True,\n",
       " True,\n",
       " True,\n",
       " True,\n",
       " True,\n",
       " True,\n",
       " True,\n",
       " True,\n",
       " True,\n",
       " True,\n",
       " True,\n",
       " True,\n",
       " True,\n",
       " True,\n",
       " True,\n",
       " True,\n",
       " True,\n",
       " True,\n",
       " True,\n",
       " True,\n",
       " True,\n",
       " True,\n",
       " True,\n",
       " True,\n",
       " True,\n",
       " True,\n",
       " True,\n",
       " True,\n",
       " True,\n",
       " True,\n",
       " True,\n",
       " True,\n",
       " True,\n",
       " True,\n",
       " True,\n",
       " True,\n",
       " True,\n",
       " True,\n",
       " True,\n",
       " True,\n",
       " True,\n",
       " True,\n",
       " True,\n",
       " True,\n",
       " True,\n",
       " True,\n",
       " True,\n",
       " True,\n",
       " True,\n",
       " True,\n",
       " True,\n",
       " True,\n",
       " True,\n",
       " True,\n",
       " True,\n",
       " True,\n",
       " True,\n",
       " True,\n",
       " True,\n",
       " True,\n",
       " True,\n",
       " True,\n",
       " True,\n",
       " True,\n",
       " True,\n",
       " True,\n",
       " True,\n",
       " True,\n",
       " True,\n",
       " True,\n",
       " True,\n",
       " True,\n",
       " True,\n",
       " True,\n",
       " True,\n",
       " True,\n",
       " True,\n",
       " True,\n",
       " True,\n",
       " True,\n",
       " True,\n",
       " True,\n",
       " True,\n",
       " True,\n",
       " True,\n",
       " True,\n",
       " True,\n",
       " True,\n",
       " True,\n",
       " True,\n",
       " True,\n",
       " True,\n",
       " True,\n",
       " True,\n",
       " True,\n",
       " True,\n",
       " True,\n",
       " True,\n",
       " True,\n",
       " True,\n",
       " True,\n",
       " True,\n",
       " True,\n",
       " True,\n",
       " True,\n",
       " True,\n",
       " True,\n",
       " True,\n",
       " True,\n",
       " True,\n",
       " True,\n",
       " True,\n",
       " True,\n",
       " True,\n",
       " True,\n",
       " True,\n",
       " True,\n",
       " True,\n",
       " True,\n",
       " True,\n",
       " True,\n",
       " True,\n",
       " True,\n",
       " True,\n",
       " True,\n",
       " True,\n",
       " True,\n",
       " True,\n",
       " True,\n",
       " True,\n",
       " True,\n",
       " True,\n",
       " True,\n",
       " True,\n",
       " True,\n",
       " True,\n",
       " True,\n",
       " True,\n",
       " True,\n",
       " True,\n",
       " True,\n",
       " True,\n",
       " True,\n",
       " True,\n",
       " True,\n",
       " True,\n",
       " True,\n",
       " True,\n",
       " True,\n",
       " True,\n",
       " True,\n",
       " True,\n",
       " True,\n",
       " True,\n",
       " True,\n",
       " True,\n",
       " True,\n",
       " True,\n",
       " True,\n",
       " True,\n",
       " True,\n",
       " True,\n",
       " True,\n",
       " True,\n",
       " True,\n",
       " True,\n",
       " True,\n",
       " True,\n",
       " True,\n",
       " True,\n",
       " True,\n",
       " True,\n",
       " True,\n",
       " True,\n",
       " True,\n",
       " True,\n",
       " True,\n",
       " True,\n",
       " True,\n",
       " True,\n",
       " True,\n",
       " True,\n",
       " True,\n",
       " True,\n",
       " True,\n",
       " True,\n",
       " True,\n",
       " True,\n",
       " True,\n",
       " True,\n",
       " True,\n",
       " True,\n",
       " True,\n",
       " True,\n",
       " True,\n",
       " True,\n",
       " True,\n",
       " True,\n",
       " True,\n",
       " True,\n",
       " True,\n",
       " True,\n",
       " True,\n",
       " True,\n",
       " True,\n",
       " True,\n",
       " True,\n",
       " True,\n",
       " True,\n",
       " True,\n",
       " True,\n",
       " True,\n",
       " True,\n",
       " True,\n",
       " True,\n",
       " True,\n",
       " True,\n",
       " True,\n",
       " True,\n",
       " True,\n",
       " True,\n",
       " True,\n",
       " True,\n",
       " True,\n",
       " True,\n",
       " True,\n",
       " True,\n",
       " True,\n",
       " True,\n",
       " True,\n",
       " True,\n",
       " True,\n",
       " True,\n",
       " True,\n",
       " True,\n",
       " True,\n",
       " True,\n",
       " True,\n",
       " True,\n",
       " True,\n",
       " True,\n",
       " True,\n",
       " True,\n",
       " True,\n",
       " True,\n",
       " True,\n",
       " True,\n",
       " True,\n",
       " True,\n",
       " True,\n",
       " True,\n",
       " True,\n",
       " True,\n",
       " True,\n",
       " True,\n",
       " True,\n",
       " True,\n",
       " True,\n",
       " True,\n",
       " True,\n",
       " True,\n",
       " True,\n",
       " True,\n",
       " True,\n",
       " True,\n",
       " True,\n",
       " True,\n",
       " True,\n",
       " True,\n",
       " True,\n",
       " True,\n",
       " True,\n",
       " True,\n",
       " True,\n",
       " True,\n",
       " True,\n",
       " True,\n",
       " True,\n",
       " True,\n",
       " True,\n",
       " True,\n",
       " True,\n",
       " True,\n",
       " True,\n",
       " True,\n",
       " True,\n",
       " True,\n",
       " True,\n",
       " True,\n",
       " True,\n",
       " True,\n",
       " True,\n",
       " True,\n",
       " True,\n",
       " True,\n",
       " True,\n",
       " True,\n",
       " True,\n",
       " True,\n",
       " True,\n",
       " True,\n",
       " True,\n",
       " True,\n",
       " True,\n",
       " True,\n",
       " True,\n",
       " True,\n",
       " True,\n",
       " True,\n",
       " True,\n",
       " True,\n",
       " True,\n",
       " True,\n",
       " True,\n",
       " True,\n",
       " True,\n",
       " True,\n",
       " True,\n",
       " True,\n",
       " True,\n",
       " True,\n",
       " True,\n",
       " True,\n",
       " True,\n",
       " True,\n",
       " True,\n",
       " True,\n",
       " True,\n",
       " True,\n",
       " True,\n",
       " True,\n",
       " True,\n",
       " True,\n",
       " True,\n",
       " True,\n",
       " True,\n",
       " True,\n",
       " True,\n",
       " True,\n",
       " True,\n",
       " True,\n",
       " True,\n",
       " True,\n",
       " True,\n",
       " True,\n",
       " True,\n",
       " True,\n",
       " True,\n",
       " True,\n",
       " True,\n",
       " True,\n",
       " True,\n",
       " True,\n",
       " True,\n",
       " True,\n",
       " True,\n",
       " True,\n",
       " True,\n",
       " True,\n",
       " True,\n",
       " True,\n",
       " True,\n",
       " True,\n",
       " True,\n",
       " True,\n",
       " True,\n",
       " True,\n",
       " True,\n",
       " True,\n",
       " True,\n",
       " True,\n",
       " True,\n",
       " True,\n",
       " True,\n",
       " True,\n",
       " True,\n",
       " True,\n",
       " True,\n",
       " True,\n",
       " True,\n",
       " True,\n",
       " True,\n",
       " True,\n",
       " True,\n",
       " True,\n",
       " True,\n",
       " True,\n",
       " True,\n",
       " True,\n",
       " True,\n",
       " True,\n",
       " True,\n",
       " True,\n",
       " True,\n",
       " True,\n",
       " True,\n",
       " True,\n",
       " True,\n",
       " True,\n",
       " True,\n",
       " True,\n",
       " True,\n",
       " True,\n",
       " True,\n",
       " True,\n",
       " True,\n",
       " True,\n",
       " True,\n",
       " True,\n",
       " True,\n",
       " True,\n",
       " True,\n",
       " True,\n",
       " True,\n",
       " True,\n",
       " True,\n",
       " True,\n",
       " True,\n",
       " True,\n",
       " True,\n",
       " True,\n",
       " True,\n",
       " True,\n",
       " True,\n",
       " True,\n",
       " True,\n",
       " True,\n",
       " True,\n",
       " True,\n",
       " True,\n",
       " True,\n",
       " True,\n",
       " True,\n",
       " True,\n",
       " True,\n",
       " True,\n",
       " True,\n",
       " True,\n",
       " True,\n",
       " True,\n",
       " True,\n",
       " True,\n",
       " True,\n",
       " True,\n",
       " True,\n",
       " True,\n",
       " True,\n",
       " True,\n",
       " True,\n",
       " True,\n",
       " True,\n",
       " True,\n",
       " True,\n",
       " True,\n",
       " True,\n",
       " True,\n",
       " True,\n",
       " True,\n",
       " True,\n",
       " True,\n",
       " True,\n",
       " True,\n",
       " True,\n",
       " True,\n",
       " True,\n",
       " True,\n",
       " True,\n",
       " True,\n",
       " True,\n",
       " True,\n",
       " True,\n",
       " True,\n",
       " True,\n",
       " True,\n",
       " True,\n",
       " True,\n",
       " True,\n",
       " True,\n",
       " True,\n",
       " True,\n",
       " True,\n",
       " True,\n",
       " True,\n",
       " True,\n",
       " True,\n",
       " True,\n",
       " True,\n",
       " True,\n",
       " True,\n",
       " True,\n",
       " True,\n",
       " True,\n",
       " True,\n",
       " True,\n",
       " True,\n",
       " True,\n",
       " True,\n",
       " True,\n",
       " True,\n",
       " True,\n",
       " True,\n",
       " True,\n",
       " True,\n",
       " True,\n",
       " True,\n",
       " True,\n",
       " True,\n",
       " True,\n",
       " True,\n",
       " True,\n",
       " True,\n",
       " True,\n",
       " True,\n",
       " True,\n",
       " True,\n",
       " True,\n",
       " True,\n",
       " True,\n",
       " True,\n",
       " True,\n",
       " True,\n",
       " True,\n",
       " True,\n",
       " True,\n",
       " True,\n",
       " True,\n",
       " True,\n",
       " True,\n",
       " True,\n",
       " True,\n",
       " True,\n",
       " True,\n",
       " True,\n",
       " True,\n",
       " True,\n",
       " True,\n",
       " True,\n",
       " True,\n",
       " True,\n",
       " True,\n",
       " True,\n",
       " True,\n",
       " True,\n",
       " True,\n",
       " True,\n",
       " True,\n",
       " True,\n",
       " True,\n",
       " True,\n",
       " True,\n",
       " True,\n",
       " True,\n",
       " True,\n",
       " True,\n",
       " True,\n",
       " True,\n",
       " True,\n",
       " True,\n",
       " True,\n",
       " True,\n",
       " True,\n",
       " True,\n",
       " True,\n",
       " True,\n",
       " True,\n",
       " True,\n",
       " True,\n",
       " True,\n",
       " True,\n",
       " True,\n",
       " True,\n",
       " True,\n",
       " True,\n",
       " True,\n",
       " True,\n",
       " True,\n",
       " True,\n",
       " True,\n",
       " True,\n",
       " True,\n",
       " ...]"
      ]
     },
     "execution_count": 75,
     "metadata": {},
     "output_type": "execute_result"
    }
   ],
   "source": [
    "par(delayed(extension_test)(v, O) for v in random_vectors)\n",
    "\n",
    "# for p in tqdm(random_vectors):\n",
    "#     assert np.array_equal(extension(p), extension_alt(p)), 'Disagreement on {0}: {1} vs. {2}'.format(p, extension(p), extension_alt(p))"
   ]
  },
  {
   "cell_type": "code",
   "execution_count": 76,
   "metadata": {
    "ExecuteTime": {
     "end_time": "2019-05-12T21:31:27.385372Z",
     "start_time": "2019-05-12T21:30:08.662348Z"
    }
   },
   "outputs": [
    {
     "name": "stdout",
     "output_type": "stream",
     "text": [
      "9.84 s ± 34.8 ms per loop (mean ± std. dev. of 7 runs, 1 loop each)\n"
     ]
    }
   ],
   "source": [
    "%%timeit\n",
    "\n",
    "list(map(lambda v: extension(v, O), random_vectors))"
   ]
  },
  {
   "cell_type": "code",
   "execution_count": 77,
   "metadata": {
    "ExecuteTime": {
     "end_time": "2019-05-12T21:34:16.786725Z",
     "start_time": "2019-05-12T21:31:27.386432Z"
    }
   },
   "outputs": [
    {
     "name": "stdout",
     "output_type": "stream",
     "text": [
      "21.2 s ± 17.8 ms per loop (mean ± std. dev. of 7 runs, 1 loop each)\n"
     ]
    }
   ],
   "source": [
    "%%timeit\n",
    "\n",
    "list(map(lambda v: extension_alt(v, O), random_vectors))"
   ]
  },
  {
   "cell_type": "code",
   "execution_count": 78,
   "metadata": {
    "ExecuteTime": {
     "end_time": "2019-05-12T21:34:28.086520Z",
     "start_time": "2019-05-12T21:34:16.787842Z"
    }
   },
   "outputs": [
    {
     "name": "stdout",
     "output_type": "stream",
     "text": [
      "1.41 s ± 3.09 ms per loop (mean ± std. dev. of 7 runs, 1 loop each)\n"
     ]
    }
   ],
   "source": [
    "%%timeit\n",
    "\n",
    "list(map(lambda v: extension_alt3(v, O), random_vectors))"
   ]
  },
  {
   "cell_type": "code",
   "execution_count": 79,
   "metadata": {
    "ExecuteTime": {
     "end_time": "2019-05-12T21:34:28.089328Z",
     "start_time": "2019-05-12T21:34:28.087599Z"
    },
    "scrolled": true
   },
   "outputs": [],
   "source": [
    "# agree_mat(p, objectMap)"
   ]
  },
  {
   "cell_type": "markdown",
   "metadata": {},
   "source": [
    "## Specification array + value array"
   ]
  },
  {
   "cell_type": "markdown",
   "metadata": {},
   "source": [
    "This representation of a partial feature vector $p$ uses two bit sequences, $s$ and $v$\n",
    " - $s_i = 0$ iff $p_i = 0$ and is otherwise $1$\n",
    " - $v_i = 0$ if $p_i = -1$\n",
    " - $v_i = 1$ if $p_i = 1$\n",
    "\n",
    "Note that the value of $v_i$ is unspecified if $p_i = 0$."
   ]
  },
  {
   "cell_type": "markdown",
   "metadata": {},
   "source": [
    "### Converting between representations"
   ]
  },
  {
   "cell_type": "code",
   "execution_count": 80,
   "metadata": {
    "ExecuteTime": {
     "end_time": "2019-05-12T21:34:28.094958Z",
     "start_time": "2019-05-12T21:34:28.090331Z"
    }
   },
   "outputs": [],
   "source": [
    "spec_cb = {-1:bitarray('1'),\n",
    "            0:bitarray('0'),\n",
    "            1:bitarray('1')}\n",
    "val_cb = {-1:bitarray('0'),\n",
    "           0:bitarray('0'),\n",
    "           1:bitarray('1')}"
   ]
  },
  {
   "cell_type": "code",
   "execution_count": 81,
   "metadata": {
    "ExecuteTime": {
     "end_time": "2019-05-12T21:34:28.101794Z",
     "start_time": "2019-05-12T21:34:28.096033Z"
    }
   },
   "outputs": [],
   "source": [
    "def pfv_to_sv(pfv):\n",
    "    s = bitarray()\n",
    "    s.encode(spec_cb, list(pfv))\n",
    "    v = bitarray()\n",
    "    v.encode(val_cb, list(pfv))\n",
    "    return s,v\n",
    "\n",
    "def sv_to_pfv(s,v):\n",
    "#     print('s,v = {0}, {1}'.format(s.to01(), v.to01()))\n",
    "    specified = np.array(s.tolist(), dtype=myint)\n",
    "    values = np.array(v.tolist(), dtype=myint)\n",
    "#     print('\\ts,v = {0}, {1}'.format(specified, values))\n",
    "    for i in range(m):\n",
    "        if specified[i] != 0:\n",
    "            specified[i] = 1 if values[i] else -1\n",
    "#     print('\\ts = {0}'.format(specified))\n",
    "    return specified"
   ]
  },
  {
   "cell_type": "code",
   "execution_count": 82,
   "metadata": {
    "ExecuteTime": {
     "end_time": "2019-05-12T21:34:28.451678Z",
     "start_time": "2019-05-12T21:34:28.102952Z"
    }
   },
   "outputs": [
    {
     "name": "stderr",
     "output_type": "stream",
     "text": [
      "100%|██████████| 100000/100000 [00:00<00:00, 298269.47it/s]\n"
     ]
    },
    {
     "data": {
      "text/plain": [
       "100000"
      ]
     },
     "execution_count": 82,
     "metadata": {},
     "output_type": "execute_result"
    }
   ],
   "source": [
    "num_test_pairs = int(1e5)\n",
    "random_vectors = [make_random_pfv() for each in tqdm(range(num_test_pairs))]\n",
    "len(random_vectors)"
   ]
  },
  {
   "cell_type": "code",
   "execution_count": 83,
   "metadata": {
    "ExecuteTime": {
     "end_time": "2019-05-12T21:34:31.268072Z",
     "start_time": "2019-05-12T21:34:28.452736Z"
    }
   },
   "outputs": [
    {
     "name": "stderr",
     "output_type": "stream",
     "text": [
      "100%|██████████| 100000/100000 [00:02<00:00, 35563.55it/s]\n"
     ]
    }
   ],
   "source": [
    "for p in tqdm(random_vectors):\n",
    "    s,v = pfv_to_sv(p)\n",
    "    p_prime = sv_to_pfv(s,v)\n",
    "    assert np.array_equal(p, p_prime), 'Conversion failure on {0}'.format(pair)"
   ]
  },
  {
   "cell_type": "markdown",
   "metadata": {},
   "source": [
    "### Operations"
   ]
  },
  {
   "cell_type": "markdown",
   "metadata": {},
   "source": [
    "If $p,q$ are two partial feature vectors and $(s^p, v^p), (s^q, v^q)$ are their associated specification and value bitvectors, then:"
   ]
  },
  {
   "cell_type": "markdown",
   "metadata": {},
   "source": [
    "We can define an element-wise agree operation by pattern matching:\n",
    "```\n",
    "agree((s^p_i,v^p_i), (s^q_i,v^q_i)):\n",
    "    (s_w, s_x) = (s_w, s_x) ⟶ 1\n",
    "    (0,0)      = (_, _)     ⟶ 1\n",
    "    (_, _)     = (0,0)      ⟶ 1\n",
    "    _          = _          ⟶ 0\n",
    "```\n",
    "Or perhaps more clearly by Boolean formula:\n",
    " - $\\text{agree}(s^p_i,v^p_i,s^q_i,v^q_i) = (\\neg s^p_i \\lor \\neg s^q_i) \\lor ((s^p_i \\land s^q_i) \\land (v^p_i \\iff v^q_i)) $"
   ]
  },
  {
   "cell_type": "markdown",
   "metadata": {},
   "source": [
    "We can define an element-wise union operation (assuming agreement holds) by pattern matching:\n",
    "```\n",
    "Assuming agree(p,q) holds:\n",
    "\n",
    "cup((s^p_i,v^p_i), (s^q_i,v^q_i)):\n",
    "    (s_w, s_x) ∪ (s_w, s_x) = (s_w, s_x)\n",
    "    (0,0)      ∪ (s_y, s_z) = (s_y, s_z)\n",
    "    (s_w, s_x) ∪ (0,0)      = (s_w, s_x)\n",
    "    _          ∪ _          = (0,0)\n",
    "```\n",
    "Or again, more clearly by Boolean formula:\n",
    " - $\\text{cup}(s^p_i,v^p_i,s^q_i,v^q_i) = (s^p_i \\lor s^q_i, v^p_i \\lor v^q_i)$\n",
    "\n",
    "I.e. we can take the `bitwise or` of respective specification vectors and value vectors to get the specification and value vector of the union of two partial feature vectors."
   ]
  },
  {
   "cell_type": "markdown",
   "metadata": {},
   "source": [
    "We can define an element-wise intersection operation by pattern matching:\n",
    "```\n",
    "cap((s^p_i,v^p_i), (s^q_i,v^q_i)):\n",
    "    (s_w, s_x) ∩ (s_w, s_x) = (s_w, s_x)\n",
    "    (0,0)      ∩ (_, _)     = (0,0)\n",
    "    (_, _)     ∩ (0,0)      = (0,0)\n",
    "    _          ∩ _          = (0,0)\n",
    "```\n",
    "...or by Boolean formula\n",
    " - $\\text{cap}(s^p_i,v^p_i,s^q_i,v^q_i) = ((s^p_i \\land s^q_i) \\land (v^p_i \\iff v^q_i), v^p_i \\land v^q_i)$"
   ]
  },
  {
   "cell_type": "code",
   "execution_count": 84,
   "metadata": {
    "ExecuteTime": {
     "end_time": "2019-05-12T21:34:31.272505Z",
     "start_time": "2019-05-12T21:34:31.269109Z"
    }
   },
   "outputs": [],
   "source": [
    "def xor(p,q):\n",
    "    return (p & ~q) | (~p & q)\n",
    "\n",
    "def ifthen(p,q):\n",
    "    return ~p | q\n",
    "\n",
    "def iff(p,q):\n",
    "    return ifthen(p,q) & ifthen(q,p)\n",
    "\n",
    "assert xor(bitarray('0011'), bitarray('0101')) == bitarray('0110')\n",
    "assert ifthen(bitarray('0011'), bitarray('0101')) == bitarray('1101')\n",
    "assert iff(bitarray('0011'), bitarray('0101')) == bitarray('1001')"
   ]
  },
  {
   "cell_type": "code",
   "execution_count": 85,
   "metadata": {
    "ExecuteTime": {
     "end_time": "2019-05-12T21:34:31.277044Z",
     "start_time": "2019-05-12T21:34:31.273526Z"
    }
   },
   "outputs": [],
   "source": [
    "def agree_ba(s_p, v_p, s_q, v_q):\n",
    "    return (~s_p | ~s_q) | ((s_p & s_q) & iff(v_p, v_q))\n",
    "\n",
    "def agree_ba_(s_p, v_p, s_q, v_q):\n",
    "    return agree_ba(s_p, v_p, s_q, v_q).all()\n",
    "\n",
    "def union_ba(s_p, v_p, s_q, v_q):\n",
    "    return s_p | s_q, v_p | v_q\n",
    "\n",
    "def intersection_ba(s_p, v_p, s_q, v_q):\n",
    "    return (s_p & s_q) & iff(v_p, v_q), v_p & v_q"
   ]
  },
  {
   "cell_type": "markdown",
   "metadata": {},
   "source": [
    "Below we test that they have the same behavior as the baseline representation and operations:"
   ]
  },
  {
   "cell_type": "code",
   "execution_count": 86,
   "metadata": {
    "ExecuteTime": {
     "end_time": "2019-05-12T21:34:37.789802Z",
     "start_time": "2019-05-12T21:34:31.278053Z"
    }
   },
   "outputs": [
    {
     "name": "stderr",
     "output_type": "stream",
     "text": [
      "100%|██████████| 100000/100000 [00:06<00:00, 15366.85it/s]\n"
     ]
    }
   ],
   "source": [
    "for p,q in tqdm(agreeing_vector_pairs):\n",
    "    s_p, v_p = pfv_to_sv(p)\n",
    "    s_q, v_q = pfv_to_sv(q)\n",
    "    assert np.array_equal(agree(p,q), np.array(list(agree_ba(s_p, v_p, s_q, v_q)), dtype=myint))\n",
    "    assert np.array_equal(union(p,q), sv_to_pfv(*union_ba(s_p, v_p, s_q, v_q)))"
   ]
  },
  {
   "cell_type": "code",
   "execution_count": 87,
   "metadata": {
    "ExecuteTime": {
     "end_time": "2019-05-12T21:34:44.841304Z",
     "start_time": "2019-05-12T21:34:37.790826Z"
    }
   },
   "outputs": [
    {
     "name": "stderr",
     "output_type": "stream",
     "text": [
      "100%|██████████| 100000/100000 [00:07<00:00, 14191.58it/s]\n"
     ]
    }
   ],
   "source": [
    "for p,q in tqdm(random_vector_pairs):\n",
    "    s_p, v_p = pfv_to_sv(p)\n",
    "    s_q, v_q = pfv_to_sv(q)\n",
    "    assert np.array_equal(agree(p,q), np.array(list(agree_ba(s_p, v_p, s_q, v_q)), dtype=myint))\n",
    "    assert np.array_equal(intersection(p,q), sv_to_pfv(*intersection_ba(s_p, v_p, s_q, v_q)))"
   ]
  },
  {
   "cell_type": "code",
   "execution_count": 88,
   "metadata": {
    "ExecuteTime": {
     "end_time": "2019-05-12T21:34:44.844264Z",
     "start_time": "2019-05-12T21:34:44.842294Z"
    }
   },
   "outputs": [],
   "source": [
    "def in_extension_ba(s_p, v_p, s_o, v_o):\n",
    "    return agree_ba_(s_p, v_p, s_o, v_o)"
   ]
  },
  {
   "cell_type": "markdown",
   "metadata": {},
   "source": [
    "### Performance evaluation"
   ]
  },
  {
   "cell_type": "markdown",
   "metadata": {},
   "source": [
    "Now we compare timing:"
   ]
  },
  {
   "cell_type": "code",
   "execution_count": 89,
   "metadata": {
    "ExecuteTime": {
     "end_time": "2019-05-12T21:34:50.345988Z",
     "start_time": "2019-05-12T21:34:44.845364Z"
    }
   },
   "outputs": [],
   "source": [
    "agreeing_vector_pairs_ba = [(pfv_to_sv(u)[0], pfv_to_sv(u)[1], pfv_to_sv(v)[0], pfv_to_sv(v)[1]) for u,v in agreeing_vector_pairs]"
   ]
  },
  {
   "cell_type": "code",
   "execution_count": 90,
   "metadata": {
    "ExecuteTime": {
     "end_time": "2019-05-12T21:34:55.765910Z",
     "start_time": "2019-05-12T21:34:50.347018Z"
    }
   },
   "outputs": [],
   "source": [
    "random_vector_pairs_ba = [(pfv_to_sv(u)[0], pfv_to_sv(u)[1], pfv_to_sv(v)[0], pfv_to_sv(v)[1]) for u,v in random_vector_pairs]"
   ]
  },
  {
   "cell_type": "code",
   "execution_count": 91,
   "metadata": {
    "ExecuteTime": {
     "end_time": "2019-05-12T21:34:55.769445Z",
     "start_time": "2019-05-12T21:34:55.767098Z"
    }
   },
   "outputs": [],
   "source": [
    "def unpack_pfv_pair(pair):\n",
    "    p = pair[0]\n",
    "    q = pair[1]\n",
    "    s_p, v_p = pfv_to_sv(p)\n",
    "    s_q, v_q = pfv_to_sv(q)\n",
    "    return (s_p, v_p, s_q, v_q)\n",
    "\n",
    "# def unpack_sv_pair_pair(sv_pair_pair):\n",
    "#     s_p, v_p = sv_pair_pair[0][0], sv_pair_pair[0][1]\n",
    "#     s_q, v_q = sv_pair_pair[1][2], sv_pair_pair[1][1]\n",
    "#     return (s_p, v_p, s_q, v_q)"
   ]
  },
  {
   "cell_type": "code",
   "execution_count": 92,
   "metadata": {
    "ExecuteTime": {
     "end_time": "2019-05-12T21:35:04.831564Z",
     "start_time": "2019-05-12T21:34:55.770526Z"
    }
   },
   "outputs": [
    {
     "name": "stdout",
     "output_type": "stream",
     "text": [
      "1.13 s ± 2.4 ms per loop (mean ± std. dev. of 7 runs, 1 loop each)\n"
     ]
    }
   ],
   "source": [
    "%%timeit\n",
    "\n",
    "list(starmap(agree, random_vector_pairs))"
   ]
  },
  {
   "cell_type": "code",
   "execution_count": 93,
   "metadata": {
    "ExecuteTime": {
     "end_time": "2019-05-12T21:35:18.859102Z",
     "start_time": "2019-05-12T21:35:04.832637Z"
    }
   },
   "outputs": [
    {
     "name": "stdout",
     "output_type": "stream",
     "text": [
      "173 ms ± 44.6 µs per loop (mean ± std. dev. of 7 runs, 10 loops each)\n"
     ]
    }
   ],
   "source": [
    "%%timeit\n",
    "\n",
    "list(starmap(agree_ba, random_vector_pairs_ba))"
   ]
  },
  {
   "cell_type": "code",
   "execution_count": 94,
   "metadata": {
    "ExecuteTime": {
     "end_time": "2019-05-12T21:35:25.448968Z",
     "start_time": "2019-05-12T21:35:18.860135Z"
    }
   },
   "outputs": [
    {
     "name": "stdout",
     "output_type": "stream",
     "text": [
      "81.3 ms ± 180 µs per loop (mean ± std. dev. of 7 runs, 10 loops each)\n"
     ]
    }
   ],
   "source": [
    "%%timeit\n",
    "\n",
    "list(starmap(union, agreeing_vector_pairs))"
   ]
  },
  {
   "cell_type": "code",
   "execution_count": 95,
   "metadata": {
    "ExecuteTime": {
     "end_time": "2019-05-12T21:35:29.429860Z",
     "start_time": "2019-05-12T21:35:25.449989Z"
    }
   },
   "outputs": [
    {
     "name": "stdout",
     "output_type": "stream",
     "text": [
      "49 ms ± 18 µs per loop (mean ± std. dev. of 7 runs, 10 loops each)\n"
     ]
    }
   ],
   "source": [
    "%%timeit\n",
    "\n",
    "list(starmap(union_ba, agreeing_vector_pairs_ba))"
   ]
  },
  {
   "cell_type": "code",
   "execution_count": 96,
   "metadata": {
    "ExecuteTime": {
     "end_time": "2019-05-12T21:35:43.787071Z",
     "start_time": "2019-05-12T21:35:29.430891Z"
    }
   },
   "outputs": [
    {
     "name": "stdout",
     "output_type": "stream",
     "text": [
      "177 ms ± 165 µs per loop (mean ± std. dev. of 7 runs, 10 loops each)\n"
     ]
    }
   ],
   "source": [
    "%%timeit\n",
    "\n",
    "list(starmap(intersection, random_vector_pairs))"
   ]
  },
  {
   "cell_type": "code",
   "execution_count": 97,
   "metadata": {
    "ExecuteTime": {
     "end_time": "2019-05-12T21:35:55.902079Z",
     "start_time": "2019-05-12T21:35:43.788131Z"
    }
   },
   "outputs": [
    {
     "name": "stdout",
     "output_type": "stream",
     "text": [
      "150 ms ± 45.3 µs per loop (mean ± std. dev. of 7 runs, 10 loops each)\n"
     ]
    }
   ],
   "source": [
    "%%timeit\n",
    "\n",
    "list(starmap(intersection_ba, random_vector_pairs_ba))"
   ]
  },
  {
   "cell_type": "markdown",
   "metadata": {},
   "source": [
    "#### Conclusion"
   ]
  },
  {
   "cell_type": "markdown",
   "metadata": {},
   "source": [
    "In the baseline representation:\n",
    " - `agreement` checking is very expensive, taking ≈10x longer than `union`ing and ≈5x longer than `intersect`ing\n",
    "\n",
    "In the bitarray representation:\n",
    " - `agreement` checking and `intersection` take comparably long, and both take about 5x longer than `union`\n",
    "\n",
    "`agreement` checking is about 5x faster with bitarrays than with the baseline representation, `intersection` is about 1.25x faster, and `union` is about 2x faster."
   ]
  },
  {
   "cell_type": "markdown",
   "metadata": {},
   "source": [
    "## Matrix extension of the baseline representation"
   ]
  },
  {
   "cell_type": "code",
   "execution_count": 98,
   "metadata": {
    "ExecuteTime": {
     "end_time": "2019-05-12T21:35:55.906232Z",
     "start_time": "2019-05-12T21:35:55.903093Z"
    }
   },
   "outputs": [
    {
     "data": {
      "text/plain": [
       "[(array([ 1,  0,  0, -1,  1], dtype=int8),\n",
       "  array([ 1, -1,  0, -1,  1], dtype=int8)),\n",
       " (array([0, 0, 0, 0, 0], dtype=int8), array([-1,  0,  1,  1,  0], dtype=int8)),\n",
       " (array([ 0, -1,  0, -1, -1], dtype=int8),\n",
       "  array([-1,  1,  0, -1, -1], dtype=int8))]"
      ]
     },
     "execution_count": 98,
     "metadata": {},
     "output_type": "execute_result"
    }
   ],
   "source": [
    "random_stack_list = random_vector_pairs[:3]; random_stack_list"
   ]
  },
  {
   "cell_type": "code",
   "execution_count": 99,
   "metadata": {
    "ExecuteTime": {
     "end_time": "2019-05-12T21:35:55.911383Z",
     "start_time": "2019-05-12T21:35:55.907461Z"
    }
   },
   "outputs": [
    {
     "data": {
      "text/plain": [
       "[(array([ 1,  0,  0, -1,  1], dtype=int8),\n",
       "  array([ 1, -1,  0, -1,  1], dtype=int8)),\n",
       " (array([0, 0, 0, 0, 0], dtype=int8), array([-1,  0,  1,  1,  0], dtype=int8)),\n",
       " (array([ 0, -1,  0, -1, -1], dtype=int8),\n",
       "  array([-1,  1,  0, -1, -1], dtype=int8)),\n",
       " (array([ 1,  1,  0, -1,  1], dtype=int8),\n",
       "  array([-1, -1,  0,  0,  1], dtype=int8)),\n",
       " (array([-1,  0,  0, -1, -1], dtype=int8),\n",
       "  array([ 0,  0, -1,  0,  0], dtype=int8)),\n",
       " (array([ 0,  0, -1,  0, -1], dtype=int8),\n",
       "  array([-1,  1,  0,  1, -1], dtype=int8)),\n",
       " (array([ 1,  1,  0, -1, -1], dtype=int8),\n",
       "  array([ 0,  0,  1, -1,  1], dtype=int8)),\n",
       " (array([-1, -1,  1,  0, -1], dtype=int8),\n",
       "  array([ 1,  1, -1,  0,  1], dtype=int8)),\n",
       " (array([ 1,  0, -1, -1,  1], dtype=int8),\n",
       "  array([-1,  0,  0, -1, -1], dtype=int8)),\n",
       " (array([1, 1, 0, 1, 0], dtype=int8), array([0, 0, 0, 1, 0], dtype=int8))]"
      ]
     },
     "execution_count": 99,
     "metadata": {},
     "output_type": "execute_result"
    }
   ],
   "source": [
    "random_vector_pairs[:10]"
   ]
  },
  {
   "cell_type": "code",
   "execution_count": 100,
   "metadata": {
    "ExecuteTime": {
     "end_time": "2019-05-12T21:35:55.970801Z",
     "start_time": "2019-05-12T21:35:55.912608Z"
    }
   },
   "outputs": [
    {
     "data": {
      "text/plain": [
       "dtype('int8')"
      ]
     },
     "execution_count": 100,
     "metadata": {},
     "output_type": "execute_result"
    },
    {
     "data": {
      "text/plain": [
       "dtype('int8')"
      ]
     },
     "execution_count": 100,
     "metadata": {},
     "output_type": "execute_result"
    }
   ],
   "source": [
    "first = lambda seq: seq[0]\n",
    "second = lambda seq: seq[1]\n",
    "\n",
    "stack_a, stack_b = list(map(first, random_vector_pairs)), list(map(second, random_vector_pairs))\n",
    "random_pair_stack_a, random_pair_stack_b = np.array(stack_a), np.array(stack_b)\n",
    "random_pair_stack_a.dtype\n",
    "random_pair_stack_b.dtype"
   ]
  },
  {
   "cell_type": "code",
   "execution_count": 101,
   "metadata": {
    "ExecuteTime": {
     "end_time": "2019-05-12T21:35:56.033375Z",
     "start_time": "2019-05-12T21:35:55.971947Z"
    }
   },
   "outputs": [
    {
     "data": {
      "text/plain": [
       "dtype('int8')"
      ]
     },
     "execution_count": 101,
     "metadata": {},
     "output_type": "execute_result"
    },
    {
     "data": {
      "text/plain": [
       "dtype('int8')"
      ]
     },
     "execution_count": 101,
     "metadata": {},
     "output_type": "execute_result"
    }
   ],
   "source": [
    "stack_a, stack_b = list(map(first, agreeing_vector_pairs)), list(map(second, agreeing_vector_pairs))\n",
    "agreeing_pair_stack_a, agreeing_pair_stack_b = np.array(stack_a), np.array(stack_b)\n",
    "agreeing_pair_stack_a.dtype\n",
    "agreeing_pair_stack_b.dtype"
   ]
  },
  {
   "cell_type": "markdown",
   "metadata": {},
   "source": [
    "### Agreement testing"
   ]
  },
  {
   "cell_type": "code",
   "execution_count": 102,
   "metadata": {
    "ExecuteTime": {
     "end_time": "2019-05-12T21:35:56.036816Z",
     "start_time": "2019-05-12T21:35:56.034400Z"
    }
   },
   "outputs": [
    {
     "data": {
      "text/plain": [
       "(100000, 5)"
      ]
     },
     "execution_count": 102,
     "metadata": {},
     "output_type": "execute_result"
    }
   ],
   "source": [
    "random_pair_stack_a.shape\n",
    "n = random_pair_stack_a.shape[0]"
   ]
  },
  {
   "cell_type": "code",
   "execution_count": 103,
   "metadata": {
    "ExecuteTime": {
     "end_time": "2019-05-12T21:35:57.430414Z",
     "start_time": "2019-05-12T21:35:56.037962Z"
    }
   },
   "outputs": [],
   "source": [
    "list(starmap(agree_, random_vector_pairs));"
   ]
  },
  {
   "cell_type": "code",
   "execution_count": 104,
   "metadata": {
    "ExecuteTime": {
     "end_time": "2019-05-12T21:35:58.850770Z",
     "start_time": "2019-05-12T21:35:57.431508Z"
    }
   },
   "outputs": [
    {
     "data": {
      "text/plain": [
       "(100000,)"
      ]
     },
     "execution_count": 104,
     "metadata": {},
     "output_type": "execute_result"
    }
   ],
   "source": [
    "vector_agree__results = np.array([agree_(random_pair_stack_a[i],random_pair_stack_b[i]) for i in range(n)])\n",
    "vector_agree__results.shape"
   ]
  },
  {
   "cell_type": "code",
   "execution_count": 105,
   "metadata": {
    "ExecuteTime": {
     "end_time": "2019-05-12T21:35:58.854933Z",
     "start_time": "2019-05-12T21:35:58.851822Z"
    }
   },
   "outputs": [],
   "source": [
    "def agree_mat(A,B):\n",
    "    '''\n",
    "    Given two matrices A::(n,m) and B::(n,m), \n",
    "    return C::(n,1) where \n",
    "    C[i] = 1 iff A[i] and B[i] agree at all indices\n",
    "    and 0 otherwise.\n",
    "    '''\n",
    "    # (x == 0 or y == 0) or ((x != 0 and y != 0) and (x == y))\n",
    "    A_unspecified = A == 0\n",
    "    B_unspecified = B == 0\n",
    "    A_or_B_unspecified = A_unspecified | B_unspecified\n",
    "    \n",
    "    A_specified = A != 0\n",
    "    B_specified = B != 0\n",
    "    A_and_B_specified = A_specified & B_specified\n",
    "    A_equal_B = np.equal(A,B)\n",
    "    A_B_both_specified_and_equal = A_and_B_specified & A_equal_B\n",
    "\n",
    "    ag = A_or_B_unspecified | A_B_both_specified_and_equal\n",
    "#     return ag\n",
    "    result = np.prod(ag, axis=-1, dtype=myint)\n",
    "    return result"
   ]
  },
  {
   "cell_type": "code",
   "execution_count": 106,
   "metadata": {
    "ExecuteTime": {
     "end_time": "2019-05-12T21:35:58.863617Z",
     "start_time": "2019-05-12T21:35:58.856275Z"
    }
   },
   "outputs": [
    {
     "data": {
      "text/plain": [
       "(100000,)"
      ]
     },
     "execution_count": 106,
     "metadata": {},
     "output_type": "execute_result"
    }
   ],
   "source": [
    "matrix_agree_result = agree_mat(random_pair_stack_a, random_pair_stack_b)\n",
    "matrix_agree_result.shape"
   ]
  },
  {
   "cell_type": "code",
   "execution_count": 107,
   "metadata": {
    "ExecuteTime": {
     "end_time": "2019-05-12T21:35:58.867153Z",
     "start_time": "2019-05-12T21:35:58.864605Z"
    }
   },
   "outputs": [
    {
     "data": {
      "text/plain": [
       "True"
      ]
     },
     "execution_count": 107,
     "metadata": {},
     "output_type": "execute_result"
    }
   ],
   "source": [
    "np.array_equal(matrix_agree_result, vector_agree__results)"
   ]
  },
  {
   "cell_type": "code",
   "execution_count": 108,
   "metadata": {
    "ExecuteTime": {
     "end_time": "2019-05-12T21:36:01.434054Z",
     "start_time": "2019-05-12T21:35:58.868278Z"
    }
   },
   "outputs": [],
   "source": [
    "for i in range(n):\n",
    "    u = random_pair_stack_a[i]\n",
    "    v = random_pair_stack_b[i]\n",
    "    assert agree_(u,v) == agree_mat(u,v), '{0}, {1} -> {2} vs. {3}'.format(u,v, agree_(u,v), agree_mat(u,v, True))"
   ]
  },
  {
   "cell_type": "markdown",
   "metadata": {},
   "source": [
    "### Union"
   ]
  },
  {
   "cell_type": "code",
   "execution_count": 109,
   "metadata": {
    "ExecuteTime": {
     "end_time": "2019-05-12T21:36:01.570281Z",
     "start_time": "2019-05-12T21:36:01.435088Z"
    }
   },
   "outputs": [
    {
     "data": {
      "text/plain": [
       "(100000, 5)"
      ]
     },
     "execution_count": 109,
     "metadata": {},
     "output_type": "execute_result"
    }
   ],
   "source": [
    "vector_union_results = np.array([union(agreeing_pair_stack_a[i],agreeing_pair_stack_b[i]) for i in range(n)])\n",
    "vector_union_results.shape"
   ]
  },
  {
   "cell_type": "code",
   "execution_count": 110,
   "metadata": {
    "ExecuteTime": {
     "end_time": "2019-05-12T21:36:01.576765Z",
     "start_time": "2019-05-12T21:36:01.574044Z"
    }
   },
   "outputs": [
    {
     "data": {
      "text/plain": [
       "array([[ 1,  0,  1,  0,  0],\n",
       "       [ 1,  0,  1,  1, -1],\n",
       "       [ 1, -1,  1, -1, -1],\n",
       "       ...,\n",
       "       [-1, -1, -1,  0,  1],\n",
       "       [-1,  1,  0,  1,  1],\n",
       "       [-1,  1,  1, -1,  0]], dtype=int8)"
      ]
     },
     "execution_count": 110,
     "metadata": {},
     "output_type": "execute_result"
    }
   ],
   "source": [
    "union(agreeing_pair_stack_a, agreeing_pair_stack_b)"
   ]
  },
  {
   "cell_type": "code",
   "execution_count": 111,
   "metadata": {
    "ExecuteTime": {
     "end_time": "2019-05-12T21:36:01.582349Z",
     "start_time": "2019-05-12T21:36:01.578199Z"
    }
   },
   "outputs": [
    {
     "data": {
      "text/plain": [
       "True"
      ]
     },
     "execution_count": 111,
     "metadata": {},
     "output_type": "execute_result"
    }
   ],
   "source": [
    "np.array_equal(vector_union_results, union(agreeing_pair_stack_a, agreeing_pair_stack_b) )"
   ]
  },
  {
   "cell_type": "markdown",
   "metadata": {},
   "source": [
    "### Intersection"
   ]
  },
  {
   "cell_type": "code",
   "execution_count": 112,
   "metadata": {
    "ExecuteTime": {
     "end_time": "2019-05-12T21:36:01.866924Z",
     "start_time": "2019-05-12T21:36:01.583512Z"
    }
   },
   "outputs": [
    {
     "data": {
      "text/plain": [
       "(100000, 5)"
      ]
     },
     "execution_count": 112,
     "metadata": {},
     "output_type": "execute_result"
    }
   ],
   "source": [
    "vector_intersection_results = np.array([intersection(random_pair_stack_a[i],random_pair_stack_b[i]) for i in range(n)])\n",
    "vector_intersection_results.shape"
   ]
  },
  {
   "cell_type": "code",
   "execution_count": 113,
   "metadata": {
    "ExecuteTime": {
     "end_time": "2019-05-12T21:36:01.871402Z",
     "start_time": "2019-05-12T21:36:01.867941Z"
    }
   },
   "outputs": [
    {
     "data": {
      "text/plain": [
       "array([[ 0,  0,  1,  0,  0],\n",
       "       [ 0,  0,  0,  0,  0],\n",
       "       [ 0,  0,  1,  0, -1],\n",
       "       ...,\n",
       "       [ 0,  0, -1,  0,  0],\n",
       "       [-1,  0,  0,  1,  0],\n",
       "       [ 0,  0,  0,  0,  0]], dtype=int8)"
      ]
     },
     "execution_count": 113,
     "metadata": {},
     "output_type": "execute_result"
    }
   ],
   "source": [
    "intersection(agreeing_pair_stack_a, agreeing_pair_stack_b)"
   ]
  },
  {
   "cell_type": "code",
   "execution_count": 114,
   "metadata": {
    "ExecuteTime": {
     "end_time": "2019-05-12T21:36:01.875812Z",
     "start_time": "2019-05-12T21:36:01.872567Z"
    }
   },
   "outputs": [
    {
     "data": {
      "text/plain": [
       "True"
      ]
     },
     "execution_count": 114,
     "metadata": {},
     "output_type": "execute_result"
    }
   ],
   "source": [
    "np.array_equal(vector_intersection_results, intersection(random_pair_stack_a, random_pair_stack_b) )"
   ]
  },
  {
   "cell_type": "markdown",
   "metadata": {},
   "source": [
    "### Extension"
   ]
  },
  {
   "cell_type": "markdown",
   "metadata": {},
   "source": [
    "Using `agree_mat` we can define a faster method for calculating extensions:"
   ]
  },
  {
   "cell_type": "code",
   "execution_count": 115,
   "metadata": {
    "ExecuteTime": {
     "end_time": "2019-05-12T21:36:01.878800Z",
     "start_time": "2019-05-12T21:36:01.876963Z"
    }
   },
   "outputs": [],
   "source": [
    "def extension_(pfv, O):\n",
    "    return agree_mat(pfv, O)"
   ]
  },
  {
   "cell_type": "code",
   "execution_count": 116,
   "metadata": {
    "ExecuteTime": {
     "end_time": "2019-05-12T21:36:01.888256Z",
     "start_time": "2019-05-12T21:36:01.879878Z"
    }
   },
   "outputs": [
    {
     "data": {
      "text/plain": [
       "array([1, 0, 0, 1, 1], dtype=int8)"
      ]
     },
     "execution_count": 116,
     "metadata": {},
     "output_type": "execute_result"
    },
    {
     "data": {
      "text/plain": [
       "' '"
      ]
     },
     "execution_count": 116,
     "metadata": {},
     "output_type": "execute_result"
    },
    {
     "data": {
      "text/plain": [
       "array([0, 0, 0, 0, 0], dtype=int8)"
      ]
     },
     "execution_count": 116,
     "metadata": {},
     "output_type": "execute_result"
    },
    {
     "data": {
      "text/plain": [
       "array([0, 0, 0, 0, 0], dtype=int8)"
      ]
     },
     "execution_count": 116,
     "metadata": {},
     "output_type": "execute_result"
    },
    {
     "data": {
      "text/plain": [
       "array([0, 0, 0, 0, 0], dtype=int8)"
      ]
     },
     "execution_count": 116,
     "metadata": {},
     "output_type": "execute_result"
    }
   ],
   "source": [
    "p = make_random_pfv()\n",
    "p\n",
    "' '\n",
    "extension(p, O)\n",
    "extension_alt(p, O)\n",
    "extension_(p, O)"
   ]
  },
  {
   "cell_type": "code",
   "execution_count": 117,
   "metadata": {
    "ExecuteTime": {
     "end_time": "2019-05-12T21:36:14.365953Z",
     "start_time": "2019-05-12T21:36:01.889269Z"
    }
   },
   "outputs": [
    {
     "name": "stderr",
     "output_type": "stream",
     "text": [
      "100%|██████████| 100000/100000 [00:12<00:00, 8017.08it/s]\n"
     ]
    }
   ],
   "source": [
    "for p in tqdm(random_vectors):\n",
    "    assert np.array_equal(extension(p, O), extension_(p, O)), 'Disagreement on {0}: {1} vs. {2}'.format(p, extension(p, O), extension_alt(p, O))"
   ]
  },
  {
   "cell_type": "code",
   "execution_count": 118,
   "metadata": {
    "ExecuteTime": {
     "end_time": "2019-05-12T21:37:33.318188Z",
     "start_time": "2019-05-12T21:36:14.366954Z"
    }
   },
   "outputs": [
    {
     "name": "stdout",
     "output_type": "stream",
     "text": [
      "9.85 s ± 55.3 ms per loop (mean ± std. dev. of 7 runs, 1 loop each)\n"
     ]
    }
   ],
   "source": [
    "%%timeit\n",
    "\n",
    "list(map(lambda v: extension(v, O), random_vectors))"
   ]
  },
  {
   "cell_type": "code",
   "execution_count": 119,
   "metadata": {
    "ExecuteTime": {
     "end_time": "2019-05-12T21:37:42.945517Z",
     "start_time": "2019-05-12T21:37:33.319415Z"
    }
   },
   "outputs": [
    {
     "name": "stdout",
     "output_type": "stream",
     "text": [
      "1.19 s ± 4.92 ms per loop (mean ± std. dev. of 7 runs, 1 loop each)\n"
     ]
    }
   ],
   "source": [
    "%%timeit\n",
    "\n",
    "list(map(lambda v: extension_(v,O), random_vectors))"
   ]
  },
  {
   "cell_type": "markdown",
   "metadata": {},
   "source": [
    "### Conclusion"
   ]
  },
  {
   "cell_type": "markdown",
   "metadata": {},
   "source": [
    "The `union` and `intersection` operations extend naturally to vector stacks (matrices), and vectorized versions of the boolean formulas discovered during exploration of bitarrays make a vectorized version of `agreement` easily definable.\n",
    "\n",
    "All three operations are enormously faster than either the baseline representation or the bitarray methods.\n",
    "\n",
    "The vectorized version of agreement naturally permits a moderately (≈5-6x) faster method of calculating the extension of a partial feature vector."
   ]
  },
  {
   "cell_type": "markdown",
   "metadata": {},
   "source": [
    "## `pytorch` and gpus"
   ]
  },
  {
   "cell_type": "markdown",
   "metadata": {},
   "source": [
    "The next logical question is whether gpus can usefully accelerate computation..."
   ]
  },
  {
   "cell_type": "code",
   "execution_count": 120,
   "metadata": {
    "ExecuteTime": {
     "end_time": "2019-05-12T21:37:43.184980Z",
     "start_time": "2019-05-12T21:37:42.946547Z"
    }
   },
   "outputs": [],
   "source": [
    "import torch"
   ]
  },
  {
   "cell_type": "code",
   "execution_count": 128,
   "metadata": {
    "ExecuteTime": {
     "end_time": "2019-05-12T21:40:37.877754Z",
     "start_time": "2019-05-12T21:40:37.872010Z"
    }
   },
   "outputs": [],
   "source": [
    "torch.set_default_tensor_type('torch.cuda.FloatTensor')\n",
    "gpu_int8_ttype = torch.cuda.CharTensor\n",
    "gpu_int16_ttype = torch.cuda.ShortTensor\n",
    "my_ttype = gpu_int8_ttype\n",
    "my_dtype = torch.uint8\n",
    "def t(ndarray):\n",
    "    if ndarray.dtype == myint:\n",
    "        return torch.tensor(ndarray.astype(np.int16)).type(my_ttype)\n",
    "    return torch.tensor(ndarray).type(my_ttype)"
   ]
  },
  {
   "cell_type": "code",
   "execution_count": 129,
   "metadata": {
    "ExecuteTime": {
     "end_time": "2019-05-12T21:40:38.736348Z",
     "start_time": "2019-05-12T21:40:38.705433Z"
    }
   },
   "outputs": [],
   "source": [
    "objects_t = t(np.array(objects))\n",
    "objectMap_t = t(objectMap)\n",
    "O_t = objectMap_t"
   ]
  },
  {
   "cell_type": "markdown",
   "metadata": {},
   "source": [
    "### Agreement"
   ]
  },
  {
   "cell_type": "code",
   "execution_count": 123,
   "metadata": {
    "ExecuteTime": {
     "end_time": "2019-05-12T21:37:46.026974Z",
     "start_time": "2019-05-12T21:37:46.024377Z"
    }
   },
   "outputs": [
    {
     "data": {
      "text/plain": [
       "array([-1, -1,  0,  1,  1], dtype=int8)"
      ]
     },
     "execution_count": 123,
     "metadata": {},
     "output_type": "execute_result"
    }
   ],
   "source": [
    "p"
   ]
  },
  {
   "cell_type": "code",
   "execution_count": 124,
   "metadata": {
    "ExecuteTime": {
     "end_time": "2019-05-12T21:37:46.032620Z",
     "start_time": "2019-05-12T21:37:46.028157Z"
    }
   },
   "outputs": [
    {
     "data": {
      "text/plain": [
       "array([1, 0, 1, 1, 0], dtype=int8)"
      ]
     },
     "execution_count": 124,
     "metadata": {},
     "output_type": "execute_result"
    }
   ],
   "source": [
    "q"
   ]
  },
  {
   "cell_type": "code",
   "execution_count": 125,
   "metadata": {
    "ExecuteTime": {
     "end_time": "2019-05-12T21:37:46.037935Z",
     "start_time": "2019-05-12T21:37:46.033658Z"
    }
   },
   "outputs": [
    {
     "data": {
      "text/plain": [
       "array([False, False, False,  True, False])"
      ]
     },
     "execution_count": 125,
     "metadata": {},
     "output_type": "execute_result"
    },
    {
     "data": {
      "text/plain": [
       "tensor([0, 0, 0, 1, 0], dtype=torch.uint8)"
      ]
     },
     "execution_count": 125,
     "metadata": {},
     "output_type": "execute_result"
    }
   ],
   "source": [
    "np.equal(p,q)\n",
    "torch.eq(t(p), t(q))"
   ]
  },
  {
   "cell_type": "code",
   "execution_count": 126,
   "metadata": {
    "ExecuteTime": {
     "end_time": "2019-05-12T21:37:46.044092Z",
     "start_time": "2019-05-12T21:37:46.038970Z"
    }
   },
   "outputs": [
    {
     "data": {
      "text/plain": [
       "tensor([1, 1, 1], dtype=torch.uint8)"
      ]
     },
     "execution_count": 126,
     "metadata": {},
     "output_type": "execute_result"
    },
    {
     "data": {
      "text/plain": [
       "'torch.cuda.ByteTensor'"
      ]
     },
     "execution_count": 126,
     "metadata": {},
     "output_type": "execute_result"
    },
    {
     "data": {
      "text/plain": [
       "tensor(1, dtype=torch.uint8)"
      ]
     },
     "execution_count": 126,
     "metadata": {},
     "output_type": "execute_result"
    }
   ],
   "source": [
    "tens = torch.tensor([1,1,1])\n",
    "tens = tens.type(torch.cuda.ByteTensor)\n",
    "tens\n",
    "tens.type()\n",
    "tens.all()"
   ]
  },
  {
   "cell_type": "code",
   "execution_count": 130,
   "metadata": {
    "ExecuteTime": {
     "end_time": "2019-05-12T21:40:46.330032Z",
     "start_time": "2019-05-12T21:40:46.319990Z"
    }
   },
   "outputs": [
    {
     "data": {
      "text/plain": [
       "tensor([[1, 1, 1],\n",
       "        [1, 0, 1]], dtype=torch.int8)"
      ]
     },
     "execution_count": 130,
     "metadata": {},
     "output_type": "execute_result"
    },
    {
     "data": {
      "text/plain": [
       "(tensor([[1, 1, 1]], dtype=torch.int8), tensor([[1, 0, 1]], dtype=torch.int8))"
      ]
     },
     "execution_count": 130,
     "metadata": {},
     "output_type": "execute_result"
    },
    {
     "data": {
      "text/plain": [
       "(tensor(1), tensor(0))"
      ]
     },
     "execution_count": 130,
     "metadata": {},
     "output_type": "execute_result"
    }
   ],
   "source": [
    "quux = torch.tensor([[1,1,1],[1,0,1]])\n",
    "quux = quux.type(my_ttype)\n",
    "quux\n",
    "torch.split(quux, 1, dim=0)\n",
    "tuple(map(torch.prod, torch.split(quux, 1, dim=0) ))"
   ]
  },
  {
   "cell_type": "code",
   "execution_count": 131,
   "metadata": {
    "ExecuteTime": {
     "end_time": "2019-05-12T21:40:51.318614Z",
     "start_time": "2019-05-12T21:40:51.306387Z"
    }
   },
   "outputs": [],
   "source": [
    "def agree_mat_t(A,B):\n",
    "    '''\n",
    "    Given two matrices (torch tensors) A::(n,m) and B::(n,m), \n",
    "    return C::(n,1) where \n",
    "    C[i] = 1 iff A[i] and B[i] agree at all indices\n",
    "    and 0 otherwise.\n",
    "    '''\n",
    "    # (x == 0 or y == 0) or ((x != 0 and y != 0) and (x == y))\n",
    "    A_unspecified = A == 0\n",
    "    B_unspecified = B == 0\n",
    "    A_or_B_unspecified = A_unspecified | B_unspecified\n",
    "    \n",
    "    A_specified = A != 0\n",
    "    B_specified = B != 0\n",
    "    A_and_B_specified = A_specified & B_specified\n",
    "    A_equal_B = torch.eq(A,B)\n",
    "    A_B_both_specified_and_equal = A_and_B_specified & A_equal_B\n",
    "\n",
    "    ag = A_or_B_unspecified | A_B_both_specified_and_equal\n",
    "#     return ag\n",
    "#     result = np.prod(ag, axis=-1, dtype=myint)\n",
    "    result = torch.zeros([A.shape[0]],dtype=my_dtype)\n",
    "    result = torch.prod(ag, dim=1,dtype=my_dtype, out=result)\n",
    "#     result = ag.type(torch.cuda.ByteTensor).all()\n",
    "    return result#.type(my_torch_type)"
   ]
  },
  {
   "cell_type": "code",
   "execution_count": 132,
   "metadata": {
    "ExecuteTime": {
     "end_time": "2019-05-12T21:41:08.763060Z",
     "start_time": "2019-05-12T21:40:53.661943Z"
    }
   },
   "outputs": [
    {
     "name": "stdout",
     "output_type": "stream",
     "text": [
      "1.86 ms ± 5.39 µs per loop (mean ± std. dev. of 7 runs, 1000 loops each)\n"
     ]
    }
   ],
   "source": [
    "%%timeit\n",
    "\n",
    "agree_mat(random_pair_stack_a, random_pair_stack_b)"
   ]
  },
  {
   "cell_type": "code",
   "execution_count": 133,
   "metadata": {
    "ExecuteTime": {
     "end_time": "2019-05-12T21:41:08.793603Z",
     "start_time": "2019-05-12T21:41:08.764193Z"
    }
   },
   "outputs": [],
   "source": [
    "random_pair_stack_a_t, random_pair_stack_b_t = t(random_pair_stack_a), t(random_pair_stack_b)"
   ]
  },
  {
   "cell_type": "code",
   "execution_count": 134,
   "metadata": {
    "ExecuteTime": {
     "end_time": "2019-05-12T21:41:14.370784Z",
     "start_time": "2019-05-12T21:41:08.794872Z"
    }
   },
   "outputs": [
    {
     "name": "stdout",
     "output_type": "stream",
     "text": [
      "687 µs ± 202 ns per loop (mean ± std. dev. of 7 runs, 1000 loops each)\n"
     ]
    }
   ],
   "source": [
    "%%timeit\n",
    "\n",
    "agree_mat_t(random_pair_stack_a_t, random_pair_stack_b_t)"
   ]
  },
  {
   "cell_type": "code",
   "execution_count": 135,
   "metadata": {
    "ExecuteTime": {
     "end_time": "2019-05-12T21:41:14.437151Z",
     "start_time": "2019-05-12T21:41:14.372111Z"
    }
   },
   "outputs": [
    {
     "data": {
      "text/plain": [
       "True"
      ]
     },
     "execution_count": 135,
     "metadata": {},
     "output_type": "execute_result"
    }
   ],
   "source": [
    "np.array_equal(\n",
    "    matrix_agree_result,\n",
    "    agree_mat_t(t(random_pair_stack_a), t(random_pair_stack_b)).cpu().type(torch.int16).numpy()\n",
    ")"
   ]
  },
  {
   "cell_type": "markdown",
   "metadata": {},
   "source": [
    "### Union"
   ]
  },
  {
   "cell_type": "code",
   "execution_count": 136,
   "metadata": {
    "ExecuteTime": {
     "end_time": "2019-05-12T21:41:14.440086Z",
     "start_time": "2019-05-12T21:41:14.438211Z"
    }
   },
   "outputs": [],
   "source": [
    "def union_t(u, v):\n",
    "#     if CAREFUL:\n",
    "#         assert agree_(u,v)\n",
    "    return torch.sign(u + v)"
   ]
  },
  {
   "cell_type": "code",
   "execution_count": 137,
   "metadata": {
    "ExecuteTime": {
     "end_time": "2019-05-12T21:41:19.614912Z",
     "start_time": "2019-05-12T21:41:14.441157Z"
    }
   },
   "outputs": [
    {
     "name": "stdout",
     "output_type": "stream",
     "text": [
      "63.7 µs ± 26.9 ns per loop (mean ± std. dev. of 7 runs, 10000 loops each)\n"
     ]
    }
   ],
   "source": [
    "%%timeit\n",
    "\n",
    "union(agreeing_pair_stack_a, agreeing_pair_stack_b)"
   ]
  },
  {
   "cell_type": "code",
   "execution_count": 138,
   "metadata": {
    "ExecuteTime": {
     "end_time": "2019-05-12T21:41:19.618845Z",
     "start_time": "2019-05-12T21:41:19.615949Z"
    }
   },
   "outputs": [],
   "source": [
    "agreeing_pair_stack_a_t, agreeing_pair_stack_b_t = t(agreeing_pair_stack_a), t(agreeing_pair_stack_b)"
   ]
  },
  {
   "cell_type": "code",
   "execution_count": 139,
   "metadata": {
    "ExecuteTime": {
     "end_time": "2019-05-12T21:41:23.319241Z",
     "start_time": "2019-05-12T21:41:19.620413Z"
    }
   },
   "outputs": [
    {
     "name": "stdout",
     "output_type": "stream",
     "text": [
      "45.8 µs ± 10.4 ns per loop (mean ± std. dev. of 7 runs, 10000 loops each)\n"
     ]
    }
   ],
   "source": [
    "%%timeit\n",
    "\n",
    "union_t(agreeing_pair_stack_a_t, agreeing_pair_stack_b_t)"
   ]
  },
  {
   "cell_type": "code",
   "execution_count": 140,
   "metadata": {
    "ExecuteTime": {
     "end_time": "2019-05-12T21:41:23.345292Z",
     "start_time": "2019-05-12T21:41:23.320698Z"
    }
   },
   "outputs": [
    {
     "data": {
      "text/plain": [
       "True"
      ]
     },
     "execution_count": 140,
     "metadata": {},
     "output_type": "execute_result"
    }
   ],
   "source": [
    "np.array_equal(\n",
    "    union(agreeing_pair_stack_a, agreeing_pair_stack_b),\n",
    "    union_t(t(agreeing_pair_stack_a), t(agreeing_pair_stack_b)).cpu().type(torch.int16).numpy()\n",
    ")"
   ]
  },
  {
   "cell_type": "markdown",
   "metadata": {},
   "source": [
    "### Intersection"
   ]
  },
  {
   "cell_type": "code",
   "execution_count": 141,
   "metadata": {
    "ExecuteTime": {
     "end_time": "2019-05-12T21:41:23.350419Z",
     "start_time": "2019-05-12T21:41:23.346473Z"
    }
   },
   "outputs": [
    {
     "data": {
      "text/plain": [
       "tensor([-1, -1,  0,  1,  1], dtype=torch.int8)"
      ]
     },
     "execution_count": 141,
     "metadata": {},
     "output_type": "execute_result"
    },
    {
     "data": {
      "text/plain": [
       "tensor([1, 0, 1, 1, 0], dtype=torch.int8)"
      ]
     },
     "execution_count": 141,
     "metadata": {},
     "output_type": "execute_result"
    }
   ],
   "source": [
    "p_t = t(p); p_t\n",
    "q_t = t(q); q_t"
   ]
  },
  {
   "cell_type": "code",
   "execution_count": 142,
   "metadata": {
    "ExecuteTime": {
     "end_time": "2019-05-12T21:41:23.354034Z",
     "start_time": "2019-05-12T21:41:23.351502Z"
    }
   },
   "outputs": [],
   "source": [
    "def intersection_t(u, v):\n",
    "    #u, v should be CharTensors (int8)\n",
    "    \n",
    "    s = u + v\n",
    "    \n",
    "    #torch.eq will always return a ByteTensor (uint8)\n",
    "    e = torch.eq(u,v).type(torch.cuda.CharTensor)\n",
    "\n",
    "    p = e * s\n",
    "    \n",
    "    result = torch.sign(p)\n",
    "    return result\n",
    "#     return torch.sign(  torch.eq(u, v) * (u + v) )"
   ]
  },
  {
   "cell_type": "code",
   "execution_count": 143,
   "metadata": {
    "ExecuteTime": {
     "end_time": "2019-05-12T21:41:26.064142Z",
     "start_time": "2019-05-12T21:41:23.355162Z"
    }
   },
   "outputs": [
    {
     "name": "stdout",
     "output_type": "stream",
     "text": [
      "333 µs ± 286 ns per loop (mean ± std. dev. of 7 runs, 1000 loops each)\n"
     ]
    }
   ],
   "source": [
    "%%timeit\n",
    "\n",
    "intersection(random_pair_stack_a, random_pair_stack_b)"
   ]
  },
  {
   "cell_type": "code",
   "execution_count": 144,
   "metadata": {
    "ExecuteTime": {
     "end_time": "2019-05-12T21:41:35.380059Z",
     "start_time": "2019-05-12T21:41:26.065270Z"
    }
   },
   "outputs": [
    {
     "name": "stdout",
     "output_type": "stream",
     "text": [
      "115 µs ± 15.4 ns per loop (mean ± std. dev. of 7 runs, 10000 loops each)\n"
     ]
    }
   ],
   "source": [
    "%%timeit\n",
    "\n",
    "intersection_t(random_pair_stack_a_t, random_pair_stack_b_t)"
   ]
  },
  {
   "cell_type": "code",
   "execution_count": 145,
   "metadata": {
    "ExecuteTime": {
     "end_time": "2019-05-12T21:41:35.406383Z",
     "start_time": "2019-05-12T21:41:35.381148Z"
    }
   },
   "outputs": [
    {
     "data": {
      "text/plain": [
       "True"
      ]
     },
     "execution_count": 145,
     "metadata": {},
     "output_type": "execute_result"
    }
   ],
   "source": [
    "np.array_equal(\n",
    "    intersection(agreeing_pair_stack_a, agreeing_pair_stack_b),\n",
    "    intersection_t(t(agreeing_pair_stack_a), t(agreeing_pair_stack_b)).cpu().type(torch.int16).numpy()\n",
    ")"
   ]
  },
  {
   "cell_type": "markdown",
   "metadata": {},
   "source": [
    "### Extension"
   ]
  },
  {
   "cell_type": "code",
   "execution_count": 148,
   "metadata": {
    "ExecuteTime": {
     "end_time": "2019-05-12T21:44:15.367995Z",
     "start_time": "2019-05-12T21:44:15.363808Z"
    }
   },
   "outputs": [],
   "source": [
    "def extension_t(pfv, O_t):\n",
    "    return agree_mat_t(pfv, O_t)"
   ]
  },
  {
   "cell_type": "code",
   "execution_count": 149,
   "metadata": {
    "ExecuteTime": {
     "end_time": "2019-05-12T21:44:42.941596Z",
     "start_time": "2019-05-12T21:44:33.398749Z"
    }
   },
   "outputs": [
    {
     "name": "stdout",
     "output_type": "stream",
     "text": [
      "1.18 s ± 7.64 ms per loop (mean ± std. dev. of 7 runs, 1 loop each)\n"
     ]
    }
   ],
   "source": [
    "%%timeit\n",
    "\n",
    "list(map(lambda v: extension_(v, O), random_vectors))"
   ]
  },
  {
   "cell_type": "code",
   "execution_count": 150,
   "metadata": {
    "ExecuteTime": {
     "end_time": "2019-05-12T21:45:02.270313Z",
     "start_time": "2019-05-12T21:44:50.638097Z"
    }
   },
   "outputs": [
    {
     "name": "stdout",
     "output_type": "stream",
     "text": [
      "1.45 s ± 9.04 ms per loop (mean ± std. dev. of 7 runs, 1 loop each)\n"
     ]
    }
   ],
   "source": [
    "%%timeit\n",
    "\n",
    "np.apply_along_axis(lambda v: extension_(v, O), axis=1, arr=random_vectors).shape"
   ]
  },
  {
   "cell_type": "code",
   "execution_count": 151,
   "metadata": {
    "ExecuteTime": {
     "end_time": "2019-05-12T22:00:24.377654Z",
     "start_time": "2019-05-12T22:00:24.324791Z"
    }
   },
   "outputs": [],
   "source": [
    "random_vectors_t = t(np.array(random_vectors))"
   ]
  },
  {
   "cell_type": "code",
   "execution_count": 153,
   "metadata": {
    "ExecuteTime": {
     "end_time": "2019-05-12T22:12:00.979190Z",
     "start_time": "2019-05-12T22:10:33.627559Z"
    }
   },
   "outputs": [
    {
     "name": "stdout",
     "output_type": "stream",
     "text": [
      "10.9 s ± 23.4 ms per loop (mean ± std. dev. of 7 runs, 1 loop each)\n"
     ]
    }
   ],
   "source": [
    "%%timeit\n",
    "\n",
    "list(map(lambda v: extension_t(v, O_t), random_vectors_t))"
   ]
  },
  {
   "cell_type": "code",
   "execution_count": 154,
   "metadata": {
    "ExecuteTime": {
     "end_time": "2019-05-12T22:13:26.214313Z",
     "start_time": "2019-05-12T22:12:00.980317Z"
    }
   },
   "outputs": [
    {
     "name": "stdout",
     "output_type": "stream",
     "text": [
      "10.6 s ± 12.8 ms per loop (mean ± std. dev. of 7 runs, 1 loop each)\n"
     ]
    }
   ],
   "source": [
    "%%timeit\n",
    "\n",
    "torch.stack([extension_t(v, O_t) for v in torch.unbind(random_vectors_t, dim=0)])"
   ]
  },
  {
   "cell_type": "markdown",
   "metadata": {},
   "source": [
    "The `pytorch` cell time is probably terribly slow because of the `list` and `map` (or list comprehension) operations happening in Python and on/involving the CPU..."
   ]
  },
  {
   "cell_type": "code",
   "execution_count": 155,
   "metadata": {
    "ExecuteTime": {
     "end_time": "2019-05-12T22:13:36.691367Z",
     "start_time": "2019-05-12T22:13:26.215578Z"
    }
   },
   "outputs": [
    {
     "name": "stdout",
     "output_type": "stream",
     "text": [
      "12.8 µs ± 80.1 ns per loop (mean ± std. dev. of 7 runs, 100000 loops each)\n"
     ]
    }
   ],
   "source": [
    "%%timeit\n",
    "\n",
    "extension_(choice(random_vectors), O)"
   ]
  },
  {
   "cell_type": "code",
   "execution_count": 156,
   "metadata": {
    "ExecuteTime": {
     "end_time": "2019-05-12T22:13:45.925355Z",
     "start_time": "2019-05-12T22:13:36.692713Z"
    }
   },
   "outputs": [
    {
     "name": "stdout",
     "output_type": "stream",
     "text": [
      "114 µs ± 254 ns per loop (mean ± std. dev. of 7 runs, 10000 loops each)\n"
     ]
    }
   ],
   "source": [
    "%%timeit\n",
    "\n",
    "extension_t(choice(random_vectors_t), O_t)"
   ]
  },
  {
   "cell_type": "code",
   "execution_count": 157,
   "metadata": {
    "ExecuteTime": {
     "end_time": "2019-05-12T22:13:55.095149Z",
     "start_time": "2019-05-12T22:13:45.926439Z"
    }
   },
   "outputs": [
    {
     "name": "stdout",
     "output_type": "stream",
     "text": [
      "1.13 s ± 10.9 ms per loop (mean ± std. dev. of 7 runs, 1 loop each)\n"
     ]
    }
   ],
   "source": [
    "%%timeit\n",
    "\n",
    "for v in random_vectors:\n",
    "    extension_(v, O)"
   ]
  },
  {
   "cell_type": "code",
   "execution_count": 158,
   "metadata": {
    "ExecuteTime": {
     "end_time": "2019-05-12T22:15:22.791579Z",
     "start_time": "2019-05-12T22:13:55.096172Z"
    }
   },
   "outputs": [
    {
     "name": "stdout",
     "output_type": "stream",
     "text": [
      "11 s ± 17.4 ms per loop (mean ± std. dev. of 7 runs, 1 loop each)\n"
     ]
    }
   ],
   "source": [
    "%%timeit\n",
    "\n",
    "for v in random_vectors_t:\n",
    "    extension_t(v, O_t)"
   ]
  },
  {
   "cell_type": "code",
   "execution_count": 159,
   "metadata": {
    "ExecuteTime": {
     "end_time": "2019-05-12T22:15:22.794483Z",
     "start_time": "2019-05-12T22:15:22.792672Z"
    }
   },
   "outputs": [],
   "source": [
    "random_v = choice(random_vectors)"
   ]
  },
  {
   "cell_type": "code",
   "execution_count": 160,
   "metadata": {
    "ExecuteTime": {
     "end_time": "2019-05-12T22:15:32.019600Z",
     "start_time": "2019-05-12T22:15:22.795945Z"
    }
   },
   "outputs": [
    {
     "name": "stdout",
     "output_type": "stream",
     "text": [
      "11.3 µs ± 83.4 ns per loop (mean ± std. dev. of 7 runs, 100000 loops each)\n"
     ]
    }
   ],
   "source": [
    "%%timeit\n",
    "\n",
    "extension_(random_v, O)"
   ]
  },
  {
   "cell_type": "code",
   "execution_count": 161,
   "metadata": {
    "ExecuteTime": {
     "end_time": "2019-05-12T22:15:32.022690Z",
     "start_time": "2019-05-12T22:15:32.020714Z"
    }
   },
   "outputs": [],
   "source": [
    "random_v_t = t(random_v)"
   ]
  },
  {
   "cell_type": "code",
   "execution_count": 162,
   "metadata": {
    "ExecuteTime": {
     "end_time": "2019-05-12T22:15:40.550147Z",
     "start_time": "2019-05-12T22:15:32.023903Z"
    }
   },
   "outputs": [
    {
     "name": "stdout",
     "output_type": "stream",
     "text": [
      "105 µs ± 121 ns per loop (mean ± std. dev. of 7 runs, 10000 loops each)\n"
     ]
    }
   ],
   "source": [
    "%%timeit\n",
    "\n",
    "extension_t(random_v_t, O_t)"
   ]
  },
  {
   "cell_type": "code",
   "execution_count": 163,
   "metadata": {
    "ExecuteTime": {
     "end_time": "2019-05-12T22:16:02.902462Z",
     "start_time": "2019-05-12T22:15:40.551221Z"
    }
   },
   "outputs": [
    {
     "name": "stderr",
     "output_type": "stream",
     "text": [
      "100%|██████████| 100000/100000 [00:22<00:00, 4474.75it/s]\n"
     ]
    }
   ],
   "source": [
    "for p in tqdm(random_vectors):\n",
    "    assert np.array_equal(extension_(p, O), extension_t(t(p), O_t).cpu().type(torch.int16).numpy()), 'Disagreement on {0}: {1} vs. {2}'.format(p, extension_(p), extension_t(t(p)))"
   ]
  },
  {
   "cell_type": "markdown",
   "metadata": {},
   "source": [
    "### Conclusion"
   ]
  },
  {
   "cell_type": "markdown",
   "metadata": {},
   "source": [
    "At a relatively low number of features (`m = 3`)...\n",
    " - `agreement` checking of entire matrices is ≈10x faster using `pytorch`+a GPU than using `numpy`.\n",
    " - `union` and `intersection` are about as fast in both implementations\n",
    " - `extension` seems abominably slower in pytorch than in numpy. Since `extension_t` is just a wrapper around `agree_mat_t`, and `agree_mat_t` is substantially faster than the numpy version, I think the explanation probably has something to do with inefficiencies in broadcasting. I'm not sure if there's anything I can do about that."
   ]
  }
 ],
 "metadata": {
  "kernelspec": {
   "display_name": "Python 3",
   "language": "python",
   "name": "python3"
  },
  "language_info": {
   "codemirror_mode": {
    "name": "ipython",
    "version": 3
   },
   "file_extension": ".py",
   "mimetype": "text/x-python",
   "name": "python",
   "nbconvert_exporter": "python",
   "pygments_lexer": "ipython3",
   "version": "3.6.8"
  },
  "toc": {
   "base_numbering": 1,
   "nav_menu": {},
   "number_sections": true,
   "sideBar": true,
   "skip_h1_title": false,
   "title_cell": "Table of Contents",
   "title_sidebar": "Contents",
   "toc_cell": true,
   "toc_position": {
    "height": "calc(100% - 180px)",
    "left": "10px",
    "top": "150px",
    "width": "384px"
   },
   "toc_section_display": true,
   "toc_window_display": true
  }
 },
 "nbformat": 4,
 "nbformat_minor": 2
}
