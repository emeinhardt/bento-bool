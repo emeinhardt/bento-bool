{
 "cells": [
  {
   "cell_type": "code",
   "execution_count": 1,
   "metadata": {
    "ExecuteTime": {
     "end_time": "2019-05-08T23:56:49.331718Z",
     "start_time": "2019-05-08T23:56:49.329324Z"
    }
   },
   "outputs": [],
   "source": [
    "#Prints **all** console output, not just last item in cell \n",
    "from IPython.core.interactiveshell import InteractiveShell\n",
    "InteractiveShell.ast_node_interactivity = \"all\""
   ]
  },
  {
   "cell_type": "markdown",
   "metadata": {},
   "source": [
    "**Eric Meinhardt / emeinhardt@ucsd.edu**"
   ]
  },
  {
   "cell_type": "markdown",
   "metadata": {
    "toc": true
   },
   "source": [
    "<h1>Table of Contents<span class=\"tocSkip\"></span></h1>\n",
    "<div class=\"toc\"><ul class=\"toc-item\"><li><span><a href=\"#Overview\" data-toc-modified-id=\"Overview-1\"><span class=\"toc-item-num\">1&nbsp;&nbsp;</span>Overview</a></span></li><li><span><a href=\"#Comparison-of-basic-representations-and-operations\" data-toc-modified-id=\"Comparison-of-basic-representations-and-operations-2\"><span class=\"toc-item-num\">2&nbsp;&nbsp;</span>Comparison of basic representations and operations</a></span><ul class=\"toc-item\"><li><span><a href=\"#Baseline-representation-of-partial-feature-vectors\" data-toc-modified-id=\"Baseline-representation-of-partial-feature-vectors-2.1\"><span class=\"toc-item-num\">2.1&nbsp;&nbsp;</span>Baseline representation of partial feature vectors</a></span><ul class=\"toc-item\"><li><span><a href=\"#Overhead---generation,-well-formedness,-uniquification\" data-toc-modified-id=\"Overhead---generation,-well-formedness,-uniquification-2.1.1\"><span class=\"toc-item-num\">2.1.1&nbsp;&nbsp;</span>Overhead - generation, well-formedness, uniquification</a></span></li><li><span><a href=\"#Agreement\" data-toc-modified-id=\"Agreement-2.1.2\"><span class=\"toc-item-num\">2.1.2&nbsp;&nbsp;</span>Agreement</a></span></li><li><span><a href=\"#Union\" data-toc-modified-id=\"Union-2.1.3\"><span class=\"toc-item-num\">2.1.3&nbsp;&nbsp;</span>Union</a></span></li><li><span><a href=\"#Intersection\" data-toc-modified-id=\"Intersection-2.1.4\"><span class=\"toc-item-num\">2.1.4&nbsp;&nbsp;</span>Intersection</a></span></li><li><span><a href=\"#Extension\" data-toc-modified-id=\"Extension-2.1.5\"><span class=\"toc-item-num\">2.1.5&nbsp;&nbsp;</span>Extension</a></span></li></ul></li><li><span><a href=\"#Specification-array-+-value-array\" data-toc-modified-id=\"Specification-array-+-value-array-2.2\"><span class=\"toc-item-num\">2.2&nbsp;&nbsp;</span>Specification array + value array</a></span><ul class=\"toc-item\"><li><span><a href=\"#Converting-between-representations\" data-toc-modified-id=\"Converting-between-representations-2.2.1\"><span class=\"toc-item-num\">2.2.1&nbsp;&nbsp;</span>Converting between representations</a></span></li><li><span><a href=\"#Operations\" data-toc-modified-id=\"Operations-2.2.2\"><span class=\"toc-item-num\">2.2.2&nbsp;&nbsp;</span>Operations</a></span></li><li><span><a href=\"#Performance-evaluation\" data-toc-modified-id=\"Performance-evaluation-2.2.3\"><span class=\"toc-item-num\">2.2.3&nbsp;&nbsp;</span>Performance evaluation</a></span><ul class=\"toc-item\"><li><span><a href=\"#Conclusion\" data-toc-modified-id=\"Conclusion-2.2.3.1\"><span class=\"toc-item-num\">2.2.3.1&nbsp;&nbsp;</span>Conclusion</a></span></li></ul></li></ul></li><li><span><a href=\"#Matrix-extension-of-the-baseline-representation\" data-toc-modified-id=\"Matrix-extension-of-the-baseline-representation-2.3\"><span class=\"toc-item-num\">2.3&nbsp;&nbsp;</span>Matrix extension of the baseline representation</a></span><ul class=\"toc-item\"><li><span><a href=\"#Agreement-testing\" data-toc-modified-id=\"Agreement-testing-2.3.1\"><span class=\"toc-item-num\">2.3.1&nbsp;&nbsp;</span>Agreement testing</a></span></li><li><span><a href=\"#Union\" data-toc-modified-id=\"Union-2.3.2\"><span class=\"toc-item-num\">2.3.2&nbsp;&nbsp;</span>Union</a></span></li><li><span><a href=\"#Intersection\" data-toc-modified-id=\"Intersection-2.3.3\"><span class=\"toc-item-num\">2.3.3&nbsp;&nbsp;</span>Intersection</a></span></li><li><span><a href=\"#Extension\" data-toc-modified-id=\"Extension-2.3.4\"><span class=\"toc-item-num\">2.3.4&nbsp;&nbsp;</span>Extension</a></span></li><li><span><a href=\"#Conclusion\" data-toc-modified-id=\"Conclusion-2.3.5\"><span class=\"toc-item-num\">2.3.5&nbsp;&nbsp;</span>Conclusion</a></span></li></ul></li><li><span><a href=\"#pytorch-and-gpus\" data-toc-modified-id=\"pytorch-and-gpus-2.4\"><span class=\"toc-item-num\">2.4&nbsp;&nbsp;</span><code>pytorch</code> and gpus</a></span><ul class=\"toc-item\"><li><span><a href=\"#Agreement\" data-toc-modified-id=\"Agreement-2.4.1\"><span class=\"toc-item-num\">2.4.1&nbsp;&nbsp;</span>Agreement</a></span></li><li><span><a href=\"#Union\" data-toc-modified-id=\"Union-2.4.2\"><span class=\"toc-item-num\">2.4.2&nbsp;&nbsp;</span>Union</a></span></li><li><span><a href=\"#Intersection\" data-toc-modified-id=\"Intersection-2.4.3\"><span class=\"toc-item-num\">2.4.3&nbsp;&nbsp;</span>Intersection</a></span></li><li><span><a href=\"#Extension\" data-toc-modified-id=\"Extension-2.4.4\"><span class=\"toc-item-num\">2.4.4&nbsp;&nbsp;</span>Extension</a></span></li><li><span><a href=\"#Conclusion\" data-toc-modified-id=\"Conclusion-2.4.5\"><span class=\"toc-item-num\">2.4.5&nbsp;&nbsp;</span>Conclusion</a></span></li></ul></li></ul></li></ul></div>"
   ]
  },
  {
   "cell_type": "code",
   "execution_count": 2,
   "metadata": {
    "ExecuteTime": {
     "end_time": "2019-05-08T23:56:49.987199Z",
     "start_time": "2019-05-08T23:56:49.796473Z"
    }
   },
   "outputs": [],
   "source": [
    "import numpy as np\n",
    "myint = np.int8\n",
    "\n",
    "from vg import normalize"
   ]
  },
  {
   "cell_type": "code",
   "execution_count": 3,
   "metadata": {
    "ExecuteTime": {
     "end_time": "2019-05-08T23:56:50.010349Z",
     "start_time": "2019-05-08T23:56:49.989559Z"
    }
   },
   "outputs": [],
   "source": [
    "from bitarray import bitarray"
   ]
  },
  {
   "cell_type": "code",
   "execution_count": 4,
   "metadata": {
    "ExecuteTime": {
     "end_time": "2019-05-08T23:56:50.139817Z",
     "start_time": "2019-05-08T23:56:50.137295Z"
    }
   },
   "outputs": [],
   "source": [
    "from itertools import starmap, product"
   ]
  },
  {
   "cell_type": "code",
   "execution_count": 5,
   "metadata": {
    "ExecuteTime": {
     "end_time": "2019-05-08T23:56:50.300246Z",
     "start_time": "2019-05-08T23:56:50.297613Z"
    }
   },
   "outputs": [],
   "source": [
    "# from more_itertools import unique_everseen"
   ]
  },
  {
   "cell_type": "code",
   "execution_count": 6,
   "metadata": {
    "ExecuteTime": {
     "end_time": "2019-05-08T23:56:50.621785Z",
     "start_time": "2019-05-08T23:56:50.462111Z"
    }
   },
   "outputs": [],
   "source": [
    "from tqdm import tqdm\n",
    "\n",
    "from joblib import Parallel, delayed, Memory\n",
    "\n",
    "J = 30\n",
    "BACKEND = 'multiprocessing'\n",
    "# BACKEND = 'loky'\n",
    "V = 10\n",
    "PREFER = 'processes'\n",
    "# PREFER = 'threads'\n",
    "\n",
    "def par(gen_expr, j=None, backend=None, verbose=None, prefer=None):\n",
    "    if j is None:\n",
    "        j = J\n",
    "    if backend is None:\n",
    "        backend = BACKEND\n",
    "    if verbose is None:\n",
    "        verbose = V\n",
    "    if prefer is None:\n",
    "        prefer = PREFER\n",
    "    return Parallel(n_jobs=j, backend=backend, verbose=verbose, prefer=prefer)(gen_expr)\n",
    "\n",
    "def identity(x):\n",
    "    return x"
   ]
  },
  {
   "cell_type": "code",
   "execution_count": 7,
   "metadata": {
    "ExecuteTime": {
     "end_time": "2019-05-08T23:56:50.638369Z",
     "start_time": "2019-05-08T23:56:50.635434Z"
    }
   },
   "outputs": [],
   "source": [
    "from random import choice"
   ]
  },
  {
   "cell_type": "code",
   "execution_count": 8,
   "metadata": {
    "ExecuteTime": {
     "end_time": "2019-05-08T23:56:50.829071Z",
     "start_time": "2019-05-08T23:56:50.826398Z"
    }
   },
   "outputs": [],
   "source": [
    "CAREFUL = False"
   ]
  },
  {
   "cell_type": "markdown",
   "metadata": {},
   "source": [
    "# Overview"
   ]
  },
  {
   "cell_type": "markdown",
   "metadata": {},
   "source": [
    "Goal of this notebook: find / document representations of and operations on partial feature vectors with an eye towards efficient calculation."
   ]
  },
  {
   "cell_type": "markdown",
   "metadata": {},
   "source": [
    "# Comparison of basic representations and operations"
   ]
  },
  {
   "cell_type": "markdown",
   "metadata": {},
   "source": [
    "## Baseline representation of partial feature vectors"
   ]
  },
  {
   "cell_type": "markdown",
   "metadata": {},
   "source": [
    "A partial feature vector $p$ on $m$ features is an element of $\\{-1,0,1\\}^m$, where\n",
    " - $p_i = 0$ iff feature $i$ is unspecified\n",
    " - $p_i = -1$ iff feature $i$ is specified $-$\n",
    " - $p_i = 1$ iff feature $i$ is specified $+$"
   ]
  },
  {
   "cell_type": "markdown",
   "metadata": {},
   "source": [
    "Below this representation is implemented using `numpy` `int8` arrays and (usually) vectorized operations on them."
   ]
  },
  {
   "cell_type": "markdown",
   "metadata": {},
   "source": [
    "### Overhead - generation, well-formedness, uniquification"
   ]
  },
  {
   "cell_type": "code",
   "execution_count": 9,
   "metadata": {
    "ExecuteTime": {
     "end_time": "2019-05-08T23:56:52.468421Z",
     "start_time": "2019-05-08T23:56:52.465813Z"
    }
   },
   "outputs": [],
   "source": [
    "m = 9"
   ]
  },
  {
   "cell_type": "code",
   "execution_count": 10,
   "metadata": {
    "ExecuteTime": {
     "end_time": "2019-05-08T23:56:52.657585Z",
     "start_time": "2019-05-08T23:56:52.651832Z"
    }
   },
   "outputs": [],
   "source": [
    "def make_generator_vectors(num_features):\n",
    "    basis_vectors = [np.zeros(num_features, dtype=myint) for each in range(num_features)]\n",
    "    basis_vectors_neg = [np.zeros(num_features, dtype=myint) for each in range(num_features)]\n",
    "    for i,v in enumerate(basis_vectors):\n",
    "        v[i] = 1\n",
    "    for i,v in enumerate(basis_vectors_neg):\n",
    "        v[i] = -1\n",
    "    generators = basis_vectors + basis_vectors_neg\n",
    "    return generators"
   ]
  },
  {
   "cell_type": "code",
   "execution_count": 11,
   "metadata": {
    "ExecuteTime": {
     "end_time": "2019-05-08T23:56:52.850830Z",
     "start_time": "2019-05-08T23:56:52.835980Z"
    }
   },
   "outputs": [
    {
     "data": {
      "text/plain": [
       "[array([1, 0, 0, 0, 0, 0, 0, 0, 0], dtype=int8),\n",
       " array([0, 1, 0, 0, 0, 0, 0, 0, 0], dtype=int8),\n",
       " array([0, 0, 1, 0, 0, 0, 0, 0, 0], dtype=int8),\n",
       " array([0, 0, 0, 1, 0, 0, 0, 0, 0], dtype=int8),\n",
       " array([0, 0, 0, 0, 1, 0, 0, 0, 0], dtype=int8),\n",
       " array([0, 0, 0, 0, 0, 1, 0, 0, 0], dtype=int8),\n",
       " array([0, 0, 0, 0, 0, 0, 1, 0, 0], dtype=int8),\n",
       " array([0, 0, 0, 0, 0, 0, 0, 1, 0], dtype=int8),\n",
       " array([0, 0, 0, 0, 0, 0, 0, 0, 1], dtype=int8),\n",
       " array([-1,  0,  0,  0,  0,  0,  0,  0,  0], dtype=int8),\n",
       " array([ 0, -1,  0,  0,  0,  0,  0,  0,  0], dtype=int8),\n",
       " array([ 0,  0, -1,  0,  0,  0,  0,  0,  0], dtype=int8),\n",
       " array([ 0,  0,  0, -1,  0,  0,  0,  0,  0], dtype=int8),\n",
       " array([ 0,  0,  0,  0, -1,  0,  0,  0,  0], dtype=int8),\n",
       " array([ 0,  0,  0,  0,  0, -1,  0,  0,  0], dtype=int8),\n",
       " array([ 0,  0,  0,  0,  0,  0, -1,  0,  0], dtype=int8),\n",
       " array([ 0,  0,  0,  0,  0,  0,  0, -1,  0], dtype=int8),\n",
       " array([ 0,  0,  0,  0,  0,  0,  0,  0, -1], dtype=int8)]"
      ]
     },
     "execution_count": 11,
     "metadata": {},
     "output_type": "execute_result"
    }
   ],
   "source": [
    "generators = make_generator_vectors(m)\n",
    "generators"
   ]
  },
  {
   "cell_type": "code",
   "execution_count": 12,
   "metadata": {
    "ExecuteTime": {
     "end_time": "2019-05-08T23:56:53.028835Z",
     "start_time": "2019-05-08T23:56:53.023120Z"
    }
   },
   "outputs": [
    {
     "data": {
      "text/plain": [
       "512"
      ]
     },
     "execution_count": 12,
     "metadata": {},
     "output_type": "execute_result"
    },
    {
     "data": {
      "text/plain": [
       "19683"
      ]
     },
     "execution_count": 12,
     "metadata": {},
     "output_type": "execute_result"
    }
   ],
   "source": [
    "max_num_objects = 2 ** m\n",
    "max_num_objects\n",
    "\n",
    "max_num_partial_fvs = (2 + 1) ** m\n",
    "max_num_partial_fvs"
   ]
  },
  {
   "cell_type": "code",
   "execution_count": 13,
   "metadata": {
    "ExecuteTime": {
     "end_time": "2019-05-08T23:56:53.210101Z",
     "start_time": "2019-05-08T23:56:53.206321Z"
    }
   },
   "outputs": [],
   "source": [
    "def wf_pfv(v):\n",
    "    allowedValues = {-1,0,1}\n",
    "    return all([x in allowedValues for x in v])"
   ]
  },
  {
   "cell_type": "code",
   "execution_count": 14,
   "metadata": {
    "ExecuteTime": {
     "end_time": "2019-05-08T23:56:53.392879Z",
     "start_time": "2019-05-08T23:56:53.389691Z"
    }
   },
   "outputs": [],
   "source": [
    "def make_random_pfv():\n",
    "    return np.random.randint(3, size=m, dtype=myint) - 1"
   ]
  },
  {
   "cell_type": "code",
   "execution_count": 15,
   "metadata": {
    "ExecuteTime": {
     "end_time": "2019-05-08T23:56:53.555818Z",
     "start_time": "2019-05-08T23:56:53.551892Z"
    }
   },
   "outputs": [],
   "source": [
    "def uniquify(ndarray_iterable):\n",
    "    tuples = [tuple(a) for a in ndarray_iterable]\n",
    "    s = set(tuples)\n",
    "    arrays = [np.array(t) for t in s]\n",
    "    return arrays"
   ]
  },
  {
   "cell_type": "code",
   "execution_count": 16,
   "metadata": {
    "ExecuteTime": {
     "end_time": "2019-05-08T23:56:53.763897Z",
     "start_time": "2019-05-08T23:56:53.759834Z"
    }
   },
   "outputs": [],
   "source": [
    "def wf_tfv(v):\n",
    "    allowedValues = {-1,1}\n",
    "    return all([x in allowedValues for x in v])"
   ]
  },
  {
   "cell_type": "code",
   "execution_count": 17,
   "metadata": {
    "ExecuteTime": {
     "end_time": "2019-05-08T23:56:53.946140Z",
     "start_time": "2019-05-08T23:56:53.940822Z"
    }
   },
   "outputs": [
    {
     "data": {
      "text/plain": [
       "512"
      ]
     },
     "execution_count": 17,
     "metadata": {},
     "output_type": "execute_result"
    },
    {
     "data": {
      "text/plain": [
       "282"
      ]
     },
     "execution_count": 17,
     "metadata": {},
     "output_type": "execute_result"
    }
   ],
   "source": [
    "max_num_objects\n",
    "actual_num_objects = np.random.randint(max_num_objects)\n",
    "# actual_num_objects = 40\n",
    "actual_num_objects\n",
    "\n",
    "assert actual_num_objects < max_num_objects"
   ]
  },
  {
   "cell_type": "code",
   "execution_count": 18,
   "metadata": {
    "ExecuteTime": {
     "end_time": "2019-05-08T23:56:54.165069Z",
     "start_time": "2019-05-08T23:56:54.139379Z"
    }
   },
   "outputs": [
    {
     "data": {
      "text/plain": [
       "216"
      ]
     },
     "execution_count": 18,
     "metadata": {},
     "output_type": "execute_result"
    },
    {
     "data": {
      "text/plain": [
       "(array([-1, -1, -1, -1,  1,  1,  1,  1,  1]),\n",
       " array([ 1,  1,  1,  1,  1, -1,  1,  1, -1]),\n",
       " array([ 1,  1,  1,  1,  1, -1, -1,  1, -1]),\n",
       " array([-1,  1,  1,  1, -1,  1, -1, -1, -1]),\n",
       " array([-1,  1, -1, -1,  1,  1, -1, -1,  1]),\n",
       " array([ 1, -1,  1,  1, -1, -1, -1,  1,  1]),\n",
       " array([ 1, -1, -1,  1,  1, -1, -1,  1,  1]),\n",
       " array([ 1,  1,  1, -1,  1,  1, -1, -1, -1]),\n",
       " array([-1, -1,  1,  1, -1,  1, -1,  1,  1]),\n",
       " array([-1, -1, -1,  1, -1, -1, -1, -1, -1]),\n",
       " array([-1,  1, -1, -1,  1, -1, -1,  1, -1]),\n",
       " array([ 1,  1, -1, -1, -1,  1, -1,  1, -1]),\n",
       " array([ 1,  1, -1, -1, -1, -1,  1, -1, -1]),\n",
       " array([ 1, -1,  1,  1,  1, -1, -1,  1,  1]),\n",
       " array([-1,  1, -1, -1, -1,  1,  1, -1,  1]),\n",
       " array([-1,  1,  1, -1,  1,  1, -1,  1,  1]),\n",
       " array([ 1,  1,  1, -1,  1, -1,  1,  1,  1]),\n",
       " array([ 1, -1,  1, -1,  1, -1, -1, -1, -1]),\n",
       " array([ 1,  1,  1, -1, -1, -1, -1,  1, -1]),\n",
       " array([-1, -1,  1,  1,  1, -1,  1, -1,  1]),\n",
       " array([ 1,  1,  1, -1, -1,  1,  1, -1, -1]),\n",
       " array([ 1,  1, -1, -1, -1, -1, -1, -1,  1]),\n",
       " array([-1,  1, -1, -1, -1,  1, -1, -1, -1]),\n",
       " array([ 1, -1, -1, -1, -1, -1, -1,  1,  1]),\n",
       " array([-1,  1,  1,  1,  1,  1,  1,  1,  1]),\n",
       " array([ 1,  1, -1, -1,  1,  1,  1,  1, -1]),\n",
       " array([ 1, -1,  1, -1,  1, -1,  1, -1,  1]),\n",
       " array([ 1, -1,  1, -1,  1,  1,  1,  1,  1]),\n",
       " array([-1, -1,  1, -1, -1, -1, -1, -1, -1]),\n",
       " array([-1, -1, -1, -1, -1,  1,  1, -1,  1]),\n",
       " array([ 1,  1, -1,  1,  1, -1,  1, -1, -1]),\n",
       " array([-1, -1, -1, -1, -1, -1,  1,  1,  1]),\n",
       " array([ 1,  1,  1,  1, -1, -1,  1, -1, -1]),\n",
       " array([-1, -1, -1, -1,  1, -1,  1,  1, -1]),\n",
       " array([ 1, -1, -1, -1,  1, -1, -1,  1,  1]),\n",
       " array([ 1, -1,  1,  1,  1,  1, -1,  1,  1]),\n",
       " array([-1, -1,  1, -1, -1, -1,  1, -1,  1]),\n",
       " array([-1, -1,  1, -1, -1,  1,  1,  1,  1]),\n",
       " array([ 1,  1, -1,  1,  1, -1, -1, -1,  1]),\n",
       " array([-1,  1, -1, -1,  1,  1,  1,  1,  1]),\n",
       " array([ 1,  1,  1,  1,  1,  1,  1,  1, -1]),\n",
       " array([-1,  1, -1, -1,  1, -1,  1, -1,  1]),\n",
       " array([ 1, -1,  1,  1, -1, -1,  1, -1,  1]),\n",
       " array([ 1,  1, -1, -1, -1,  1, -1, -1,  1]),\n",
       " array([ 1, -1, -1,  1,  1,  1,  1,  1,  1]),\n",
       " array([-1,  1,  1, -1, -1, -1, -1,  1,  1]),\n",
       " array([ 1, -1,  1, -1, -1,  1, -1, -1, -1]),\n",
       " array([-1, -1, -1,  1,  1, -1,  1,  1,  1]),\n",
       " array([ 1,  1,  1, -1,  1,  1,  1,  1, -1]),\n",
       " array([-1, -1,  1,  1, -1,  1,  1, -1,  1]),\n",
       " array([ 1,  1,  1, -1,  1, -1,  1, -1, -1]),\n",
       " array([-1, -1, -1,  1, -1, -1,  1,  1, -1]),\n",
       " array([-1, -1,  1,  1, -1, -1,  1,  1,  1]),\n",
       " array([-1,  1, -1, -1,  1, -1, -1, -1, -1]),\n",
       " array([-1, -1,  1,  1,  1, -1,  1,  1, -1]),\n",
       " array([ 1,  1,  1, -1, -1, -1, -1, -1,  1]),\n",
       " array([ 1, -1, -1, -1,  1,  1, -1,  1,  1]),\n",
       " array([-1, -1, -1,  1, -1,  1, -1, -1,  1]),\n",
       " array([ 1,  1,  1, -1, -1, -1,  1, -1, -1]),\n",
       " array([-1, -1,  1, -1,  1,  1, -1, -1, -1]),\n",
       " array([ 1,  1,  1, -1, -1,  1,  1,  1, -1]),\n",
       " array([-1, -1,  1,  1,  1,  1, -1, -1,  1]),\n",
       " array([-1, -1, -1, -1, -1,  1, -1,  1, -1]),\n",
       " array([-1, -1, -1, -1, -1, -1,  1, -1, -1]),\n",
       " array([ 1,  1, -1, -1,  1,  1, -1, -1, -1]),\n",
       " array([ 1, -1, -1, -1, -1, -1,  1, -1,  1]),\n",
       " array([-1,  1,  1,  1,  1, -1, -1,  1,  1]),\n",
       " array([-1, -1, -1, -1,  1, -1, -1, -1,  1]),\n",
       " array([-1, -1,  1, -1,  1,  1,  1, -1,  1]),\n",
       " array([-1, -1,  1, -1, -1, -1,  1,  1, -1]),\n",
       " array([ 1,  1, -1,  1,  1,  1,  1, -1, -1]),\n",
       " array([ 1,  1, -1,  1,  1, -1, -1,  1, -1]),\n",
       " array([-1, -1, -1, -1, -1, -1, -1, -1,  1]),\n",
       " array([ 1,  1,  1,  1, -1,  1,  1, -1, -1]),\n",
       " array([-1, -1, -1, -1,  1, -1,  1, -1, -1]),\n",
       " array([-1,  1, -1, -1, -1, -1, -1,  1,  1]),\n",
       " array([-1, -1, -1, -1,  1,  1, -1,  1, -1]),\n",
       " array([ 1, -1,  1,  1,  1, -1,  1,  1,  1]),\n",
       " array([ 1, -1,  1,  1, -1, -1, -1,  1, -1]),\n",
       " array([-1,  1,  1, -1,  1, -1,  1, -1,  1]),\n",
       " array([ 1, -1,  1,  1, -1,  1,  1, -1, -1]),\n",
       " array([-1, -1, -1,  1,  1,  1, -1,  1, -1]),\n",
       " array([ 1,  1,  1, -1,  1,  1, -1, -1,  1]),\n",
       " array([-1, -1,  1,  1, -1,  1,  1,  1, -1]),\n",
       " array([-1, -1,  1,  1, -1,  1, -1,  1, -1]),\n",
       " array([ 1,  1,  1,  1,  1,  1, -1, -1, -1]),\n",
       " array([-1,  1, -1, -1,  1, -1, -1,  1,  1]),\n",
       " array([ 1,  1, -1, -1, -1,  1,  1,  1,  1]),\n",
       " array([ 1, -1,  1,  1, -1,  1, -1, -1,  1]),\n",
       " array([-1,  1,  1,  1, -1, -1, -1, -1, -1]),\n",
       " array([ 1, -1,  1, -1, -1,  1,  1,  1, -1]),\n",
       " array([ 1, -1,  1, -1, -1,  1, -1,  1, -1]),\n",
       " array([ 1, -1,  1, -1, -1, -1,  1, -1, -1]),\n",
       " array([ 1,  1,  1, -1,  1,  1,  1, -1, -1]),\n",
       " array([ 1,  1,  1, -1,  1, -1,  1,  1, -1]),\n",
       " array([-1, -1,  1,  1, -1, -1, -1, -1,  1]),\n",
       " array([ 1, -1,  1, -1,  1, -1, -1, -1,  1]),\n",
       " array([ 1,  1,  1, -1, -1, -1,  1,  1,  1]),\n",
       " array([ 1,  1,  1, -1, -1,  1,  1, -1,  1]),\n",
       " array([-1,  1,  1,  1, -1, -1,  1, -1,  1]),\n",
       " array([-1, -1, -1, -1, -1,  1, -1, -1,  1]),\n",
       " array([ 1,  1, -1, -1,  1,  1, -1,  1,  1]),\n",
       " array([ 1, -1, -1, -1, -1,  1,  1, -1, -1]),\n",
       " array([-1,  1, -1,  1,  1,  1,  1,  1,  1]),\n",
       " array([ 1, -1,  1, -1, -1, -1, -1, -1,  1]),\n",
       " array([ 1, -1,  1, -1,  1, -1,  1, -1, -1]),\n",
       " array([ 1, -1,  1, -1,  1,  1, -1,  1, -1]),\n",
       " array([-1, -1,  1, -1,  1,  1,  1,  1, -1]),\n",
       " array([ 1,  1,  1, -1, -1,  1, -1, -1, -1]),\n",
       " array([-1, -1,  1, -1, -1, -1, -1, -1,  1]),\n",
       " array([ 1,  1, -1,  1,  1,  1,  1,  1,  1]),\n",
       " array([ 1,  1, -1,  1,  1, -1,  1, -1,  1]),\n",
       " array([-1, -1, -1, -1, -1, -1, -1,  1, -1]),\n",
       " array([-1, -1, -1, -1,  1, -1,  1,  1,  1]),\n",
       " array([ 1, -1,  1,  1,  1,  1, -1,  1, -1]),\n",
       " array([ 1, -1,  1,  1,  1, -1,  1, -1, -1]),\n",
       " array([-1,  1,  1, -1, -1, -1,  1,  1,  1]),\n",
       " array([ 1, -1, -1,  1, -1,  1, -1,  1, -1]),\n",
       " array([-1, -1,  1, -1,  1, -1, -1, -1,  1]),\n",
       " array([-1,  1,  1, -1,  1, -1,  1,  1, -1]),\n",
       " array([-1,  1,  1, -1,  1, -1, -1,  1, -1]),\n",
       " array([-1,  1,  1, -1,  1,  1,  1, -1, -1]),\n",
       " array([-1, -1,  1, -1, -1,  1, -1,  1, -1]),\n",
       " array([-1, -1,  1, -1, -1,  1,  1,  1, -1]),\n",
       " array([ 1,  1,  1,  1, -1, -1, -1, -1, -1]),\n",
       " array([-1, -1, -1,  1,  1,  1, -1, -1,  1]),\n",
       " array([-1,  1, -1, -1, -1, -1,  1, -1,  1]),\n",
       " array([ 1, -1,  1,  1,  1, -1, -1, -1,  1]),\n",
       " array([ 1,  1, -1, -1,  1, -1, -1,  1,  1]),\n",
       " array([ 1, -1,  1,  1, -1,  1,  1,  1, -1]),\n",
       " array([ 1, -1, -1,  1,  1,  1,  1,  1, -1]),\n",
       " array([-1, -1, -1,  1,  1,  1,  1, -1, -1]),\n",
       " array([-1, -1, -1,  1,  1, -1,  1,  1, -1]),\n",
       " array([-1, -1,  1,  1, -1,  1,  1, -1, -1]),\n",
       " array([-1, -1,  1,  1,  1, -1,  1,  1,  1]),\n",
       " array([ 1, -1, -1, -1,  1,  1,  1,  1, -1]),\n",
       " array([ 1,  1, -1, -1, -1, -1, -1,  1,  1]),\n",
       " array([-1,  1, -1,  1, -1,  1,  1, -1,  1]),\n",
       " array([-1,  1,  1,  1, -1, -1, -1,  1, -1]),\n",
       " array([-1,  1,  1,  1, -1,  1,  1, -1, -1]),\n",
       " array([-1,  1, -1,  1,  1, -1, -1,  1, -1]),\n",
       " array([ 1, -1,  1, -1, -1, -1,  1,  1, -1]),\n",
       " array([ 1,  1,  1, -1,  1, -1, -1, -1, -1]),\n",
       " array([ 1, -1,  1, -1,  1, -1,  1,  1,  1]),\n",
       " array([ 1, -1,  1, -1,  1,  1,  1, -1,  1]),\n",
       " array([ 1,  1,  1, -1, -1,  1, -1,  1,  1]),\n",
       " array([-1, -1,  1,  1,  1,  1, -1, -1, -1]),\n",
       " array([ 1,  1,  1,  1,  1, -1, -1,  1,  1]),\n",
       " array([-1, -1, -1, -1, -1,  1,  1,  1,  1]),\n",
       " array([-1,  1,  1,  1, -1,  1, -1, -1,  1]),\n",
       " array([-1, -1, -1, -1, -1, -1,  1, -1,  1]),\n",
       " array([ 1, -1, -1, -1, -1,  1,  1,  1, -1]),\n",
       " array([-1,  1, -1,  1,  1,  1, -1, -1,  1]),\n",
       " array([ 1, -1,  1,  1,  1,  1, -1, -1,  1]),\n",
       " array([-1,  1,  1, -1, -1,  1, -1,  1, -1]),\n",
       " array([ 1, -1, -1,  1, -1,  1, -1, -1,  1]),\n",
       " array([-1, -1,  1, -1,  1, -1, -1,  1, -1]),\n",
       " array([-1, -1,  1, -1, -1,  1,  1, -1,  1]),\n",
       " array([-1,  1, -1, -1,  1, -1,  1,  1,  1]),\n",
       " array([-1,  1, -1, -1, -1, -1,  1,  1, -1]),\n",
       " array([ 1, -1,  1,  1,  1,  1,  1, -1, -1]),\n",
       " array([ 1, -1,  1,  1,  1, -1,  1,  1, -1]),\n",
       " array([ 1,  1, -1, -1,  1, -1, -1, -1, -1]),\n",
       " array([ 1, -1, -1,  1, -1, -1, -1,  1, -1]),\n",
       " array([ 1, -1, -1,  1, -1, -1,  1,  1, -1]),\n",
       " array([ 1, -1,  1,  1, -1,  1,  1, -1,  1]),\n",
       " array([-1,  1,  1, -1,  1,  1, -1,  1, -1]),\n",
       " array([ 1, -1, -1,  1,  1, -1,  1,  1,  1]),\n",
       " array([ 1, -1, -1,  1,  1,  1,  1, -1,  1]),\n",
       " array([-1, -1, -1,  1,  1, -1,  1, -1,  1]),\n",
       " array([-1, -1,  1,  1, -1,  1,  1,  1,  1]),\n",
       " array([-1, -1,  1,  1, -1, -1,  1, -1,  1]),\n",
       " array([ 1,  1, -1, -1,  1, -1,  1, -1,  1]),\n",
       " array([ 1,  1, -1, -1,  1,  1,  1,  1,  1]),\n",
       " array([-1,  1,  1,  1,  1,  1, -1,  1, -1]),\n",
       " array([-1,  1,  1,  1,  1, -1,  1, -1, -1]),\n",
       " array([-1,  1, -1,  1, -1,  1, -1,  1, -1]),\n",
       " array([-1,  1, -1,  1, -1, -1,  1, -1, -1]),\n",
       " array([ 1, -1,  1, -1, -1,  1,  1,  1,  1]),\n",
       " array([ 1,  1,  1, -1,  1, -1, -1,  1,  1]),\n",
       " array([-1, -1,  1,  1, -1, -1, -1, -1, -1]),\n",
       " array([-1,  1,  1,  1,  1, -1, -1, -1,  1]),\n",
       " array([ 1,  1, -1,  1, -1, -1, -1, -1, -1]),\n",
       " array([-1, -1, -1, -1,  1, -1, -1,  1,  1]),\n",
       " array([ 1, -1, -1, -1,  1, -1, -1,  1, -1]),\n",
       " array([-1,  1, -1,  1, -1, -1, -1, -1,  1]),\n",
       " array([ 1,  1,  1,  1,  1, -1, -1, -1, -1]),\n",
       " array([-1,  1,  1,  1, -1,  1, -1,  1, -1]),\n",
       " array([-1,  1,  1,  1, -1,  1,  1,  1, -1]),\n",
       " array([-1,  1,  1,  1, -1, -1,  1, -1, -1]),\n",
       " array([-1,  1, -1,  1,  1,  1, -1,  1, -1]),\n",
       " array([-1, -1,  1, -1,  1, -1,  1, -1,  1]),\n",
       " array([ 1,  1, -1,  1, -1, -1,  1, -1,  1]),\n",
       " array([ 1,  1, -1,  1, -1,  1,  1,  1,  1]),\n",
       " array([ 1,  1,  1,  1,  1, -1,  1, -1,  1]),\n",
       " array([-1,  1, -1, -1,  1,  1,  1,  1, -1]),\n",
       " array([1, 1, 1, 1, 1, 1, 1, 1, 1]),\n",
       " array([-1,  1, -1, -1,  1, -1,  1, -1, -1]),\n",
       " array([-1, -1, -1, -1, -1, -1, -1,  1,  1]),\n",
       " array([-1,  1, -1, -1, -1, -1, -1, -1,  1]),\n",
       " array([-1,  1,  1, -1,  1,  1,  1, -1,  1]),\n",
       " array([-1, -1, -1,  1, -1, -1, -1,  1,  1]),\n",
       " array([-1,  1, -1, -1,  1, -1, -1, -1,  1]),\n",
       " array([-1,  1, -1, -1, -1,  1,  1,  1, -1]),\n",
       " array([ 1,  1, -1, -1,  1, -1,  1,  1, -1]),\n",
       " array([ 1, -1,  1,  1, -1,  1, -1,  1,  1]),\n",
       " array([ 1, -1, -1,  1,  1,  1, -1,  1,  1]),\n",
       " array([ 1,  1,  1, -1, -1,  1,  1,  1,  1]),\n",
       " array([-1, -1, -1,  1,  1, -1, -1,  1,  1]),\n",
       " array([ 1,  1, -1,  1,  1,  1, -1, -1, -1]),\n",
       " array([-1, -1,  1,  1, -1, -1, -1,  1,  1]),\n",
       " array([ 1, -1, -1, -1,  1, -1,  1, -1,  1]),\n",
       " array([-1,  1, -1,  1,  1, -1,  1,  1,  1]),\n",
       " array([ 1,  1, -1,  1,  1,  1,  1, -1,  1]),\n",
       " array([ 1,  1,  1,  1, -1,  1,  1, -1,  1]),\n",
       " array([ 1,  1, -1,  1, -1,  1,  1, -1, -1]))"
      ]
     },
     "execution_count": 18,
     "metadata": {},
     "output_type": "execute_result"
    }
   ],
   "source": [
    "objects = tuple(set([tuple(np.random.randint(2, size=m)) for each in range(actual_num_objects)]))\n",
    "objects = tuple(map(np.array, objects))\n",
    "l = len(objects)\n",
    "\n",
    "def zeroToMinusOne(u):\n",
    "    return np.array([x if x == 1 else -1 for x in u])\n",
    "\n",
    "objects = tuple([zeroToMinusOne(o) for o in objects])\n",
    "\n",
    "\n",
    "actual_num_objects = len(objects)\n",
    "actual_num_objects\n",
    "objects"
   ]
  },
  {
   "cell_type": "code",
   "execution_count": 19,
   "metadata": {
    "ExecuteTime": {
     "end_time": "2019-05-08T23:56:54.376428Z",
     "start_time": "2019-05-08T23:56:54.368169Z"
    }
   },
   "outputs": [
    {
     "data": {
      "text/plain": [
       "(216, 9)"
      ]
     },
     "execution_count": 19,
     "metadata": {},
     "output_type": "execute_result"
    },
    {
     "data": {
      "text/plain": [
       "array([[-1, -1, -1, ...,  1,  1,  1],\n",
       "       [ 1,  1,  1, ...,  1,  1, -1],\n",
       "       [ 1,  1,  1, ..., -1,  1, -1],\n",
       "       ..., \n",
       "       [ 1,  1, -1, ...,  1, -1,  1],\n",
       "       [ 1,  1,  1, ...,  1, -1,  1],\n",
       "       [ 1,  1, -1, ...,  1, -1, -1]])"
      ]
     },
     "execution_count": 19,
     "metadata": {},
     "output_type": "execute_result"
    },
    {
     "data": {
      "text/plain": [
       "array([-1, -1, -1, -1,  1,  1,  1,  1,  1])"
      ]
     },
     "execution_count": 19,
     "metadata": {},
     "output_type": "execute_result"
    }
   ],
   "source": [
    "objectMap = np.array([objects[i] for i in range(l)])\n",
    "objectMap.shape\n",
    "objectMap\n",
    "objectMap[0]"
   ]
  },
  {
   "cell_type": "code",
   "execution_count": 20,
   "metadata": {
    "ExecuteTime": {
     "end_time": "2019-05-08T23:56:54.547670Z",
     "start_time": "2019-05-08T23:56:54.543362Z"
    }
   },
   "outputs": [],
   "source": [
    "def getIndex(o):\n",
    "    matches = [i for i,v in enumerate(objectMap) if np.array_equal(v,o)]\n",
    "    if len(matches) == 0:\n",
    "        return -1\n",
    "    if CAREFUL:\n",
    "        assert len(matches) == 1\n",
    "    return matches[0]"
   ]
  },
  {
   "cell_type": "code",
   "execution_count": 21,
   "metadata": {
    "ExecuteTime": {
     "end_time": "2019-05-08T23:56:54.764673Z",
     "start_time": "2019-05-08T23:56:54.761192Z"
    }
   },
   "outputs": [],
   "source": [
    "def makeExtensionVector(positive_Indices):\n",
    "    return np.array([1 if i in positive_Indices else 0 for i in np.arange(objectMap.shape[0])], dtype=myint)"
   ]
  },
  {
   "cell_type": "code",
   "execution_count": 22,
   "metadata": {
    "ExecuteTime": {
     "end_time": "2019-05-08T23:57:31.934078Z",
     "start_time": "2019-05-08T23:57:31.929193Z"
    }
   },
   "outputs": [
    {
     "data": {
      "text/plain": [
       "array([1, 0, 0, 0, 1, 0, 0, 0, 1, 0, 0, 0, 0, 0, 0, 0, 0, 0, 0, 0, 0, 0, 0,\n",
       "       0, 0, 0, 0, 0, 0, 0, 0, 0, 0, 0, 0, 0, 0, 0, 0, 0, 0, 0, 0, 0, 0, 0,\n",
       "       0, 0, 0, 0, 0, 0, 0, 0, 0, 0, 0, 0, 0, 0, 0, 0, 0, 0, 0, 0, 0, 0, 0,\n",
       "       0, 0, 0, 0, 0, 0, 0, 0, 0, 0, 0, 0, 0, 0, 0, 0, 0, 0, 0, 0, 0, 0, 0,\n",
       "       0, 0, 0, 0, 0, 0, 0, 0, 0, 0, 0, 0, 0, 0, 0, 0, 0, 0, 0, 0, 0, 0, 0,\n",
       "       0, 0, 0, 0, 0, 0, 0, 0, 0, 0, 0, 0, 0, 0, 0, 0, 0, 0, 0, 0, 0, 0, 0,\n",
       "       0, 0, 0, 0, 0, 0, 0, 0, 0, 0, 0, 0, 0, 0, 0, 0, 0, 0, 0, 0, 0, 0, 0,\n",
       "       0, 0, 0, 0, 0, 0, 0, 0, 0, 0, 0, 0, 0, 0, 0, 0, 0, 0, 0, 0, 0, 0, 0,\n",
       "       0, 0, 0, 0, 0, 0, 0, 0, 0, 0, 0, 0, 0, 0, 0, 0, 0, 0, 0, 0, 0, 0, 0,\n",
       "       0, 0, 0, 0, 0, 0, 0, 0, 0], dtype=int8)"
      ]
     },
     "execution_count": 22,
     "metadata": {},
     "output_type": "execute_result"
    }
   ],
   "source": [
    "makeExtensionVector([0, 4, 8])"
   ]
  },
  {
   "cell_type": "markdown",
   "metadata": {},
   "source": [
    "### Agreement"
   ]
  },
  {
   "cell_type": "code",
   "execution_count": 23,
   "metadata": {
    "ExecuteTime": {
     "end_time": "2019-05-08T23:57:33.418473Z",
     "start_time": "2019-05-08T23:57:33.415067Z"
    }
   },
   "outputs": [],
   "source": [
    "def ag(x,y):\n",
    "    '''\n",
    "    Formula:\n",
    "    (x == 0 or y == 0) or ((x != 0 and y != 0) and (x == y)), where T = 1 and F = 0\n",
    "    \n",
    "    Pattern:\n",
    "    x = x ⟶ 1\n",
    "    0 = _ ⟶ 1\n",
    "    _ = 0 ⟶ 1\n",
    "    _ = _ ⟶ 0\n",
    "    '''\n",
    "    if x == y:\n",
    "        return True\n",
    "    elif x == 0:\n",
    "        return True\n",
    "    elif y == 0:\n",
    "        return True\n",
    "    else:\n",
    "        return False"
   ]
  },
  {
   "cell_type": "code",
   "execution_count": 24,
   "metadata": {
    "ExecuteTime": {
     "end_time": "2019-05-08T23:57:33.612331Z",
     "start_time": "2019-05-08T23:57:33.606141Z"
    }
   },
   "outputs": [],
   "source": [
    "def agree(u,v):\n",
    "    '''\n",
    "    Given two vectors u and v, returns a binary vector indicating,\n",
    "    elementwise, whether u and v 'agree'.\n",
    "    \n",
    "    agree(u[i], v[i]) iff (u[i] == 0 or v[i] == 0) or (u[i] == v[i])\n",
    "    '''\n",
    "#     return np.array([True if (u[i] == 0 or v[i] == 0) or (u[i] == v[i]) else False \n",
    "#                      for i in range(len(u))])\n",
    "    return np.array([1 if (u[i] == 0 or v[i] == 0) or (u[i] == v[i]) else 0 \n",
    "                     for i in range(len(u))], dtype=myint)\n",
    "\n",
    "def agree_(u,v):\n",
    "    '''\n",
    "    Given two vectors u and v, return 1 iff u and v agree at all indices\n",
    "    and 0 otherwise.\n",
    "    '''\n",
    "    ag = agree(u,v)\n",
    "    return int(ag.all())\n",
    "\n",
    "def agree_alt(u,v):\n",
    "    '''\n",
    "    Given two vectors u and v, return 1 iff u and v agree at all indices\n",
    "    and 0 otherwise.\n",
    "    '''\n",
    "    ag = agree(u,v)\n",
    "    total_agreement = np.linalg.norm(agree(u,v), 1) == m\n",
    "    return int(total_agreement)\n",
    "#     if total_agreement:\n",
    "#         return 1.0\n",
    "#     return 0.0"
   ]
  },
  {
   "cell_type": "code",
   "execution_count": 25,
   "metadata": {
    "ExecuteTime": {
     "end_time": "2019-05-08T23:57:33.849789Z",
     "start_time": "2019-05-08T23:57:33.844143Z"
    }
   },
   "outputs": [],
   "source": [
    "def make_agreeing_vector_pair(pred=None):\n",
    "    u = make_random_pfv()\n",
    "    v = make_random_pfv()\n",
    "    if pred is None:\n",
    "        while not agree_(u,v):\n",
    "            u = make_random_pfv()\n",
    "            v = make_random_pfv()\n",
    "        return u,v\n",
    "    while not agree_(u,v) and not pred(u,v):\n",
    "        u = make_random_pfv()\n",
    "        v = make_random_pfv()\n",
    "    return u,v"
   ]
  },
  {
   "cell_type": "code",
   "execution_count": 26,
   "metadata": {
    "ExecuteTime": {
     "end_time": "2019-05-08T23:57:35.103175Z",
     "start_time": "2019-05-08T23:57:34.208367Z"
    }
   },
   "outputs": [
    {
     "data": {
      "text/plain": [
       "100000"
      ]
     },
     "execution_count": 26,
     "metadata": {},
     "output_type": "execute_result"
    }
   ],
   "source": [
    "num_test_pairs = int(1e5)\n",
    "random_vector_pairs = [(make_random_pfv(), make_random_pfv()) for each in range(num_test_pairs)]\n",
    "len(random_vector_pairs)"
   ]
  },
  {
   "cell_type": "code",
   "execution_count": 27,
   "metadata": {
    "ExecuteTime": {
     "end_time": "2019-05-08T23:57:44.277527Z",
     "start_time": "2019-05-08T23:57:35.104455Z"
    }
   },
   "outputs": [],
   "source": [
    "for pair in random_vector_pairs:\n",
    "    assert agree_(*pair) == agree_alt(*pair)"
   ]
  },
  {
   "cell_type": "code",
   "execution_count": 28,
   "metadata": {
    "ExecuteTime": {
     "end_time": "2019-05-08T23:58:04.693810Z",
     "start_time": "2019-05-08T23:57:44.279334Z"
    }
   },
   "outputs": [
    {
     "name": "stdout",
     "output_type": "stream",
     "text": [
      "2.55 s ± 20.2 ms per loop (mean ± std. dev. of 7 runs, 1 loop each)\n"
     ]
    }
   ],
   "source": [
    "%%timeit\n",
    "\n",
    "list(starmap(agree, random_vector_pairs))"
   ]
  },
  {
   "cell_type": "code",
   "execution_count": 29,
   "metadata": {
    "ExecuteTime": {
     "end_time": "2019-05-08T23:58:27.968328Z",
     "start_time": "2019-05-08T23:58:04.695367Z"
    }
   },
   "outputs": [
    {
     "name": "stdout",
     "output_type": "stream",
     "text": [
      "2.91 s ± 14.3 ms per loop (mean ± std. dev. of 7 runs, 1 loop each)\n"
     ]
    }
   ],
   "source": [
    "%%timeit\n",
    "\n",
    "list(starmap(agree_, random_vector_pairs))"
   ]
  },
  {
   "cell_type": "code",
   "execution_count": 30,
   "metadata": {
    "ExecuteTime": {
     "end_time": "2019-05-08T23:59:17.068028Z",
     "start_time": "2019-05-08T23:58:27.969984Z"
    }
   },
   "outputs": [
    {
     "name": "stdout",
     "output_type": "stream",
     "text": [
      "6.12 s ± 104 ms per loop (mean ± std. dev. of 7 runs, 1 loop each)\n"
     ]
    }
   ],
   "source": [
    "%%timeit\n",
    "\n",
    "list(starmap(agree_alt, random_vector_pairs))"
   ]
  },
  {
   "cell_type": "code",
   "execution_count": 31,
   "metadata": {
    "ExecuteTime": {
     "end_time": "2019-05-08T23:59:52.628846Z",
     "start_time": "2019-05-08T23:59:17.069163Z"
    }
   },
   "outputs": [
    {
     "data": {
      "text/plain": [
       "100000"
      ]
     },
     "execution_count": 31,
     "metadata": {},
     "output_type": "execute_result"
    }
   ],
   "source": [
    "num_test_pairs = int(1e5)\n",
    "agreeing_vector_pairs = [make_agreeing_vector_pair() for each in range(num_test_pairs)]\n",
    "len(agreeing_vector_pairs)"
   ]
  },
  {
   "cell_type": "markdown",
   "metadata": {},
   "source": [
    "### Union"
   ]
  },
  {
   "cell_type": "markdown",
   "metadata": {},
   "source": [
    "The union of two partial feature vectors $u,v$ that agree should result in a partial feature vector that has every specified value in $u$, every specified value in $v$, and no other specified values.\n",
    "\n",
    "In general, the result is at least as specified as either $u$ or $v$: when $u=v$ $u \\cup v = u = v$ and $u \\cup v$ is no more specified, but otherwise $u \\cup v$ will be strictly more specified than either $u$ or $v$."
   ]
  },
  {
   "cell_type": "code",
   "execution_count": 32,
   "metadata": {
    "ExecuteTime": {
     "end_time": "2019-05-08T23:59:52.653652Z",
     "start_time": "2019-05-08T23:59:52.630306Z"
    }
   },
   "outputs": [
    {
     "data": {
      "text/plain": [
       "((-1, -1), (-1, 0), (-1, 1), (0, -1), (0, 0), (0, 1), (1, -1), (1, 0), (1, 1))"
      ]
     },
     "execution_count": 32,
     "metadata": {},
     "output_type": "execute_result"
    },
    {
     "data": {
      "text/plain": [
       "((-1, -1), -1)"
      ]
     },
     "execution_count": 32,
     "metadata": {},
     "output_type": "execute_result"
    },
    {
     "data": {
      "text/plain": [
       "((-1, 0), -1)"
      ]
     },
     "execution_count": 32,
     "metadata": {},
     "output_type": "execute_result"
    },
    {
     "data": {
      "text/plain": [
       "((-1, 1), 0)"
      ]
     },
     "execution_count": 32,
     "metadata": {},
     "output_type": "execute_result"
    },
    {
     "data": {
      "text/plain": [
       "((0, -1), -1)"
      ]
     },
     "execution_count": 32,
     "metadata": {},
     "output_type": "execute_result"
    },
    {
     "data": {
      "text/plain": [
       "((0, 0), 0)"
      ]
     },
     "execution_count": 32,
     "metadata": {},
     "output_type": "execute_result"
    },
    {
     "data": {
      "text/plain": [
       "((0, 1), 1)"
      ]
     },
     "execution_count": 32,
     "metadata": {},
     "output_type": "execute_result"
    },
    {
     "data": {
      "text/plain": [
       "((1, -1), 0)"
      ]
     },
     "execution_count": 32,
     "metadata": {},
     "output_type": "execute_result"
    },
    {
     "data": {
      "text/plain": [
       "((1, 0), 1)"
      ]
     },
     "execution_count": 32,
     "metadata": {},
     "output_type": "execute_result"
    },
    {
     "data": {
      "text/plain": [
       "((1, 1), 1)"
      ]
     },
     "execution_count": 32,
     "metadata": {},
     "output_type": "execute_result"
    }
   ],
   "source": [
    "XYs = tuple(product((-1,0,1), (-1,0,1)))\n",
    "XYs\n",
    "\n",
    "def cup(x,y):\n",
    "    '''\n",
    "    Formula:\n",
    "    x or y, where 1 = T, -1 = T, 0 = F\n",
    "    \n",
    "    Algebra:\n",
    "    0 is the identity ∀x ∈ {-1,0,+1}\n",
    "    x is its own identity ∀x ∈ {-1,0,+1}\n",
    "    (-1 and +1 are mutual inverses, but this case shouldn't occur when agree(x,y) holds)\n",
    "    \n",
    "    Pattern:\n",
    "    x ∪ x = x\n",
    "    \n",
    "    0 ∪ y = y\n",
    "    x ∪ 0 = x\n",
    "    \n",
    "    _ ∪ _ = 0  \\\\ <- shouldn't occur in two pfvs that agree\n",
    "    '''\n",
    "    if x == 0:  #if x is unspecified, return y\n",
    "        return y\n",
    "    elif y == 0: #if y is unspecified, return x\n",
    "        return x\n",
    "    elif x == y: #if both are specified and the same, return their common value\n",
    "        return x\n",
    "    else: #otherwise return 0\n",
    "        return 0\n",
    "\n",
    "for x,y in XYs:\n",
    "    ((x,y), cup(x,y))"
   ]
  },
  {
   "cell_type": "code",
   "execution_count": 33,
   "metadata": {
    "ExecuteTime": {
     "end_time": "2019-05-08T23:59:53.106793Z",
     "start_time": "2019-05-08T23:59:52.654849Z"
    }
   },
   "outputs": [],
   "source": [
    "def union(u, v):\n",
    "    if CAREFUL:\n",
    "        assert agree_(u,v)\n",
    "    return np.sign(u + v)\n",
    "\n",
    "def twoToOne(x):\n",
    "    if x != 2 and x != -2:\n",
    "        return x\n",
    "    elif x == 2:\n",
    "        return 1\n",
    "    else:\n",
    "        return -1\n",
    "\n",
    "twoToOne_v = np.vectorize(twoToOne)\n",
    "\n",
    "def union_alt(u, v):\n",
    "    if CAREFUL:\n",
    "        assert agree_(u,v)\n",
    "    return np.array(twoToOne_v(u + v), dtype=myint)\n",
    "\n",
    "def union_alt2(u, v):\n",
    "    if CAREFUL:\n",
    "        assert agree_(u,v)\n",
    "    s = u + v\n",
    "    return np.trunc( np.sqrt(np.abs(s)) ) * np.sign(s,dtype=myint)\n",
    "\n",
    "def union_alt3(u, v):\n",
    "    if CAREFUL:\n",
    "        assert agree_(u,v)\n",
    "    w = u.copy()\n",
    "    for i,x in enumerate(v):\n",
    "        if x != 0:\n",
    "            w[i] = x\n",
    "    return w\n",
    "\n",
    "def union_alt4(u, v):\n",
    "    if CAREFUL:\n",
    "        assert agree_(u,v)\n",
    "    return np.array([cup(u[i],v[i]) for i in range(m)], dtype=myint)\n",
    "\n",
    "cup_v = np.vectorize(cup)\n",
    "\n",
    "def union_alt5(u, v):\n",
    "    if CAREFUL:\n",
    "        assert agree_(u,v)\n",
    "    return np.array(cup_v(u,v), dtype=myint)"
   ]
  },
  {
   "cell_type": "code",
   "execution_count": 34,
   "metadata": {
    "ExecuteTime": {
     "end_time": "2019-05-08T23:59:53.123056Z",
     "start_time": "2019-05-08T23:59:53.109035Z"
    }
   },
   "outputs": [
    {
     "data": {
      "text/plain": [
       "(array([-1,  0,  1, -1,  0,  0,  1,  1,  0], dtype=int8),\n",
       " array([-1, -1,  1,  0,  1,  0,  0,  1,  1], dtype=int8))"
      ]
     },
     "execution_count": 34,
     "metadata": {},
     "output_type": "execute_result"
    },
    {
     "data": {
      "text/plain": [
       "array([-1, -1,  1, -1,  1,  0,  1,  1,  1], dtype=int8)"
      ]
     },
     "execution_count": 34,
     "metadata": {},
     "output_type": "execute_result"
    },
    {
     "data": {
      "text/plain": [
       "array([-1, -1,  1, -1,  1,  0,  1,  1,  1], dtype=int8)"
      ]
     },
     "execution_count": 34,
     "metadata": {},
     "output_type": "execute_result"
    },
    {
     "data": {
      "text/plain": [
       "array([-1., -1.,  1., -1.,  1.,  0.,  1.,  1.,  1.], dtype=float16)"
      ]
     },
     "execution_count": 34,
     "metadata": {},
     "output_type": "execute_result"
    },
    {
     "data": {
      "text/plain": [
       "array([-1, -1,  1, -1,  1,  0,  1,  1,  1], dtype=int8)"
      ]
     },
     "execution_count": 34,
     "metadata": {},
     "output_type": "execute_result"
    },
    {
     "data": {
      "text/plain": [
       "array([-1, -1,  1, -1,  1,  0,  1,  1,  1], dtype=int8)"
      ]
     },
     "execution_count": 34,
     "metadata": {},
     "output_type": "execute_result"
    },
    {
     "data": {
      "text/plain": [
       "array([-1, -1,  1, -1,  1,  0,  1,  1,  1], dtype=int8)"
      ]
     },
     "execution_count": 34,
     "metadata": {},
     "output_type": "execute_result"
    }
   ],
   "source": [
    "test_pair = choice(agreeing_vector_pairs)\n",
    "test_pair\n",
    "\n",
    "union(*test_pair)\n",
    "union_alt(*test_pair)\n",
    "union_alt2(*test_pair)\n",
    "union_alt3(*test_pair)\n",
    "union_alt4(*test_pair)\n",
    "union_alt5(*test_pair)"
   ]
  },
  {
   "cell_type": "code",
   "execution_count": 35,
   "metadata": {
    "ExecuteTime": {
     "end_time": "2019-05-09T00:00:01.872145Z",
     "start_time": "2019-05-08T23:59:53.124483Z"
    }
   },
   "outputs": [
    {
     "name": "stdout",
     "output_type": "stream",
     "text": [
      "108 ms ± 1.36 ms per loop (mean ± std. dev. of 7 runs, 10 loops each)\n"
     ]
    }
   ],
   "source": [
    "%%timeit\n",
    "\n",
    "list(starmap(union, agreeing_vector_pairs));"
   ]
  },
  {
   "cell_type": "code",
   "execution_count": 36,
   "metadata": {
    "ExecuteTime": {
     "end_time": "2019-05-09T00:00:18.309438Z",
     "start_time": "2019-05-09T00:00:01.873829Z"
    }
   },
   "outputs": [
    {
     "name": "stdout",
     "output_type": "stream",
     "text": [
      "2.04 s ± 125 ms per loop (mean ± std. dev. of 7 runs, 1 loop each)\n"
     ]
    }
   ],
   "source": [
    "%%timeit\n",
    "\n",
    "list(starmap(union_alt, agreeing_vector_pairs));"
   ]
  },
  {
   "cell_type": "code",
   "execution_count": 37,
   "metadata": {
    "ExecuteTime": {
     "end_time": "2019-05-09T00:00:21.974918Z",
     "start_time": "2019-05-09T00:00:18.311622Z"
    }
   },
   "outputs": [
    {
     "name": "stdout",
     "output_type": "stream",
     "text": [
      "455 ms ± 2.51 ms per loop (mean ± std. dev. of 7 runs, 1 loop each)\n"
     ]
    }
   ],
   "source": [
    "%%timeit\n",
    "\n",
    "list(starmap(union_alt2, agreeing_vector_pairs));"
   ]
  },
  {
   "cell_type": "code",
   "execution_count": 38,
   "metadata": {
    "ExecuteTime": {
     "end_time": "2019-05-09T00:00:34.836393Z",
     "start_time": "2019-05-09T00:00:21.976521Z"
    }
   },
   "outputs": [
    {
     "name": "stdout",
     "output_type": "stream",
     "text": [
      "1.6 s ± 43.5 ms per loop (mean ± std. dev. of 7 runs, 1 loop each)\n"
     ]
    }
   ],
   "source": [
    "%%timeit\n",
    "\n",
    "list(starmap(union_alt3, agreeing_vector_pairs));"
   ]
  },
  {
   "cell_type": "code",
   "execution_count": 39,
   "metadata": {
    "ExecuteTime": {
     "end_time": "2019-05-09T00:00:54.495617Z",
     "start_time": "2019-05-09T00:00:34.838915Z"
    }
   },
   "outputs": [
    {
     "name": "stdout",
     "output_type": "stream",
     "text": [
      "2.46 s ± 12.6 ms per loop (mean ± std. dev. of 7 runs, 1 loop each)\n"
     ]
    }
   ],
   "source": [
    "%%timeit\n",
    "\n",
    "list(starmap(union_alt4, agreeing_vector_pairs));"
   ]
  },
  {
   "cell_type": "code",
   "execution_count": 55,
   "metadata": {
    "ExecuteTime": {
     "end_time": "2019-05-09T00:20:37.683146Z",
     "start_time": "2019-05-09T00:20:20.083221Z"
    }
   },
   "outputs": [
    {
     "name": "stdout",
     "output_type": "stream",
     "text": [
      "2.19 s ± 83.4 ms per loop (mean ± std. dev. of 7 runs, 1 loop each)\n"
     ]
    }
   ],
   "source": [
    "%%timeit\n",
    "\n",
    "list(starmap(union_alt5, agreeing_vector_pairs));"
   ]
  },
  {
   "cell_type": "markdown",
   "metadata": {},
   "source": [
    "### Intersection"
   ]
  },
  {
   "cell_type": "markdown",
   "metadata": {},
   "source": [
    "The intersection of two partial feature vectors $u,v$ should result in a partial feature vector that has every specified value that is specified in both $u$ and $v$ and where $u$ and $v$ agree, and no other specified values.\n",
    "\n",
    "In general, the result is no more specified than either $u$ or $v$: when $u=v$ $u \\cap v = u = v$ and $u \\cap v$ is no less specified, but otherwise $u \\cap v$ will be strictly less specified than either $u$ or $v$."
   ]
  },
  {
   "cell_type": "code",
   "execution_count": 56,
   "metadata": {
    "ExecuteTime": {
     "end_time": "2019-05-09T00:20:37.711809Z",
     "start_time": "2019-05-09T00:20:37.686837Z"
    }
   },
   "outputs": [
    {
     "data": {
      "text/plain": [
       "((-1, -1), (-1, 0), (-1, 1), (0, -1), (0, 0), (0, 1), (1, -1), (1, 0), (1, 1))"
      ]
     },
     "execution_count": 56,
     "metadata": {},
     "output_type": "execute_result"
    },
    {
     "data": {
      "text/plain": [
       "((-1, -1), -1, -1, -1.0, -1)"
      ]
     },
     "execution_count": 56,
     "metadata": {},
     "output_type": "execute_result"
    },
    {
     "data": {
      "text/plain": [
       "((-1, 0), 0, 0, 0.0, 0)"
      ]
     },
     "execution_count": 56,
     "metadata": {},
     "output_type": "execute_result"
    },
    {
     "data": {
      "text/plain": [
       "((-1, 1), 0, 0, 0.0, 0)"
      ]
     },
     "execution_count": 56,
     "metadata": {},
     "output_type": "execute_result"
    },
    {
     "data": {
      "text/plain": [
       "((0, -1), 0, 0, 0.0, 0)"
      ]
     },
     "execution_count": 56,
     "metadata": {},
     "output_type": "execute_result"
    },
    {
     "data": {
      "text/plain": [
       "((0, 0), 0, 0, 0.0, 0)"
      ]
     },
     "execution_count": 56,
     "metadata": {},
     "output_type": "execute_result"
    },
    {
     "data": {
      "text/plain": [
       "((0, 1), 0, 0, 0.0, 0)"
      ]
     },
     "execution_count": 56,
     "metadata": {},
     "output_type": "execute_result"
    },
    {
     "data": {
      "text/plain": [
       "((1, -1), 0, 0, 0.0, 0)"
      ]
     },
     "execution_count": 56,
     "metadata": {},
     "output_type": "execute_result"
    },
    {
     "data": {
      "text/plain": [
       "((1, 0), 0, 0, 0.0, 0)"
      ]
     },
     "execution_count": 56,
     "metadata": {},
     "output_type": "execute_result"
    },
    {
     "data": {
      "text/plain": [
       "((1, 1), 1, 1, 1.0, 1)"
      ]
     },
     "execution_count": 56,
     "metadata": {},
     "output_type": "execute_result"
    }
   ],
   "source": [
    "XYs = tuple(product((-1,0,1), (-1,0,1)))\n",
    "XYs \n",
    "    \n",
    "def cap(x,y):\n",
    "    '''\n",
    "    Algebra:\n",
    "    0 is the annihilating element ∀x ∈ {-1,0,+1}\n",
    "    x is its own identity ∀x ∈ {-1,0,+1}\n",
    "    -1 and +1 annihilate each other\n",
    "    \n",
    "    Pattern:\n",
    "    x ∩ x = x\n",
    "    \n",
    "    0 ∩ _ = 0\n",
    "    _ ∩ 0 = 0\n",
    "    \n",
    "    _ ∩ _ = 0\n",
    "    '''\n",
    "    if x == 0: #if x is unspecified, return 0\n",
    "        return 0\n",
    "    elif y == 0: #if y is unspecified, return 0\n",
    "        return 0\n",
    "    elif x == y: #if both are specified and the same, return their common value\n",
    "        return x\n",
    "    else: #otherwise return 0\n",
    "        return 0\n",
    "\n",
    "def foo(x,y):\n",
    "    return np.sign( (x == y) * (x + y) )\n",
    "\n",
    "def bar(x,y):\n",
    "    return (x == y) * (x + y) * 0.5\n",
    "\n",
    "def baz(x,y):\n",
    "    return (x == y) * int((x + y) / 2)\n",
    "\n",
    "for x,y in XYs:\n",
    "#     ((x,y), cap(x,y))\n",
    "    ((x,y), cap(x,y), foo(x,y), bar(x,y), baz(x,y))"
   ]
  },
  {
   "cell_type": "code",
   "execution_count": 57,
   "metadata": {
    "ExecuteTime": {
     "end_time": "2019-05-09T00:20:37.724526Z",
     "start_time": "2019-05-09T00:20:37.713125Z"
    }
   },
   "outputs": [],
   "source": [
    "def intersection(u, v):\n",
    "    return np.sign(  np.equal(u, v) * (u + v) )\n",
    "\n",
    "def intersection_alt(u, v):\n",
    "    return np.array([cap(u[i],v[i]) for i in range(m)], dtype=myint)\n",
    "\n",
    "def intersection_alt2(u, v):\n",
    "    return np.array(np.equal(u, v) * (u + v) * 0.5, dtype=myint)\n",
    "\n",
    "def intersection_alt3(u, v):\n",
    "    return np.array([bar(u[i], v[i]) for i in range(m)], dtype=myint)"
   ]
  },
  {
   "cell_type": "code",
   "execution_count": 58,
   "metadata": {
    "ExecuteTime": {
     "end_time": "2019-05-09T00:20:37.738354Z",
     "start_time": "2019-05-09T00:20:37.727385Z"
    }
   },
   "outputs": [
    {
     "data": {
      "text/plain": [
       "(array([ 1,  0,  1, -1,  0,  0, -1,  1,  1], dtype=int8),\n",
       " array([ 1,  1, -1, -1,  0,  0, -1,  1,  1], dtype=int8))"
      ]
     },
     "execution_count": 58,
     "metadata": {},
     "output_type": "execute_result"
    },
    {
     "data": {
      "text/plain": [
       "array([ 1,  0,  0, -1,  0,  0, -1,  1,  1], dtype=int8)"
      ]
     },
     "execution_count": 58,
     "metadata": {},
     "output_type": "execute_result"
    },
    {
     "data": {
      "text/plain": [
       "array([ 1,  0,  0, -1,  0,  0, -1,  1,  1], dtype=int8)"
      ]
     },
     "execution_count": 58,
     "metadata": {},
     "output_type": "execute_result"
    },
    {
     "data": {
      "text/plain": [
       "array([ 1,  0,  0, -1,  0,  0, -1,  1,  1], dtype=int8)"
      ]
     },
     "execution_count": 58,
     "metadata": {},
     "output_type": "execute_result"
    },
    {
     "data": {
      "text/plain": [
       "array([ 1,  0,  0, -1,  0,  0, -1,  1,  1], dtype=int8)"
      ]
     },
     "execution_count": 58,
     "metadata": {},
     "output_type": "execute_result"
    }
   ],
   "source": [
    "test_pair = choice(random_vector_pairs)\n",
    "test_pair\n",
    "\n",
    "intersection(*test_pair)\n",
    "intersection_alt(*test_pair)\n",
    "intersection_alt2(*test_pair)\n",
    "intersection_alt3(*test_pair)"
   ]
  },
  {
   "cell_type": "code",
   "execution_count": 59,
   "metadata": {
    "ExecuteTime": {
     "end_time": "2019-05-09T00:20:51.695236Z",
     "start_time": "2019-05-09T00:20:37.740113Z"
    }
   },
   "outputs": [],
   "source": [
    "for pair in random_vector_pairs:\n",
    "    assert np.array_equal(intersection(*pair), intersection_alt(*pair)), 'Agreement failure on {0}'.format(pair)\n",
    "    assert np.array_equal(intersection_alt2(*pair), intersection_alt(*pair)), 'Agreement failure on {0}'.format(pair)\n",
    "    assert np.array_equal(intersection_alt3(*pair), intersection_alt(*pair)), 'Agreement failure on {0}'.format(pair)"
   ]
  },
  {
   "cell_type": "code",
   "execution_count": 60,
   "metadata": {
    "ExecuteTime": {
     "end_time": "2019-05-09T00:20:53.583492Z",
     "start_time": "2019-05-09T00:20:51.696697Z"
    }
   },
   "outputs": [
    {
     "name": "stdout",
     "output_type": "stream",
     "text": [
      "234 ms ± 829 µs per loop (mean ± std. dev. of 7 runs, 1 loop each)\n"
     ]
    }
   ],
   "source": [
    "%%timeit\n",
    "\n",
    "list(starmap(intersection, random_vector_pairs));"
   ]
  },
  {
   "cell_type": "code",
   "execution_count": 61,
   "metadata": {
    "ExecuteTime": {
     "end_time": "2019-05-09T00:21:14.193759Z",
     "start_time": "2019-05-09T00:20:53.585062Z"
    }
   },
   "outputs": [
    {
     "name": "stdout",
     "output_type": "stream",
     "text": [
      "2.58 s ± 18.8 ms per loop (mean ± std. dev. of 7 runs, 1 loop each)\n"
     ]
    }
   ],
   "source": [
    "%%timeit\n",
    "\n",
    "list(starmap(intersection_alt, random_vector_pairs));"
   ]
  },
  {
   "cell_type": "code",
   "execution_count": 62,
   "metadata": {
    "ExecuteTime": {
     "end_time": "2019-05-09T00:21:17.486360Z",
     "start_time": "2019-05-09T00:21:14.195225Z"
    }
   },
   "outputs": [
    {
     "name": "stdout",
     "output_type": "stream",
     "text": [
      "410 ms ± 7.47 ms per loop (mean ± std. dev. of 7 runs, 1 loop each)\n"
     ]
    }
   ],
   "source": [
    "%%timeit\n",
    "\n",
    "list(starmap(intersection_alt2, random_vector_pairs));"
   ]
  },
  {
   "cell_type": "code",
   "execution_count": 63,
   "metadata": {
    "ExecuteTime": {
     "end_time": "2019-05-09T00:21:48.844364Z",
     "start_time": "2019-05-09T00:21:17.487751Z"
    }
   },
   "outputs": [
    {
     "name": "stdout",
     "output_type": "stream",
     "text": [
      "3.92 s ± 13.4 ms per loop (mean ± std. dev. of 7 runs, 1 loop each)\n"
     ]
    }
   ],
   "source": [
    "%%timeit\n",
    "\n",
    "list(starmap(intersection_alt3, random_vector_pairs));"
   ]
  },
  {
   "cell_type": "markdown",
   "metadata": {},
   "source": [
    "### Extension"
   ]
  },
  {
   "cell_type": "code",
   "execution_count": 64,
   "metadata": {
    "ExecuteTime": {
     "end_time": "2019-05-09T00:21:48.849643Z",
     "start_time": "2019-05-09T00:21:48.846645Z"
    }
   },
   "outputs": [],
   "source": [
    "def extension(v, asIndexVector=True):\n",
    "    '''\n",
    "    The extension of a partial feature vector v is the set of object vectors\n",
    "    (= fully specified, or 'total' feature vectors) that 'agree' with it.\n",
    "    '''\n",
    "    matches = tuple([o for o in objects if agree_(v,o)])\n",
    "#     matches = tuple([o for o in objects if agree(v,o).all()])\n",
    "#     matches = np.array([1.0 if np.linalg.norm(agree(v,o), 1) == num_features else 0.0 for o in objects])\n",
    "    if asIndexVector:\n",
    "        return makeExtensionVector([getIndex(o) for o in matches])\n",
    "    return matches"
   ]
  },
  {
   "cell_type": "code",
   "execution_count": 71,
   "metadata": {
    "ExecuteTime": {
     "end_time": "2019-05-09T02:32:16.083847Z",
     "start_time": "2019-05-09T02:32:16.078150Z"
    }
   },
   "outputs": [],
   "source": [
    "def in_extension(s, o):\n",
    "    '''\n",
    "    Given a partial feature vector s and a fully specified object vector o,\n",
    "    returns True iff o ∈ ⟦s⟧ and False otherwise.\n",
    "    '''\n",
    "    if np.array_equal( s, np.zeros(s.shape) ):\n",
    "        return True\n",
    "    \n",
    "    s_ = np.abs(s)\n",
    "    o_ = s_ * o\n",
    "    s_normed = normalize(s)\n",
    "    o_normed = normalize(o_)\n",
    "    pr = np.dot(s_normed, o_normed)\n",
    "    return np.isclose(1.0, pr)\n",
    "\n",
    "def extension_alt(s):\n",
    "    extensionVector = np.array([1 if in_extension(s, o) else 0 for o in objectMap], dtype=myint)\n",
    "    return extensionVector"
   ]
  },
  {
   "cell_type": "code",
   "execution_count": 72,
   "metadata": {
    "ExecuteTime": {
     "end_time": "2019-05-09T02:32:16.814361Z",
     "start_time": "2019-05-09T02:32:16.788609Z"
    }
   },
   "outputs": [
    {
     "data": {
      "text/plain": [
       "array([0, 0, 1, 0, 0, 0, 0, 0, 0, 0, 0, 0, 0, 0, 0, 0, 0, 0, 0, 0, 0, 0, 0,\n",
       "       0, 0, 0, 0, 0, 0, 0, 0, 0, 0, 0, 0, 0, 0, 0, 0, 0, 0, 0, 0, 0, 0, 0,\n",
       "       0, 0, 0, 0, 0, 0, 0, 0, 0, 0, 0, 0, 0, 0, 0, 0, 0, 0, 0, 0, 0, 0, 0,\n",
       "       0, 0, 0, 0, 0, 0, 0, 0, 0, 0, 0, 0, 0, 0, 0, 0, 0, 0, 0, 0, 0, 0, 0,\n",
       "       0, 0, 0, 0, 0, 0, 0, 0, 0, 0, 0, 0, 0, 0, 0, 0, 0, 0, 0, 0, 0, 0, 0,\n",
       "       0, 0, 0, 0, 0, 0, 0, 0, 0, 0, 0, 0, 0, 0, 0, 0, 0, 0, 0, 0, 0, 0, 0,\n",
       "       0, 0, 0, 0, 0, 0, 0, 0, 0, 1, 0, 0, 0, 0, 0, 0, 0, 0, 0, 0, 0, 0, 0,\n",
       "       0, 0, 0, 0, 0, 0, 0, 0, 0, 0, 0, 0, 0, 0, 0, 0, 0, 0, 0, 0, 0, 0, 0,\n",
       "       0, 0, 1, 0, 0, 0, 0, 0, 0, 0, 0, 0, 0, 0, 0, 0, 0, 0, 0, 0, 0, 0, 0,\n",
       "       0, 0, 0, 0, 0, 0, 0, 0, 0], dtype=int8)"
      ]
     },
     "execution_count": 72,
     "metadata": {},
     "output_type": "execute_result"
    },
    {
     "data": {
      "text/plain": [
       "array([0, 0, 1, 0, 0, 0, 0, 0, 0, 0, 0, 0, 0, 0, 0, 0, 0, 0, 0, 0, 0, 0, 0,\n",
       "       0, 0, 0, 0, 0, 0, 0, 0, 0, 0, 0, 0, 0, 0, 0, 0, 0, 0, 0, 0, 0, 0, 0,\n",
       "       0, 0, 0, 0, 0, 0, 0, 0, 0, 0, 0, 0, 0, 0, 0, 0, 0, 0, 0, 0, 0, 0, 0,\n",
       "       0, 0, 0, 0, 0, 0, 0, 0, 0, 0, 0, 0, 0, 0, 0, 0, 0, 0, 0, 0, 0, 0, 0,\n",
       "       0, 0, 0, 0, 0, 0, 0, 0, 0, 0, 0, 0, 0, 0, 0, 0, 0, 0, 0, 0, 0, 0, 0,\n",
       "       0, 0, 0, 0, 0, 0, 0, 0, 0, 0, 0, 0, 0, 0, 0, 0, 0, 0, 0, 0, 0, 0, 0,\n",
       "       0, 0, 0, 0, 0, 0, 0, 0, 0, 1, 0, 0, 0, 0, 0, 0, 0, 0, 0, 0, 0, 0, 0,\n",
       "       0, 0, 0, 0, 0, 0, 0, 0, 0, 0, 0, 0, 0, 0, 0, 0, 0, 0, 0, 0, 0, 0, 0,\n",
       "       0, 0, 1, 0, 0, 0, 0, 0, 0, 0, 0, 0, 0, 0, 0, 0, 0, 0, 0, 0, 0, 0, 0,\n",
       "       0, 0, 0, 0, 0, 0, 0, 0, 0], dtype=int8)"
      ]
     },
     "execution_count": 72,
     "metadata": {},
     "output_type": "execute_result"
    }
   ],
   "source": [
    "p = make_random_pfv()\n",
    "extension(p)\n",
    "extension_alt(p)"
   ]
  },
  {
   "cell_type": "code",
   "execution_count": 73,
   "metadata": {
    "ExecuteTime": {
     "end_time": "2019-05-09T02:32:18.481327Z",
     "start_time": "2019-05-09T02:32:18.477793Z"
    }
   },
   "outputs": [
    {
     "data": {
      "text/plain": [
       "array([[-1, -1, -1, ...,  1,  1,  1],\n",
       "       [ 1,  1,  1, ...,  1,  1, -1],\n",
       "       [ 1,  1,  1, ..., -1,  1, -1],\n",
       "       ..., \n",
       "       [ 1,  1, -1, ...,  1, -1,  1],\n",
       "       [ 1,  1,  1, ...,  1, -1,  1],\n",
       "       [ 1,  1, -1, ...,  1, -1, -1]])"
      ]
     },
     "execution_count": 73,
     "metadata": {},
     "output_type": "execute_result"
    }
   ],
   "source": [
    "objectMap"
   ]
  },
  {
   "cell_type": "code",
   "execution_count": 74,
   "metadata": {
    "ExecuteTime": {
     "end_time": "2019-05-09T02:32:20.821663Z",
     "start_time": "2019-05-09T02:32:20.508087Z"
    }
   },
   "outputs": [
    {
     "data": {
      "text/plain": [
       "100000"
      ]
     },
     "execution_count": 74,
     "metadata": {},
     "output_type": "execute_result"
    }
   ],
   "source": [
    "num_test_pairs = int(1e5)\n",
    "random_vectors = [make_random_pfv() for each in range(num_test_pairs)]\n",
    "len(random_vectors)"
   ]
  },
  {
   "cell_type": "code",
   "execution_count": 84,
   "metadata": {
    "ExecuteTime": {
     "end_time": "2019-05-09T02:35:20.342046Z",
     "start_time": "2019-05-09T02:35:20.337581Z"
    }
   },
   "outputs": [],
   "source": [
    "def extension_test(v):\n",
    "    foo = extension(v)\n",
    "    bar = extension_alt(v)\n",
    "    if not np.array_equal(foo, bar):\n",
    "        raise Exception('Disagreement on {0}: {1} vs. {2}'.format(v, extension(v), extension_alt(v)))\n",
    "    return True"
   ]
  },
  {
   "cell_type": "code",
   "execution_count": 96,
   "metadata": {
    "ExecuteTime": {
     "end_time": "2019-05-09T03:09:28.666060Z",
     "start_time": "2019-05-09T03:07:23.573271Z"
    }
   },
   "outputs": [
    {
     "name": "stderr",
     "output_type": "stream",
     "text": [
      "[Parallel(n_jobs=30)]: Using backend MultiprocessingBackend with 30 concurrent workers.\n",
      "[Parallel(n_jobs=30)]: Done   1 tasks      | elapsed:    0.0s\n",
      "[Parallel(n_jobs=30)]: Batch computation too fast (0.0365s.) Setting batch_size=10.\n",
      "[Parallel(n_jobs=30)]: Done  12 tasks      | elapsed:    0.1s\n",
      "[Parallel(n_jobs=30)]: Done  25 tasks      | elapsed:    0.1s\n",
      "[Parallel(n_jobs=30)]: Done  38 tasks      | elapsed:    0.1s\n",
      "[Parallel(n_jobs=30)]: Done  53 tasks      | elapsed:    0.1s\n",
      "[Parallel(n_jobs=30)]: Done 140 tasks      | elapsed:    0.5s\n",
      "[Parallel(n_jobs=30)]: Done 310 tasks      | elapsed:    0.7s\n",
      "[Parallel(n_jobs=30)]: Done 480 tasks      | elapsed:    0.9s\n",
      "[Parallel(n_jobs=30)]: Done 670 tasks      | elapsed:    1.2s\n",
      "[Parallel(n_jobs=30)]: Done 860 tasks      | elapsed:    1.4s\n",
      "[Parallel(n_jobs=30)]: Done 1070 tasks      | elapsed:    1.7s\n",
      "[Parallel(n_jobs=30)]: Done 1280 tasks      | elapsed:    2.0s\n",
      "[Parallel(n_jobs=30)]: Done 1510 tasks      | elapsed:    2.2s\n",
      "[Parallel(n_jobs=30)]: Done 1740 tasks      | elapsed:    2.5s\n",
      "[Parallel(n_jobs=30)]: Done 1990 tasks      | elapsed:    2.9s\n",
      "[Parallel(n_jobs=30)]: Done 2240 tasks      | elapsed:    3.2s\n",
      "[Parallel(n_jobs=30)]: Done 2510 tasks      | elapsed:    3.5s\n",
      "[Parallel(n_jobs=30)]: Done 2780 tasks      | elapsed:    3.8s\n",
      "[Parallel(n_jobs=30)]: Done 3070 tasks      | elapsed:    4.2s\n",
      "[Parallel(n_jobs=30)]: Done 3360 tasks      | elapsed:    4.5s\n",
      "[Parallel(n_jobs=30)]: Done 3670 tasks      | elapsed:    4.9s\n",
      "[Parallel(n_jobs=30)]: Done 3980 tasks      | elapsed:    5.4s\n",
      "[Parallel(n_jobs=30)]: Done 4310 tasks      | elapsed:    5.7s\n",
      "[Parallel(n_jobs=30)]: Done 4640 tasks      | elapsed:    6.1s\n",
      "[Parallel(n_jobs=30)]: Done 4990 tasks      | elapsed:    6.5s\n",
      "[Parallel(n_jobs=30)]: Done 5340 tasks      | elapsed:    7.0s\n",
      "[Parallel(n_jobs=30)]: Done 5710 tasks      | elapsed:    7.5s\n",
      "[Parallel(n_jobs=30)]: Done 6080 tasks      | elapsed:    8.0s\n",
      "[Parallel(n_jobs=30)]: Done 6470 tasks      | elapsed:    8.5s\n",
      "[Parallel(n_jobs=30)]: Done 6860 tasks      | elapsed:    8.9s\n",
      "[Parallel(n_jobs=30)]: Done 7270 tasks      | elapsed:    9.4s\n",
      "\n",
      " 76%|███████▋  | 76300/100000 [27:05<08:48, 44.82it/s]\u001b[A[Parallel(n_jobs=30)]: Done 7680 tasks      | elapsed:    9.9s\n",
      "[Parallel(n_jobs=30)]: Done 8110 tasks      | elapsed:   10.4s\n",
      "[Parallel(n_jobs=30)]: Done 8540 tasks      | elapsed:   10.9s\n",
      "[Parallel(n_jobs=30)]: Done 8990 tasks      | elapsed:   11.5s\n",
      "[Parallel(n_jobs=30)]: Done 9440 tasks      | elapsed:   12.1s\n",
      "[Parallel(n_jobs=30)]: Done 9910 tasks      | elapsed:   12.6s\n",
      "[Parallel(n_jobs=30)]: Done 10380 tasks      | elapsed:   13.2s\n",
      "[Parallel(n_jobs=30)]: Done 10870 tasks      | elapsed:   13.8s\n",
      "[Parallel(n_jobs=30)]: Done 11360 tasks      | elapsed:   14.4s\n",
      "[Parallel(n_jobs=30)]: Done 11870 tasks      | elapsed:   15.1s\n",
      "[Parallel(n_jobs=30)]: Done 12380 tasks      | elapsed:   15.7s\n",
      "[Parallel(n_jobs=30)]: Done 12910 tasks      | elapsed:   16.3s\n",
      "[Parallel(n_jobs=30)]: Done 13440 tasks      | elapsed:   17.0s\n",
      "[Parallel(n_jobs=30)]: Done 13990 tasks      | elapsed:   17.7s\n",
      "[Parallel(n_jobs=30)]: Done 14540 tasks      | elapsed:   18.3s\n",
      "[Parallel(n_jobs=30)]: Done 15110 tasks      | elapsed:   19.0s\n",
      "[Parallel(n_jobs=30)]: Done 15680 tasks      | elapsed:   19.7s\n",
      "[Parallel(n_jobs=30)]: Done 16270 tasks      | elapsed:   20.4s\n",
      "[Parallel(n_jobs=30)]: Done 16860 tasks      | elapsed:   21.2s\n",
      "[Parallel(n_jobs=30)]: Done 17470 tasks      | elapsed:   22.0s\n",
      "[Parallel(n_jobs=30)]: Done 18080 tasks      | elapsed:   22.7s\n",
      "[Parallel(n_jobs=30)]: Done 18710 tasks      | elapsed:   23.5s\n",
      "[Parallel(n_jobs=30)]: Done 19340 tasks      | elapsed:   24.3s\n",
      "[Parallel(n_jobs=30)]: Done 19990 tasks      | elapsed:   25.1s\n",
      "[Parallel(n_jobs=30)]: Done 20640 tasks      | elapsed:   25.9s\n",
      "[Parallel(n_jobs=30)]: Done 21310 tasks      | elapsed:   26.7s\n",
      "[Parallel(n_jobs=30)]: Done 21980 tasks      | elapsed:   27.5s\n",
      "[Parallel(n_jobs=30)]: Done 22670 tasks      | elapsed:   28.4s\n",
      "[Parallel(n_jobs=30)]: Done 23360 tasks      | elapsed:   29.2s\n",
      "[Parallel(n_jobs=30)]: Done 24070 tasks      | elapsed:   30.2s\n",
      "[Parallel(n_jobs=30)]: Done 24780 tasks      | elapsed:   31.0s\n",
      "[Parallel(n_jobs=30)]: Done 25510 tasks      | elapsed:   31.9s\n",
      "[Parallel(n_jobs=30)]: Done 26240 tasks      | elapsed:   32.8s\n",
      "[Parallel(n_jobs=30)]: Done 26990 tasks      | elapsed:   33.8s\n",
      "[Parallel(n_jobs=30)]: Done 27740 tasks      | elapsed:   34.7s\n",
      "[Parallel(n_jobs=30)]: Done 28510 tasks      | elapsed:   35.7s\n",
      "[Parallel(n_jobs=30)]: Done 29280 tasks      | elapsed:   36.6s\n",
      "[Parallel(n_jobs=30)]: Done 30070 tasks      | elapsed:   37.5s\n",
      "[Parallel(n_jobs=30)]: Done 30860 tasks      | elapsed:   38.6s\n",
      "[Parallel(n_jobs=30)]: Done 31670 tasks      | elapsed:   39.5s\n",
      "[Parallel(n_jobs=30)]: Done 32480 tasks      | elapsed:   40.5s\n",
      "[Parallel(n_jobs=30)]: Done 33310 tasks      | elapsed:   41.5s\n",
      "[Parallel(n_jobs=30)]: Done 34140 tasks      | elapsed:   42.6s\n",
      "[Parallel(n_jobs=30)]: Done 34990 tasks      | elapsed:   43.6s\n",
      "[Parallel(n_jobs=30)]: Done 35840 tasks      | elapsed:   44.7s\n",
      "[Parallel(n_jobs=30)]: Done 36710 tasks      | elapsed:   45.8s\n",
      "[Parallel(n_jobs=30)]: Done 37580 tasks      | elapsed:   46.8s\n",
      "[Parallel(n_jobs=30)]: Done 38470 tasks      | elapsed:   47.9s\n",
      "[Parallel(n_jobs=30)]: Done 39360 tasks      | elapsed:   49.0s\n",
      "[Parallel(n_jobs=30)]: Done 40270 tasks      | elapsed:   50.1s\n",
      "[Parallel(n_jobs=30)]: Done 41180 tasks      | elapsed:   51.2s\n",
      "[Parallel(n_jobs=30)]: Done 42110 tasks      | elapsed:   52.3s\n",
      "[Parallel(n_jobs=30)]: Done 43040 tasks      | elapsed:   53.6s\n",
      "[Parallel(n_jobs=30)]: Done 43990 tasks      | elapsed:   54.8s\n",
      "[Parallel(n_jobs=30)]: Done 44940 tasks      | elapsed:   56.0s\n",
      "[Parallel(n_jobs=30)]: Done 45910 tasks      | elapsed:   57.2s\n",
      "[Parallel(n_jobs=30)]: Done 46880 tasks      | elapsed:   58.3s\n",
      "[Parallel(n_jobs=30)]: Done 47870 tasks      | elapsed:   59.6s\n",
      "[Parallel(n_jobs=30)]: Done 48860 tasks      | elapsed:  1.0min\n",
      "[Parallel(n_jobs=30)]: Done 49870 tasks      | elapsed:  1.0min\n",
      "[Parallel(n_jobs=30)]: Done 50880 tasks      | elapsed:  1.1min\n",
      "[Parallel(n_jobs=30)]: Done 51910 tasks      | elapsed:  1.1min\n",
      "[Parallel(n_jobs=30)]: Done 52940 tasks      | elapsed:  1.1min\n",
      "[Parallel(n_jobs=30)]: Done 53990 tasks      | elapsed:  1.1min\n",
      "[Parallel(n_jobs=30)]: Done 55040 tasks      | elapsed:  1.1min\n",
      "[Parallel(n_jobs=30)]: Done 56110 tasks      | elapsed:  1.2min\n",
      "[Parallel(n_jobs=30)]: Done 57180 tasks      | elapsed:  1.2min\n",
      "[Parallel(n_jobs=30)]: Done 58270 tasks      | elapsed:  1.2min\n",
      "[Parallel(n_jobs=30)]: Done 59360 tasks      | elapsed:  1.2min\n",
      "[Parallel(n_jobs=30)]: Done 60470 tasks      | elapsed:  1.3min\n",
      "[Parallel(n_jobs=30)]: Done 61580 tasks      | elapsed:  1.3min\n",
      "[Parallel(n_jobs=30)]: Done 62710 tasks      | elapsed:  1.3min\n",
      "[Parallel(n_jobs=30)]: Done 63840 tasks      | elapsed:  1.3min\n",
      "[Parallel(n_jobs=30)]: Done 64990 tasks      | elapsed:  1.4min\n",
      "[Parallel(n_jobs=30)]: Done 66140 tasks      | elapsed:  1.4min\n",
      "[Parallel(n_jobs=30)]: Done 67310 tasks      | elapsed:  1.4min\n",
      "[Parallel(n_jobs=30)]: Done 68480 tasks      | elapsed:  1.4min\n",
      "[Parallel(n_jobs=30)]: Done 69670 tasks      | elapsed:  1.4min\n",
      "[Parallel(n_jobs=30)]: Done 70860 tasks      | elapsed:  1.5min\n",
      "[Parallel(n_jobs=30)]: Done 72070 tasks      | elapsed:  1.5min\n",
      "[Parallel(n_jobs=30)]: Done 73280 tasks      | elapsed:  1.5min\n",
      "[Parallel(n_jobs=30)]: Done 74510 tasks      | elapsed:  1.5min\n",
      "[Parallel(n_jobs=30)]: Done 75740 tasks      | elapsed:  1.6min\n",
      "[Parallel(n_jobs=30)]: Done 76990 tasks      | elapsed:  1.6min\n",
      "[Parallel(n_jobs=30)]: Done 78240 tasks      | elapsed:  1.6min\n",
      "[Parallel(n_jobs=30)]: Done 79510 tasks      | elapsed:  1.7min\n",
      "[Parallel(n_jobs=30)]: Done 80780 tasks      | elapsed:  1.7min\n",
      "[Parallel(n_jobs=30)]: Done 82070 tasks      | elapsed:  1.7min\n",
      "[Parallel(n_jobs=30)]: Done 83360 tasks      | elapsed:  1.7min\n",
      "[Parallel(n_jobs=30)]: Done 84670 tasks      | elapsed:  1.8min\n",
      "[Parallel(n_jobs=30)]: Done 85980 tasks      | elapsed:  1.8min\n",
      "[Parallel(n_jobs=30)]: Done 87310 tasks      | elapsed:  1.8min\n",
      "[Parallel(n_jobs=30)]: Done 88640 tasks      | elapsed:  1.8min\n",
      "[Parallel(n_jobs=30)]: Done 89990 tasks      | elapsed:  1.9min\n",
      "[Parallel(n_jobs=30)]: Done 91340 tasks      | elapsed:  1.9min\n"
     ]
    },
    {
     "name": "stderr",
     "output_type": "stream",
     "text": [
      "[Parallel(n_jobs=30)]: Done 92710 tasks      | elapsed:  1.9min\n",
      "[Parallel(n_jobs=30)]: Done 94080 tasks      | elapsed:  2.0min\n",
      "[Parallel(n_jobs=30)]: Done 95470 tasks      | elapsed:  2.0min\n",
      "[Parallel(n_jobs=30)]: Done 96860 tasks      | elapsed:  2.0min\n",
      "[Parallel(n_jobs=30)]: Done 98270 tasks      | elapsed:  2.0min\n",
      "[Parallel(n_jobs=30)]: Done 100000 out of 100000 | elapsed:  2.1min finished\n"
     ]
    },
    {
     "data": {
      "text/plain": [
       "[True,\n",
       " True,\n",
       " True,\n",
       " True,\n",
       " True,\n",
       " True,\n",
       " True,\n",
       " True,\n",
       " True,\n",
       " True,\n",
       " True,\n",
       " True,\n",
       " True,\n",
       " True,\n",
       " True,\n",
       " True,\n",
       " True,\n",
       " True,\n",
       " True,\n",
       " True,\n",
       " True,\n",
       " True,\n",
       " True,\n",
       " True,\n",
       " True,\n",
       " True,\n",
       " True,\n",
       " True,\n",
       " True,\n",
       " True,\n",
       " True,\n",
       " True,\n",
       " True,\n",
       " True,\n",
       " True,\n",
       " True,\n",
       " True,\n",
       " True,\n",
       " True,\n",
       " True,\n",
       " True,\n",
       " True,\n",
       " True,\n",
       " True,\n",
       " True,\n",
       " True,\n",
       " True,\n",
       " True,\n",
       " True,\n",
       " True,\n",
       " True,\n",
       " True,\n",
       " True,\n",
       " True,\n",
       " True,\n",
       " True,\n",
       " True,\n",
       " True,\n",
       " True,\n",
       " True,\n",
       " True,\n",
       " True,\n",
       " True,\n",
       " True,\n",
       " True,\n",
       " True,\n",
       " True,\n",
       " True,\n",
       " True,\n",
       " True,\n",
       " True,\n",
       " True,\n",
       " True,\n",
       " True,\n",
       " True,\n",
       " True,\n",
       " True,\n",
       " True,\n",
       " True,\n",
       " True,\n",
       " True,\n",
       " True,\n",
       " True,\n",
       " True,\n",
       " True,\n",
       " True,\n",
       " True,\n",
       " True,\n",
       " True,\n",
       " True,\n",
       " True,\n",
       " True,\n",
       " True,\n",
       " True,\n",
       " True,\n",
       " True,\n",
       " True,\n",
       " True,\n",
       " True,\n",
       " True,\n",
       " True,\n",
       " True,\n",
       " True,\n",
       " True,\n",
       " True,\n",
       " True,\n",
       " True,\n",
       " True,\n",
       " True,\n",
       " True,\n",
       " True,\n",
       " True,\n",
       " True,\n",
       " True,\n",
       " True,\n",
       " True,\n",
       " True,\n",
       " True,\n",
       " True,\n",
       " True,\n",
       " True,\n",
       " True,\n",
       " True,\n",
       " True,\n",
       " True,\n",
       " True,\n",
       " True,\n",
       " True,\n",
       " True,\n",
       " True,\n",
       " True,\n",
       " True,\n",
       " True,\n",
       " True,\n",
       " True,\n",
       " True,\n",
       " True,\n",
       " True,\n",
       " True,\n",
       " True,\n",
       " True,\n",
       " True,\n",
       " True,\n",
       " True,\n",
       " True,\n",
       " True,\n",
       " True,\n",
       " True,\n",
       " True,\n",
       " True,\n",
       " True,\n",
       " True,\n",
       " True,\n",
       " True,\n",
       " True,\n",
       " True,\n",
       " True,\n",
       " True,\n",
       " True,\n",
       " True,\n",
       " True,\n",
       " True,\n",
       " True,\n",
       " True,\n",
       " True,\n",
       " True,\n",
       " True,\n",
       " True,\n",
       " True,\n",
       " True,\n",
       " True,\n",
       " True,\n",
       " True,\n",
       " True,\n",
       " True,\n",
       " True,\n",
       " True,\n",
       " True,\n",
       " True,\n",
       " True,\n",
       " True,\n",
       " True,\n",
       " True,\n",
       " True,\n",
       " True,\n",
       " True,\n",
       " True,\n",
       " True,\n",
       " True,\n",
       " True,\n",
       " True,\n",
       " True,\n",
       " True,\n",
       " True,\n",
       " True,\n",
       " True,\n",
       " True,\n",
       " True,\n",
       " True,\n",
       " True,\n",
       " True,\n",
       " True,\n",
       " True,\n",
       " True,\n",
       " True,\n",
       " True,\n",
       " True,\n",
       " True,\n",
       " True,\n",
       " True,\n",
       " True,\n",
       " True,\n",
       " True,\n",
       " True,\n",
       " True,\n",
       " True,\n",
       " True,\n",
       " True,\n",
       " True,\n",
       " True,\n",
       " True,\n",
       " True,\n",
       " True,\n",
       " True,\n",
       " True,\n",
       " True,\n",
       " True,\n",
       " True,\n",
       " True,\n",
       " True,\n",
       " True,\n",
       " True,\n",
       " True,\n",
       " True,\n",
       " True,\n",
       " True,\n",
       " True,\n",
       " True,\n",
       " True,\n",
       " True,\n",
       " True,\n",
       " True,\n",
       " True,\n",
       " True,\n",
       " True,\n",
       " True,\n",
       " True,\n",
       " True,\n",
       " True,\n",
       " True,\n",
       " True,\n",
       " True,\n",
       " True,\n",
       " True,\n",
       " True,\n",
       " True,\n",
       " True,\n",
       " True,\n",
       " True,\n",
       " True,\n",
       " True,\n",
       " True,\n",
       " True,\n",
       " True,\n",
       " True,\n",
       " True,\n",
       " True,\n",
       " True,\n",
       " True,\n",
       " True,\n",
       " True,\n",
       " True,\n",
       " True,\n",
       " True,\n",
       " True,\n",
       " True,\n",
       " True,\n",
       " True,\n",
       " True,\n",
       " True,\n",
       " True,\n",
       " True,\n",
       " True,\n",
       " True,\n",
       " True,\n",
       " True,\n",
       " True,\n",
       " True,\n",
       " True,\n",
       " True,\n",
       " True,\n",
       " True,\n",
       " True,\n",
       " True,\n",
       " True,\n",
       " True,\n",
       " True,\n",
       " True,\n",
       " True,\n",
       " True,\n",
       " True,\n",
       " True,\n",
       " True,\n",
       " True,\n",
       " True,\n",
       " True,\n",
       " True,\n",
       " True,\n",
       " True,\n",
       " True,\n",
       " True,\n",
       " True,\n",
       " True,\n",
       " True,\n",
       " True,\n",
       " True,\n",
       " True,\n",
       " True,\n",
       " True,\n",
       " True,\n",
       " True,\n",
       " True,\n",
       " True,\n",
       " True,\n",
       " True,\n",
       " True,\n",
       " True,\n",
       " True,\n",
       " True,\n",
       " True,\n",
       " True,\n",
       " True,\n",
       " True,\n",
       " True,\n",
       " True,\n",
       " True,\n",
       " True,\n",
       " True,\n",
       " True,\n",
       " True,\n",
       " True,\n",
       " True,\n",
       " True,\n",
       " True,\n",
       " True,\n",
       " True,\n",
       " True,\n",
       " True,\n",
       " True,\n",
       " True,\n",
       " True,\n",
       " True,\n",
       " True,\n",
       " True,\n",
       " True,\n",
       " True,\n",
       " True,\n",
       " True,\n",
       " True,\n",
       " True,\n",
       " True,\n",
       " True,\n",
       " True,\n",
       " True,\n",
       " True,\n",
       " True,\n",
       " True,\n",
       " True,\n",
       " True,\n",
       " True,\n",
       " True,\n",
       " True,\n",
       " True,\n",
       " True,\n",
       " True,\n",
       " True,\n",
       " True,\n",
       " True,\n",
       " True,\n",
       " True,\n",
       " True,\n",
       " True,\n",
       " True,\n",
       " True,\n",
       " True,\n",
       " True,\n",
       " True,\n",
       " True,\n",
       " True,\n",
       " True,\n",
       " True,\n",
       " True,\n",
       " True,\n",
       " True,\n",
       " True,\n",
       " True,\n",
       " True,\n",
       " True,\n",
       " True,\n",
       " True,\n",
       " True,\n",
       " True,\n",
       " True,\n",
       " True,\n",
       " True,\n",
       " True,\n",
       " True,\n",
       " True,\n",
       " True,\n",
       " True,\n",
       " True,\n",
       " True,\n",
       " True,\n",
       " True,\n",
       " True,\n",
       " True,\n",
       " True,\n",
       " True,\n",
       " True,\n",
       " True,\n",
       " True,\n",
       " True,\n",
       " True,\n",
       " True,\n",
       " True,\n",
       " True,\n",
       " True,\n",
       " True,\n",
       " True,\n",
       " True,\n",
       " True,\n",
       " True,\n",
       " True,\n",
       " True,\n",
       " True,\n",
       " True,\n",
       " True,\n",
       " True,\n",
       " True,\n",
       " True,\n",
       " True,\n",
       " True,\n",
       " True,\n",
       " True,\n",
       " True,\n",
       " True,\n",
       " True,\n",
       " True,\n",
       " True,\n",
       " True,\n",
       " True,\n",
       " True,\n",
       " True,\n",
       " True,\n",
       " True,\n",
       " True,\n",
       " True,\n",
       " True,\n",
       " True,\n",
       " True,\n",
       " True,\n",
       " True,\n",
       " True,\n",
       " True,\n",
       " True,\n",
       " True,\n",
       " True,\n",
       " True,\n",
       " True,\n",
       " True,\n",
       " True,\n",
       " True,\n",
       " True,\n",
       " True,\n",
       " True,\n",
       " True,\n",
       " True,\n",
       " True,\n",
       " True,\n",
       " True,\n",
       " True,\n",
       " True,\n",
       " True,\n",
       " True,\n",
       " True,\n",
       " True,\n",
       " True,\n",
       " True,\n",
       " True,\n",
       " True,\n",
       " True,\n",
       " True,\n",
       " True,\n",
       " True,\n",
       " True,\n",
       " True,\n",
       " True,\n",
       " True,\n",
       " True,\n",
       " True,\n",
       " True,\n",
       " True,\n",
       " True,\n",
       " True,\n",
       " True,\n",
       " True,\n",
       " True,\n",
       " True,\n",
       " True,\n",
       " True,\n",
       " True,\n",
       " True,\n",
       " True,\n",
       " True,\n",
       " True,\n",
       " True,\n",
       " True,\n",
       " True,\n",
       " True,\n",
       " True,\n",
       " True,\n",
       " True,\n",
       " True,\n",
       " True,\n",
       " True,\n",
       " True,\n",
       " True,\n",
       " True,\n",
       " True,\n",
       " True,\n",
       " True,\n",
       " True,\n",
       " True,\n",
       " True,\n",
       " True,\n",
       " True,\n",
       " True,\n",
       " True,\n",
       " True,\n",
       " True,\n",
       " True,\n",
       " True,\n",
       " True,\n",
       " True,\n",
       " True,\n",
       " True,\n",
       " True,\n",
       " True,\n",
       " True,\n",
       " True,\n",
       " True,\n",
       " True,\n",
       " True,\n",
       " True,\n",
       " True,\n",
       " True,\n",
       " True,\n",
       " True,\n",
       " True,\n",
       " True,\n",
       " True,\n",
       " True,\n",
       " True,\n",
       " True,\n",
       " True,\n",
       " True,\n",
       " True,\n",
       " True,\n",
       " True,\n",
       " True,\n",
       " True,\n",
       " True,\n",
       " True,\n",
       " True,\n",
       " True,\n",
       " True,\n",
       " True,\n",
       " True,\n",
       " True,\n",
       " True,\n",
       " True,\n",
       " True,\n",
       " True,\n",
       " True,\n",
       " True,\n",
       " True,\n",
       " True,\n",
       " True,\n",
       " True,\n",
       " True,\n",
       " True,\n",
       " True,\n",
       " True,\n",
       " True,\n",
       " True,\n",
       " True,\n",
       " True,\n",
       " True,\n",
       " True,\n",
       " True,\n",
       " True,\n",
       " True,\n",
       " True,\n",
       " True,\n",
       " True,\n",
       " True,\n",
       " True,\n",
       " True,\n",
       " True,\n",
       " True,\n",
       " True,\n",
       " True,\n",
       " True,\n",
       " True,\n",
       " True,\n",
       " True,\n",
       " True,\n",
       " True,\n",
       " True,\n",
       " True,\n",
       " True,\n",
       " True,\n",
       " True,\n",
       " True,\n",
       " True,\n",
       " True,\n",
       " True,\n",
       " True,\n",
       " True,\n",
       " True,\n",
       " True,\n",
       " True,\n",
       " True,\n",
       " True,\n",
       " True,\n",
       " True,\n",
       " True,\n",
       " True,\n",
       " True,\n",
       " True,\n",
       " True,\n",
       " True,\n",
       " True,\n",
       " True,\n",
       " True,\n",
       " True,\n",
       " True,\n",
       " True,\n",
       " True,\n",
       " True,\n",
       " True,\n",
       " True,\n",
       " True,\n",
       " True,\n",
       " True,\n",
       " True,\n",
       " True,\n",
       " True,\n",
       " True,\n",
       " True,\n",
       " True,\n",
       " True,\n",
       " True,\n",
       " True,\n",
       " True,\n",
       " True,\n",
       " True,\n",
       " True,\n",
       " True,\n",
       " True,\n",
       " True,\n",
       " True,\n",
       " True,\n",
       " True,\n",
       " True,\n",
       " True,\n",
       " True,\n",
       " True,\n",
       " True,\n",
       " True,\n",
       " True,\n",
       " True,\n",
       " True,\n",
       " True,\n",
       " True,\n",
       " True,\n",
       " True,\n",
       " True,\n",
       " True,\n",
       " True,\n",
       " True,\n",
       " True,\n",
       " True,\n",
       " True,\n",
       " True,\n",
       " True,\n",
       " True,\n",
       " True,\n",
       " True,\n",
       " True,\n",
       " True,\n",
       " True,\n",
       " True,\n",
       " True,\n",
       " True,\n",
       " True,\n",
       " True,\n",
       " True,\n",
       " True,\n",
       " True,\n",
       " True,\n",
       " True,\n",
       " True,\n",
       " True,\n",
       " True,\n",
       " True,\n",
       " True,\n",
       " True,\n",
       " True,\n",
       " True,\n",
       " True,\n",
       " True,\n",
       " True,\n",
       " True,\n",
       " True,\n",
       " True,\n",
       " True,\n",
       " True,\n",
       " True,\n",
       " True,\n",
       " True,\n",
       " True,\n",
       " True,\n",
       " True,\n",
       " True,\n",
       " True,\n",
       " True,\n",
       " True,\n",
       " True,\n",
       " True,\n",
       " True,\n",
       " True,\n",
       " True,\n",
       " True,\n",
       " True,\n",
       " True,\n",
       " True,\n",
       " True,\n",
       " True,\n",
       " True,\n",
       " True,\n",
       " True,\n",
       " True,\n",
       " True,\n",
       " True,\n",
       " True,\n",
       " True,\n",
       " True,\n",
       " True,\n",
       " True,\n",
       " True,\n",
       " True,\n",
       " True,\n",
       " True,\n",
       " True,\n",
       " True,\n",
       " True,\n",
       " True,\n",
       " True,\n",
       " True,\n",
       " True,\n",
       " True,\n",
       " True,\n",
       " True,\n",
       " True,\n",
       " True,\n",
       " True,\n",
       " True,\n",
       " True,\n",
       " True,\n",
       " True,\n",
       " True,\n",
       " True,\n",
       " True,\n",
       " True,\n",
       " True,\n",
       " True,\n",
       " True,\n",
       " True,\n",
       " True,\n",
       " True,\n",
       " True,\n",
       " True,\n",
       " True,\n",
       " True,\n",
       " True,\n",
       " True,\n",
       " True,\n",
       " True,\n",
       " True,\n",
       " True,\n",
       " True,\n",
       " True,\n",
       " True,\n",
       " True,\n",
       " True,\n",
       " True,\n",
       " True,\n",
       " True,\n",
       " True,\n",
       " True,\n",
       " True,\n",
       " True,\n",
       " True,\n",
       " True,\n",
       " True,\n",
       " True,\n",
       " True,\n",
       " True,\n",
       " True,\n",
       " True,\n",
       " True,\n",
       " True,\n",
       " True,\n",
       " True,\n",
       " True,\n",
       " True,\n",
       " True,\n",
       " True,\n",
       " True,\n",
       " True,\n",
       " True,\n",
       " True,\n",
       " True,\n",
       " True,\n",
       " True,\n",
       " True,\n",
       " True,\n",
       " True,\n",
       " True,\n",
       " True,\n",
       " True,\n",
       " True,\n",
       " True,\n",
       " True,\n",
       " True,\n",
       " True,\n",
       " True,\n",
       " True,\n",
       " True,\n",
       " True,\n",
       " True,\n",
       " True,\n",
       " True,\n",
       " True,\n",
       " True,\n",
       " True,\n",
       " True,\n",
       " True,\n",
       " True,\n",
       " True,\n",
       " True,\n",
       " True,\n",
       " True,\n",
       " True,\n",
       " True,\n",
       " True,\n",
       " True,\n",
       " True,\n",
       " True,\n",
       " True,\n",
       " True,\n",
       " True,\n",
       " True,\n",
       " True,\n",
       " True,\n",
       " True,\n",
       " True,\n",
       " True,\n",
       " True,\n",
       " True,\n",
       " True,\n",
       " True,\n",
       " True,\n",
       " True,\n",
       " True,\n",
       " True,\n",
       " True,\n",
       " True,\n",
       " True,\n",
       " True,\n",
       " True,\n",
       " True,\n",
       " True,\n",
       " True,\n",
       " True,\n",
       " True,\n",
       " True,\n",
       " True,\n",
       " True,\n",
       " True,\n",
       " True,\n",
       " True,\n",
       " True,\n",
       " True,\n",
       " True,\n",
       " True,\n",
       " True,\n",
       " True,\n",
       " True,\n",
       " True,\n",
       " True,\n",
       " True,\n",
       " True,\n",
       " True,\n",
       " True,\n",
       " True,\n",
       " True,\n",
       " True,\n",
       " True,\n",
       " True,\n",
       " True,\n",
       " True,\n",
       " True,\n",
       " True,\n",
       " True,\n",
       " True,\n",
       " True,\n",
       " True,\n",
       " True,\n",
       " True,\n",
       " True,\n",
       " True,\n",
       " True,\n",
       " True,\n",
       " True,\n",
       " True,\n",
       " True,\n",
       " True,\n",
       " True,\n",
       " True,\n",
       " True,\n",
       " True,\n",
       " True,\n",
       " True,\n",
       " True,\n",
       " True,\n",
       " True,\n",
       " True,\n",
       " True,\n",
       " True,\n",
       " True,\n",
       " True,\n",
       " True,\n",
       " True,\n",
       " True,\n",
       " True,\n",
       " True,\n",
       " True,\n",
       " True,\n",
       " True,\n",
       " True,\n",
       " True,\n",
       " True,\n",
       " True,\n",
       " True,\n",
       " True,\n",
       " True,\n",
       " True,\n",
       " True,\n",
       " True,\n",
       " True,\n",
       " True,\n",
       " True,\n",
       " True,\n",
       " True,\n",
       " True,\n",
       " True,\n",
       " True,\n",
       " True,\n",
       " True,\n",
       " True,\n",
       " True,\n",
       " True,\n",
       " True,\n",
       " True,\n",
       " True,\n",
       " True,\n",
       " True,\n",
       " True,\n",
       " True,\n",
       " True,\n",
       " True,\n",
       " True,\n",
       " True,\n",
       " True,\n",
       " True,\n",
       " True,\n",
       " True,\n",
       " True,\n",
       " ...]"
      ]
     },
     "execution_count": 96,
     "metadata": {},
     "output_type": "execute_result"
    }
   ],
   "source": [
    "par(delayed(extension_test)(v) for v in random_vectors)\n",
    "\n",
    "# for p in tqdm(random_vectors):\n",
    "#     assert np.array_equal(extension(p), extension_alt(p)), 'Disagreement on {0}: {1} vs. {2}'.format(p, extension(p), extension_alt(p))"
   ]
  },
  {
   "cell_type": "code",
   "execution_count": 97,
   "metadata": {
    "ExecuteTime": {
     "end_time": "2019-05-09T05:33:09.057476Z",
     "start_time": "2019-05-09T03:09:28.667547Z"
    }
   },
   "outputs": [
    {
     "name": "stdout",
     "output_type": "stream",
     "text": [
      "17min 58s ± 2.64 s per loop (mean ± std. dev. of 7 runs, 1 loop each)\n"
     ]
    }
   ],
   "source": [
    "%%timeit\n",
    "\n",
    "list(map(extension, random_vectors))"
   ]
  },
  {
   "cell_type": "code",
   "execution_count": 98,
   "metadata": {
    "ExecuteTime": {
     "end_time": "2019-05-09T07:42:03.036621Z",
     "start_time": "2019-05-09T05:33:09.058714Z"
    }
   },
   "outputs": [
    {
     "name": "stdout",
     "output_type": "stream",
     "text": [
      "16min 6s ± 3.22 s per loop (mean ± std. dev. of 7 runs, 1 loop each)\n"
     ]
    }
   ],
   "source": [
    "%%timeit\n",
    "\n",
    "list(map(extension_alt, random_vectors))"
   ]
  },
  {
   "cell_type": "code",
   "execution_count": 99,
   "metadata": {
    "ExecuteTime": {
     "end_time": "2019-05-09T07:42:03.040593Z",
     "start_time": "2019-05-09T07:42:03.038715Z"
    },
    "scrolled": true
   },
   "outputs": [],
   "source": [
    "# agree_mat(p, objectMap)"
   ]
  },
  {
   "cell_type": "markdown",
   "metadata": {},
   "source": [
    "## Specification array + value array"
   ]
  },
  {
   "cell_type": "markdown",
   "metadata": {},
   "source": [
    "This representation of a partial feature vector $p$ uses two bit sequences, $s$ and $v$\n",
    " - $s_i = 0$ iff $p_i = 0$ and is otherwise $1$\n",
    " - $v_i = 0$ if $p_i = -1$\n",
    " - $v_i = 1$ if $p_i = 1$\n",
    "\n",
    "Note that the value of $v_i$ is unspecified if $p_i = 0$."
   ]
  },
  {
   "cell_type": "markdown",
   "metadata": {},
   "source": [
    "### Converting between representations"
   ]
  },
  {
   "cell_type": "code",
   "execution_count": 100,
   "metadata": {
    "ExecuteTime": {
     "end_time": "2019-05-09T07:42:03.391005Z",
     "start_time": "2019-05-09T07:42:03.041908Z"
    }
   },
   "outputs": [],
   "source": [
    "spec_cb = {-1:bitarray('1'),\n",
    "            0:bitarray('0'),\n",
    "            1:bitarray('1')}\n",
    "val_cb = {-1:bitarray('0'),\n",
    "           0:bitarray('0'),\n",
    "           1:bitarray('1')}"
   ]
  },
  {
   "cell_type": "code",
   "execution_count": 101,
   "metadata": {
    "ExecuteTime": {
     "end_time": "2019-05-09T07:42:03.399276Z",
     "start_time": "2019-05-09T07:42:03.392724Z"
    }
   },
   "outputs": [],
   "source": [
    "def pfv_to_sv(pfv):\n",
    "    s = bitarray()\n",
    "    s.encode(spec_cb, list(pfv))\n",
    "    v = bitarray()\n",
    "    v.encode(val_cb, list(pfv))\n",
    "    return s,v\n",
    "\n",
    "def sv_to_pfv(s,v):\n",
    "#     print('s,v = {0}, {1}'.format(s.to01(), v.to01()))\n",
    "    specified = np.array(s.tolist(), dtype=myint)\n",
    "    values = np.array(v.tolist(), dtype=myint)\n",
    "#     print('\\ts,v = {0}, {1}'.format(specified, values))\n",
    "    for i in range(m):\n",
    "        if specified[i] != 0:\n",
    "            specified[i] = 1 if values[i] else -1\n",
    "#     print('\\ts = {0}'.format(specified))\n",
    "    return specified"
   ]
  },
  {
   "cell_type": "code",
   "execution_count": 102,
   "metadata": {
    "ExecuteTime": {
     "end_time": "2019-05-09T07:42:03.840758Z",
     "start_time": "2019-05-09T07:42:03.400143Z"
    }
   },
   "outputs": [
    {
     "name": "stderr",
     "output_type": "stream",
     "text": [
      "\n",
      "\n",
      "  0%|          | 0/100000 [00:00<?, ?it/s]\u001b[A\u001b[A\n",
      "\n",
      " 23%|██▎       | 22745/100000 [00:00<00:00, 227444.79it/s]\u001b[A\u001b[A\n",
      "\n",
      " 46%|████▌     | 45741/100000 [00:00<00:00, 228193.14it/s]\u001b[A\u001b[A\n",
      "\n",
      " 69%|██████▉   | 69040/100000 [00:00<00:00, 229609.29it/s]\u001b[A\u001b[A\n",
      "\n",
      " 92%|█████████▏| 92338/100000 [00:00<00:00, 230608.65it/s]\u001b[A\u001b[A\n",
      "\n",
      "100%|██████████| 100000/100000 [00:00<00:00, 230439.80it/s]\u001b[A\u001b[A"
     ]
    },
    {
     "data": {
      "text/plain": [
       "100000"
      ]
     },
     "execution_count": 102,
     "metadata": {},
     "output_type": "execute_result"
    }
   ],
   "source": [
    "num_test_pairs = int(1e5)\n",
    "random_vectors = [make_random_pfv() for each in tqdm(range(num_test_pairs))]\n",
    "len(random_vectors)"
   ]
  },
  {
   "cell_type": "code",
   "execution_count": 103,
   "metadata": {
    "ExecuteTime": {
     "end_time": "2019-05-09T19:59:19.435264Z",
     "start_time": "2019-05-09T19:59:13.835782Z"
    }
   },
   "outputs": [
    {
     "name": "stderr",
     "output_type": "stream",
     "text": [
      "\n",
      "\n",
      "  0%|          | 0/100000 [00:00<?, ?it/s]\u001b[A\u001b[A\n",
      "\n",
      "  2%|▏         | 1872/100000 [00:00<00:05, 18714.26it/s]\u001b[A\u001b[A\n",
      "\n",
      "  3%|▎         | 3369/100000 [00:00<00:05, 17407.37it/s]\u001b[A\u001b[A\n",
      "\n",
      "  5%|▍         | 4949/100000 [00:00<00:05, 16889.57it/s]\u001b[A\u001b[A\n",
      "\n",
      "  7%|▋         | 6653/100000 [00:00<00:05, 16931.94it/s]\u001b[A\u001b[A\n",
      "\n",
      "  8%|▊         | 8478/100000 [00:00<00:05, 17304.41it/s]\u001b[A\u001b[A\n",
      "\n",
      " 10%|█         | 10338/100000 [00:00<00:05, 17671.55it/s]\u001b[A\u001b[A\n",
      "\n",
      " 12%|█▏        | 12153/100000 [00:00<00:04, 17810.07it/s]\u001b[A\u001b[A\n",
      "\n",
      " 14%|█▍        | 13978/100000 [00:00<00:04, 17937.73it/s]\u001b[A\u001b[A\n",
      "\n",
      " 16%|█▌        | 15837/100000 [00:00<00:04, 18126.90it/s]\u001b[A\u001b[A\n",
      "\n",
      " 18%|█▊        | 17679/100000 [00:01<00:04, 18211.50it/s]\u001b[A\u001b[A\n",
      "\n",
      " 20%|█▉        | 19511/100000 [00:01<00:04, 18241.11it/s]\u001b[A\u001b[A\n",
      "\n",
      " 21%|██▏       | 21347/100000 [00:01<00:04, 18274.99it/s]\u001b[A\u001b[A\n",
      "\n",
      " 23%|██▎       | 23165/100000 [00:01<00:04, 18245.15it/s]\u001b[A\u001b[A\n",
      "\n",
      " 25%|██▌       | 25009/100000 [00:01<00:04, 18302.58it/s]\u001b[A\u001b[A\n",
      "\n",
      " 27%|██▋       | 26835/100000 [00:01<00:04, 18289.73it/s]\u001b[A\u001b[A\n",
      "\n",
      " 29%|██▊       | 28659/100000 [00:01<00:03, 18273.20it/s]\u001b[A\u001b[A\n",
      "\n",
      " 30%|███       | 30481/100000 [00:01<00:03, 18239.70it/s]\u001b[A\u001b[A\n",
      "\n",
      " 32%|███▏      | 32313/100000 [00:01<00:03, 18262.79it/s]\u001b[A\u001b[A\n",
      "\n",
      " 34%|███▍      | 34150/100000 [00:01<00:03, 18294.29it/s]\u001b[A\u001b[A\n",
      "\n",
      " 36%|███▌      | 35978/100000 [00:02<00:03, 17357.51it/s]\u001b[A\u001b[A\n",
      "\n",
      " 38%|███▊      | 37723/100000 [00:02<00:03, 16854.45it/s]\u001b[A\u001b[A\n",
      "\n",
      " 39%|███▉      | 39418/100000 [00:02<00:03, 16815.05it/s]\u001b[A\u001b[A\n",
      "\n",
      " 41%|████▏     | 41284/100000 [00:02<00:03, 17326.58it/s]\u001b[A\u001b[A\n",
      "\n",
      " 43%|████▎     | 43128/100000 [00:02<00:03, 17644.14it/s]\u001b[A\u001b[A\n",
      "\n",
      " 45%|████▍     | 44952/100000 [00:02<00:03, 17818.63it/s]\u001b[A\u001b[A\n",
      "\n",
      " 47%|████▋     | 46800/100000 [00:02<00:02, 18009.37it/s]\u001b[A\u001b[A\n",
      "\n",
      " 49%|████▊     | 48625/100000 [00:02<00:02, 18078.70it/s]\u001b[A\u001b[A\n",
      "\n",
      " 50%|█████     | 50474/100000 [00:02<00:02, 18198.31it/s]\u001b[A\u001b[A\n",
      "\n",
      " 52%|█████▏    | 52331/100000 [00:02<00:02, 18308.13it/s]\u001b[A\u001b[A\n",
      "\n",
      " 54%|█████▍    | 54164/100000 [00:03<00:02, 18274.96it/s]\u001b[A\u001b[A\n",
      "\n",
      " 56%|█████▌    | 55993/100000 [00:03<00:02, 18097.07it/s]\u001b[A\u001b[A\n",
      "\n",
      " 58%|█████▊    | 57805/100000 [00:03<00:02, 17887.26it/s]\u001b[A\u001b[A\n",
      "\n",
      " 60%|█████▉    | 59596/100000 [00:03<00:02, 17761.59it/s]\u001b[A\u001b[A\n",
      "\n",
      " 61%|██████▏   | 61374/100000 [00:03<00:02, 17627.51it/s]\u001b[A\u001b[A\n",
      "\n",
      " 63%|██████▎   | 63197/100000 [00:03<00:02, 17801.88it/s]\u001b[A\u001b[A\n",
      "\n",
      " 65%|██████▌   | 65030/100000 [00:03<00:01, 17956.16it/s]\u001b[A\u001b[A\n",
      "\n",
      " 67%|██████▋   | 66848/100000 [00:03<00:01, 18021.48it/s]\u001b[A\u001b[A\n",
      "\n",
      " 69%|██████▊   | 68685/100000 [00:03<00:01, 18123.47it/s]\u001b[A\u001b[A\n",
      "\n",
      " 71%|███████   | 70520/100000 [00:03<00:01, 18189.19it/s]\u001b[A\u001b[A\n",
      "\n",
      " 72%|███████▏  | 72357/100000 [00:04<00:01, 18241.20it/s]\u001b[A\u001b[A\n",
      "\n",
      " 74%|███████▍  | 74200/100000 [00:04<00:01, 18294.84it/s]\u001b[A\u001b[A\n",
      "\n",
      " 76%|███████▌  | 76042/100000 [00:04<00:01, 18331.09it/s]\u001b[A\u001b[A\n",
      "\n",
      " 78%|███████▊  | 77883/100000 [00:04<00:01, 18353.18it/s]\u001b[A\u001b[A\n",
      "\n",
      " 80%|███████▉  | 79720/100000 [00:04<00:01, 18357.65it/s]\u001b[A\u001b[A\n",
      "\n",
      " 82%|████████▏ | 81564/100000 [00:04<00:01, 18381.31it/s]\u001b[A\u001b[A\n",
      "\n",
      " 83%|████████▎ | 83403/100000 [00:04<00:00, 18061.28it/s]\u001b[A\u001b[A\n",
      "\n",
      " 85%|████████▌ | 85211/100000 [00:04<00:00, 17555.54it/s]\u001b[A\u001b[A\n",
      "\n",
      " 87%|████████▋ | 86971/100000 [00:04<00:00, 17008.79it/s]\u001b[A\u001b[A\n",
      "\n",
      " 89%|████████▊ | 88702/100000 [00:04<00:00, 17096.09it/s]\u001b[A\u001b[A\n",
      "\n",
      " 91%|█████████ | 90544/100000 [00:05<00:00, 17472.29it/s]\u001b[A\u001b[A\n",
      "\n",
      " 92%|█████████▏| 92382/100000 [00:05<00:00, 17734.82it/s]\u001b[A\u001b[A\n",
      "\n",
      " 94%|█████████▍| 94230/100000 [00:05<00:00, 17951.42it/s]\u001b[A\u001b[A\n",
      "\n",
      " 96%|█████████▌| 96030/100000 [00:05<00:00, 17825.38it/s]\u001b[A\u001b[A\n",
      "\n",
      " 98%|█████████▊| 97820/100000 [00:05<00:00, 17845.68it/s]\u001b[A\u001b[A\n",
      "\n",
      "100%|█████████▉| 99671/100000 [00:05<00:00, 18038.39it/s]\u001b[A\u001b[A\n",
      "\n",
      "100%|██████████| 100000/100000 [00:05<00:00, 17878.76it/s]\u001b[A\u001b[A"
     ]
    }
   ],
   "source": [
    "for p in tqdm(random_vectors):\n",
    "    s,v = pfv_to_sv(p)\n",
    "    p_prime = sv_to_pfv(s,v)\n",
    "    assert np.array_equal(p, p_prime), 'Conversion failure on {0}'.format(pair)"
   ]
  },
  {
   "cell_type": "markdown",
   "metadata": {},
   "source": [
    "### Operations"
   ]
  },
  {
   "cell_type": "markdown",
   "metadata": {},
   "source": [
    "If $p,q$ are two partial feature vectors and $(s^p, v^p), (s^q, v^q)$ are their associated specification and value bitvectors, then:"
   ]
  },
  {
   "cell_type": "markdown",
   "metadata": {},
   "source": [
    "We can define an element-wise agree operation by pattern matching:\n",
    "```\n",
    "agree((s^p_i,v^p_i), (s^q_i,v^q_i)):\n",
    "    (s_w, s_x) = (s_w, s_x) ⟶ 1\n",
    "    (0,0)      = (_, _)     ⟶ 1\n",
    "    (_, _)     = (0,0)      ⟶ 1\n",
    "    _          = _          ⟶ 0\n",
    "```\n",
    "Or perhaps more clearly by Boolean formula:\n",
    " - $\\text{agree}(s^p_i,v^p_i,s^q_i,v^q_i) = (\\neg s^p_i \\lor \\neg s^q_i) \\lor ((s^p_i \\land s^q_i) \\land (v^p_i \\iff v^q_i)) $"
   ]
  },
  {
   "cell_type": "markdown",
   "metadata": {},
   "source": [
    "We can define an element-wise union operation (assuming agreement holds) by pattern matching:\n",
    "```\n",
    "Assuming agree(p,q) holds:\n",
    "\n",
    "cup((s^p_i,v^p_i), (s^q_i,v^q_i)):\n",
    "    (s_w, s_x) ∪ (s_w, s_x) = (s_w, s_x)\n",
    "    (0,0)      ∪ (s_y, s_z) = (s_y, s_z)\n",
    "    (s_w, s_x) ∪ (0,0)      = (s_w, s_x)\n",
    "    _          ∪ _          = (0,0)\n",
    "```\n",
    "Or again, more clearly by Boolean formula:\n",
    " - $\\text{cup}(s^p_i,v^p_i,s^q_i,v^q_i) = (s^p_i \\lor s^q_i, v^p_i \\lor v^q_i)$\n",
    "\n",
    "I.e. we can take the `bitwise or` of respective specification vectors and value vectors to get the specification and value vector of the union of two partial feature vectors."
   ]
  },
  {
   "cell_type": "markdown",
   "metadata": {},
   "source": [
    "We can define an element-wise intersection operation by pattern matching:\n",
    "```\n",
    "cap((s^p_i,v^p_i), (s^q_i,v^q_i)):\n",
    "    (s_w, s_x) ∩ (s_w, s_x) = (s_w, s_x)\n",
    "    (0,0)      ∩ (_, _)     = (0,0)\n",
    "    (_, _)     ∩ (0,0)      = (0,0)\n",
    "    _          ∩ _          = (0,0)\n",
    "```\n",
    "...or by Boolean formula\n",
    " - $\\text{cap}(s^p_i,v^p_i,s^q_i,v^q_i) = ((s^p_i \\land s^q_i) \\land (v^p_i \\iff v^q_i), v^p_i \\land v^q_i)$"
   ]
  },
  {
   "cell_type": "code",
   "execution_count": 104,
   "metadata": {
    "ExecuteTime": {
     "end_time": "2019-05-09T19:59:28.064020Z",
     "start_time": "2019-05-09T19:59:28.059881Z"
    }
   },
   "outputs": [],
   "source": [
    "def xor(p,q):\n",
    "    return (p & ~q) | (~p & q)\n",
    "\n",
    "def ifthen(p,q):\n",
    "    return ~p | q\n",
    "\n",
    "def iff(p,q):\n",
    "    return ifthen(p,q) & ifthen(q,p)\n",
    "\n",
    "assert xor(bitarray('0011'), bitarray('0101')) == bitarray('0110')\n",
    "assert ifthen(bitarray('0011'), bitarray('0101')) == bitarray('1101')\n",
    "assert iff(bitarray('0011'), bitarray('0101')) == bitarray('1001')"
   ]
  },
  {
   "cell_type": "code",
   "execution_count": 105,
   "metadata": {
    "ExecuteTime": {
     "end_time": "2019-05-09T19:59:29.321013Z",
     "start_time": "2019-05-09T19:59:29.316283Z"
    }
   },
   "outputs": [],
   "source": [
    "def agree_ba(s_p, v_p, s_q, v_q):\n",
    "    return (~s_p | ~s_q) | ((s_p & s_q) & iff(v_p, v_q))\n",
    "\n",
    "def agree_ba_(s_p, v_p, s_q, v_q):\n",
    "    return agree_ba(s_p, v_p, s_q, v_q).all()\n",
    "\n",
    "def union_ba(s_p, v_p, s_q, v_q):\n",
    "    return s_p | s_q, v_p | v_q\n",
    "\n",
    "def intersection_ba(s_p, v_p, s_q, v_q):\n",
    "    return (s_p & s_q) & iff(v_p, v_q), v_p & v_q"
   ]
  },
  {
   "cell_type": "markdown",
   "metadata": {},
   "source": [
    "Below we test that they have the same behavior as the baseline representation and operations:"
   ]
  },
  {
   "cell_type": "code",
   "execution_count": 107,
   "metadata": {
    "ExecuteTime": {
     "end_time": "2019-05-09T19:59:59.069627Z",
     "start_time": "2019-05-09T19:59:46.725006Z"
    }
   },
   "outputs": [
    {
     "name": "stderr",
     "output_type": "stream",
     "text": [
      "\n",
      "\n",
      "  0%|          | 0/100000 [00:00<?, ?it/s]\u001b[A\u001b[A\n",
      "\n",
      "  1%|          | 825/100000 [00:00<00:12, 8249.22it/s]\u001b[A\u001b[A\n",
      "\n",
      "  2%|▏         | 1645/100000 [00:00<00:11, 8233.19it/s]\u001b[A\u001b[A\n",
      "\n",
      "  2%|▏         | 2471/100000 [00:00<00:11, 8238.89it/s]\u001b[A\u001b[A\n",
      "\n",
      "  3%|▎         | 3300/100000 [00:00<00:11, 8251.90it/s]\u001b[A\u001b[A\n",
      "\n",
      "  4%|▍         | 4113/100000 [00:00<00:11, 8214.49it/s]\u001b[A\u001b[A\n",
      "\n",
      "  5%|▍         | 4934/100000 [00:00<00:11, 8212.47it/s]\u001b[A\u001b[A\n",
      "\n",
      "  6%|▌         | 5756/100000 [00:00<00:11, 8212.00it/s]\u001b[A\u001b[A\n",
      "\n",
      "  7%|▋         | 6574/100000 [00:00<00:11, 8201.22it/s]\u001b[A\u001b[A\n",
      "\n",
      "  7%|▋         | 7397/100000 [00:00<00:11, 8209.49it/s]\u001b[A\u001b[A\n",
      "\n",
      "  8%|▊         | 8211/100000 [00:01<00:11, 8187.23it/s]\u001b[A\u001b[A\n",
      "\n",
      "  9%|▉         | 9034/100000 [00:01<00:11, 8198.89it/s]\u001b[A\u001b[A\n",
      "\n",
      " 10%|▉         | 9855/100000 [00:01<00:10, 8199.70it/s]\u001b[A\u001b[A\n",
      "\n",
      " 11%|█         | 10664/100000 [00:01<00:11, 7641.49it/s]\u001b[A\u001b[A\n",
      "\n",
      " 11%|█▏        | 11429/100000 [00:01<00:11, 7643.09it/s]\u001b[A\u001b[A\n",
      "\n",
      " 12%|█▏        | 12250/100000 [00:01<00:11, 7802.84it/s]\u001b[A\u001b[A\n",
      "\n",
      " 13%|█▎        | 13075/100000 [00:01<00:10, 7929.74it/s]\u001b[A\u001b[A\n",
      "\n",
      " 14%|█▍        | 13900/100000 [00:01<00:10, 8022.41it/s]\u001b[A\u001b[A\n",
      "\n",
      " 15%|█▍        | 14723/100000 [00:01<00:10, 8081.12it/s]\u001b[A\u001b[A\n",
      "\n",
      " 16%|█▌        | 15547/100000 [00:01<00:10, 8125.36it/s]\u001b[A\u001b[A\n",
      "\n",
      " 16%|█▋        | 16371/100000 [00:02<00:10, 8158.79it/s]\u001b[A\u001b[A\n",
      "\n",
      " 17%|█▋        | 17202/100000 [00:02<00:10, 8201.99it/s]\u001b[A\u001b[A\n",
      "\n",
      " 18%|█▊        | 18023/100000 [00:02<00:10, 8096.25it/s]\u001b[A\u001b[A\n",
      "\n",
      " 19%|█▉        | 18854/100000 [00:02<00:09, 8157.43it/s]\u001b[A\u001b[A\n",
      "\n",
      " 20%|█▉        | 19684/100000 [00:02<00:09, 8196.84it/s]\u001b[A\u001b[A\n",
      "\n",
      " 21%|██        | 20508/100000 [00:02<00:09, 8209.40it/s]\u001b[A\u001b[A\n",
      "\n",
      " 21%|██▏       | 21337/100000 [00:02<00:09, 8231.58it/s]\u001b[A\u001b[A\n",
      "\n",
      " 22%|██▏       | 22166/100000 [00:02<00:09, 8248.24it/s]\u001b[A\u001b[A\n",
      "\n",
      " 23%|██▎       | 22996/100000 [00:02<00:09, 8263.28it/s]\u001b[A\u001b[A\n",
      "\n",
      " 24%|██▍       | 23823/100000 [00:02<00:09, 8255.58it/s]\u001b[A\u001b[A\n",
      "\n",
      " 25%|██▍       | 24649/100000 [00:03<00:09, 8252.77it/s]\u001b[A\u001b[A\n",
      "\n",
      " 25%|██▌       | 25479/100000 [00:03<00:09, 8264.85it/s]\u001b[A\u001b[A\n",
      "\n",
      " 26%|██▋       | 26309/100000 [00:03<00:08, 8273.54it/s]\u001b[A\u001b[A\n",
      "\n",
      " 27%|██▋       | 27137/100000 [00:03<00:08, 8148.71it/s]\u001b[A\u001b[A\n",
      "\n",
      " 28%|██▊       | 27953/100000 [00:03<00:08, 8072.53it/s]\u001b[A\u001b[A\n",
      "\n",
      " 29%|██▉       | 28774/100000 [00:03<00:08, 8112.47it/s]\u001b[A\u001b[A\n",
      "\n",
      " 30%|██▉       | 29607/100000 [00:03<00:08, 8175.84it/s]\u001b[A\u001b[A\n",
      "\n",
      " 30%|███       | 30434/100000 [00:03<00:08, 8203.23it/s]\u001b[A\u001b[A\n",
      "\n",
      " 31%|███▏      | 31270/100000 [00:03<00:08, 8246.84it/s]\u001b[A\u001b[A\n",
      "\n",
      " 32%|███▏      | 32095/100000 [00:03<00:08, 8222.36it/s]\u001b[A\u001b[A\n",
      "\n",
      " 33%|███▎      | 32918/100000 [00:04<00:08, 8054.54it/s]\u001b[A\u001b[A\n",
      "\n",
      " 34%|███▎      | 33725/100000 [00:04<00:08, 8016.82it/s]\u001b[A\u001b[A\n",
      "\n",
      " 35%|███▍      | 34547/100000 [00:04<00:08, 8074.57it/s]\u001b[A\u001b[A\n",
      "\n",
      " 35%|███▌      | 35379/100000 [00:04<00:07, 8145.83it/s]\u001b[A\u001b[A\n",
      "\n",
      " 36%|███▌      | 36198/100000 [00:04<00:07, 8156.52it/s]\u001b[A\u001b[A\n",
      "\n",
      " 37%|███▋      | 37025/100000 [00:04<00:07, 8189.40it/s]\u001b[A\u001b[A\n",
      "\n",
      " 38%|███▊      | 37855/100000 [00:04<00:07, 8221.36it/s]\u001b[A\u001b[A\n",
      "\n",
      " 39%|███▊      | 38678/100000 [00:04<00:07, 8205.75it/s]\u001b[A\u001b[A\n",
      "\n",
      " 40%|███▉      | 39509/100000 [00:04<00:07, 8234.14it/s]\u001b[A\u001b[A\n",
      "\n",
      " 40%|████      | 40333/100000 [00:04<00:07, 8115.47it/s]\u001b[A\u001b[A\n",
      "\n",
      " 41%|████      | 41154/100000 [00:05<00:07, 8141.21it/s]\u001b[A\u001b[A\n",
      "\n",
      " 42%|████▏     | 41969/100000 [00:05<00:07, 8023.95it/s]\u001b[A\u001b[A\n",
      "\n",
      " 43%|████▎     | 42794/100000 [00:05<00:07, 8089.76it/s]\u001b[A\u001b[A\n",
      "\n",
      " 44%|████▎     | 43624/100000 [00:05<00:06, 8149.93it/s]\u001b[A\u001b[A\n",
      "\n",
      " 44%|████▍     | 44440/100000 [00:05<00:06, 8005.04it/s]\u001b[A\u001b[A\n",
      "\n",
      " 45%|████▌     | 45262/100000 [00:05<00:06, 8064.19it/s]\u001b[A\u001b[A\n",
      "\n",
      " 46%|████▌     | 46085/100000 [00:05<00:06, 8111.92it/s]\u001b[A\u001b[A\n",
      "\n",
      " 47%|████▋     | 46910/100000 [00:05<00:06, 8150.32it/s]\u001b[A\u001b[A\n",
      "\n",
      " 48%|████▊     | 47726/100000 [00:05<00:06, 8133.18it/s]\u001b[A\u001b[A\n",
      "\n",
      " 49%|████▊     | 48540/100000 [00:05<00:06, 8078.56it/s]\u001b[A\u001b[A\n",
      "\n",
      " 49%|████▉     | 49349/100000 [00:06<00:06, 8061.35it/s]\u001b[A\u001b[A\n",
      "\n",
      " 50%|█████     | 50186/100000 [00:06<00:06, 8148.94it/s]\u001b[A\u001b[A\n",
      "\n",
      " 51%|█████     | 51002/100000 [00:06<00:06, 8039.20it/s]\u001b[A\u001b[A\n",
      "\n",
      " 52%|█████▏    | 51829/100000 [00:06<00:05, 8105.69it/s]\u001b[A\u001b[A\n",
      "\n",
      " 53%|█████▎    | 52656/100000 [00:06<00:05, 8152.01it/s]\u001b[A\u001b[A\n",
      "\n",
      " 53%|█████▎    | 53480/100000 [00:06<00:05, 8177.18it/s]\u001b[A\u001b[A\n",
      "\n",
      " 54%|█████▍    | 54306/100000 [00:06<00:05, 8201.55it/s]\u001b[A\u001b[A\n",
      "\n",
      " 55%|█████▌    | 55142/100000 [00:06<00:05, 8246.50it/s]\u001b[A\u001b[A\n",
      "\n",
      " 56%|█████▌    | 55969/100000 [00:06<00:05, 8253.00it/s]\u001b[A\u001b[A\n",
      "\n",
      " 57%|█████▋    | 56795/100000 [00:06<00:05, 8239.51it/s]\u001b[A\u001b[A\n",
      "\n",
      " 58%|█████▊    | 57623/100000 [00:07<00:05, 8249.05it/s]\u001b[A\u001b[A\n",
      "\n",
      " 58%|█████▊    | 58448/100000 [00:07<00:05, 8238.78it/s]\u001b[A\u001b[A\n",
      "\n",
      " 59%|█████▉    | 59275/100000 [00:07<00:04, 8246.98it/s]\u001b[A\u001b[A\n",
      "\n",
      " 60%|██████    | 60103/100000 [00:07<00:04, 8256.26it/s]\u001b[A\u001b[A\n",
      "\n",
      " 61%|██████    | 60929/100000 [00:07<00:04, 8248.51it/s]\u001b[A\u001b[A\n",
      "\n",
      " 62%|██████▏   | 61754/100000 [00:07<00:04, 8123.07it/s]\u001b[A\u001b[A\n",
      "\n",
      " 63%|██████▎   | 62567/100000 [00:07<00:04, 8054.66it/s]\u001b[A\u001b[A\n",
      "\n",
      " 63%|██████▎   | 63393/100000 [00:07<00:04, 8113.11it/s]\u001b[A\u001b[A\n",
      "\n",
      " 64%|██████▍   | 64209/100000 [00:07<00:04, 8124.91it/s]\u001b[A\u001b[A\n",
      "\n",
      " 65%|██████▌   | 65033/100000 [00:07<00:04, 8158.26it/s]\u001b[A\u001b[A\n",
      "\n",
      " 66%|██████▌   | 65850/100000 [00:08<00:04, 8160.60it/s]\u001b[A\u001b[A\n",
      "\n",
      " 67%|██████▋   | 66673/100000 [00:08<00:04, 8179.83it/s]\u001b[A\u001b[A\n",
      "\n",
      " 67%|██████▋   | 67499/100000 [00:08<00:03, 8201.93it/s]\u001b[A\u001b[A\n",
      "\n",
      " 68%|██████▊   | 68324/100000 [00:08<00:03, 8216.18it/s]\u001b[A\u001b[A\n",
      "\n",
      " 69%|██████▉   | 69146/100000 [00:08<00:03, 8202.47it/s]\u001b[A\u001b[A\n",
      "\n",
      " 70%|██████▉   | 69967/100000 [00:08<00:03, 7843.46it/s]\u001b[A\u001b[A\n",
      "\n",
      " 71%|███████   | 70770/100000 [00:08<00:03, 7895.72it/s]\u001b[A\u001b[A\n",
      "\n",
      " 72%|███████▏  | 71567/100000 [00:08<00:03, 7915.57it/s]\u001b[A\u001b[A\n",
      "\n",
      " 72%|███████▏  | 72379/100000 [00:08<00:03, 7975.13it/s]\u001b[A\u001b[A\n",
      "\n",
      " 73%|███████▎  | 73178/100000 [00:09<00:03, 7923.47it/s]\u001b[A\u001b[A\n",
      "\n",
      " 74%|███████▍  | 74005/100000 [00:09<00:03, 8022.70it/s]\u001b[A\u001b[A\n",
      "\n",
      " 75%|███████▍  | 74831/100000 [00:09<00:03, 8091.24it/s]\u001b[A\u001b[A\n",
      "\n",
      " 76%|███████▌  | 75658/100000 [00:09<00:02, 8143.19it/s]\u001b[A\u001b[A\n",
      "\n",
      " 76%|███████▋  | 76479/100000 [00:09<00:02, 8161.13it/s]\u001b[A\u001b[A\n",
      "\n",
      " 77%|███████▋  | 77313/100000 [00:09<00:02, 8212.20it/s]\u001b[A\u001b[A\n",
      "\n",
      " 78%|███████▊  | 78135/100000 [00:09<00:02, 8088.68it/s]\u001b[A\u001b[A\n",
      "\n",
      " 79%|███████▉  | 78945/100000 [00:09<00:02, 8025.78it/s]\u001b[A\u001b[A\n",
      "\n",
      " 80%|███████▉  | 79773/100000 [00:09<00:02, 8100.05it/s]\u001b[A\u001b[A\n",
      "\n",
      " 81%|████████  | 80597/100000 [00:09<00:02, 8139.04it/s]\u001b[A\u001b[A\n",
      "\n",
      " 81%|████████▏ | 81418/100000 [00:10<00:02, 8157.49it/s]\u001b[A\u001b[A\n",
      "\n",
      " 82%|████████▏ | 82254/100000 [00:10<00:02, 8215.47it/s]\u001b[A\u001b[A\n",
      "\n",
      " 83%|████████▎ | 83080/100000 [00:10<00:02, 8226.14it/s]\u001b[A\u001b[A\n",
      "\n",
      " 84%|████████▍ | 83903/100000 [00:10<00:01, 8091.33it/s]\u001b[A\u001b[A\n",
      "\n",
      " 85%|████████▍ | 84713/100000 [00:10<00:01, 7826.39it/s]\u001b[A\u001b[A\n",
      "\n",
      " 85%|████████▌ | 85498/100000 [00:10<00:01, 7579.26it/s]\u001b[A\u001b[A\n",
      "\n",
      " 86%|████████▋ | 86260/100000 [00:10<00:01, 7477.76it/s]\u001b[A\u001b[A\n",
      "\n",
      " 87%|████████▋ | 87084/100000 [00:10<00:01, 7689.71it/s]\u001b[A\u001b[A\n",
      "\n",
      " 88%|████████▊ | 87914/100000 [00:10<00:01, 7861.11it/s]\u001b[A\u001b[A\n",
      "\n",
      " 89%|████████▊ | 88704/100000 [00:10<00:01, 7742.23it/s]\u001b[A\u001b[A\n",
      "\n",
      " 90%|████████▉ | 89529/100000 [00:11<00:01, 7883.82it/s]\u001b[A\u001b[A\n",
      "\n",
      " 90%|█████████ | 90358/100000 [00:11<00:01, 8000.24it/s]\u001b[A\u001b[A\n",
      "\n",
      " 91%|█████████ | 91161/100000 [00:11<00:01, 7836.32it/s]\u001b[A\u001b[A\n",
      "\n",
      " 92%|█████████▏| 91990/100000 [00:11<00:01, 7964.23it/s]\u001b[A\u001b[A\n",
      "\n",
      " 93%|█████████▎| 92789/100000 [00:11<00:00, 7913.41it/s]\u001b[A\u001b[A\n",
      "\n",
      " 94%|█████████▎| 93614/100000 [00:11<00:00, 8010.23it/s]\u001b[A\u001b[A\n",
      "\n",
      " 94%|█████████▍| 94444/100000 [00:11<00:00, 8093.96it/s]\u001b[A\u001b[A\n",
      "\n",
      " 95%|█████████▌| 95273/100000 [00:11<00:00, 8149.77it/s]\u001b[A\u001b[A\n",
      "\n",
      " 96%|█████████▌| 96096/100000 [00:11<00:00, 8172.62it/s]\u001b[A\u001b[A\n",
      "\n",
      " 97%|█████████▋| 96928/100000 [00:11<00:00, 8215.13it/s]\u001b[A\u001b[A\n",
      "\n",
      " 98%|█████████▊| 97753/100000 [00:12<00:00, 8225.16it/s]\u001b[A\u001b[A\n",
      "\n",
      " 99%|█████████▊| 98576/100000 [00:12<00:00, 8220.96it/s]\u001b[A\u001b[A\n",
      "\n",
      " 99%|█████████▉| 99399/100000 [00:12<00:00, 8212.23it/s]\u001b[A\u001b[A\n",
      "\n",
      "100%|██████████| 100000/100000 [00:12<00:00, 8105.74it/s]\u001b[A\u001b[A"
     ]
    }
   ],
   "source": [
    "for p,q in tqdm(agreeing_vector_pairs):\n",
    "    s_p, v_p = pfv_to_sv(p)\n",
    "    s_q, v_q = pfv_to_sv(q)\n",
    "    assert np.array_equal(agree(p,q), np.array(list(agree_ba(s_p, v_p, s_q, v_q)), dtype=myint))\n",
    "    assert np.array_equal(union(p,q), sv_to_pfv(*union_ba(s_p, v_p, s_q, v_q)))"
   ]
  },
  {
   "cell_type": "code",
   "execution_count": 108,
   "metadata": {
    "ExecuteTime": {
     "end_time": "2019-05-09T20:00:12.958448Z",
     "start_time": "2019-05-09T20:00:00.312046Z"
    }
   },
   "outputs": [
    {
     "name": "stderr",
     "output_type": "stream",
     "text": [
      "\n",
      "\n",
      "  0%|          | 0/100000 [00:00<?, ?it/s]\u001b[A\u001b[A\n",
      "\n",
      "  1%|          | 754/100000 [00:00<00:13, 7531.37it/s]\u001b[A\u001b[A\n",
      "\n",
      "  2%|▏         | 1537/100000 [00:00<00:12, 7616.22it/s]\u001b[A\u001b[A\n",
      "\n",
      "  2%|▏         | 2327/100000 [00:00<00:12, 7699.15it/s]\u001b[A\u001b[A\n",
      "\n",
      "  3%|▎         | 3122/100000 [00:00<00:12, 7770.80it/s]\u001b[A\u001b[A\n",
      "\n",
      "  4%|▍         | 3903/100000 [00:00<00:12, 7781.55it/s]\u001b[A\u001b[A\n",
      "\n",
      "  5%|▍         | 4698/100000 [00:00<00:12, 7828.82it/s]\u001b[A\u001b[A\n",
      "\n",
      "  5%|▌         | 5496/100000 [00:00<00:12, 7871.62it/s]\u001b[A\u001b[A\n",
      "\n",
      "  6%|▋         | 6297/100000 [00:00<00:11, 7910.22it/s]\u001b[A\u001b[A\n",
      "\n",
      "  7%|▋         | 7097/100000 [00:00<00:11, 7934.40it/s]\u001b[A\u001b[A\n",
      "\n",
      "  8%|▊         | 7891/100000 [00:01<00:11, 7935.85it/s]\u001b[A\u001b[A\n",
      "\n",
      "  9%|▊         | 8693/100000 [00:01<00:11, 7958.60it/s]\u001b[A\u001b[A\n",
      "\n",
      "  9%|▉         | 9491/100000 [00:01<00:11, 7964.84it/s]\u001b[A\u001b[A\n",
      "\n",
      " 10%|█         | 10283/100000 [00:01<00:11, 7950.87it/s]\u001b[A\u001b[A\n",
      "\n",
      " 11%|█         | 11072/100000 [00:01<00:11, 7931.11it/s]\u001b[A\u001b[A\n",
      "\n",
      " 12%|█▏        | 11861/100000 [00:01<00:11, 7784.71it/s]\u001b[A\u001b[A\n",
      "\n",
      " 13%|█▎        | 12637/100000 [00:01<00:11, 7679.32it/s]\u001b[A\u001b[A\n",
      "\n",
      " 13%|█▎        | 13429/100000 [00:01<00:11, 7748.32it/s]\u001b[A\u001b[A\n",
      "\n",
      " 14%|█▍        | 14203/100000 [00:01<00:11, 7679.49it/s]\u001b[A\u001b[A\n",
      "\n",
      " 15%|█▍        | 14994/100000 [00:01<00:10, 7746.58it/s]\u001b[A\u001b[A\n",
      "\n",
      " 16%|█▌        | 15782/100000 [00:02<00:10, 7784.77it/s]\u001b[A\u001b[A\n",
      "\n",
      " 17%|█▋        | 16574/100000 [00:02<00:10, 7824.34it/s]\u001b[A\u001b[A\n",
      "\n",
      " 17%|█▋        | 17361/100000 [00:02<00:10, 7836.02it/s]\u001b[A\u001b[A\n",
      "\n",
      " 18%|█▊        | 18145/100000 [00:02<00:10, 7832.52it/s]\u001b[A\u001b[A\n",
      "\n",
      " 19%|█▉        | 18942/100000 [00:02<00:10, 7870.90it/s]\u001b[A\u001b[A\n",
      "\n",
      " 20%|█▉        | 19730/100000 [00:02<00:10, 7855.49it/s]\u001b[A\u001b[A\n",
      "\n",
      " 21%|██        | 20523/100000 [00:02<00:10, 7876.90it/s]\u001b[A\u001b[A\n",
      "\n",
      " 21%|██▏       | 21321/100000 [00:02<00:09, 7906.20it/s]\u001b[A\u001b[A\n",
      "\n",
      " 22%|██▏       | 22118/100000 [00:02<00:09, 7922.74it/s]\u001b[A\u001b[A\n",
      "\n",
      " 23%|██▎       | 22914/100000 [00:02<00:09, 7932.33it/s]\u001b[A\u001b[A\n",
      "\n",
      " 24%|██▎       | 23713/100000 [00:03<00:09, 7947.47it/s]\u001b[A\u001b[A\n",
      "\n",
      " 25%|██▍       | 24508/100000 [00:03<00:09, 7916.93it/s]\u001b[A\u001b[A\n",
      "\n",
      " 25%|██▌       | 25300/100000 [00:03<00:09, 7883.93it/s]\u001b[A\u001b[A\n",
      "\n",
      " 26%|██▌       | 26091/100000 [00:03<00:09, 7891.52it/s]\u001b[A\u001b[A\n",
      "\n",
      " 27%|██▋       | 26885/100000 [00:03<00:09, 7903.76it/s]\u001b[A\u001b[A\n",
      "\n",
      " 28%|██▊       | 27676/100000 [00:03<00:09, 7896.31it/s]\u001b[A\u001b[A\n",
      "\n",
      " 28%|██▊       | 28471/100000 [00:03<00:09, 7910.29it/s]\u001b[A\u001b[A\n",
      "\n",
      " 29%|██▉       | 29265/100000 [00:03<00:08, 7918.76it/s]\u001b[A\u001b[A\n",
      "\n",
      " 30%|███       | 30061/100000 [00:03<00:08, 7929.08it/s]\u001b[A\u001b[A\n",
      "\n",
      " 31%|███       | 30862/100000 [00:03<00:08, 7953.04it/s]\u001b[A\u001b[A\n",
      "\n",
      " 32%|███▏      | 31660/100000 [00:04<00:08, 7959.99it/s]\u001b[A\u001b[A\n",
      "\n",
      " 32%|███▏      | 32463/100000 [00:04<00:08, 7979.30it/s]\u001b[A\u001b[A\n",
      "\n",
      " 33%|███▎      | 33261/100000 [00:04<00:08, 7813.75it/s]\u001b[A\u001b[A\n",
      "\n",
      " 34%|███▍      | 34044/100000 [00:04<00:08, 7721.37it/s]\u001b[A\u001b[A\n",
      "\n",
      " 35%|███▍      | 34824/100000 [00:04<00:08, 7744.04it/s]\u001b[A\u001b[A\n",
      "\n",
      " 36%|███▌      | 35628/100000 [00:04<00:08, 7828.77it/s]\u001b[A\u001b[A\n",
      "\n",
      " 36%|███▋      | 36436/100000 [00:04<00:08, 7902.03it/s]\u001b[A\u001b[A\n",
      "\n",
      " 37%|███▋      | 37242/100000 [00:04<00:07, 7946.16it/s]\u001b[A\u001b[A\n",
      "\n",
      " 38%|███▊      | 38040/100000 [00:04<00:07, 7953.47it/s]\u001b[A\u001b[A\n",
      "\n",
      " 39%|███▉      | 38840/100000 [00:04<00:07, 7967.30it/s]\u001b[A\u001b[A\n",
      "\n",
      " 40%|███▉      | 39637/100000 [00:05<00:07, 7953.55it/s]\u001b[A\u001b[A\n",
      "\n",
      " 40%|████      | 40433/100000 [00:05<00:07, 7951.63it/s]\u001b[A\u001b[A\n",
      "\n",
      " 41%|████      | 41229/100000 [00:05<00:07, 7942.84it/s]\u001b[A\u001b[A\n",
      "\n",
      " 42%|████▏     | 42025/100000 [00:05<00:07, 7946.63it/s]\u001b[A\u001b[A\n",
      "\n",
      " 43%|████▎     | 42827/100000 [00:05<00:07, 7968.00it/s]\u001b[A\u001b[A\n",
      "\n",
      " 44%|████▎     | 43632/100000 [00:05<00:07, 7991.23it/s]\u001b[A\u001b[A\n",
      "\n",
      " 44%|████▍     | 44437/100000 [00:05<00:06, 8006.56it/s]\u001b[A\u001b[A\n",
      "\n",
      " 45%|████▌     | 45238/100000 [00:05<00:06, 8001.58it/s]\u001b[A\u001b[A\n",
      "\n",
      " 46%|████▌     | 46044/100000 [00:05<00:06, 8018.00it/s]\u001b[A\u001b[A\n",
      "\n",
      " 47%|████▋     | 46847/100000 [00:05<00:06, 8020.40it/s]\u001b[A\u001b[A\n",
      "\n",
      " 48%|████▊     | 47653/100000 [00:06<00:06, 8029.31it/s]\u001b[A\u001b[A\n",
      "\n",
      " 48%|████▊     | 48457/100000 [00:06<00:06, 8031.47it/s]\u001b[A\u001b[A\n",
      "\n",
      " 49%|████▉     | 49261/100000 [00:06<00:06, 8019.12it/s]\u001b[A\u001b[A\n",
      "\n",
      " 50%|█████     | 50063/100000 [00:06<00:06, 7872.92it/s]\u001b[A\u001b[A\n",
      "\n",
      " 51%|█████     | 50851/100000 [00:06<00:06, 7749.01it/s]\u001b[A\u001b[A\n",
      "\n",
      " 52%|█████▏    | 51644/100000 [00:06<00:06, 7800.32it/s]\u001b[A\u001b[A\n",
      "\n",
      " 52%|█████▏    | 52445/100000 [00:06<00:06, 7861.02it/s]\u001b[A\u001b[A\n",
      "\n",
      " 53%|█████▎    | 53247/100000 [00:06<00:05, 7908.00it/s]\u001b[A\u001b[A\n",
      "\n",
      " 54%|█████▍    | 54054/100000 [00:06<00:05, 7954.97it/s]\u001b[A\u001b[A\n",
      "\n",
      " 55%|█████▍    | 54854/100000 [00:06<00:05, 7966.68it/s]\u001b[A\u001b[A\n",
      "\n",
      " 56%|█████▌    | 55654/100000 [00:07<00:05, 7974.13it/s]\u001b[A\u001b[A\n",
      "\n",
      " 56%|█████▋    | 56457/100000 [00:07<00:05, 7988.47it/s]\u001b[A\u001b[A\n",
      "\n",
      " 57%|█████▋    | 57262/100000 [00:07<00:05, 8005.23it/s]\u001b[A\u001b[A\n",
      "\n",
      " 58%|█████▊    | 58063/100000 [00:07<00:05, 7984.86it/s]\u001b[A\u001b[A\n",
      "\n",
      " 59%|█████▉    | 58867/100000 [00:07<00:05, 8000.28it/s]\u001b[A\u001b[A\n",
      "\n",
      " 60%|█████▉    | 59671/100000 [00:07<00:05, 8010.12it/s]\u001b[A\u001b[A\n",
      "\n",
      " 60%|██████    | 60473/100000 [00:07<00:04, 8007.32it/s]\u001b[A\u001b[A\n",
      "\n",
      " 61%|██████▏   | 61282/100000 [00:07<00:04, 8029.69it/s]\u001b[A\u001b[A\n",
      "\n",
      " 62%|██████▏   | 62086/100000 [00:07<00:04, 8019.33it/s]\u001b[A\u001b[A\n",
      "\n",
      " 63%|██████▎   | 62894/100000 [00:07<00:04, 8036.59it/s]\u001b[A\u001b[A\n",
      "\n",
      " 64%|██████▎   | 63698/100000 [00:08<00:04, 8027.33it/s]\u001b[A\u001b[A\n",
      "\n",
      " 65%|██████▍   | 64501/100000 [00:08<00:04, 7993.21it/s]\u001b[A\u001b[A\n",
      "\n",
      " 65%|██████▌   | 65301/100000 [00:08<00:04, 7980.36it/s]\u001b[A\u001b[A\n",
      "\n",
      " 66%|██████▌   | 66100/100000 [00:08<00:04, 7965.89it/s]\u001b[A\u001b[A\n",
      "\n",
      " 67%|██████▋   | 66897/100000 [00:08<00:04, 7955.43it/s]\u001b[A\u001b[A\n",
      "\n",
      " 68%|██████▊   | 67693/100000 [00:08<00:04, 7952.84it/s]\u001b[A\u001b[A\n",
      "\n",
      " 68%|██████▊   | 68492/100000 [00:08<00:03, 7961.62it/s]\u001b[A\u001b[A\n",
      "\n",
      " 69%|██████▉   | 69289/100000 [00:08<00:03, 7956.05it/s]\u001b[A\u001b[A\n",
      "\n",
      " 70%|███████   | 70085/100000 [00:08<00:03, 7887.59it/s]\u001b[A\u001b[A\n",
      "\n",
      " 71%|███████   | 70874/100000 [00:08<00:03, 7648.63it/s]\u001b[A\u001b[A\n",
      "\n",
      " 72%|███████▏  | 71651/100000 [00:09<00:03, 7683.14it/s]\u001b[A\u001b[A\n",
      "\n",
      " 72%|███████▏  | 72444/100000 [00:09<00:03, 7753.52it/s]\u001b[A\u001b[A\n",
      "\n",
      " 73%|███████▎  | 73240/100000 [00:09<00:03, 7812.70it/s]\u001b[A\u001b[A\n",
      "\n",
      " 74%|███████▍  | 74037/100000 [00:09<00:03, 7858.81it/s]\u001b[A\u001b[A\n",
      "\n",
      " 75%|███████▍  | 74839/100000 [00:09<00:03, 7903.62it/s]\u001b[A\u001b[A\n",
      "\n",
      " 76%|███████▌  | 75639/100000 [00:09<00:03, 7931.12it/s]\u001b[A\u001b[A\n",
      "\n",
      " 76%|███████▋  | 76435/100000 [00:09<00:02, 7938.26it/s]\u001b[A\u001b[A\n",
      "\n",
      " 77%|███████▋  | 77230/100000 [00:09<00:02, 7932.71it/s]\u001b[A\u001b[A\n",
      "\n",
      " 78%|███████▊  | 78030/100000 [00:09<00:02, 7950.28it/s]\u001b[A\u001b[A\n",
      "\n",
      " 79%|███████▉  | 78828/100000 [00:09<00:02, 7956.90it/s]\u001b[A\u001b[A\n",
      "\n",
      " 80%|███████▉  | 79624/100000 [00:10<00:02, 7954.31it/s]\u001b[A\u001b[A\n",
      "\n",
      " 80%|████████  | 80420/100000 [00:10<00:02, 7908.44it/s]\u001b[A\u001b[A\n",
      "\n",
      " 81%|████████  | 81217/100000 [00:10<00:02, 7925.76it/s]\u001b[A\u001b[A\n",
      "\n",
      " 82%|████████▏ | 82019/100000 [00:10<00:02, 7951.29it/s]\u001b[A\u001b[A\n",
      "\n",
      " 83%|████████▎ | 82821/100000 [00:10<00:02, 7970.49it/s]\u001b[A\u001b[A\n",
      "\n",
      " 84%|████████▎ | 83619/100000 [00:10<00:02, 7963.98it/s]\u001b[A\u001b[A\n",
      "\n",
      " 84%|████████▍ | 84416/100000 [00:10<00:01, 7893.70it/s]\u001b[A\u001b[A\n",
      "\n",
      " 85%|████████▌ | 85206/100000 [00:10<00:01, 7823.65it/s]\u001b[A\u001b[A\n",
      "\n",
      " 86%|████████▌ | 85989/100000 [00:10<00:01, 7803.14it/s]\u001b[A\u001b[A\n",
      "\n",
      " 87%|████████▋ | 86787/100000 [00:10<00:01, 7852.73it/s]\u001b[A\u001b[A\n",
      "\n",
      " 88%|████████▊ | 87584/100000 [00:11<00:01, 7886.81it/s]\u001b[A\u001b[A\n",
      "\n",
      " 88%|████████▊ | 88382/100000 [00:11<00:01, 7912.34it/s]\u001b[A\u001b[A\n",
      "\n",
      " 89%|████████▉ | 89186/100000 [00:11<00:01, 7949.07it/s]\u001b[A\u001b[A\n",
      "\n",
      " 90%|████████▉ | 89982/100000 [00:11<00:01, 7793.81it/s]\u001b[A\u001b[A\n",
      "\n",
      " 91%|█████████ | 90781/100000 [00:11<00:01, 7850.91it/s]\u001b[A\u001b[A\n",
      "\n",
      " 92%|█████████▏| 91584/100000 [00:11<00:01, 7901.38it/s]\u001b[A\u001b[A\n",
      "\n",
      " 92%|█████████▏| 92388/100000 [00:11<00:00, 7942.04it/s]\u001b[A\u001b[A\n",
      "\n",
      " 93%|█████████▎| 93190/100000 [00:11<00:00, 7964.70it/s]\u001b[A\u001b[A\n",
      "\n",
      " 94%|█████████▍| 93987/100000 [00:11<00:00, 7965.84it/s]\u001b[A\u001b[A\n",
      "\n",
      " 95%|█████████▍| 94785/100000 [00:11<00:00, 7969.93it/s]\u001b[A\u001b[A\n",
      "\n",
      " 96%|█████████▌| 95583/100000 [00:12<00:00, 7968.37it/s]\u001b[A\u001b[A\n",
      "\n",
      " 96%|█████████▋| 96381/100000 [00:12<00:00, 7970.95it/s]\u001b[A\u001b[A\n",
      "\n",
      " 97%|█████████▋| 97179/100000 [00:12<00:00, 7967.85it/s]\u001b[A\u001b[A\n",
      "\n",
      " 98%|█████████▊| 97978/100000 [00:12<00:00, 7972.24it/s]\u001b[A\u001b[A\n",
      "\n",
      " 99%|█████████▉| 98776/100000 [00:12<00:00, 7972.94it/s]\u001b[A\u001b[A\n",
      "\n",
      "100%|█████████▉| 99574/100000 [00:12<00:00, 7960.75it/s]\u001b[A\u001b[A\n",
      "\n",
      "100%|██████████| 100000/100000 [00:12<00:00, 7912.30it/s]\u001b[A\u001b[A"
     ]
    }
   ],
   "source": [
    "for p,q in tqdm(random_vector_pairs):\n",
    "    s_p, v_p = pfv_to_sv(p)\n",
    "    s_q, v_q = pfv_to_sv(q)\n",
    "    assert np.array_equal(agree(p,q), np.array(list(agree_ba(s_p, v_p, s_q, v_q)), dtype=myint))\n",
    "    assert np.array_equal(intersection(p,q), sv_to_pfv(*intersection_ba(s_p, v_p, s_q, v_q)))"
   ]
  },
  {
   "cell_type": "code",
   "execution_count": 109,
   "metadata": {
    "ExecuteTime": {
     "end_time": "2019-05-09T20:00:12.962245Z",
     "start_time": "2019-05-09T20:00:12.960137Z"
    }
   },
   "outputs": [],
   "source": [
    "def in_extension_ba(s_p, v_p, s_o, v_o):\n",
    "    return agree_ba_(s_p, v_p, s_o, v_o)"
   ]
  },
  {
   "cell_type": "markdown",
   "metadata": {},
   "source": [
    "### Performance evaluation"
   ]
  },
  {
   "cell_type": "markdown",
   "metadata": {},
   "source": [
    "Now we compare timing:"
   ]
  },
  {
   "cell_type": "code",
   "execution_count": 110,
   "metadata": {
    "ExecuteTime": {
     "end_time": "2019-05-09T20:00:24.918137Z",
     "start_time": "2019-05-09T20:00:12.963155Z"
    }
   },
   "outputs": [],
   "source": [
    "agreeing_vector_pairs_ba = [(pfv_to_sv(u)[0], pfv_to_sv(u)[1], pfv_to_sv(v)[0], pfv_to_sv(v)[1]) for u,v in agreeing_vector_pairs]"
   ]
  },
  {
   "cell_type": "code",
   "execution_count": 111,
   "metadata": {
    "ExecuteTime": {
     "end_time": "2019-05-09T20:00:36.624589Z",
     "start_time": "2019-05-09T20:00:24.920079Z"
    }
   },
   "outputs": [],
   "source": [
    "random_vector_pairs_ba = [(pfv_to_sv(u)[0], pfv_to_sv(u)[1], pfv_to_sv(v)[0], pfv_to_sv(v)[1]) for u,v in random_vector_pairs]"
   ]
  },
  {
   "cell_type": "code",
   "execution_count": 112,
   "metadata": {
    "ExecuteTime": {
     "end_time": "2019-05-09T20:00:36.629133Z",
     "start_time": "2019-05-09T20:00:36.626285Z"
    }
   },
   "outputs": [],
   "source": [
    "def unpack_pfv_pair(pair):\n",
    "    p = pair[0]\n",
    "    q = pair[1]\n",
    "    s_p, v_p = pfv_to_sv(p)\n",
    "    s_q, v_q = pfv_to_sv(q)\n",
    "    return (s_p, v_p, s_q, v_q)\n",
    "\n",
    "# def unpack_sv_pair_pair(sv_pair_pair):\n",
    "#     s_p, v_p = sv_pair_pair[0][0], sv_pair_pair[0][1]\n",
    "#     s_q, v_q = sv_pair_pair[1][2], sv_pair_pair[1][1]\n",
    "#     return (s_p, v_p, s_q, v_q)"
   ]
  },
  {
   "cell_type": "code",
   "execution_count": 113,
   "metadata": {
    "ExecuteTime": {
     "end_time": "2019-05-09T20:00:58.132317Z",
     "start_time": "2019-05-09T20:00:38.306002Z"
    }
   },
   "outputs": [
    {
     "name": "stdout",
     "output_type": "stream",
     "text": [
      "2.48 s ± 16.3 ms per loop (mean ± std. dev. of 7 runs, 1 loop each)\n"
     ]
    }
   ],
   "source": [
    "%%timeit\n",
    "\n",
    "list(starmap(agree, random_vector_pairs))"
   ]
  },
  {
   "cell_type": "code",
   "execution_count": 114,
   "metadata": {
    "ExecuteTime": {
     "end_time": "2019-05-09T20:00:59.806785Z",
     "start_time": "2019-05-09T20:00:58.135462Z"
    }
   },
   "outputs": [
    {
     "name": "stdout",
     "output_type": "stream",
     "text": [
      "207 ms ± 5.67 ms per loop (mean ± std. dev. of 7 runs, 1 loop each)\n"
     ]
    }
   ],
   "source": [
    "%%timeit\n",
    "\n",
    "list(starmap(agree_ba, random_vector_pairs_ba))"
   ]
  },
  {
   "cell_type": "code",
   "execution_count": 115,
   "metadata": {
    "ExecuteTime": {
     "end_time": "2019-05-09T20:01:08.085770Z",
     "start_time": "2019-05-09T20:00:59.808340Z"
    }
   },
   "outputs": [
    {
     "name": "stdout",
     "output_type": "stream",
     "text": [
      "102 ms ± 654 µs per loop (mean ± std. dev. of 7 runs, 10 loops each)\n"
     ]
    }
   ],
   "source": [
    "%%timeit\n",
    "\n",
    "list(starmap(union, agreeing_vector_pairs))"
   ]
  },
  {
   "cell_type": "code",
   "execution_count": 116,
   "metadata": {
    "ExecuteTime": {
     "end_time": "2019-05-09T20:01:12.576945Z",
     "start_time": "2019-05-09T20:01:08.089557Z"
    }
   },
   "outputs": [
    {
     "name": "stdout",
     "output_type": "stream",
     "text": [
      "55.4 ms ± 1.17 ms per loop (mean ± std. dev. of 7 runs, 10 loops each)\n"
     ]
    }
   ],
   "source": [
    "%%timeit\n",
    "\n",
    "list(starmap(union_ba, agreeing_vector_pairs_ba))"
   ]
  },
  {
   "cell_type": "code",
   "execution_count": 117,
   "metadata": {
    "ExecuteTime": {
     "end_time": "2019-05-09T20:01:14.442449Z",
     "start_time": "2019-05-09T20:01:12.578838Z"
    }
   },
   "outputs": [
    {
     "name": "stdout",
     "output_type": "stream",
     "text": [
      "232 ms ± 4.88 ms per loop (mean ± std. dev. of 7 runs, 1 loop each)\n"
     ]
    }
   ],
   "source": [
    "%%timeit\n",
    "\n",
    "list(starmap(intersection, random_vector_pairs))"
   ]
  },
  {
   "cell_type": "code",
   "execution_count": 118,
   "metadata": {
    "ExecuteTime": {
     "end_time": "2019-05-09T20:01:29.441675Z",
     "start_time": "2019-05-09T20:01:14.444872Z"
    }
   },
   "outputs": [
    {
     "name": "stdout",
     "output_type": "stream",
     "text": [
      "185 ms ± 2.15 ms per loop (mean ± std. dev. of 7 runs, 10 loops each)\n"
     ]
    }
   ],
   "source": [
    "%%timeit\n",
    "\n",
    "list(starmap(intersection_ba, random_vector_pairs_ba))"
   ]
  },
  {
   "cell_type": "markdown",
   "metadata": {},
   "source": [
    "#### Conclusion"
   ]
  },
  {
   "cell_type": "markdown",
   "metadata": {},
   "source": [
    "In the baseline representation:\n",
    " - `agreement` checking is very expensive, taking ≈10x longer than `union`ing and ≈5x longer than `intersect`ing\n",
    "\n",
    "In the bitarray representation:\n",
    " - `agreement` checking and `intersection` take comparably long, and both take about 5x longer than `union`\n",
    "\n",
    "`agreement` checking is about 5x faster with bitarrays than with the baseline representation, `intersection` is about 1.25x faster, and `union` is about 2x faster."
   ]
  },
  {
   "cell_type": "markdown",
   "metadata": {},
   "source": [
    "## Matrix extension of the baseline representation"
   ]
  },
  {
   "cell_type": "code",
   "execution_count": 119,
   "metadata": {
    "ExecuteTime": {
     "end_time": "2019-05-09T20:02:03.062227Z",
     "start_time": "2019-05-09T20:02:03.056867Z"
    }
   },
   "outputs": [
    {
     "data": {
      "text/plain": [
       "[(array([ 1,  0,  1,  0,  1,  0,  1, -1,  0], dtype=int8),\n",
       "  array([ 1,  0,  0,  0,  0,  0,  0,  0, -1], dtype=int8)),\n",
       " (array([ 0,  1,  0, -1, -1,  0, -1, -1, -1], dtype=int8),\n",
       "  array([-1,  0,  0,  0,  0,  0,  0,  1,  0], dtype=int8)),\n",
       " (array([ 0,  1,  1,  1, -1, -1,  0, -1,  0], dtype=int8),\n",
       "  array([ 0,  1, -1, -1, -1,  1,  1,  0,  1], dtype=int8))]"
      ]
     },
     "execution_count": 119,
     "metadata": {},
     "output_type": "execute_result"
    }
   ],
   "source": [
    "random_stack_list = random_vector_pairs[:3]; random_stack_list"
   ]
  },
  {
   "cell_type": "code",
   "execution_count": 120,
   "metadata": {
    "ExecuteTime": {
     "end_time": "2019-05-09T20:02:03.903628Z",
     "start_time": "2019-05-09T20:02:03.895396Z"
    }
   },
   "outputs": [
    {
     "data": {
      "text/plain": [
       "[(array([ 1,  0,  1,  0,  1,  0,  1, -1,  0], dtype=int8),\n",
       "  array([ 1,  0,  0,  0,  0,  0,  0,  0, -1], dtype=int8)),\n",
       " (array([ 0,  1,  0, -1, -1,  0, -1, -1, -1], dtype=int8),\n",
       "  array([-1,  0,  0,  0,  0,  0,  0,  1,  0], dtype=int8)),\n",
       " (array([ 0,  1,  1,  1, -1, -1,  0, -1,  0], dtype=int8),\n",
       "  array([ 0,  1, -1, -1, -1,  1,  1,  0,  1], dtype=int8)),\n",
       " (array([ 1,  0,  0, -1,  1, -1, -1,  1, -1], dtype=int8),\n",
       "  array([-1, -1,  1, -1,  1,  1, -1,  0,  0], dtype=int8)),\n",
       " (array([-1, -1,  1,  1,  0,  1, -1,  1,  0], dtype=int8),\n",
       "  array([ 1,  1, -1, -1,  1,  1,  1, -1,  1], dtype=int8)),\n",
       " (array([ 0, -1, -1, -1,  0, -1,  0, -1, -1], dtype=int8),\n",
       "  array([ 0,  1,  0,  1, -1, -1, -1, -1,  0], dtype=int8)),\n",
       " (array([ 0,  0,  0,  0, -1,  0, -1,  0, -1], dtype=int8),\n",
       "  array([ 0, -1,  0,  0,  1,  1,  1, -1,  0], dtype=int8)),\n",
       " (array([ 0,  1,  0, -1, -1, -1,  0, -1,  0], dtype=int8),\n",
       "  array([-1, -1,  0, -1,  0,  1,  0, -1, -1], dtype=int8)),\n",
       " (array([-1,  0,  1, -1, -1,  0,  0, -1,  0], dtype=int8),\n",
       "  array([ 1,  1, -1,  1,  1, -1,  1,  1,  1], dtype=int8)),\n",
       " (array([-1,  1, -1,  1,  1, -1, -1, -1, -1], dtype=int8),\n",
       "  array([ 1,  0,  1, -1,  0,  0,  1, -1,  1], dtype=int8))]"
      ]
     },
     "execution_count": 120,
     "metadata": {},
     "output_type": "execute_result"
    }
   ],
   "source": [
    "random_vector_pairs[:10]"
   ]
  },
  {
   "cell_type": "code",
   "execution_count": 121,
   "metadata": {
    "ExecuteTime": {
     "end_time": "2019-05-09T20:02:05.026039Z",
     "start_time": "2019-05-09T20:02:04.950176Z"
    }
   },
   "outputs": [
    {
     "data": {
      "text/plain": [
       "dtype('int8')"
      ]
     },
     "execution_count": 121,
     "metadata": {},
     "output_type": "execute_result"
    },
    {
     "data": {
      "text/plain": [
       "dtype('int8')"
      ]
     },
     "execution_count": 121,
     "metadata": {},
     "output_type": "execute_result"
    }
   ],
   "source": [
    "first = lambda seq: seq[0]\n",
    "second = lambda seq: seq[1]\n",
    "\n",
    "stack_a, stack_b = list(map(first, random_vector_pairs)), list(map(second, random_vector_pairs))\n",
    "random_pair_stack_a, random_pair_stack_b = np.array(stack_a), np.array(stack_b)\n",
    "random_pair_stack_a.dtype\n",
    "random_pair_stack_b.dtype"
   ]
  },
  {
   "cell_type": "code",
   "execution_count": 122,
   "metadata": {
    "ExecuteTime": {
     "end_time": "2019-05-09T20:02:10.943754Z",
     "start_time": "2019-05-09T20:02:10.864062Z"
    }
   },
   "outputs": [
    {
     "data": {
      "text/plain": [
       "dtype('int8')"
      ]
     },
     "execution_count": 122,
     "metadata": {},
     "output_type": "execute_result"
    },
    {
     "data": {
      "text/plain": [
       "dtype('int8')"
      ]
     },
     "execution_count": 122,
     "metadata": {},
     "output_type": "execute_result"
    }
   ],
   "source": [
    "stack_a, stack_b = list(map(first, agreeing_vector_pairs)), list(map(second, agreeing_vector_pairs))\n",
    "agreeing_pair_stack_a, agreeing_pair_stack_b = np.array(stack_a), np.array(stack_b)\n",
    "agreeing_pair_stack_a.dtype\n",
    "agreeing_pair_stack_b.dtype"
   ]
  },
  {
   "cell_type": "markdown",
   "metadata": {},
   "source": [
    "### Agreement testing"
   ]
  },
  {
   "cell_type": "code",
   "execution_count": 123,
   "metadata": {
    "ExecuteTime": {
     "end_time": "2019-05-09T20:02:13.705574Z",
     "start_time": "2019-05-09T20:02:13.700746Z"
    }
   },
   "outputs": [
    {
     "data": {
      "text/plain": [
       "(100000, 9)"
      ]
     },
     "execution_count": 123,
     "metadata": {},
     "output_type": "execute_result"
    }
   ],
   "source": [
    "random_pair_stack_a.shape\n",
    "n = random_pair_stack_a.shape[0]"
   ]
  },
  {
   "cell_type": "code",
   "execution_count": 124,
   "metadata": {
    "ExecuteTime": {
     "end_time": "2019-05-09T20:02:17.290501Z",
     "start_time": "2019-05-09T20:02:14.432896Z"
    }
   },
   "outputs": [],
   "source": [
    "list(starmap(agree_, random_vector_pairs));"
   ]
  },
  {
   "cell_type": "code",
   "execution_count": 125,
   "metadata": {
    "ExecuteTime": {
     "end_time": "2019-05-09T20:02:20.173737Z",
     "start_time": "2019-05-09T20:02:17.292335Z"
    }
   },
   "outputs": [
    {
     "data": {
      "text/plain": [
       "(100000,)"
      ]
     },
     "execution_count": 125,
     "metadata": {},
     "output_type": "execute_result"
    }
   ],
   "source": [
    "vector_agree__results = np.array([agree_(random_pair_stack_a[i],random_pair_stack_b[i]) for i in range(n)])\n",
    "vector_agree__results.shape"
   ]
  },
  {
   "cell_type": "code",
   "execution_count": 126,
   "metadata": {
    "ExecuteTime": {
     "end_time": "2019-05-09T20:02:20.179319Z",
     "start_time": "2019-05-09T20:02:20.174914Z"
    }
   },
   "outputs": [],
   "source": [
    "def agree_mat(A,B):\n",
    "    '''\n",
    "    Given two matrices A::(n,m) and B::(n,m), \n",
    "    return C::(n,1) where \n",
    "    C[i] = 1 iff A[i] and B[i] agree at all indices\n",
    "    and 0 otherwise.\n",
    "    '''\n",
    "    # (x == 0 or y == 0) or ((x != 0 and y != 0) and (x == y))\n",
    "    A_unspecified = A == 0\n",
    "    B_unspecified = B == 0\n",
    "    A_or_B_unspecified = A_unspecified | B_unspecified\n",
    "    \n",
    "    A_specified = A != 0\n",
    "    B_specified = B != 0\n",
    "    A_and_B_specified = A_specified & B_specified\n",
    "    A_equal_B = np.equal(A,B)\n",
    "    A_B_both_specified_and_equal = A_and_B_specified & A_equal_B\n",
    "\n",
    "    ag = A_or_B_unspecified | A_B_both_specified_and_equal\n",
    "#     return ag\n",
    "    result = np.prod(ag, axis=-1, dtype=myint)\n",
    "    return result"
   ]
  },
  {
   "cell_type": "code",
   "execution_count": 127,
   "metadata": {
    "ExecuteTime": {
     "end_time": "2019-05-09T20:02:20.188530Z",
     "start_time": "2019-05-09T20:02:20.181178Z"
    }
   },
   "outputs": [
    {
     "data": {
      "text/plain": [
       "(100000,)"
      ]
     },
     "execution_count": 127,
     "metadata": {},
     "output_type": "execute_result"
    }
   ],
   "source": [
    "matrix_agree_result = agree_mat(random_pair_stack_a, random_pair_stack_b)\n",
    "matrix_agree_result.shape"
   ]
  },
  {
   "cell_type": "code",
   "execution_count": 128,
   "metadata": {
    "ExecuteTime": {
     "end_time": "2019-05-09T20:02:20.193951Z",
     "start_time": "2019-05-09T20:02:20.190523Z"
    }
   },
   "outputs": [
    {
     "data": {
      "text/plain": [
       "True"
      ]
     },
     "execution_count": 128,
     "metadata": {},
     "output_type": "execute_result"
    }
   ],
   "source": [
    "np.array_equal(matrix_agree_result, vector_agree__results)"
   ]
  },
  {
   "cell_type": "code",
   "execution_count": 129,
   "metadata": {
    "ExecuteTime": {
     "end_time": "2019-05-09T20:02:25.144359Z",
     "start_time": "2019-05-09T20:02:20.961324Z"
    }
   },
   "outputs": [],
   "source": [
    "for i in range(n):\n",
    "    u = random_pair_stack_a[i]\n",
    "    v = random_pair_stack_b[i]\n",
    "    assert agree_(u,v) == agree_mat(u,v), '{0}, {1} -> {2} vs. {3}'.format(u,v, agree_(u,v), agree_mat(u,v, True))"
   ]
  },
  {
   "cell_type": "markdown",
   "metadata": {},
   "source": [
    "### Union"
   ]
  },
  {
   "cell_type": "code",
   "execution_count": 130,
   "metadata": {
    "ExecuteTime": {
     "end_time": "2019-05-09T20:02:25.309964Z",
     "start_time": "2019-05-09T20:02:25.146171Z"
    }
   },
   "outputs": [
    {
     "data": {
      "text/plain": [
       "(100000, 9)"
      ]
     },
     "execution_count": 130,
     "metadata": {},
     "output_type": "execute_result"
    }
   ],
   "source": [
    "vector_union_results = np.array([union(agreeing_pair_stack_a[i],agreeing_pair_stack_b[i]) for i in range(n)])\n",
    "vector_union_results.shape"
   ]
  },
  {
   "cell_type": "code",
   "execution_count": 131,
   "metadata": {
    "ExecuteTime": {
     "end_time": "2019-05-09T20:02:25.314840Z",
     "start_time": "2019-05-09T20:02:25.311313Z"
    }
   },
   "outputs": [
    {
     "data": {
      "text/plain": [
       "array([[ 1, -1,  1, ...,  1,  1, -1],\n",
       "       [-1, -1,  0, ..., -1,  1, -1],\n",
       "       [ 1,  1,  1, ..., -1,  1,  1],\n",
       "       ..., \n",
       "       [ 1, -1,  1, ...,  1,  1, -1],\n",
       "       [ 1,  0,  1, ..., -1,  1, -1],\n",
       "       [-1,  1,  1, ..., -1,  1, -1]], dtype=int8)"
      ]
     },
     "execution_count": 131,
     "metadata": {},
     "output_type": "execute_result"
    }
   ],
   "source": [
    "union(agreeing_pair_stack_a, agreeing_pair_stack_b)"
   ]
  },
  {
   "cell_type": "code",
   "execution_count": 132,
   "metadata": {
    "ExecuteTime": {
     "end_time": "2019-05-09T20:02:25.319797Z",
     "start_time": "2019-05-09T20:02:25.316452Z"
    }
   },
   "outputs": [
    {
     "data": {
      "text/plain": [
       "True"
      ]
     },
     "execution_count": 132,
     "metadata": {},
     "output_type": "execute_result"
    }
   ],
   "source": [
    "np.array_equal(vector_union_results, union(agreeing_pair_stack_a, agreeing_pair_stack_b) )"
   ]
  },
  {
   "cell_type": "markdown",
   "metadata": {},
   "source": [
    "### Intersection"
   ]
  },
  {
   "cell_type": "code",
   "execution_count": 133,
   "metadata": {
    "ExecuteTime": {
     "end_time": "2019-05-09T20:02:26.017339Z",
     "start_time": "2019-05-09T20:02:25.704371Z"
    }
   },
   "outputs": [
    {
     "data": {
      "text/plain": [
       "(100000, 9)"
      ]
     },
     "execution_count": 133,
     "metadata": {},
     "output_type": "execute_result"
    }
   ],
   "source": [
    "vector_intersection_results = np.array([intersection(random_pair_stack_a[i],random_pair_stack_b[i]) for i in range(n)])\n",
    "vector_intersection_results.shape"
   ]
  },
  {
   "cell_type": "code",
   "execution_count": 134,
   "metadata": {
    "ExecuteTime": {
     "end_time": "2019-05-09T20:02:26.143145Z",
     "start_time": "2019-05-09T20:02:26.137526Z"
    }
   },
   "outputs": [
    {
     "data": {
      "text/plain": [
       "array([[ 0, -1,  0, ...,  0,  0, -1],\n",
       "       [ 0,  0,  0, ...,  0,  1,  0],\n",
       "       [ 1,  1,  1, ...,  0,  0,  1],\n",
       "       ..., \n",
       "       [ 1,  0,  0, ...,  1,  0, -1],\n",
       "       [ 0,  0,  1, ..., -1,  0,  0],\n",
       "       [ 0,  0,  1, ...,  0,  1,  0]], dtype=int8)"
      ]
     },
     "execution_count": 134,
     "metadata": {},
     "output_type": "execute_result"
    }
   ],
   "source": [
    "intersection(agreeing_pair_stack_a, agreeing_pair_stack_b)"
   ]
  },
  {
   "cell_type": "code",
   "execution_count": 135,
   "metadata": {
    "ExecuteTime": {
     "end_time": "2019-05-09T20:02:26.524822Z",
     "start_time": "2019-05-09T20:02:26.520779Z"
    }
   },
   "outputs": [
    {
     "data": {
      "text/plain": [
       "True"
      ]
     },
     "execution_count": 135,
     "metadata": {},
     "output_type": "execute_result"
    }
   ],
   "source": [
    "np.array_equal(vector_intersection_results, intersection(random_pair_stack_a, random_pair_stack_b) )"
   ]
  },
  {
   "cell_type": "markdown",
   "metadata": {},
   "source": [
    "### Extension"
   ]
  },
  {
   "cell_type": "markdown",
   "metadata": {},
   "source": [
    "Using `agree_mat` we can define a faster method for calculating extensions:"
   ]
  },
  {
   "cell_type": "code",
   "execution_count": 136,
   "metadata": {
    "ExecuteTime": {
     "end_time": "2019-05-09T20:02:30.666559Z",
     "start_time": "2019-05-09T20:02:30.664557Z"
    }
   },
   "outputs": [],
   "source": [
    "def extension_(pfv):\n",
    "    return agree_mat(pfv, objectMap)"
   ]
  },
  {
   "cell_type": "code",
   "execution_count": 137,
   "metadata": {
    "ExecuteTime": {
     "end_time": "2019-05-09T20:02:31.232981Z",
     "start_time": "2019-05-09T20:02:31.191983Z"
    }
   },
   "outputs": [
    {
     "data": {
      "text/plain": [
       "array([ 1,  0, -1,  1,  1,  0,  0,  0,  0], dtype=int8)"
      ]
     },
     "execution_count": 137,
     "metadata": {},
     "output_type": "execute_result"
    },
    {
     "data": {
      "text/plain": [
       "' '"
      ]
     },
     "execution_count": 137,
     "metadata": {},
     "output_type": "execute_result"
    },
    {
     "data": {
      "text/plain": [
       "array([0, 0, 0, 0, 0, 0, 1, 0, 0, 0, 0, 0, 0, 0, 0, 0, 0, 0, 0, 0, 0, 0, 0,\n",
       "       0, 0, 0, 0, 0, 0, 0, 1, 0, 0, 0, 0, 0, 0, 0, 1, 0, 0, 0, 0, 0, 1, 0,\n",
       "       0, 0, 0, 0, 0, 0, 0, 0, 0, 0, 0, 0, 0, 0, 0, 0, 0, 0, 0, 0, 0, 0, 0,\n",
       "       0, 1, 1, 0, 0, 0, 0, 0, 0, 0, 0, 0, 0, 0, 0, 0, 0, 0, 0, 0, 0, 0, 0,\n",
       "       0, 0, 0, 0, 0, 0, 0, 0, 0, 0, 0, 0, 0, 0, 0, 0, 0, 0, 1, 1, 0, 0, 0,\n",
       "       0, 0, 0, 0, 0, 0, 0, 0, 0, 0, 0, 0, 0, 0, 0, 1, 0, 0, 0, 0, 0, 0, 0,\n",
       "       0, 0, 0, 0, 0, 0, 0, 0, 0, 0, 0, 0, 0, 0, 0, 0, 0, 0, 0, 0, 0, 0, 0,\n",
       "       0, 0, 0, 0, 0, 0, 1, 1, 0, 0, 0, 0, 0, 0, 0, 0, 0, 0, 0, 0, 0, 0, 0,\n",
       "       0, 0, 0, 0, 0, 0, 0, 0, 0, 0, 0, 0, 0, 0, 0, 0, 0, 0, 0, 0, 0, 0, 1,\n",
       "       0, 0, 1, 0, 0, 0, 1, 0, 0], dtype=int8)"
      ]
     },
     "execution_count": 137,
     "metadata": {},
     "output_type": "execute_result"
    },
    {
     "data": {
      "text/plain": [
       "array([0, 0, 0, 0, 0, 0, 1, 0, 0, 0, 0, 0, 0, 0, 0, 0, 0, 0, 0, 0, 0, 0, 0,\n",
       "       0, 0, 0, 0, 0, 0, 0, 1, 0, 0, 0, 0, 0, 0, 0, 1, 0, 0, 0, 0, 0, 1, 0,\n",
       "       0, 0, 0, 0, 0, 0, 0, 0, 0, 0, 0, 0, 0, 0, 0, 0, 0, 0, 0, 0, 0, 0, 0,\n",
       "       0, 1, 1, 0, 0, 0, 0, 0, 0, 0, 0, 0, 0, 0, 0, 0, 0, 0, 0, 0, 0, 0, 0,\n",
       "       0, 0, 0, 0, 0, 0, 0, 0, 0, 0, 0, 0, 0, 0, 0, 0, 0, 0, 1, 1, 0, 0, 0,\n",
       "       0, 0, 0, 0, 0, 0, 0, 0, 0, 0, 0, 0, 0, 0, 0, 1, 0, 0, 0, 0, 0, 0, 0,\n",
       "       0, 0, 0, 0, 0, 0, 0, 0, 0, 0, 0, 0, 0, 0, 0, 0, 0, 0, 0, 0, 0, 0, 0,\n",
       "       0, 0, 0, 0, 0, 0, 1, 1, 0, 0, 0, 0, 0, 0, 0, 0, 0, 0, 0, 0, 0, 0, 0,\n",
       "       0, 0, 0, 0, 0, 0, 0, 0, 0, 0, 0, 0, 0, 0, 0, 0, 0, 0, 0, 0, 0, 0, 1,\n",
       "       0, 0, 1, 0, 0, 0, 1, 0, 0], dtype=int8)"
      ]
     },
     "execution_count": 137,
     "metadata": {},
     "output_type": "execute_result"
    },
    {
     "data": {
      "text/plain": [
       "array([0, 0, 0, 0, 0, 0, 1, 0, 0, 0, 0, 0, 0, 0, 0, 0, 0, 0, 0, 0, 0, 0, 0,\n",
       "       0, 0, 0, 0, 0, 0, 0, 1, 0, 0, 0, 0, 0, 0, 0, 1, 0, 0, 0, 0, 0, 1, 0,\n",
       "       0, 0, 0, 0, 0, 0, 0, 0, 0, 0, 0, 0, 0, 0, 0, 0, 0, 0, 0, 0, 0, 0, 0,\n",
       "       0, 1, 1, 0, 0, 0, 0, 0, 0, 0, 0, 0, 0, 0, 0, 0, 0, 0, 0, 0, 0, 0, 0,\n",
       "       0, 0, 0, 0, 0, 0, 0, 0, 0, 0, 0, 0, 0, 0, 0, 0, 0, 0, 1, 1, 0, 0, 0,\n",
       "       0, 0, 0, 0, 0, 0, 0, 0, 0, 0, 0, 0, 0, 0, 0, 1, 0, 0, 0, 0, 0, 0, 0,\n",
       "       0, 0, 0, 0, 0, 0, 0, 0, 0, 0, 0, 0, 0, 0, 0, 0, 0, 0, 0, 0, 0, 0, 0,\n",
       "       0, 0, 0, 0, 0, 0, 1, 1, 0, 0, 0, 0, 0, 0, 0, 0, 0, 0, 0, 0, 0, 0, 0,\n",
       "       0, 0, 0, 0, 0, 0, 0, 0, 0, 0, 0, 0, 0, 0, 0, 0, 0, 0, 0, 0, 0, 0, 1,\n",
       "       0, 0, 1, 0, 0, 0, 1, 0, 0], dtype=int8)"
      ]
     },
     "execution_count": 137,
     "metadata": {},
     "output_type": "execute_result"
    }
   ],
   "source": [
    "p = make_random_pfv()\n",
    "p\n",
    "' '\n",
    "extension(p)\n",
    "extension_alt(p)\n",
    "extension_(p)"
   ]
  },
  {
   "cell_type": "code",
   "execution_count": 139,
   "metadata": {
    "ExecuteTime": {
     "end_time": "2019-05-09T20:37:09.628054Z",
     "start_time": "2019-05-09T20:18:33.255322Z"
    }
   },
   "outputs": [
    {
     "name": "stderr",
     "output_type": "stream",
     "text": [
      "\n",
      "\n",
      "  0%|          | 0/100000 [00:00<?, ?it/s]\u001b[A\u001b[A\n",
      "\n",
      "  0%|          | 11/100000 [00:00<17:54, 93.05it/s]\u001b[A\u001b[A\n",
      "\n",
      "  0%|          | 22/100000 [00:00<17:11, 96.88it/s]\u001b[A\u001b[A\n",
      "\n",
      "  0%|          | 31/100000 [00:00<17:47, 93.61it/s]\u001b[A\u001b[A\n",
      "\n",
      "  0%|          | 42/100000 [00:00<17:22, 95.84it/s]\u001b[A\u001b[A\n",
      "\n",
      "  0%|          | 53/100000 [00:00<17:05, 97.42it/s]\u001b[A\u001b[A\n",
      "\n",
      "  0%|          | 65/100000 [00:00<16:56, 98.32it/s]\u001b[A\u001b[A\n",
      "\n",
      "  0%|          | 74/100000 [00:00<18:31, 89.89it/s]\u001b[A\u001b[A\n",
      "\n",
      "  0%|          | 85/100000 [00:00<17:47, 93.59it/s]\u001b[A\u001b[A\n",
      "\n",
      "  0%|          | 94/100000 [00:00<18:37, 89.38it/s]\u001b[A\u001b[A\n",
      "\n",
      "  0%|          | 103/100000 [00:01<18:36, 89.46it/s]\u001b[A\u001b[A\n",
      "\n",
      "  0%|          | 112/100000 [00:01<19:01, 87.49it/s]\u001b[A\u001b[A\n",
      "\n",
      "  0%|          | 122/100000 [00:01<18:58, 87.71it/s]\u001b[A\u001b[A\n",
      "\n",
      "  0%|          | 131/100000 [00:01<19:05, 87.17it/s]\u001b[A\u001b[A\n",
      "\n",
      "  0%|          | 142/100000 [00:01<17:59, 92.52it/s]\u001b[A\u001b[A\n",
      "\n",
      "  0%|          | 152/100000 [00:01<18:15, 91.17it/s]\u001b[A\u001b[A\n",
      "\n",
      "  0%|          | 163/100000 [00:01<17:30, 95.06it/s]\u001b[A\u001b[A\n",
      "\n",
      "  0%|          | 173/100000 [00:01<18:01, 92.29it/s]\u001b[A\u001b[A\n",
      "\n",
      "  0%|          | 183/100000 [00:01<17:52, 93.04it/s]\u001b[A\u001b[A\n",
      "\n",
      "  0%|          | 193/100000 [00:02<17:52, 93.05it/s]\u001b[A\u001b[A\n",
      "\n",
      "  0%|          | 204/100000 [00:02<17:14, 96.50it/s]\u001b[A\u001b[A\n",
      "\n",
      "  0%|          | 215/100000 [00:02<16:46, 99.16it/s]\u001b[A\u001b[A\n",
      "\n",
      "  0%|          | 225/100000 [00:02<18:10, 91.48it/s]\u001b[A\u001b[A\n",
      "\n",
      "  0%|          | 235/100000 [00:02<17:59, 92.39it/s]\u001b[A\u001b[A\n",
      "\n",
      "  0%|          | 245/100000 [00:02<18:01, 92.28it/s]\u001b[A\u001b[A\n",
      "\n",
      "  0%|          | 255/100000 [00:02<18:49, 88.31it/s]\u001b[A\u001b[A\n",
      "\n",
      "  0%|          | 266/100000 [00:02<17:54, 92.85it/s]\u001b[A\u001b[A\n",
      "\n",
      "  0%|          | 276/100000 [00:02<17:46, 93.48it/s]\u001b[A\u001b[A\n",
      "\n",
      "  0%|          | 286/100000 [00:03<20:18, 81.85it/s]\u001b[A\u001b[A\n",
      "\n",
      "  0%|          | 295/100000 [00:03<19:48, 83.88it/s]\u001b[A\u001b[A\n",
      "\n",
      "  0%|          | 305/100000 [00:03<19:14, 86.33it/s]\u001b[A\u001b[A\n",
      "\n",
      "  0%|          | 314/100000 [00:03<19:07, 86.85it/s]\u001b[A\u001b[A\n",
      "\n",
      "  0%|          | 324/100000 [00:03<18:31, 89.67it/s]\u001b[A\u001b[A\n",
      "\n",
      "  0%|          | 334/100000 [00:03<18:51, 88.09it/s]\u001b[A\u001b[A\n",
      "\n",
      "  0%|          | 344/100000 [00:03<18:27, 89.99it/s]\u001b[A\u001b[A\n",
      "\n",
      "  0%|          | 354/100000 [00:03<18:25, 90.10it/s]\u001b[A\u001b[A\n",
      "\n",
      "  0%|          | 364/100000 [00:03<18:38, 89.08it/s]\u001b[A\u001b[A\n",
      "\n",
      "  0%|          | 375/100000 [00:04<17:54, 92.74it/s]\u001b[A\u001b[A\n",
      "\n",
      "  0%|          | 385/100000 [00:04<17:47, 93.30it/s]\u001b[A\u001b[A\n",
      "\n",
      "  0%|          | 395/100000 [00:04<19:16, 86.16it/s]\u001b[A\u001b[A\n",
      "\n",
      "  0%|          | 406/100000 [00:04<18:30, 89.70it/s]\u001b[A\u001b[A\n",
      "\n",
      "  0%|          | 416/100000 [00:04<21:06, 78.65it/s]\u001b[A\u001b[A\n",
      "\n",
      "  0%|          | 426/100000 [00:04<19:45, 84.02it/s]\u001b[A\u001b[A\n",
      "\n",
      "  0%|          | 435/100000 [00:04<24:50, 66.79it/s]\u001b[A\u001b[A\n",
      "\n",
      "  0%|          | 443/100000 [00:05<24:47, 66.95it/s]\u001b[A\u001b[A\n",
      "\n",
      "  0%|          | 452/100000 [00:05<23:44, 69.86it/s]\u001b[A\u001b[A\n",
      "\n",
      "  0%|          | 460/100000 [00:05<23:03, 71.97it/s]\u001b[A\u001b[A\n",
      "\n",
      "  0%|          | 468/100000 [00:05<22:21, 74.20it/s]\u001b[A\u001b[A\n",
      "\n",
      "  0%|          | 478/100000 [00:05<21:05, 78.65it/s]\u001b[A\u001b[A\n",
      "\n",
      "  0%|          | 487/100000 [00:05<21:01, 78.87it/s]\u001b[A\u001b[A\n",
      "\n",
      "  0%|          | 497/100000 [00:05<19:49, 83.67it/s]\u001b[A\u001b[A\n",
      "\n",
      "  1%|          | 506/100000 [00:05<19:54, 83.31it/s]\u001b[A\u001b[A\n",
      "\n",
      "  1%|          | 518/100000 [00:05<18:18, 90.54it/s]\u001b[A\u001b[A\n",
      "\n",
      "  1%|          | 528/100000 [00:05<18:12, 91.04it/s]\u001b[A\u001b[A\n",
      "\n",
      "  1%|          | 539/100000 [00:06<17:51, 92.79it/s]\u001b[A\u001b[A\n",
      "\n",
      "  1%|          | 549/100000 [00:06<17:39, 93.88it/s]\u001b[A\u001b[A\n",
      "\n",
      "  1%|          | 559/100000 [00:06<17:34, 94.27it/s]\u001b[A\u001b[A\n",
      "\n",
      "  1%|          | 571/100000 [00:06<16:53, 98.07it/s]\u001b[A\u001b[A\n",
      "\n",
      "  1%|          | 582/100000 [00:06<16:43, 99.05it/s]\u001b[A\u001b[A\n",
      "\n",
      "  1%|          | 593/100000 [00:06<16:34, 99.98it/s]\u001b[A\u001b[A\n",
      "\n",
      "  1%|          | 604/100000 [00:06<18:15, 90.76it/s]\u001b[A\u001b[A\n",
      "\n",
      "  1%|          | 614/100000 [00:06<18:14, 90.78it/s]\u001b[A\u001b[A\n",
      "\n",
      "  1%|          | 624/100000 [00:06<17:49, 92.93it/s]\u001b[A\u001b[A\n",
      "\n",
      "  1%|          | 634/100000 [00:07<18:35, 89.06it/s]\u001b[A\u001b[A\n",
      "\n",
      "  1%|          | 644/100000 [00:07<18:32, 89.30it/s]\u001b[A\u001b[A\n",
      "\n",
      "  1%|          | 654/100000 [00:07<18:16, 90.59it/s]\u001b[A\u001b[A\n",
      "\n",
      "  1%|          | 664/100000 [00:07<17:48, 92.96it/s]\u001b[A\u001b[A\n",
      "\n",
      "  1%|          | 674/100000 [00:07<18:26, 89.80it/s]\u001b[A\u001b[A\n",
      "\n",
      "  1%|          | 684/100000 [00:07<18:09, 91.12it/s]\u001b[A\u001b[A\n",
      "\n",
      "  1%|          | 694/100000 [00:07<17:58, 92.09it/s]\u001b[A\u001b[A\n",
      "\n",
      "  1%|          | 705/100000 [00:07<17:09, 96.45it/s]\u001b[A\u001b[A\n",
      "\n",
      "  1%|          | 715/100000 [00:07<18:06, 91.36it/s]\u001b[A\u001b[A\n",
      "\n",
      "  1%|          | 725/100000 [00:08<19:15, 85.94it/s]\u001b[A\u001b[A\n",
      "\n",
      "  1%|          | 734/100000 [00:08<19:33, 84.56it/s]\u001b[A\u001b[A\n",
      "\n",
      "  1%|          | 744/100000 [00:08<18:45, 88.18it/s]\u001b[A\u001b[A\n",
      "\n",
      "  1%|          | 755/100000 [00:08<17:53, 92.41it/s]\u001b[A\u001b[A\n",
      "\n",
      "  1%|          | 765/100000 [00:08<18:46, 88.10it/s]\u001b[A\u001b[A\n",
      "\n",
      "  1%|          | 774/100000 [00:08<19:02, 86.88it/s]\u001b[A\u001b[A\n",
      "\n",
      "  1%|          | 784/100000 [00:08<18:55, 87.35it/s]\u001b[A\u001b[A\n",
      "\n",
      "  1%|          | 793/100000 [00:08<19:57, 82.84it/s]\u001b[A\u001b[A\n",
      "\n",
      "  1%|          | 804/100000 [00:09<18:43, 88.28it/s]\u001b[A\u001b[A\n",
      "\n",
      "  1%|          | 813/100000 [00:09<18:53, 87.49it/s]\u001b[A\u001b[A\n",
      "\n",
      "  1%|          | 824/100000 [00:09<18:01, 91.73it/s]\u001b[A\u001b[A\n",
      "\n",
      "  1%|          | 834/100000 [00:09<17:58, 91.91it/s]\u001b[A\u001b[A\n",
      "\n",
      "  1%|          | 844/100000 [00:09<18:29, 89.39it/s]\u001b[A\u001b[A\n",
      "\n",
      "  1%|          | 854/100000 [00:09<18:39, 88.59it/s]\u001b[A\u001b[A\n",
      "\n",
      "  1%|          | 865/100000 [00:09<17:45, 93.04it/s]\u001b[A\u001b[A\n",
      "\n",
      "  1%|          | 875/100000 [00:09<19:37, 84.19it/s]\u001b[A\u001b[A\n",
      "\n",
      "  1%|          | 884/100000 [00:09<20:07, 82.09it/s]\u001b[A\u001b[A\n",
      "\n",
      "  1%|          | 895/100000 [00:10<18:50, 87.68it/s]\u001b[A\u001b[A\n",
      "\n",
      "  1%|          | 905/100000 [00:10<18:27, 89.45it/s]\u001b[A\u001b[A\n",
      "\n",
      "  1%|          | 915/100000 [00:10<18:20, 90.05it/s]\u001b[A\u001b[A\n",
      "\n",
      "  1%|          | 927/100000 [00:10<17:17, 95.52it/s]\u001b[A\u001b[A\n",
      "\n",
      "  1%|          | 938/100000 [00:10<16:38, 99.22it/s]\u001b[A\u001b[A\n",
      "\n",
      "  1%|          | 950/100000 [00:10<16:01, 103.00it/s]\u001b[A\u001b[A\n",
      "\n",
      "  1%|          | 961/100000 [00:10<17:29, 94.39it/s] \u001b[A\u001b[A\n",
      "\n",
      "  1%|          | 971/100000 [00:10<18:45, 88.01it/s]\u001b[A\u001b[A\n",
      "\n",
      "  1%|          | 983/100000 [00:10<17:29, 94.30it/s]\u001b[A\u001b[A\n",
      "\n",
      "  1%|          | 993/100000 [00:11<17:44, 92.99it/s]\u001b[A\u001b[A\n",
      "\n",
      "  1%|          | 1003/100000 [00:11<20:27, 80.66it/s]\u001b[A\u001b[A\n",
      "\n",
      "  1%|          | 1012/100000 [00:11<20:03, 82.28it/s]\u001b[A\u001b[A\n",
      "\n",
      "  1%|          | 1022/100000 [00:11<19:11, 85.99it/s]\u001b[A\u001b[A\n",
      "\n",
      "  1%|          | 1032/100000 [00:11<18:39, 88.42it/s]\u001b[A\u001b[A\n",
      "\n",
      "  1%|          | 1042/100000 [00:11<19:09, 86.08it/s]\u001b[A\u001b[A\n",
      "\n",
      "  1%|          | 1051/100000 [00:11<19:07, 86.25it/s]\u001b[A\u001b[A\n",
      "\n",
      "  1%|          | 1060/100000 [00:11<19:10, 86.03it/s]\u001b[A\u001b[A\n",
      "\n",
      "  1%|          | 1069/100000 [00:11<18:57, 86.95it/s]\u001b[A\u001b[A\n",
      "\n",
      "  1%|          | 1079/100000 [00:12<18:29, 89.16it/s]\u001b[A\u001b[A\n",
      "\n",
      "  1%|          | 1090/100000 [00:12<18:13, 90.44it/s]\u001b[A\u001b[A\n",
      "\n",
      "  1%|          | 1100/100000 [00:12<17:46, 92.74it/s]\u001b[A\u001b[A\n",
      "\n",
      "  1%|          | 1111/100000 [00:12<16:58, 97.12it/s]\u001b[A\u001b[A\n",
      "\n",
      "  1%|          | 1121/100000 [00:12<17:21, 94.95it/s]\u001b[A\u001b[A\n",
      "\n",
      "  1%|          | 1131/100000 [00:12<17:14, 95.56it/s]\u001b[A\u001b[A\n",
      "\n",
      "  1%|          | 1141/100000 [00:12<18:12, 90.50it/s]\u001b[A\u001b[A\n",
      "\n",
      "  1%|          | 1151/100000 [00:12<18:46, 87.77it/s]\u001b[A\u001b[A\n",
      "\n",
      "  1%|          | 1162/100000 [00:12<18:13, 90.39it/s]\u001b[A\u001b[A\n",
      "\n",
      "  1%|          | 1172/100000 [00:13<18:04, 91.09it/s]\u001b[A\u001b[A\n",
      "\n",
      "  1%|          | 1183/100000 [00:13<17:31, 94.00it/s]\u001b[A\u001b[A\n",
      "\n",
      "  1%|          | 1194/100000 [00:13<16:49, 97.83it/s]\u001b[A\u001b[A\n",
      "\n",
      "  1%|          | 1204/100000 [00:13<18:31, 88.92it/s]\u001b[A\u001b[A\n",
      "\n",
      "  1%|          | 1214/100000 [00:13<18:26, 89.31it/s]\u001b[A\u001b[A\n",
      "\n",
      "  1%|          | 1224/100000 [00:13<18:06, 90.93it/s]\u001b[A\u001b[A\n",
      "\n",
      "  1%|          | 1234/100000 [00:13<17:48, 92.45it/s]\u001b[A\u001b[A\n",
      "\n",
      "  1%|          | 1244/100000 [00:13<18:11, 90.47it/s]\u001b[A\u001b[A\n",
      "\n",
      "  1%|▏         | 1254/100000 [00:14<19:47, 83.12it/s]\u001b[A\u001b[A\n",
      "\n",
      "  1%|▏         | 1263/100000 [00:14<20:39, 79.64it/s]\u001b[A\u001b[A\n",
      "\n",
      "  1%|▏         | 1273/100000 [00:14<20:12, 81.42it/s]\u001b[A\u001b[A\n",
      "\n",
      "  1%|▏         | 1283/100000 [00:14<19:06, 86.10it/s]\u001b[A\u001b[A\n",
      "\n",
      "  1%|▏         | 1292/100000 [00:14<18:55, 86.96it/s]\u001b[A\u001b[A\n",
      "\n",
      "  1%|▏         | 1301/100000 [00:14<19:17, 85.28it/s]\u001b[A\u001b[A\n",
      "\n",
      "  1%|▏         | 1312/100000 [00:14<18:23, 89.44it/s]\u001b[A\u001b[A\n",
      "\n",
      "  1%|▏         | 1323/100000 [00:14<17:54, 91.83it/s]\u001b[A\u001b[A\n",
      "\n",
      "  1%|▏         | 1333/100000 [00:14<17:30, 93.92it/s]\u001b[A\u001b[A\n",
      "\n",
      "  1%|▏         | 1343/100000 [00:15<19:14, 85.42it/s]\u001b[A\u001b[A\n",
      "\n",
      "  1%|▏         | 1353/100000 [00:15<18:26, 89.13it/s]\u001b[A\u001b[A\n",
      "\n",
      "  1%|▏         | 1364/100000 [00:15<17:34, 93.52it/s]\u001b[A\u001b[A\n",
      "\n"
     ]
    },
    {
     "name": "stderr",
     "output_type": "stream",
     "text": [
      "  1%|▏         | 1374/100000 [00:15<18:05, 90.87it/s]\u001b[A\u001b[A\n",
      "\n",
      "  1%|▏         | 1384/100000 [00:15<21:05, 77.90it/s]\u001b[A\u001b[A\n",
      "\n",
      "  1%|▏         | 1394/100000 [00:15<19:42, 83.40it/s]\u001b[A\u001b[A\n",
      "\n",
      "  1%|▏         | 1405/100000 [00:15<18:23, 89.38it/s]\u001b[A\u001b[A\n",
      "\n",
      "  1%|▏         | 1415/100000 [00:15<19:54, 82.50it/s]\u001b[A\u001b[A\n",
      "\n",
      "  1%|▏         | 1426/100000 [00:15<18:47, 87.46it/s]\u001b[A\u001b[A\n",
      "\n",
      "  1%|▏         | 1436/100000 [00:16<18:49, 87.27it/s]\u001b[A\u001b[A\n",
      "\n",
      "  1%|▏         | 1445/100000 [00:16<23:14, 70.68it/s]\u001b[A\u001b[A\n",
      "\n",
      "  1%|▏         | 1455/100000 [00:16<21:13, 77.40it/s]\u001b[A\u001b[A\n",
      "\n",
      "  1%|▏         | 1464/100000 [00:16<20:36, 79.67it/s]\u001b[A\u001b[A\n",
      "\n",
      "  1%|▏         | 1474/100000 [00:16<19:30, 84.20it/s]\u001b[A\u001b[A\n",
      "\n",
      "  1%|▏         | 1483/100000 [00:16<19:38, 83.56it/s]\u001b[A\u001b[A\n",
      "\n",
      "  1%|▏         | 1494/100000 [00:16<19:12, 85.43it/s]\u001b[A\u001b[A\n",
      "\n",
      "  2%|▏         | 1504/100000 [00:16<18:22, 89.31it/s]\u001b[A\u001b[A\n",
      "\n",
      "  2%|▏         | 1515/100000 [00:17<17:32, 93.61it/s]\u001b[A\u001b[A\n",
      "\n",
      "  2%|▏         | 1527/100000 [00:17<16:32, 99.20it/s]\u001b[A\u001b[A\n",
      "\n",
      "  2%|▏         | 1538/100000 [00:17<16:24, 99.99it/s]\u001b[A\u001b[A\n",
      "\n",
      "  2%|▏         | 1549/100000 [00:17<16:44, 97.99it/s]\u001b[A\u001b[A\n",
      "\n",
      "  2%|▏         | 1559/100000 [00:17<19:29, 84.17it/s]\u001b[A\u001b[A\n",
      "\n",
      "  2%|▏         | 1569/100000 [00:17<18:39, 87.93it/s]\u001b[A\u001b[A\n",
      "\n",
      "  2%|▏         | 1579/100000 [00:17<19:01, 86.20it/s]\u001b[A\u001b[A\n",
      "\n",
      "  2%|▏         | 1590/100000 [00:17<18:15, 89.87it/s]\u001b[A\u001b[A\n",
      "\n",
      "  2%|▏         | 1600/100000 [00:17<18:16, 89.74it/s]\u001b[A\u001b[A\n",
      "\n",
      "  2%|▏         | 1610/100000 [00:18<19:47, 82.83it/s]\u001b[A\u001b[A\n",
      "\n",
      "  2%|▏         | 1620/100000 [00:18<18:51, 86.96it/s]\u001b[A\u001b[A\n",
      "\n",
      "  2%|▏         | 1629/100000 [00:18<19:52, 82.47it/s]\u001b[A\u001b[A\n",
      "\n",
      "  2%|▏         | 1638/100000 [00:18<19:45, 82.97it/s]\u001b[A\u001b[A\n",
      "\n",
      "  2%|▏         | 1648/100000 [00:18<18:57, 86.45it/s]\u001b[A\u001b[A\n",
      "\n",
      "  2%|▏         | 1657/100000 [00:18<18:59, 86.33it/s]\u001b[A\u001b[A\n",
      "\n",
      "  2%|▏         | 1667/100000 [00:18<18:15, 89.73it/s]\u001b[A\u001b[A\n",
      "\n",
      "  2%|▏         | 1677/100000 [00:18<18:24, 89.03it/s]\u001b[A\u001b[A\n",
      "\n",
      "  2%|▏         | 1686/100000 [00:18<18:56, 86.51it/s]\u001b[A\u001b[A\n",
      "\n",
      "  2%|▏         | 1695/100000 [00:19<18:49, 87.03it/s]\u001b[A\u001b[A\n",
      "\n",
      "  2%|▏         | 1706/100000 [00:19<19:28, 84.09it/s]\u001b[A\u001b[A\n",
      "\n",
      "  2%|▏         | 1715/100000 [00:19<22:11, 73.80it/s]\u001b[A\u001b[A\n",
      "\n",
      "  2%|▏         | 1724/100000 [00:19<21:12, 77.25it/s]\u001b[A\u001b[A\n",
      "\n",
      "  2%|▏         | 1734/100000 [00:19<19:50, 82.54it/s]\u001b[A\u001b[A\n",
      "\n",
      "  2%|▏         | 1745/100000 [00:19<18:21, 89.17it/s]\u001b[A\u001b[A\n",
      "\n",
      "  2%|▏         | 1755/100000 [00:19<17:54, 91.42it/s]\u001b[A\u001b[A\n",
      "\n",
      "  2%|▏         | 1765/100000 [00:19<17:35, 93.05it/s]\u001b[A\u001b[A\n",
      "\n",
      "  2%|▏         | 1776/100000 [00:19<16:51, 97.14it/s]\u001b[A\u001b[A\n",
      "\n",
      "  2%|▏         | 1786/100000 [00:20<17:34, 93.13it/s]\u001b[A\u001b[A\n",
      "\n",
      "  2%|▏         | 1796/100000 [00:20<18:08, 90.25it/s]\u001b[A\u001b[A\n",
      "\n",
      "  2%|▏         | 1806/100000 [00:20<20:09, 81.16it/s]\u001b[A\u001b[A\n",
      "\n",
      "  2%|▏         | 1815/100000 [00:20<19:45, 82.80it/s]\u001b[A\u001b[A\n",
      "\n",
      "  2%|▏         | 1824/100000 [00:20<19:39, 83.26it/s]\u001b[A\u001b[A\n",
      "\n",
      "  2%|▏         | 1833/100000 [00:20<20:06, 81.37it/s]\u001b[A\u001b[A\n",
      "\n",
      "  2%|▏         | 1842/100000 [00:20<20:28, 79.91it/s]\u001b[A\u001b[A\n",
      "\n",
      "  2%|▏         | 1852/100000 [00:20<19:29, 83.92it/s]\u001b[A\u001b[A\n",
      "\n",
      "  2%|▏         | 1861/100000 [00:21<19:22, 84.39it/s]\u001b[A\u001b[A\n",
      "\n",
      "  2%|▏         | 1871/100000 [00:21<19:22, 84.39it/s]\u001b[A\u001b[A\n",
      "\n",
      "  2%|▏         | 1882/100000 [00:21<18:59, 86.12it/s]\u001b[A\u001b[A\n",
      "\n",
      "  2%|▏         | 1893/100000 [00:21<18:02, 90.63it/s]\u001b[A\u001b[A\n",
      "\n",
      "  2%|▏         | 1904/100000 [00:21<17:26, 93.73it/s]\u001b[A\u001b[A\n",
      "\n",
      "  2%|▏         | 1915/100000 [00:21<16:41, 97.91it/s]\u001b[A\u001b[A\n",
      "\n",
      "  2%|▏         | 1925/100000 [00:21<17:10, 95.14it/s]\u001b[A\u001b[A\n",
      "\n",
      "  2%|▏         | 1935/100000 [00:21<17:09, 95.28it/s]\u001b[A\u001b[A\n",
      "\n",
      "  2%|▏         | 1946/100000 [00:21<16:33, 98.69it/s]\u001b[A\u001b[A\n",
      "\n",
      "  2%|▏         | 1957/100000 [00:21<16:21, 99.91it/s]\u001b[A\u001b[A\n",
      "\n",
      "  2%|▏         | 1968/100000 [00:22<16:05, 101.51it/s]\u001b[A\u001b[A\n",
      "\n",
      "  2%|▏         | 1979/100000 [00:22<16:31, 98.91it/s] \u001b[A\u001b[A\n",
      "\n",
      "  2%|▏         | 1989/100000 [00:22<17:28, 93.50it/s]\u001b[A\u001b[A\n",
      "\n",
      "  2%|▏         | 1999/100000 [00:22<18:55, 86.28it/s]\u001b[A\u001b[A\n",
      "\n",
      "  2%|▏         | 2008/100000 [00:22<19:55, 81.95it/s]\u001b[A\u001b[A\n",
      "\n",
      "  2%|▏         | 2018/100000 [00:22<19:06, 85.44it/s]\u001b[A\u001b[A\n",
      "\n",
      "  2%|▏         | 2027/100000 [00:22<19:33, 83.49it/s]\u001b[A\u001b[A\n",
      "\n",
      "  2%|▏         | 2036/100000 [00:22<19:33, 83.51it/s]\u001b[A\u001b[A\n",
      "\n",
      "  2%|▏         | 2047/100000 [00:23<18:25, 88.57it/s]\u001b[A\u001b[A\n",
      "\n",
      "  2%|▏         | 2056/100000 [00:23<19:10, 85.11it/s]\u001b[A\u001b[A\n",
      "\n",
      "  2%|▏         | 2066/100000 [00:23<18:26, 88.51it/s]\u001b[A\u001b[A\n",
      "\n",
      "  2%|▏         | 2076/100000 [00:23<18:05, 90.19it/s]\u001b[A\u001b[A\n",
      "\n",
      "  2%|▏         | 2086/100000 [00:23<18:12, 89.62it/s]\u001b[A\u001b[A\n",
      "\n",
      "  2%|▏         | 2096/100000 [00:23<18:06, 90.10it/s]\u001b[A\u001b[A\n",
      "\n",
      "  2%|▏         | 2106/100000 [00:23<17:45, 91.90it/s]\u001b[A\u001b[A\n",
      "\n",
      "  2%|▏         | 2117/100000 [00:23<17:10, 94.99it/s]\u001b[A\u001b[A\n",
      "\n",
      "  2%|▏         | 2127/100000 [00:23<18:21, 88.82it/s]\u001b[A\u001b[A\n",
      "\n",
      "  2%|▏         | 2138/100000 [00:24<17:33, 92.85it/s]\u001b[A\u001b[A\n",
      "\n",
      "  2%|▏         | 2148/100000 [00:24<17:46, 91.75it/s]\u001b[A\u001b[A\n",
      "\n",
      "  2%|▏         | 2158/100000 [00:24<17:43, 92.00it/s]\u001b[A\u001b[A\n",
      "\n",
      "  2%|▏         | 2168/100000 [00:24<18:12, 89.52it/s]\u001b[A\u001b[A\n",
      "\n",
      "  2%|▏         | 2178/100000 [00:24<19:25, 83.91it/s]\u001b[A\u001b[A\n",
      "\n",
      "  2%|▏         | 2187/100000 [00:24<19:31, 83.49it/s]\u001b[A\u001b[A\n",
      "\n",
      "  2%|▏         | 2196/100000 [00:24<19:10, 85.04it/s]\u001b[A\u001b[A\n",
      "\n",
      "  2%|▏         | 2205/100000 [00:24<20:03, 81.27it/s]\u001b[A\u001b[A\n",
      "\n",
      "  2%|▏         | 2214/100000 [00:24<20:21, 80.07it/s]\u001b[A\u001b[A\n",
      "\n",
      "  2%|▏         | 2223/100000 [00:25<21:27, 75.93it/s]\u001b[A\u001b[A\n",
      "\n",
      "  2%|▏         | 2232/100000 [00:25<20:50, 78.17it/s]\u001b[A\u001b[A\n",
      "\n",
      "  2%|▏         | 2241/100000 [00:25<20:14, 80.47it/s]\u001b[A\u001b[A\n",
      "\n",
      "  2%|▏         | 2250/100000 [00:25<20:34, 79.20it/s]\u001b[A\u001b[A\n",
      "\n",
      "  2%|▏         | 2261/100000 [00:25<19:13, 84.77it/s]\u001b[A\u001b[A\n",
      "\n",
      "  2%|▏         | 2271/100000 [00:25<18:23, 88.59it/s]\u001b[A\u001b[A\n",
      "\n",
      "  2%|▏         | 2281/100000 [00:25<17:54, 90.95it/s]\u001b[A\u001b[A\n",
      "\n",
      "  2%|▏         | 2291/100000 [00:25<17:41, 92.05it/s]\u001b[A\u001b[A\n",
      "\n",
      "  2%|▏         | 2301/100000 [00:25<17:23, 93.67it/s]\u001b[A\u001b[A\n",
      "\n",
      "  2%|▏         | 2311/100000 [00:26<17:18, 94.09it/s]\u001b[A\u001b[A\n",
      "\n",
      "  2%|▏         | 2322/100000 [00:26<16:43, 97.33it/s]\u001b[A\u001b[A\n",
      "\n",
      "  2%|▏         | 2334/100000 [00:26<16:11, 100.49it/s]\u001b[A\u001b[A\n",
      "\n",
      "  2%|▏         | 2345/100000 [00:26<16:18, 99.79it/s] \u001b[A\u001b[A\n",
      "\n",
      "  2%|▏         | 2356/100000 [00:26<16:55, 96.12it/s]\u001b[A\u001b[A\n",
      "\n",
      "  2%|▏         | 2366/100000 [00:26<16:52, 96.45it/s]\u001b[A\u001b[A\n",
      "\n",
      "  2%|▏         | 2376/100000 [00:26<16:42, 97.43it/s]\u001b[A\u001b[A\n",
      "\n",
      "  2%|▏         | 2386/100000 [00:26<16:55, 96.17it/s]\u001b[A\u001b[A\n",
      "\n",
      "  2%|▏         | 2396/100000 [00:26<18:02, 90.15it/s]\u001b[A\u001b[A\n",
      "\n",
      "  2%|▏         | 2406/100000 [00:27<17:45, 91.62it/s]\u001b[A\u001b[A\n",
      "\n",
      "  2%|▏         | 2416/100000 [00:27<17:32, 92.74it/s]\u001b[A\u001b[A\n",
      "\n",
      "  2%|▏         | 2426/100000 [00:27<18:05, 89.85it/s]\u001b[A\u001b[A\n",
      "\n",
      "  2%|▏         | 2436/100000 [00:27<18:09, 89.53it/s]\u001b[A\u001b[A\n",
      "\n",
      "  2%|▏         | 2446/100000 [00:27<17:45, 91.53it/s]\u001b[A\u001b[A\n",
      "\n",
      "  2%|▏         | 2457/100000 [00:27<16:59, 95.64it/s]\u001b[A\u001b[A\n",
      "\n",
      "  2%|▏         | 2468/100000 [00:27<16:51, 96.43it/s]\u001b[A\u001b[A\n",
      "\n",
      "  2%|▏         | 2478/100000 [00:27<17:16, 94.12it/s]\u001b[A\u001b[A\n",
      "\n",
      "  2%|▏         | 2489/100000 [00:27<16:48, 96.72it/s]\u001b[A\u001b[A\n",
      "\n",
      "  2%|▎         | 2500/100000 [00:28<16:32, 98.19it/s]\u001b[A\u001b[A\n",
      "\n",
      "  3%|▎         | 2510/100000 [00:28<16:39, 97.58it/s]\u001b[A\u001b[A\n",
      "\n",
      "  3%|▎         | 2520/100000 [00:28<18:24, 88.26it/s]\u001b[A\u001b[A\n",
      "\n",
      "  3%|▎         | 2530/100000 [00:28<18:06, 89.71it/s]\u001b[A\u001b[A\n",
      "\n",
      "  3%|▎         | 2540/100000 [00:28<18:09, 89.46it/s]\u001b[A\u001b[A\n",
      "\n",
      "  3%|▎         | 2550/100000 [00:28<17:56, 90.52it/s]\u001b[A\u001b[A\n",
      "\n",
      "  3%|▎         | 2560/100000 [00:28<17:59, 90.23it/s]\u001b[A\u001b[A\n",
      "\n",
      "  3%|▎         | 2571/100000 [00:28<17:23, 93.33it/s]\u001b[A\u001b[A\n",
      "\n",
      "  3%|▎         | 2582/100000 [00:28<16:38, 97.59it/s]\u001b[A\u001b[A\n",
      "\n",
      "  3%|▎         | 2594/100000 [00:28<15:42, 103.30it/s]\u001b[A\u001b[A\n",
      "\n",
      "  3%|▎         | 2605/100000 [00:29<15:53, 102.15it/s]\u001b[A\u001b[A\n",
      "\n",
      "  3%|▎         | 2617/100000 [00:29<15:32, 104.43it/s]\u001b[A\u001b[A\n",
      "\n",
      "  3%|▎         | 2628/100000 [00:29<15:53, 102.17it/s]\u001b[A\u001b[A\n",
      "\n",
      "  3%|▎         | 2639/100000 [00:29<16:57, 95.68it/s] \u001b[A\u001b[A\n",
      "\n",
      "  3%|▎         | 2649/100000 [00:29<16:49, 96.43it/s]\u001b[A\u001b[A\n",
      "\n",
      "  3%|▎         | 2659/100000 [00:29<18:22, 88.29it/s]\u001b[A\u001b[A\n",
      "\n",
      "  3%|▎         | 2669/100000 [00:29<18:59, 85.44it/s]\u001b[A\u001b[A\n",
      "\n",
      "  3%|▎         | 2678/100000 [00:29<19:18, 84.04it/s]\u001b[A\u001b[A\n",
      "\n",
      "  3%|▎         | 2687/100000 [00:30<20:01, 81.01it/s]\u001b[A\u001b[A\n",
      "\n",
      "  3%|▎         | 2696/100000 [00:30<19:56, 81.33it/s]\u001b[A\u001b[A\n",
      "\n",
      "  3%|▎         | 2705/100000 [00:30<20:12, 80.28it/s]\u001b[A\u001b[A\n",
      "\n",
      "  3%|▎         | 2714/100000 [00:30<20:21, 79.66it/s]\u001b[A\u001b[A\n",
      "\n"
     ]
    },
    {
     "name": "stderr",
     "output_type": "stream",
     "text": [
      "  3%|▎         | 2724/100000 [00:30<19:08, 84.73it/s]\u001b[A\u001b[A\n",
      "\n",
      "  3%|▎         | 2735/100000 [00:30<18:35, 87.20it/s]\u001b[A\u001b[A\n",
      "\n",
      "  3%|▎         | 2744/100000 [00:30<20:19, 79.75it/s]\u001b[A\u001b[A\n",
      "\n",
      "  3%|▎         | 2754/100000 [00:30<19:21, 83.75it/s]\u001b[A\u001b[A\n",
      "\n",
      "  3%|▎         | 2763/100000 [00:30<19:02, 85.14it/s]\u001b[A\u001b[A\n",
      "\n",
      "  3%|▎         | 2772/100000 [00:31<20:43, 78.20it/s]\u001b[A\u001b[A\n",
      "\n",
      "  3%|▎         | 2783/100000 [00:31<18:59, 85.29it/s]\u001b[A\u001b[A\n",
      "\n",
      "  3%|▎         | 2793/100000 [00:31<18:16, 88.65it/s]\u001b[A\u001b[A\n",
      "\n",
      "  3%|▎         | 2804/100000 [00:31<17:32, 92.35it/s]\u001b[A\u001b[A\n",
      "\n",
      "  3%|▎         | 2815/100000 [00:31<17:10, 94.30it/s]\u001b[A\u001b[A\n",
      "\n",
      "  3%|▎         | 2825/100000 [00:31<17:14, 93.92it/s]\u001b[A\u001b[A\n",
      "\n",
      "  3%|▎         | 2835/100000 [00:31<17:26, 92.86it/s]\u001b[A\u001b[A\n",
      "\n",
      "  3%|▎         | 2845/100000 [00:31<17:36, 91.97it/s]\u001b[A\u001b[A\n",
      "\n",
      "  3%|▎         | 2856/100000 [00:31<17:12, 94.10it/s]\u001b[A\u001b[A\n",
      "\n",
      "  3%|▎         | 2866/100000 [00:32<18:55, 85.54it/s]\u001b[A\u001b[A\n",
      "\n",
      "  3%|▎         | 2877/100000 [00:32<18:00, 89.85it/s]\u001b[A\u001b[A\n",
      "\n",
      "  3%|▎         | 2888/100000 [00:32<17:06, 94.59it/s]\u001b[A\u001b[A\n",
      "\n",
      "  3%|▎         | 2898/100000 [00:32<17:32, 92.27it/s]\u001b[A\u001b[A\n",
      "\n",
      "  3%|▎         | 2908/100000 [00:32<17:33, 92.12it/s]\u001b[A\u001b[A\n",
      "\n",
      "  3%|▎         | 2918/100000 [00:32<17:44, 91.17it/s]\u001b[A\u001b[A\n",
      "\n",
      "  3%|▎         | 2928/100000 [00:32<17:34, 92.04it/s]\u001b[A\u001b[A\n",
      "\n",
      "  3%|▎         | 2938/100000 [00:32<17:16, 93.60it/s]\u001b[A\u001b[A\n",
      "\n",
      "  3%|▎         | 2948/100000 [00:32<18:13, 88.73it/s]\u001b[A\u001b[A\n",
      "\n",
      "  3%|▎         | 2959/100000 [00:33<17:10, 94.15it/s]\u001b[A\u001b[A\n",
      "\n",
      "  3%|▎         | 2969/100000 [00:33<17:11, 94.03it/s]\u001b[A\u001b[A\n",
      "\n",
      "  3%|▎         | 2979/100000 [00:33<16:56, 95.48it/s]\u001b[A\u001b[A\n",
      "\n",
      "  3%|▎         | 2989/100000 [00:33<17:30, 92.34it/s]\u001b[A\u001b[A\n",
      "\n",
      "  3%|▎         | 2999/100000 [00:33<18:01, 89.72it/s]\u001b[A\u001b[A\n",
      "\n",
      "  3%|▎         | 3009/100000 [00:33<17:38, 91.64it/s]\u001b[A\u001b[A\n",
      "\n",
      "  3%|▎         | 3020/100000 [00:33<17:12, 93.94it/s]\u001b[A\u001b[A\n",
      "\n",
      "  3%|▎         | 3031/100000 [00:33<16:38, 97.11it/s]\u001b[A\u001b[A\n",
      "\n",
      "  3%|▎         | 3041/100000 [00:33<16:53, 95.63it/s]\u001b[A\u001b[A\n",
      "\n",
      "  3%|▎         | 3051/100000 [00:34<17:08, 94.27it/s]\u001b[A\u001b[A\n",
      "\n",
      "  3%|▎         | 3061/100000 [00:34<19:38, 82.24it/s]\u001b[A\u001b[A\n",
      "\n",
      "  3%|▎         | 3070/100000 [00:34<20:12, 79.91it/s]\u001b[A\u001b[A\n",
      "\n",
      "  3%|▎         | 3079/100000 [00:34<20:36, 78.40it/s]\u001b[A\u001b[A\n",
      "\n",
      "  3%|▎         | 3088/100000 [00:34<20:49, 77.55it/s]\u001b[A\u001b[A\n",
      "\n",
      "  3%|▎         | 3096/100000 [00:34<21:02, 76.78it/s]\u001b[A\u001b[A\n",
      "\n",
      "  3%|▎         | 3107/100000 [00:34<19:36, 82.37it/s]\u001b[A\u001b[A\n",
      "\n",
      "  3%|▎         | 3116/100000 [00:34<19:43, 81.85it/s]\u001b[A\u001b[A\n",
      "\n",
      "  3%|▎         | 3126/100000 [00:35<18:58, 85.11it/s]\u001b[A\u001b[A\n",
      "\n",
      "  3%|▎         | 3136/100000 [00:35<18:29, 87.30it/s]\u001b[A\u001b[A\n",
      "\n",
      "  3%|▎         | 3146/100000 [00:35<18:12, 88.66it/s]\u001b[A\u001b[A\n",
      "\n",
      "  3%|▎         | 3155/100000 [00:35<18:14, 88.47it/s]\u001b[A\u001b[A\n",
      "\n",
      "  3%|▎         | 3166/100000 [00:35<17:18, 93.23it/s]\u001b[A\u001b[A\n",
      "\n",
      "  3%|▎         | 3176/100000 [00:35<17:43, 91.00it/s]\u001b[A\u001b[A\n",
      "\n",
      "  3%|▎         | 3186/100000 [00:35<17:16, 93.40it/s]\u001b[A\u001b[A\n",
      "\n",
      "  3%|▎         | 3196/100000 [00:35<17:16, 93.35it/s]\u001b[A\u001b[A\n",
      "\n",
      "  3%|▎         | 3206/100000 [00:35<18:38, 86.56it/s]\u001b[A\u001b[A\n",
      "\n",
      "  3%|▎         | 3216/100000 [00:35<18:03, 89.36it/s]\u001b[A\u001b[A\n",
      "\n",
      "  3%|▎         | 3227/100000 [00:36<18:00, 89.55it/s]\u001b[A\u001b[A\n",
      "\n",
      "  3%|▎         | 3237/100000 [00:36<19:52, 81.15it/s]\u001b[A\u001b[A\n",
      "\n",
      "  3%|▎         | 3248/100000 [00:36<18:32, 86.93it/s]\u001b[A\u001b[A\n",
      "\n",
      "  3%|▎         | 3257/100000 [00:36<20:40, 78.02it/s]\u001b[A\u001b[A\n",
      "\n",
      "  3%|▎         | 3268/100000 [00:36<18:57, 85.08it/s]\u001b[A\u001b[A\n",
      "\n",
      "  3%|▎         | 3278/100000 [00:36<18:19, 87.97it/s]\u001b[A\u001b[A\n",
      "\n",
      "  3%|▎         | 3288/100000 [00:36<17:55, 89.94it/s]\u001b[A\u001b[A\n",
      "\n",
      "  3%|▎         | 3298/100000 [00:36<17:45, 90.80it/s]\u001b[A\u001b[A\n",
      "\n",
      "  3%|▎         | 3308/100000 [00:37<18:13, 88.45it/s]\u001b[A\u001b[A\n",
      "\n",
      "  3%|▎         | 3317/100000 [00:37<18:19, 87.93it/s]\u001b[A\u001b[A\n",
      "\n",
      "  3%|▎         | 3327/100000 [00:37<17:48, 90.48it/s]\u001b[A\u001b[A\n",
      "\n",
      "  3%|▎         | 3339/100000 [00:37<16:40, 96.63it/s]\u001b[A\u001b[A\n",
      "\n",
      "  3%|▎         | 3350/100000 [00:37<16:19, 98.63it/s]\u001b[A\u001b[A\n",
      "\n",
      "  3%|▎         | 3360/100000 [00:37<20:11, 79.75it/s]\u001b[A\u001b[A\n",
      "\n",
      "  3%|▎         | 3369/100000 [00:37<19:32, 82.41it/s]\u001b[A\u001b[A\n",
      "\n",
      "  3%|▎         | 3378/100000 [00:37<19:10, 84.01it/s]\u001b[A\u001b[A\n",
      "\n",
      "  3%|▎         | 3388/100000 [00:37<19:21, 83.21it/s]\u001b[A\u001b[A\n",
      "\n",
      "  3%|▎         | 3398/100000 [00:38<18:23, 87.55it/s]\u001b[A\u001b[A\n",
      "\n",
      "  3%|▎         | 3407/100000 [00:38<18:31, 86.90it/s]\u001b[A\u001b[A\n",
      "\n",
      "  3%|▎         | 3418/100000 [00:38<17:36, 91.41it/s]\u001b[A\u001b[A\n",
      "\n",
      "  3%|▎         | 3428/100000 [00:38<17:39, 91.15it/s]\u001b[A\u001b[A\n",
      "\n",
      "  3%|▎         | 3438/100000 [00:38<19:28, 82.61it/s]\u001b[A\u001b[A\n",
      "\n",
      "  3%|▎         | 3447/100000 [00:38<19:09, 83.99it/s]\u001b[A\u001b[A\n",
      "\n",
      "  3%|▎         | 3456/100000 [00:38<19:36, 82.09it/s]\u001b[A\u001b[A\n",
      "\n",
      "  3%|▎         | 3465/100000 [00:38<19:33, 82.27it/s]\u001b[A\u001b[A\n",
      "\n",
      "  3%|▎         | 3475/100000 [00:38<18:54, 85.07it/s]\u001b[A\u001b[A\n",
      "\n",
      "  3%|▎         | 3485/100000 [00:39<18:19, 87.79it/s]\u001b[A\u001b[A\n",
      "\n",
      "  3%|▎         | 3494/100000 [00:39<18:16, 87.99it/s]\u001b[A\u001b[A\n",
      "\n",
      "  4%|▎         | 3503/100000 [00:39<20:01, 80.31it/s]\u001b[A\u001b[A\n",
      "\n",
      "  4%|▎         | 3514/100000 [00:39<18:36, 86.44it/s]\u001b[A\u001b[A\n",
      "\n",
      "  4%|▎         | 3523/100000 [00:39<19:23, 82.91it/s]\u001b[A\u001b[A\n",
      "\n",
      "  4%|▎         | 3533/100000 [00:39<18:29, 86.92it/s]\u001b[A\u001b[A\n",
      "\n",
      "  4%|▎         | 3543/100000 [00:39<18:37, 86.33it/s]\u001b[A\u001b[A\n",
      "\n",
      "  4%|▎         | 3554/100000 [00:39<17:44, 90.59it/s]\u001b[A\u001b[A\n",
      "\n",
      "  4%|▎         | 3564/100000 [00:40<18:42, 85.94it/s]\u001b[A\u001b[A\n",
      "\n",
      "  4%|▎         | 3574/100000 [00:40<18:16, 87.92it/s]\u001b[A\u001b[A\n",
      "\n",
      "  4%|▎         | 3584/100000 [00:40<17:48, 90.20it/s]\u001b[A\u001b[A\n",
      "\n",
      "  4%|▎         | 3595/100000 [00:40<17:36, 91.29it/s]\u001b[A\u001b[A\n",
      "\n",
      "  4%|▎         | 3605/100000 [00:40<18:06, 88.76it/s]\u001b[A\u001b[A\n",
      "\n",
      "  4%|▎         | 3616/100000 [00:40<17:08, 93.70it/s]\u001b[A\u001b[A\n",
      "\n",
      "  4%|▎         | 3626/100000 [00:40<17:16, 92.98it/s]\u001b[A\u001b[A\n",
      "\n",
      "  4%|▎         | 3636/100000 [00:40<18:18, 87.69it/s]\u001b[A\u001b[A\n",
      "\n",
      "  4%|▎         | 3647/100000 [00:40<17:31, 91.59it/s]\u001b[A\u001b[A\n",
      "\n",
      "  4%|▎         | 3657/100000 [00:41<18:03, 88.93it/s]\u001b[A\u001b[A\n",
      "\n",
      "  4%|▎         | 3667/100000 [00:41<18:23, 87.28it/s]\u001b[A\u001b[A\n",
      "\n",
      "  4%|▎         | 3677/100000 [00:41<18:02, 88.96it/s]\u001b[A\u001b[A\n",
      "\n",
      "  4%|▎         | 3687/100000 [00:41<17:28, 91.83it/s]\u001b[A\u001b[A\n",
      "\n",
      "  4%|▎         | 3697/100000 [00:41<17:45, 90.38it/s]\u001b[A\u001b[A\n",
      "\n",
      "  4%|▎         | 3707/100000 [00:41<18:39, 86.01it/s]\u001b[A\u001b[A\n",
      "\n",
      "  4%|▎         | 3717/100000 [00:41<18:17, 87.77it/s]\u001b[A\u001b[A\n",
      "\n",
      "  4%|▎         | 3727/100000 [00:41<17:59, 89.20it/s]\u001b[A\u001b[A\n",
      "\n",
      "  4%|▎         | 3737/100000 [00:41<17:28, 91.79it/s]\u001b[A\u001b[A\n",
      "\n",
      "  4%|▎         | 3747/100000 [00:42<17:44, 90.43it/s]\u001b[A\u001b[A\n",
      "\n",
      "  4%|▍         | 3757/100000 [00:42<17:51, 89.79it/s]\u001b[A\u001b[A\n",
      "\n",
      "  4%|▍         | 3767/100000 [00:42<18:28, 86.81it/s]\u001b[A\u001b[A\n",
      "\n",
      "  4%|▍         | 3776/100000 [00:42<19:19, 82.98it/s]\u001b[A\u001b[A\n",
      "\n",
      "  4%|▍         | 3785/100000 [00:42<19:03, 84.16it/s]\u001b[A\u001b[A\n",
      "\n",
      "  4%|▍         | 3796/100000 [00:42<17:49, 89.94it/s]\u001b[A\u001b[A\n",
      "\n",
      "  4%|▍         | 3807/100000 [00:42<16:53, 94.92it/s]\u001b[A\u001b[A\n",
      "\n",
      "  4%|▍         | 3817/100000 [00:42<17:08, 93.54it/s]\u001b[A\u001b[A\n",
      "\n",
      "  4%|▍         | 3827/100000 [00:42<17:48, 89.98it/s]\u001b[A\u001b[A\n",
      "\n",
      "  4%|▍         | 3837/100000 [00:43<17:31, 91.48it/s]\u001b[A\u001b[A\n",
      "\n",
      "  4%|▍         | 3848/100000 [00:43<16:57, 94.46it/s]\u001b[A\u001b[A\n",
      "\n",
      "  4%|▍         | 3858/100000 [00:43<16:44, 95.66it/s]\u001b[A\u001b[A\n",
      "\n",
      "  4%|▍         | 3868/100000 [00:43<18:05, 88.52it/s]\u001b[A\u001b[A\n",
      "\n",
      "  4%|▍         | 3878/100000 [00:43<18:02, 88.76it/s]\u001b[A\u001b[A\n",
      "\n",
      "  4%|▍         | 3889/100000 [00:43<17:05, 93.76it/s]\u001b[A\u001b[A\n",
      "\n",
      "  4%|▍         | 3901/100000 [00:43<16:12, 98.80it/s]\u001b[A\u001b[A\n",
      "\n",
      "  4%|▍         | 3912/100000 [00:43<15:51, 101.00it/s]\u001b[A\u001b[A\n",
      "\n",
      "  4%|▍         | 3923/100000 [00:43<16:34, 96.65it/s] \u001b[A\u001b[A\n",
      "\n",
      "  4%|▍         | 3933/100000 [00:44<17:23, 92.08it/s]\u001b[A\u001b[A\n",
      "\n",
      "  4%|▍         | 3943/100000 [00:44<17:32, 91.24it/s]\u001b[A\u001b[A\n",
      "\n",
      "  4%|▍         | 3953/100000 [00:44<18:57, 84.44it/s]\u001b[A\u001b[A\n",
      "\n",
      "  4%|▍         | 3964/100000 [00:44<17:57, 89.10it/s]\u001b[A\u001b[A\n",
      "\n",
      "  4%|▍         | 3974/100000 [00:44<17:48, 89.90it/s]\u001b[A\u001b[A\n",
      "\n",
      "  4%|▍         | 3984/100000 [00:44<17:26, 91.79it/s]\u001b[A\u001b[A\n",
      "\n",
      "  4%|▍         | 3995/100000 [00:44<16:37, 96.24it/s]\u001b[A\u001b[A\n",
      "\n",
      "  4%|▍         | 4005/100000 [00:44<16:35, 96.46it/s]\u001b[A\u001b[A\n",
      "\n",
      "  4%|▍         | 4015/100000 [00:44<16:28, 97.09it/s]\u001b[A\u001b[A\n",
      "\n",
      "  4%|▍         | 4025/100000 [00:45<16:43, 95.64it/s]\u001b[A\u001b[A\n",
      "\n",
      "  4%|▍         | 4035/100000 [00:45<16:45, 95.39it/s]\u001b[A\u001b[A\n",
      "\n",
      "  4%|▍         | 4045/100000 [00:45<16:41, 95.84it/s]\u001b[A\u001b[A\n",
      "\n",
      "  4%|▍         | 4056/100000 [00:45<16:26, 97.26it/s]\u001b[A\u001b[A\n",
      "\n",
      "  4%|▍         | 4066/100000 [00:45<17:16, 92.51it/s]\u001b[A\u001b[A\n",
      "\n"
     ]
    },
    {
     "name": "stderr",
     "output_type": "stream",
     "text": [
      "  4%|▍         | 4076/100000 [00:45<17:20, 92.23it/s]\u001b[A\u001b[A\n",
      "\n",
      "  4%|▍         | 4086/100000 [00:45<17:20, 92.17it/s]\u001b[A\u001b[A\n",
      "\n",
      "  4%|▍         | 4096/100000 [00:45<17:53, 89.33it/s]\u001b[A\u001b[A\n",
      "\n",
      "  4%|▍         | 4105/100000 [00:45<18:05, 88.34it/s]\u001b[A\u001b[A\n",
      "\n",
      "  4%|▍         | 4115/100000 [00:46<18:05, 88.31it/s]\u001b[A\u001b[A\n",
      "\n",
      "  4%|▍         | 4124/100000 [00:46<19:00, 84.08it/s]\u001b[A\u001b[A\n",
      "\n",
      "  4%|▍         | 4134/100000 [00:46<18:19, 87.16it/s]\u001b[A\u001b[A\n",
      "\n",
      "  4%|▍         | 4144/100000 [00:46<17:39, 90.49it/s]\u001b[A\u001b[A\n",
      "\n",
      "  4%|▍         | 4154/100000 [00:46<18:27, 86.50it/s]\u001b[A\u001b[A\n",
      "\n",
      "  4%|▍         | 4163/100000 [00:46<18:53, 84.52it/s]\u001b[A\u001b[A\n",
      "\n",
      "  4%|▍         | 4173/100000 [00:46<18:20, 87.08it/s]\u001b[A\u001b[A\n",
      "\n",
      "  4%|▍         | 4183/100000 [00:46<17:50, 89.50it/s]\u001b[A\u001b[A\n",
      "\n",
      "  4%|▍         | 4193/100000 [00:46<17:27, 91.47it/s]\u001b[A\u001b[A\n",
      "\n",
      "  4%|▍         | 4203/100000 [00:47<17:14, 92.58it/s]\u001b[A\u001b[A\n",
      "\n",
      "  4%|▍         | 4213/100000 [00:47<17:08, 93.12it/s]\u001b[A\u001b[A\n",
      "\n",
      "  4%|▍         | 4224/100000 [00:47<16:31, 96.58it/s]\u001b[A\u001b[A\n",
      "\n",
      "  4%|▍         | 4234/100000 [00:47<17:03, 93.61it/s]\u001b[A\u001b[A\n",
      "\n",
      "  4%|▍         | 4245/100000 [00:47<17:36, 90.67it/s]\u001b[A\u001b[A\n",
      "\n",
      "  4%|▍         | 4255/100000 [00:47<17:45, 89.85it/s]\u001b[A\u001b[A\n",
      "\n",
      "  4%|▍         | 4265/100000 [00:47<17:51, 89.31it/s]\u001b[A\u001b[A\n",
      "\n",
      "  4%|▍         | 4275/100000 [00:47<17:30, 91.12it/s]\u001b[A\u001b[A\n",
      "\n",
      "  4%|▍         | 4285/100000 [00:47<18:30, 86.21it/s]\u001b[A\u001b[A\n",
      "\n",
      "  4%|▍         | 4294/100000 [00:48<20:18, 78.53it/s]\u001b[A\u001b[A\n",
      "\n",
      "  4%|▍         | 4304/100000 [00:48<19:13, 82.95it/s]\u001b[A\u001b[A\n",
      "\n",
      "  4%|▍         | 4313/100000 [00:48<19:15, 82.80it/s]\u001b[A\u001b[A\n",
      "\n",
      "  4%|▍         | 4322/100000 [00:48<19:27, 81.94it/s]\u001b[A\u001b[A\n",
      "\n",
      "  4%|▍         | 4331/100000 [00:48<19:13, 82.97it/s]\u001b[A\u001b[A\n",
      "\n",
      "  4%|▍         | 4342/100000 [00:48<18:02, 88.36it/s]\u001b[A\u001b[A\n",
      "\n",
      "  4%|▍         | 4352/100000 [00:48<17:40, 90.20it/s]\u001b[A\u001b[A\n",
      "\n",
      "  4%|▍         | 4363/100000 [00:48<16:50, 94.64it/s]\u001b[A\u001b[A\n",
      "\n",
      "  4%|▍         | 4373/100000 [00:48<17:04, 93.34it/s]\u001b[A\u001b[A\n",
      "\n",
      "  4%|▍         | 4383/100000 [00:49<17:06, 93.11it/s]\u001b[A\u001b[A\n",
      "\n",
      "  4%|▍         | 4393/100000 [00:49<17:17, 92.19it/s]\u001b[A\u001b[A\n",
      "\n",
      "  4%|▍         | 4403/100000 [00:49<16:59, 93.76it/s]\u001b[A\u001b[A\n",
      "\n",
      "  4%|▍         | 4413/100000 [00:49<16:50, 94.61it/s]\u001b[A\u001b[A\n",
      "\n",
      "  4%|▍         | 4423/100000 [00:49<16:44, 95.16it/s]\u001b[A\u001b[A\n",
      "\n",
      "  4%|▍         | 4433/100000 [00:49<16:55, 94.08it/s]\u001b[A\u001b[A\n",
      "\n",
      "  4%|▍         | 4443/100000 [00:49<17:39, 90.17it/s]\u001b[A\u001b[A\n",
      "\n",
      "  4%|▍         | 4453/100000 [00:49<18:01, 88.31it/s]\u001b[A\u001b[A\n",
      "\n",
      "  4%|▍         | 4463/100000 [00:49<17:56, 88.72it/s]\u001b[A\u001b[A\n",
      "\n",
      "  4%|▍         | 4472/100000 [00:50<17:57, 88.64it/s]\u001b[A\u001b[A\n",
      "\n",
      "  4%|▍         | 4483/100000 [00:50<16:58, 93.80it/s]\u001b[A\u001b[A\n",
      "\n",
      "  4%|▍         | 4494/100000 [00:50<16:38, 95.67it/s]\u001b[A\u001b[A\n",
      "\n",
      "  5%|▍         | 4504/100000 [00:50<16:37, 95.74it/s]\u001b[A\u001b[A\n",
      "\n",
      "  5%|▍         | 4514/100000 [00:50<18:09, 87.64it/s]\u001b[A\u001b[A\n",
      "\n",
      "  5%|▍         | 4523/100000 [00:50<18:41, 85.13it/s]\u001b[A\u001b[A\n",
      "\n",
      "  5%|▍         | 4532/100000 [00:50<18:32, 85.79it/s]\u001b[A\u001b[A\n",
      "\n",
      "  5%|▍         | 4541/100000 [00:50<18:50, 84.41it/s]\u001b[A\u001b[A\n",
      "\n",
      "  5%|▍         | 4550/100000 [00:50<19:07, 83.16it/s]\u001b[A\u001b[A\n",
      "\n",
      "  5%|▍         | 4559/100000 [00:51<18:57, 83.91it/s]\u001b[A\u001b[A\n",
      "\n",
      "  5%|▍         | 4570/100000 [00:51<18:02, 88.14it/s]\u001b[A\u001b[A\n",
      "\n",
      "  5%|▍         | 4579/100000 [00:51<18:54, 84.14it/s]\u001b[A\u001b[A\n",
      "\n",
      "  5%|▍         | 4589/100000 [00:51<18:11, 87.38it/s]\u001b[A\u001b[A\n",
      "\n",
      "  5%|▍         | 4600/100000 [00:51<17:05, 93.03it/s]\u001b[A\u001b[A\n",
      "\n",
      "  5%|▍         | 4610/100000 [00:51<17:30, 90.77it/s]\u001b[A\u001b[A\n",
      "\n",
      "  5%|▍         | 4620/100000 [00:51<17:30, 90.80it/s]\u001b[A\u001b[A\n",
      "\n",
      "  5%|▍         | 4630/100000 [00:51<17:21, 91.60it/s]\u001b[A\u001b[A\n",
      "\n",
      "  5%|▍         | 4641/100000 [00:51<16:52, 94.21it/s]\u001b[A\u001b[A\n",
      "\n",
      "  5%|▍         | 4653/100000 [00:51<16:05, 98.74it/s]\u001b[A\u001b[A\n",
      "\n",
      "  5%|▍         | 4663/100000 [00:52<17:08, 92.71it/s]\u001b[A\u001b[A\n",
      "\n",
      "  5%|▍         | 4674/100000 [00:52<16:24, 96.86it/s]\u001b[A\u001b[A\n",
      "\n",
      "  5%|▍         | 4684/100000 [00:52<16:30, 96.25it/s]\u001b[A\u001b[A\n",
      "\n",
      "  5%|▍         | 4694/100000 [00:52<16:48, 94.55it/s]\u001b[A\u001b[A\n",
      "\n",
      "  5%|▍         | 4704/100000 [00:52<16:36, 95.61it/s]\u001b[A\u001b[A\n",
      "\n",
      "  5%|▍         | 4715/100000 [00:52<16:04, 98.75it/s]\u001b[A\u001b[A\n",
      "\n",
      "  5%|▍         | 4725/100000 [00:52<16:11, 98.12it/s]\u001b[A\u001b[A\n",
      "\n",
      "  5%|▍         | 4735/100000 [00:52<18:21, 86.51it/s]\u001b[A\u001b[A\n",
      "\n",
      "  5%|▍         | 4746/100000 [00:52<17:13, 92.21it/s]\u001b[A\u001b[A\n",
      "\n",
      "  5%|▍         | 4756/100000 [00:53<17:17, 91.81it/s]\u001b[A\u001b[A\n",
      "\n",
      "  5%|▍         | 4766/100000 [00:53<17:48, 89.10it/s]\u001b[A\u001b[A\n",
      "\n",
      "  5%|▍         | 4776/100000 [00:53<18:58, 83.64it/s]\u001b[A\u001b[A\n",
      "\n",
      "  5%|▍         | 4786/100000 [00:53<18:12, 87.17it/s]\u001b[A\u001b[A\n",
      "\n",
      "  5%|▍         | 4795/100000 [00:53<19:02, 83.31it/s]\u001b[A\u001b[A\n",
      "\n",
      "  5%|▍         | 4805/100000 [00:53<18:24, 86.15it/s]\u001b[A\u001b[A\n",
      "\n",
      "  5%|▍         | 4816/100000 [00:53<17:39, 89.86it/s]\u001b[A\u001b[A\n",
      "\n",
      "  5%|▍         | 4826/100000 [00:53<18:29, 85.78it/s]\u001b[A\u001b[A\n",
      "\n",
      "  5%|▍         | 4836/100000 [00:54<17:53, 88.65it/s]\u001b[A\u001b[A\n",
      "\n",
      "  5%|▍         | 4848/100000 [00:54<16:39, 95.15it/s]\u001b[A\u001b[A\n",
      "\n",
      "  5%|▍         | 4858/100000 [00:54<16:42, 94.90it/s]\u001b[A\u001b[A\n",
      "\n",
      "  5%|▍         | 4868/100000 [00:54<16:49, 94.20it/s]\u001b[A\u001b[A\n",
      "\n",
      "  5%|▍         | 4880/100000 [00:54<16:39, 95.16it/s]\u001b[A\u001b[A\n",
      "\n",
      "  5%|▍         | 4890/100000 [00:54<16:26, 96.43it/s]\u001b[A\u001b[A\n",
      "\n",
      "  5%|▍         | 4900/100000 [00:54<16:50, 94.15it/s]\u001b[A\u001b[A\n",
      "\n",
      "  5%|▍         | 4910/100000 [00:54<17:23, 91.12it/s]\u001b[A\u001b[A\n",
      "\n",
      "  5%|▍         | 4920/100000 [00:54<17:30, 90.47it/s]\u001b[A\u001b[A\n",
      "\n",
      "  5%|▍         | 4931/100000 [00:55<16:55, 93.64it/s]\u001b[A\u001b[A\n",
      "\n",
      "  5%|▍         | 4941/100000 [00:55<17:55, 88.40it/s]\u001b[A\u001b[A\n",
      "\n",
      "  5%|▍         | 4952/100000 [00:55<17:12, 92.02it/s]\u001b[A\u001b[A\n",
      "\n",
      "  5%|▍         | 4962/100000 [00:55<16:57, 93.40it/s]\u001b[A\u001b[A\n",
      "\n",
      "  5%|▍         | 4972/100000 [00:55<18:52, 83.91it/s]\u001b[A\u001b[A\n",
      "\n",
      "  5%|▍         | 4981/100000 [00:55<18:35, 85.18it/s]\u001b[A\u001b[A\n",
      "\n",
      "  5%|▍         | 4992/100000 [00:55<17:40, 89.62it/s]\u001b[A\u001b[A\n",
      "\n",
      "  5%|▌         | 5002/100000 [00:55<17:19, 91.41it/s]\u001b[A\u001b[A\n",
      "\n",
      "  5%|▌         | 5014/100000 [00:55<16:17, 97.14it/s]\u001b[A\u001b[A\n",
      "\n",
      "  5%|▌         | 5024/100000 [00:56<17:11, 92.11it/s]\u001b[A\u001b[A\n",
      "\n",
      "  5%|▌         | 5035/100000 [00:56<16:28, 96.05it/s]\u001b[A\u001b[A\n",
      "\n",
      "  5%|▌         | 5046/100000 [00:56<16:09, 97.94it/s]\u001b[A\u001b[A\n",
      "\n",
      "  5%|▌         | 5056/100000 [00:56<17:46, 89.05it/s]\u001b[A\u001b[A\n",
      "\n",
      "  5%|▌         | 5066/100000 [00:56<18:26, 85.80it/s]\u001b[A\u001b[A\n",
      "\n",
      "  5%|▌         | 5076/100000 [00:56<18:04, 87.56it/s]\u001b[A\u001b[A\n",
      "\n",
      "  5%|▌         | 5085/100000 [00:56<20:44, 76.25it/s]\u001b[A\u001b[A\n",
      "\n",
      "  5%|▌         | 5095/100000 [00:56<19:25, 81.42it/s]\u001b[A\u001b[A\n",
      "\n",
      "  5%|▌         | 5104/100000 [00:56<19:31, 81.04it/s]\u001b[A\u001b[A\n",
      "\n",
      "  5%|▌         | 5115/100000 [00:57<18:11, 86.96it/s]\u001b[A\u001b[A\n",
      "\n",
      "  5%|▌         | 5125/100000 [00:57<17:47, 88.90it/s]\u001b[A\u001b[A\n",
      "\n",
      "  5%|▌         | 5135/100000 [00:57<17:46, 88.96it/s]\u001b[A\u001b[A\n",
      "\n",
      "  5%|▌         | 5145/100000 [00:57<17:49, 88.71it/s]\u001b[A\u001b[A\n",
      "\n",
      "  5%|▌         | 5155/100000 [00:57<18:00, 87.82it/s]\u001b[A\u001b[A\n",
      "\n",
      "  5%|▌         | 5166/100000 [00:57<17:15, 91.59it/s]\u001b[A\u001b[A\n",
      "\n",
      "  5%|▌         | 5176/100000 [00:57<17:01, 92.80it/s]\u001b[A\u001b[A\n",
      "\n",
      "  5%|▌         | 5186/100000 [00:57<17:01, 92.84it/s]\u001b[A\u001b[A\n",
      "\n",
      "  5%|▌         | 5196/100000 [00:57<18:06, 87.27it/s]\u001b[A\u001b[A\n",
      "\n",
      "  5%|▌         | 5205/100000 [00:58<17:57, 88.01it/s]\u001b[A\u001b[A\n",
      "\n",
      "  5%|▌         | 5216/100000 [00:58<17:02, 92.70it/s]\u001b[A\u001b[A\n",
      "\n",
      "  5%|▌         | 5226/100000 [00:58<17:48, 88.69it/s]\u001b[A\u001b[A\n",
      "\n",
      "  5%|▌         | 5235/100000 [00:58<17:57, 87.92it/s]\u001b[A\u001b[A\n",
      "\n",
      "  5%|▌         | 5246/100000 [00:58<17:15, 91.51it/s]\u001b[A\u001b[A\n",
      "\n",
      "  5%|▌         | 5256/100000 [00:58<16:49, 93.85it/s]\u001b[A\u001b[A\n",
      "\n",
      "  5%|▌         | 5266/100000 [00:58<16:45, 94.19it/s]\u001b[A\u001b[A\n",
      "\n",
      "  5%|▌         | 5276/100000 [00:58<16:32, 95.42it/s]\u001b[A\u001b[A\n",
      "\n",
      "  5%|▌         | 5286/100000 [00:58<16:48, 93.94it/s]\u001b[A\u001b[A\n",
      "\n",
      "  5%|▌         | 5296/100000 [00:59<16:45, 94.20it/s]\u001b[A\u001b[A\n",
      "\n",
      "  5%|▌         | 5306/100000 [00:59<17:22, 90.83it/s]\u001b[A\u001b[A\n",
      "\n",
      "  5%|▌         | 5316/100000 [00:59<18:24, 85.70it/s]\u001b[A\u001b[A\n",
      "\n",
      "  5%|▌         | 5325/100000 [00:59<18:43, 84.29it/s]\u001b[A\u001b[A\n",
      "\n",
      "  5%|▌         | 5334/100000 [00:59<18:24, 85.72it/s]\u001b[A\u001b[A\n",
      "\n",
      "  5%|▌         | 5344/100000 [00:59<18:17, 86.28it/s]\u001b[A\u001b[A\n",
      "\n",
      "  5%|▌         | 5355/100000 [00:59<17:40, 89.21it/s]\u001b[A\u001b[A\n",
      "\n",
      "  5%|▌         | 5364/100000 [00:59<17:54, 88.11it/s]\u001b[A\u001b[A\n",
      "\n",
      "  5%|▌         | 5373/100000 [00:59<18:27, 85.43it/s]\u001b[A\u001b[A\n",
      "\n",
      "  5%|▌         | 5382/100000 [01:00<19:15, 81.87it/s]\u001b[A\u001b[A\n",
      "\n",
      "  5%|▌         | 5391/100000 [01:00<20:05, 78.47it/s]\u001b[A\u001b[A\n",
      "\n",
      "  5%|▌         | 5401/100000 [01:00<19:14, 81.95it/s]\u001b[A\u001b[A\n",
      "\n",
      "  5%|▌         | 5410/100000 [01:00<19:24, 81.25it/s]\u001b[A\u001b[A\n",
      "\n"
     ]
    },
    {
     "name": "stderr",
     "output_type": "stream",
     "text": [
      "  5%|▌         | 5419/100000 [01:00<19:10, 82.23it/s]\u001b[A\u001b[A\n",
      "\n",
      "  5%|▌         | 5428/100000 [01:00<19:45, 79.78it/s]\u001b[A\u001b[A\n",
      "\n",
      "  5%|▌         | 5438/100000 [01:00<18:47, 83.83it/s]\u001b[A\u001b[A\n",
      "\n",
      "  5%|▌         | 5448/100000 [01:00<18:16, 86.23it/s]\u001b[A\u001b[A\n",
      "\n",
      "  5%|▌         | 5457/100000 [01:00<18:34, 84.81it/s]\u001b[A\u001b[A\n",
      "\n",
      "  5%|▌         | 5467/100000 [01:01<17:46, 88.64it/s]\u001b[A\u001b[A\n",
      "\n",
      "  5%|▌         | 5476/100000 [01:01<18:14, 86.35it/s]\u001b[A\u001b[A\n",
      "\n",
      "  5%|▌         | 5487/100000 [01:01<17:12, 91.54it/s]\u001b[A\u001b[A\n",
      "\n",
      "  5%|▌         | 5497/100000 [01:01<17:09, 91.82it/s]\u001b[A\u001b[A\n",
      "\n",
      "  6%|▌         | 5508/100000 [01:01<16:46, 93.86it/s]\u001b[A\u001b[A\n",
      "\n",
      "  6%|▌         | 5518/100000 [01:01<16:55, 93.02it/s]\u001b[A\u001b[A\n",
      "\n",
      "  6%|▌         | 5528/100000 [01:01<16:54, 93.09it/s]\u001b[A\u001b[A\n",
      "\n",
      "  6%|▌         | 5538/100000 [01:01<19:33, 80.48it/s]\u001b[A\u001b[A\n",
      "\n",
      "  6%|▌         | 5547/100000 [01:02<20:08, 78.14it/s]\u001b[A\u001b[A\n",
      "\n",
      "  6%|▌         | 5557/100000 [01:02<19:03, 82.61it/s]\u001b[A\u001b[A\n",
      "\n",
      "  6%|▌         | 5567/100000 [01:02<18:42, 84.11it/s]\u001b[A\u001b[A\n",
      "\n",
      "  6%|▌         | 5576/100000 [01:02<19:57, 78.87it/s]\u001b[A\u001b[A\n",
      "\n",
      "  6%|▌         | 5588/100000 [01:02<18:03, 87.13it/s]\u001b[A\u001b[A\n",
      "\n",
      "  6%|▌         | 5598/100000 [01:02<19:43, 79.79it/s]\u001b[A\u001b[A\n",
      "\n",
      "  6%|▌         | 5609/100000 [01:02<18:46, 83.80it/s]\u001b[A\u001b[A\n",
      "\n",
      "  6%|▌         | 5620/100000 [01:02<17:33, 89.56it/s]\u001b[A\u001b[A\n",
      "\n",
      "  6%|▌         | 5630/100000 [01:02<17:02, 92.31it/s]\u001b[A\u001b[A\n",
      "\n",
      "  6%|▌         | 5641/100000 [01:03<16:33, 94.97it/s]\u001b[A\u001b[A\n",
      "\n",
      "  6%|▌         | 5651/100000 [01:03<17:15, 91.13it/s]\u001b[A\u001b[A\n",
      "\n",
      "  6%|▌         | 5662/100000 [01:03<16:32, 95.08it/s]\u001b[A\u001b[A\n",
      "\n",
      "  6%|▌         | 5672/100000 [01:03<16:45, 93.85it/s]\u001b[A\u001b[A\n",
      "\n",
      "  6%|▌         | 5683/100000 [01:03<16:26, 95.58it/s]\u001b[A\u001b[A\n",
      "\n",
      "  6%|▌         | 5693/100000 [01:03<16:28, 95.37it/s]\u001b[A\u001b[A\n",
      "\n",
      "  6%|▌         | 5705/100000 [01:03<15:50, 99.17it/s]\u001b[A\u001b[A\n",
      "\n",
      "  6%|▌         | 5716/100000 [01:03<15:50, 99.20it/s]\u001b[A\u001b[A\n",
      "\n",
      "  6%|▌         | 5727/100000 [01:03<15:33, 101.01it/s]\u001b[A\u001b[A\n",
      "\n",
      "  6%|▌         | 5738/100000 [01:04<15:33, 100.99it/s]\u001b[A\u001b[A\n",
      "\n",
      "  6%|▌         | 5749/100000 [01:04<15:52, 98.93it/s] \u001b[A\u001b[A\n",
      "\n",
      "  6%|▌         | 5760/100000 [01:04<15:43, 99.88it/s]\u001b[A\u001b[A\n",
      "\n",
      "  6%|▌         | 5771/100000 [01:04<18:21, 85.53it/s]\u001b[A\u001b[A\n",
      "\n",
      "  6%|▌         | 5781/100000 [01:04<17:49, 88.10it/s]\u001b[A\u001b[A\n",
      "\n",
      "  6%|▌         | 5791/100000 [01:04<18:16, 85.93it/s]\u001b[A\u001b[A\n",
      "\n",
      "  6%|▌         | 5800/100000 [01:04<18:11, 86.31it/s]\u001b[A\u001b[A\n",
      "\n",
      "  6%|▌         | 5810/100000 [01:04<17:41, 88.71it/s]\u001b[A\u001b[A\n",
      "\n",
      "  6%|▌         | 5819/100000 [01:04<18:15, 85.93it/s]\u001b[A\u001b[A\n",
      "\n",
      "  6%|▌         | 5828/100000 [01:05<18:05, 86.77it/s]\u001b[A\u001b[A\n",
      "\n",
      "  6%|▌         | 5839/100000 [01:05<17:14, 91.00it/s]\u001b[A\u001b[A\n",
      "\n",
      "  6%|▌         | 5849/100000 [01:05<17:24, 90.14it/s]\u001b[A\u001b[A\n",
      "\n",
      "  6%|▌         | 5859/100000 [01:05<17:09, 91.47it/s]\u001b[A\u001b[A\n",
      "\n",
      "  6%|▌         | 5869/100000 [01:05<17:19, 90.55it/s]\u001b[A\u001b[A\n",
      "\n",
      "  6%|▌         | 5879/100000 [01:05<19:33, 80.17it/s]\u001b[A\u001b[A\n",
      "\n",
      "  6%|▌         | 5888/100000 [01:05<20:26, 76.71it/s]\u001b[A\u001b[A\n",
      "\n",
      "  6%|▌         | 5899/100000 [01:05<18:51, 83.13it/s]\u001b[A\u001b[A\n",
      "\n",
      "  6%|▌         | 5908/100000 [01:06<19:34, 80.14it/s]\u001b[A\u001b[A\n",
      "\n",
      "  6%|▌         | 5917/100000 [01:06<19:23, 80.86it/s]\u001b[A\u001b[A\n",
      "\n",
      "  6%|▌         | 5929/100000 [01:06<17:49, 87.92it/s]\u001b[A\u001b[A\n",
      "\n",
      "  6%|▌         | 5939/100000 [01:06<17:33, 89.33it/s]\u001b[A\u001b[A\n",
      "\n",
      "  6%|▌         | 5949/100000 [01:06<17:45, 88.25it/s]\u001b[A\u001b[A\n",
      "\n",
      "  6%|▌         | 5959/100000 [01:06<17:24, 90.06it/s]\u001b[A\u001b[A\n",
      "\n",
      "  6%|▌         | 5969/100000 [01:06<17:25, 89.97it/s]\u001b[A\u001b[A\n",
      "\n",
      "  6%|▌         | 5979/100000 [01:06<17:29, 89.60it/s]\u001b[A\u001b[A\n",
      "\n",
      "  6%|▌         | 5989/100000 [01:06<17:54, 87.50it/s]\u001b[A\u001b[A\n",
      "\n",
      "  6%|▌         | 5999/100000 [01:07<17:19, 90.47it/s]\u001b[A\u001b[A\n",
      "\n",
      "  6%|▌         | 6010/100000 [01:07<16:45, 93.47it/s]\u001b[A\u001b[A\n",
      "\n",
      "  6%|▌         | 6020/100000 [01:07<18:44, 83.59it/s]\u001b[A\u001b[A\n",
      "\n",
      "  6%|▌         | 6031/100000 [01:07<17:32, 89.27it/s]\u001b[A\u001b[A\n",
      "\n",
      "  6%|▌         | 6041/100000 [01:07<17:22, 90.15it/s]\u001b[A\u001b[A\n",
      "\n",
      "  6%|▌         | 6052/100000 [01:07<16:46, 93.34it/s]\u001b[A\u001b[A\n",
      "\n",
      "  6%|▌         | 6062/100000 [01:07<16:35, 94.39it/s]\u001b[A\u001b[A\n",
      "\n",
      "  6%|▌         | 6073/100000 [01:07<16:06, 97.22it/s]\u001b[A\u001b[A\n",
      "\n",
      "  6%|▌         | 6083/100000 [01:07<19:07, 81.85it/s]\u001b[A\u001b[A\n",
      "\n",
      "  6%|▌         | 6092/100000 [01:08<18:40, 83.79it/s]\u001b[A\u001b[A\n",
      "\n",
      "  6%|▌         | 6101/100000 [01:08<18:25, 84.92it/s]\u001b[A\u001b[A\n",
      "\n",
      "  6%|▌         | 6110/100000 [01:08<18:10, 86.07it/s]\u001b[A\u001b[A\n",
      "\n",
      "  6%|▌         | 6119/100000 [01:08<18:00, 86.86it/s]\u001b[A\u001b[A\n",
      "\n",
      "  6%|▌         | 6128/100000 [01:08<18:10, 86.11it/s]\u001b[A\u001b[A\n",
      "\n",
      "  6%|▌         | 6138/100000 [01:08<17:39, 88.60it/s]\u001b[A\u001b[A\n",
      "\n",
      "  6%|▌         | 6149/100000 [01:08<16:50, 92.88it/s]\u001b[A\u001b[A\n",
      "\n",
      "  6%|▌         | 6159/100000 [01:08<16:46, 93.23it/s]\u001b[A\u001b[A\n",
      "\n",
      "  6%|▌         | 6169/100000 [01:08<17:56, 87.14it/s]\u001b[A\u001b[A\n",
      "\n",
      "  6%|▌         | 6179/100000 [01:09<18:02, 86.67it/s]\u001b[A\u001b[A\n",
      "\n",
      "  6%|▌         | 6190/100000 [01:09<17:04, 91.58it/s]\u001b[A\u001b[A\n",
      "\n",
      "  6%|▌         | 6200/100000 [01:09<17:47, 87.88it/s]\u001b[A\u001b[A\n",
      "\n",
      "  6%|▌         | 6211/100000 [01:09<17:38, 88.62it/s]\u001b[A\u001b[A\n",
      "\n",
      "  6%|▌         | 6221/100000 [01:09<17:19, 90.23it/s]\u001b[A\u001b[A\n",
      "\n",
      "  6%|▌         | 6231/100000 [01:09<17:55, 87.19it/s]\u001b[A\u001b[A\n",
      "\n",
      "  6%|▌         | 6240/100000 [01:09<17:57, 87.00it/s]\u001b[A\u001b[A\n",
      "\n",
      "  6%|▋         | 6250/100000 [01:09<17:22, 89.97it/s]\u001b[A\u001b[A\n",
      "\n",
      "  6%|▋         | 6262/100000 [01:09<16:57, 92.08it/s]\u001b[A\u001b[A\n",
      "\n",
      "  6%|▋         | 6272/100000 [01:10<16:45, 93.23it/s]\u001b[A\u001b[A\n",
      "\n",
      "  6%|▋         | 6283/100000 [01:10<16:17, 95.83it/s]\u001b[A\u001b[A\n",
      "\n",
      "  6%|▋         | 6293/100000 [01:10<17:18, 90.26it/s]\u001b[A\u001b[A\n",
      "\n",
      "  6%|▋         | 6303/100000 [01:10<18:13, 85.69it/s]\u001b[A\u001b[A\n",
      "\n",
      "  6%|▋         | 6313/100000 [01:10<17:54, 87.19it/s]\u001b[A\u001b[A\n",
      "\n",
      "  6%|▋         | 6322/100000 [01:10<18:53, 82.68it/s]\u001b[A\u001b[A\n",
      "\n",
      "  6%|▋         | 6331/100000 [01:10<19:30, 80.04it/s]\u001b[A\u001b[A\n",
      "\n",
      "  6%|▋         | 6340/100000 [01:10<19:48, 78.79it/s]\u001b[A\u001b[A\n",
      "\n",
      "  6%|▋         | 6348/100000 [01:11<19:54, 78.42it/s]\u001b[A\u001b[A\n",
      "\n",
      "  6%|▋         | 6358/100000 [01:11<18:39, 83.65it/s]\u001b[A\u001b[A\n",
      "\n",
      "  6%|▋         | 6369/100000 [01:11<17:21, 89.94it/s]\u001b[A\u001b[A\n",
      "\n",
      "  6%|▋         | 6379/100000 [01:11<17:15, 90.38it/s]\u001b[A\u001b[A\n",
      "\n",
      "  6%|▋         | 6390/100000 [01:11<16:26, 94.91it/s]\u001b[A\u001b[A\n",
      "\n",
      "  6%|▋         | 6400/100000 [01:11<16:28, 94.71it/s]\u001b[A\u001b[A\n",
      "\n",
      "  6%|▋         | 6411/100000 [01:11<16:14, 96.08it/s]\u001b[A\u001b[A\n",
      "\n",
      "  6%|▋         | 6421/100000 [01:11<20:16, 76.94it/s]\u001b[A\u001b[A\n",
      "\n",
      "  6%|▋         | 6432/100000 [01:11<18:40, 83.47it/s]\u001b[A\u001b[A\n",
      "\n",
      "  6%|▋         | 6443/100000 [01:12<17:21, 89.80it/s]\u001b[A\u001b[A\n",
      "\n",
      "  6%|▋         | 6453/100000 [01:12<17:25, 89.51it/s]\u001b[A\u001b[A\n",
      "\n",
      "  6%|▋         | 6463/100000 [01:12<17:20, 89.89it/s]\u001b[A\u001b[A\n",
      "\n",
      "  6%|▋         | 6473/100000 [01:12<17:05, 91.18it/s]\u001b[A\u001b[A\n",
      "\n",
      "  6%|▋         | 6484/100000 [01:12<16:38, 93.66it/s]\u001b[A\u001b[A\n",
      "\n",
      "  6%|▋         | 6494/100000 [01:12<17:01, 91.58it/s]\u001b[A\u001b[A\n",
      "\n",
      "  7%|▋         | 6504/100000 [01:12<17:27, 89.24it/s]\u001b[A\u001b[A\n",
      "\n",
      "  7%|▋         | 6515/100000 [01:12<16:57, 91.85it/s]\u001b[A\u001b[A\n",
      "\n",
      "  7%|▋         | 6526/100000 [01:12<16:31, 94.23it/s]\u001b[A\u001b[A\n",
      "\n",
      "  7%|▋         | 6536/100000 [01:13<16:16, 95.67it/s]\u001b[A\u001b[A\n",
      "\n",
      "  7%|▋         | 6546/100000 [01:13<16:22, 95.11it/s]\u001b[A\u001b[A\n",
      "\n",
      "  7%|▋         | 6556/100000 [01:13<16:49, 92.55it/s]\u001b[A\u001b[A\n",
      "\n",
      "  7%|▋         | 6566/100000 [01:13<17:06, 91.03it/s]\u001b[A\u001b[A\n",
      "\n",
      "  7%|▋         | 6576/100000 [01:13<16:43, 93.11it/s]\u001b[A\u001b[A\n",
      "\n",
      "  7%|▋         | 6587/100000 [01:13<16:17, 95.53it/s]\u001b[A\u001b[A\n",
      "\n",
      "  7%|▋         | 6597/100000 [01:13<16:26, 94.66it/s]\u001b[A\u001b[A\n",
      "\n",
      "  7%|▋         | 6607/100000 [01:13<16:17, 95.59it/s]\u001b[A\u001b[A\n",
      "\n",
      "  7%|▋         | 6617/100000 [01:13<16:42, 93.17it/s]\u001b[A\u001b[A\n",
      "\n",
      "  7%|▋         | 6628/100000 [01:14<16:10, 96.17it/s]\u001b[A\u001b[A\n",
      "\n",
      "  7%|▋         | 6638/100000 [01:14<16:08, 96.43it/s]\u001b[A\u001b[A\n",
      "\n",
      "  7%|▋         | 6648/100000 [01:14<16:29, 94.31it/s]\u001b[A\u001b[A\n",
      "\n",
      "  7%|▋         | 6658/100000 [01:14<16:33, 93.93it/s]\u001b[A\u001b[A\n",
      "\n",
      "  7%|▋         | 6668/100000 [01:14<16:58, 91.62it/s]\u001b[A\u001b[A\n",
      "\n",
      "  7%|▋         | 6678/100000 [01:14<17:05, 90.99it/s]\u001b[A\u001b[A\n",
      "\n",
      "  7%|▋         | 6688/100000 [01:14<17:37, 88.20it/s]\u001b[A\u001b[A\n",
      "\n",
      "  7%|▋         | 6697/100000 [01:14<17:40, 87.99it/s]\u001b[A\u001b[A\n",
      "\n",
      "  7%|▋         | 6707/100000 [01:14<17:13, 90.31it/s]\u001b[A\u001b[A\n",
      "\n",
      "  7%|▋         | 6717/100000 [01:15<17:22, 89.47it/s]\u001b[A\u001b[A\n",
      "\n",
      "  7%|▋         | 6727/100000 [01:15<17:07, 90.74it/s]\u001b[A\u001b[A\n",
      "\n",
      "  7%|▋         | 6737/100000 [01:15<17:55, 86.74it/s]\u001b[A\u001b[A\n",
      "\n",
      "  7%|▋         | 6746/100000 [01:15<18:16, 85.08it/s]\u001b[A\u001b[A\n",
      "\n",
      "  7%|▋         | 6755/100000 [01:15<19:02, 81.63it/s]\u001b[A\u001b[A\n",
      "\n",
      "  7%|▋         | 6766/100000 [01:15<17:38, 88.08it/s]\u001b[A\u001b[A\n",
      "\n"
     ]
    },
    {
     "name": "stderr",
     "output_type": "stream",
     "text": [
      "  7%|▋         | 6776/100000 [01:15<17:15, 90.00it/s]\u001b[A\u001b[A\n",
      "\n",
      "  7%|▋         | 6787/100000 [01:15<16:31, 94.01it/s]\u001b[A\u001b[A\n",
      "\n",
      "  7%|▋         | 6797/100000 [01:15<16:31, 93.99it/s]\u001b[A\u001b[A\n",
      "\n",
      "  7%|▋         | 6807/100000 [01:15<16:25, 94.58it/s]\u001b[A\u001b[A\n",
      "\n",
      "  7%|▋         | 6817/100000 [01:16<17:07, 90.68it/s]\u001b[A\u001b[A\n",
      "\n",
      "  7%|▋         | 6828/100000 [01:16<16:33, 93.83it/s]\u001b[A\u001b[A\n",
      "\n",
      "  7%|▋         | 6838/100000 [01:16<16:58, 91.45it/s]\u001b[A\u001b[A\n",
      "\n",
      "  7%|▋         | 6848/100000 [01:16<17:29, 88.79it/s]\u001b[A\u001b[A\n",
      "\n",
      "  7%|▋         | 6858/100000 [01:16<16:59, 91.37it/s]\u001b[A\u001b[A\n",
      "\n",
      "  7%|▋         | 6868/100000 [01:16<18:11, 85.32it/s]\u001b[A\u001b[A\n",
      "\n",
      "  7%|▋         | 6878/100000 [01:16<17:28, 88.79it/s]\u001b[A\u001b[A\n",
      "\n",
      "  7%|▋         | 6888/100000 [01:16<17:02, 91.09it/s]\u001b[A\u001b[A\n",
      "\n",
      "  7%|▋         | 6899/100000 [01:17<16:20, 94.92it/s]\u001b[A\u001b[A\n",
      "\n",
      "  7%|▋         | 6909/100000 [01:17<17:00, 91.27it/s]\u001b[A\u001b[A\n",
      "\n",
      "  7%|▋         | 6919/100000 [01:17<16:56, 91.61it/s]\u001b[A\u001b[A\n",
      "\n",
      "  7%|▋         | 6929/100000 [01:17<18:35, 83.47it/s]\u001b[A\u001b[A\n",
      "\n",
      "  7%|▋         | 6938/100000 [01:17<18:43, 82.82it/s]\u001b[A\u001b[A\n",
      "\n",
      "  7%|▋         | 6947/100000 [01:17<18:24, 84.29it/s]\u001b[A\u001b[A\n",
      "\n",
      "  7%|▋         | 6956/100000 [01:17<19:02, 81.42it/s]\u001b[A\u001b[A\n",
      "\n",
      "  7%|▋         | 6966/100000 [01:17<18:00, 86.08it/s]\u001b[A\u001b[A\n",
      "\n",
      "  7%|▋         | 6976/100000 [01:17<17:44, 87.40it/s]\u001b[A\u001b[A\n",
      "\n",
      "  7%|▋         | 6985/100000 [01:18<17:57, 86.35it/s]\u001b[A\u001b[A\n",
      "\n",
      "  7%|▋         | 6994/100000 [01:18<19:02, 81.41it/s]\u001b[A\u001b[A\n",
      "\n",
      "  7%|▋         | 7004/100000 [01:18<18:21, 84.40it/s]\u001b[A\u001b[A\n",
      "\n",
      "  7%|▋         | 7013/100000 [01:18<18:23, 84.25it/s]\u001b[A\u001b[A\n",
      "\n",
      "  7%|▋         | 7023/100000 [01:18<17:37, 87.91it/s]\u001b[A\u001b[A\n",
      "\n",
      "  7%|▋         | 7034/100000 [01:18<17:08, 90.43it/s]\u001b[A\u001b[A\n",
      "\n",
      "  7%|▋         | 7044/100000 [01:18<17:25, 88.92it/s]\u001b[A\u001b[A\n",
      "\n",
      "  7%|▋         | 7053/100000 [01:18<17:34, 88.10it/s]\u001b[A\u001b[A\n",
      "\n",
      "  7%|▋         | 7062/100000 [01:18<18:38, 83.07it/s]\u001b[A\u001b[A\n",
      "\n",
      "  7%|▋         | 7073/100000 [01:19<17:37, 87.85it/s]\u001b[A\u001b[A\n",
      "\n",
      "  7%|▋         | 7084/100000 [01:19<16:37, 93.10it/s]\u001b[A\u001b[A\n",
      "\n",
      "  7%|▋         | 7094/100000 [01:19<16:52, 91.78it/s]\u001b[A\u001b[A\n",
      "\n",
      "  7%|▋         | 7105/100000 [01:19<16:19, 94.80it/s]\u001b[A\u001b[A\n",
      "\n",
      "  7%|▋         | 7115/100000 [01:19<20:27, 75.66it/s]\u001b[A\u001b[A\n",
      "\n",
      "  7%|▋         | 7124/100000 [01:19<20:05, 77.02it/s]\u001b[A\u001b[A\n",
      "\n",
      "  7%|▋         | 7135/100000 [01:19<18:49, 82.24it/s]\u001b[A\u001b[A\n",
      "\n",
      "  7%|▋         | 7146/100000 [01:19<17:39, 87.67it/s]\u001b[A\u001b[A\n",
      "\n",
      "  7%|▋         | 7156/100000 [01:19<17:23, 88.99it/s]\u001b[A\u001b[A\n",
      "\n",
      "  7%|▋         | 7167/100000 [01:20<16:38, 93.00it/s]\u001b[A\u001b[A\n",
      "\n",
      "  7%|▋         | 7177/100000 [01:20<16:52, 91.71it/s]\u001b[A\u001b[A\n",
      "\n",
      "  7%|▋         | 7187/100000 [01:20<17:17, 89.43it/s]\u001b[A\u001b[A\n",
      "\n",
      "  7%|▋         | 7197/100000 [01:20<17:51, 86.62it/s]\u001b[A\u001b[A\n",
      "\n",
      "  7%|▋         | 7206/100000 [01:20<18:19, 84.37it/s]\u001b[A\u001b[A\n",
      "\n",
      "  7%|▋         | 7215/100000 [01:20<18:47, 82.33it/s]\u001b[A\u001b[A\n",
      "\n",
      "  7%|▋         | 7225/100000 [01:20<18:10, 85.05it/s]\u001b[A\u001b[A\n",
      "\n",
      "  7%|▋         | 7235/100000 [01:20<17:26, 88.67it/s]\u001b[A\u001b[A\n",
      "\n",
      "  7%|▋         | 7245/100000 [01:20<17:00, 90.93it/s]\u001b[A\u001b[A\n",
      "\n",
      "  7%|▋         | 7255/100000 [01:21<17:18, 89.28it/s]\u001b[A\u001b[A\n",
      "\n",
      "  7%|▋         | 7264/100000 [01:21<18:18, 84.46it/s]\u001b[A\u001b[A\n",
      "\n",
      "  7%|▋         | 7274/100000 [01:21<18:15, 84.66it/s]\u001b[A\u001b[A\n",
      "\n",
      "  7%|▋         | 7284/100000 [01:21<17:31, 88.16it/s]\u001b[A\u001b[A\n",
      "\n",
      "  7%|▋         | 7293/100000 [01:21<17:50, 86.61it/s]\u001b[A\u001b[A\n",
      "\n",
      "  7%|▋         | 7302/100000 [01:21<18:54, 81.74it/s]\u001b[A\u001b[A\n",
      "\n",
      "  7%|▋         | 7311/100000 [01:21<19:18, 80.01it/s]\u001b[A\u001b[A\n",
      "\n",
      "  7%|▋         | 7322/100000 [01:21<17:46, 86.86it/s]\u001b[A\u001b[A\n",
      "\n",
      "  7%|▋         | 7332/100000 [01:22<17:14, 89.55it/s]\u001b[A\u001b[A\n",
      "\n",
      "  7%|▋         | 7342/100000 [01:22<18:13, 84.76it/s]\u001b[A\u001b[A\n",
      "\n",
      "  7%|▋         | 7351/100000 [01:22<18:11, 84.91it/s]\u001b[A\u001b[A\n",
      "\n",
      "  7%|▋         | 7362/100000 [01:22<16:58, 90.92it/s]\u001b[A\u001b[A\n",
      "\n",
      "  7%|▋         | 7373/100000 [01:22<16:07, 95.70it/s]\u001b[A\u001b[A\n",
      "\n",
      "  7%|▋         | 7383/100000 [01:22<16:43, 92.27it/s]\u001b[A\u001b[A\n",
      "\n",
      "  7%|▋         | 7393/100000 [01:22<16:51, 91.53it/s]\u001b[A\u001b[A\n",
      "\n",
      "  7%|▋         | 7403/100000 [01:22<17:47, 86.72it/s]\u001b[A\u001b[A\n",
      "\n",
      "  7%|▋         | 7412/100000 [01:22<17:36, 87.66it/s]\u001b[A\u001b[A\n",
      "\n",
      "  7%|▋         | 7423/100000 [01:23<16:56, 91.07it/s]\u001b[A\u001b[A\n",
      "\n",
      "  7%|▋         | 7433/100000 [01:23<18:55, 81.55it/s]\u001b[A\u001b[A\n",
      "\n",
      "  7%|▋         | 7442/100000 [01:23<18:36, 82.86it/s]\u001b[A\u001b[A\n",
      "\n",
      "  7%|▋         | 7451/100000 [01:23<18:19, 84.20it/s]\u001b[A\u001b[A\n",
      "\n",
      "  7%|▋         | 7461/100000 [01:23<17:32, 87.93it/s]\u001b[A\u001b[A\n",
      "\n",
      "  7%|▋         | 7472/100000 [01:23<16:58, 90.87it/s]\u001b[A\u001b[A\n",
      "\n",
      "  7%|▋         | 7482/100000 [01:23<16:51, 91.46it/s]\u001b[A\u001b[A\n",
      "\n",
      "  7%|▋         | 7492/100000 [01:23<18:05, 85.22it/s]\u001b[A\u001b[A\n",
      "\n",
      "  8%|▊         | 7501/100000 [01:23<18:32, 83.13it/s]\u001b[A\u001b[A\n",
      "\n",
      "  8%|▊         | 7510/100000 [01:24<18:37, 82.77it/s]\u001b[A\u001b[A\n",
      "\n",
      "  8%|▊         | 7521/100000 [01:24<17:30, 88.03it/s]\u001b[A\u001b[A\n",
      "\n",
      "  8%|▊         | 7532/100000 [01:24<16:28, 93.59it/s]\u001b[A\u001b[A\n",
      "\n",
      "  8%|▊         | 7543/100000 [01:24<16:14, 94.92it/s]\u001b[A\u001b[A\n",
      "\n",
      "  8%|▊         | 7553/100000 [01:24<16:09, 95.33it/s]\u001b[A\u001b[A\n",
      "\n",
      "  8%|▊         | 7563/100000 [01:24<17:06, 90.05it/s]\u001b[A\u001b[A\n",
      "\n",
      "  8%|▊         | 7573/100000 [01:24<17:05, 90.09it/s]\u001b[A\u001b[A\n",
      "\n",
      "  8%|▊         | 7585/100000 [01:24<16:17, 94.50it/s]\u001b[A\u001b[A\n",
      "\n",
      "  8%|▊         | 7595/100000 [01:24<16:14, 94.81it/s]\u001b[A\u001b[A\n",
      "\n",
      "  8%|▊         | 7605/100000 [01:25<16:08, 95.36it/s]\u001b[A\u001b[A\n",
      "\n",
      "  8%|▊         | 7615/100000 [01:25<16:15, 94.71it/s]\u001b[A\u001b[A\n",
      "\n",
      "  8%|▊         | 7625/100000 [01:25<17:05, 90.06it/s]\u001b[A\u001b[A\n",
      "\n",
      "  8%|▊         | 7636/100000 [01:25<16:31, 93.16it/s]\u001b[A\u001b[A\n",
      "\n",
      "  8%|▊         | 7646/100000 [01:25<16:53, 91.10it/s]\u001b[A\u001b[A\n",
      "\n",
      "  8%|▊         | 7656/100000 [01:25<18:02, 85.34it/s]\u001b[A\u001b[A\n",
      "\n",
      "  8%|▊         | 7668/100000 [01:25<17:02, 90.30it/s]\u001b[A\u001b[A\n",
      "\n",
      "  8%|▊         | 7678/100000 [01:25<16:57, 90.77it/s]\u001b[A\u001b[A\n",
      "\n",
      "  8%|▊         | 7689/100000 [01:25<16:24, 93.78it/s]\u001b[A\u001b[A\n",
      "\n",
      "  8%|▊         | 7699/100000 [01:26<17:19, 88.78it/s]\u001b[A\u001b[A\n",
      "\n",
      "  8%|▊         | 7709/100000 [01:26<17:01, 90.32it/s]\u001b[A\u001b[A\n",
      "\n",
      "  8%|▊         | 7719/100000 [01:26<16:37, 92.54it/s]\u001b[A\u001b[A\n",
      "\n",
      "  8%|▊         | 7729/100000 [01:26<16:50, 91.28it/s]\u001b[A\u001b[A\n",
      "\n",
      "  8%|▊         | 7739/100000 [01:26<17:12, 89.34it/s]\u001b[A\u001b[A\n",
      "\n",
      "  8%|▊         | 7749/100000 [01:26<16:48, 91.44it/s]\u001b[A\u001b[A\n",
      "\n",
      "  8%|▊         | 7759/100000 [01:26<16:41, 92.11it/s]\u001b[A\u001b[A\n",
      "\n",
      "  8%|▊         | 7769/100000 [01:26<16:43, 91.88it/s]\u001b[A\u001b[A\n",
      "\n",
      "  8%|▊         | 7779/100000 [01:26<16:53, 90.99it/s]\u001b[A\u001b[A\n",
      "\n",
      "  8%|▊         | 7789/100000 [01:27<17:41, 86.89it/s]\u001b[A\u001b[A\n",
      "\n",
      "  8%|▊         | 7799/100000 [01:27<17:24, 88.24it/s]\u001b[A\u001b[A\n",
      "\n",
      "  8%|▊         | 7808/100000 [01:27<17:34, 87.44it/s]\u001b[A\u001b[A\n",
      "\n",
      "  8%|▊         | 7817/100000 [01:27<18:49, 81.58it/s]\u001b[A\u001b[A\n",
      "\n",
      "  8%|▊         | 7827/100000 [01:27<18:09, 84.61it/s]\u001b[A\u001b[A\n",
      "\n",
      "  8%|▊         | 7836/100000 [01:27<18:20, 83.77it/s]\u001b[A\u001b[A\n",
      "\n",
      "  8%|▊         | 7846/100000 [01:27<17:28, 87.90it/s]\u001b[A\u001b[A\n",
      "\n",
      "  8%|▊         | 7857/100000 [01:27<16:36, 92.42it/s]\u001b[A\u001b[A\n",
      "\n",
      "  8%|▊         | 7867/100000 [01:27<16:51, 91.11it/s]\u001b[A\u001b[A\n",
      "\n",
      "  8%|▊         | 7877/100000 [01:28<16:41, 92.00it/s]\u001b[A\u001b[A\n",
      "\n",
      "  8%|▊         | 7887/100000 [01:28<16:47, 91.41it/s]\u001b[A\u001b[A\n",
      "\n",
      "  8%|▊         | 7897/100000 [01:28<16:35, 92.55it/s]\u001b[A\u001b[A\n",
      "\n",
      "  8%|▊         | 7907/100000 [01:28<17:23, 88.25it/s]\u001b[A\u001b[A\n",
      "\n",
      "  8%|▊         | 7918/100000 [01:28<16:40, 92.02it/s]\u001b[A\u001b[A\n",
      "\n",
      "  8%|▊         | 7930/100000 [01:28<15:34, 98.53it/s]\u001b[A\u001b[A\n",
      "\n",
      "  8%|▊         | 7941/100000 [01:28<16:17, 94.13it/s]\u001b[A\u001b[A\n",
      "\n",
      "  8%|▊         | 7951/100000 [01:28<16:32, 92.75it/s]\u001b[A\u001b[A\n",
      "\n",
      "  8%|▊         | 7962/100000 [01:28<16:03, 95.49it/s]\u001b[A\u001b[A\n",
      "\n",
      "  8%|▊         | 7972/100000 [01:29<16:06, 95.20it/s]\u001b[A\u001b[A\n",
      "\n",
      "  8%|▊         | 7982/100000 [01:29<17:58, 85.35it/s]\u001b[A\u001b[A\n",
      "\n",
      "  8%|▊         | 7992/100000 [01:29<17:17, 88.70it/s]\u001b[A\u001b[A\n",
      "\n",
      "  8%|▊         | 8003/100000 [01:29<16:23, 93.51it/s]\u001b[A\u001b[A\n",
      "\n",
      "  8%|▊         | 8013/100000 [01:29<16:17, 94.08it/s]\u001b[A\u001b[A\n",
      "\n",
      "  8%|▊         | 8024/100000 [01:29<15:39, 97.87it/s]\u001b[A\u001b[A\n",
      "\n",
      "  8%|▊         | 8034/100000 [01:29<17:26, 87.91it/s]\u001b[A\u001b[A\n",
      "\n",
      "  8%|▊         | 8046/100000 [01:29<16:15, 94.27it/s]\u001b[A\u001b[A\n",
      "\n",
      "  8%|▊         | 8056/100000 [01:30<18:02, 84.92it/s]\u001b[A\u001b[A\n",
      "\n",
      "  8%|▊         | 8065/100000 [01:30<19:09, 79.98it/s]\u001b[A\u001b[A\n",
      "\n",
      "  8%|▊         | 8075/100000 [01:30<18:09, 84.40it/s]\u001b[A\u001b[A\n",
      "\n",
      "  8%|▊         | 8086/100000 [01:30<17:07, 89.43it/s]\u001b[A\u001b[A\n",
      "\n",
      "  8%|▊         | 8096/100000 [01:30<16:49, 91.03it/s]\u001b[A\u001b[A\n",
      "\n",
      "  8%|▊         | 8106/100000 [01:30<16:45, 91.40it/s]\u001b[A\u001b[A\n",
      "\n",
      "  8%|▊         | 8116/100000 [01:30<16:22, 93.56it/s]\u001b[A\u001b[A\n",
      "\n"
     ]
    },
    {
     "name": "stderr",
     "output_type": "stream",
     "text": [
      "  8%|▊         | 8126/100000 [01:30<16:59, 90.15it/s]\u001b[A\u001b[A\n",
      "\n",
      "  8%|▊         | 8136/100000 [01:30<16:39, 91.94it/s]\u001b[A\u001b[A\n",
      "\n",
      "  8%|▊         | 8146/100000 [01:31<17:17, 88.56it/s]\u001b[A\u001b[A\n",
      "\n",
      "  8%|▊         | 8156/100000 [01:31<17:00, 90.03it/s]\u001b[A\u001b[A\n",
      "\n",
      "  8%|▊         | 8167/100000 [01:31<16:28, 92.92it/s]\u001b[A\u001b[A\n",
      "\n",
      "  8%|▊         | 8177/100000 [01:31<16:53, 90.64it/s]\u001b[A\u001b[A\n",
      "\n",
      "  8%|▊         | 8187/100000 [01:31<17:16, 88.61it/s]\u001b[A\u001b[A\n",
      "\n",
      "  8%|▊         | 8196/100000 [01:31<17:15, 88.67it/s]\u001b[A\u001b[A\n",
      "\n",
      "  8%|▊         | 8206/100000 [01:31<16:47, 91.12it/s]\u001b[A\u001b[A\n",
      "\n",
      "  8%|▊         | 8216/100000 [01:31<16:39, 91.84it/s]\u001b[A\u001b[A\n",
      "\n",
      "  8%|▊         | 8226/100000 [01:31<16:27, 92.92it/s]\u001b[A\u001b[A\n",
      "\n",
      "  8%|▊         | 8236/100000 [01:31<16:17, 93.88it/s]\u001b[A\u001b[A\n",
      "\n",
      "  8%|▊         | 8246/100000 [01:32<16:25, 93.08it/s]\u001b[A\u001b[A\n",
      "\n",
      "  8%|▊         | 8257/100000 [01:32<15:42, 97.38it/s]\u001b[A\u001b[A\n",
      "\n",
      "  8%|▊         | 8267/100000 [01:32<16:21, 93.47it/s]\u001b[A\u001b[A\n",
      "\n",
      "  8%|▊         | 8277/100000 [01:32<17:26, 87.64it/s]\u001b[A\u001b[A\n",
      "\n",
      "  8%|▊         | 8286/100000 [01:32<17:24, 87.77it/s]\u001b[A\u001b[A\n",
      "\n",
      "  8%|▊         | 8296/100000 [01:32<17:16, 88.46it/s]\u001b[A\u001b[A\n",
      "\n",
      "  8%|▊         | 8306/100000 [01:32<16:56, 90.24it/s]\u001b[A\u001b[A\n",
      "\n",
      "  8%|▊         | 8316/100000 [01:32<16:41, 91.53it/s]\u001b[A\u001b[A\n",
      "\n",
      "  8%|▊         | 8326/100000 [01:32<16:18, 93.70it/s]\u001b[A\u001b[A\n",
      "\n",
      "  8%|▊         | 8336/100000 [01:33<17:16, 88.41it/s]\u001b[A\u001b[A\n",
      "\n",
      "  8%|▊         | 8345/100000 [01:33<17:33, 86.99it/s]\u001b[A\u001b[A\n",
      "\n",
      "  8%|▊         | 8355/100000 [01:33<16:54, 90.37it/s]\u001b[A\u001b[A\n",
      "\n",
      "  8%|▊         | 8366/100000 [01:33<16:47, 90.98it/s]\u001b[A\u001b[A\n",
      "\n",
      "  8%|▊         | 8376/100000 [01:33<16:39, 91.62it/s]\u001b[A\u001b[A\n",
      "\n",
      "  8%|▊         | 8388/100000 [01:33<15:50, 96.36it/s]\u001b[A\u001b[A\n",
      "\n",
      "  8%|▊         | 8399/100000 [01:33<15:27, 98.74it/s]\u001b[A\u001b[A\n",
      "\n",
      "  8%|▊         | 8409/100000 [01:33<16:06, 94.74it/s]\u001b[A\u001b[A\n",
      "\n",
      "  8%|▊         | 8419/100000 [01:33<17:12, 88.73it/s]\u001b[A\u001b[A\n",
      "\n",
      "  8%|▊         | 8429/100000 [01:34<17:09, 88.98it/s]\u001b[A\u001b[A\n",
      "\n",
      "  8%|▊         | 8439/100000 [01:34<16:51, 90.51it/s]\u001b[A\u001b[A\n",
      "\n",
      "  8%|▊         | 8449/100000 [01:34<19:01, 80.23it/s]\u001b[A\u001b[A\n",
      "\n",
      "  8%|▊         | 8460/100000 [01:34<17:52, 85.38it/s]\u001b[A\u001b[A\n",
      "\n",
      "  8%|▊         | 8469/100000 [01:34<18:11, 83.88it/s]\u001b[A\u001b[A\n",
      "\n",
      "  8%|▊         | 8478/100000 [01:34<20:05, 75.92it/s]\u001b[A\u001b[A\n",
      "\n",
      "  8%|▊         | 8486/100000 [01:34<20:38, 73.86it/s]\u001b[A\u001b[A\n",
      "\n",
      "  8%|▊         | 8496/100000 [01:34<19:04, 79.94it/s]\u001b[A\u001b[A\n",
      "\n",
      "  9%|▊         | 8506/100000 [01:35<18:06, 84.24it/s]\u001b[A\u001b[A\n",
      "\n",
      "  9%|▊         | 8516/100000 [01:35<18:30, 82.39it/s]\u001b[A\u001b[A\n",
      "\n",
      "  9%|▊         | 8527/100000 [01:35<17:39, 86.34it/s]\u001b[A\u001b[A\n",
      "\n",
      "  9%|▊         | 8537/100000 [01:35<16:58, 89.77it/s]\u001b[A\u001b[A\n",
      "\n",
      "  9%|▊         | 8549/100000 [01:35<16:00, 95.26it/s]\u001b[A\u001b[A\n",
      "\n",
      "  9%|▊         | 8559/100000 [01:35<16:03, 94.89it/s]\u001b[A\u001b[A\n",
      "\n",
      "  9%|▊         | 8569/100000 [01:35<15:56, 95.62it/s]\u001b[A\u001b[A\n",
      "\n",
      "  9%|▊         | 8579/100000 [01:35<16:02, 94.94it/s]\u001b[A\u001b[A\n",
      "\n",
      "  9%|▊         | 8589/100000 [01:35<16:33, 92.01it/s]\u001b[A\u001b[A\n",
      "\n",
      "  9%|▊         | 8600/100000 [01:36<16:03, 94.88it/s]\u001b[A\u001b[A\n",
      "\n",
      "  9%|▊         | 8610/100000 [01:36<17:40, 86.16it/s]\u001b[A\u001b[A\n",
      "\n",
      "  9%|▊         | 8620/100000 [01:36<16:59, 89.66it/s]\u001b[A\u001b[A\n",
      "\n",
      "  9%|▊         | 8630/100000 [01:36<17:05, 89.10it/s]\u001b[A\u001b[A\n",
      "\n",
      "  9%|▊         | 8640/100000 [01:36<17:15, 88.24it/s]\u001b[A\u001b[A\n",
      "\n",
      "  9%|▊         | 8649/100000 [01:36<17:12, 88.46it/s]\u001b[A\u001b[A\n",
      "\n",
      "  9%|▊         | 8659/100000 [01:36<16:53, 90.16it/s]\u001b[A\u001b[A\n",
      "\n",
      "  9%|▊         | 8669/100000 [01:36<17:14, 88.32it/s]\u001b[A\u001b[A\n",
      "\n",
      "  9%|▊         | 8678/100000 [01:36<17:39, 86.22it/s]\u001b[A\u001b[A\n",
      "\n",
      "  9%|▊         | 8689/100000 [01:37<16:51, 90.27it/s]\u001b[A\u001b[A\n",
      "\n",
      "  9%|▊         | 8700/100000 [01:37<16:13, 93.74it/s]\u001b[A\u001b[A\n",
      "\n",
      "  9%|▊         | 8710/100000 [01:37<16:08, 94.22it/s]\u001b[A\u001b[A\n",
      "\n",
      "  9%|▊         | 8721/100000 [01:37<15:27, 98.41it/s]\u001b[A\u001b[A\n",
      "\n",
      "  9%|▊         | 8731/100000 [01:37<15:26, 98.48it/s]\u001b[A\u001b[A\n",
      "\n",
      "  9%|▊         | 8741/100000 [01:37<16:30, 92.10it/s]\u001b[A\u001b[A\n",
      "\n",
      "  9%|▉         | 8751/100000 [01:37<16:13, 93.75it/s]\u001b[A\u001b[A\n",
      "\n",
      "  9%|▉         | 8761/100000 [01:37<15:57, 95.27it/s]\u001b[A\u001b[A\n",
      "\n",
      "  9%|▉         | 8771/100000 [01:37<15:58, 95.16it/s]\u001b[A\u001b[A\n",
      "\n",
      "  9%|▉         | 8781/100000 [01:38<16:14, 93.63it/s]\u001b[A\u001b[A\n",
      "\n",
      "  9%|▉         | 8791/100000 [01:38<17:10, 88.50it/s]\u001b[A\u001b[A\n",
      "\n",
      "  9%|▉         | 8803/100000 [01:38<15:59, 95.00it/s]\u001b[A\u001b[A\n",
      "\n",
      "  9%|▉         | 8813/100000 [01:38<16:43, 90.89it/s]\u001b[A\u001b[A\n",
      "\n",
      "  9%|▉         | 8823/100000 [01:38<16:42, 90.94it/s]\u001b[A\u001b[A\n",
      "\n",
      "  9%|▉         | 8833/100000 [01:38<16:35, 91.57it/s]\u001b[A\u001b[A\n",
      "\n",
      "  9%|▉         | 8844/100000 [01:38<15:56, 95.35it/s]\u001b[A\u001b[A\n",
      "\n",
      "  9%|▉         | 8854/100000 [01:38<16:32, 91.83it/s]\u001b[A\u001b[A\n",
      "\n",
      "  9%|▉         | 8865/100000 [01:38<16:06, 94.33it/s]\u001b[A\u001b[A\n",
      "\n",
      "  9%|▉         | 8875/100000 [01:39<18:11, 83.50it/s]\u001b[A\u001b[A\n",
      "\n",
      "  9%|▉         | 8886/100000 [01:39<17:26, 87.03it/s]\u001b[A\u001b[A\n",
      "\n",
      "  9%|▉         | 8895/100000 [01:39<17:17, 87.80it/s]\u001b[A\u001b[A\n",
      "\n",
      "  9%|▉         | 8905/100000 [01:39<16:51, 90.05it/s]\u001b[A\u001b[A\n",
      "\n",
      "  9%|▉         | 8915/100000 [01:39<16:48, 90.36it/s]\u001b[A\u001b[A\n",
      "\n",
      "  9%|▉         | 8925/100000 [01:39<16:40, 91.06it/s]\u001b[A\u001b[A\n",
      "\n",
      "  9%|▉         | 8935/100000 [01:39<16:42, 90.88it/s]\u001b[A\u001b[A\n",
      "\n",
      "  9%|▉         | 8946/100000 [01:39<16:29, 92.06it/s]\u001b[A\u001b[A\n",
      "\n",
      "  9%|▉         | 8956/100000 [01:39<16:12, 93.63it/s]\u001b[A\u001b[A\n",
      "\n",
      "  9%|▉         | 8966/100000 [01:40<16:04, 94.36it/s]\u001b[A\u001b[A\n",
      "\n",
      "  9%|▉         | 8976/100000 [01:40<17:58, 84.41it/s]\u001b[A\u001b[A\n",
      "\n",
      "  9%|▉         | 8987/100000 [01:40<17:05, 88.78it/s]\u001b[A\u001b[A\n",
      "\n",
      "  9%|▉         | 8997/100000 [01:40<17:20, 87.43it/s]\u001b[A\u001b[A\n",
      "\n",
      "  9%|▉         | 9006/100000 [01:40<17:34, 86.29it/s]\u001b[A\u001b[A\n",
      "\n",
      "  9%|▉         | 9016/100000 [01:40<17:12, 88.10it/s]\u001b[A\u001b[A\n",
      "\n",
      "  9%|▉         | 9026/100000 [01:40<16:45, 90.51it/s]\u001b[A\u001b[A\n",
      "\n",
      "  9%|▉         | 9036/100000 [01:40<16:50, 90.03it/s]\u001b[A\u001b[A\n",
      "\n",
      "  9%|▉         | 9046/100000 [01:40<17:07, 88.54it/s]\u001b[A\u001b[A\n",
      "\n",
      "  9%|▉         | 9057/100000 [01:41<16:27, 92.11it/s]\u001b[A\u001b[A\n",
      "\n",
      "  9%|▉         | 9067/100000 [01:41<17:35, 86.19it/s]\u001b[A\u001b[A\n",
      "\n",
      "  9%|▉         | 9077/100000 [01:41<17:11, 88.12it/s]\u001b[A\u001b[A\n",
      "\n",
      "  9%|▉         | 9088/100000 [01:41<16:25, 92.29it/s]\u001b[A\u001b[A\n",
      "\n",
      "  9%|▉         | 9100/100000 [01:41<15:26, 98.15it/s]\u001b[A\u001b[A\n",
      "\n",
      "  9%|▉         | 9111/100000 [01:41<15:02, 100.74it/s]\u001b[A\u001b[A\n",
      "\n",
      "  9%|▉         | 9122/100000 [01:41<17:14, 87.84it/s] \u001b[A\u001b[A\n",
      "\n",
      "  9%|▉         | 9132/100000 [01:41<17:30, 86.53it/s]\u001b[A\u001b[A\n",
      "\n",
      "  9%|▉         | 9141/100000 [01:42<17:35, 86.09it/s]\u001b[A\u001b[A\n",
      "\n",
      "  9%|▉         | 9152/100000 [01:42<16:34, 91.38it/s]\u001b[A\u001b[A\n",
      "\n",
      "  9%|▉         | 9162/100000 [01:42<17:00, 88.97it/s]\u001b[A\u001b[A\n",
      "\n",
      "  9%|▉         | 9172/100000 [01:42<16:54, 89.54it/s]\u001b[A\u001b[A\n",
      "\n",
      "  9%|▉         | 9182/100000 [01:42<16:50, 89.87it/s]\u001b[A\u001b[A\n",
      "\n",
      "  9%|▉         | 9192/100000 [01:42<16:50, 89.86it/s]\u001b[A\u001b[A\n",
      "\n",
      "  9%|▉         | 9202/100000 [01:42<17:07, 88.33it/s]\u001b[A\u001b[A\n",
      "\n",
      "  9%|▉         | 9212/100000 [01:42<16:39, 90.82it/s]\u001b[A\u001b[A\n",
      "\n",
      "  9%|▉         | 9222/100000 [01:42<16:14, 93.18it/s]\u001b[A\u001b[A\n",
      "\n",
      "  9%|▉         | 9233/100000 [01:42<15:30, 97.52it/s]\u001b[A\u001b[A\n",
      "\n",
      "  9%|▉         | 9243/100000 [01:43<16:05, 93.96it/s]\u001b[A\u001b[A\n",
      "\n",
      "  9%|▉         | 9253/100000 [01:43<17:27, 86.63it/s]\u001b[A\u001b[A\n",
      "\n",
      "  9%|▉         | 9265/100000 [01:43<16:50, 89.77it/s]\u001b[A\u001b[A\n",
      "\n",
      "  9%|▉         | 9275/100000 [01:43<17:40, 85.58it/s]\u001b[A\u001b[A\n",
      "\n",
      "  9%|▉         | 9286/100000 [01:43<16:38, 90.82it/s]\u001b[A\u001b[A\n",
      "\n",
      "  9%|▉         | 9296/100000 [01:43<17:14, 87.64it/s]\u001b[A\u001b[A\n",
      "\n",
      "  9%|▉         | 9305/100000 [01:43<17:37, 85.72it/s]\u001b[A\u001b[A\n",
      "\n",
      "  9%|▉         | 9315/100000 [01:43<17:14, 87.66it/s]\u001b[A\u001b[A\n",
      "\n",
      "  9%|▉         | 9325/100000 [01:44<16:46, 90.08it/s]\u001b[A\u001b[A\n",
      "\n",
      "  9%|▉         | 9335/100000 [01:44<18:05, 83.56it/s]\u001b[A\u001b[A\n",
      "\n",
      "  9%|▉         | 9345/100000 [01:44<17:13, 87.72it/s]\u001b[A\u001b[A\n",
      "\n",
      "  9%|▉         | 9354/100000 [01:44<17:18, 87.27it/s]\u001b[A\u001b[A\n",
      "\n",
      "  9%|▉         | 9365/100000 [01:44<16:19, 92.58it/s]\u001b[A\u001b[A\n",
      "\n",
      "  9%|▉         | 9376/100000 [01:44<15:40, 96.31it/s]\u001b[A\u001b[A\n",
      "\n",
      "  9%|▉         | 9386/100000 [01:44<17:00, 88.78it/s]\u001b[A\u001b[A\n",
      "\n",
      "  9%|▉         | 9396/100000 [01:44<17:05, 88.39it/s]\u001b[A\u001b[A\n",
      "\n",
      "  9%|▉         | 9407/100000 [01:44<16:13, 93.02it/s]\u001b[A\u001b[A\n",
      "\n",
      "  9%|▉         | 9417/100000 [01:45<16:01, 94.17it/s]\u001b[A\u001b[A\n",
      "\n",
      "  9%|▉         | 9427/100000 [01:45<16:04, 93.86it/s]\u001b[A\u001b[A\n",
      "\n",
      "  9%|▉         | 9437/100000 [01:45<16:47, 89.91it/s]\u001b[A\u001b[A\n",
      "\n",
      "  9%|▉         | 9447/100000 [01:45<16:25, 91.90it/s]\u001b[A\u001b[A\n",
      "\n",
      "  9%|▉         | 9459/100000 [01:45<15:25, 97.87it/s]\u001b[A\u001b[A\n",
      "\n",
      "  9%|▉         | 9470/100000 [01:45<15:15, 98.85it/s]\u001b[A\u001b[A\n",
      "\n",
      "  9%|▉         | 9481/100000 [01:45<15:03, 100.23it/s]\u001b[A\u001b[A\n",
      "\n"
     ]
    },
    {
     "name": "stderr",
     "output_type": "stream",
     "text": [
      "  9%|▉         | 9492/100000 [01:45<15:08, 99.60it/s] \u001b[A\u001b[A\n",
      "\n",
      " 10%|▉         | 9503/100000 [01:45<15:37, 96.49it/s]\u001b[A\u001b[A\n",
      "\n",
      " 10%|▉         | 9515/100000 [01:46<14:58, 100.76it/s]\u001b[A\u001b[A\n",
      "\n",
      " 10%|▉         | 9526/100000 [01:46<15:18, 98.53it/s] \u001b[A\u001b[A\n",
      "\n",
      " 10%|▉         | 9537/100000 [01:46<15:04, 99.98it/s]\u001b[A\u001b[A\n",
      "\n",
      " 10%|▉         | 9549/100000 [01:46<14:36, 103.25it/s]\u001b[A\u001b[A\n",
      "\n",
      " 10%|▉         | 9560/100000 [01:46<14:47, 101.93it/s]\u001b[A\u001b[A\n",
      "\n",
      " 10%|▉         | 9571/100000 [01:46<15:05, 99.83it/s] \u001b[A\u001b[A\n",
      "\n",
      " 10%|▉         | 9582/100000 [01:46<14:51, 101.45it/s]\u001b[A\u001b[A\n",
      "\n",
      " 10%|▉         | 9593/100000 [01:46<15:29, 97.23it/s] \u001b[A\u001b[A\n",
      "\n",
      " 10%|▉         | 9604/100000 [01:46<15:04, 99.96it/s]\u001b[A\u001b[A\n",
      "\n",
      " 10%|▉         | 9615/100000 [01:47<15:15, 98.72it/s]\u001b[A\u001b[A\n",
      "\n",
      " 10%|▉         | 9625/100000 [01:47<15:51, 94.97it/s]\u001b[A\u001b[A\n",
      "\n",
      " 10%|▉         | 9635/100000 [01:47<16:12, 92.87it/s]\u001b[A\u001b[A\n",
      "\n",
      " 10%|▉         | 9645/100000 [01:47<18:01, 83.52it/s]\u001b[A\u001b[A\n",
      "\n",
      " 10%|▉         | 9654/100000 [01:47<19:42, 76.42it/s]\u001b[A\u001b[A\n",
      "\n",
      " 10%|▉         | 9664/100000 [01:47<18:42, 80.47it/s]\u001b[A\u001b[A\n",
      "\n",
      " 10%|▉         | 9674/100000 [01:47<17:49, 84.46it/s]\u001b[A\u001b[A\n",
      "\n",
      " 10%|▉         | 9684/100000 [01:47<17:55, 83.94it/s]\u001b[A\u001b[A\n",
      "\n",
      " 10%|▉         | 9695/100000 [01:48<16:54, 89.01it/s]\u001b[A\u001b[A\n",
      "\n",
      " 10%|▉         | 9705/100000 [01:48<17:01, 88.38it/s]\u001b[A\u001b[A\n",
      "\n",
      " 10%|▉         | 9715/100000 [01:48<16:53, 89.12it/s]\u001b[A\u001b[A\n",
      "\n",
      " 10%|▉         | 9725/100000 [01:48<16:38, 90.41it/s]\u001b[A\u001b[A\n",
      "\n",
      " 10%|▉         | 9735/100000 [01:48<17:28, 86.11it/s]\u001b[A\u001b[A\n",
      "\n",
      " 10%|▉         | 9744/100000 [01:48<17:30, 85.88it/s]\u001b[A\u001b[A\n",
      "\n",
      " 10%|▉         | 9753/100000 [01:48<17:45, 84.67it/s]\u001b[A\u001b[A\n",
      "\n",
      " 10%|▉         | 9764/100000 [01:48<16:35, 90.65it/s]\u001b[A\u001b[A\n",
      "\n",
      " 10%|▉         | 9775/100000 [01:48<15:53, 94.58it/s]\u001b[A\u001b[A\n",
      "\n",
      " 10%|▉         | 9785/100000 [01:48<15:42, 95.76it/s]\u001b[A\u001b[A\n",
      "\n",
      " 10%|▉         | 9795/100000 [01:49<15:54, 94.48it/s]\u001b[A\u001b[A\n",
      "\n",
      " 10%|▉         | 9805/100000 [01:49<17:24, 86.33it/s]\u001b[A\u001b[A\n",
      "\n",
      " 10%|▉         | 9814/100000 [01:49<17:29, 85.94it/s]\u001b[A\u001b[A\n",
      "\n",
      " 10%|▉         | 9823/100000 [01:49<17:50, 84.27it/s]\u001b[A\u001b[A\n",
      "\n",
      " 10%|▉         | 9832/100000 [01:49<17:53, 83.97it/s]\u001b[A\u001b[A\n",
      "\n",
      " 10%|▉         | 9841/100000 [01:49<17:45, 84.65it/s]\u001b[A\u001b[A\n",
      "\n",
      " 10%|▉         | 9852/100000 [01:49<16:41, 90.00it/s]\u001b[A\u001b[A\n",
      "\n",
      " 10%|▉         | 9863/100000 [01:49<16:09, 92.97it/s]\u001b[A\u001b[A\n",
      "\n",
      " 10%|▉         | 9873/100000 [01:49<16:30, 91.02it/s]\u001b[A\u001b[A\n",
      "\n",
      " 10%|▉         | 9883/100000 [01:50<17:21, 86.54it/s]\u001b[A\u001b[A\n",
      "\n",
      " 10%|▉         | 9892/100000 [01:50<17:13, 87.18it/s]\u001b[A\u001b[A\n",
      "\n",
      " 10%|▉         | 9901/100000 [01:50<17:20, 86.61it/s]\u001b[A\u001b[A\n",
      "\n",
      " 10%|▉         | 9910/100000 [01:50<17:35, 85.37it/s]\u001b[A\u001b[A\n",
      "\n",
      " 10%|▉         | 9922/100000 [01:50<16:25, 91.37it/s]\u001b[A\u001b[A\n",
      "\n",
      " 10%|▉         | 9932/100000 [01:50<16:37, 90.27it/s]\u001b[A\u001b[A\n",
      "\n",
      " 10%|▉         | 9942/100000 [01:50<17:00, 88.24it/s]\u001b[A\u001b[A\n",
      "\n",
      " 10%|▉         | 9951/100000 [01:50<17:20, 86.54it/s]\u001b[A\u001b[A\n",
      "\n",
      " 10%|▉         | 9961/100000 [01:50<16:38, 90.15it/s]\u001b[A\u001b[A\n",
      "\n",
      " 10%|▉         | 9971/100000 [01:51<16:38, 90.18it/s]\u001b[A\u001b[A\n",
      "\n",
      " 10%|▉         | 9981/100000 [01:51<16:30, 90.86it/s]\u001b[A\u001b[A\n",
      "\n",
      " 10%|▉         | 9991/100000 [01:51<17:57, 83.56it/s]\u001b[A\u001b[A\n",
      "\n",
      " 10%|█         | 10001/100000 [01:51<17:20, 86.48it/s]\u001b[A\u001b[A\n",
      "\n",
      " 10%|█         | 10011/100000 [01:51<16:42, 89.79it/s]\u001b[A\u001b[A\n",
      "\n",
      " 10%|█         | 10021/100000 [01:51<16:39, 90.06it/s]\u001b[A\u001b[A\n",
      "\n",
      " 10%|█         | 10032/100000 [01:51<16:01, 93.59it/s]\u001b[A\u001b[A\n",
      "\n",
      " 10%|█         | 10042/100000 [01:51<16:19, 91.83it/s]\u001b[A\u001b[A\n",
      "\n",
      " 10%|█         | 10053/100000 [01:52<15:55, 94.09it/s]\u001b[A\u001b[A\n",
      "\n",
      " 10%|█         | 10064/100000 [01:52<15:36, 95.98it/s]\u001b[A\u001b[A\n",
      "\n",
      " 10%|█         | 10075/100000 [01:52<15:12, 98.56it/s]\u001b[A\u001b[A\n",
      "\n",
      " 10%|█         | 10085/100000 [01:52<15:17, 97.98it/s]\u001b[A\u001b[A\n",
      "\n",
      " 10%|█         | 10095/100000 [01:52<16:50, 89.01it/s]\u001b[A\u001b[A\n",
      "\n",
      " 10%|█         | 10105/100000 [01:52<16:19, 91.76it/s]\u001b[A\u001b[A\n",
      "\n",
      " 10%|█         | 10115/100000 [01:52<16:38, 90.02it/s]\u001b[A\u001b[A\n",
      "\n",
      " 10%|█         | 10125/100000 [01:52<16:09, 92.72it/s]\u001b[A\u001b[A\n",
      "\n",
      " 10%|█         | 10135/100000 [01:52<16:27, 91.00it/s]\u001b[A\u001b[A\n",
      "\n",
      " 10%|█         | 10145/100000 [01:53<17:02, 87.87it/s]\u001b[A\u001b[A\n",
      "\n",
      " 10%|█         | 10155/100000 [01:53<16:40, 89.81it/s]\u001b[A\u001b[A\n",
      "\n",
      " 10%|█         | 10165/100000 [01:53<16:55, 88.45it/s]\u001b[A\u001b[A\n",
      "\n",
      " 10%|█         | 10176/100000 [01:53<16:18, 91.83it/s]\u001b[A\u001b[A\n",
      "\n",
      " 10%|█         | 10187/100000 [01:53<15:36, 95.94it/s]\u001b[A\u001b[A\n",
      "\n",
      " 10%|█         | 10198/100000 [01:53<15:07, 98.96it/s]\u001b[A\u001b[A\n",
      "\n",
      " 10%|█         | 10209/100000 [01:53<14:42, 101.70it/s]\u001b[A\u001b[A\n",
      "\n",
      " 10%|█         | 10220/100000 [01:53<15:11, 98.45it/s] \u001b[A\u001b[A\n",
      "\n",
      " 10%|█         | 10231/100000 [01:53<15:09, 98.75it/s]\u001b[A\u001b[A\n",
      "\n",
      " 10%|█         | 10241/100000 [01:53<15:21, 97.43it/s]\u001b[A\u001b[A\n",
      "\n",
      " 10%|█         | 10251/100000 [01:54<15:32, 96.20it/s]\u001b[A\u001b[A\n",
      "\n",
      " 10%|█         | 10261/100000 [01:54<15:41, 95.32it/s]\u001b[A\u001b[A\n",
      "\n",
      " 10%|█         | 10271/100000 [01:54<15:40, 95.36it/s]\u001b[A\u001b[A\n",
      "\n",
      " 10%|█         | 10281/100000 [01:54<15:30, 96.45it/s]\u001b[A\u001b[A\n",
      "\n",
      " 10%|█         | 10291/100000 [01:54<16:42, 89.49it/s]\u001b[A\u001b[A\n",
      "\n",
      " 10%|█         | 10301/100000 [01:54<16:38, 89.83it/s]\u001b[A\u001b[A\n",
      "\n",
      " 10%|█         | 10311/100000 [01:54<16:12, 92.21it/s]\u001b[A\u001b[A\n",
      "\n",
      " 10%|█         | 10321/100000 [01:54<16:11, 92.28it/s]\u001b[A\u001b[A\n",
      "\n",
      " 10%|█         | 10331/100000 [01:54<16:47, 88.96it/s]\u001b[A\u001b[A\n",
      "\n",
      " 10%|█         | 10340/100000 [01:55<18:42, 79.86it/s]\u001b[A\u001b[A\n",
      "\n",
      " 10%|█         | 10349/100000 [01:55<18:05, 82.58it/s]\u001b[A\u001b[A\n",
      "\n",
      " 10%|█         | 10358/100000 [01:55<17:40, 84.52it/s]\u001b[A\u001b[A\n",
      "\n",
      " 10%|█         | 10368/100000 [01:55<17:46, 84.01it/s]\u001b[A\u001b[A\n",
      "\n",
      " 10%|█         | 10378/100000 [01:55<17:13, 86.72it/s]\u001b[A\u001b[A\n",
      "\n",
      " 10%|█         | 10388/100000 [01:55<17:03, 87.54it/s]\u001b[A\u001b[A\n",
      "\n",
      " 10%|█         | 10397/100000 [01:55<17:22, 85.92it/s]\u001b[A\u001b[A\n",
      "\n",
      " 10%|█         | 10406/100000 [01:55<17:15, 86.54it/s]\u001b[A\u001b[A\n",
      "\n",
      " 10%|█         | 10416/100000 [01:55<16:37, 89.85it/s]\u001b[A\u001b[A\n",
      "\n",
      " 10%|█         | 10426/100000 [01:56<17:01, 87.67it/s]\u001b[A\u001b[A\n",
      "\n",
      " 10%|█         | 10435/100000 [01:56<17:02, 87.55it/s]\u001b[A\u001b[A\n",
      "\n",
      " 10%|█         | 10445/100000 [01:56<16:42, 89.33it/s]\u001b[A\u001b[A\n",
      "\n",
      " 10%|█         | 10454/100000 [01:56<16:48, 88.83it/s]\u001b[A\u001b[A\n",
      "\n",
      " 10%|█         | 10463/100000 [01:56<17:54, 83.34it/s]\u001b[A\u001b[A\n",
      "\n",
      " 10%|█         | 10473/100000 [01:56<17:11, 86.78it/s]\u001b[A\u001b[A\n",
      "\n",
      " 10%|█         | 10482/100000 [01:56<18:12, 81.95it/s]\u001b[A\u001b[A\n",
      "\n",
      " 10%|█         | 10492/100000 [01:56<17:19, 86.14it/s]\u001b[A\u001b[A\n",
      "\n",
      " 11%|█         | 10502/100000 [01:56<16:39, 89.59it/s]\u001b[A\u001b[A\n",
      "\n",
      " 11%|█         | 10512/100000 [01:57<17:25, 85.59it/s]\u001b[A\u001b[A\n",
      "\n",
      " 11%|█         | 10522/100000 [01:57<17:00, 87.68it/s]\u001b[A\u001b[A\n",
      "\n",
      " 11%|█         | 10531/100000 [01:57<17:54, 83.29it/s]\u001b[A\u001b[A\n",
      "\n",
      " 11%|█         | 10540/100000 [01:57<18:00, 82.83it/s]\u001b[A\u001b[A\n",
      "\n",
      " 11%|█         | 10551/100000 [01:57<16:52, 88.31it/s]\u001b[A\u001b[A\n",
      "\n",
      " 11%|█         | 10561/100000 [01:57<16:38, 89.61it/s]\u001b[A\u001b[A\n",
      "\n",
      " 11%|█         | 10571/100000 [01:57<16:11, 92.04it/s]\u001b[A\u001b[A\n",
      "\n",
      " 11%|█         | 10581/100000 [01:57<17:37, 84.56it/s]\u001b[A\u001b[A\n",
      "\n",
      " 11%|█         | 10593/100000 [01:57<16:17, 91.43it/s]\u001b[A\u001b[A\n",
      "\n",
      " 11%|█         | 10603/100000 [01:58<16:40, 89.36it/s]\u001b[A\u001b[A\n",
      "\n",
      " 11%|█         | 10613/100000 [01:58<16:13, 91.81it/s]\u001b[A\u001b[A\n",
      "\n",
      " 11%|█         | 10623/100000 [01:58<17:58, 82.84it/s]\u001b[A\u001b[A\n",
      "\n",
      " 11%|█         | 10633/100000 [01:58<18:03, 82.46it/s]\u001b[A\u001b[A\n",
      "\n",
      " 11%|█         | 10642/100000 [01:58<18:21, 81.14it/s]\u001b[A\u001b[A\n",
      "\n",
      " 11%|█         | 10651/100000 [01:58<18:30, 80.48it/s]\u001b[A\u001b[A\n",
      "\n",
      " 11%|█         | 10661/100000 [01:58<17:34, 84.68it/s]\u001b[A\u001b[A\n",
      "\n",
      " 11%|█         | 10670/100000 [01:58<17:46, 83.77it/s]\u001b[A\u001b[A\n",
      "\n",
      " 11%|█         | 10680/100000 [01:59<17:12, 86.52it/s]\u001b[A\u001b[A\n",
      "\n",
      " 11%|█         | 10692/100000 [01:59<15:58, 93.20it/s]\u001b[A\u001b[A\n",
      "\n",
      " 11%|█         | 10702/100000 [01:59<16:17, 91.34it/s]\u001b[A\u001b[A\n",
      "\n",
      " 11%|█         | 10712/100000 [01:59<16:00, 92.98it/s]\u001b[A\u001b[A\n",
      "\n",
      " 11%|█         | 10722/100000 [01:59<16:47, 88.58it/s]\u001b[A\u001b[A\n",
      "\n",
      " 11%|█         | 10732/100000 [01:59<16:27, 90.42it/s]\u001b[A\u001b[A\n",
      "\n",
      " 11%|█         | 10742/100000 [01:59<16:07, 92.25it/s]\u001b[A\u001b[A\n",
      "\n",
      " 11%|█         | 10752/100000 [01:59<15:50, 93.90it/s]\u001b[A\u001b[A\n",
      "\n",
      " 11%|█         | 10763/100000 [01:59<15:50, 93.88it/s]\u001b[A\u001b[A\n",
      "\n",
      " 11%|█         | 10773/100000 [02:00<15:33, 95.58it/s]\u001b[A\u001b[A\n",
      "\n",
      " 11%|█         | 10784/100000 [02:00<15:26, 96.30it/s]\u001b[A\u001b[A\n",
      "\n",
      " 11%|█         | 10794/100000 [02:00<16:21, 90.85it/s]\u001b[A\u001b[A\n",
      "\n",
      " 11%|█         | 10805/100000 [02:00<15:39, 94.95it/s]\u001b[A\u001b[A\n",
      "\n",
      " 11%|█         | 10815/100000 [02:00<15:43, 94.55it/s]\u001b[A\u001b[A\n",
      "\n"
     ]
    },
    {
     "name": "stderr",
     "output_type": "stream",
     "text": [
      " 11%|█         | 10825/100000 [02:00<15:41, 94.69it/s]\u001b[A\u001b[A\n",
      "\n",
      " 11%|█         | 10836/100000 [02:00<15:16, 97.29it/s]\u001b[A\u001b[A\n",
      "\n",
      " 11%|█         | 10846/100000 [02:00<15:27, 96.08it/s]\u001b[A\u001b[A\n",
      "\n",
      " 11%|█         | 10856/100000 [02:00<15:48, 94.00it/s]\u001b[A\u001b[A\n",
      "\n",
      " 11%|█         | 10866/100000 [02:00<16:02, 92.62it/s]\u001b[A\u001b[A\n",
      "\n",
      " 11%|█         | 10877/100000 [02:01<15:29, 95.91it/s]\u001b[A\u001b[A\n",
      "\n",
      " 11%|█         | 10887/100000 [02:01<15:43, 94.48it/s]\u001b[A\u001b[A\n",
      "\n",
      " 11%|█         | 10897/100000 [02:01<15:47, 94.06it/s]\u001b[A\u001b[A\n",
      "\n",
      " 11%|█         | 10907/100000 [02:01<15:53, 93.47it/s]\u001b[A\u001b[A\n",
      "\n",
      " 11%|█         | 10917/100000 [02:01<17:04, 86.98it/s]\u001b[A\u001b[A\n",
      "\n",
      " 11%|█         | 10926/100000 [02:01<17:45, 83.63it/s]\u001b[A\u001b[A\n",
      "\n",
      " 11%|█         | 10937/100000 [02:01<16:32, 89.75it/s]\u001b[A\u001b[A\n",
      "\n",
      " 11%|█         | 10947/100000 [02:01<18:30, 80.19it/s]\u001b[A\u001b[A\n",
      "\n",
      " 11%|█         | 10958/100000 [02:02<17:31, 84.68it/s]\u001b[A\u001b[A\n",
      "\n",
      " 11%|█         | 10970/100000 [02:02<16:14, 91.37it/s]\u001b[A\u001b[A\n",
      "\n",
      " 11%|█         | 10980/100000 [02:02<17:01, 87.14it/s]\u001b[A\u001b[A\n",
      "\n",
      " 11%|█         | 10990/100000 [02:02<17:28, 84.90it/s]\u001b[A\u001b[A\n",
      "\n",
      " 11%|█         | 10999/100000 [02:02<17:10, 86.34it/s]\u001b[A\u001b[A\n",
      "\n",
      " 11%|█         | 11008/100000 [02:02<16:59, 87.32it/s]\u001b[A\u001b[A\n",
      "\n",
      " 11%|█         | 11018/100000 [02:02<16:22, 90.61it/s]\u001b[A\u001b[A\n",
      "\n",
      " 11%|█         | 11028/100000 [02:02<17:04, 86.84it/s]\u001b[A\u001b[A\n",
      "\n",
      " 11%|█         | 11039/100000 [02:02<16:08, 91.89it/s]\u001b[A\u001b[A\n",
      "\n",
      " 11%|█         | 11050/100000 [02:03<15:38, 94.77it/s]\u001b[A\u001b[A\n",
      "\n",
      " 11%|█         | 11060/100000 [02:03<15:28, 95.83it/s]\u001b[A\u001b[A\n",
      "\n",
      " 11%|█         | 11070/100000 [02:03<16:34, 89.39it/s]\u001b[A\u001b[A\n",
      "\n",
      " 11%|█         | 11080/100000 [02:03<16:57, 87.41it/s]\u001b[A\u001b[A\n",
      "\n",
      " 11%|█         | 11089/100000 [02:03<17:08, 86.47it/s]\u001b[A\u001b[A\n",
      "\n",
      " 11%|█         | 11098/100000 [02:03<16:57, 87.39it/s]\u001b[A\u001b[A\n",
      "\n",
      " 11%|█         | 11108/100000 [02:03<16:32, 89.61it/s]\u001b[A\u001b[A\n",
      "\n",
      " 11%|█         | 11118/100000 [02:03<17:41, 83.76it/s]\u001b[A\u001b[A\n",
      "\n",
      " 11%|█         | 11127/100000 [02:03<17:40, 83.78it/s]\u001b[A\u001b[A\n",
      "\n",
      " 11%|█         | 11137/100000 [02:04<17:08, 86.38it/s]\u001b[A\u001b[A\n",
      "\n",
      " 11%|█         | 11147/100000 [02:04<16:35, 89.23it/s]\u001b[A\u001b[A\n",
      "\n",
      " 11%|█         | 11157/100000 [02:04<19:36, 75.54it/s]\u001b[A\u001b[A\n",
      "\n",
      " 11%|█         | 11168/100000 [02:04<18:05, 81.85it/s]\u001b[A\u001b[A\n",
      "\n",
      " 11%|█         | 11178/100000 [02:04<17:33, 84.33it/s]\u001b[A\u001b[A\n",
      "\n",
      " 11%|█         | 11187/100000 [02:04<17:14, 85.86it/s]\u001b[A\u001b[A\n",
      "\n",
      " 11%|█         | 11197/100000 [02:04<16:32, 89.44it/s]\u001b[A\u001b[A\n",
      "\n",
      " 11%|█         | 11207/100000 [02:04<16:18, 90.74it/s]\u001b[A\u001b[A\n",
      "\n",
      " 11%|█         | 11217/100000 [02:05<18:20, 80.66it/s]\u001b[A\u001b[A\n",
      "\n",
      " 11%|█         | 11228/100000 [02:05<17:13, 85.93it/s]\u001b[A\u001b[A\n",
      "\n",
      " 11%|█         | 11239/100000 [02:05<16:12, 91.30it/s]\u001b[A\u001b[A\n",
      "\n",
      " 11%|█▏        | 11250/100000 [02:05<15:36, 94.81it/s]\u001b[A\u001b[A\n",
      "\n",
      " 11%|█▏        | 11260/100000 [02:05<15:34, 94.94it/s]\u001b[A\u001b[A\n",
      "\n",
      " 11%|█▏        | 11270/100000 [02:05<15:39, 94.46it/s]\u001b[A\u001b[A\n",
      "\n",
      " 11%|█▏        | 11280/100000 [02:05<15:37, 94.68it/s]\u001b[A\u001b[A\n",
      "\n",
      " 11%|█▏        | 11290/100000 [02:05<15:52, 93.14it/s]\u001b[A\u001b[A\n",
      "\n",
      " 11%|█▏        | 11300/100000 [02:05<16:26, 89.92it/s]\u001b[A\u001b[A\n",
      "\n",
      " 11%|█▏        | 11310/100000 [02:05<15:58, 92.57it/s]\u001b[A\u001b[A\n",
      "\n",
      " 11%|█▏        | 11321/100000 [02:06<15:15, 96.86it/s]\u001b[A\u001b[A\n",
      "\n",
      " 11%|█▏        | 11331/100000 [02:06<15:23, 96.06it/s]\u001b[A\u001b[A\n",
      "\n",
      " 11%|█▏        | 11341/100000 [02:06<15:17, 96.67it/s]\u001b[A\u001b[A\n",
      "\n",
      " 11%|█▏        | 11351/100000 [02:06<15:15, 96.81it/s]\u001b[A\u001b[A\n",
      "\n",
      " 11%|█▏        | 11361/100000 [02:06<15:53, 92.93it/s]\u001b[A\u001b[A\n",
      "\n",
      " 11%|█▏        | 11371/100000 [02:06<17:26, 84.68it/s]\u001b[A\u001b[A\n",
      "\n",
      " 11%|█▏        | 11381/100000 [02:06<17:18, 85.33it/s]\u001b[A\u001b[A\n",
      "\n",
      " 11%|█▏        | 11390/100000 [02:06<17:19, 85.28it/s]\u001b[A\u001b[A\n",
      "\n",
      " 11%|█▏        | 11399/100000 [02:06<17:03, 86.56it/s]\u001b[A\u001b[A\n",
      "\n",
      " 11%|█▏        | 11410/100000 [02:07<16:20, 90.38it/s]\u001b[A\u001b[A\n",
      "\n",
      " 11%|█▏        | 11420/100000 [02:07<16:28, 89.57it/s]\u001b[A\u001b[A\n",
      "\n",
      " 11%|█▏        | 11431/100000 [02:07<15:47, 93.46it/s]\u001b[A\u001b[A\n",
      "\n",
      " 11%|█▏        | 11441/100000 [02:07<15:33, 94.88it/s]\u001b[A\u001b[A\n",
      "\n",
      " 11%|█▏        | 11451/100000 [02:07<15:24, 95.74it/s]\u001b[A\u001b[A\n",
      "\n",
      " 11%|█▏        | 11461/100000 [02:07<16:35, 88.98it/s]\u001b[A\u001b[A\n",
      "\n",
      " 11%|█▏        | 11471/100000 [02:07<16:17, 90.59it/s]\u001b[A\u001b[A\n",
      "\n",
      " 11%|█▏        | 11481/100000 [02:07<15:58, 92.37it/s]\u001b[A\u001b[A\n",
      "\n",
      " 11%|█▏        | 11491/100000 [02:07<16:09, 91.26it/s]\u001b[A\u001b[A\n",
      "\n",
      " 12%|█▏        | 11501/100000 [02:08<16:32, 89.15it/s]\u001b[A\u001b[A\n",
      "\n",
      " 12%|█▏        | 11510/100000 [02:08<16:53, 87.35it/s]\u001b[A\u001b[A\n",
      "\n",
      " 12%|█▏        | 11519/100000 [02:08<16:50, 87.60it/s]\u001b[A\u001b[A\n",
      "\n",
      " 12%|█▏        | 11530/100000 [02:08<16:03, 91.79it/s]\u001b[A\u001b[A\n",
      "\n",
      " 12%|█▏        | 11541/100000 [02:08<15:24, 95.64it/s]\u001b[A\u001b[A\n",
      "\n",
      " 12%|█▏        | 11552/100000 [02:08<15:05, 97.67it/s]\u001b[A\u001b[A\n",
      "\n",
      " 12%|█▏        | 11563/100000 [02:08<15:24, 95.66it/s]\u001b[A\u001b[A\n",
      "\n",
      " 12%|█▏        | 11573/100000 [02:08<15:24, 95.60it/s]\u001b[A\u001b[A\n",
      "\n",
      " 12%|█▏        | 11583/100000 [02:08<15:16, 96.48it/s]\u001b[A\u001b[A\n",
      "\n",
      " 12%|█▏        | 11593/100000 [02:09<17:30, 84.14it/s]\u001b[A\u001b[A\n",
      "\n",
      " 12%|█▏        | 11602/100000 [02:09<17:28, 84.31it/s]\u001b[A\u001b[A\n",
      "\n",
      " 12%|█▏        | 11611/100000 [02:09<18:01, 81.76it/s]\u001b[A\u001b[A\n",
      "\n",
      " 12%|█▏        | 11622/100000 [02:09<17:14, 85.47it/s]\u001b[A\u001b[A\n",
      "\n",
      " 12%|█▏        | 11631/100000 [02:09<18:52, 78.05it/s]\u001b[A\u001b[A\n",
      "\n",
      " 12%|█▏        | 11642/100000 [02:09<17:22, 84.72it/s]\u001b[A\u001b[A\n",
      "\n",
      " 12%|█▏        | 11651/100000 [02:09<18:25, 79.89it/s]\u001b[A\u001b[A\n",
      "\n",
      " 12%|█▏        | 11662/100000 [02:09<16:57, 86.83it/s]\u001b[A\u001b[A\n",
      "\n",
      " 12%|█▏        | 11672/100000 [02:10<16:59, 86.63it/s]\u001b[A\u001b[A\n",
      "\n",
      " 12%|█▏        | 11681/100000 [02:10<17:24, 84.58it/s]\u001b[A\u001b[A\n",
      "\n",
      " 12%|█▏        | 11691/100000 [02:10<16:42, 88.13it/s]\u001b[A\u001b[A\n",
      "\n",
      " 12%|█▏        | 11700/100000 [02:10<18:46, 78.38it/s]\u001b[A\u001b[A\n",
      "\n",
      " 12%|█▏        | 11709/100000 [02:10<18:16, 80.55it/s]\u001b[A\u001b[A\n",
      "\n",
      " 12%|█▏        | 11720/100000 [02:10<17:17, 85.08it/s]\u001b[A\u001b[A\n",
      "\n",
      " 12%|█▏        | 11731/100000 [02:10<16:24, 89.63it/s]\u001b[A\u001b[A\n",
      "\n",
      " 12%|█▏        | 11741/100000 [02:10<16:20, 90.02it/s]\u001b[A\u001b[A\n",
      "\n",
      " 12%|█▏        | 11751/100000 [02:10<15:52, 92.69it/s]\u001b[A\u001b[A\n",
      "\n",
      " 12%|█▏        | 11761/100000 [02:11<16:59, 86.52it/s]\u001b[A\u001b[A\n",
      "\n",
      " 12%|█▏        | 11773/100000 [02:11<15:49, 92.88it/s]\u001b[A\u001b[A\n",
      "\n",
      " 12%|█▏        | 11784/100000 [02:11<15:18, 96.06it/s]\u001b[A\u001b[A\n",
      "\n",
      " 12%|█▏        | 11794/100000 [02:11<15:48, 93.00it/s]\u001b[A\u001b[A\n",
      "\n",
      " 12%|█▏        | 11805/100000 [02:11<15:24, 95.35it/s]\u001b[A\u001b[A\n",
      "\n",
      " 12%|█▏        | 11815/100000 [02:11<15:44, 93.36it/s]\u001b[A\u001b[A\n",
      "\n",
      " 12%|█▏        | 11825/100000 [02:11<15:52, 92.57it/s]\u001b[A\u001b[A\n",
      "\n",
      " 12%|█▏        | 11836/100000 [02:11<15:52, 92.59it/s]\u001b[A\u001b[A\n",
      "\n",
      " 12%|█▏        | 11846/100000 [02:11<15:59, 91.91it/s]\u001b[A\u001b[A\n",
      "\n",
      " 12%|█▏        | 11856/100000 [02:12<18:10, 80.85it/s]\u001b[A\u001b[A\n",
      "\n",
      " 12%|█▏        | 11867/100000 [02:12<16:51, 87.11it/s]\u001b[A\u001b[A\n",
      "\n",
      " 12%|█▏        | 11877/100000 [02:12<17:11, 85.39it/s]\u001b[A\u001b[A\n",
      "\n",
      " 12%|█▏        | 11886/100000 [02:12<18:03, 81.31it/s]\u001b[A\u001b[A\n",
      "\n",
      " 12%|█▏        | 11896/100000 [02:12<17:29, 83.92it/s]\u001b[A\u001b[A\n",
      "\n",
      " 12%|█▏        | 11906/100000 [02:12<16:57, 86.56it/s]\u001b[A\u001b[A\n",
      "\n",
      " 12%|█▏        | 11916/100000 [02:12<16:27, 89.16it/s]\u001b[A\u001b[A\n",
      "\n",
      " 12%|█▏        | 11926/100000 [02:12<15:59, 91.82it/s]\u001b[A\u001b[A\n",
      "\n",
      " 12%|█▏        | 11936/100000 [02:13<19:08, 76.65it/s]\u001b[A\u001b[A\n",
      "\n",
      " 12%|█▏        | 11945/100000 [02:13<18:55, 77.55it/s]\u001b[A\u001b[A\n",
      "\n",
      " 12%|█▏        | 11957/100000 [02:13<17:24, 84.32it/s]\u001b[A\u001b[A\n",
      "\n",
      " 12%|█▏        | 11967/100000 [02:13<17:23, 84.40it/s]\u001b[A\u001b[A\n",
      "\n",
      " 12%|█▏        | 11976/100000 [02:13<17:12, 85.29it/s]\u001b[A\u001b[A\n",
      "\n",
      " 12%|█▏        | 11986/100000 [02:13<16:37, 88.25it/s]\u001b[A\u001b[A\n",
      "\n",
      " 12%|█▏        | 11995/100000 [02:13<16:36, 88.28it/s]\u001b[A\u001b[A\n",
      "\n",
      " 12%|█▏        | 12005/100000 [02:13<16:17, 90.01it/s]\u001b[A\u001b[A\n",
      "\n",
      " 12%|█▏        | 12015/100000 [02:13<16:36, 88.27it/s]\u001b[A\u001b[A\n",
      "\n",
      " 12%|█▏        | 12024/100000 [02:14<16:37, 88.17it/s]\u001b[A\u001b[A\n",
      "\n",
      " 12%|█▏        | 12034/100000 [02:14<16:24, 89.37it/s]\u001b[A\u001b[A\n",
      "\n",
      " 12%|█▏        | 12043/100000 [02:14<17:26, 84.01it/s]\u001b[A\u001b[A\n",
      "\n",
      " 12%|█▏        | 12054/100000 [02:14<16:25, 89.24it/s]\u001b[A\u001b[A\n",
      "\n",
      " 12%|█▏        | 12064/100000 [02:14<16:00, 91.52it/s]\u001b[A\u001b[A\n",
      "\n",
      " 12%|█▏        | 12074/100000 [02:14<16:07, 90.86it/s]\u001b[A\u001b[A\n",
      "\n",
      " 12%|█▏        | 12084/100000 [02:14<16:15, 90.09it/s]\u001b[A\u001b[A\n",
      "\n",
      " 12%|█▏        | 12094/100000 [02:14<16:32, 88.56it/s]\u001b[A\u001b[A\n",
      "\n",
      " 12%|█▏        | 12105/100000 [02:14<15:45, 92.95it/s]\u001b[A\u001b[A\n",
      "\n",
      " 12%|█▏        | 12116/100000 [02:15<15:11, 96.38it/s]\u001b[A\u001b[A\n",
      "\n",
      " 12%|█▏        | 12126/100000 [02:15<15:43, 93.14it/s]\u001b[A\u001b[A\n",
      "\n",
      " 12%|█▏        | 12136/100000 [02:15<16:33, 88.42it/s]\u001b[A\u001b[A\n",
      "\n",
      " 12%|█▏        | 12145/100000 [02:15<16:53, 86.68it/s]\u001b[A\u001b[A\n",
      "\n"
     ]
    },
    {
     "name": "stderr",
     "output_type": "stream",
     "text": [
      " 12%|█▏        | 12154/100000 [02:15<17:23, 84.16it/s]\u001b[A\u001b[A\n",
      "\n",
      " 12%|█▏        | 12164/100000 [02:15<17:00, 86.08it/s]\u001b[A\u001b[A\n",
      "\n",
      " 12%|█▏        | 12174/100000 [02:15<16:27, 88.94it/s]\u001b[A\u001b[A\n",
      "\n",
      " 12%|█▏        | 12183/100000 [02:15<17:25, 83.97it/s]\u001b[A\u001b[A\n",
      "\n",
      " 12%|█▏        | 12194/100000 [02:15<16:16, 89.95it/s]\u001b[A\u001b[A\n",
      "\n",
      " 12%|█▏        | 12204/100000 [02:16<16:42, 87.54it/s]\u001b[A\u001b[A\n",
      "\n",
      " 12%|█▏        | 12213/100000 [02:16<17:41, 82.70it/s]\u001b[A\u001b[A\n",
      "\n",
      " 12%|█▏        | 12224/100000 [02:16<16:45, 87.30it/s]\u001b[A\u001b[A\n",
      "\n",
      " 12%|█▏        | 12234/100000 [02:16<16:25, 89.03it/s]\u001b[A\u001b[A\n",
      "\n",
      " 12%|█▏        | 12245/100000 [02:16<15:41, 93.16it/s]\u001b[A\u001b[A\n",
      "\n",
      " 12%|█▏        | 12255/100000 [02:16<16:03, 91.09it/s]\u001b[A\u001b[A\n",
      "\n",
      " 12%|█▏        | 12266/100000 [02:16<15:39, 93.34it/s]\u001b[A\u001b[A\n",
      "\n",
      " 12%|█▏        | 12276/100000 [02:16<16:00, 91.29it/s]\u001b[A\u001b[A\n",
      "\n",
      " 12%|█▏        | 12286/100000 [02:16<17:59, 81.23it/s]\u001b[A\u001b[A\n",
      "\n",
      " 12%|█▏        | 12295/100000 [02:17<19:09, 76.29it/s]\u001b[A\u001b[A\n",
      "\n",
      " 12%|█▏        | 12305/100000 [02:17<17:58, 81.28it/s]\u001b[A\u001b[A\n",
      "\n",
      " 12%|█▏        | 12317/100000 [02:17<16:27, 88.83it/s]\u001b[A\u001b[A\n",
      "\n",
      " 12%|█▏        | 12327/100000 [02:17<15:54, 91.83it/s]\u001b[A\u001b[A\n",
      "\n",
      " 12%|█▏        | 12338/100000 [02:17<15:25, 94.73it/s]\u001b[A\u001b[A\n",
      "\n",
      " 12%|█▏        | 12348/100000 [02:17<18:56, 77.12it/s]\u001b[A\u001b[A\n",
      "\n",
      " 12%|█▏        | 12358/100000 [02:17<17:56, 81.40it/s]\u001b[A\u001b[A\n",
      "\n",
      " 12%|█▏        | 12369/100000 [02:17<16:55, 86.30it/s]\u001b[A\u001b[A\n",
      "\n",
      " 12%|█▏        | 12379/100000 [02:18<17:11, 84.98it/s]\u001b[A\u001b[A\n",
      "\n",
      " 12%|█▏        | 12391/100000 [02:18<15:54, 91.78it/s]\u001b[A\u001b[A\n",
      "\n",
      " 12%|█▏        | 12401/100000 [02:18<16:03, 90.94it/s]\u001b[A\u001b[A\n",
      "\n",
      " 12%|█▏        | 12411/100000 [02:18<16:17, 89.60it/s]\u001b[A\u001b[A\n",
      "\n",
      " 12%|█▏        | 12422/100000 [02:18<15:37, 93.43it/s]\u001b[A\u001b[A\n",
      "\n",
      " 12%|█▏        | 12432/100000 [02:18<15:37, 93.42it/s]\u001b[A\u001b[A\n",
      "\n",
      " 12%|█▏        | 12442/100000 [02:18<15:32, 93.85it/s]\u001b[A\u001b[A\n",
      "\n",
      " 12%|█▏        | 12452/100000 [02:18<15:47, 92.35it/s]\u001b[A\u001b[A\n",
      "\n",
      " 12%|█▏        | 12462/100000 [02:18<16:31, 88.31it/s]\u001b[A\u001b[A\n",
      "\n",
      " 12%|█▏        | 12474/100000 [02:19<15:30, 94.09it/s]\u001b[A\u001b[A\n",
      "\n",
      " 12%|█▏        | 12484/100000 [02:19<16:17, 89.54it/s]\u001b[A\u001b[A\n",
      "\n",
      " 12%|█▏        | 12494/100000 [02:19<19:31, 74.69it/s]\u001b[A\u001b[A\n",
      "\n",
      " 13%|█▎        | 12505/100000 [02:19<17:46, 82.01it/s]\u001b[A\u001b[A\n",
      "\n",
      " 13%|█▎        | 12516/100000 [02:19<16:36, 87.83it/s]\u001b[A\u001b[A\n",
      "\n",
      " 13%|█▎        | 12526/100000 [02:19<16:36, 87.81it/s]\u001b[A\u001b[A\n",
      "\n",
      " 13%|█▎        | 12536/100000 [02:19<17:19, 84.17it/s]\u001b[A\u001b[A\n",
      "\n",
      " 13%|█▎        | 12545/100000 [02:19<17:09, 84.96it/s]\u001b[A\u001b[A\n",
      "\n",
      " 13%|█▎        | 12554/100000 [02:20<16:56, 86.00it/s]\u001b[A\u001b[A\n",
      "\n",
      " 13%|█▎        | 12564/100000 [02:20<16:20, 89.16it/s]\u001b[A\u001b[A\n",
      "\n",
      " 13%|█▎        | 12574/100000 [02:20<16:23, 88.91it/s]\u001b[A\u001b[A\n",
      "\n",
      " 13%|█▎        | 12583/100000 [02:20<16:47, 86.80it/s]\u001b[A\u001b[A\n",
      "\n",
      " 13%|█▎        | 12592/100000 [02:20<17:06, 85.17it/s]\u001b[A\u001b[A\n",
      "\n",
      " 13%|█▎        | 12603/100000 [02:20<16:14, 89.64it/s]\u001b[A\u001b[A\n",
      "\n",
      " 13%|█▎        | 12614/100000 [02:20<15:26, 94.33it/s]\u001b[A\u001b[A\n",
      "\n",
      " 13%|█▎        | 12624/100000 [02:20<15:47, 92.17it/s]\u001b[A\u001b[A\n",
      "\n",
      " 13%|█▎        | 12634/100000 [02:20<15:30, 93.90it/s]\u001b[A\u001b[A\n",
      "\n",
      " 13%|█▎        | 12644/100000 [02:20<15:28, 94.12it/s]\u001b[A\u001b[A\n",
      "\n",
      " 13%|█▎        | 12654/100000 [02:21<15:34, 93.43it/s]\u001b[A\u001b[A\n",
      "\n",
      " 13%|█▎        | 12665/100000 [02:21<14:57, 97.31it/s]\u001b[A\u001b[A\n",
      "\n",
      " 13%|█▎        | 12676/100000 [02:21<14:32, 100.03it/s]\u001b[A\u001b[A\n",
      "\n",
      " 13%|█▎        | 12687/100000 [02:21<15:20, 94.86it/s] \u001b[A\u001b[A\n",
      "\n",
      " 13%|█▎        | 12697/100000 [02:21<15:09, 96.01it/s]\u001b[A\u001b[A\n",
      "\n",
      " 13%|█▎        | 12707/100000 [02:21<15:19, 94.91it/s]\u001b[A\u001b[A\n",
      "\n",
      " 13%|█▎        | 12717/100000 [02:21<16:22, 88.85it/s]\u001b[A\u001b[A\n",
      "\n",
      " 13%|█▎        | 12727/100000 [02:21<16:11, 89.88it/s]\u001b[A\u001b[A\n",
      "\n",
      " 13%|█▎        | 12737/100000 [02:22<16:28, 88.31it/s]\u001b[A\u001b[A\n",
      "\n",
      " 13%|█▎        | 12746/100000 [02:22<16:56, 85.86it/s]\u001b[A\u001b[A\n",
      "\n",
      " 13%|█▎        | 12755/100000 [02:22<18:45, 77.54it/s]\u001b[A\u001b[A\n",
      "\n",
      " 13%|█▎        | 12765/100000 [02:22<17:42, 82.13it/s]\u001b[A\u001b[A\n",
      "\n",
      " 13%|█▎        | 12775/100000 [02:22<16:54, 85.97it/s]\u001b[A\u001b[A\n",
      "\n",
      " 13%|█▎        | 12785/100000 [02:22<16:14, 89.48it/s]\u001b[A\u001b[A\n",
      "\n",
      " 13%|█▎        | 12795/100000 [02:22<16:44, 86.83it/s]\u001b[A\u001b[A\n",
      "\n",
      " 13%|█▎        | 12804/100000 [02:22<16:59, 85.55it/s]\u001b[A\u001b[A\n",
      "\n",
      " 13%|█▎        | 12813/100000 [02:22<18:29, 78.61it/s]\u001b[A\u001b[A\n",
      "\n",
      " 13%|█▎        | 12823/100000 [02:23<17:22, 83.65it/s]\u001b[A\u001b[A\n",
      "\n",
      " 13%|█▎        | 12832/100000 [02:23<18:45, 77.42it/s]\u001b[A\u001b[A\n",
      "\n",
      " 13%|█▎        | 12841/100000 [02:23<18:03, 80.41it/s]\u001b[A\u001b[A\n",
      "\n",
      " 13%|█▎        | 12852/100000 [02:23<17:03, 85.12it/s]\u001b[A\u001b[A\n",
      "\n",
      " 13%|█▎        | 12861/100000 [02:23<17:18, 83.87it/s]\u001b[A\u001b[A\n",
      "\n",
      " 13%|█▎        | 12870/100000 [02:23<17:04, 85.04it/s]\u001b[A\u001b[A\n",
      "\n",
      " 13%|█▎        | 12879/100000 [02:23<17:05, 84.98it/s]\u001b[A\u001b[A\n",
      "\n",
      " 13%|█▎        | 12888/100000 [02:23<17:09, 84.62it/s]\u001b[A\u001b[A\n",
      "\n",
      " 13%|█▎        | 12900/100000 [02:23<15:59, 90.80it/s]\u001b[A\u001b[A\n",
      "\n",
      " 13%|█▎        | 12910/100000 [02:24<15:46, 91.99it/s]\u001b[A\u001b[A\n",
      "\n",
      " 13%|█▎        | 12920/100000 [02:24<15:55, 91.12it/s]\u001b[A\u001b[A\n",
      "\n",
      " 13%|█▎        | 12930/100000 [02:24<15:36, 92.99it/s]\u001b[A\u001b[A\n",
      "\n",
      " 13%|█▎        | 12941/100000 [02:24<15:14, 95.16it/s]\u001b[A\u001b[A\n",
      "\n",
      " 13%|█▎        | 12951/100000 [02:24<15:32, 93.38it/s]\u001b[A\u001b[A\n",
      "\n",
      " 13%|█▎        | 12961/100000 [02:24<15:19, 94.65it/s]\u001b[A\u001b[A\n",
      "\n",
      " 13%|█▎        | 12972/100000 [02:24<14:48, 97.99it/s]\u001b[A\u001b[A\n",
      "\n",
      " 13%|█▎        | 12983/100000 [02:24<14:54, 97.30it/s]\u001b[A\u001b[A\n",
      "\n",
      " 13%|█▎        | 12994/100000 [02:24<14:52, 97.47it/s]\u001b[A\u001b[A\n",
      "\n",
      " 13%|█▎        | 13004/100000 [02:25<15:14, 95.16it/s]\u001b[A\u001b[A\n",
      "\n",
      " 13%|█▎        | 13015/100000 [02:25<14:56, 97.07it/s]\u001b[A\u001b[A\n",
      "\n",
      " 13%|█▎        | 13025/100000 [02:25<16:31, 87.74it/s]\u001b[A\u001b[A\n",
      "\n",
      " 13%|█▎        | 13035/100000 [02:25<16:09, 89.72it/s]\u001b[A\u001b[A\n",
      "\n",
      " 13%|█▎        | 13045/100000 [02:25<16:07, 89.86it/s]\u001b[A\u001b[A\n",
      "\n",
      " 13%|█▎        | 13055/100000 [02:25<15:50, 91.51it/s]\u001b[A\u001b[A\n",
      "\n",
      " 13%|█▎        | 13065/100000 [02:25<16:32, 87.61it/s]\u001b[A\u001b[A\n",
      "\n",
      " 13%|█▎        | 13074/100000 [02:25<17:01, 85.06it/s]\u001b[A\u001b[A\n",
      "\n",
      " 13%|█▎        | 13083/100000 [02:25<17:16, 83.86it/s]\u001b[A\u001b[A\n",
      "\n",
      " 13%|█▎        | 13093/100000 [02:26<16:45, 86.45it/s]\u001b[A\u001b[A\n",
      "\n",
      " 13%|█▎        | 13103/100000 [02:26<16:09, 89.63it/s]\u001b[A\u001b[A\n",
      "\n",
      " 13%|█▎        | 13113/100000 [02:26<17:58, 80.56it/s]\u001b[A\u001b[A\n",
      "\n",
      " 13%|█▎        | 13122/100000 [02:26<17:31, 82.59it/s]\u001b[A\u001b[A\n",
      "\n",
      " 13%|█▎        | 13133/100000 [02:26<16:28, 87.84it/s]\u001b[A\u001b[A\n",
      "\n",
      " 13%|█▎        | 13143/100000 [02:26<16:02, 90.23it/s]\u001b[A\u001b[A\n",
      "\n",
      " 13%|█▎        | 13153/100000 [02:26<17:42, 81.71it/s]\u001b[A\u001b[A\n",
      "\n",
      " 13%|█▎        | 13162/100000 [02:26<17:47, 81.36it/s]\u001b[A\u001b[A\n",
      "\n",
      " 13%|█▎        | 13173/100000 [02:26<16:34, 87.29it/s]\u001b[A\u001b[A\n",
      "\n",
      " 13%|█▎        | 13182/100000 [02:27<17:25, 83.08it/s]\u001b[A\u001b[A\n",
      "\n",
      " 13%|█▎        | 13191/100000 [02:27<17:25, 83.07it/s]\u001b[A\u001b[A\n",
      "\n",
      " 13%|█▎        | 13202/100000 [02:27<16:23, 88.25it/s]\u001b[A\u001b[A\n",
      "\n",
      " 13%|█▎        | 13212/100000 [02:27<16:19, 88.57it/s]\u001b[A\u001b[A\n",
      "\n",
      " 13%|█▎        | 13222/100000 [02:27<16:10, 89.41it/s]\u001b[A\u001b[A\n",
      "\n",
      " 13%|█▎        | 13232/100000 [02:27<15:55, 90.85it/s]\u001b[A\u001b[A\n",
      "\n",
      " 13%|█▎        | 13243/100000 [02:27<15:06, 95.66it/s]\u001b[A\u001b[A\n",
      "\n",
      " 13%|█▎        | 13253/100000 [02:27<15:09, 95.39it/s]\u001b[A\u001b[A\n",
      "\n",
      " 13%|█▎        | 13264/100000 [02:27<14:48, 97.62it/s]\u001b[A\u001b[A\n",
      "\n",
      " 13%|█▎        | 13274/100000 [02:28<14:51, 97.23it/s]\u001b[A\u001b[A\n",
      "\n",
      " 13%|█▎        | 13284/100000 [02:28<15:03, 96.01it/s]\u001b[A\u001b[A\n",
      "\n",
      " 13%|█▎        | 13296/100000 [02:28<14:27, 99.94it/s]\u001b[A\u001b[A\n",
      "\n",
      " 13%|█▎        | 13307/100000 [02:28<14:21, 100.60it/s]\u001b[A\u001b[A\n",
      "\n",
      " 13%|█▎        | 13318/100000 [02:28<14:32, 99.38it/s] \u001b[A\u001b[A\n",
      "\n",
      " 13%|█▎        | 13328/100000 [02:28<14:48, 97.58it/s]\u001b[A\u001b[A\n",
      "\n",
      " 13%|█▎        | 13338/100000 [02:28<15:27, 93.40it/s]\u001b[A\u001b[A\n",
      "\n",
      " 13%|█▎        | 13348/100000 [02:28<15:47, 91.43it/s]\u001b[A\u001b[A\n",
      "\n",
      " 13%|█▎        | 13358/100000 [02:28<16:07, 89.55it/s]\u001b[A\u001b[A\n",
      "\n",
      " 13%|█▎        | 13369/100000 [02:29<15:18, 94.33it/s]\u001b[A\u001b[A\n",
      "\n",
      " 13%|█▎        | 13381/100000 [02:29<14:36, 98.88it/s]\u001b[A\u001b[A\n",
      "\n",
      " 13%|█▎        | 13392/100000 [02:29<15:43, 91.75it/s]\u001b[A\u001b[A\n",
      "\n",
      " 13%|█▎        | 13403/100000 [02:29<15:04, 95.79it/s]\u001b[A\u001b[A\n",
      "\n",
      " 13%|█▎        | 13413/100000 [02:29<15:08, 95.28it/s]\u001b[A\u001b[A\n",
      "\n",
      " 13%|█▎        | 13425/100000 [02:29<14:28, 99.63it/s]\u001b[A\u001b[A\n",
      "\n",
      " 13%|█▎        | 13436/100000 [02:29<15:41, 91.93it/s]\u001b[A\u001b[A\n",
      "\n",
      " 13%|█▎        | 13446/100000 [02:29<15:54, 90.67it/s]\u001b[A\u001b[A\n",
      "\n",
      " 13%|█▎        | 13456/100000 [02:29<15:37, 92.32it/s]\u001b[A\u001b[A\n",
      "\n",
      " 13%|█▎        | 13467/100000 [02:30<15:17, 94.36it/s]\u001b[A\u001b[A\n",
      "\n",
      " 13%|█▎        | 13477/100000 [02:30<16:12, 88.93it/s]\u001b[A\u001b[A\n",
      "\n",
      " 13%|█▎        | 13487/100000 [02:30<16:31, 87.25it/s]\u001b[A\u001b[A\n",
      "\n"
     ]
    },
    {
     "name": "stderr",
     "output_type": "stream",
     "text": [
      " 13%|█▎        | 13496/100000 [02:30<16:51, 85.53it/s]\u001b[A\u001b[A\n",
      "\n",
      " 14%|█▎        | 13507/100000 [02:30<15:56, 90.42it/s]\u001b[A\u001b[A\n",
      "\n",
      " 14%|█▎        | 13517/100000 [02:30<16:27, 87.54it/s]\u001b[A\u001b[A\n",
      "\n",
      " 14%|█▎        | 13526/100000 [02:30<16:26, 87.65it/s]\u001b[A\u001b[A\n",
      "\n",
      " 14%|█▎        | 13538/100000 [02:30<15:25, 93.44it/s]\u001b[A\u001b[A\n",
      "\n",
      " 14%|█▎        | 13549/100000 [02:30<15:03, 95.63it/s]\u001b[A\u001b[A\n",
      "\n",
      " 14%|█▎        | 13559/100000 [02:31<14:57, 96.32it/s]\u001b[A\u001b[A\n",
      "\n",
      " 14%|█▎        | 13569/100000 [02:31<14:51, 96.92it/s]\u001b[A\u001b[A\n",
      "\n",
      " 14%|█▎        | 13579/100000 [02:31<14:59, 96.03it/s]\u001b[A\u001b[A\n",
      "\n",
      " 14%|█▎        | 13589/100000 [02:31<17:43, 81.24it/s]\u001b[A\u001b[A\n",
      "\n",
      " 14%|█▎        | 13598/100000 [02:31<17:23, 82.83it/s]\u001b[A\u001b[A\n",
      "\n",
      " 14%|█▎        | 13608/100000 [02:31<16:36, 86.70it/s]\u001b[A\u001b[A\n",
      "\n",
      " 14%|█▎        | 13617/100000 [02:31<16:30, 87.18it/s]\u001b[A\u001b[A\n",
      "\n",
      " 14%|█▎        | 13627/100000 [02:31<16:06, 89.34it/s]\u001b[A\u001b[A\n",
      "\n",
      " 14%|█▎        | 13637/100000 [02:31<15:43, 91.56it/s]\u001b[A\u001b[A\n",
      "\n",
      " 14%|█▎        | 13648/100000 [02:32<15:04, 95.50it/s]\u001b[A\u001b[A\n",
      "\n",
      " 14%|█▎        | 13658/100000 [02:32<14:56, 96.30it/s]\u001b[A\u001b[A\n",
      "\n",
      " 14%|█▎        | 13668/100000 [02:32<14:54, 96.50it/s]\u001b[A\u001b[A\n",
      "\n",
      " 14%|█▎        | 13678/100000 [02:32<15:05, 95.33it/s]\u001b[A\u001b[A\n",
      "\n",
      " 14%|█▎        | 13690/100000 [02:32<14:29, 99.32it/s]\u001b[A\u001b[A\n",
      "\n",
      " 14%|█▎        | 13701/100000 [02:32<14:03, 102.28it/s]\u001b[A\u001b[A\n",
      "\n",
      " 14%|█▎        | 13712/100000 [02:32<14:30, 99.09it/s] \u001b[A\u001b[A\n",
      "\n",
      " 14%|█▎        | 13722/100000 [02:32<14:36, 98.44it/s]\u001b[A\u001b[A\n",
      "\n",
      " 14%|█▎        | 13732/100000 [02:32<16:20, 87.95it/s]\u001b[A\u001b[A\n",
      "\n",
      " 14%|█▎        | 13742/100000 [02:33<16:56, 84.87it/s]\u001b[A\u001b[A\n",
      "\n",
      " 14%|█▍        | 13752/100000 [02:33<16:13, 88.56it/s]\u001b[A\u001b[A\n",
      "\n",
      " 14%|█▍        | 13762/100000 [02:33<16:25, 87.53it/s]\u001b[A\u001b[A\n",
      "\n",
      " 14%|█▍        | 13771/100000 [02:33<16:39, 86.26it/s]\u001b[A\u001b[A\n",
      "\n",
      " 14%|█▍        | 13781/100000 [02:33<16:17, 88.17it/s]\u001b[A\u001b[A\n",
      "\n",
      " 14%|█▍        | 13790/100000 [02:33<16:59, 84.53it/s]\u001b[A\u001b[A\n",
      "\n",
      " 14%|█▍        | 13800/100000 [02:33<16:14, 88.42it/s]\u001b[A\u001b[A\n",
      "\n",
      " 14%|█▍        | 13811/100000 [02:33<15:36, 92.02it/s]\u001b[A\u001b[A\n",
      "\n",
      " 14%|█▍        | 13821/100000 [02:33<15:59, 89.85it/s]\u001b[A\u001b[A\n",
      "\n",
      " 14%|█▍        | 13831/100000 [02:34<16:15, 88.34it/s]\u001b[A\u001b[A\n",
      "\n",
      " 14%|█▍        | 13841/100000 [02:34<15:50, 90.61it/s]\u001b[A\u001b[A\n",
      "\n",
      " 14%|█▍        | 13851/100000 [02:34<16:38, 86.25it/s]\u001b[A\u001b[A\n",
      "\n",
      " 14%|█▍        | 13861/100000 [02:34<16:33, 86.66it/s]\u001b[A\u001b[A\n",
      "\n",
      " 14%|█▍        | 13872/100000 [02:34<15:34, 92.17it/s]\u001b[A\u001b[A\n",
      "\n",
      " 14%|█▍        | 13883/100000 [02:34<15:06, 94.95it/s]\u001b[A\u001b[A\n",
      "\n",
      " 14%|█▍        | 13893/100000 [02:34<15:14, 94.13it/s]\u001b[A\u001b[A\n",
      "\n",
      " 14%|█▍        | 13903/100000 [02:34<15:53, 90.29it/s]\u001b[A\u001b[A\n",
      "\n",
      " 14%|█▍        | 13913/100000 [02:34<16:06, 89.09it/s]\u001b[A\u001b[A\n",
      "\n",
      " 14%|█▍        | 13923/100000 [02:35<15:47, 90.84it/s]\u001b[A\u001b[A\n",
      "\n",
      " 14%|█▍        | 13935/100000 [02:35<14:56, 95.99it/s]\u001b[A\u001b[A\n",
      "\n",
      " 14%|█▍        | 13946/100000 [02:35<14:46, 97.06it/s]\u001b[A\u001b[A\n",
      "\n",
      " 14%|█▍        | 13957/100000 [02:35<14:56, 95.94it/s]\u001b[A\u001b[A\n",
      "\n",
      " 14%|█▍        | 13967/100000 [02:35<14:46, 97.08it/s]\u001b[A\u001b[A\n",
      "\n",
      " 14%|█▍        | 13977/100000 [02:35<14:49, 96.66it/s]\u001b[A\u001b[A\n",
      "\n",
      " 14%|█▍        | 13987/100000 [02:35<15:00, 95.53it/s]\u001b[A\u001b[A\n",
      "\n",
      " 14%|█▍        | 13997/100000 [02:35<17:01, 84.16it/s]\u001b[A\u001b[A\n",
      "\n",
      " 14%|█▍        | 14006/100000 [02:36<16:57, 84.54it/s]\u001b[A\u001b[A\n",
      "\n",
      " 14%|█▍        | 14015/100000 [02:36<16:39, 85.99it/s]\u001b[A\u001b[A\n",
      "\n",
      " 14%|█▍        | 14024/100000 [02:36<17:12, 83.24it/s]\u001b[A\u001b[A\n",
      "\n",
      " 14%|█▍        | 14034/100000 [02:36<16:27, 87.06it/s]\u001b[A\u001b[A\n",
      "\n",
      " 14%|█▍        | 14043/100000 [02:36<16:32, 86.57it/s]\u001b[A\u001b[A\n",
      "\n",
      " 14%|█▍        | 14052/100000 [02:36<16:23, 87.40it/s]\u001b[A\u001b[A\n",
      "\n",
      " 14%|█▍        | 14062/100000 [02:36<15:47, 90.65it/s]\u001b[A\u001b[A\n",
      "\n",
      " 14%|█▍        | 14073/100000 [02:36<15:08, 94.55it/s]\u001b[A\u001b[A\n",
      "\n",
      " 14%|█▍        | 14083/100000 [02:36<15:30, 92.31it/s]\u001b[A\u001b[A\n",
      "\n",
      " 14%|█▍        | 14093/100000 [02:36<15:27, 92.60it/s]\u001b[A\u001b[A\n",
      "\n",
      " 14%|█▍        | 14104/100000 [02:37<14:48, 96.63it/s]\u001b[A\u001b[A\n",
      "\n",
      " 14%|█▍        | 14114/100000 [02:37<15:04, 94.94it/s]\u001b[A\u001b[A\n",
      "\n",
      " 14%|█▍        | 14124/100000 [02:37<15:08, 94.56it/s]\u001b[A\u001b[A\n",
      "\n",
      " 14%|█▍        | 14134/100000 [02:37<14:53, 96.10it/s]\u001b[A\u001b[A\n",
      "\n",
      " 14%|█▍        | 14144/100000 [02:37<15:16, 93.67it/s]\u001b[A\u001b[A\n",
      "\n",
      " 14%|█▍        | 14154/100000 [02:37<15:41, 91.16it/s]\u001b[A\u001b[A\n",
      "\n",
      " 14%|█▍        | 14164/100000 [02:37<15:58, 89.54it/s]\u001b[A\u001b[A\n",
      "\n",
      " 14%|█▍        | 14176/100000 [02:37<14:59, 95.38it/s]\u001b[A\u001b[A\n",
      "\n",
      " 14%|█▍        | 14186/100000 [02:37<15:14, 93.81it/s]\u001b[A\u001b[A\n",
      "\n",
      " 14%|█▍        | 14196/100000 [02:38<15:36, 91.58it/s]\u001b[A\u001b[A\n",
      "\n",
      " 14%|█▍        | 14206/100000 [02:38<15:38, 91.45it/s]\u001b[A\u001b[A\n",
      "\n",
      " 14%|█▍        | 14216/100000 [02:38<16:02, 89.09it/s]\u001b[A\u001b[A\n",
      "\n",
      " 14%|█▍        | 14226/100000 [02:38<15:41, 91.08it/s]\u001b[A\u001b[A\n",
      "\n",
      " 14%|█▍        | 14236/100000 [02:38<17:14, 82.91it/s]\u001b[A\u001b[A\n",
      "\n",
      " 14%|█▍        | 14245/100000 [02:38<17:01, 83.94it/s]\u001b[A\u001b[A\n",
      "\n",
      " 14%|█▍        | 14254/100000 [02:38<16:56, 84.38it/s]\u001b[A\u001b[A\n",
      "\n",
      " 14%|█▍        | 14263/100000 [02:38<17:23, 82.15it/s]\u001b[A\u001b[A\n",
      "\n",
      " 14%|█▍        | 14272/100000 [02:38<18:46, 76.09it/s]\u001b[A\u001b[A\n",
      "\n",
      " 14%|█▍        | 14281/100000 [02:39<18:04, 79.04it/s]\u001b[A\u001b[A\n",
      "\n",
      " 14%|█▍        | 14292/100000 [02:39<16:50, 84.78it/s]\u001b[A\u001b[A\n",
      "\n",
      " 14%|█▍        | 14302/100000 [02:39<16:23, 87.11it/s]\u001b[A\u001b[A\n",
      "\n",
      " 14%|█▍        | 14311/100000 [02:39<17:16, 82.64it/s]\u001b[A\u001b[A\n",
      "\n",
      " 14%|█▍        | 14320/100000 [02:39<16:55, 84.35it/s]\u001b[A\u001b[A\n",
      "\n",
      " 14%|█▍        | 14330/100000 [02:39<16:31, 86.37it/s]\u001b[A\u001b[A\n",
      "\n",
      " 14%|█▍        | 14340/100000 [02:39<15:57, 89.44it/s]\u001b[A\u001b[A\n",
      "\n",
      " 14%|█▍        | 14351/100000 [02:39<15:08, 94.28it/s]\u001b[A\u001b[A\n",
      "\n",
      " 14%|█▍        | 14363/100000 [02:39<14:41, 97.14it/s]\u001b[A\u001b[A\n",
      "\n",
      " 14%|█▍        | 14373/100000 [02:40<14:55, 95.63it/s]\u001b[A\u001b[A\n",
      "\n",
      " 14%|█▍        | 14383/100000 [02:40<14:53, 95.79it/s]\u001b[A\u001b[A\n",
      "\n",
      " 14%|█▍        | 14393/100000 [02:40<15:20, 92.99it/s]\u001b[A\u001b[A\n",
      "\n",
      " 14%|█▍        | 14403/100000 [02:40<15:25, 92.50it/s]\u001b[A\u001b[A\n",
      "\n",
      " 14%|█▍        | 14413/100000 [02:40<16:01, 89.05it/s]\u001b[A\u001b[A\n",
      "\n",
      " 14%|█▍        | 14423/100000 [02:40<15:58, 89.24it/s]\u001b[A\u001b[A\n",
      "\n",
      " 14%|█▍        | 14432/100000 [02:40<17:05, 83.45it/s]\u001b[A\u001b[A\n",
      "\n",
      " 14%|█▍        | 14441/100000 [02:40<16:57, 84.06it/s]\u001b[A\u001b[A\n",
      "\n",
      " 14%|█▍        | 14450/100000 [02:40<16:50, 84.64it/s]\u001b[A\u001b[A\n",
      "\n",
      " 14%|█▍        | 14460/100000 [02:41<16:07, 88.40it/s]\u001b[A\u001b[A\n",
      "\n",
      " 14%|█▍        | 14470/100000 [02:41<15:48, 90.15it/s]\u001b[A\u001b[A\n",
      "\n",
      " 14%|█▍        | 14480/100000 [02:41<16:36, 85.84it/s]\u001b[A\u001b[A\n",
      "\n",
      " 14%|█▍        | 14491/100000 [02:41<15:46, 90.35it/s]\u001b[A\u001b[A\n",
      "\n",
      " 15%|█▍        | 14501/100000 [02:41<15:40, 90.95it/s]\u001b[A\u001b[A\n",
      "\n",
      " 15%|█▍        | 14512/100000 [02:41<15:02, 94.73it/s]\u001b[A\u001b[A\n",
      "\n",
      " 15%|█▍        | 14522/100000 [02:41<14:49, 96.10it/s]\u001b[A\u001b[A\n",
      "\n",
      " 15%|█▍        | 14532/100000 [02:41<15:02, 94.74it/s]\u001b[A\u001b[A\n",
      "\n",
      " 15%|█▍        | 14542/100000 [02:41<14:53, 95.62it/s]\u001b[A\u001b[A\n",
      "\n",
      " 15%|█▍        | 14552/100000 [02:42<16:02, 88.81it/s]\u001b[A\u001b[A\n",
      "\n",
      " 15%|█▍        | 14562/100000 [02:42<15:34, 91.44it/s]\u001b[A\u001b[A\n",
      "\n",
      " 15%|█▍        | 14572/100000 [02:42<16:22, 86.95it/s]\u001b[A\u001b[A\n",
      "\n",
      " 15%|█▍        | 14582/100000 [02:42<15:49, 89.96it/s]\u001b[A\u001b[A\n",
      "\n",
      " 15%|█▍        | 14594/100000 [02:42<14:56, 95.31it/s]\u001b[A\u001b[A\n",
      "\n",
      " 15%|█▍        | 14604/100000 [02:42<15:22, 92.59it/s]\u001b[A\u001b[A\n",
      "\n",
      " 15%|█▍        | 14614/100000 [02:42<15:13, 93.43it/s]\u001b[A\u001b[A\n",
      "\n",
      " 15%|█▍        | 14624/100000 [02:42<15:35, 91.29it/s]\u001b[A\u001b[A\n",
      "\n",
      " 15%|█▍        | 14636/100000 [02:42<14:44, 96.50it/s]\u001b[A\u001b[A\n",
      "\n",
      " 15%|█▍        | 14646/100000 [02:43<15:20, 92.68it/s]\u001b[A\u001b[A\n",
      "\n",
      " 15%|█▍        | 14656/100000 [02:43<15:17, 92.98it/s]\u001b[A\u001b[A\n",
      "\n",
      " 15%|█▍        | 14667/100000 [02:43<14:57, 95.04it/s]\u001b[A\u001b[A\n",
      "\n",
      " 15%|█▍        | 14677/100000 [02:43<15:45, 90.23it/s]\u001b[A\u001b[A\n",
      "\n",
      " 15%|█▍        | 14687/100000 [02:43<15:20, 92.64it/s]\u001b[A\u001b[A\n",
      "\n",
      " 15%|█▍        | 14697/100000 [02:43<15:33, 91.37it/s]\u001b[A\u001b[A\n",
      "\n",
      " 15%|█▍        | 14708/100000 [02:43<15:31, 91.56it/s]\u001b[A\u001b[A\n",
      "\n",
      " 15%|█▍        | 14718/100000 [02:43<15:30, 91.64it/s]\u001b[A\u001b[A\n",
      "\n",
      " 15%|█▍        | 14728/100000 [02:43<16:21, 86.87it/s]\u001b[A\u001b[A\n",
      "\n",
      " 15%|█▍        | 14738/100000 [02:44<15:51, 89.57it/s]\u001b[A\u001b[A\n",
      "\n",
      " 15%|█▍        | 14748/100000 [02:44<16:33, 85.78it/s]\u001b[A\u001b[A\n",
      "\n",
      " 15%|█▍        | 14757/100000 [02:44<16:25, 86.49it/s]\u001b[A\u001b[A\n",
      "\n",
      " 15%|█▍        | 14768/100000 [02:44<15:37, 90.92it/s]\u001b[A\u001b[A\n",
      "\n",
      " 15%|█▍        | 14779/100000 [02:44<14:48, 95.88it/s]\u001b[A\u001b[A\n",
      "\n",
      " 15%|█▍        | 14789/100000 [02:44<15:35, 91.07it/s]\u001b[A\u001b[A\n",
      "\n",
      " 15%|█▍        | 14799/100000 [02:44<16:51, 84.23it/s]\u001b[A\u001b[A\n",
      "\n",
      " 15%|█▍        | 14809/100000 [02:44<17:03, 83.26it/s]\u001b[A\u001b[A\n",
      "\n",
      " 15%|█▍        | 14819/100000 [02:45<16:27, 86.24it/s]\u001b[A\u001b[A\n",
      "\n"
     ]
    },
    {
     "name": "stderr",
     "output_type": "stream",
     "text": [
      " 15%|█▍        | 14829/100000 [02:45<15:52, 89.39it/s]\u001b[A\u001b[A\n",
      "\n",
      " 15%|█▍        | 14839/100000 [02:45<16:02, 88.44it/s]\u001b[A\u001b[A\n",
      "\n",
      " 15%|█▍        | 14850/100000 [02:45<15:27, 91.85it/s]\u001b[A\u001b[A\n",
      "\n",
      " 15%|█▍        | 14861/100000 [02:45<14:50, 95.60it/s]\u001b[A\u001b[A\n",
      "\n",
      " 15%|█▍        | 14873/100000 [02:45<14:02, 101.06it/s]\u001b[A\u001b[A\n",
      "\n",
      " 15%|█▍        | 14884/100000 [02:45<15:33, 91.19it/s] \u001b[A\u001b[A\n",
      "\n",
      " 15%|█▍        | 14894/100000 [02:45<15:48, 89.71it/s]\u001b[A\u001b[A\n",
      "\n",
      " 15%|█▍        | 14904/100000 [02:45<16:03, 88.28it/s]\u001b[A\u001b[A\n",
      "\n",
      " 15%|█▍        | 14915/100000 [02:46<15:12, 93.20it/s]\u001b[A\u001b[A\n",
      "\n",
      " 15%|█▍        | 14926/100000 [02:46<14:51, 95.38it/s]\u001b[A\u001b[A\n",
      "\n",
      " 15%|█▍        | 14937/100000 [02:46<14:48, 95.79it/s]\u001b[A\u001b[A\n",
      "\n",
      " 15%|█▍        | 14947/100000 [02:46<14:40, 96.58it/s]\u001b[A\u001b[A\n",
      "\n",
      " 15%|█▍        | 14958/100000 [02:46<14:23, 98.51it/s]\u001b[A\u001b[A\n",
      "\n",
      " 15%|█▍        | 14969/100000 [02:46<14:27, 98.04it/s]\u001b[A\u001b[A\n",
      "\n",
      " 15%|█▍        | 14979/100000 [02:46<14:30, 97.64it/s]\u001b[A\u001b[A\n",
      "\n",
      " 15%|█▍        | 14990/100000 [02:46<14:16, 99.26it/s]\u001b[A\u001b[A\n",
      "\n",
      " 15%|█▌        | 15000/100000 [02:46<14:56, 94.79it/s]\u001b[A\u001b[A\n",
      "\n",
      " 15%|█▌        | 15010/100000 [02:47<15:15, 92.88it/s]\u001b[A\u001b[A\n",
      "\n",
      " 15%|█▌        | 15020/100000 [02:47<16:33, 85.58it/s]\u001b[A\u001b[A\n",
      "\n",
      " 15%|█▌        | 15030/100000 [02:47<16:13, 87.32it/s]\u001b[A\u001b[A\n",
      "\n",
      " 15%|█▌        | 15040/100000 [02:47<15:49, 89.51it/s]\u001b[A\u001b[A\n",
      "\n",
      " 15%|█▌        | 15050/100000 [02:47<15:48, 89.52it/s]\u001b[A\u001b[A\n",
      "\n",
      " 15%|█▌        | 15060/100000 [02:47<15:32, 91.07it/s]\u001b[A\u001b[A\n",
      "\n",
      " 15%|█▌        | 15070/100000 [02:47<16:05, 87.94it/s]\u001b[A\u001b[A\n",
      "\n",
      " 15%|█▌        | 15080/100000 [02:47<15:44, 89.93it/s]\u001b[A\u001b[A\n",
      "\n",
      " 15%|█▌        | 15090/100000 [02:47<15:46, 89.68it/s]\u001b[A\u001b[A\n",
      "\n",
      " 15%|█▌        | 15101/100000 [02:48<15:08, 93.48it/s]\u001b[A\u001b[A\n",
      "\n",
      " 15%|█▌        | 15112/100000 [02:48<14:40, 96.39it/s]\u001b[A\u001b[A\n",
      "\n",
      " 15%|█▌        | 15122/100000 [02:48<14:42, 96.16it/s]\u001b[A\u001b[A\n",
      "\n",
      " 15%|█▌        | 15132/100000 [02:48<15:02, 94.06it/s]\u001b[A\u001b[A\n",
      "\n",
      " 15%|█▌        | 15142/100000 [02:48<15:37, 90.49it/s]\u001b[A\u001b[A\n",
      "\n",
      " 15%|█▌        | 15152/100000 [02:48<17:09, 82.42it/s]\u001b[A\u001b[A\n",
      "\n",
      " 15%|█▌        | 15161/100000 [02:48<17:10, 82.33it/s]\u001b[A\u001b[A\n",
      "\n",
      " 15%|█▌        | 15170/100000 [02:48<16:47, 84.17it/s]\u001b[A\u001b[A\n",
      "\n",
      " 15%|█▌        | 15179/100000 [02:48<16:28, 85.79it/s]\u001b[A\u001b[A\n",
      "\n",
      " 15%|█▌        | 15188/100000 [02:49<16:21, 86.43it/s]\u001b[A\u001b[A\n",
      "\n",
      " 15%|█▌        | 15199/100000 [02:49<15:22, 91.90it/s]\u001b[A\u001b[A\n",
      "\n",
      " 15%|█▌        | 15210/100000 [02:49<14:50, 95.26it/s]\u001b[A\u001b[A\n",
      "\n",
      " 15%|█▌        | 15221/100000 [02:49<14:29, 97.55it/s]\u001b[A\u001b[A\n",
      "\n",
      " 15%|█▌        | 15232/100000 [02:49<14:28, 97.55it/s]\u001b[A\u001b[A\n",
      "\n",
      " 15%|█▌        | 15242/100000 [02:49<15:41, 90.05it/s]\u001b[A\u001b[A\n",
      "\n",
      " 15%|█▌        | 15253/100000 [02:49<14:53, 94.81it/s]\u001b[A\u001b[A\n",
      "\n",
      " 15%|█▌        | 15264/100000 [02:49<14:32, 97.12it/s]\u001b[A\u001b[A\n",
      "\n",
      " 15%|█▌        | 15274/100000 [02:49<15:19, 92.11it/s]\u001b[A\u001b[A\n",
      "\n",
      " 15%|█▌        | 15284/100000 [02:50<16:28, 85.66it/s]\u001b[A\u001b[A\n",
      "\n",
      " 15%|█▌        | 15295/100000 [02:50<15:41, 89.97it/s]\u001b[A\u001b[A\n",
      "\n",
      " 15%|█▌        | 15305/100000 [02:50<15:42, 89.88it/s]\u001b[A\u001b[A\n",
      "\n",
      " 15%|█▌        | 15315/100000 [02:50<15:54, 88.73it/s]\u001b[A\u001b[A\n",
      "\n",
      " 15%|█▌        | 15324/100000 [02:50<16:17, 86.67it/s]\u001b[A\u001b[A\n",
      "\n",
      " 15%|█▌        | 15333/100000 [02:50<16:28, 85.63it/s]\u001b[A\u001b[A\n",
      "\n",
      " 15%|█▌        | 15342/100000 [02:50<17:13, 81.90it/s]\u001b[A\u001b[A\n",
      "\n",
      " 15%|█▌        | 15352/100000 [02:50<16:26, 85.80it/s]\u001b[A\u001b[A\n",
      "\n",
      " 15%|█▌        | 15361/100000 [02:50<16:13, 86.99it/s]\u001b[A\u001b[A\n",
      "\n",
      " 15%|█▌        | 15370/100000 [02:51<16:28, 85.58it/s]\u001b[A\u001b[A\n",
      "\n",
      " 15%|█▌        | 15379/100000 [02:51<16:19, 86.38it/s]\u001b[A\u001b[A\n",
      "\n",
      " 15%|█▌        | 15389/100000 [02:51<15:48, 89.23it/s]\u001b[A\u001b[A\n",
      "\n",
      " 15%|█▌        | 15400/100000 [02:51<15:01, 93.87it/s]\u001b[A\u001b[A\n",
      "\n",
      " 15%|█▌        | 15410/100000 [02:51<15:21, 91.75it/s]\u001b[A\u001b[A\n",
      "\n",
      " 15%|█▌        | 15420/100000 [02:51<16:29, 85.46it/s]\u001b[A\u001b[A\n",
      "\n",
      " 15%|█▌        | 15430/100000 [02:51<16:15, 86.70it/s]\u001b[A\u001b[A\n",
      "\n",
      " 15%|█▌        | 15440/100000 [02:51<16:49, 83.75it/s]\u001b[A\u001b[A\n",
      "\n",
      " 15%|█▌        | 15450/100000 [02:51<16:11, 87.03it/s]\u001b[A\u001b[A\n",
      "\n",
      " 15%|█▌        | 15460/100000 [02:52<15:49, 89.06it/s]\u001b[A\u001b[A\n",
      "\n",
      " 15%|█▌        | 15471/100000 [02:52<15:08, 93.07it/s]\u001b[A\u001b[A\n",
      "\n",
      " 15%|█▌        | 15481/100000 [02:52<15:41, 89.78it/s]\u001b[A\u001b[A\n",
      "\n",
      " 15%|█▌        | 15492/100000 [02:52<15:02, 93.61it/s]\u001b[A\u001b[A\n",
      "\n",
      " 16%|█▌        | 15502/100000 [02:52<15:43, 89.60it/s]\u001b[A\u001b[A\n",
      "\n",
      " 16%|█▌        | 15513/100000 [02:52<14:59, 93.95it/s]\u001b[A\u001b[A\n",
      "\n",
      " 16%|█▌        | 15523/100000 [02:52<14:50, 94.86it/s]\u001b[A\u001b[A\n",
      "\n",
      " 16%|█▌        | 15533/100000 [02:52<14:57, 94.10it/s]\u001b[A\u001b[A\n",
      "\n",
      " 16%|█▌        | 15543/100000 [02:52<15:59, 88.02it/s]\u001b[A\u001b[A\n",
      "\n",
      " 16%|█▌        | 15552/100000 [02:53<16:46, 83.91it/s]\u001b[A\u001b[A\n",
      "\n",
      " 16%|█▌        | 15561/100000 [02:53<18:02, 78.01it/s]\u001b[A\u001b[A\n",
      "\n",
      " 16%|█▌        | 15571/100000 [02:53<16:54, 83.21it/s]\u001b[A\u001b[A\n",
      "\n",
      " 16%|█▌        | 15580/100000 [02:53<17:05, 82.34it/s]\u001b[A\u001b[A\n",
      "\n",
      " 16%|█▌        | 15591/100000 [02:53<16:14, 86.59it/s]\u001b[A\u001b[A\n",
      "\n",
      " 16%|█▌        | 15602/100000 [02:53<15:26, 91.10it/s]\u001b[A\u001b[A\n",
      "\n",
      " 16%|█▌        | 15612/100000 [02:53<15:21, 91.61it/s]\u001b[A\u001b[A\n",
      "\n",
      " 16%|█▌        | 15622/100000 [02:53<15:29, 90.82it/s]\u001b[A\u001b[A\n",
      "\n",
      " 16%|█▌        | 15632/100000 [02:53<15:17, 91.96it/s]\u001b[A\u001b[A\n",
      "\n",
      " 16%|█▌        | 15642/100000 [02:54<15:38, 89.89it/s]\u001b[A\u001b[A\n",
      "\n",
      " 16%|█▌        | 15652/100000 [02:54<15:38, 89.84it/s]\u001b[A\u001b[A\n",
      "\n",
      " 16%|█▌        | 15662/100000 [02:54<15:39, 89.78it/s]\u001b[A\u001b[A\n",
      "\n",
      " 16%|█▌        | 15673/100000 [02:54<15:02, 93.44it/s]\u001b[A\u001b[A\n",
      "\n",
      " 16%|█▌        | 15684/100000 [02:54<14:36, 96.22it/s]\u001b[A\u001b[A\n",
      "\n",
      " 16%|█▌        | 15694/100000 [02:54<14:56, 94.09it/s]\u001b[A\u001b[A\n",
      "\n",
      " 16%|█▌        | 15705/100000 [02:54<14:46, 95.11it/s]\u001b[A\u001b[A\n",
      "\n",
      " 16%|█▌        | 15716/100000 [02:54<14:29, 96.96it/s]\u001b[A\u001b[A\n",
      "\n",
      " 16%|█▌        | 15726/100000 [02:54<14:31, 96.74it/s]\u001b[A\u001b[A\n",
      "\n",
      " 16%|█▌        | 15736/100000 [02:55<14:29, 96.90it/s]\u001b[A\u001b[A\n",
      "\n",
      " 16%|█▌        | 15748/100000 [02:55<13:47, 101.76it/s]\u001b[A\u001b[A\n",
      "\n",
      " 16%|█▌        | 15759/100000 [02:55<14:27, 97.12it/s] \u001b[A\u001b[A\n",
      "\n",
      " 16%|█▌        | 15769/100000 [02:55<14:35, 96.23it/s]\u001b[A\u001b[A\n",
      "\n",
      " 16%|█▌        | 15779/100000 [02:55<15:18, 91.74it/s]\u001b[A\u001b[A\n",
      "\n",
      " 16%|█▌        | 15791/100000 [02:55<14:27, 97.10it/s]\u001b[A\u001b[A\n",
      "\n",
      " 16%|█▌        | 15801/100000 [02:55<15:05, 92.99it/s]\u001b[A\u001b[A\n",
      "\n",
      " 16%|█▌        | 15812/100000 [02:55<14:33, 96.39it/s]\u001b[A\u001b[A\n",
      "\n",
      " 16%|█▌        | 15822/100000 [02:55<14:40, 95.60it/s]\u001b[A\u001b[A\n",
      "\n",
      " 16%|█▌        | 15832/100000 [02:56<14:31, 96.56it/s]\u001b[A\u001b[A\n",
      "\n",
      " 16%|█▌        | 15842/100000 [02:56<15:19, 91.56it/s]\u001b[A\u001b[A\n",
      "\n",
      " 16%|█▌        | 15853/100000 [02:56<14:48, 94.67it/s]\u001b[A\u001b[A\n",
      "\n",
      " 16%|█▌        | 15864/100000 [02:56<14:18, 98.06it/s]\u001b[A\u001b[A\n",
      "\n",
      " 16%|█▌        | 15874/100000 [02:56<14:13, 98.59it/s]\u001b[A\u001b[A\n",
      "\n",
      " 16%|█▌        | 15884/100000 [02:56<15:28, 90.56it/s]\u001b[A\u001b[A\n",
      "\n",
      " 16%|█▌        | 15894/100000 [02:56<16:13, 86.40it/s]\u001b[A\u001b[A\n",
      "\n",
      " 16%|█▌        | 15903/100000 [02:56<16:22, 85.64it/s]\u001b[A\u001b[A\n",
      "\n",
      " 16%|█▌        | 15913/100000 [02:56<15:49, 88.54it/s]\u001b[A\u001b[A\n",
      "\n",
      " 16%|█▌        | 15923/100000 [02:57<15:39, 89.47it/s]\u001b[A\u001b[A\n",
      "\n",
      " 16%|█▌        | 15934/100000 [02:57<15:01, 93.30it/s]\u001b[A\u001b[A\n",
      "\n",
      " 16%|█▌        | 15945/100000 [02:57<14:36, 95.95it/s]\u001b[A\u001b[A\n",
      "\n",
      " 16%|█▌        | 15956/100000 [02:57<14:15, 98.19it/s]\u001b[A\u001b[A\n",
      "\n",
      " 16%|█▌        | 15966/100000 [02:57<14:29, 96.67it/s]\u001b[A\u001b[A\n",
      "\n",
      " 16%|█▌        | 15976/100000 [02:57<14:38, 95.68it/s]\u001b[A\u001b[A\n",
      "\n",
      " 16%|█▌        | 15986/100000 [02:57<15:12, 92.08it/s]\u001b[A\u001b[A\n",
      "\n",
      " 16%|█▌        | 15996/100000 [02:57<15:20, 91.24it/s]\u001b[A\u001b[A\n",
      "\n",
      " 16%|█▌        | 16006/100000 [02:57<15:01, 93.22it/s]\u001b[A\u001b[A\n",
      "\n",
      " 16%|█▌        | 16017/100000 [02:58<14:31, 96.38it/s]\u001b[A\u001b[A\n",
      "\n",
      " 16%|█▌        | 16027/100000 [02:58<14:42, 95.19it/s]\u001b[A\u001b[A\n",
      "\n",
      " 16%|█▌        | 16037/100000 [02:58<14:55, 93.72it/s]\u001b[A\u001b[A\n",
      "\n",
      " 16%|█▌        | 16047/100000 [02:58<14:59, 93.35it/s]\u001b[A\u001b[A\n",
      "\n",
      " 16%|█▌        | 16057/100000 [02:58<15:31, 90.15it/s]\u001b[A\u001b[A\n",
      "\n",
      " 16%|█▌        | 16067/100000 [02:58<15:47, 88.58it/s]\u001b[A\u001b[A\n",
      "\n",
      " 16%|█▌        | 16076/100000 [02:58<15:44, 88.89it/s]\u001b[A\u001b[A\n",
      "\n",
      " 16%|█▌        | 16085/100000 [02:58<16:32, 84.58it/s]\u001b[A\u001b[A\n",
      "\n",
      " 16%|█▌        | 16097/100000 [02:58<15:22, 90.99it/s]\u001b[A\u001b[A\n",
      "\n",
      " 16%|█▌        | 16107/100000 [02:59<15:22, 90.97it/s]\u001b[A\u001b[A\n",
      "\n",
      " 16%|█▌        | 16117/100000 [02:59<15:03, 92.80it/s]\u001b[A\u001b[A\n",
      "\n",
      " 16%|█▌        | 16127/100000 [02:59<14:47, 94.54it/s]\u001b[A\u001b[A\n",
      "\n",
      " 16%|█▌        | 16138/100000 [02:59<14:15, 98.05it/s]\u001b[A\u001b[A\n",
      "\n",
      " 16%|█▌        | 16148/100000 [02:59<15:07, 92.42it/s]\u001b[A\u001b[A\n",
      "\n",
      " 16%|█▌        | 16158/100000 [02:59<15:32, 89.91it/s]\u001b[A\u001b[A\n",
      "\n",
      " 16%|█▌        | 16168/100000 [02:59<15:16, 91.46it/s]\u001b[A\u001b[A\n",
      "\n"
     ]
    },
    {
     "name": "stderr",
     "output_type": "stream",
     "text": [
      " 16%|█▌        | 16179/100000 [02:59<14:48, 94.34it/s]\u001b[A\u001b[A\n",
      "\n",
      " 16%|█▌        | 16189/100000 [02:59<14:48, 94.35it/s]\u001b[A\u001b[A\n",
      "\n",
      " 16%|█▌        | 16200/100000 [03:00<14:22, 97.17it/s]\u001b[A\u001b[A\n",
      "\n",
      " 16%|█▌        | 16210/100000 [03:00<14:45, 94.66it/s]\u001b[A\u001b[A\n",
      "\n",
      " 16%|█▌       "
     ]
    },
    {
     "data": {
      "text/html": [
       "<b>limit_output extension: Maximum message size of 100000 exceeded with 100040 characters</b>"
      ]
     },
     "metadata": {},
     "output_type": "display_data"
    }
   ],
   "source": [
    "for p in tqdm(random_vectors):\n",
    "    assert np.array_equal(extension(p), extension_(p)), 'Disagreement on {0}: {1} vs. {2}'.format(p, extension(p), extension_alt(p))"
   ]
  },
  {
   "cell_type": "code",
   "execution_count": null,
   "metadata": {
    "ExecuteTime": {
     "start_time": "2019-05-09T20:22:46.525Z"
    }
   },
   "outputs": [],
   "source": [
    "%%timeit\n",
    "\n",
    "list(map(extension, random_vectors))"
   ]
  },
  {
   "cell_type": "code",
   "execution_count": null,
   "metadata": {
    "ExecuteTime": {
     "start_time": "2019-05-09T20:22:47.027Z"
    }
   },
   "outputs": [],
   "source": [
    "%%timeit\n",
    "\n",
    "list(map(extension_, random_vectors))"
   ]
  },
  {
   "cell_type": "markdown",
   "metadata": {},
   "source": [
    "### Conclusion"
   ]
  },
  {
   "cell_type": "markdown",
   "metadata": {},
   "source": [
    "The `union` and `intersection` operations extend naturally to vector stacks (matrices), and vectorized versions of the boolean formulas discovered during exploration of bitarrays make a vectorized version of `agreement` easily definable.\n",
    "\n",
    "All three operations are enormously faster than either the baseline representation or the bitarray methods.\n",
    "\n",
    "The vectorized version of agreement naturally permits a moderately (≈5-6x) faster method of calculating the extension of a partial feature vector."
   ]
  },
  {
   "cell_type": "markdown",
   "metadata": {},
   "source": [
    "## `pytorch` and gpus"
   ]
  },
  {
   "cell_type": "markdown",
   "metadata": {},
   "source": [
    "The next logical question is whether gpus can usefully accelerate computation..."
   ]
  },
  {
   "cell_type": "code",
   "execution_count": null,
   "metadata": {
    "ExecuteTime": {
     "end_time": "2019-05-09T20:18:31.363947Z",
     "start_time": "2019-05-09T20:02:37.152Z"
    }
   },
   "outputs": [],
   "source": [
    "import torch"
   ]
  },
  {
   "cell_type": "code",
   "execution_count": null,
   "metadata": {
    "ExecuteTime": {
     "end_time": "2019-05-09T20:18:31.364468Z",
     "start_time": "2019-05-09T20:03:33.916Z"
    }
   },
   "outputs": [],
   "source": [
    "torch.set_default_tensor_type('torch.cuda.FloatTensor')\n",
    "gpu_int8 = torch.cuda.CharTensor\n",
    "gpu_int16 = torch.cuda.ShortTensor\n",
    "my_torch_type = gpu_int8\n",
    "def t(ndarray):\n",
    "    if ndarray.dtype == myint:\n",
    "        return torch.tensor(ndarray.astype(np.int16)).type(my_torch_type)\n",
    "    return torch.tensor(ndarray).type(my_torch_type)"
   ]
  },
  {
   "cell_type": "code",
   "execution_count": null,
   "metadata": {
    "ExecuteTime": {
     "end_time": "2019-05-09T20:18:31.364990Z",
     "start_time": "2019-05-09T20:03:35.479Z"
    }
   },
   "outputs": [],
   "source": [
    "objects_t = t(np.array(objects))\n",
    "objectMap_t = t(objectMap)"
   ]
  },
  {
   "cell_type": "markdown",
   "metadata": {},
   "source": [
    "### Agreement"
   ]
  },
  {
   "cell_type": "code",
   "execution_count": 252,
   "metadata": {
    "ExecuteTime": {
     "end_time": "2019-05-08T23:21:57.201156Z",
     "start_time": "2019-05-08T23:21:57.197416Z"
    }
   },
   "outputs": [
    {
     "data": {
      "text/plain": [
       "array([1, 0, 1], dtype=int8)"
      ]
     },
     "execution_count": 252,
     "metadata": {},
     "output_type": "execute_result"
    }
   ],
   "source": [
    "p"
   ]
  },
  {
   "cell_type": "code",
   "execution_count": 253,
   "metadata": {
    "ExecuteTime": {
     "end_time": "2019-05-08T23:21:57.344502Z",
     "start_time": "2019-05-08T23:21:57.340280Z"
    }
   },
   "outputs": [
    {
     "data": {
      "text/plain": [
       "array([ 0,  1, -1], dtype=int8)"
      ]
     },
     "execution_count": 253,
     "metadata": {},
     "output_type": "execute_result"
    }
   ],
   "source": [
    "q"
   ]
  },
  {
   "cell_type": "code",
   "execution_count": 254,
   "metadata": {
    "ExecuteTime": {
     "end_time": "2019-05-08T23:21:57.481746Z",
     "start_time": "2019-05-08T23:21:57.476161Z"
    }
   },
   "outputs": [
    {
     "data": {
      "text/plain": [
       "array([False, False, False], dtype=bool)"
      ]
     },
     "execution_count": 254,
     "metadata": {},
     "output_type": "execute_result"
    },
    {
     "data": {
      "text/plain": [
       "tensor([0, 0, 0], dtype=torch.uint8)"
      ]
     },
     "execution_count": 254,
     "metadata": {},
     "output_type": "execute_result"
    }
   ],
   "source": [
    "np.equal(p,q)\n",
    "torch.eq(t(p), t(q))"
   ]
  },
  {
   "cell_type": "code",
   "execution_count": 255,
   "metadata": {
    "ExecuteTime": {
     "end_time": "2019-05-08T23:21:57.630003Z",
     "start_time": "2019-05-08T23:21:57.623424Z"
    }
   },
   "outputs": [
    {
     "data": {
      "text/plain": [
       "tensor([1, 1, 1], dtype=torch.uint8)"
      ]
     },
     "execution_count": 255,
     "metadata": {},
     "output_type": "execute_result"
    },
    {
     "data": {
      "text/plain": [
       "'torch.cuda.ByteTensor'"
      ]
     },
     "execution_count": 255,
     "metadata": {},
     "output_type": "execute_result"
    },
    {
     "data": {
      "text/plain": [
       "tensor(1, dtype=torch.uint8)"
      ]
     },
     "execution_count": 255,
     "metadata": {},
     "output_type": "execute_result"
    }
   ],
   "source": [
    "tens = torch.tensor([1,1,1])\n",
    "tens = tens.type(torch.cuda.ByteTensor)\n",
    "tens\n",
    "tens.type()\n",
    "tens.all()"
   ]
  },
  {
   "cell_type": "code",
   "execution_count": 256,
   "metadata": {
    "ExecuteTime": {
     "end_time": "2019-05-08T23:21:57.778246Z",
     "start_time": "2019-05-08T23:21:57.769880Z"
    }
   },
   "outputs": [
    {
     "data": {
      "text/plain": [
       "tensor([[1, 1, 1],\n",
       "        [1, 0, 1]], dtype=torch.int8)"
      ]
     },
     "execution_count": 256,
     "metadata": {},
     "output_type": "execute_result"
    },
    {
     "data": {
      "text/plain": [
       "(tensor([[1, 1, 1]], dtype=torch.int8), tensor([[1, 0, 1]], dtype=torch.int8))"
      ]
     },
     "execution_count": 256,
     "metadata": {},
     "output_type": "execute_result"
    },
    {
     "data": {
      "text/plain": [
       "(tensor(1), tensor(0))"
      ]
     },
     "execution_count": 256,
     "metadata": {},
     "output_type": "execute_result"
    }
   ],
   "source": [
    "quux = torch.tensor([[1,1,1],[1,0,1]])\n",
    "quux = quux.type(gpu_int8)\n",
    "quux\n",
    "torch.split(quux, 1, dim=0)\n",
    "tuple(map(torch.prod, torch.split(quux, 1, dim=0) ))"
   ]
  },
  {
   "cell_type": "code",
   "execution_count": 257,
   "metadata": {
    "ExecuteTime": {
     "end_time": "2019-05-08T23:21:57.952050Z",
     "start_time": "2019-05-08T23:21:57.948041Z"
    }
   },
   "outputs": [],
   "source": [
    "def agree_mat_t(A,B):\n",
    "    '''\n",
    "    Given two matrices (torch tensors) A::(n,m) and B::(n,m), \n",
    "    return C::(n,1) where \n",
    "    C[i] = 1 iff A[i] and B[i] agree at all indices\n",
    "    and 0 otherwise.\n",
    "    '''\n",
    "    # (x == 0 or y == 0) or ((x != 0 and y != 0) and (x == y))\n",
    "    A_unspecified = A == 0\n",
    "    B_unspecified = B == 0\n",
    "    A_or_B_unspecified = A_unspecified | B_unspecified\n",
    "    \n",
    "    A_specified = A != 0\n",
    "    B_specified = B != 0\n",
    "    A_and_B_specified = A_specified & B_specified\n",
    "    A_equal_B = torch.eq(A,B)\n",
    "    A_B_both_specified_and_equal = A_and_B_specified & A_equal_B\n",
    "\n",
    "    ag = A_or_B_unspecified | A_B_both_specified_and_equal\n",
    "#     return ag\n",
    "#     result = np.prod(ag, axis=-1, dtype=myint)\n",
    "    result = torch.prod(ag, dim=1,dtype=my_torch_type)#, dtype=gpu_int8)\n",
    "#     result = ag.type(torch.cuda.ByteTensor).all()\n",
    "    return result#.type(my_torch_type)"
   ]
  },
  {
   "cell_type": "code",
   "execution_count": 285,
   "metadata": {
    "ExecuteTime": {
     "end_time": "2019-05-08T23:29:36.975158Z",
     "start_time": "2019-05-08T23:29:23.571651Z"
    }
   },
   "outputs": [
    {
     "name": "stdout",
     "output_type": "stream",
     "text": [
      "1.65 ms ± 24.2 µs per loop (mean ± std. dev. of 7 runs, 1000 loops each)\n"
     ]
    }
   ],
   "source": [
    "%%timeit\n",
    "\n",
    "agree_mat(random_pair_stack_a, random_pair_stack_b)"
   ]
  },
  {
   "cell_type": "code",
   "execution_count": 281,
   "metadata": {
    "ExecuteTime": {
     "end_time": "2019-05-08T23:28:47.793803Z",
     "start_time": "2019-05-08T23:28:47.790932Z"
    }
   },
   "outputs": [],
   "source": [
    "random_pair_stack_a_t, random_pair_stack_b_t = t(random_pair_stack_a), t(random_pair_stack_b)"
   ]
  },
  {
   "cell_type": "code",
   "execution_count": 284,
   "metadata": {
    "ExecuteTime": {
     "end_time": "2019-05-08T23:29:12.576298Z",
     "start_time": "2019-05-08T23:28:56.641206Z"
    }
   },
   "outputs": [
    {
     "name": "stdout",
     "output_type": "stream",
     "text": [
      "197 µs ± 125 ns per loop (mean ± std. dev. of 7 runs, 10000 loops each)\n"
     ]
    }
   ],
   "source": [
    "%%timeit\n",
    "\n",
    "agree_mat_t(random_pair_stack_a_t, random_pair_stack_b_t)"
   ]
  },
  {
   "cell_type": "code",
   "execution_count": 259,
   "metadata": {
    "ExecuteTime": {
     "end_time": "2019-05-08T23:21:58.403951Z",
     "start_time": "2019-05-08T23:21:58.399568Z"
    }
   },
   "outputs": [
    {
     "data": {
      "text/plain": [
       "True"
      ]
     },
     "execution_count": 259,
     "metadata": {},
     "output_type": "execute_result"
    }
   ],
   "source": [
    "np.array_equal(\n",
    "    matrix_agree_result,\n",
    "    agree_mat_t(t(random_pair_stack_a), t(random_pair_stack_b)).cpu().type(torch.int16).numpy()\n",
    ")"
   ]
  },
  {
   "cell_type": "markdown",
   "metadata": {},
   "source": [
    "### Union"
   ]
  },
  {
   "cell_type": "code",
   "execution_count": 260,
   "metadata": {
    "ExecuteTime": {
     "end_time": "2019-05-08T23:21:58.888665Z",
     "start_time": "2019-05-08T23:21:58.886305Z"
    }
   },
   "outputs": [],
   "source": [
    "def union_t(u, v):\n",
    "#     if CAREFUL:\n",
    "#         assert agree_(u,v)\n",
    "    return torch.sign(u + v)"
   ]
  },
  {
   "cell_type": "code",
   "execution_count": 286,
   "metadata": {
    "ExecuteTime": {
     "end_time": "2019-05-08T23:29:39.023968Z",
     "start_time": "2019-05-08T23:29:36.977203Z"
    }
   },
   "outputs": [
    {
     "name": "stdout",
     "output_type": "stream",
     "text": [
      "25.2 µs ± 506 ns per loop (mean ± std. dev. of 7 runs, 10000 loops each)\n"
     ]
    }
   ],
   "source": [
    "%%timeit\n",
    "\n",
    "union(agreeing_pair_stack_a, agreeing_pair_stack_b)"
   ]
  },
  {
   "cell_type": "code",
   "execution_count": 287,
   "metadata": {
    "ExecuteTime": {
     "end_time": "2019-05-08T23:29:41.066348Z",
     "start_time": "2019-05-08T23:29:41.059129Z"
    }
   },
   "outputs": [],
   "source": [
    "agreeing_pair_stack_a_t, agreeing_pair_stack_b_t = t(agreeing_pair_stack_a), t(agreeing_pair_stack_b)"
   ]
  },
  {
   "cell_type": "code",
   "execution_count": 288,
   "metadata": {
    "ExecuteTime": {
     "end_time": "2019-05-08T23:30:00.869060Z",
     "start_time": "2019-05-08T23:29:45.340995Z"
    }
   },
   "outputs": [
    {
     "name": "stdout",
     "output_type": "stream",
     "text": [
      "19.1 µs ± 642 ns per loop (mean ± std. dev. of 7 runs, 100000 loops each)\n"
     ]
    }
   ],
   "source": [
    "%%timeit\n",
    "\n",
    "union_t(agreeing_pair_stack_a_t, agreeing_pair_stack_b_t)"
   ]
  },
  {
   "cell_type": "code",
   "execution_count": 261,
   "metadata": {
    "ExecuteTime": {
     "end_time": "2019-05-08T23:21:59.136881Z",
     "start_time": "2019-05-08T23:21:59.131369Z"
    }
   },
   "outputs": [
    {
     "data": {
      "text/plain": [
       "True"
      ]
     },
     "execution_count": 261,
     "metadata": {},
     "output_type": "execute_result"
    }
   ],
   "source": [
    "np.array_equal(\n",
    "    union(agreeing_pair_stack_a, agreeing_pair_stack_b),\n",
    "    union_t(t(agreeing_pair_stack_a), t(agreeing_pair_stack_b)).cpu().type(torch.int16).numpy()\n",
    ")"
   ]
  },
  {
   "cell_type": "markdown",
   "metadata": {},
   "source": [
    "### Intersection"
   ]
  },
  {
   "cell_type": "code",
   "execution_count": 262,
   "metadata": {
    "ExecuteTime": {
     "end_time": "2019-05-08T23:21:59.717473Z",
     "start_time": "2019-05-08T23:21:59.711820Z"
    }
   },
   "outputs": [
    {
     "data": {
      "text/plain": [
       "tensor([1, 0, 1], dtype=torch.int8)"
      ]
     },
     "execution_count": 262,
     "metadata": {},
     "output_type": "execute_result"
    },
    {
     "data": {
      "text/plain": [
       "tensor([ 0,  1, -1], dtype=torch.int8)"
      ]
     },
     "execution_count": 262,
     "metadata": {},
     "output_type": "execute_result"
    }
   ],
   "source": [
    "p_t = t(p); p_t\n",
    "q_t = t(q); q_t"
   ]
  },
  {
   "cell_type": "code",
   "execution_count": 267,
   "metadata": {
    "ExecuteTime": {
     "end_time": "2019-05-08T23:22:52.571661Z",
     "start_time": "2019-05-08T23:22:52.568395Z"
    }
   },
   "outputs": [],
   "source": [
    "def intersection_t(u, v):\n",
    "    s = u + v\n",
    "    e = torch.eq(u,v).type(torch.cuda.ShortTensor)\n",
    "#     p = e * s #<- use this if default int tensor is 16 bit\n",
    "    p = e * s.type(torch.cuda.ShortTensor)\n",
    "    result = torch.sign(p)\n",
    "    return result\n",
    "#     return torch.sign(  torch.eq(u, v) * (u + v) )"
   ]
  },
  {
   "cell_type": "code",
   "execution_count": 290,
   "metadata": {
    "ExecuteTime": {
     "end_time": "2019-05-08T23:30:34.388465Z",
     "start_time": "2019-05-08T23:30:28.957947Z"
    }
   },
   "outputs": [
    {
     "name": "stdout",
     "output_type": "stream",
     "text": [
      "67.2 µs ± 3.23 µs per loop (mean ± std. dev. of 7 runs, 10000 loops each)\n"
     ]
    }
   ],
   "source": [
    "%%timeit\n",
    "\n",
    "intersection(random_pair_stack_a, random_pair_stack_b)"
   ]
  },
  {
   "cell_type": "code",
   "execution_count": 291,
   "metadata": {
    "ExecuteTime": {
     "end_time": "2019-05-08T23:30:44.301001Z",
     "start_time": "2019-05-08T23:30:38.754570Z"
    }
   },
   "outputs": [
    {
     "name": "stdout",
     "output_type": "stream",
     "text": [
      "68.4 µs ± 1 µs per loop (mean ± std. dev. of 7 runs, 10000 loops each)\n"
     ]
    }
   ],
   "source": [
    "%%timeit\n",
    "\n",
    "intersection_t(random_pair_stack_a_t, random_pair_stack_b_t)"
   ]
  },
  {
   "cell_type": "code",
   "execution_count": 268,
   "metadata": {
    "ExecuteTime": {
     "end_time": "2019-05-08T23:22:53.184330Z",
     "start_time": "2019-05-08T23:22:53.165693Z"
    }
   },
   "outputs": [
    {
     "data": {
      "text/plain": [
       "True"
      ]
     },
     "execution_count": 268,
     "metadata": {},
     "output_type": "execute_result"
    }
   ],
   "source": [
    "np.array_equal(\n",
    "    intersection(agreeing_pair_stack_a, agreeing_pair_stack_b),\n",
    "    intersection_t(t(agreeing_pair_stack_a), t(agreeing_pair_stack_b)).cpu().type(torch.int16).numpy()\n",
    ")"
   ]
  },
  {
   "cell_type": "markdown",
   "metadata": {},
   "source": [
    "### Extension"
   ]
  },
  {
   "cell_type": "code",
   "execution_count": 328,
   "metadata": {
    "ExecuteTime": {
     "end_time": "2019-05-08T23:55:43.771721Z",
     "start_time": "2019-05-08T23:55:43.764295Z"
    }
   },
   "outputs": [],
   "source": [
    "# objectMap_t = objectMap_t.type(torch.cuda.ShortTensor)"
   ]
  },
  {
   "cell_type": "code",
   "execution_count": 329,
   "metadata": {
    "ExecuteTime": {
     "end_time": "2019-05-08T23:55:45.311803Z",
     "start_time": "2019-05-08T23:55:45.309883Z"
    }
   },
   "outputs": [],
   "source": [
    "def extension_t(pfv):\n",
    "    return agree_mat_t(pfv, objectMap_t)"
   ]
  },
  {
   "cell_type": "code",
   "execution_count": 330,
   "metadata": {
    "ExecuteTime": {
     "end_time": "2019-05-08T23:55:57.563030Z",
     "start_time": "2019-05-08T23:55:46.721538Z"
    }
   },
   "outputs": [
    {
     "name": "stdout",
     "output_type": "stream",
     "text": [
      "1.35 s ± 28.9 ms per loop (mean ± std. dev. of 7 runs, 1 loop each)\n"
     ]
    }
   ],
   "source": [
    "%%timeit\n",
    "\n",
    "list(map(extension_, random_vectors))"
   ]
  },
  {
   "cell_type": "code",
   "execution_count": 331,
   "metadata": {
    "ExecuteTime": {
     "end_time": "2019-05-08T23:55:59.204702Z",
     "start_time": "2019-05-08T23:55:57.565229Z"
    }
   },
   "outputs": [
    {
     "data": {
      "text/plain": [
       "(100000, 4)"
      ]
     },
     "execution_count": 331,
     "metadata": {},
     "output_type": "execute_result"
    }
   ],
   "source": [
    "np.array(list(map(extension_, random_vectors))).shape"
   ]
  },
  {
   "cell_type": "code",
   "execution_count": 332,
   "metadata": {
    "ExecuteTime": {
     "end_time": "2019-05-08T23:56:00.975364Z",
     "start_time": "2019-05-08T23:55:59.206191Z"
    }
   },
   "outputs": [
    {
     "data": {
      "text/plain": [
       "(100000, 4)"
      ]
     },
     "execution_count": 332,
     "metadata": {},
     "output_type": "execute_result"
    }
   ],
   "source": [
    "np.apply_along_axis(extension_, axis=1, arr=random_vectors).shape"
   ]
  },
  {
   "cell_type": "code",
   "execution_count": 333,
   "metadata": {
    "ExecuteTime": {
     "end_time": "2019-05-08T23:56:15.094592Z",
     "start_time": "2019-05-08T23:56:00.977966Z"
    }
   },
   "outputs": [
    {
     "name": "stdout",
     "output_type": "stream",
     "text": [
      "1.77 s ± 44.8 ms per loop (mean ± std. dev. of 7 runs, 1 loop each)\n"
     ]
    }
   ],
   "source": [
    "%%timeit\n",
    "\n",
    "np.apply_along_axis(extension_, axis=1, arr=random_vectors).shape"
   ]
  },
  {
   "cell_type": "code",
   "execution_count": 334,
   "metadata": {
    "ExecuteTime": {
     "end_time": "2019-05-08T23:56:15.130179Z",
     "start_time": "2019-05-08T23:56:15.097253Z"
    }
   },
   "outputs": [],
   "source": [
    "random_vectors_t = t(np.array(random_vectors))"
   ]
  },
  {
   "cell_type": "code",
   "execution_count": 335,
   "metadata": {
    "ExecuteTime": {
     "end_time": "2019-05-08T23:56:15.191557Z",
     "start_time": "2019-05-08T23:56:15.131754Z"
    }
   },
   "outputs": [
    {
     "ename": "RuntimeError",
     "evalue": "Expected object of scalar type Char but got scalar type Short for argument #2 'other'",
     "output_type": "error",
     "traceback": [
      "\u001b[0;31m---------------------------------------------------------------------------\u001b[0m",
      "\u001b[0;31mRuntimeError\u001b[0m                              Traceback (most recent call last)",
      "\u001b[0;32m<ipython-input-335-df79f107cbca>\u001b[0m in \u001b[0;36m<module>\u001b[0;34m\u001b[0m\n\u001b[0;32m----> 1\u001b[0;31m \u001b[0mget_ipython\u001b[0m\u001b[0;34m(\u001b[0m\u001b[0;34m)\u001b[0m\u001b[0;34m.\u001b[0m\u001b[0mrun_cell_magic\u001b[0m\u001b[0;34m(\u001b[0m\u001b[0;34m'timeit'\u001b[0m\u001b[0;34m,\u001b[0m \u001b[0;34m''\u001b[0m\u001b[0;34m,\u001b[0m \u001b[0;34m'\\nlist(map(extension_t, random_vectors_t))\\n'\u001b[0m\u001b[0;34m)\u001b[0m\u001b[0;34m\u001b[0m\u001b[0;34m\u001b[0m\u001b[0m\n\u001b[0m",
      "\u001b[0;32m~/anaconda3/envs/anvil/lib/python3.6/site-packages/IPython/core/interactiveshell.py\u001b[0m in \u001b[0;36mrun_cell_magic\u001b[0;34m(self, magic_name, line, cell)\u001b[0m\n\u001b[1;32m   2321\u001b[0m             \u001b[0mmagic_arg_s\u001b[0m \u001b[0;34m=\u001b[0m \u001b[0mself\u001b[0m\u001b[0;34m.\u001b[0m\u001b[0mvar_expand\u001b[0m\u001b[0;34m(\u001b[0m\u001b[0mline\u001b[0m\u001b[0;34m,\u001b[0m \u001b[0mstack_depth\u001b[0m\u001b[0;34m)\u001b[0m\u001b[0;34m\u001b[0m\u001b[0;34m\u001b[0m\u001b[0m\n\u001b[1;32m   2322\u001b[0m             \u001b[0;32mwith\u001b[0m \u001b[0mself\u001b[0m\u001b[0;34m.\u001b[0m\u001b[0mbuiltin_trap\u001b[0m\u001b[0;34m:\u001b[0m\u001b[0;34m\u001b[0m\u001b[0;34m\u001b[0m\u001b[0m\n\u001b[0;32m-> 2323\u001b[0;31m                 \u001b[0mresult\u001b[0m \u001b[0;34m=\u001b[0m \u001b[0mfn\u001b[0m\u001b[0;34m(\u001b[0m\u001b[0mmagic_arg_s\u001b[0m\u001b[0;34m,\u001b[0m \u001b[0mcell\u001b[0m\u001b[0;34m)\u001b[0m\u001b[0;34m\u001b[0m\u001b[0;34m\u001b[0m\u001b[0m\n\u001b[0m\u001b[1;32m   2324\u001b[0m             \u001b[0;32mreturn\u001b[0m \u001b[0mresult\u001b[0m\u001b[0;34m\u001b[0m\u001b[0;34m\u001b[0m\u001b[0m\n\u001b[1;32m   2325\u001b[0m \u001b[0;34m\u001b[0m\u001b[0m\n",
      "\u001b[0;32m</home/AD/emeinhar/anaconda3/envs/anvil/lib/python3.6/site-packages/decorator.py:decorator-gen-61>\u001b[0m in \u001b[0;36mtimeit\u001b[0;34m(self, line, cell, local_ns)\u001b[0m\n",
      "\u001b[0;32m~/anaconda3/envs/anvil/lib/python3.6/site-packages/IPython/core/magic.py\u001b[0m in \u001b[0;36m<lambda>\u001b[0;34m(f, *a, **k)\u001b[0m\n\u001b[1;32m    185\u001b[0m     \u001b[0;31m# but it's overkill for just that one bit of state.\u001b[0m\u001b[0;34m\u001b[0m\u001b[0;34m\u001b[0m\u001b[0;34m\u001b[0m\u001b[0m\n\u001b[1;32m    186\u001b[0m     \u001b[0;32mdef\u001b[0m \u001b[0mmagic_deco\u001b[0m\u001b[0;34m(\u001b[0m\u001b[0marg\u001b[0m\u001b[0;34m)\u001b[0m\u001b[0;34m:\u001b[0m\u001b[0;34m\u001b[0m\u001b[0;34m\u001b[0m\u001b[0m\n\u001b[0;32m--> 187\u001b[0;31m         \u001b[0mcall\u001b[0m \u001b[0;34m=\u001b[0m \u001b[0;32mlambda\u001b[0m \u001b[0mf\u001b[0m\u001b[0;34m,\u001b[0m \u001b[0;34m*\u001b[0m\u001b[0ma\u001b[0m\u001b[0;34m,\u001b[0m \u001b[0;34m**\u001b[0m\u001b[0mk\u001b[0m\u001b[0;34m:\u001b[0m \u001b[0mf\u001b[0m\u001b[0;34m(\u001b[0m\u001b[0;34m*\u001b[0m\u001b[0ma\u001b[0m\u001b[0;34m,\u001b[0m \u001b[0;34m**\u001b[0m\u001b[0mk\u001b[0m\u001b[0;34m)\u001b[0m\u001b[0;34m\u001b[0m\u001b[0;34m\u001b[0m\u001b[0m\n\u001b[0m\u001b[1;32m    188\u001b[0m \u001b[0;34m\u001b[0m\u001b[0m\n\u001b[1;32m    189\u001b[0m         \u001b[0;32mif\u001b[0m \u001b[0mcallable\u001b[0m\u001b[0;34m(\u001b[0m\u001b[0marg\u001b[0m\u001b[0;34m)\u001b[0m\u001b[0;34m:\u001b[0m\u001b[0;34m\u001b[0m\u001b[0;34m\u001b[0m\u001b[0m\n",
      "\u001b[0;32m~/anaconda3/envs/anvil/lib/python3.6/site-packages/IPython/core/magics/execution.py\u001b[0m in \u001b[0;36mtimeit\u001b[0;34m(self, line, cell, local_ns)\u001b[0m\n\u001b[1;32m   1104\u001b[0m             \u001b[0;32mfor\u001b[0m \u001b[0mindex\u001b[0m \u001b[0;32min\u001b[0m \u001b[0mrange\u001b[0m\u001b[0;34m(\u001b[0m\u001b[0;36m0\u001b[0m\u001b[0;34m,\u001b[0m \u001b[0;36m10\u001b[0m\u001b[0;34m)\u001b[0m\u001b[0;34m:\u001b[0m\u001b[0;34m\u001b[0m\u001b[0;34m\u001b[0m\u001b[0m\n\u001b[1;32m   1105\u001b[0m                 \u001b[0mnumber\u001b[0m \u001b[0;34m=\u001b[0m \u001b[0;36m10\u001b[0m \u001b[0;34m**\u001b[0m \u001b[0mindex\u001b[0m\u001b[0;34m\u001b[0m\u001b[0;34m\u001b[0m\u001b[0m\n\u001b[0;32m-> 1106\u001b[0;31m                 \u001b[0mtime_number\u001b[0m \u001b[0;34m=\u001b[0m \u001b[0mtimer\u001b[0m\u001b[0;34m.\u001b[0m\u001b[0mtimeit\u001b[0m\u001b[0;34m(\u001b[0m\u001b[0mnumber\u001b[0m\u001b[0;34m)\u001b[0m\u001b[0;34m\u001b[0m\u001b[0;34m\u001b[0m\u001b[0m\n\u001b[0m\u001b[1;32m   1107\u001b[0m                 \u001b[0;32mif\u001b[0m \u001b[0mtime_number\u001b[0m \u001b[0;34m>=\u001b[0m \u001b[0;36m0.2\u001b[0m\u001b[0;34m:\u001b[0m\u001b[0;34m\u001b[0m\u001b[0;34m\u001b[0m\u001b[0m\n\u001b[1;32m   1108\u001b[0m                     \u001b[0;32mbreak\u001b[0m\u001b[0;34m\u001b[0m\u001b[0;34m\u001b[0m\u001b[0m\n",
      "\u001b[0;32m~/anaconda3/envs/anvil/lib/python3.6/site-packages/IPython/core/magics/execution.py\u001b[0m in \u001b[0;36mtimeit\u001b[0;34m(self, number)\u001b[0m\n\u001b[1;32m    158\u001b[0m         \u001b[0mgc\u001b[0m\u001b[0;34m.\u001b[0m\u001b[0mdisable\u001b[0m\u001b[0;34m(\u001b[0m\u001b[0;34m)\u001b[0m\u001b[0;34m\u001b[0m\u001b[0;34m\u001b[0m\u001b[0m\n\u001b[1;32m    159\u001b[0m         \u001b[0;32mtry\u001b[0m\u001b[0;34m:\u001b[0m\u001b[0;34m\u001b[0m\u001b[0;34m\u001b[0m\u001b[0m\n\u001b[0;32m--> 160\u001b[0;31m             \u001b[0mtiming\u001b[0m \u001b[0;34m=\u001b[0m \u001b[0mself\u001b[0m\u001b[0;34m.\u001b[0m\u001b[0minner\u001b[0m\u001b[0;34m(\u001b[0m\u001b[0mit\u001b[0m\u001b[0;34m,\u001b[0m \u001b[0mself\u001b[0m\u001b[0;34m.\u001b[0m\u001b[0mtimer\u001b[0m\u001b[0;34m)\u001b[0m\u001b[0;34m\u001b[0m\u001b[0;34m\u001b[0m\u001b[0m\n\u001b[0m\u001b[1;32m    161\u001b[0m         \u001b[0;32mfinally\u001b[0m\u001b[0;34m:\u001b[0m\u001b[0;34m\u001b[0m\u001b[0;34m\u001b[0m\u001b[0m\n\u001b[1;32m    162\u001b[0m             \u001b[0;32mif\u001b[0m \u001b[0mgcold\u001b[0m\u001b[0;34m:\u001b[0m\u001b[0;34m\u001b[0m\u001b[0;34m\u001b[0m\u001b[0m\n",
      "\u001b[0;32m<magic-timeit>\u001b[0m in \u001b[0;36minner\u001b[0;34m(_it, _timer)\u001b[0m\n",
      "\u001b[0;32m<ipython-input-329-ca4b5c870138>\u001b[0m in \u001b[0;36mextension_t\u001b[0;34m(pfv)\u001b[0m\n\u001b[1;32m      1\u001b[0m \u001b[0;32mdef\u001b[0m \u001b[0mextension_t\u001b[0m\u001b[0;34m(\u001b[0m\u001b[0mpfv\u001b[0m\u001b[0;34m)\u001b[0m\u001b[0;34m:\u001b[0m\u001b[0;34m\u001b[0m\u001b[0;34m\u001b[0m\u001b[0m\n\u001b[0;32m----> 2\u001b[0;31m     \u001b[0;32mreturn\u001b[0m \u001b[0magree_mat_t\u001b[0m\u001b[0;34m(\u001b[0m\u001b[0mpfv\u001b[0m\u001b[0;34m,\u001b[0m \u001b[0mobjectMap_t\u001b[0m\u001b[0;34m)\u001b[0m\u001b[0;34m\u001b[0m\u001b[0;34m\u001b[0m\u001b[0m\n\u001b[0m",
      "\u001b[0;32m<ipython-input-257-20daa4fa891f>\u001b[0m in \u001b[0;36magree_mat_t\u001b[0;34m(A, B)\u001b[0m\n\u001b[1;32m     14\u001b[0m     \u001b[0mB_specified\u001b[0m \u001b[0;34m=\u001b[0m \u001b[0mB\u001b[0m \u001b[0;34m!=\u001b[0m \u001b[0;36m0\u001b[0m\u001b[0;34m\u001b[0m\u001b[0;34m\u001b[0m\u001b[0m\n\u001b[1;32m     15\u001b[0m     \u001b[0mA_and_B_specified\u001b[0m \u001b[0;34m=\u001b[0m \u001b[0mA_specified\u001b[0m \u001b[0;34m&\u001b[0m \u001b[0mB_specified\u001b[0m\u001b[0;34m\u001b[0m\u001b[0;34m\u001b[0m\u001b[0m\n\u001b[0;32m---> 16\u001b[0;31m     \u001b[0mA_equal_B\u001b[0m \u001b[0;34m=\u001b[0m \u001b[0mtorch\u001b[0m\u001b[0;34m.\u001b[0m\u001b[0meq\u001b[0m\u001b[0;34m(\u001b[0m\u001b[0mA\u001b[0m\u001b[0;34m,\u001b[0m\u001b[0mB\u001b[0m\u001b[0;34m)\u001b[0m\u001b[0;34m\u001b[0m\u001b[0;34m\u001b[0m\u001b[0m\n\u001b[0m\u001b[1;32m     17\u001b[0m     \u001b[0mA_B_both_specified_and_equal\u001b[0m \u001b[0;34m=\u001b[0m \u001b[0mA_and_B_specified\u001b[0m \u001b[0;34m&\u001b[0m \u001b[0mA_equal_B\u001b[0m\u001b[0;34m\u001b[0m\u001b[0;34m\u001b[0m\u001b[0m\n\u001b[1;32m     18\u001b[0m \u001b[0;34m\u001b[0m\u001b[0m\n",
      "\u001b[0;31mRuntimeError\u001b[0m: Expected object of scalar type Char but got scalar type Short for argument #2 'other'"
     ]
    }
   ],
   "source": [
    "%%timeit\n",
    "\n",
    "list(map(extension_t, random_vectors_t))"
   ]
  },
  {
   "cell_type": "code",
   "execution_count": null,
   "metadata": {
    "ExecuteTime": {
     "end_time": "2019-05-08T23:56:15.193545Z",
     "start_time": "2019-05-08T23:55:48.877Z"
    }
   },
   "outputs": [],
   "source": [
    "%%timeit\n",
    "\n",
    "torch.stack([extension_t(v) for v in torch.unbind(random_vectors_t, dim=0)])"
   ]
  },
  {
   "cell_type": "markdown",
   "metadata": {},
   "source": [
    "The `pytorch` cell time is probably terribly slow because of the `list` and `map` (or list comprehension) operations happening in Python and on/involving the CPU..."
   ]
  },
  {
   "cell_type": "code",
   "execution_count": null,
   "metadata": {
    "ExecuteTime": {
     "end_time": "2019-05-08T23:56:15.194115Z",
     "start_time": "2019-05-08T23:55:53.061Z"
    }
   },
   "outputs": [],
   "source": [
    "%%timeit\n",
    "\n",
    "extension_(choice(random_vectors))"
   ]
  },
  {
   "cell_type": "code",
   "execution_count": null,
   "metadata": {
    "ExecuteTime": {
     "end_time": "2019-05-08T23:56:15.194652Z",
     "start_time": "2019-05-08T23:55:53.216Z"
    }
   },
   "outputs": [],
   "source": [
    "%%timeit\n",
    "\n",
    "extension_t(choice(random_vectors_t))"
   ]
  },
  {
   "cell_type": "code",
   "execution_count": null,
   "metadata": {
    "ExecuteTime": {
     "end_time": "2019-05-08T23:56:15.195181Z",
     "start_time": "2019-05-08T23:55:53.366Z"
    }
   },
   "outputs": [],
   "source": [
    "%%timeit\n",
    "\n",
    "for v in random_vectors:\n",
    "    extension_(v)"
   ]
  },
  {
   "cell_type": "code",
   "execution_count": null,
   "metadata": {
    "ExecuteTime": {
     "end_time": "2019-05-08T23:56:15.195707Z",
     "start_time": "2019-05-08T23:55:53.502Z"
    }
   },
   "outputs": [],
   "source": [
    "%%timeit\n",
    "\n",
    "for v in random_vectors_t:\n",
    "    extension_t(v)"
   ]
  },
  {
   "cell_type": "code",
   "execution_count": null,
   "metadata": {
    "ExecuteTime": {
     "end_time": "2019-05-08T23:56:15.196237Z",
     "start_time": "2019-05-08T23:55:53.658Z"
    }
   },
   "outputs": [],
   "source": [
    "random_v = choice(random_vectors)"
   ]
  },
  {
   "cell_type": "code",
   "execution_count": null,
   "metadata": {
    "ExecuteTime": {
     "end_time": "2019-05-08T23:56:15.196759Z",
     "start_time": "2019-05-08T23:55:53.995Z"
    }
   },
   "outputs": [],
   "source": [
    "%%timeit\n",
    "\n",
    "extension_(random_v)"
   ]
  },
  {
   "cell_type": "code",
   "execution_count": null,
   "metadata": {
    "ExecuteTime": {
     "end_time": "2019-05-08T23:56:15.197290Z",
     "start_time": "2019-05-08T23:55:54.399Z"
    }
   },
   "outputs": [],
   "source": [
    "random_v_t = t(random_v)"
   ]
  },
  {
   "cell_type": "code",
   "execution_count": null,
   "metadata": {
    "ExecuteTime": {
     "end_time": "2019-05-08T23:56:15.197810Z",
     "start_time": "2019-05-08T23:55:54.774Z"
    }
   },
   "outputs": [],
   "source": [
    "%%timeit\n",
    "\n",
    "extension_t(random_v_t)"
   ]
  },
  {
   "cell_type": "code",
   "execution_count": 270,
   "metadata": {
    "ExecuteTime": {
     "end_time": "2019-05-08T23:25:03.402408Z",
     "start_time": "2019-05-08T23:24:31.876829Z"
    }
   },
   "outputs": [],
   "source": [
    "for p in tqdm(random_vectors):\n",
    "    assert np.array_equal(extension_(p), extension_t(t(p)).cpu().type(torch.int16).numpy()), 'Disagreement on {0}: {1} vs. {2}'.format(p, extension_(p), extension_t(t(p)))"
   ]
  },
  {
   "cell_type": "markdown",
   "metadata": {},
   "source": [
    "### Conclusion"
   ]
  },
  {
   "cell_type": "markdown",
   "metadata": {},
   "source": [
    "At a relatively low number of features (`m = 3`)...\n",
    " - `agreement` checking of entire matrices is ≈10x faster using `pytorch`+a GPU than using `numpy`.\n",
    " - `union` and `intersection` are about as fast in both implementations\n",
    " - `extension` seems abominably slower in pytorch than in numpy for some reason..."
   ]
  }
 ],
 "metadata": {
  "kernelspec": {
   "display_name": "Python 3",
   "language": "python",
   "name": "python3"
  },
  "language_info": {
   "codemirror_mode": {
    "name": "ipython",
    "version": 3
   },
   "file_extension": ".py",
   "mimetype": "text/x-python",
   "name": "python",
   "nbconvert_exporter": "python",
   "pygments_lexer": "ipython3",
   "version": "3.6.8"
  },
  "toc": {
   "base_numbering": 1,
   "nav_menu": {},
   "number_sections": true,
   "sideBar": true,
   "skip_h1_title": false,
   "title_cell": "Table of Contents",
   "title_sidebar": "Contents",
   "toc_cell": true,
   "toc_position": {
    "height": "calc(100% - 180px)",
    "left": "10px",
    "top": "150px",
    "width": "384px"
   },
   "toc_section_display": true,
   "toc_window_display": true
  }
 },
 "nbformat": 4,
 "nbformat_minor": 2
}
