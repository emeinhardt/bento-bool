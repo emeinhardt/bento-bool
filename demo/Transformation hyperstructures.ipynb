{
 "cells": [
  {
   "cell_type": "code",
   "execution_count": 1,
   "id": "downtown-simon",
   "metadata": {
    "ExecuteTime": {
     "end_time": "2021-06-30T03:17:00.244933Z",
     "start_time": "2021-06-30T03:17:00.237415Z"
    }
   },
   "outputs": [],
   "source": [
    "#Prints **all** console output, not just last item in cell \n",
    "from IPython.core.interactiveshell import InteractiveShell\n",
    "InteractiveShell.ast_node_interactivity = \"all\""
   ]
  },
  {
   "cell_type": "code",
   "execution_count": 2,
   "id": "derived-shift",
   "metadata": {
    "ExecuteTime": {
     "end_time": "2021-06-30T03:17:00.258779Z",
     "start_time": "2021-06-30T03:17:00.247315Z"
    }
   },
   "outputs": [
    {
     "name": "stdout",
     "output_type": "stream",
     "text": [
      "/Users/emeinhardt/Repositories/prague\n"
     ]
    },
    {
     "data": {
      "text/plain": [
       "'/Users/emeinhardt/Repositories/prague'"
      ]
     },
     "execution_count": 2,
     "metadata": {},
     "output_type": "execute_result"
    }
   ],
   "source": [
    "%cd ..\n",
    "%pwd"
   ]
  },
  {
   "cell_type": "code",
   "execution_count": 3,
   "id": "verified-familiar",
   "metadata": {
    "ExecuteTime": {
     "end_time": "2021-06-30T03:17:00.552301Z",
     "start_time": "2021-06-30T03:17:00.261127Z"
    }
   },
   "outputs": [],
   "source": [
    "import prague"
   ]
  },
  {
   "cell_type": "code",
   "execution_count": 4,
   "id": "lovely-aircraft",
   "metadata": {
    "ExecuteTime": {
     "end_time": "2021-06-30T03:17:00.556978Z",
     "start_time": "2021-06-30T03:17:00.554216Z"
    }
   },
   "outputs": [],
   "source": [
    "from copy import deepcopy\n",
    "from funcy import *\n",
    "from functools import reduce\n",
    "from itertools import combinations, permutations\n",
    "\n",
    "p0 = lambda t: t[0]\n",
    "p1 = lambda t: t[1]"
   ]
  },
  {
   "cell_type": "code",
   "execution_count": 5,
   "id": "local-mercy",
   "metadata": {
    "ExecuteTime": {
     "end_time": "2021-06-30T03:17:00.560285Z",
     "start_time": "2021-06-30T03:17:00.558342Z"
    }
   },
   "outputs": [],
   "source": [
    "# bot = '⊥'\n",
    "bot = '0'"
   ]
  },
  {
   "cell_type": "code",
   "execution_count": 6,
   "id": "fresh-ballet",
   "metadata": {
    "ExecuteTime": {
     "end_time": "2021-06-30T03:17:00.564580Z",
     "start_time": "2021-06-30T03:17:00.561687Z"
    }
   },
   "outputs": [],
   "source": [
    "λ = X0 = set()\n",
    "A = X1 = set(['a'])\n",
    "B = X2 = set(['a','b'])\n",
    "C = X3 = set(['a','b','c'])\n",
    "D = X4 = set(['a','b','c','d'])\n",
    "Bool   = set(['+','-'])"
   ]
  },
  {
   "cell_type": "code",
   "execution_count": 7,
   "id": "handmade-irrigation",
   "metadata": {
    "ExecuteTime": {
     "end_time": "2021-06-30T03:17:00.567965Z",
     "start_time": "2021-06-30T03:17:00.565948Z"
    }
   },
   "outputs": [],
   "source": [
    "X = B\n",
    "# X = D\n",
    "Y = Bool"
   ]
  },
  {
   "cell_type": "code",
   "execution_count": 8,
   "id": "equivalent-alexandria",
   "metadata": {
    "ExecuteTime": {
     "end_time": "2021-06-30T03:17:00.585185Z",
     "start_time": "2021-06-30T03:17:00.571247Z"
    }
   },
   "outputs": [],
   "source": [
    "def grand_union(sets, acc=set()):\n",
    "    return reduce(set.union, sets, acc)\n",
    "\n",
    "def powerset(iterable):\n",
    "    \"powerset([1,2,3]) --> () (1,) (2,) (3,) (1,2) (1,3) (2,3) (1,2,3)\"\n",
    "    s = list(iterable)\n",
    "    return tuple(chain.from_iterable(combinations(s, r) for r in range(len(s)+1)))\n",
    "\n",
    "def sort_rel(rel):\n",
    "    return tuple(sorted(rel, key=p0))\n",
    "\n",
    "def cartesian_product(L,R):\n",
    "    return {(x,y) for x in L for y in R}\n",
    "\n",
    "def relations(L,R):\n",
    "    return set(powerset(cartesian_product(L,R)))\n",
    "\n",
    "def rel_to_dict(rel):\n",
    "    '''\n",
    "    For finite sets X and Y, transforms \n",
    "        rel ⊆ X x Y \n",
    "    into\n",
    "        rel: X → ℙ(Y)\n",
    "    in the natural way, implemented as a dictionary.\n",
    "    '''\n",
    "    dom = set(map(lambda pair: pair[0], rel))\n",
    "    d = dict()\n",
    "    for k,v in sorted(rel, key=p0):\n",
    "        if k in d:\n",
    "            d[k] = d[k].union({v})\n",
    "        else:\n",
    "            d[k] = {v}\n",
    "    return d\n",
    "\n",
    "def func_to_dict(functional_rel):\n",
    "    '''\n",
    "    For finite sets X and Y and a functional relation \n",
    "        rel ⊆ X x Y \n",
    "    this returns\n",
    "        rel: X → Y\n",
    "    implemented as a dictionary.\n",
    "    '''\n",
    "    f = functional_rel\n",
    "    dR = rel_to_dict(f)\n",
    "    for k in dR:\n",
    "        assert len(dR[k]) == 1, f\"relation is NOT functional at {k}: {k}→{dR[k]}\"\n",
    "    d = {k:tuple(dR[k])[0] for k in dR}\n",
    "    return d\n",
    "\n",
    "def undefined_inputs(func_dic):\n",
    "    return {k for k,v in func_dic.items() if v == bot}\n",
    "\n",
    "def domain_of_def(func_dic):\n",
    "    return set(func_dic.keys()) - undefined_inputs(func_dic)\n",
    "\n",
    "def is_defined_at(func_dic, x):\n",
    "    return x in domain_of_def(func_dic)\n",
    "\n",
    "def is_undefined_at(func_dic, x):\n",
    "    return x in undefined_inputs(func_dic)\n",
    "\n",
    "def add_explicit_bot(func_dic, X):\n",
    "    f = deepcopy(func_dic)\n",
    "    for x in X:\n",
    "        if x not in f:\n",
    "            f[x] = bot\n",
    "    return f\n",
    "\n",
    "def same_domain(func_dic_g, func_dic_f):\n",
    "    g_keys = set(func_dic_g.keys())\n",
    "    f_keys = set(func_dic_f.keys())\n",
    "    return g_keys == f_keys\n",
    "\n",
    "def is_functional(rel):\n",
    "    d = rel_to_dict(rel)\n",
    "    multiplicities = walk_values(len, d)\n",
    "    return max(set(multiplicities.values())) <= 1\n",
    "\n",
    "def is_total_over(rel, X):\n",
    "    dom = set(map(lambda pair: pair[0], rel))\n",
    "    return X.issubset(dom)\n",
    "\n",
    "def total_functions(L,R):\n",
    "    rels = relations(L,R)\n",
    "    total_rels = select(lambda r: is_total_over(r,L), rels)\n",
    "    fs = select(is_functional, total_rels)\n",
    "    return walk(sort_rel, fs)\n",
    "\n",
    "def partial_functions(L,R):\n",
    "    return walk(sort_rel, total_functions(L, R.union({bot})))\n",
    "\n",
    "def leq_rel(L,R):\n",
    "    L_dom, R_dom = set(map(p0, L)), set(map(p0, R))\n",
    "    assert L_dom == R_dom, f\"{L_dom}\\nvs.\\n{R_dom}\"\n",
    "    return all({yPrime == y or yPrime == bot \n",
    "                for (x,y) in R \n",
    "                for (xPrime, yPrime) in L \n",
    "                if x == xPrime})\n",
    "\n",
    "def dict_to_rel(func_dic):\n",
    "    return set(func_dic.items())\n",
    "\n",
    "def leq_func(f,g):\n",
    "    assert same_domain(f,g), f\"{f}\\nvs.\\n{g}\"\n",
    "    return leq_rel(dict_to_rel(f), dict_to_rel(g))"
   ]
  },
  {
   "cell_type": "code",
   "execution_count": 9,
   "id": "eastern-breed",
   "metadata": {
    "ExecuteTime": {
     "end_time": "2021-06-30T03:17:00.592028Z",
     "start_time": "2021-06-30T03:17:00.587875Z"
    }
   },
   "outputs": [
    {
     "data": {
      "text/plain": [
       "{(),\n",
       " (('a', 'a'),),\n",
       " (('a', 'a'), ('b', 'a')),\n",
       " (('a', 'a'), ('b', 'a'), ('b', 'b')),\n",
       " (('a', 'a'), ('b', 'b')),\n",
       " (('a', 'b'),),\n",
       " (('a', 'b'), ('a', 'a')),\n",
       " (('a', 'b'), ('a', 'a'), ('b', 'a')),\n",
       " (('a', 'b'), ('a', 'a'), ('b', 'a'), ('b', 'b')),\n",
       " (('a', 'b'), ('a', 'a'), ('b', 'b')),\n",
       " (('a', 'b'), ('b', 'a')),\n",
       " (('a', 'b'), ('b', 'a'), ('b', 'b')),\n",
       " (('a', 'b'), ('b', 'b')),\n",
       " (('b', 'a'),),\n",
       " (('b', 'a'), ('b', 'b')),\n",
       " (('b', 'b'),)}"
      ]
     },
     "execution_count": 9,
     "metadata": {},
     "output_type": "execute_result"
    }
   ],
   "source": [
    "relations(X2,X2)"
   ]
  },
  {
   "cell_type": "code",
   "execution_count": 10,
   "id": "confident-newsletter",
   "metadata": {
    "ExecuteTime": {
     "end_time": "2021-06-30T03:17:00.596972Z",
     "start_time": "2021-06-30T03:17:00.593545Z"
    }
   },
   "outputs": [
    {
     "data": {
      "text/plain": [
       "{(('a', 'a'), ('b', 'a')),\n",
       " (('a', 'a'), ('b', 'b')),\n",
       " (('a', 'b'), ('b', 'a')),\n",
       " (('a', 'b'), ('b', 'b'))}"
      ]
     },
     "execution_count": 10,
     "metadata": {},
     "output_type": "execute_result"
    }
   ],
   "source": [
    "total_functions(X2,X2)"
   ]
  },
  {
   "cell_type": "code",
   "execution_count": 11,
   "id": "latter-canvas",
   "metadata": {
    "ExecuteTime": {
     "end_time": "2021-06-30T03:17:00.603892Z",
     "start_time": "2021-06-30T03:17:00.598487Z"
    }
   },
   "outputs": [
    {
     "data": {
      "text/plain": [
       "{(('a', '0'), ('b', '0')),\n",
       " (('a', '0'), ('b', 'a')),\n",
       " (('a', '0'), ('b', 'b')),\n",
       " (('a', 'a'), ('b', '0')),\n",
       " (('a', 'a'), ('b', 'a')),\n",
       " (('a', 'a'), ('b', 'b')),\n",
       " (('a', 'b'), ('b', '0')),\n",
       " (('a', 'b'), ('b', 'a')),\n",
       " (('a', 'b'), ('b', 'b'))}"
      ]
     },
     "execution_count": 11,
     "metadata": {},
     "output_type": "execute_result"
    },
    {
     "data": {
      "text/plain": [
       "9"
      ]
     },
     "execution_count": 11,
     "metadata": {},
     "output_type": "execute_result"
    }
   ],
   "source": [
    "partial_functions(X2,X2)\n",
    "len(partial_functions(X2,X2))"
   ]
  },
  {
   "cell_type": "code",
   "execution_count": 12,
   "id": "favorite-anchor",
   "metadata": {
    "ExecuteTime": {
     "end_time": "2021-06-30T03:17:00.609031Z",
     "start_time": "2021-06-30T03:17:00.605440Z"
    }
   },
   "outputs": [
    {
     "data": {
      "text/plain": [
       "9"
      ]
     },
     "execution_count": 12,
     "metadata": {},
     "output_type": "execute_result"
    }
   ],
   "source": [
    "# FX_rel   = partial_functions(X,X)\n",
    "# len(FX_rel)\n",
    "# FX_dict = tuple(map(func_to_dict, FX_rel))\n",
    "\n",
    "FX_rel   = partial_functions(X,Y)\n",
    "len(FX_rel)\n",
    "FX_dict = tuple(map(func_to_dict, FX_rel))"
   ]
  },
  {
   "cell_type": "code",
   "execution_count": 13,
   "id": "subtle-latitude",
   "metadata": {
    "ExecuteTime": {
     "end_time": "2021-06-30T03:17:00.612399Z",
     "start_time": "2021-06-30T03:17:00.610562Z"
    }
   },
   "outputs": [],
   "source": [
    "FX = FX_dict"
   ]
  },
  {
   "cell_type": "code",
   "execution_count": 14,
   "id": "contained-print",
   "metadata": {
    "ExecuteTime": {
     "end_time": "2021-06-30T03:17:00.617083Z",
     "start_time": "2021-06-30T03:17:00.613734Z"
    }
   },
   "outputs": [
    {
     "data": {
      "text/plain": [
       "({'a': '0', 'b': '-'},\n",
       " {'a': '-', 'b': '+'},\n",
       " {'a': '-', 'b': '-'},\n",
       " {'a': '0', 'b': '+'},\n",
       " {'a': '+', 'b': '0'},\n",
       " {'a': '+', 'b': '-'},\n",
       " {'a': '+', 'b': '+'},\n",
       " {'a': '0', 'b': '0'},\n",
       " {'a': '-', 'b': '0'})"
      ]
     },
     "execution_count": 14,
     "metadata": {},
     "output_type": "execute_result"
    }
   ],
   "source": [
    "FX"
   ]
  },
  {
   "cell_type": "code",
   "execution_count": 15,
   "id": "innovative-hundred",
   "metadata": {
    "ExecuteTime": {
     "end_time": "2021-06-30T03:17:00.621987Z",
     "start_time": "2021-06-30T03:17:00.618732Z"
    }
   },
   "outputs": [
    {
     "data": {
      "text/plain": [
       "{'a': '0', 'b': '0'}"
      ]
     },
     "execution_count": 15,
     "metadata": {},
     "output_type": "execute_result"
    }
   ],
   "source": [
    "zero = [f for f in FX if len(domain_of_def(f)) == 0][0]\n",
    "zero"
   ]
  },
  {
   "cell_type": "code",
   "execution_count": 16,
   "id": "abstract-investment",
   "metadata": {
    "ExecuteTime": {
     "end_time": "2021-06-30T03:17:00.628945Z",
     "start_time": "2021-06-30T03:17:00.623435Z"
    }
   },
   "outputs": [
    {
     "data": {
      "text/plain": [
       "{'a': '0', 'b': '-'}"
      ]
     },
     "execution_count": 16,
     "metadata": {},
     "output_type": "execute_result"
    },
    {
     "data": {
      "text/plain": [
       "{'a': '-', 'b': '0'}"
      ]
     },
     "execution_count": 16,
     "metadata": {},
     "output_type": "execute_result"
    },
    {
     "data": {
      "text/plain": [
       "{'a': '+', 'b': '0'}"
      ]
     },
     "execution_count": 16,
     "metadata": {},
     "output_type": "execute_result"
    }
   ],
   "source": [
    "my_f = FX[0]\n",
    "my_g = FX[-1]\n",
    "my_h = FX[int(len(FX) / 2)]\n",
    "\n",
    "my_f\n",
    "my_g\n",
    "my_h"
   ]
  },
  {
   "cell_type": "code",
   "execution_count": 17,
   "id": "metallic-plymouth",
   "metadata": {
    "ExecuteTime": {
     "end_time": "2021-06-30T03:17:00.637958Z",
     "start_time": "2021-06-30T03:17:00.630332Z"
    }
   },
   "outputs": [
    {
     "data": {
      "text/plain": [
       "array([ 0, -1], dtype=int8)"
      ]
     },
     "execution_count": 17,
     "metadata": {},
     "output_type": "execute_result"
    },
    {
     "data": {
      "text/plain": [
       "array([-1,  0], dtype=int8)"
      ]
     },
     "execution_count": 17,
     "metadata": {},
     "output_type": "execute_result"
    },
    {
     "data": {
      "text/plain": [
       "array([1, 0], dtype=int8)"
      ]
     },
     "execution_count": 17,
     "metadata": {},
     "output_type": "execute_result"
    },
    {
     "data": {
      "text/plain": [
       "array([0, 0], dtype=int8)"
      ]
     },
     "execution_count": 17,
     "metadata": {},
     "output_type": "execute_result"
    }
   ],
   "source": [
    "my_fv = prague.from_feature_dict(my_f, X)\n",
    "my_gv = prague.from_feature_dict(my_g, X)\n",
    "my_hv = prague.from_feature_dict(my_h, X)\n",
    "my_zerov = prague.from_feature_dict(zero, X)\n",
    "my_fv\n",
    "my_gv\n",
    "my_hv\n",
    "my_zerov"
   ]
  },
  {
   "cell_type": "markdown",
   "id": "racial-sydney",
   "metadata": {},
   "source": [
    "# Functions on functions"
   ]
  },
  {
   "cell_type": "code",
   "execution_count": 18,
   "id": "moved-academy",
   "metadata": {
    "ExecuteTime": {
     "end_time": "2021-06-30T03:17:00.644587Z",
     "start_time": "2021-06-30T03:17:00.639616Z"
    }
   },
   "outputs": [],
   "source": [
    "def common_keys(f,g):\n",
    "    return set(f.keys()).intersection(g.keys())\n",
    "\n",
    "def equalizer(f,g):\n",
    "    common_dom = common_keys(f,g)\n",
    "    return {x for x in common_dom if f[x] == g[x]}\n",
    "\n",
    "def differentiator(f,g):\n",
    "    common_dom = common_keys(f,g)\n",
    "    return {x for x in common_dom if f[x] != g[x]}\n",
    "\n",
    "def common_defined_maps(g,f):\n",
    "    sameAndNotUndefined = equalizer(g,f) - {bot}\n",
    "    commonDefinedMaps   = project(f, sameAndNotUndefined)\n",
    "    return commonDefinedMaps\n",
    "\n",
    "def unique_defined_maps_left(g,f):\n",
    "    commonDefinedMaps = common_defined_maps(g,f)\n",
    "    return {x:g[x] for x in g if (g[x] != bot) and (x not in commonDefinedMaps)}\n",
    "\n",
    "def unique_defined_maps_right(g,f):\n",
    "    commonDefinedMaps = common_defined_maps(g,f)\n",
    "    return {x:f[x] for x in f if (f[x] != bot) and (x not in commonDefinedMaps)}"
   ]
  },
  {
   "cell_type": "code",
   "execution_count": 19,
   "id": "deadly-experiment",
   "metadata": {
    "ExecuteTime": {
     "end_time": "2021-06-30T03:17:00.649620Z",
     "start_time": "2021-06-30T03:17:00.645952Z"
    }
   },
   "outputs": [],
   "source": [
    "def mutation_maps(f):\n",
    "    return {x:f[x] for x in domain_of_def(f) if x != f[x]}\n",
    "    \n",
    "def fix_maps(f):\n",
    "    return {x:f[x] for x in domain_of_def(f) if x == f[x]}\n",
    "\n",
    "def mutation_set(f):\n",
    "    return {x for x in domain_of_def(f) if x != f[x]}\n",
    "\n",
    "def fix_set(f):\n",
    "    return {x for x in domain_of_def(f) if x == f[x]}"
   ]
  },
  {
   "cell_type": "markdown",
   "id": "familiar-peter",
   "metadata": {},
   "source": [
    "# Priority union and its inverses"
   ]
  },
  {
   "cell_type": "markdown",
   "id": "naughty-luxury",
   "metadata": {},
   "source": [
    "## Right priority union"
   ]
  },
  {
   "cell_type": "code",
   "execution_count": 20,
   "id": "promotional-gibson",
   "metadata": {
    "ExecuteTime": {
     "end_time": "2021-06-30T03:17:00.654446Z",
     "start_time": "2021-06-30T03:17:00.651160Z"
    }
   },
   "outputs": [],
   "source": [
    "# g+f = f'\n",
    "def right_priority_union(g,f, treatMissingKeysAsUndefined=False):\n",
    "    fPrime = deepcopy(f)\n",
    "    if not treatMissingKeysAsUndefined:\n",
    "        whereFisUndefined = undefined_inputs(f)\n",
    "    else:\n",
    "        allKeys = set(g.keys()).union(set(f.keys()))\n",
    "        whereFisMissingKeys = {k for k in allKeys if k not in f}\n",
    "        whereFisUndefined = undefined_inputs(f).union(whereFisMissingKeys)\n",
    "    for x in whereFisUndefined:\n",
    "        fPrime[x] = g[x]\n",
    "    return fPrime"
   ]
  },
  {
   "cell_type": "code",
   "execution_count": 21,
   "id": "remarkable-printer",
   "metadata": {
    "ExecuteTime": {
     "end_time": "2021-06-30T03:17:00.657597Z",
     "start_time": "2021-06-30T03:17:00.655790Z"
    }
   },
   "outputs": [],
   "source": [
    "priority_union = right_priority_union"
   ]
  },
  {
   "cell_type": "code",
   "execution_count": 22,
   "id": "wound-google",
   "metadata": {
    "ExecuteTime": {
     "end_time": "2021-06-30T03:17:00.665722Z",
     "start_time": "2021-06-30T03:17:00.659124Z"
    }
   },
   "outputs": [
    {
     "data": {
      "text/plain": [
       "{'a': '0', 'b': '-'}"
      ]
     },
     "execution_count": 22,
     "metadata": {},
     "output_type": "execute_result"
    },
    {
     "data": {
      "text/plain": [
       "{'a': '-', 'b': '0'}"
      ]
     },
     "execution_count": 22,
     "metadata": {},
     "output_type": "execute_result"
    },
    {
     "data": {
      "text/plain": [
       "'----------'"
      ]
     },
     "execution_count": 22,
     "metadata": {},
     "output_type": "execute_result"
    },
    {
     "data": {
      "text/plain": [
       "{'a': '-', 'b': '-'}"
      ]
     },
     "execution_count": 22,
     "metadata": {},
     "output_type": "execute_result"
    },
    {
     "data": {
      "text/plain": [
       "{'a': '-', 'b': '-'}"
      ]
     },
     "execution_count": 22,
     "metadata": {},
     "output_type": "execute_result"
    }
   ],
   "source": [
    "my_f\n",
    "my_g\n",
    "'----------'\n",
    "priority_union(my_f, my_g)\n",
    "priority_union(my_g, my_f)"
   ]
  },
  {
   "cell_type": "code",
   "execution_count": 23,
   "id": "mobile-inspection",
   "metadata": {
    "ExecuteTime": {
     "end_time": "2021-06-30T03:17:00.674526Z",
     "start_time": "2021-06-30T03:17:00.670747Z"
    }
   },
   "outputs": [
    {
     "data": {
      "text/plain": [
       "'a'"
      ]
     },
     "execution_count": 23,
     "metadata": {},
     "output_type": "execute_result"
    },
    {
     "data": {
      "text/plain": [
       "{'b': '-'}"
      ]
     },
     "execution_count": 23,
     "metadata": {},
     "output_type": "execute_result"
    }
   ],
   "source": [
    "sorted(X)[0]\n",
    "omit(my_f, sorted(X)[0])"
   ]
  },
  {
   "cell_type": "markdown",
   "id": "pretty-petroleum",
   "metadata": {},
   "source": [
    "## Left inverse of priority union"
   ]
  },
  {
   "cell_type": "code",
   "execution_count": 40,
   "id": "guilty-dining",
   "metadata": {
    "ExecuteTime": {
     "end_time": "2021-06-30T03:17:34.222098Z",
     "start_time": "2021-06-30T03:17:34.216024Z"
    }
   },
   "outputs": [],
   "source": [
    "# g+f =   f'\n",
    "#       g\\f'\n",
    "\n",
    "def pru_left_inverse_glb(g,fPrime):\n",
    "    undefined_inputs_g      = undefined_inputs(g)\n",
    "    undefined_inputs_fPrime = undefined_inputs(fPrime)\n",
    "    assert undefined_inputs_fPrime.issubset(undefined_inputs_g)\n",
    "    \n",
    "    cdm           = add_explicit_bot(common_defined_maps(g,fPrime), X)\n",
    "#     print(f\"cdm   = {cdm}\")\n",
    "#     gv, fpv       = prague.from_feature_dict(g, X), prague.from_feature_dict(fPrime, X)\n",
    "#     m             = prague.meet(gv, fpv)\n",
    "#     print(f\"m     = {m}\")\n",
    "    diff          = add_explicit_bot(unique_defined_maps_left(fPrime, cdm), X)\n",
    "#     print(f\"diff = {diff}\")\n",
    "#     kv            = prague.diff(fpv, m)\n",
    "#     print(f\"k     = {kv}\")\n",
    "    \n",
    "    glb_unordered = add_explicit_bot(diff, X)\n",
    "    glb = {k:glb_unordered[k] for k in sorted(X)}\n",
    "    return glb\n",
    "\n",
    "def pru_left_inverse_lub(g,fPrime):\n",
    "    cdm  = add_explicit_bot(common_defined_maps(g,fPrime), X)\n",
    "    diff = add_explicit_bot(unique_defined_maps_left(fPrime, cdm), X)\n",
    "    \n",
    "    lub_unordered = add_explicit_bot(priority_union(cdm, diff), X)\n",
    "    lub = {k:lub_unordered[k] for k in sorted(X)}\n",
    "    return lub\n",
    "\n",
    "def pru_left_inverse_interval(g,fPrime):\n",
    "    undefined_inputs_g      = undefined_inputs(g)\n",
    "    undefined_inputs_fPrime = undefined_inputs(fPrime)\n",
    "    if not undefined_inputs_fPrime.issubset(undefined_inputs_g):\n",
    "        return None\n",
    "\n",
    "    lub = pru_left_inverse_lub(g,fPrime)\n",
    "    glb = pru_left_inverse_glb(g,fPrime)\n",
    "    \n",
    "    return (lub, glb)"
   ]
  },
  {
   "cell_type": "code",
   "execution_count": 25,
   "id": "moderate-africa",
   "metadata": {
    "ExecuteTime": {
     "end_time": "2021-06-30T03:17:00.686809Z",
     "start_time": "2021-06-30T03:17:00.682565Z"
    }
   },
   "outputs": [
    {
     "data": {
      "text/plain": [
       "array([-1, -1], dtype=int8)"
      ]
     },
     "execution_count": 25,
     "metadata": {},
     "output_type": "execute_result"
    },
    {
     "data": {
      "text/plain": [
       "(array([-1, -1], dtype=int8), array([ 0, -1], dtype=int8))"
      ]
     },
     "execution_count": 25,
     "metadata": {},
     "output_type": "execute_result"
    }
   ],
   "source": [
    "prague.priority_union(my_gv, my_fv)\n",
    "prague.left_inv(my_gv, prague.priority_union(my_gv, my_fv), True)"
   ]
  },
  {
   "cell_type": "code",
   "execution_count": 26,
   "id": "contained-chapel",
   "metadata": {
    "ExecuteTime": {
     "end_time": "2021-06-30T03:17:00.692152Z",
     "start_time": "2021-06-30T03:17:00.688059Z"
    }
   },
   "outputs": [
    {
     "data": {
      "text/plain": [
       "array([-1, -1], dtype=int8)"
      ]
     },
     "execution_count": 26,
     "metadata": {},
     "output_type": "execute_result"
    },
    {
     "data": {
      "text/plain": [
       "(array([-1, -1], dtype=int8), array([-1,  0], dtype=int8))"
      ]
     },
     "execution_count": 26,
     "metadata": {},
     "output_type": "execute_result"
    }
   ],
   "source": [
    "prague.priority_union(my_fv, my_gv)\n",
    "prague.left_inv(my_fv, prague.priority_union(my_fv, my_gv), True)"
   ]
  },
  {
   "cell_type": "code",
   "execution_count": 41,
   "id": "sound-degree",
   "metadata": {
    "ExecuteTime": {
     "end_time": "2021-06-30T03:17:44.038844Z",
     "start_time": "2021-06-30T03:17:44.029898Z"
    }
   },
   "outputs": [
    {
     "name": "stdout",
     "output_type": "stream",
     "text": [
      "g = {'a': '-', 'b': '0'} \n",
      "f = {'a': '0', 'b': '-'}\n"
     ]
    },
    {
     "data": {
      "text/plain": [
       "'============================'"
      ]
     },
     "execution_count": 41,
     "metadata": {},
     "output_type": "execute_result"
    },
    {
     "name": "stdout",
     "output_type": "stream",
     "text": [
      "g + f  =  {'a': '-', 'b': '-'}\n",
      "g \\ f' = ({'a': '-', 'b': '-'}, {'a': '0', 'b': '-'})\n",
      "g \\ f' = (array([-1, -1], dtype=int8), array([ 0, -1], dtype=int8))\n"
     ]
    },
    {
     "data": {
      "text/plain": [
       "'----------'"
      ]
     },
     "execution_count": 41,
     "metadata": {},
     "output_type": "execute_result"
    },
    {
     "name": "stdout",
     "output_type": "stream",
     "text": [
      "f + g  =  {'a': '-', 'b': '-'}\n",
      "f \\ g' = ({'a': '-', 'b': '-'}, {'a': '-', 'b': '0'})\n",
      "f \\ g' = (array([-1, -1], dtype=int8), array([-1,  0], dtype=int8))\n"
     ]
    }
   ],
   "source": [
    "print(f\"g = {my_g}\", f\"\\nf = {my_f}\")\n",
    "'============================'\n",
    "my_gPlusf = priority_union(my_g, my_f)\n",
    "print(f\"g + f  =  {my_gPlusf}\")\n",
    "print(f\"g \\\\ f' = {pru_left_inverse_interval(my_g, my_gPlusf)}\")\n",
    "print(f\"g \\\\ f' = {prague.left_inv(my_gv, prague.priority_union(my_gv, my_fv), True)}\")\n",
    "'----------'\n",
    "my_fPlusg = priority_union(my_f, my_g)\n",
    "print(f\"f + g  =  {my_fPlusg}\")\n",
    "print(f\"f \\\\ g' = {pru_left_inverse_interval(my_f, my_fPlusg)}\")\n",
    "print(f\"f \\\\ g' = {prague.left_inv(my_fv, prague.priority_union(my_fv, my_gv), True)}\")"
   ]
  },
  {
   "cell_type": "markdown",
   "id": "annoying-tanzania",
   "metadata": {},
   "source": [
    "## Right inverse of priority union"
   ]
  },
  {
   "cell_type": "code",
   "execution_count": 42,
   "id": "religious-trade",
   "metadata": {
    "ExecuteTime": {
     "end_time": "2021-06-30T03:17:55.465472Z",
     "start_time": "2021-06-30T03:17:55.461918Z"
    }
   },
   "outputs": [],
   "source": [
    "# g+f = f'\n",
    "#       f'/f\n",
    "\n",
    "def pru_right_inverse_lower_bound(fPrime, f):\n",
    "    #f must be \\leq fPrime\n",
    "    if not leq_func(f, fPrime):\n",
    "        return None\n",
    "    whereFisUndefined = undefined_inputs(f)\n",
    "    glb_unordered = add_explicit_bot(project(deepcopy(fPrime), \n",
    "                                             whereFisUndefined),\n",
    "                                     X)\n",
    "    glb = {k:glb_unordered[k] for k in sorted(X)}\n",
    "    return glb\n",
    "#     cdm      = add_explicit_bot(common_defined_maps(f,fPrime), X)\n",
    "#     diff     = add_explicit_bot(unique_defined_maps_left(fPrime, cdm), X)\n",
    "#     offsetAt = undefined_inputs(fPrime).intersection(undefined_inputs(f))\n",
    "#     offset   = "
   ]
  },
  {
   "cell_type": "code",
   "execution_count": 29,
   "id": "eleven-scanning",
   "metadata": {
    "ExecuteTime": {
     "end_time": "2021-06-30T03:17:00.708114Z",
     "start_time": "2021-06-30T03:17:00.706306Z"
    }
   },
   "outputs": [],
   "source": [
    "# my_g = {'a': '0', 'b': '0'} \n",
    "# my_f = {'a': '-', 'b': '0'}"
   ]
  },
  {
   "cell_type": "code",
   "execution_count": 44,
   "id": "resident-niger",
   "metadata": {
    "ExecuteTime": {
     "end_time": "2021-06-30T03:18:29.792320Z",
     "start_time": "2021-06-30T03:18:29.782793Z"
    }
   },
   "outputs": [
    {
     "name": "stdout",
     "output_type": "stream",
     "text": [
      "g = {'a': '-', 'b': '0'} \n",
      "f = {'a': '0', 'b': '-'}\n"
     ]
    },
    {
     "data": {
      "text/plain": [
       "'============================'"
      ]
     },
     "execution_count": 44,
     "metadata": {},
     "output_type": "execute_result"
    },
    {
     "name": "stdout",
     "output_type": "stream",
     "text": [
      "g + f  =  {'a': '-', 'b': '-'}\n",
      "f' / f = ↑{'a': '-', 'b': '0'}\n",
      "f' / f = ↑[-1  0]\n"
     ]
    },
    {
     "data": {
      "text/plain": [
       "'----------'"
      ]
     },
     "execution_count": 44,
     "metadata": {},
     "output_type": "execute_result"
    },
    {
     "name": "stdout",
     "output_type": "stream",
     "text": [
      "f + g  =  {'a': '-', 'b': '-'}\n",
      "g' / f = ↑{'a': '0', 'b': '-'}\n",
      "g' / f = ↑[ 0 -1]\n"
     ]
    }
   ],
   "source": [
    "print(f\"g = {my_g}\", f\"\\nf = {my_f}\")\n",
    "'============================'\n",
    "my_gPlusf = priority_union(my_g, my_f)\n",
    "print(f\"g + f  =  {my_gPlusf}\")\n",
    "print(f\"f' / f = ↑{pru_right_inverse_lower_bound(my_gPlusf, my_f)}\")\n",
    "print(f\"f' / f = ↑{prague.right_inv(prague.priority_union(my_gv, my_fv), my_fv, True)}\")\n",
    "'----------'\n",
    "my_fPlusg = priority_union(my_f, my_g)\n",
    "print(f\"f + g  =  {my_fPlusg}\")\n",
    "print(f\"g' / f = ↑{pru_right_inverse_lower_bound(my_fPlusg, my_g)}\")\n",
    "print(f\"g' / f = ↑{prague.right_inv(prague.priority_union(my_fv, my_gv), my_gv, True)}\")"
   ]
  },
  {
   "cell_type": "markdown",
   "id": "closing-excuse",
   "metadata": {},
   "source": [
    "## Partial derivatives wrt priority union"
   ]
  },
  {
   "cell_type": "code",
   "execution_count": null,
   "id": "superior-maria",
   "metadata": {},
   "outputs": [],
   "source": []
  },
  {
   "cell_type": "markdown",
   "id": "serious-superintendent",
   "metadata": {},
   "source": [
    "## Partial derivatives wrt left inverse priority union"
   ]
  },
  {
   "cell_type": "code",
   "execution_count": null,
   "id": "entitled-transformation",
   "metadata": {},
   "outputs": [],
   "source": []
  },
  {
   "cell_type": "markdown",
   "id": "adjacent-mason",
   "metadata": {},
   "source": [
    "## Partial derivatives wrt right inverse priority union"
   ]
  },
  {
   "cell_type": "code",
   "execution_count": null,
   "id": "absolute-tamil",
   "metadata": {},
   "outputs": [],
   "source": []
  },
  {
   "cell_type": "markdown",
   "id": "local-guyana",
   "metadata": {},
   "source": [
    "# Composition and its inverses"
   ]
  },
  {
   "cell_type": "markdown",
   "id": "received-religion",
   "metadata": {},
   "source": [
    "## Composition"
   ]
  },
  {
   "cell_type": "code",
   "execution_count": 31,
   "id": "large-state",
   "metadata": {
    "ExecuteTime": {
     "end_time": "2021-06-30T03:17:00.720219Z",
     "start_time": "2021-06-30T03:17:00.718388Z"
    }
   },
   "outputs": [],
   "source": [
    "#comp"
   ]
  },
  {
   "cell_type": "markdown",
   "id": "painted-porter",
   "metadata": {},
   "source": [
    "## Left inverse"
   ]
  },
  {
   "cell_type": "code",
   "execution_count": 32,
   "id": "disturbed-algeria",
   "metadata": {
    "ExecuteTime": {
     "end_time": "2021-06-30T03:17:00.723432Z",
     "start_time": "2021-06-30T03:17:00.721805Z"
    }
   },
   "outputs": [],
   "source": [
    "#left inv"
   ]
  },
  {
   "cell_type": "markdown",
   "id": "textile-pillow",
   "metadata": {},
   "source": [
    "## Right inverse"
   ]
  },
  {
   "cell_type": "code",
   "execution_count": 33,
   "id": "elementary-occasions",
   "metadata": {
    "ExecuteTime": {
     "end_time": "2021-06-30T03:17:00.726397Z",
     "start_time": "2021-06-30T03:17:00.724722Z"
    }
   },
   "outputs": [],
   "source": [
    "#right inv"
   ]
  },
  {
   "cell_type": "code",
   "execution_count": 34,
   "id": "fresh-brave",
   "metadata": {
    "ExecuteTime": {
     "end_time": "2021-06-30T03:17:00.729406Z",
     "start_time": "2021-06-30T03:17:00.727693Z"
    }
   },
   "outputs": [],
   "source": [
    "#implementation tests"
   ]
  },
  {
   "cell_type": "markdown",
   "id": "hispanic-progress",
   "metadata": {},
   "source": [
    "## Partial derivatives wrt composition"
   ]
  },
  {
   "cell_type": "code",
   "execution_count": null,
   "id": "embedded-thermal",
   "metadata": {},
   "outputs": [],
   "source": []
  },
  {
   "cell_type": "markdown",
   "id": "ordinary-egypt",
   "metadata": {},
   "source": [
    "## Partial derivatives wrt left inverse composition"
   ]
  },
  {
   "cell_type": "code",
   "execution_count": null,
   "id": "alleged-purse",
   "metadata": {},
   "outputs": [],
   "source": []
  },
  {
   "cell_type": "markdown",
   "id": "ongoing-packaging",
   "metadata": {},
   "source": [
    "## Partial derivatives wrt right inverse composition"
   ]
  },
  {
   "cell_type": "code",
   "execution_count": null,
   "id": "color-elder",
   "metadata": {},
   "outputs": [],
   "source": []
  },
  {
   "cell_type": "markdown",
   "id": "silver-fantasy",
   "metadata": {},
   "source": [
    "# Property tests"
   ]
  },
  {
   "cell_type": "code",
   "execution_count": 35,
   "id": "aggregate-conspiracy",
   "metadata": {
    "ExecuteTime": {
     "end_time": "2021-06-30T03:17:00.742628Z",
     "start_time": "2021-06-30T03:17:00.730978Z"
    }
   },
   "outputs": [],
   "source": [
    "def all_pairs_from(X):\n",
    "    return {(a,b) for a in X for b in X}\n",
    "\n",
    "def all_triples_from(X):\n",
    "    return {(a,b,c) for a in X for b in X for c in X}\n",
    "\n",
    "def is_commutative_over(op, X, opIsTotal=True):\n",
    "    f = op\n",
    "    counterexamples = set()\n",
    "    for a,b in all_pairs_from(X):\n",
    "        if opIsTotal:\n",
    "            if f(a,b) != f(b,a):\n",
    "                counterexamples.add((a,b, f(a,b), f(b,a)))\n",
    "        else:\n",
    "            afb    = f(a,b)\n",
    "            bfa    = f(b,a)\n",
    "            if afb is not None and bfa is not None:\n",
    "                if afb != bfa:\n",
    "                    counterexamples.add(a,b, afb, bfa)\n",
    "    return counterexamples\n",
    "\n",
    "def is_associative_over(op, X, opIsTotal=True):\n",
    "    f = op\n",
    "    counterexamples = set()\n",
    "    for a,b,c in all_triples_from(X):\n",
    "        if opIsTotal:\n",
    "            if f(f(a,b),c) != f(a,f(b,c)):\n",
    "                counterexamples.add((a,b,c, f(a,b), f(f(a,b), c), f(a, f(b,c)), f(b,c)))\n",
    "        else:\n",
    "            afb    = f(a,b)\n",
    "            bfc    = f(b,c)\n",
    "            afb_fc = None if afb is None else f(afb, c)\n",
    "            af_bfc = None if bfc is None else f(a  ,bfc)\n",
    "            if afb_fc is not None and af_bfc is not None:\n",
    "                if afb_fc != af_bfc:\n",
    "                    counterexamples.add((a,b,c, afb, afb_fc, af_bfc))\n",
    "    return counterexamples\n",
    "\n",
    "def is_universal_right_identity(e, op, X, opIsTotal=True):\n",
    "    f = op\n",
    "    counterexamples = set()\n",
    "    for x in X:\n",
    "        if opIsTotal:\n",
    "            if f(x,e) != x:\n",
    "                counterexamples.add((x, f(x,e)))\n",
    "        else:\n",
    "            if f(x,e) != x and f(x,e) is not None:\n",
    "                counterexamples.add((x, f(x,e)))\n",
    "    return counterexamples\n",
    "\n",
    "def is_universal_left_identity(e, op, X, opIsTotal=True):\n",
    "    f = op\n",
    "    counterexamples = set()\n",
    "    for x in X:\n",
    "        if opIsTotal:\n",
    "            if f(e,x) != x:\n",
    "                counterexamples.add((x, f(e,x)))\n",
    "        else:\n",
    "            if f(e,x) != x and f(e,x) is not None:\n",
    "                counterexamples.add((x, f(e,x)))\n",
    "    return counterexamples\n",
    "\n",
    "\n",
    "def is_universal_identity(e, op, X, opIsTotal=True):\n",
    "    f = op\n",
    "    counterexamples = set()\n",
    "    for x in X:\n",
    "        if opIsTotal:\n",
    "            if f(x,e) != x:\n",
    "                counterexamples.add((x, e, f(x,e)))\n",
    "            if f(e,x) != x:\n",
    "                counterexamples.add((e, x, f(e,x)))\n",
    "        else:\n",
    "            if f(x,e) != x and f(x,e) is not None:\n",
    "                counterexamples.add((x, e, f(x,e)))\n",
    "            if f(e,x) != x and f(e,x) is not None:\n",
    "                counterexamples.add((e, x, f(e,x)))\n",
    "    return counterexamples\n",
    "\n",
    "# test reproduction axiom\n",
    "# def "
   ]
  },
  {
   "cell_type": "code",
   "execution_count": 36,
   "id": "particular-guidance",
   "metadata": {
    "ExecuteTime": {
     "end_time": "2021-06-30T03:17:00.746910Z",
     "start_time": "2021-06-30T03:17:00.744569Z"
    }
   },
   "outputs": [],
   "source": [
    "def lift_total_func_to_hyperop(func_dict):\n",
    "    f = func_dict\n",
    "    return {frozenset(k):frozenset(f[k]) for k in f}"
   ]
  },
  {
   "cell_type": "markdown",
   "id": "approximate-philippines",
   "metadata": {},
   "source": [
    "## Priority union defines a monoid"
   ]
  },
  {
   "cell_type": "code",
   "execution_count": 37,
   "id": "unable-poverty",
   "metadata": {
    "ExecuteTime": {
     "end_time": "2021-06-30T03:17:00.752225Z",
     "start_time": "2021-06-30T03:17:00.750330Z"
    }
   },
   "outputs": [],
   "source": [
    "#priority union is total over X x Y"
   ]
  },
  {
   "cell_type": "code",
   "execution_count": 38,
   "id": "boolean-earth",
   "metadata": {
    "ExecuteTime": {
     "end_time": "2021-06-30T03:17:00.756240Z",
     "start_time": "2021-06-30T03:17:00.754646Z"
    }
   },
   "outputs": [],
   "source": [
    "#priority union is associative"
   ]
  },
  {
   "cell_type": "code",
   "execution_count": 39,
   "id": "daily-calibration",
   "metadata": {
    "ExecuteTime": {
     "end_time": "2021-06-30T03:17:00.759532Z",
     "start_time": "2021-06-30T03:17:00.757771Z"
    }
   },
   "outputs": [],
   "source": [
    "#the zero function is the universal (two-sided) identity element"
   ]
  },
  {
   "cell_type": "markdown",
   "id": "elegant-astronomy",
   "metadata": {},
   "source": [
    "## Left inverse of priority union defines a (partial?) hypergroup"
   ]
  },
  {
   "cell_type": "code",
   "execution_count": null,
   "id": "english-replication",
   "metadata": {},
   "outputs": [],
   "source": []
  },
  {
   "cell_type": "markdown",
   "id": "polish-simon",
   "metadata": {},
   "source": [
    "## Right inverse of priority union defines a (partial?) hypergroup"
   ]
  },
  {
   "cell_type": "code",
   "execution_count": null,
   "id": "cheap-exploration",
   "metadata": {},
   "outputs": [],
   "source": []
  }
 ],
 "metadata": {
  "kernelspec": {
   "display_name": "Python 3",
   "language": "python",
   "name": "python3"
  },
  "language_info": {
   "codemirror_mode": {
    "name": "ipython",
    "version": 3
   },
   "file_extension": ".py",
   "mimetype": "text/x-python",
   "name": "python",
   "nbconvert_exporter": "python",
   "pygments_lexer": "ipython3",
   "version": "3.7.10"
  },
  "latex_envs": {
   "LaTeX_envs_menu_present": true,
   "autoclose": false,
   "autocomplete": true,
   "bibliofile": "biblio.bib",
   "cite_by": "apalike",
   "current_citInitial": 1,
   "eqLabelWithNumbers": true,
   "eqNumInitial": 1,
   "hotkeys": {
    "equation": "Ctrl-E",
    "itemize": "Ctrl-I"
   },
   "labels_anchors": false,
   "latex_user_defs": false,
   "report_style_numbering": false,
   "user_envs_cfg": false
  },
  "toc": {
   "base_numbering": 1,
   "nav_menu": {},
   "number_sections": true,
   "sideBar": true,
   "skip_h1_title": false,
   "title_cell": "Table of Contents",
   "title_sidebar": "Contents",
   "toc_cell": false,
   "toc_position": {},
   "toc_section_display": true,
   "toc_window_display": false
  }
 },
 "nbformat": 4,
 "nbformat_minor": 5
}
