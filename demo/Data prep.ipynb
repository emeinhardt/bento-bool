{
 "cells": [
  {
   "cell_type": "code",
   "execution_count": 1,
   "metadata": {
    "ExecuteTime": {
     "end_time": "2020-02-19T03:17:07.384053Z",
     "start_time": "2020-02-19T03:17:07.381133Z"
    }
   },
   "outputs": [],
   "source": [
    "#Prints **all** console output, not just last item in cell \n",
    "from IPython.core.interactiveshell import InteractiveShell\n",
    "InteractiveShell.ast_node_interactivity = \"all\""
   ]
  },
  {
   "cell_type": "markdown",
   "metadata": {},
   "source": [
    "**Eric Meinhardt / emeinhardt@ucsd.edu**"
   ]
  },
  {
   "cell_type": "code",
   "execution_count": 2,
   "metadata": {
    "ExecuteTime": {
     "end_time": "2020-02-19T03:17:08.387023Z",
     "start_time": "2020-02-19T03:17:08.244342Z"
    }
   },
   "outputs": [],
   "source": [
    "from funcy import *\n",
    "from functools import reduce"
   ]
  },
  {
   "cell_type": "markdown",
   "metadata": {
    "toc": true
   },
   "source": [
    "<h1>Table of Contents<span class=\"tocSkip\"></span></h1>\n",
    "<div class=\"toc\"><ul class=\"toc-item\"><li><span><a href=\"#Motivation\" data-toc-modified-id=\"Motivation-1\"><span class=\"toc-item-num\">1&nbsp;&nbsp;</span>Motivation</a></span></li><li><span><a href=\"#Load-data\" data-toc-modified-id=\"Load-data-2\"><span class=\"toc-item-num\">2&nbsp;&nbsp;</span>Load data</a></span></li><li><span><a href=\"#Check-well-formedness\" data-toc-modified-id=\"Check-well-formedness-3\"><span class=\"toc-item-num\">3&nbsp;&nbsp;</span>Check well-formedness</a></span></li><li><span><a href=\"#Preprocess-and-transform-into-ndarray\" data-toc-modified-id=\"Preprocess-and-transform-into-ndarray-4\"><span class=\"toc-item-num\">4&nbsp;&nbsp;</span>Preprocess and transform into <code>ndarray</code></a></span></li><li><span><a href=\"#Export\" data-toc-modified-id=\"Export-5\"><span class=\"toc-item-num\">5&nbsp;&nbsp;</span>Export</a></span></li></ul></div>"
   ]
  },
  {
   "cell_type": "markdown",
   "metadata": {},
   "source": [
    "# Motivation"
   ]
  },
  {
   "cell_type": "markdown",
   "metadata": {},
   "source": [
    "This notebook illustrates usage of the package, focusing exclusively on loading and preparing data. We will:\n",
    " - look at some example input data (specifying a phonological feature system)\n",
    " - turn that data into a ternary matrix (NumPy ndarray)\n",
    " - export our transformed data and metadata."
   ]
  },
  {
   "cell_type": "markdown",
   "metadata": {},
   "source": [
    "# Load data"
   ]
  },
  {
   "cell_type": "code",
   "execution_count": 3,
   "metadata": {
    "ExecuteTime": {
     "end_time": "2020-02-19T03:17:10.477737Z",
     "start_time": "2020-02-19T03:17:10.471400Z"
    }
   },
   "outputs": [
    {
     "name": "stdout",
     "output_type": "stream",
     "text": [
      "/mnt/cube/home/AD/emeinhar/prague\n"
     ]
    }
   ],
   "source": [
    "%cd .."
   ]
  },
  {
   "cell_type": "code",
   "execution_count": 4,
   "metadata": {
    "ExecuteTime": {
     "end_time": "2020-02-19T03:17:10.907489Z",
     "start_time": "2020-02-19T03:17:10.656282Z"
    }
   },
   "outputs": [],
   "source": [
    "import numpy as np"
   ]
  },
  {
   "cell_type": "code",
   "execution_count": 5,
   "metadata": {
    "ExecuteTime": {
     "end_time": "2020-02-19T03:17:11.336347Z",
     "start_time": "2020-02-19T03:17:11.038915Z"
    }
   },
   "outputs": [],
   "source": [
    "import prague"
   ]
  },
  {
   "cell_type": "code",
   "execution_count": 6,
   "metadata": {
    "ExecuteTime": {
     "end_time": "2020-02-19T03:17:13.124548Z",
     "start_time": "2020-02-19T03:17:12.994421Z"
    }
   },
   "outputs": [
    {
     "name": "stdout",
     "output_type": "stream",
     "text": [
      "bakovic_chart_riggle_hayes_remapped.tsv  brh.npy             hayes_remapped.tsv\r\n",
      "bakovic_chart_riggle_hayes.tsv           hayes_features.txt  hayes.tsv\r\n",
      "brh_features.txt                         hayes.npy\r\n"
     ]
    }
   ],
   "source": [
    "%ls data"
   ]
  },
  {
   "cell_type": "code",
   "execution_count": 7,
   "metadata": {
    "ExecuteTime": {
     "end_time": "2020-02-19T03:17:14.279267Z",
     "start_time": "2020-02-19T03:17:14.275612Z"
    }
   },
   "outputs": [
    {
     "name": "stdout",
     "output_type": "stream",
     "text": [
      "\n",
      "Module to take\n",
      " - a tab-separated value file specifying a binary or ternary feature matrix.\n",
      "   - the file is assumed to have a header row indicating feature labels\n",
      "   - each non-header row represents an object's feature vector\n",
      "   - features are assumed to be {`+`,`-`,`0`} (following phonological\n",
      "     convention) by default\n",
      " - a (potentially -- comma-separated -- list of) column name(s) indicating any\n",
      "   columns not containing feature-value information (e.g. an object's label =\n",
      "  IPA symbol in the case of phonological feature matrices).\n",
      "\n",
      "and write\n",
      " - the ordered list of feature names (reflecting the ordering in the input\n",
      "   `.tsv`) to a `.txt` file\n",
      " - a serialized numpy ndarray `.npy` file representing the unique feature\n",
      "   vectors of the `.tsv` file as a matrix, with each row corresponding to\n",
      "   an object and feature values represented as `1`, `-1`, or `0`\n",
      " - a tab-separated-value file with `+` replaced with `1` and `-` replaced with\n",
      "   `-1`.\n",
      "\n",
      "Note that if your feature matrix contains multiple objects that have the same\n",
      "featural description, this notebook will detect and record as much, but the\n",
      "final matrix it produces will only have one row for each unique feature vector.\n",
      "\n"
     ]
    }
   ],
   "source": [
    "print(prague.convert.__doc__)"
   ]
  },
  {
   "cell_type": "code",
   "execution_count": 8,
   "metadata": {
    "ExecuteTime": {
     "end_time": "2020-02-19T03:17:33.893514Z",
     "start_time": "2020-02-19T03:17:33.781104Z"
    }
   },
   "outputs": [
    {
     "name": "stdout",
     "output_type": "stream",
     "text": [
      "symbol\tsyll\tcons\tson\tlabial\tcoronal\tdorsal\tvoice\tcont\tdel. rel.\tant\tdist\tstrid\thigh\tlow\tback\tfront\tapprox\tnas\tlat\ts.g.\tc.g.\tround\tATR\r\n",
      "p\t-\t+\t-\t+\t-\t-\t-\t-\t-\t0\t0\t0\t0\t0\t0\t0\t-\t-\t-\t-\t-\t0\t0\r\n",
      "b\t-\t+\t-\t+\t-\t-\t+\t-\t-\t0\t0\t0\t0\t0\t0\t0\t-\t-\t-\t-\t-\t0\t0\r\n",
      "ɸ\t-\t+\t-\t+\t-\t-\t-\t+\t+\t0\t+\t-\t0\t0\t0\t0\t-\t-\t-\t-\t-\t0\t0\r\n",
      "β\t-\t+\t-\t+\t-\t-\t+\t+\t+\t0\t+\t-\t0\t0\t0\t0\t-\t-\t-\t-\t-\t0\t0\r\n"
     ]
    }
   ],
   "source": [
    "# %cat data/hayes.tsv | head -n 5\n",
    "%cat data/bakovic_chart_riggle_hayes.tsv | head -n 5"
   ]
  },
  {
   "cell_type": "code",
   "execution_count": 9,
   "metadata": {
    "ExecuteTime": {
     "end_time": "2020-02-19T03:18:14.068286Z",
     "start_time": "2020-02-19T03:18:14.064509Z"
    }
   },
   "outputs": [],
   "source": [
    "# my_input_filepath = 'data/hayes.tsv'\n",
    "my_input_filepath = 'data/bakovic_chart_riggle_hayes.tsv'\n",
    "\n",
    "my_columns_to_remove = ('symbol',)\n",
    "\n",
    "# my_output_filepath = 'data/hayes.npy'\n",
    "my_output_filepath = 'data/brh.npy'\n",
    "\n",
    "# my_features_list_output_filepath = 'data/hayes_features.txt'\n",
    "my_features_list_output_filepath = 'data/brh_features.txt'"
   ]
  },
  {
   "cell_type": "code",
   "execution_count": 10,
   "metadata": {
    "ExecuteTime": {
     "end_time": "2020-02-19T03:18:15.101861Z",
     "start_time": "2020-02-19T03:18:15.044435Z"
    }
   },
   "outputs": [
    {
     "data": {
      "text/plain": [
       "[OrderedDict([('symbol', 'p'),\n",
       "              ('syll', '-'),\n",
       "              ('cons', '+'),\n",
       "              ('son', '-'),\n",
       "              ('labial', '+'),\n",
       "              ('coronal', '-'),\n",
       "              ('dorsal', '-'),\n",
       "              ('voice', '-'),\n",
       "              ('cont', '-'),\n",
       "              ('del. rel.', '-'),\n",
       "              ('ant', '0'),\n",
       "              ('dist', '0'),\n",
       "              ('strid', '0'),\n",
       "              ('high', '0'),\n",
       "              ('low', '0'),\n",
       "              ('back', '0'),\n",
       "              ('front', '0'),\n",
       "              ('approx', '-'),\n",
       "              ('nas', '-'),\n",
       "              ('lat', '-'),\n",
       "              ('s.g.', '-'),\n",
       "              ('c.g.', '-'),\n",
       "              ('round', '0'),\n",
       "              ('ATR', '0')]),\n",
       " OrderedDict([('symbol', 'b'),\n",
       "              ('syll', '-'),\n",
       "              ('cons', '+'),\n",
       "              ('son', '-'),\n",
       "              ('labial', '+'),\n",
       "              ('coronal', '-'),\n",
       "              ('dorsal', '-'),\n",
       "              ('voice', '+'),\n",
       "              ('cont', '-'),\n",
       "              ('del. rel.', '-'),\n",
       "              ('ant', '0'),\n",
       "              ('dist', '0'),\n",
       "              ('strid', '0'),\n",
       "              ('high', '0'),\n",
       "              ('low', '0'),\n",
       "              ('back', '0'),\n",
       "              ('front', '0'),\n",
       "              ('approx', '-'),\n",
       "              ('nas', '-'),\n",
       "              ('lat', '-'),\n",
       "              ('s.g.', '-'),\n",
       "              ('c.g.', '-'),\n",
       "              ('round', '0'),\n",
       "              ('ATR', '0')]),\n",
       " OrderedDict([('symbol', 'ɸ'),\n",
       "              ('syll', '-'),\n",
       "              ('cons', '+'),\n",
       "              ('son', '-'),\n",
       "              ('labial', '+'),\n",
       "              ('coronal', '-'),\n",
       "              ('dorsal', '-'),\n",
       "              ('voice', '-'),\n",
       "              ('cont', '+'),\n",
       "              ('del. rel.', '+'),\n",
       "              ('ant', '0'),\n",
       "              ('dist', '+'),\n",
       "              ('strid', '-'),\n",
       "              ('high', '0'),\n",
       "              ('low', '0'),\n",
       "              ('back', '0'),\n",
       "              ('front', '0'),\n",
       "              ('approx', '-'),\n",
       "              ('nas', '-'),\n",
       "              ('lat', '-'),\n",
       "              ('s.g.', '-'),\n",
       "              ('c.g.', '-'),\n",
       "              ('round', '0'),\n",
       "              ('ATR', '0')]),\n",
       " OrderedDict([('symbol', 'β'),\n",
       "              ('syll', '-'),\n",
       "              ('cons', '+'),\n",
       "              ('son', '-'),\n",
       "              ('labial', '+'),\n",
       "              ('coronal', '-'),\n",
       "              ('dorsal', '-'),\n",
       "              ('voice', '+'),\n",
       "              ('cont', '+'),\n",
       "              ('del. rel.', '+'),\n",
       "              ('ant', '0'),\n",
       "              ('dist', '+'),\n",
       "              ('strid', '-'),\n",
       "              ('high', '0'),\n",
       "              ('low', '0'),\n",
       "              ('back', '0'),\n",
       "              ('front', '0'),\n",
       "              ('approx', '-'),\n",
       "              ('nas', '-'),\n",
       "              ('lat', '-'),\n",
       "              ('s.g.', '-'),\n",
       "              ('c.g.', '-'),\n",
       "              ('round', '0'),\n",
       "              ('ATR', '0')]),\n",
       " OrderedDict([('symbol', 'f'),\n",
       "              ('syll', '-'),\n",
       "              ('cons', '+'),\n",
       "              ('son', '-'),\n",
       "              ('labial', '+'),\n",
       "              ('coronal', '-'),\n",
       "              ('dorsal', '-'),\n",
       "              ('voice', '-'),\n",
       "              ('cont', '+'),\n",
       "              ('del. rel.', '+'),\n",
       "              ('ant', '0'),\n",
       "              ('dist', '-'),\n",
       "              ('strid', '+'),\n",
       "              ('high', '0'),\n",
       "              ('low', '0'),\n",
       "              ('back', '0'),\n",
       "              ('front', '0'),\n",
       "              ('approx', '-'),\n",
       "              ('nas', '-'),\n",
       "              ('lat', '-'),\n",
       "              ('s.g.', '-'),\n",
       "              ('c.g.', '-'),\n",
       "              ('round', '0'),\n",
       "              ('ATR', '0')]),\n",
       " OrderedDict([('symbol', 'v'),\n",
       "              ('syll', '-'),\n",
       "              ('cons', '+'),\n",
       "              ('son', '-'),\n",
       "              ('labial', '+'),\n",
       "              ('coronal', '-'),\n",
       "              ('dorsal', '-'),\n",
       "              ('voice', '+'),\n",
       "              ('cont', '+'),\n",
       "              ('del. rel.', '+'),\n",
       "              ('ant', '0'),\n",
       "              ('dist', '-'),\n",
       "              ('strid', '+'),\n",
       "              ('high', '0'),\n",
       "              ('low', '0'),\n",
       "              ('back', '0'),\n",
       "              ('front', '0'),\n",
       "              ('approx', '-'),\n",
       "              ('nas', '-'),\n",
       "              ('lat', '-'),\n",
       "              ('s.g.', '-'),\n",
       "              ('c.g.', '-'),\n",
       "              ('round', '0'),\n",
       "              ('ATR', '0')]),\n",
       " OrderedDict([('symbol', 't̪'),\n",
       "              ('syll', '-'),\n",
       "              ('cons', '+'),\n",
       "              ('son', '-'),\n",
       "              ('labial', '-'),\n",
       "              ('coronal', '+'),\n",
       "              ('dorsal', '-'),\n",
       "              ('voice', '-'),\n",
       "              ('cont', '-'),\n",
       "              ('del. rel.', '-'),\n",
       "              ('ant', '+'),\n",
       "              ('dist', '+'),\n",
       "              ('strid', '-'),\n",
       "              ('high', '0'),\n",
       "              ('low', '0'),\n",
       "              ('back', '0'),\n",
       "              ('front', '0'),\n",
       "              ('approx', '-'),\n",
       "              ('nas', '-'),\n",
       "              ('lat', '-'),\n",
       "              ('s.g.', '-'),\n",
       "              ('c.g.', '-'),\n",
       "              ('round', '0'),\n",
       "              ('ATR', '0')]),\n",
       " OrderedDict([('symbol', 'd̪'),\n",
       "              ('syll', '-'),\n",
       "              ('cons', '+'),\n",
       "              ('son', '-'),\n",
       "              ('labial', '-'),\n",
       "              ('coronal', '+'),\n",
       "              ('dorsal', '-'),\n",
       "              ('voice', '+'),\n",
       "              ('cont', '-'),\n",
       "              ('del. rel.', '-'),\n",
       "              ('ant', '+'),\n",
       "              ('dist', '+'),\n",
       "              ('strid', '-'),\n",
       "              ('high', '0'),\n",
       "              ('low', '0'),\n",
       "              ('back', '0'),\n",
       "              ('front', '0'),\n",
       "              ('approx', '-'),\n",
       "              ('nas', '-'),\n",
       "              ('lat', '-'),\n",
       "              ('s.g.', '-'),\n",
       "              ('c.g.', '-'),\n",
       "              ('round', '0'),\n",
       "              ('ATR', '0')]),\n",
       " OrderedDict([('symbol', 'θ'),\n",
       "              ('syll', '-'),\n",
       "              ('cons', '+'),\n",
       "              ('son', '-'),\n",
       "              ('labial', '-'),\n",
       "              ('coronal', '+'),\n",
       "              ('dorsal', '-'),\n",
       "              ('voice', '-'),\n",
       "              ('cont', '+'),\n",
       "              ('del. rel.', '+'),\n",
       "              ('ant', '+'),\n",
       "              ('dist', '+'),\n",
       "              ('strid', '-'),\n",
       "              ('high', '0'),\n",
       "              ('low', '0'),\n",
       "              ('back', '0'),\n",
       "              ('front', '0'),\n",
       "              ('approx', '-'),\n",
       "              ('nas', '-'),\n",
       "              ('lat', '-'),\n",
       "              ('s.g.', '-'),\n",
       "              ('c.g.', '-'),\n",
       "              ('round', '0'),\n",
       "              ('ATR', '0')]),\n",
       " OrderedDict([('symbol', 'ð'),\n",
       "              ('syll', '-'),\n",
       "              ('cons', '+'),\n",
       "              ('son', '-'),\n",
       "              ('labial', '-'),\n",
       "              ('coronal', '+'),\n",
       "              ('dorsal', '-'),\n",
       "              ('voice', '+'),\n",
       "              ('cont', '+'),\n",
       "              ('del. rel.', '+'),\n",
       "              ('ant', '+'),\n",
       "              ('dist', '+'),\n",
       "              ('strid', '-'),\n",
       "              ('high', '0'),\n",
       "              ('low', '0'),\n",
       "              ('back', '0'),\n",
       "              ('front', '0'),\n",
       "              ('approx', '-'),\n",
       "              ('nas', '-'),\n",
       "              ('lat', '-'),\n",
       "              ('s.g.', '-'),\n",
       "              ('c.g.', '-'),\n",
       "              ('round', '0'),\n",
       "              ('ATR', '0')])]"
      ]
     },
     "execution_count": 10,
     "metadata": {},
     "output_type": "execute_result"
    }
   ],
   "source": [
    "my_objects = prague.convert.load_objects(my_input_filepath)\n",
    "my_objects[:10]"
   ]
  },
  {
   "cell_type": "code",
   "execution_count": 11,
   "metadata": {
    "ExecuteTime": {
     "end_time": "2020-02-19T03:18:19.265816Z",
     "start_time": "2020-02-19T03:18:19.262257Z"
    }
   },
   "outputs": [
    {
     "data": {
      "text/plain": [
       "94"
      ]
     },
     "execution_count": 11,
     "metadata": {},
     "output_type": "execute_result"
    }
   ],
   "source": [
    "len(my_objects)"
   ]
  },
  {
   "cell_type": "markdown",
   "metadata": {},
   "source": [
    "# Check well-formedness"
   ]
  },
  {
   "cell_type": "markdown",
   "metadata": {},
   "source": [
    " - We want to make sure every object is defined on the same set of features.\n",
    " - We at least want a heads-up about duplicate objects."
   ]
  },
  {
   "cell_type": "code",
   "execution_count": 12,
   "metadata": {
    "ExecuteTime": {
     "end_time": "2020-02-19T03:18:22.617540Z",
     "start_time": "2020-02-19T03:18:22.615087Z"
    }
   },
   "outputs": [
    {
     "name": "stdout",
     "output_type": "stream",
     "text": [
      "\n",
      "    Returns True iff all objects are defined for the same set of features.\n",
      "\n",
      "    If behavior is 'Exception', then this function will raise an exception\n",
      "    if this property does not hold of the set of objects.\n",
      "    \n"
     ]
    }
   ],
   "source": [
    "print(prague.convert.have_universal_feature_definitions.__doc__)"
   ]
  },
  {
   "cell_type": "code",
   "execution_count": 13,
   "metadata": {
    "ExecuteTime": {
     "end_time": "2020-02-19T03:18:23.922929Z",
     "start_time": "2020-02-19T03:18:23.919657Z"
    }
   },
   "outputs": [
    {
     "data": {
      "text/plain": [
       "True"
      ]
     },
     "execution_count": 13,
     "metadata": {},
     "output_type": "execute_result"
    }
   ],
   "source": [
    "prague.convert.have_universal_feature_definitions(my_objects, \n",
    "                                                  behavior='Exception')"
   ]
  },
  {
   "cell_type": "code",
   "execution_count": 14,
   "metadata": {
    "ExecuteTime": {
     "end_time": "2020-02-19T03:18:24.068969Z",
     "start_time": "2020-02-19T03:18:24.065542Z"
    }
   },
   "outputs": [
    {
     "name": "stdout",
     "output_type": "stream",
     "text": [
      "\n",
      "    Returns True iff all objects are unique (excluding features in\n",
      "    `features_to_ignore`).\n",
      "\n",
      "    If behavior is 'Exception', then this function will raise an exception if\n",
      "    this property does not hold of the set of objects.\n",
      "    \n"
     ]
    }
   ],
   "source": [
    "print(prague.convert.objects_are_unique.__doc__)"
   ]
  },
  {
   "cell_type": "code",
   "execution_count": 15,
   "metadata": {
    "ExecuteTime": {
     "end_time": "2020-02-19T03:18:24.221116Z",
     "start_time": "2020-02-19T03:18:24.208401Z"
    }
   },
   "outputs": [
    {
     "data": {
      "text/plain": [
       "True"
      ]
     },
     "execution_count": 15,
     "metadata": {},
     "output_type": "execute_result"
    }
   ],
   "source": [
    "prague.convert.objects_are_unique(my_objects,\n",
    "                                  features_to_ignore=None,\n",
    "                                  behavior='Exception')"
   ]
  },
  {
   "cell_type": "code",
   "execution_count": 16,
   "metadata": {
    "ExecuteTime": {
     "end_time": "2020-02-19T03:18:25.569834Z",
     "start_time": "2020-02-19T03:18:25.560298Z"
    }
   },
   "outputs": [
    {
     "data": {
      "text/plain": [
       "94"
      ]
     },
     "execution_count": 16,
     "metadata": {},
     "output_type": "execute_result"
    },
    {
     "data": {
      "text/plain": [
       "0"
      ]
     },
     "execution_count": 16,
     "metadata": {},
     "output_type": "execute_result"
    }
   ],
   "source": [
    "len(my_objects)\n",
    "\n",
    "objects_with_duplicates = lfilter(lambda o: prague.convert.has_duplicates(o, \n",
    "                                                                          my_objects),\n",
    "                                  my_objects)\n",
    "len(objects_with_duplicates)"
   ]
  },
  {
   "cell_type": "markdown",
   "metadata": {},
   "source": [
    "The `symbol` key or feature is currently responsible for maintaining uniqueness in our demo data:"
   ]
  },
  {
   "cell_type": "code",
   "execution_count": 17,
   "metadata": {
    "ExecuteTime": {
     "end_time": "2020-02-19T03:18:25.854696Z",
     "start_time": "2020-02-19T03:18:25.842557Z"
    }
   },
   "outputs": [
    {
     "data": {
      "text/plain": [
       "('symbol',)"
      ]
     },
     "execution_count": 17,
     "metadata": {},
     "output_type": "execute_result"
    },
    {
     "data": {
      "text/plain": [
       "94"
      ]
     },
     "execution_count": 17,
     "metadata": {},
     "output_type": "execute_result"
    },
    {
     "data": {
      "text/plain": [
       "6"
      ]
     },
     "execution_count": 17,
     "metadata": {},
     "output_type": "execute_result"
    }
   ],
   "source": [
    "my_columns_to_remove\n",
    "\n",
    "len(my_objects)\n",
    "\n",
    "objects_with_duplicates = lfilter(lambda o: prague.convert.has_duplicates(o,\n",
    "                                                                          my_objects,\n",
    "                                                                          my_columns_to_remove,),\n",
    "                                  my_objects)\n",
    "len(objects_with_duplicates)"
   ]
  },
  {
   "cell_type": "markdown",
   "metadata": {},
   "source": [
    "A subsequent processing step will (optionally) remove all of these duplicates."
   ]
  },
  {
   "cell_type": "markdown",
   "metadata": {},
   "source": [
    "We can shorten both of these checks (for uniqueness at a certain level and universality of feature definition) with one call to:"
   ]
  },
  {
   "cell_type": "code",
   "execution_count": 18,
   "metadata": {
    "ExecuteTime": {
     "end_time": "2020-02-19T03:18:27.966466Z",
     "start_time": "2020-02-19T03:18:27.962667Z"
    }
   },
   "outputs": [
    {
     "name": "stdout",
     "output_type": "stream",
     "text": [
      "\n",
      "    Given a collection of objects (dicts),\n",
      "     - checks that all objects are defined for the same set of features. If\n",
      "       they're not, this function will raise an exception.\n",
      "\n",
      "    If duplicate_behavior is `Exception`, this will also check if there are\n",
      "    any duplicate objects (with equality up to `features_to_ignore`) and raises\n",
      "    an exception if so.\n",
      "\n",
      "    Returns True if no exceptions are raised.\n",
      "    \n"
     ]
    }
   ],
   "source": [
    "print(prague.convert.sanitized_objects.__doc__)"
   ]
  },
  {
   "cell_type": "code",
   "execution_count": 19,
   "metadata": {
    "ExecuteTime": {
     "end_time": "2020-02-19T03:18:29.135118Z",
     "start_time": "2020-02-19T03:18:29.122649Z"
    }
   },
   "outputs": [
    {
     "data": {
      "text/plain": [
       "True"
      ]
     },
     "execution_count": 19,
     "metadata": {},
     "output_type": "execute_result"
    }
   ],
   "source": [
    "prague.convert.sanitized_objects(my_objects, duplicate_behavior='Exception',\n",
    "                                 features_to_ignore=None)"
   ]
  },
  {
   "cell_type": "markdown",
   "metadata": {},
   "source": [
    "# Preprocess and transform into `ndarray`"
   ]
  },
  {
   "cell_type": "code",
   "execution_count": 20,
   "metadata": {
    "ExecuteTime": {
     "end_time": "2020-02-19T03:18:29.404065Z",
     "start_time": "2020-02-19T03:18:29.400720Z"
    }
   },
   "outputs": [
    {
     "name": "stdout",
     "output_type": "stream",
     "text": [
      "\n",
      "    Given a sanitized collection of objects (dicts) and keys to be removed\n",
      "    (e.g. symbol columns), this function creates a copy of objects, and then\n",
      "     - remaps values to integers\n",
      "     - removes the keys in keys_to_remove\n",
      "\n",
      "    and returns the resulting collection of feature vectors.\n",
      "    \n"
     ]
    }
   ],
   "source": [
    "print(prague.convert.preprocess_objects.__doc__)"
   ]
  },
  {
   "cell_type": "code",
   "execution_count": 21,
   "metadata": {
    "ExecuteTime": {
     "end_time": "2020-02-19T03:18:29.557665Z",
     "start_time": "2020-02-19T03:18:29.542403Z"
    }
   },
   "outputs": [
    {
     "data": {
      "text/plain": [
       "('symbol',)"
      ]
     },
     "execution_count": 21,
     "metadata": {},
     "output_type": "execute_result"
    },
    {
     "data": {
      "text/plain": [
       "[OrderedDict([('syll', -1),\n",
       "              ('cons', 1),\n",
       "              ('son', -1),\n",
       "              ('labial', 1),\n",
       "              ('coronal', -1),\n",
       "              ('dorsal', -1),\n",
       "              ('voice', -1),\n",
       "              ('cont', -1),\n",
       "              ('del. rel.', -1),\n",
       "              ('ant', 0),\n",
       "              ('dist', 0),\n",
       "              ('strid', 0),\n",
       "              ('high', 0),\n",
       "              ('low', 0),\n",
       "              ('back', 0),\n",
       "              ('front', 0),\n",
       "              ('approx', -1),\n",
       "              ('nas', -1),\n",
       "              ('lat', -1),\n",
       "              ('s.g.', -1),\n",
       "              ('c.g.', -1),\n",
       "              ('round', 0),\n",
       "              ('ATR', 0)]),\n",
       " OrderedDict([('syll', -1),\n",
       "              ('cons', 1),\n",
       "              ('son', -1),\n",
       "              ('labial', 1),\n",
       "              ('coronal', -1),\n",
       "              ('dorsal', -1),\n",
       "              ('voice', 1),\n",
       "              ('cont', -1),\n",
       "              ('del. rel.', -1),\n",
       "              ('ant', 0),\n",
       "              ('dist', 0),\n",
       "              ('strid', 0),\n",
       "              ('high', 0),\n",
       "              ('low', 0),\n",
       "              ('back', 0),\n",
       "              ('front', 0),\n",
       "              ('approx', -1),\n",
       "              ('nas', -1),\n",
       "              ('lat', -1),\n",
       "              ('s.g.', -1),\n",
       "              ('c.g.', -1),\n",
       "              ('round', 0),\n",
       "              ('ATR', 0)]),\n",
       " OrderedDict([('syll', -1),\n",
       "              ('cons', 1),\n",
       "              ('son', -1),\n",
       "              ('labial', 1),\n",
       "              ('coronal', -1),\n",
       "              ('dorsal', -1),\n",
       "              ('voice', -1),\n",
       "              ('cont', 1),\n",
       "              ('del. rel.', 1),\n",
       "              ('ant', 0),\n",
       "              ('dist', 1),\n",
       "              ('strid', -1),\n",
       "              ('high', 0),\n",
       "              ('low', 0),\n",
       "              ('back', 0),\n",
       "              ('front', 0),\n",
       "              ('approx', -1),\n",
       "              ('nas', -1),\n",
       "              ('lat', -1),\n",
       "              ('s.g.', -1),\n",
       "              ('c.g.', -1),\n",
       "              ('round', 0),\n",
       "              ('ATR', 0)]),\n",
       " OrderedDict([('syll', -1),\n",
       "              ('cons', 1),\n",
       "              ('son', -1),\n",
       "              ('labial', 1),\n",
       "              ('coronal', -1),\n",
       "              ('dorsal', -1),\n",
       "              ('voice', 1),\n",
       "              ('cont', 1),\n",
       "              ('del. rel.', 1),\n",
       "              ('ant', 0),\n",
       "              ('dist', 1),\n",
       "              ('strid', -1),\n",
       "              ('high', 0),\n",
       "              ('low', 0),\n",
       "              ('back', 0),\n",
       "              ('front', 0),\n",
       "              ('approx', -1),\n",
       "              ('nas', -1),\n",
       "              ('lat', -1),\n",
       "              ('s.g.', -1),\n",
       "              ('c.g.', -1),\n",
       "              ('round', 0),\n",
       "              ('ATR', 0)]),\n",
       " OrderedDict([('syll', -1),\n",
       "              ('cons', 1),\n",
       "              ('son', -1),\n",
       "              ('labial', 1),\n",
       "              ('coronal', -1),\n",
       "              ('dorsal', -1),\n",
       "              ('voice', -1),\n",
       "              ('cont', 1),\n",
       "              ('del. rel.', 1),\n",
       "              ('ant', 0),\n",
       "              ('dist', -1),\n",
       "              ('strid', 1),\n",
       "              ('high', 0),\n",
       "              ('low', 0),\n",
       "              ('back', 0),\n",
       "              ('front', 0),\n",
       "              ('approx', -1),\n",
       "              ('nas', -1),\n",
       "              ('lat', -1),\n",
       "              ('s.g.', -1),\n",
       "              ('c.g.', -1),\n",
       "              ('round', 0),\n",
       "              ('ATR', 0)])]"
      ]
     },
     "execution_count": 21,
     "metadata": {},
     "output_type": "execute_result"
    }
   ],
   "source": [
    "my_columns_to_remove\n",
    "my_preprocessed_objects = prague.convert.preprocess_objects(my_objects, \n",
    "                                                            keys_to_remove=my_columns_to_remove)\n",
    "my_preprocessed_objects[:5]"
   ]
  },
  {
   "cell_type": "code",
   "execution_count": 22,
   "metadata": {
    "ExecuteTime": {
     "end_time": "2020-02-19T03:18:32.731198Z",
     "start_time": "2020-02-19T03:18:32.726771Z"
    }
   },
   "outputs": [
    {
     "name": "stdout",
     "output_type": "stream",
     "text": [
      "\n",
      "    Given a preprocessed collection of N objects (dicts) and an optional\n",
      "    ordering of the M features of the objects, this returns an M x N ternary\n",
      "    NumPy ndarray representing the collection.\n",
      "\n",
      "    If feature_ordering is not specified, then the features of the first object\n",
      "    will be sorted and used.\n",
      "\n",
      "    If remove_duplicates is False (or if objects contains no duplicates), this\n",
      "    will preserve the ordering (if any) in objects.\n",
      "\n",
      "    If remove_duplicates is True, this function will return a tuple where the\n",
      "    second value is a list of deleted indices.\n",
      "    \n"
     ]
    }
   ],
   "source": [
    "print(prague.convert.to_ternary_feature_vectors.__doc__)"
   ]
  },
  {
   "cell_type": "code",
   "execution_count": 23,
   "metadata": {
    "ExecuteTime": {
     "end_time": "2020-02-19T03:18:33.262627Z",
     "start_time": "2020-02-19T03:18:33.258210Z"
    }
   },
   "outputs": [
    {
     "data": {
      "text/plain": [
       "('ATR',\n",
       " 'ant',\n",
       " 'approx',\n",
       " 'back',\n",
       " 'c.g.',\n",
       " 'cons',\n",
       " 'cont',\n",
       " 'coronal',\n",
       " 'del. rel.',\n",
       " 'dist',\n",
       " 'dorsal',\n",
       " 'front',\n",
       " 'high',\n",
       " 'labial',\n",
       " 'lat',\n",
       " 'low',\n",
       " 'nas',\n",
       " 'round',\n",
       " 's.g.',\n",
       " 'son',\n",
       " 'strid',\n",
       " 'syll',\n",
       " 'voice')"
      ]
     },
     "execution_count": 23,
     "metadata": {},
     "output_type": "execute_result"
    }
   ],
   "source": [
    "my_feature_ordering = tuple(sorted(my_preprocessed_objects[0].keys()))\n",
    "my_feature_ordering"
   ]
  },
  {
   "cell_type": "code",
   "execution_count": 24,
   "metadata": {
    "ExecuteTime": {
     "end_time": "2020-02-19T03:18:33.745022Z",
     "start_time": "2020-02-19T03:18:33.734946Z"
    }
   },
   "outputs": [
    {
     "data": {
      "text/plain": [
       "array([[ 0,  0, -1,  0, -1,  1, -1, -1, -1,  0, -1,  0,  0,  1, -1,  0,\n",
       "        -1,  0, -1, -1,  0, -1, -1],\n",
       "       [ 0,  0, -1,  0, -1,  1, -1, -1, -1,  0, -1,  0,  0,  1, -1,  0,\n",
       "        -1,  0, -1, -1,  0, -1,  1],\n",
       "       [ 0,  0, -1,  0, -1,  1,  1, -1,  1,  1, -1,  0,  0,  1, -1,  0,\n",
       "        -1,  0, -1, -1, -1, -1, -1],\n",
       "       [ 0,  0, -1,  0, -1,  1,  1, -1,  1,  1, -1,  0,  0,  1, -1,  0,\n",
       "        -1,  0, -1, -1, -1, -1,  1],\n",
       "       [ 0,  0, -1,  0, -1,  1,  1, -1,  1, -1, -1,  0,  0,  1, -1,  0,\n",
       "        -1,  0, -1, -1,  1, -1, -1]], dtype=int8)"
      ]
     },
     "execution_count": 24,
     "metadata": {},
     "output_type": "execute_result"
    },
    {
     "name": "stdout",
     "output_type": "stream",
     "text": [
      "[40, 65, 84]\n"
     ]
    },
    {
     "data": {
      "text/plain": [
       "(91, 23)"
      ]
     },
     "execution_count": 24,
     "metadata": {},
     "output_type": "execute_result"
    },
    {
     "data": {
      "text/plain": [
       "dtype('int8')"
      ]
     },
     "execution_count": 24,
     "metadata": {},
     "output_type": "execute_result"
    }
   ],
   "source": [
    "my_objects_np_no_dups, removed_indices = prague.convert.to_ternary_feature_vectors(my_preprocessed_objects,\n",
    "                                                                                   remove_duplicates=True,\n",
    "                                                                                   feature_ordering=my_feature_ordering)\n",
    "my_objects_np_no_dups[:5]\n",
    "print(removed_indices)\n",
    "my_objects_np_no_dups.shape\n",
    "my_objects_np_no_dups.dtype"
   ]
  },
  {
   "cell_type": "markdown",
   "metadata": {},
   "source": [
    "To keep track of the mapping from symbols to binary feature vectors, we'll neglect to do de-duplication right here and now:"
   ]
  },
  {
   "cell_type": "code",
   "execution_count": 25,
   "metadata": {
    "ExecuteTime": {
     "end_time": "2020-02-19T03:18:37.538386Z",
     "start_time": "2020-02-19T03:18:37.531544Z"
    }
   },
   "outputs": [
    {
     "data": {
      "text/plain": [
       "(94, 23)"
      ]
     },
     "execution_count": 25,
     "metadata": {},
     "output_type": "execute_result"
    },
    {
     "data": {
      "text/plain": [
       "dtype('int8')"
      ]
     },
     "execution_count": 25,
     "metadata": {},
     "output_type": "execute_result"
    }
   ],
   "source": [
    "my_objects_np = prague.convert.to_ternary_feature_vectors(my_preprocessed_objects,\n",
    "                                                          remove_duplicates=False,\n",
    "                                                          feature_ordering=my_feature_ordering)\n",
    "my_objects_np.shape\n",
    "my_objects_np.dtype"
   ]
  },
  {
   "cell_type": "markdown",
   "metadata": {},
   "source": [
    "As you can see, ordering of objects has been preserved across transformations here:"
   ]
  },
  {
   "cell_type": "code",
   "execution_count": 26,
   "metadata": {
    "ExecuteTime": {
     "end_time": "2020-02-19T03:18:38.855474Z",
     "start_time": "2020-02-19T03:18:38.848987Z"
    }
   },
   "outputs": [
    {
     "data": {
      "text/plain": [
       "[OrderedDict([('symbol', 'p'),\n",
       "              ('syll', '-'),\n",
       "              ('cons', '+'),\n",
       "              ('son', '-'),\n",
       "              ('labial', '+'),\n",
       "              ('coronal', '-'),\n",
       "              ('dorsal', '-'),\n",
       "              ('voice', '-'),\n",
       "              ('cont', '-'),\n",
       "              ('del. rel.', '-'),\n",
       "              ('ant', '0'),\n",
       "              ('dist', '0'),\n",
       "              ('strid', '0'),\n",
       "              ('high', '0'),\n",
       "              ('low', '0'),\n",
       "              ('back', '0'),\n",
       "              ('front', '0'),\n",
       "              ('approx', '-'),\n",
       "              ('nas', '-'),\n",
       "              ('lat', '-'),\n",
       "              ('s.g.', '-'),\n",
       "              ('c.g.', '-'),\n",
       "              ('round', '0'),\n",
       "              ('ATR', '0')]),\n",
       " OrderedDict([('symbol', 'b'),\n",
       "              ('syll', '-'),\n",
       "              ('cons', '+'),\n",
       "              ('son', '-'),\n",
       "              ('labial', '+'),\n",
       "              ('coronal', '-'),\n",
       "              ('dorsal', '-'),\n",
       "              ('voice', '+'),\n",
       "              ('cont', '-'),\n",
       "              ('del. rel.', '-'),\n",
       "              ('ant', '0'),\n",
       "              ('dist', '0'),\n",
       "              ('strid', '0'),\n",
       "              ('high', '0'),\n",
       "              ('low', '0'),\n",
       "              ('back', '0'),\n",
       "              ('front', '0'),\n",
       "              ('approx', '-'),\n",
       "              ('nas', '-'),\n",
       "              ('lat', '-'),\n",
       "              ('s.g.', '-'),\n",
       "              ('c.g.', '-'),\n",
       "              ('round', '0'),\n",
       "              ('ATR', '0')])]"
      ]
     },
     "execution_count": 26,
     "metadata": {},
     "output_type": "execute_result"
    }
   ],
   "source": [
    "my_objects[0:2]"
   ]
  },
  {
   "cell_type": "code",
   "execution_count": 27,
   "metadata": {
    "ExecuteTime": {
     "end_time": "2020-02-19T03:18:39.359616Z",
     "start_time": "2020-02-19T03:18:39.352972Z"
    }
   },
   "outputs": [
    {
     "data": {
      "text/plain": [
       "[OrderedDict([('syll', -1),\n",
       "              ('cons', 1),\n",
       "              ('son', -1),\n",
       "              ('labial', 1),\n",
       "              ('coronal', -1),\n",
       "              ('dorsal', -1),\n",
       "              ('voice', -1),\n",
       "              ('cont', -1),\n",
       "              ('del. rel.', -1),\n",
       "              ('ant', 0),\n",
       "              ('dist', 0),\n",
       "              ('strid', 0),\n",
       "              ('high', 0),\n",
       "              ('low', 0),\n",
       "              ('back', 0),\n",
       "              ('front', 0),\n",
       "              ('approx', -1),\n",
       "              ('nas', -1),\n",
       "              ('lat', -1),\n",
       "              ('s.g.', -1),\n",
       "              ('c.g.', -1),\n",
       "              ('round', 0),\n",
       "              ('ATR', 0)]),\n",
       " OrderedDict([('syll', -1),\n",
       "              ('cons', 1),\n",
       "              ('son', -1),\n",
       "              ('labial', 1),\n",
       "              ('coronal', -1),\n",
       "              ('dorsal', -1),\n",
       "              ('voice', 1),\n",
       "              ('cont', -1),\n",
       "              ('del. rel.', -1),\n",
       "              ('ant', 0),\n",
       "              ('dist', 0),\n",
       "              ('strid', 0),\n",
       "              ('high', 0),\n",
       "              ('low', 0),\n",
       "              ('back', 0),\n",
       "              ('front', 0),\n",
       "              ('approx', -1),\n",
       "              ('nas', -1),\n",
       "              ('lat', -1),\n",
       "              ('s.g.', -1),\n",
       "              ('c.g.', -1),\n",
       "              ('round', 0),\n",
       "              ('ATR', 0)])]"
      ]
     },
     "execution_count": 27,
     "metadata": {},
     "output_type": "execute_result"
    }
   ],
   "source": [
    "my_preprocessed_objects[0:2]"
   ]
  },
  {
   "cell_type": "code",
   "execution_count": 28,
   "metadata": {
    "ExecuteTime": {
     "end_time": "2020-02-19T03:18:39.723940Z",
     "start_time": "2020-02-19T03:18:39.718426Z"
    }
   },
   "outputs": [
    {
     "data": {
      "text/plain": [
       "array([[ 0,  0],\n",
       "       [ 0,  0],\n",
       "       [-1, -1],\n",
       "       [ 0,  0],\n",
       "       [-1, -1],\n",
       "       [ 1,  1],\n",
       "       [-1, -1],\n",
       "       [-1, -1],\n",
       "       [-1, -1],\n",
       "       [ 0,  0],\n",
       "       [-1, -1],\n",
       "       [ 0,  0],\n",
       "       [ 0,  0],\n",
       "       [ 1,  1],\n",
       "       [-1, -1],\n",
       "       [ 0,  0],\n",
       "       [-1, -1],\n",
       "       [ 0,  0],\n",
       "       [-1, -1],\n",
       "       [-1, -1],\n",
       "       [ 0,  0],\n",
       "       [-1, -1],\n",
       "       [-1,  1]], dtype=int8)"
      ]
     },
     "execution_count": 28,
     "metadata": {},
     "output_type": "execute_result"
    }
   ],
   "source": [
    "my_objects_np[0:2].T"
   ]
  },
  {
   "cell_type": "code",
   "execution_count": 29,
   "metadata": {
    "ExecuteTime": {
     "end_time": "2020-02-19T03:18:39.978854Z",
     "start_time": "2020-02-19T03:18:39.972021Z"
    }
   },
   "outputs": [
    {
     "data": {
      "text/plain": [
       "94"
      ]
     },
     "execution_count": 29,
     "metadata": {},
     "output_type": "execute_result"
    },
    {
     "data": {
      "text/plain": [
       "['p', 'b', 'ɸ', 'β', 'f']"
      ]
     },
     "execution_count": 29,
     "metadata": {},
     "output_type": "execute_result"
    }
   ],
   "source": [
    "len(my_objects)\n",
    "my_symbols = lmap(lambda d: d['symbol'],\n",
    "                  my_objects)\n",
    "my_symbols[:5]"
   ]
  },
  {
   "cell_type": "code",
   "execution_count": 30,
   "metadata": {
    "ExecuteTime": {
     "end_time": "2020-02-19T03:18:40.411953Z",
     "start_time": "2020-02-19T03:18:40.408255Z"
    }
   },
   "outputs": [],
   "source": [
    "symbol_to_ternary_feature_vector_map = dict(zip(my_symbols, my_objects_np))"
   ]
  },
  {
   "cell_type": "code",
   "execution_count": 31,
   "metadata": {
    "ExecuteTime": {
     "end_time": "2020-02-19T03:18:41.596043Z",
     "start_time": "2020-02-19T03:18:41.589104Z"
    }
   },
   "outputs": [
    {
     "name": "stdout",
     "output_type": "stream",
     "text": [
      "[ 1  0  1 -1 -1 -1  1 -1  0  0  1  1  1 -1 -1 -1 -1 -1 -1  1  0  1  1]\n"
     ]
    },
    {
     "data": {
      "text/plain": [
       "OrderedDict([('symbol', 'i'),\n",
       "             ('syll', '+'),\n",
       "             ('cons', '-'),\n",
       "             ('son', '+'),\n",
       "             ('labial', '-'),\n",
       "             ('coronal', '-'),\n",
       "             ('dorsal', '+'),\n",
       "             ('voice', '+'),\n",
       "             ('cont', '+'),\n",
       "             ('del. rel.', '0'),\n",
       "             ('ant', '0'),\n",
       "             ('dist', '0'),\n",
       "             ('strid', '0'),\n",
       "             ('high', '+'),\n",
       "             ('low', '-'),\n",
       "             ('back', '-'),\n",
       "             ('front', '+'),\n",
       "             ('approx', '+'),\n",
       "             ('nas', '-'),\n",
       "             ('lat', '-'),\n",
       "             ('s.g.', '-'),\n",
       "             ('c.g.', '-'),\n",
       "             ('round', '-'),\n",
       "             ('ATR', '+')])"
      ]
     },
     "execution_count": 31,
     "metadata": {},
     "output_type": "execute_result"
    }
   ],
   "source": [
    "print(symbol_to_ternary_feature_vector_map['i'])\n",
    "[o for o in my_objects if o['symbol'] == 'i'][0]"
   ]
  },
  {
   "cell_type": "markdown",
   "metadata": {},
   "source": [
    "To remove duplicates, we can make use of the relevant NumPy functionality:"
   ]
  },
  {
   "cell_type": "code",
   "execution_count": 32,
   "metadata": {
    "ExecuteTime": {
     "end_time": "2020-02-19T03:18:44.740549Z",
     "start_time": "2020-02-19T03:18:44.734825Z"
    }
   },
   "outputs": [
    {
     "data": {
      "text/plain": [
       "(94, 23)"
      ]
     },
     "execution_count": 32,
     "metadata": {},
     "output_type": "execute_result"
    }
   ],
   "source": [
    "my_objects_np.shape"
   ]
  },
  {
   "cell_type": "code",
   "execution_count": 33,
   "metadata": {
    "ExecuteTime": {
     "end_time": "2020-02-19T03:18:46.868628Z",
     "start_time": "2020-02-19T03:18:46.865246Z"
    }
   },
   "outputs": [
    {
     "data": {
      "text/plain": [
       "(91, 23)"
      ]
     },
     "execution_count": 33,
     "metadata": {},
     "output_type": "execute_result"
    }
   ],
   "source": [
    "my_unique_objects_np = np.unique(my_objects_np, axis=0)\n",
    "my_unique_objects_np.shape"
   ]
  },
  {
   "cell_type": "markdown",
   "metadata": {},
   "source": [
    "# Export"
   ]
  },
  {
   "cell_type": "code",
   "execution_count": 34,
   "metadata": {
    "ExecuteTime": {
     "end_time": "2020-02-19T03:18:48.326532Z",
     "start_time": "2020-02-19T03:18:48.322683Z"
    }
   },
   "outputs": [
    {
     "name": "stdout",
     "output_type": "stream",
     "text": [
      "\n",
      "    Writes the object matrix and the sequence of feature labels to the specified filepaths.\n",
      "\n",
      "    The object matrix is saved using `np.save` (i.e. as .npy file) and the feature labels\n",
      "    are written to a textfile.\n",
      "    \n"
     ]
    }
   ],
   "source": [
    "print(prague.convert.export_ternary_feature_vectors.__doc__)"
   ]
  },
  {
   "cell_type": "code",
   "execution_count": 35,
   "metadata": {
    "ExecuteTime": {
     "end_time": "2020-02-19T03:18:50.648725Z",
     "start_time": "2020-02-19T03:18:50.644328Z"
    }
   },
   "outputs": [
    {
     "data": {
      "text/plain": [
       "'data/brh.npy'"
      ]
     },
     "execution_count": 35,
     "metadata": {},
     "output_type": "execute_result"
    },
    {
     "data": {
      "text/plain": [
       "'data/brh_features.txt'"
      ]
     },
     "execution_count": 35,
     "metadata": {},
     "output_type": "execute_result"
    }
   ],
   "source": [
    "my_output_filepath\n",
    "my_features_list_output_filepath"
   ]
  },
  {
   "cell_type": "code",
   "execution_count": 36,
   "metadata": {
    "ExecuteTime": {
     "end_time": "2020-02-19T03:18:52.488867Z",
     "start_time": "2020-02-19T03:18:52.483469Z"
    }
   },
   "outputs": [],
   "source": [
    "prague.convert.export_ternary_feature_vectors(my_objects_np,\n",
    "                                              my_feature_ordering,\n",
    "                                              my_output_filepath,\n",
    "                                              my_features_list_output_filepath)"
   ]
  },
  {
   "cell_type": "code",
   "execution_count": 37,
   "metadata": {
    "ExecuteTime": {
     "end_time": "2020-02-19T03:18:52.741692Z",
     "start_time": "2020-02-19T03:18:52.615020Z"
    }
   },
   "outputs": [
    {
     "name": "stdout",
     "output_type": "stream",
     "text": [
      "bakovic_chart_riggle_hayes_remapped.tsv  brh.npy             hayes_remapped.tsv\r\n",
      "bakovic_chart_riggle_hayes.tsv           hayes_features.txt  hayes.tsv\r\n",
      "brh_features.txt                         hayes.npy\r\n"
     ]
    }
   ],
   "source": [
    "%ls data"
   ]
  }
 ],
 "metadata": {
  "kernelspec": {
   "display_name": "Python 3",
   "language": "python",
   "name": "python3"
  },
  "language_info": {
   "codemirror_mode": {
    "name": "ipython",
    "version": 3
   },
   "file_extension": ".py",
   "mimetype": "text/x-python",
   "name": "python",
   "nbconvert_exporter": "python",
   "pygments_lexer": "ipython3",
   "version": "3.7.4"
  },
  "toc": {
   "base_numbering": 1,
   "nav_menu": {},
   "number_sections": true,
   "sideBar": true,
   "skip_h1_title": false,
   "title_cell": "Table of Contents",
   "title_sidebar": "Contents",
   "toc_cell": true,
   "toc_position": {},
   "toc_section_display": true,
   "toc_window_display": true
  }
 },
 "nbformat": 4,
 "nbformat_minor": 2
}
