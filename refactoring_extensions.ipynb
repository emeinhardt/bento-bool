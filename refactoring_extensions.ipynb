{
 "cells": [
  {
   "cell_type": "code",
   "execution_count": 14,
   "metadata": {
    "collapsed": false,
    "deletable": true,
    "editable": true
   },
   "outputs": [],
   "source": [
    "import numpy as np\n",
    "import itertools\n",
    "import random"
   ]
  },
  {
   "cell_type": "code",
   "execution_count": 9,
   "metadata": {
    "collapsed": true,
    "deletable": true,
    "editable": true
   },
   "outputs": [],
   "source": [
    "def heaviside(x):\n",
    "    return np.array(1 * (x >= 0))\n",
    "def powerset(iterable):\n",
    "    \"powerset([1,2,3]) --> () (1,) (2,) (3,) (1,2) (1,3) (2,3) (1,2,3)\"\n",
    "    s = list(iterable)\n",
    "    return chain.from_iterable(combinations(s, r) for r in range(len(s)+1))"
   ]
  },
  {
   "cell_type": "code",
   "execution_count": 131,
   "metadata": {
    "collapsed": false,
    "deletable": true,
    "editable": true
   },
   "outputs": [],
   "source": [
    "def extension_bool(p,V):\n",
    "    \"\"\"\n",
    "    Compute a boolean vector that represents the extension of p in V\n",
    "    \n",
    "    Inputs:\n",
    "        p - a vector of shape (M,) with elements from {-1,0,1}.  The partially specified feature vector\n",
    "        V-  a matrix of shape (L,M) with elements from {-1,1}.  The feature vectors\n",
    "    Outputs:\n",
    "        extension - a vector of shape (L) with elements from {1,0}.  extension[l]=1 iff V[l,:] is in the extension of p\n",
    "    \"\"\"\n",
    "    L = np.shape(V)[0]\n",
    "    if np.sum(abs(p)) == 0:\n",
    "        #the all zeros vector\n",
    "        return np.ones(L)\n",
    "    else:\n",
    "        E = np.dot(V,p)/np.sum(abs(p))\n",
    "        return heaviside(E-1)\n",
    "\n",
    "def extension_mat(p,V):\n",
    "    \"\"\"\n",
    "    Returns a matrix representing the extension of p in V\n",
    "    \n",
    "    Inputs:\n",
    "        p - a vector of shape (M,) with elements from {-1,0,1}.  The partially specified feature vector\n",
    "        V-  a matrix of shape (L,M) with elements from {-1,1}.  The feature vectors\n",
    "    Outputs:\n",
    "        A - A matrix of shape (N,M) with elements from {-1,1}, where N <=L, and the rows of A are the rows of V in the\n",
    "            extension of p\n",
    "    \"\"\"\n",
    "    \n",
    "    bool_vec = extension_bool(p,V)\n",
    "    return V[bool_vec>0,:]\n",
    "def check_equivalent(p,q,V):\n",
    "    \"\"\"\n",
    "    Checks if p and q have the same extension in V\n",
    "    \n",
    "    Inputs:\n",
    "        p,q - vectors of shape (M,) with elements from {-1,0,1}.  The partially specified feature vectors\n",
    "        V-  a matrix of shape (L,M) with elements from {-1,1}.  The feature vectors\n",
    "    Outputs:\n",
    "        match - bool, whether or not p and q have the same extension \n",
    "    \"\"\"\n",
    "    p_bool = extension_bool(p,V)\n",
    "    q_bool = extension_bool(q,V)\n",
    "    M = np.shape(q_bool)[0]\n",
    "    return all([p_bool[i]==q_bool[i] for i in range(M)])\n",
    "\n",
    "def mutate_p(p,abstraction_set,specification_set):\n",
    "    \"\"\"\n",
    "    Returns q that is equal to p with mutations (specifications and generalizations applied)\n",
    "    \n",
    "    Inputs:\n",
    "        p - the partially specified feature vector to be mutated\n",
    "        abstraction_set - a set of indices to flip currently specified values of p to zero\n",
    "        specification_set - a set of tuples (index,value) to change currently unspecified values of p to the given value\n",
    "    Outputs:\n",
    "        q - the mutated vector\n",
    "    \"\"\"\n",
    "    \n",
    "    q = np.copy(p)\n",
    "    for abstraction in abstraction_set:\n",
    "        q[abstraction]=0\n",
    "    for specification_tuple in specification_set:\n",
    "        q[specification_tuple[0]]=specification_tuple[1]\n",
    "    return q\n",
    "\n",
    "def get_allowed_specifications(p,V):\n",
    "    \"\"\"\n",
    "    Given a set of feature vectors V and a query partially specified feature vector p, all locations where \n",
    "    p can be specified (flipped from a zero to +/- 1) without changing the extension in V.\n",
    "    \n",
    "    Inputs:\n",
    "        p - a vector of shape (M,) with elements from {-1,0,1}.  The partially specified feature vector\n",
    "        V -  a matrix of shape (L,M) with elements from {-1,1}.  The feature vectors\n",
    "    Outputs:\n",
    "        allowed_specifications - a list of tuples of form (index,value) where p[index] can be set to value\n",
    "        without changing extension\n",
    "    \"\"\"\n",
    "    \n",
    "    M = np.shape(p)[0]\n",
    "    \n",
    "    bool_p = extension_bool(p,V)\n",
    "    \n",
    "    A = V[bool_p>0,:]#shape is (N,M)\n",
    "    N = np.shape(A)[0]\n",
    "    A_sums = np.sum(A,axis=0)\n",
    "    \n",
    "    allowed_specifications = []\n",
    "    for i in range(M):\n",
    "        if p[i]==0:\n",
    "            #we can flip this position to a signed value if only if all A[:,i] or equivalently A_sums[i]== +/- N\n",
    "            if N==0:\n",
    "                #empty extension means we can replace all zeros with +1 or -1\n",
    "                allowed_specifications.append((i,1))\n",
    "                allowed_specifications.append((i,-1))              \n",
    "            elif A_sums[i]==N:\n",
    "                allowed_specifications.append((i,1)) #they're all 1 so we can mutate p[i] to 1\n",
    "            elif A_sums[i]==-N:\n",
    "                allowed_specifications.append((i,-1)) #they're all -1 so we can mutate p[i] to -1\n",
    "    return allowed_specifications\n",
    "\n",
    "def get_allowed_abstraction_sets(p,V):\n",
    "    \"\"\"\n",
    "    Given a set of feature vectors V and a query partially specified feature vector p, return all partially\n",
    "    specified vectors q that have the same extension in V as p.\n",
    "    \n",
    "    Inputs:\n",
    "        p - a vector of shape (M,) with elements from {-1,0,1}.  The partially specified feature vector\n",
    "        V -  a matrix of shape (L,M) with elements from {-1,1}.  The feature vectors\n",
    "    Outputs:\n",
    "        allowed_specification_sets - a list of sets of indices, where each set denotes a set of indices of p\n",
    "            where a previously specified value can be flipped to zero without changing extension\n",
    "    \"\"\"\n",
    "    bool_p = extension_bool(p,V)\n",
    "    B = V[bool_p<=0,:]#shape is (T,M), p is not compatible with any vector in B\n",
    "    T = np.shape(B)[0]\n",
    "    \n",
    "    #now we find all subsets J of the specified indices such that if we zeroed out every index of p contained in J, the\n",
    "    #new vector would be consistent with an element of B\n",
    "    #this accounts to looking at each element b (row) of B, and finding all the indices where p disagrees \n",
    "    #with that element and adding that set of indices to an accumulating set\n",
    "    forbidden_index_subsets_ = []\n",
    "    \n",
    "    for t_val in range(T):\n",
    "        clash_points = []\n",
    "        for m_val in range(M):\n",
    "            if B[t_val,m_val]*p[m_val] == -1:\n",
    "                clash_points.append(m_val)\n",
    "        forbidden_index_subsets_.append(frozenset(clash_points))\n",
    "    forbidden_index_subsets = set(forbidden_index_subsets_)\n",
    "    \n",
    "    #B.tolist\n",
    "    #return zip(forbidden_index_subsets_,B)\n",
    "    #now we quickly find all \n",
    "    \n",
    "    \n",
    "def equivalence_class(p,V):\n",
    "    \"\"\"\n",
    "    Given a set of feature vectors V and a query partially specified feature vector p, return all partially\n",
    "    specified vectors q that have the same extension in V as p.\n",
    "    \n",
    "    Inputs:\n",
    "        p - a vector of shape (M,) with elements from {-1,0,1}.  The partially specified feature vector\n",
    "        V-  a matrix of shape (L,M) with elements from {-1,1}.  The feature vectors\n",
    "    Outputs:\n",
    "        R - a list of vectors where R[i] has shape (M,) and all vectors in R have the same extension in V as p\n",
    "    \"\"\"\n",
    "    \n",
    "    M = np.shape(p)[0]\n",
    "    L = np.shape(V)[0]\n",
    "    V_sums = np.sum(V,axis=0)\n",
    "    bool_p = extension_bool(p,V)\n",
    "    \n",
    "    allowed_specifications = get_allowed_specifications(p,V)\n",
    "            \n",
    "    allowed_specification_sets = powerset(allowed_specifications)\n",
    "    \n",
    "    #which indices of p can be zeroed out without changing the extension of p in V?\n",
    "    \n",
    "    B = V[bool_p<=0,:]#shape is (T,M), p is not compatible with any vector in B\n",
    "    \n",
    "    #now we find all subsets q of the specified indices such that if we zeroed out every index of p contained in q, the\n",
    "    #new vector would be consistent with an element of B\n",
    "    #this accounts to looking at each element b (row) of B, and finding all the indices where p disagrees \n",
    "    #with that element and adding that set of indices to an accumulating set\n",
    "    forbidden_index_subsets_ = []\n",
    "    \n",
    "    for t_val in range(T):\n",
    "        clash_points = []\n",
    "        for m_val in range(M):\n",
    "            if B[t_val,m_val]*p[m_val] == -1:\n",
    "                clash_points.append(m_val)\n",
    "        forbidden_index_subsets_.append(frozenset(clash_points))\n",
    "    forbidden_index_subsets = set(forbidden_index_subsets_)\n",
    "    \n",
    "    \n",
    "    my_queue = [set([i]) for i in prespecified_indices]\n",
    "    prespecified_index_singletons = [frozenset([i]) for i in prespecified_indices]\n",
    "    legal_index_sets=[] #will eventually hold all the allowed abstraction sets\n",
    "    while len(my_queue)>0:\n",
    "        trial_set = my_queue.pop(0)\n",
    "        frozen_trial_set = frozenset(trial_set)\n",
    "        if not (frozen_trial_set in forbidden_index_subsets):\n",
    "            #it's a legal set of indices to all zero out\n",
    "            legal_index_sets.append(frozen_trial_set)\n",
    "            #we also add this set combined with each possible singleton back into the queue for later testing\n",
    "            for singleton in prespecified_index_singletons:\n",
    "                if (not singleton.issubset(trial_set)) and (not singleton in forbidden_index_subsets):\n",
    "                    my_queue.append(trial_set.union(singleton))\n",
    "    legal_index_sets.append(frozenset())\n",
    "    \n",
    "    #Now I must combine the set of allowable specification sets and the set of allowable generalization sets\n",
    "    #to creat all possible mutated vectors\n",
    "    \n",
    "    equivalence_class = []\n",
    "    for specification_set in allowed_specification_sets:\n",
    "        for abstraction_set in legal_index_sets:\n",
    "            q = mutate_p(p,abstraction_set,specification_set)\n",
    "            equivalence_class.append(q)\n",
    "    return equivalence_class\n",
    "    \n",
    "    #return allowed_specification_sets,legal_index_sets    "
   ]
  },
  {
   "cell_type": "code",
   "execution_count": 11,
   "metadata": {
    "collapsed": true,
    "deletable": true,
    "editable": true
   },
   "outputs": [],
   "source": [
    "def test_eq(p,V,all_possible_p):\n",
    "    eq_test = equivalence_class(p,V)\n",
    "    bool_p = extension_bool(p,V)\n",
    "\n",
    "    match_list = []\n",
    "    for q in eq_test:\n",
    "        bool_test = extension_bool(q,V)\n",
    "        match_list.append(all(bool_p == bool_test))\n",
    "    print all(match_list)\n",
    "    eq_set = {tuple(q) for q in eq_test}\n",
    "    match_list = []\n",
    "    for q in all_possible_p:\n",
    "        if not q in eq_set:\n",
    "            bool_test = extension_bool(np.array(q),V)\n",
    "            match_list.append(all(bool_p==bool_test))\n",
    "    print any(match_list)"
   ]
  },
  {
   "cell_type": "code",
   "execution_count": 105,
   "metadata": {
    "collapsed": false
   },
   "outputs": [],
   "source": [
    "M = 5\n",
    "L = 10\n",
    "all_feature_vecs = [comb for comb in itertools.product([-1,1],repeat=M)]\n",
    "all_possible_p = [p for p in itertools.product([-1,0,1],repeat=M)]"
   ]
  },
  {
   "cell_type": "code",
   "execution_count": 110,
   "metadata": {
    "collapsed": false
   },
   "outputs": [
    {
     "data": {
      "text/plain": [
       "array([[-1,  1, -1,  1,  1],\n",
       "       [ 1,  1,  1, -1,  1],\n",
       "       [ 1,  1, -1, -1,  1],\n",
       "       [ 1, -1, -1, -1,  1],\n",
       "       [-1, -1, -1, -1,  1],\n",
       "       [ 1,  1, -1, -1, -1],\n",
       "       [ 1, -1, -1,  1,  1],\n",
       "       [-1, -1, -1,  1,  1],\n",
       "       [ 1,  1, -1,  1, -1],\n",
       "       [ 1, -1,  1,  1, -1]])"
      ]
     },
     "execution_count": 110,
     "metadata": {},
     "output_type": "execute_result"
    }
   ],
   "source": [
    "v_list = random.sample(all_feature_vecs,L)\n",
    "V = np.stack(v_list,axis=0)\n",
    "V"
   ]
  },
  {
   "cell_type": "code",
   "execution_count": 111,
   "metadata": {
    "collapsed": false
   },
   "outputs": [
    {
     "data": {
      "text/plain": [
       "array([ 1,  0,  1, -1, -1])"
      ]
     },
     "execution_count": 111,
     "metadata": {},
     "output_type": "execute_result"
    }
   ],
   "source": [
    "p_query = np.array(random.choice(all_possible_p))\n",
    "p_query"
   ]
  },
  {
   "cell_type": "code",
   "execution_count": 112,
   "metadata": {
    "collapsed": false
   },
   "outputs": [
    {
     "name": "stdout",
     "output_type": "stream",
     "text": [
      "[0 0 0 0 0 0 0 0 0 0]\n"
     ]
    },
    {
     "data": {
      "text/plain": [
       "array([], shape=(0, 5), dtype=int64)"
      ]
     },
     "execution_count": 112,
     "metadata": {},
     "output_type": "execute_result"
    }
   ],
   "source": [
    "print(extension_bool(p_query,V))\n",
    "ext_mat = extension_mat(p_query,V)\n",
    "ext_mat"
   ]
  },
  {
   "cell_type": "code",
   "execution_count": 132,
   "metadata": {
    "collapsed": false
   },
   "outputs": [
    {
     "data": {
      "text/plain": [
       "[(frozenset({0, 2, 3, 4}), array([-1,  1, -1,  1,  1])),\n",
       " (frozenset({4}), array([ 1,  1,  1, -1,  1])),\n",
       " (frozenset({2, 4}), array([ 1,  1, -1, -1,  1])),\n",
       " (frozenset({2, 4}), array([ 1, -1, -1, -1,  1])),\n",
       " (frozenset({0, 2, 4}), array([-1, -1, -1, -1,  1])),\n",
       " (frozenset({2}), array([ 1,  1, -1, -1, -1])),\n",
       " (frozenset({2, 3, 4}), array([ 1, -1, -1,  1,  1])),\n",
       " (frozenset({0, 2, 3, 4}), array([-1, -1, -1,  1,  1])),\n",
       " (frozenset({2, 3}), array([ 1,  1, -1,  1, -1])),\n",
       " (frozenset({3}), array([ 1, -1,  1,  1, -1]))]"
      ]
     },
     "execution_count": 132,
     "metadata": {},
     "output_type": "execute_result"
    }
   ],
   "source": [
    "get_allowed_abstraction_sets(p_query,V)"
   ]
  },
  {
   "cell_type": "code",
   "execution_count": null,
   "metadata": {
    "collapsed": true
   },
   "outputs": [],
   "source": []
  }
 ],
 "metadata": {
  "kernelspec": {
   "display_name": "Python [default]",
   "language": "python",
   "name": "python2"
  },
  "language_info": {
   "codemirror_mode": {
    "name": "ipython",
    "version": 2
   },
   "file_extension": ".py",
   "mimetype": "text/x-python",
   "name": "python",
   "nbconvert_exporter": "python",
   "pygments_lexer": "ipython2",
   "version": "2.7.12"
  }
 },
 "nbformat": 4,
 "nbformat_minor": 2
}
