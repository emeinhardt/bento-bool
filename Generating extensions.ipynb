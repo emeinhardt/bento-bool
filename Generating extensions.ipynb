{
 "cells": [
  {
   "cell_type": "code",
   "execution_count": 1,
   "metadata": {
    "ExecuteTime": {
     "end_time": "2019-05-12T23:12:45.104126Z",
     "start_time": "2019-05-12T23:12:45.099397Z"
    }
   },
   "outputs": [],
   "source": [
    "#Prints **all** console output, not just last item in cell \n",
    "from IPython.core.interactiveshell import InteractiveShell\n",
    "InteractiveShell.ast_node_interactivity = \"all\""
   ]
  },
  {
   "cell_type": "markdown",
   "metadata": {},
   "source": [
    "**Eric Meinhardt / emeinhardt@ucsd.edu**"
   ]
  },
  {
   "cell_type": "code",
   "execution_count": 2,
   "metadata": {
    "ExecuteTime": {
     "end_time": "2019-05-12T23:13:09.671924Z",
     "start_time": "2019-05-12T23:13:09.589095Z"
    }
   },
   "outputs": [],
   "source": [
    "import numpy as np\n",
    "myint = np.int8"
   ]
  },
  {
   "cell_type": "code",
   "execution_count": 92,
   "metadata": {
    "ExecuteTime": {
     "end_time": "2019-05-12T23:49:50.262171Z",
     "start_time": "2019-05-12T23:49:50.258052Z"
    }
   },
   "outputs": [],
   "source": [
    "from itertools import starmap, product, combinations, chain"
   ]
  },
  {
   "cell_type": "code",
   "execution_count": 93,
   "metadata": {
    "ExecuteTime": {
     "end_time": "2019-05-12T23:49:54.294039Z",
     "start_time": "2019-05-12T23:49:54.289855Z"
    }
   },
   "outputs": [],
   "source": [
    "from functools import reduce"
   ]
  },
  {
   "cell_type": "code",
   "execution_count": 4,
   "metadata": {
    "ExecuteTime": {
     "end_time": "2019-05-12T23:13:37.562675Z",
     "start_time": "2019-05-12T23:13:37.473098Z"
    }
   },
   "outputs": [],
   "source": [
    "from tqdm import tqdm\n",
    "\n",
    "from joblib import Parallel, delayed, Memory\n",
    "\n",
    "J = -1\n",
    "BACKEND = 'multiprocessing'\n",
    "# BACKEND = 'loky'\n",
    "V = 10\n",
    "PREFER = 'processes'\n",
    "# PREFER = 'threads'\n",
    "\n",
    "def par(gen_expr, j=None, backend=None, verbose=None, prefer=None):\n",
    "    if j is None:\n",
    "        j = J\n",
    "    if backend is None:\n",
    "        backend = BACKEND\n",
    "    if verbose is None:\n",
    "        verbose = V\n",
    "    if prefer is None:\n",
    "        prefer = PREFER\n",
    "    return Parallel(n_jobs=j, backend=backend, verbose=verbose, prefer=prefer)(gen_expr)\n",
    "\n",
    "def identity(x):\n",
    "    return x"
   ]
  },
  {
   "cell_type": "code",
   "execution_count": 5,
   "metadata": {
    "ExecuteTime": {
     "end_time": "2019-05-12T23:13:42.917176Z",
     "start_time": "2019-05-12T23:13:42.913472Z"
    }
   },
   "outputs": [],
   "source": [
    "from random import choice"
   ]
  },
  {
   "cell_type": "code",
   "execution_count": 6,
   "metadata": {
    "ExecuteTime": {
     "end_time": "2019-05-12T23:13:46.978025Z",
     "start_time": "2019-05-12T23:13:46.976076Z"
    }
   },
   "outputs": [],
   "source": [
    "CAREFUL = False"
   ]
  },
  {
   "cell_type": "code",
   "execution_count": 94,
   "metadata": {
    "ExecuteTime": {
     "end_time": "2019-05-12T23:50:03.535096Z",
     "start_time": "2019-05-12T23:50:03.529807Z"
    }
   },
   "outputs": [],
   "source": [
    "import sparse"
   ]
  },
  {
   "cell_type": "markdown",
   "metadata": {},
   "source": [
    "# Read in (or make) object vectors"
   ]
  },
  {
   "cell_type": "markdown",
   "metadata": {},
   "source": [
    "## Make"
   ]
  },
  {
   "cell_type": "code",
   "execution_count": 18,
   "metadata": {
    "ExecuteTime": {
     "end_time": "2019-05-12T23:18:15.361088Z",
     "start_time": "2019-05-12T23:18:15.355584Z"
    }
   },
   "outputs": [],
   "source": [
    "m = 5"
   ]
  },
  {
   "cell_type": "code",
   "execution_count": 19,
   "metadata": {
    "ExecuteTime": {
     "end_time": "2019-05-12T23:18:17.044839Z",
     "start_time": "2019-05-12T23:18:17.033419Z"
    }
   },
   "outputs": [
    {
     "data": {
      "text/plain": [
       "32"
      ]
     },
     "execution_count": 19,
     "metadata": {},
     "output_type": "execute_result"
    },
    {
     "data": {
      "text/plain": [
       "243"
      ]
     },
     "execution_count": 19,
     "metadata": {},
     "output_type": "execute_result"
    }
   ],
   "source": [
    "max_num_objects = 2 ** m\n",
    "max_num_objects\n",
    "\n",
    "max_num_partial_fvs = (2 + 1) ** m\n",
    "max_num_partial_fvs"
   ]
  },
  {
   "cell_type": "code",
   "execution_count": 20,
   "metadata": {
    "ExecuteTime": {
     "end_time": "2019-05-12T23:18:19.120109Z",
     "start_time": "2019-05-12T23:18:19.115665Z"
    }
   },
   "outputs": [],
   "source": [
    "def make_random_pfv():\n",
    "    return np.random.randint(3, size=m, dtype=myint) - 1"
   ]
  },
  {
   "cell_type": "code",
   "execution_count": 21,
   "metadata": {
    "ExecuteTime": {
     "end_time": "2019-05-12T23:18:19.284938Z",
     "start_time": "2019-05-12T23:18:19.273411Z"
    }
   },
   "outputs": [
    {
     "data": {
      "text/plain": [
       "32"
      ]
     },
     "execution_count": 21,
     "metadata": {},
     "output_type": "execute_result"
    },
    {
     "data": {
      "text/plain": [
       "23"
      ]
     },
     "execution_count": 21,
     "metadata": {},
     "output_type": "execute_result"
    }
   ],
   "source": [
    "max_num_objects\n",
    "actual_num_objects = np.random.randint(max_num_objects)\n",
    "# actual_num_objects = 40\n",
    "actual_num_objects\n",
    "\n",
    "assert actual_num_objects < max_num_objects"
   ]
  },
  {
   "cell_type": "code",
   "execution_count": 22,
   "metadata": {
    "ExecuteTime": {
     "end_time": "2019-05-12T23:18:19.678859Z",
     "start_time": "2019-05-12T23:18:19.655848Z"
    }
   },
   "outputs": [
    {
     "data": {
      "text/plain": [
       "19"
      ]
     },
     "execution_count": 22,
     "metadata": {},
     "output_type": "execute_result"
    },
    {
     "data": {
      "text/plain": [
       "(array([ 1,  1,  1, -1, -1]),\n",
       " array([ 1,  1, -1,  1, -1]),\n",
       " array([-1, -1,  1,  1, -1]),\n",
       " array([ 1,  1, -1, -1, -1]),\n",
       " array([ 1,  1,  1,  1, -1]),\n",
       " array([-1, -1,  1, -1,  1]),\n",
       " array([ 1,  1,  1, -1,  1]),\n",
       " array([-1,  1,  1, -1,  1]),\n",
       " array([ 1, -1, -1,  1,  1]),\n",
       " array([-1,  1,  1,  1, -1]),\n",
       " array([-1,  1, -1, -1, -1]),\n",
       " array([-1, -1, -1, -1,  1]),\n",
       " array([-1,  1,  1, -1, -1]),\n",
       " array([-1, -1,  1,  1,  1]),\n",
       " array([ 1, -1, -1,  1, -1]),\n",
       " array([1, 1, 1, 1, 1]),\n",
       " array([-1,  1, -1, -1,  1]),\n",
       " array([-1, -1,  1, -1, -1]),\n",
       " array([ 1, -1, -1, -1,  1]))"
      ]
     },
     "execution_count": 22,
     "metadata": {},
     "output_type": "execute_result"
    }
   ],
   "source": [
    "objects = tuple(set([tuple(np.random.randint(2, size=m)) for each in range(actual_num_objects)]))\n",
    "objects = tuple(map(np.array, objects))\n",
    "l = len(objects)\n",
    "\n",
    "def zeroToMinusOne(u):\n",
    "    return np.array([x if x == 1 else -1 for x in u])\n",
    "\n",
    "objects = tuple([zeroToMinusOne(o) for o in objects])\n",
    "\n",
    "\n",
    "actual_num_objects = len(objects)\n",
    "actual_num_objects\n",
    "objects"
   ]
  },
  {
   "cell_type": "code",
   "execution_count": 23,
   "metadata": {
    "ExecuteTime": {
     "end_time": "2019-05-12T23:18:20.873331Z",
     "start_time": "2019-05-12T23:18:20.865993Z"
    }
   },
   "outputs": [
    {
     "data": {
      "text/plain": [
       "(19, 5)"
      ]
     },
     "execution_count": 23,
     "metadata": {},
     "output_type": "execute_result"
    },
    {
     "data": {
      "text/plain": [
       "array([[ 1,  1,  1, -1, -1],\n",
       "       [ 1,  1, -1,  1, -1],\n",
       "       [-1, -1,  1,  1, -1],\n",
       "       [ 1,  1, -1, -1, -1],\n",
       "       [ 1,  1,  1,  1, -1],\n",
       "       [-1, -1,  1, -1,  1],\n",
       "       [ 1,  1,  1, -1,  1],\n",
       "       [-1,  1,  1, -1,  1],\n",
       "       [ 1, -1, -1,  1,  1],\n",
       "       [-1,  1,  1,  1, -1],\n",
       "       [-1,  1, -1, -1, -1],\n",
       "       [-1, -1, -1, -1,  1],\n",
       "       [-1,  1,  1, -1, -1],\n",
       "       [-1, -1,  1,  1,  1],\n",
       "       [ 1, -1, -1,  1, -1],\n",
       "       [ 1,  1,  1,  1,  1],\n",
       "       [-1,  1, -1, -1,  1],\n",
       "       [-1, -1,  1, -1, -1],\n",
       "       [ 1, -1, -1, -1,  1]])"
      ]
     },
     "execution_count": 23,
     "metadata": {},
     "output_type": "execute_result"
    },
    {
     "data": {
      "text/plain": [
       "array([ 1,  1,  1, -1, -1])"
      ]
     },
     "execution_count": 23,
     "metadata": {},
     "output_type": "execute_result"
    }
   ],
   "source": [
    "objectMap = np.array([objects[i] for i in range(l)])\n",
    "objectMap.shape\n",
    "objectMap\n",
    "objectMap[0]\n",
    "\n",
    "O = objectMap"
   ]
  },
  {
   "cell_type": "markdown",
   "metadata": {},
   "source": [
    "## Read-in"
   ]
  },
  {
   "cell_type": "code",
   "execution_count": null,
   "metadata": {},
   "outputs": [],
   "source": []
  },
  {
   "cell_type": "code",
   "execution_count": null,
   "metadata": {},
   "outputs": [],
   "source": [
    "# m = 5"
   ]
  },
  {
   "cell_type": "code",
   "execution_count": null,
   "metadata": {},
   "outputs": [],
   "source": [
    "# O = "
   ]
  },
  {
   "cell_type": "markdown",
   "metadata": {},
   "source": [
    "# Operations "
   ]
  },
  {
   "cell_type": "markdown",
   "metadata": {},
   "source": [
    "## Make generator vectors"
   ]
  },
  {
   "cell_type": "code",
   "execution_count": 8,
   "metadata": {
    "ExecuteTime": {
     "end_time": "2019-05-12T23:15:17.664367Z",
     "start_time": "2019-05-12T23:15:17.658643Z"
    }
   },
   "outputs": [],
   "source": [
    "def make_generator_vectors(num_features):\n",
    "    basis_vectors = [np.zeros(num_features, dtype=myint) for each in range(num_features)]\n",
    "    basis_vectors_neg = [np.zeros(num_features, dtype=myint) for each in range(num_features)]\n",
    "    for i,v in enumerate(basis_vectors):\n",
    "        v[i] = 1\n",
    "    for i,v in enumerate(basis_vectors_neg):\n",
    "        v[i] = -1\n",
    "    generators = basis_vectors + basis_vectors_neg\n",
    "    return generators"
   ]
  },
  {
   "cell_type": "code",
   "execution_count": 9,
   "metadata": {
    "ExecuteTime": {
     "end_time": "2019-05-12T23:15:26.217258Z",
     "start_time": "2019-05-12T23:15:26.207537Z"
    }
   },
   "outputs": [
    {
     "data": {
      "text/plain": [
       "[array([1, 0, 0, 0, 0], dtype=int8),\n",
       " array([0, 1, 0, 0, 0], dtype=int8),\n",
       " array([0, 0, 1, 0, 0], dtype=int8),\n",
       " array([0, 0, 0, 1, 0], dtype=int8),\n",
       " array([0, 0, 0, 0, 1], dtype=int8),\n",
       " array([-1,  0,  0,  0,  0], dtype=int8),\n",
       " array([ 0, -1,  0,  0,  0], dtype=int8),\n",
       " array([ 0,  0, -1,  0,  0], dtype=int8),\n",
       " array([ 0,  0,  0, -1,  0], dtype=int8),\n",
       " array([ 0,  0,  0,  0, -1], dtype=int8)]"
      ]
     },
     "execution_count": 9,
     "metadata": {},
     "output_type": "execute_result"
    }
   ],
   "source": [
    "generators = make_generator_vectors(m)\n",
    "generators"
   ]
  },
  {
   "cell_type": "code",
   "execution_count": 10,
   "metadata": {
    "ExecuteTime": {
     "end_time": "2019-05-12T23:15:33.492753Z",
     "start_time": "2019-05-12T23:15:33.487228Z"
    }
   },
   "outputs": [
    {
     "data": {
      "text/plain": [
       "32"
      ]
     },
     "execution_count": 10,
     "metadata": {},
     "output_type": "execute_result"
    },
    {
     "data": {
      "text/plain": [
       "243"
      ]
     },
     "execution_count": 10,
     "metadata": {},
     "output_type": "execute_result"
    }
   ],
   "source": [
    "# max_num_objects = 2 ** m\n",
    "# max_num_objects\n",
    "\n",
    "# max_num_partial_fvs = (2 + 1) ** m\n",
    "# max_num_partial_fvs"
   ]
  },
  {
   "cell_type": "markdown",
   "metadata": {},
   "source": [
    "## Boilerplate"
   ]
  },
  {
   "cell_type": "code",
   "execution_count": 11,
   "metadata": {
    "ExecuteTime": {
     "end_time": "2019-05-12T23:15:38.162374Z",
     "start_time": "2019-05-12T23:15:38.157552Z"
    }
   },
   "outputs": [],
   "source": [
    "def wf_pfv(v):\n",
    "    allowedValues = {-1,0,1}\n",
    "    return all([x in allowedValues for x in v])"
   ]
  },
  {
   "cell_type": "code",
   "execution_count": 13,
   "metadata": {
    "ExecuteTime": {
     "end_time": "2019-05-12T23:15:47.243092Z",
     "start_time": "2019-05-12T23:15:47.238393Z"
    }
   },
   "outputs": [],
   "source": [
    "def wf_tfv(v):\n",
    "    allowedValues = {-1,1}\n",
    "    return all([x in allowedValues for x in v])"
   ]
  },
  {
   "cell_type": "code",
   "execution_count": 12,
   "metadata": {
    "ExecuteTime": {
     "end_time": "2019-05-12T23:15:42.413946Z",
     "start_time": "2019-05-12T23:15:42.407532Z"
    }
   },
   "outputs": [],
   "source": [
    "def uniquify(ndarray_iterable):\n",
    "    tuples = [tuple(a) for a in ndarray_iterable]\n",
    "    s = set(tuples)\n",
    "    arrays = [np.array(t) for t in s]\n",
    "    return arrays"
   ]
  },
  {
   "cell_type": "markdown",
   "metadata": {},
   "source": [
    "## Agreement"
   ]
  },
  {
   "cell_type": "code",
   "execution_count": 27,
   "metadata": {
    "ExecuteTime": {
     "end_time": "2019-05-12T23:20:05.034554Z",
     "start_time": "2019-05-12T23:20:05.029669Z"
    }
   },
   "outputs": [],
   "source": [
    "def ag(x,y):\n",
    "    '''\n",
    "    Formula:\n",
    "    (x == 0 or y == 0) or ((x != 0 and y != 0) and (x == y)), where T = 1 and F = 0\n",
    "    \n",
    "    Pattern:\n",
    "    x = x ⟶ 1\n",
    "    0 = _ ⟶ 1\n",
    "    _ = 0 ⟶ 1\n",
    "    _ = _ ⟶ 0\n",
    "    '''\n",
    "    if x == y:\n",
    "        return True\n",
    "    elif x == 0:\n",
    "        return True\n",
    "    elif y == 0:\n",
    "        return True\n",
    "    else:\n",
    "        return False"
   ]
  },
  {
   "cell_type": "code",
   "execution_count": 26,
   "metadata": {
    "ExecuteTime": {
     "end_time": "2019-05-12T23:19:57.894197Z",
     "start_time": "2019-05-12T23:19:57.888874Z"
    }
   },
   "outputs": [],
   "source": [
    "def agree(u,v):\n",
    "    '''\n",
    "    Given two vectors u and v, returns a binary vector indicating,\n",
    "    elementwise, whether u and v 'agree'.\n",
    "    \n",
    "    agree(u[i], v[i]) iff (u[i] == 0 or v[i] == 0) or (u[i] == v[i])\n",
    "    '''\n",
    "#     return np.array([True if (u[i] == 0 or v[i] == 0) or (u[i] == v[i]) else False \n",
    "#                      for i in range(len(u))])\n",
    "    return np.array([1 if (u[i] == 0 or v[i] == 0) or (u[i] == v[i]) else 0 \n",
    "                     for i in range(len(u))], dtype=myint)"
   ]
  },
  {
   "cell_type": "code",
   "execution_count": 31,
   "metadata": {
    "ExecuteTime": {
     "end_time": "2019-05-12T23:21:03.012410Z",
     "start_time": "2019-05-12T23:21:03.007666Z"
    }
   },
   "outputs": [],
   "source": [
    "def agree_(u,v):\n",
    "    '''\n",
    "    Given two vectors u and v, return 1 iff u and v agree at all indices\n",
    "    and 0 otherwise.\n",
    "    '''\n",
    "    ag = agree(u,v)\n",
    "    return int(ag.all())"
   ]
  },
  {
   "cell_type": "code",
   "execution_count": 42,
   "metadata": {
    "ExecuteTime": {
     "end_time": "2019-05-12T23:25:08.671339Z",
     "start_time": "2019-05-12T23:25:08.665930Z"
    }
   },
   "outputs": [],
   "source": [
    "def agree_mat(A,B):\n",
    "    '''\n",
    "    Given two matrices A::(n,m) and B::(n,m), \n",
    "    return C::(n,1) where \n",
    "    C[i] = 1 iff A[i] and B[i] agree at all indices\n",
    "    and 0 otherwise.\n",
    "    '''\n",
    "    # (x == 0 or y == 0) or ((x != 0 and y != 0) and (x == y))\n",
    "    A_unspecified = A == 0\n",
    "    B_unspecified = B == 0\n",
    "    A_or_B_unspecified = A_unspecified | B_unspecified\n",
    "    \n",
    "    A_specified = A != 0\n",
    "    B_specified = B != 0\n",
    "    A_and_B_specified = A_specified & B_specified\n",
    "    A_equal_B = np.equal(A,B)\n",
    "    A_B_both_specified_and_equal = A_and_B_specified & A_equal_B\n",
    "\n",
    "    ag = A_or_B_unspecified | A_B_both_specified_and_equal\n",
    "#     return ag\n",
    "    result = np.prod(ag, axis=-1, dtype=myint)\n",
    "    return result"
   ]
  },
  {
   "cell_type": "code",
   "execution_count": 28,
   "metadata": {
    "ExecuteTime": {
     "end_time": "2019-05-12T23:20:12.187114Z",
     "start_time": "2019-05-12T23:20:12.181778Z"
    }
   },
   "outputs": [],
   "source": [
    "def make_agreeing_vector_pair(pred=None):\n",
    "    u = make_random_pfv()\n",
    "    v = make_random_pfv()\n",
    "    if pred is None:\n",
    "        while not agree_(u,v):\n",
    "            u = make_random_pfv()\n",
    "            v = make_random_pfv()\n",
    "        return u,v\n",
    "    while not agree_(u,v) and not pred(u,v):\n",
    "        u = make_random_pfv()\n",
    "        v = make_random_pfv()\n",
    "    return u,v"
   ]
  },
  {
   "cell_type": "code",
   "execution_count": 29,
   "metadata": {
    "ExecuteTime": {
     "end_time": "2019-05-12T23:20:18.694788Z",
     "start_time": "2019-05-12T23:20:18.048641Z"
    }
   },
   "outputs": [
    {
     "data": {
      "text/plain": [
       "100000"
      ]
     },
     "execution_count": 29,
     "metadata": {},
     "output_type": "execute_result"
    }
   ],
   "source": [
    "num_test_pairs = int(1e5)\n",
    "random_vector_pairs = [(make_random_pfv(), make_random_pfv()) for each in range(num_test_pairs)]\n",
    "len(random_vector_pairs)"
   ]
  },
  {
   "cell_type": "code",
   "execution_count": 32,
   "metadata": {
    "ExecuteTime": {
     "end_time": "2019-05-12T23:21:12.581672Z",
     "start_time": "2019-05-12T23:21:04.688004Z"
    }
   },
   "outputs": [
    {
     "data": {
      "text/plain": [
       "100000"
      ]
     },
     "execution_count": 32,
     "metadata": {},
     "output_type": "execute_result"
    }
   ],
   "source": [
    "num_test_pairs = int(1e5)\n",
    "agreeing_vector_pairs = [make_agreeing_vector_pair() for each in range(num_test_pairs)]\n",
    "len(agreeing_vector_pairs)"
   ]
  },
  {
   "cell_type": "code",
   "execution_count": 44,
   "metadata": {
    "ExecuteTime": {
     "end_time": "2019-05-12T23:28:35.601508Z",
     "start_time": "2019-05-12T23:28:35.541557Z"
    }
   },
   "outputs": [
    {
     "data": {
      "text/plain": [
       "dtype('int8')"
      ]
     },
     "execution_count": 44,
     "metadata": {},
     "output_type": "execute_result"
    },
    {
     "data": {
      "text/plain": [
       "dtype('int8')"
      ]
     },
     "execution_count": 44,
     "metadata": {},
     "output_type": "execute_result"
    }
   ],
   "source": [
    "first = lambda seq: seq[0]\n",
    "second = lambda seq: seq[1]\n",
    "\n",
    "stack_a, stack_b = list(map(first, random_vector_pairs)), list(map(second, random_vector_pairs))\n",
    "random_pair_stack_a, random_pair_stack_b = np.array(stack_a), np.array(stack_b)\n",
    "random_pair_stack_a.dtype\n",
    "random_pair_stack_b.dtype"
   ]
  },
  {
   "cell_type": "code",
   "execution_count": 45,
   "metadata": {
    "ExecuteTime": {
     "end_time": "2019-05-12T23:28:42.543219Z",
     "start_time": "2019-05-12T23:28:42.480219Z"
    }
   },
   "outputs": [
    {
     "data": {
      "text/plain": [
       "dtype('int8')"
      ]
     },
     "execution_count": 45,
     "metadata": {},
     "output_type": "execute_result"
    },
    {
     "data": {
      "text/plain": [
       "dtype('int8')"
      ]
     },
     "execution_count": 45,
     "metadata": {},
     "output_type": "execute_result"
    }
   ],
   "source": [
    "stack_a, stack_b = list(map(first, agreeing_vector_pairs)), list(map(second, agreeing_vector_pairs))\n",
    "agreeing_pair_stack_a, agreeing_pair_stack_b = np.array(stack_a), np.array(stack_b)\n",
    "agreeing_pair_stack_a.dtype\n",
    "agreeing_pair_stack_b.dtype"
   ]
  },
  {
   "cell_type": "code",
   "execution_count": 46,
   "metadata": {
    "ExecuteTime": {
     "end_time": "2019-05-12T23:29:12.793954Z",
     "start_time": "2019-05-12T23:29:01.320828Z"
    }
   },
   "outputs": [
    {
     "name": "stdout",
     "output_type": "stream",
     "text": [
      "1.43 s ± 10.5 ms per loop (mean ± std. dev. of 7 runs, 1 loop each)\n"
     ]
    }
   ],
   "source": [
    "%%timeit\n",
    "\n",
    "list(starmap(agree_, random_vector_pairs));"
   ]
  },
  {
   "cell_type": "code",
   "execution_count": 47,
   "metadata": {
    "ExecuteTime": {
     "end_time": "2019-05-12T23:29:36.716716Z",
     "start_time": "2019-05-12T23:29:34.473390Z"
    }
   },
   "outputs": [
    {
     "name": "stdout",
     "output_type": "stream",
     "text": [
      "2.77 ms ± 3.11 µs per loop (mean ± std. dev. of 7 runs, 100 loops each)\n"
     ]
    }
   ],
   "source": [
    "%%timeit\n",
    "\n",
    "agree_mat(random_pair_stack_a, random_pair_stack_b)"
   ]
  },
  {
   "cell_type": "code",
   "execution_count": 48,
   "metadata": {
    "ExecuteTime": {
     "end_time": "2019-05-12T23:30:14.064293Z",
     "start_time": "2019-05-12T23:30:12.622496Z"
    }
   },
   "outputs": [
    {
     "data": {
      "text/plain": [
       "True"
      ]
     },
     "execution_count": 48,
     "metadata": {},
     "output_type": "execute_result"
    }
   ],
   "source": [
    "np.array_equal(agree_mat(random_pair_stack_a, random_pair_stack_b), \n",
    "               list(starmap(agree_, random_vector_pairs)))"
   ]
  },
  {
   "cell_type": "code",
   "execution_count": 50,
   "metadata": {
    "ExecuteTime": {
     "end_time": "2019-05-12T23:31:01.045527Z",
     "start_time": "2019-05-12T23:30:58.339935Z"
    }
   },
   "outputs": [],
   "source": [
    "n = num_test_pairs\n",
    "for i in range(n):\n",
    "    u = random_pair_stack_a[i]\n",
    "    v = random_pair_stack_b[i]\n",
    "    assert agree_(u,v) == agree_mat(u,v), '{0}, {1} -> {2} vs. {3}'.format(u,v, agree_(u,v), agree_mat(u,v, True))"
   ]
  },
  {
   "cell_type": "code",
   "execution_count": 57,
   "metadata": {
    "ExecuteTime": {
     "end_time": "2019-05-12T23:40:28.621943Z",
     "start_time": "2019-05-12T23:40:28.616393Z"
    }
   },
   "outputs": [],
   "source": [
    "agreement = agree_mat"
   ]
  },
  {
   "cell_type": "markdown",
   "metadata": {},
   "source": [
    "## Union"
   ]
  },
  {
   "cell_type": "code",
   "execution_count": 33,
   "metadata": {
    "ExecuteTime": {
     "end_time": "2019-05-12T23:21:16.185170Z",
     "start_time": "2019-05-12T23:21:16.168817Z"
    }
   },
   "outputs": [
    {
     "data": {
      "text/plain": [
       "((-1, -1), (-1, 0), (-1, 1), (0, -1), (0, 0), (0, 1), (1, -1), (1, 0), (1, 1))"
      ]
     },
     "execution_count": 33,
     "metadata": {},
     "output_type": "execute_result"
    },
    {
     "data": {
      "text/plain": [
       "((-1, -1), -1)"
      ]
     },
     "execution_count": 33,
     "metadata": {},
     "output_type": "execute_result"
    },
    {
     "data": {
      "text/plain": [
       "((-1, 0), -1)"
      ]
     },
     "execution_count": 33,
     "metadata": {},
     "output_type": "execute_result"
    },
    {
     "data": {
      "text/plain": [
       "((-1, 1), 0)"
      ]
     },
     "execution_count": 33,
     "metadata": {},
     "output_type": "execute_result"
    },
    {
     "data": {
      "text/plain": [
       "((0, -1), -1)"
      ]
     },
     "execution_count": 33,
     "metadata": {},
     "output_type": "execute_result"
    },
    {
     "data": {
      "text/plain": [
       "((0, 0), 0)"
      ]
     },
     "execution_count": 33,
     "metadata": {},
     "output_type": "execute_result"
    },
    {
     "data": {
      "text/plain": [
       "((0, 1), 1)"
      ]
     },
     "execution_count": 33,
     "metadata": {},
     "output_type": "execute_result"
    },
    {
     "data": {
      "text/plain": [
       "((1, -1), 0)"
      ]
     },
     "execution_count": 33,
     "metadata": {},
     "output_type": "execute_result"
    },
    {
     "data": {
      "text/plain": [
       "((1, 0), 1)"
      ]
     },
     "execution_count": 33,
     "metadata": {},
     "output_type": "execute_result"
    },
    {
     "data": {
      "text/plain": [
       "((1, 1), 1)"
      ]
     },
     "execution_count": 33,
     "metadata": {},
     "output_type": "execute_result"
    }
   ],
   "source": [
    "XYs = tuple(product((-1,0,1), (-1,0,1)))\n",
    "XYs\n",
    "\n",
    "def cup(x,y):\n",
    "    '''\n",
    "    Formula:\n",
    "    x or y, where 1 = T, -1 = T, 0 = F\n",
    "    \n",
    "    Algebra:\n",
    "    0 is the identity ∀x ∈ {-1,0,+1}\n",
    "    x is its own identity ∀x ∈ {-1,0,+1}\n",
    "    (-1 and +1 are mutual inverses, but this case shouldn't occur when agree(x,y) holds)\n",
    "    \n",
    "    Pattern:\n",
    "    x ∪ x = x\n",
    "    \n",
    "    0 ∪ y = y\n",
    "    x ∪ 0 = x\n",
    "    \n",
    "    _ ∪ _ = 0  \\\\ <- shouldn't occur in two pfvs that agree\n",
    "    '''\n",
    "    if x == 0:  #if x is unspecified, return y\n",
    "        return y\n",
    "    elif y == 0: #if y is unspecified, return x\n",
    "        return x\n",
    "    elif x == y: #if both are specified and the same, return their common value\n",
    "        return x\n",
    "    else: #otherwise return 0\n",
    "        return 0\n",
    "\n",
    "for x,y in XYs:\n",
    "    ((x,y), cup(x,y))"
   ]
  },
  {
   "cell_type": "code",
   "execution_count": 34,
   "metadata": {
    "ExecuteTime": {
     "end_time": "2019-05-12T23:21:25.238723Z",
     "start_time": "2019-05-12T23:21:25.235831Z"
    }
   },
   "outputs": [],
   "source": [
    "def union(u, v):\n",
    "    if CAREFUL:\n",
    "        assert agree_(u,v)\n",
    "    return np.sign(u + v)"
   ]
  },
  {
   "cell_type": "markdown",
   "metadata": {},
   "source": [
    "## Intersection"
   ]
  },
  {
   "cell_type": "code",
   "execution_count": 37,
   "metadata": {
    "ExecuteTime": {
     "end_time": "2019-05-12T23:22:19.973587Z",
     "start_time": "2019-05-12T23:22:19.955198Z"
    }
   },
   "outputs": [
    {
     "data": {
      "text/plain": [
       "((-1, -1), (-1, 0), (-1, 1), (0, -1), (0, 0), (0, 1), (1, -1), (1, 0), (1, 1))"
      ]
     },
     "execution_count": 37,
     "metadata": {},
     "output_type": "execute_result"
    },
    {
     "data": {
      "text/plain": [
       "((-1, -1), -1, -1)"
      ]
     },
     "execution_count": 37,
     "metadata": {},
     "output_type": "execute_result"
    },
    {
     "data": {
      "text/plain": [
       "((-1, 0), 0, 0)"
      ]
     },
     "execution_count": 37,
     "metadata": {},
     "output_type": "execute_result"
    },
    {
     "data": {
      "text/plain": [
       "((-1, 1), 0, 0)"
      ]
     },
     "execution_count": 37,
     "metadata": {},
     "output_type": "execute_result"
    },
    {
     "data": {
      "text/plain": [
       "((0, -1), 0, 0)"
      ]
     },
     "execution_count": 37,
     "metadata": {},
     "output_type": "execute_result"
    },
    {
     "data": {
      "text/plain": [
       "((0, 0), 0, 0)"
      ]
     },
     "execution_count": 37,
     "metadata": {},
     "output_type": "execute_result"
    },
    {
     "data": {
      "text/plain": [
       "((0, 1), 0, 0)"
      ]
     },
     "execution_count": 37,
     "metadata": {},
     "output_type": "execute_result"
    },
    {
     "data": {
      "text/plain": [
       "((1, -1), 0, 0)"
      ]
     },
     "execution_count": 37,
     "metadata": {},
     "output_type": "execute_result"
    },
    {
     "data": {
      "text/plain": [
       "((1, 0), 0, 0)"
      ]
     },
     "execution_count": 37,
     "metadata": {},
     "output_type": "execute_result"
    },
    {
     "data": {
      "text/plain": [
       "((1, 1), 1, 1)"
      ]
     },
     "execution_count": 37,
     "metadata": {},
     "output_type": "execute_result"
    }
   ],
   "source": [
    "XYs = tuple(product((-1,0,1), (-1,0,1)))\n",
    "XYs \n",
    "    \n",
    "def cap(x,y):\n",
    "    '''\n",
    "    Algebra:\n",
    "    0 is the annihilating element ∀x ∈ {-1,0,+1}\n",
    "    x is its own identity ∀x ∈ {-1,0,+1}\n",
    "    -1 and +1 annihilate each other\n",
    "    \n",
    "    Pattern:\n",
    "    x ∩ x = x\n",
    "    \n",
    "    0 ∩ _ = 0\n",
    "    _ ∩ 0 = 0\n",
    "    \n",
    "    _ ∩ _ = 0\n",
    "    '''\n",
    "    if x == 0: #if x is unspecified, return 0\n",
    "        return 0\n",
    "    elif y == 0: #if y is unspecified, return 0\n",
    "        return 0\n",
    "    elif x == y: #if both are specified and the same, return their common value\n",
    "        return x\n",
    "    else: #otherwise return 0\n",
    "        return 0\n",
    "\n",
    "def foo(x,y):\n",
    "    return np.sign( (x == y) * (x + y) )\n",
    "\n",
    "# def bar(x,y):\n",
    "#     return (x == y) * (x + y) * 0.5\n",
    "\n",
    "# def baz(x,y):\n",
    "#     return (x == y) * int((x + y) / 2)\n",
    "\n",
    "for x,y in XYs:\n",
    "#     ((x,y), cap(x,y))\n",
    "#     ((x,y), cap(x,y), foo(x,y), bar(x,y), baz(x,y))\n",
    "    ((x,y), cap(x,y), foo(x,y))"
   ]
  },
  {
   "cell_type": "code",
   "execution_count": 36,
   "metadata": {
    "ExecuteTime": {
     "end_time": "2019-05-12T23:21:55.041154Z",
     "start_time": "2019-05-12T23:21:55.034032Z"
    }
   },
   "outputs": [],
   "source": [
    "def intersection(u, v):\n",
    "    return np.sign(  np.equal(u, v) * (u + v) )"
   ]
  },
  {
   "cell_type": "markdown",
   "metadata": {},
   "source": [
    "## Extension"
   ]
  },
  {
   "cell_type": "code",
   "execution_count": 24,
   "metadata": {
    "ExecuteTime": {
     "end_time": "2019-05-12T23:19:31.823821Z",
     "start_time": "2019-05-12T23:19:31.818735Z"
    }
   },
   "outputs": [],
   "source": [
    "def getIndex(o, O):\n",
    "    matches = [i for i,v in enumerate(O) if np.array_equal(v,o)]\n",
    "    if len(matches) == 0:\n",
    "        return -1\n",
    "    if CAREFUL:\n",
    "        assert len(matches) == 1\n",
    "    return matches[0]"
   ]
  },
  {
   "cell_type": "code",
   "execution_count": 25,
   "metadata": {
    "ExecuteTime": {
     "end_time": "2019-05-12T23:19:36.338610Z",
     "start_time": "2019-05-12T23:19:36.336212Z"
    }
   },
   "outputs": [],
   "source": [
    "def makeExtensionVector(positive_Indices, O):\n",
    "    return np.array([1 if i in positive_Indices else 0 for i in np.arange(O.shape[0])], dtype=myint)"
   ]
  },
  {
   "cell_type": "code",
   "execution_count": 38,
   "metadata": {
    "ExecuteTime": {
     "end_time": "2019-05-12T23:22:35.505967Z",
     "start_time": "2019-05-12T23:22:35.501151Z"
    }
   },
   "outputs": [],
   "source": [
    "def extension(v, O, asIndexVector=True):\n",
    "    '''\n",
    "    The extension of a partial feature vector v is the set of object vectors\n",
    "    (= fully specified, or 'total' feature vectors) that 'agree' with it.\n",
    "    '''\n",
    "    matches = tuple([o for o in O if agree_(v,o)])\n",
    "#     matches = tuple([o for o in objects if agree(v,o).all()])\n",
    "#     matches = np.array([1.0 if np.linalg.norm(agree(v,o), 1) == num_features else 0.0 for o in objects])\n",
    "    if asIndexVector:\n",
    "        return makeExtensionVector([getIndex(o, O) for o in matches], O)\n",
    "    return matches"
   ]
  },
  {
   "cell_type": "code",
   "execution_count": 41,
   "metadata": {
    "ExecuteTime": {
     "end_time": "2019-05-12T23:24:10.489641Z",
     "start_time": "2019-05-12T23:24:10.484273Z"
    }
   },
   "outputs": [],
   "source": [
    "def ramp(M):\n",
    "    return np.heaviside(M-1, 1).astype(myint)\n",
    "\n",
    "def primed(p):\n",
    "    mag_p = np.sum(np.abs(p))\n",
    "    return p / mag_p\n",
    "\n",
    "def extension_alt3(s, O):\n",
    "    if np.array_equal(s, np.zeros(s.shape)):\n",
    "        return np.ones((l,), dtype=myint)\n",
    "    p = s\n",
    "#     mag_p = np.sum(np.abs(p))\n",
    "#     p_prime = p / mag_p\n",
    "    return ramp( np.dot(O, primed(p)) )"
   ]
  },
  {
   "cell_type": "code",
   "execution_count": 43,
   "metadata": {
    "ExecuteTime": {
     "end_time": "2019-05-12T23:25:53.850991Z",
     "start_time": "2019-05-12T23:25:53.844951Z"
    }
   },
   "outputs": [],
   "source": [
    "def extension_(pfv, O):\n",
    "    return agree_mat(pfv, O)"
   ]
  },
  {
   "cell_type": "code",
   "execution_count": 52,
   "metadata": {
    "ExecuteTime": {
     "end_time": "2019-05-12T23:32:19.756251Z",
     "start_time": "2019-05-12T23:32:19.321545Z"
    }
   },
   "outputs": [
    {
     "name": "stderr",
     "output_type": "stream",
     "text": [
      "100%|██████████| 100000/100000 [00:00<00:00, 234266.57it/s]\n"
     ]
    },
    {
     "data": {
      "text/plain": [
       "100000"
      ]
     },
     "execution_count": 52,
     "metadata": {},
     "output_type": "execute_result"
    }
   ],
   "source": [
    "num_test_pairs = int(1e5)\n",
    "random_vectors = [make_random_pfv() for each in tqdm(range(num_test_pairs))]\n",
    "len(random_vectors)"
   ]
  },
  {
   "cell_type": "code",
   "execution_count": 53,
   "metadata": {
    "ExecuteTime": {
     "end_time": "2019-05-12T23:38:36.255678Z",
     "start_time": "2019-05-12T23:32:21.001518Z"
    }
   },
   "outputs": [
    {
     "name": "stdout",
     "output_type": "stream",
     "text": [
      "47 s ± 61 ms per loop (mean ± std. dev. of 7 runs, 1 loop each)\n"
     ]
    }
   ],
   "source": [
    "%%timeit\n",
    "\n",
    "list(map(lambda v: extension(v, O), random_vectors))"
   ]
  },
  {
   "cell_type": "code",
   "execution_count": 54,
   "metadata": {
    "ExecuteTime": {
     "end_time": "2019-05-12T23:38:47.681568Z",
     "start_time": "2019-05-12T23:38:36.256880Z"
    }
   },
   "outputs": [
    {
     "name": "stdout",
     "output_type": "stream",
     "text": [
      "1.43 s ± 6.59 ms per loop (mean ± std. dev. of 7 runs, 1 loop each)\n"
     ]
    }
   ],
   "source": [
    "%%timeit\n",
    "\n",
    "list(map(lambda v: extension_alt3(v, O), random_vectors))"
   ]
  },
  {
   "cell_type": "code",
   "execution_count": 55,
   "metadata": {
    "ExecuteTime": {
     "end_time": "2019-05-12T23:38:57.911681Z",
     "start_time": "2019-05-12T23:38:47.682761Z"
    }
   },
   "outputs": [
    {
     "name": "stdout",
     "output_type": "stream",
     "text": [
      "1.27 s ± 9.4 ms per loop (mean ± std. dev. of 7 runs, 1 loop each)\n"
     ]
    }
   ],
   "source": [
    "%%timeit\n",
    "\n",
    "list(map(lambda v: extension_(v,O), random_vectors))"
   ]
  },
  {
   "cell_type": "code",
   "execution_count": 56,
   "metadata": {
    "ExecuteTime": {
     "end_time": "2019-05-12T23:39:42.911384Z",
     "start_time": "2019-05-12T23:39:42.906394Z"
    }
   },
   "outputs": [],
   "source": [
    "interpretation = extension_"
   ]
  },
  {
   "cell_type": "markdown",
   "metadata": {},
   "source": [
    "## Entailed pfvs"
   ]
  },
  {
   "cell_type": "code",
   "execution_count": 40,
   "metadata": {
    "ExecuteTime": {
     "end_time": "2019-05-12T23:23:08.114252Z",
     "start_time": "2019-05-12T23:23:08.105260Z"
    }
   },
   "outputs": [],
   "source": [
    "def specifiable_zero_indices(p, ext_p):\n",
    "    '''\n",
    "    Given p and A::(n,m) = ⟦p⟧:\n",
    "    \n",
    "    If p_j = 0 and ∀i A_{i,j} = k≠0, then\n",
    "    p_j is unspecified (i.e. p_j = 0) but \n",
    "    can be set to k and yield a co-extensive \n",
    "    and more specific pfv p'. (NB: p' entails \n",
    "    p.)\n",
    "    \n",
    "    This function returns a list of (index, value) pairs\n",
    "    indicating the set of 0-valued indices of p that can \n",
    "    be specified, plus what the common value at that index is.\n",
    "    \n",
    "    Correctly specifying any one or any combination\n",
    "    of the indices in this list of indices will result\n",
    "    in a more specific vector than p that is coextensive.\n",
    "    \n",
    "    From this list, you can construct (or count) all of the\n",
    "    more specified pfvs that are coextensive with p.\n",
    "    '''\n",
    "    A = ext_p\n",
    "    n = A.shape[0]\n",
    "    if n == 0:\n",
    "        return set()\n",
    "    n_opp = -1.0 * n\n",
    "#     zeros = np.nonzero(p)[0]\n",
    "    zero_indices = np.array(tuple(  set(range(len(p))) - set(np.nonzero(p)[0])  ), dtype=myint)\n",
    "    specifiable_indices = set()\n",
    "    for j in zero_indices:\n",
    "        j_col_sum = np.sum(A[:,j])\n",
    "        if j_col_sum == n:\n",
    "            specifiable_indices.add((j, 1))\n",
    "        if j_col_sum == n_opp:\n",
    "            specifiable_indices.add((j, -1))\n",
    "    return specifiable_indices\n",
    "\n",
    "def specify(p, specs):\n",
    "    '''\n",
    "    Given a partial feature vector p and a set of\n",
    "        (index i, non-zero value v)\n",
    "    pairs where p_i ≠ 0, returns a more specific p'\n",
    "    where p'_i = v as indicated by spec.\n",
    "    '''\n",
    "    p_prime = p.copy()\n",
    "    for i,v in specs:\n",
    "        p_prime[i] = v\n",
    "    return p_prime\n",
    "\n",
    "def entailed_pfvs(p, O, no_total_fvs = True):\n",
    "    '''\n",
    "    Given a partial feature vector p and a set of objects\n",
    "    (total feature vectors) O, this returns the set of\n",
    "    partial feature vectors that are strictly more specific\n",
    "    than p that have the same extension in O.\n",
    "    '''\n",
    "    x_p = np.array(extension(p, O, False))\n",
    "    specifiable_indices = specifiable_zero_indices(p, x_p)\n",
    "    num_specifiable_indices = len(specifiable_indices)\n",
    "    specifications = {tuple(combinations(specifiable_indices, r) )\n",
    "                      for r in range(1, num_specifiable_indices+1)}\n",
    "    entailed_vectors = np.array([specify(p, spec)\n",
    "                                 for r_level in specifications \n",
    "                                 for spec in r_level], dtype=myint)\n",
    "    if not no_total_fvs:\n",
    "        return entailed_vectors\n",
    "    entailed_pfvs = np.array([v for v in entailed_vectors\n",
    "                              if len(v.nonzero()[0]) < m])\n",
    "    return entailed_pfvs"
   ]
  },
  {
   "cell_type": "markdown",
   "metadata": {},
   "source": [
    "# Generation of $S_i$: all pfvs with exactly $i$ specified values"
   ]
  },
  {
   "cell_type": "code",
   "execution_count": 59,
   "metadata": {
    "ExecuteTime": {
     "end_time": "2019-05-12T23:40:53.998998Z",
     "start_time": "2019-05-12T23:40:53.995215Z"
    }
   },
   "outputs": [],
   "source": [
    "# from functools import reduce"
   ]
  },
  {
   "cell_type": "code",
   "execution_count": 60,
   "metadata": {
    "ExecuteTime": {
     "end_time": "2019-05-12T23:40:54.487984Z",
     "start_time": "2019-05-12T23:40:54.483540Z"
    }
   },
   "outputs": [],
   "source": [
    "def grand_union(pfvs):\n",
    "    return reduce(union, pfvs)"
   ]
  },
  {
   "cell_type": "code",
   "execution_count": 61,
   "metadata": {
    "ExecuteTime": {
     "end_time": "2019-05-12T23:40:55.270245Z",
     "start_time": "2019-05-12T23:40:55.265438Z"
    }
   },
   "outputs": [],
   "source": [
    "def one_hot_stack(indices):\n",
    "#     n_values = np.max(indices) + 1\n",
    "#     n_values = num_features\n",
    "    n_values = m\n",
    "    return np.eye(n_values,dtype=myint)[indices] "
   ]
  },
  {
   "cell_type": "code",
   "execution_count": 80,
   "metadata": {
    "ExecuteTime": {
     "end_time": "2019-05-12T23:49:24.733357Z",
     "start_time": "2019-05-12T23:49:24.727194Z"
    }
   },
   "outputs": [],
   "source": [
    "def indexChoicesToComponentOptions(index_choices):\n",
    "    indices = list(index_choices)\n",
    "    one_hots = one_hot_stack(indices)\n",
    "#     component_options = tuple([(v, -1 * v) for v in one_hots])\n",
    "    component_options = ((v, -1 * v) for v in one_hots)\n",
    "    return component_options\n",
    "\n",
    "def componentOptionsToChoices(component_options):\n",
    "#     choice_combinations = tuple(product(*component_options))\n",
    "    choice_combinations = product(*component_options)\n",
    "#     return tuple(starmap(union,\n",
    "#                          choice_combinations))\n",
    "#     return tuple(map(grand_union,\n",
    "#                      choice_combinations))\n",
    "    return map(grand_union, choice_combinations)\n",
    "\n",
    "def make_Si_naive(i):\n",
    "    index_choices = combinations(range(m), i)\n",
    "    componentOptions = (indexChoicesToComponentOptions(c) for c in index_choices)\n",
    "    componentChoices = (componentOptionsToChoices(o) for o in componentOptions)\n",
    "#     choices_flattened = reduce(lambda a,b: a + b, componentChoices)\n",
    "    choices_flattened = tuple(reduce(lambda a,b: chain.from_iterable([a,b]), componentChoices))\n",
    "    return np.array(choices_flattened)"
   ]
  },
  {
   "cell_type": "code",
   "execution_count": 81,
   "metadata": {
    "ExecuteTime": {
     "end_time": "2019-05-12T23:49:26.395710Z",
     "start_time": "2019-05-12T23:49:26.390262Z"
    }
   },
   "outputs": [],
   "source": [
    "construct_Si = make_Si_naive"
   ]
  },
  {
   "cell_type": "code",
   "execution_count": 104,
   "metadata": {
    "ExecuteTime": {
     "end_time": "2019-05-12T23:55:00.344762Z",
     "start_time": "2019-05-12T23:55:00.340236Z"
    }
   },
   "outputs": [],
   "source": [
    "calculate_Xi = interpretation\n",
    "\n",
    "#FIXME this can/should be parallelized and memory mapped\n",
    "def calculate_Xi(Si, O):\n",
    "    return np.array([interpretation(p, O) for p in Si], dtype=myint)"
   ]
  },
  {
   "cell_type": "markdown",
   "metadata": {},
   "source": [
    "# Generate $\\overline{S}_i$ (compress $S_i$) by removing vectors with empty extension in $S_i$"
   ]
  },
  {
   "cell_type": "code",
   "execution_count": 83,
   "metadata": {
    "ExecuteTime": {
     "end_time": "2019-05-12T23:49:28.325096Z",
     "start_time": "2019-05-12T23:49:28.320415Z"
    }
   },
   "outputs": [],
   "source": [
    "EMPTY = np.zeros((l,), dtype=myint)"
   ]
  },
  {
   "cell_type": "code",
   "execution_count": 84,
   "metadata": {
    "ExecuteTime": {
     "end_time": "2019-05-12T23:49:28.470681Z",
     "start_time": "2019-05-12T23:49:28.462551Z"
    }
   },
   "outputs": [],
   "source": [
    "#FIXME this can/should be parallelized and memory mapped\n",
    "def make_Si_bar_naive(Si, Xi):\n",
    "    return np.array([v for i,v in enumerate(Si) \n",
    "#                      if not empty_extension(Xj[i])])\n",
    "                     if not np.array_equal(EMPTY, Xi[i])])"
   ]
  },
  {
   "cell_type": "code",
   "execution_count": 85,
   "metadata": {
    "ExecuteTime": {
     "end_time": "2019-05-12T23:49:28.842028Z",
     "start_time": "2019-05-12T23:49:28.838056Z"
    }
   },
   "outputs": [],
   "source": [
    "construct_Si_bar = make_Si_bar_naive"
   ]
  },
  {
   "cell_type": "markdown",
   "metadata": {},
   "source": [
    "# Convert $\\overline{X}_i$ to a sparse representation"
   ]
  },
  {
   "cell_type": "code",
   "execution_count": 86,
   "metadata": {
    "ExecuteTime": {
     "end_time": "2019-05-12T23:49:29.294003Z",
     "start_time": "2019-05-12T23:49:29.290029Z"
    }
   },
   "outputs": [],
   "source": [
    "# import sparse"
   ]
  },
  {
   "cell_type": "code",
   "execution_count": 87,
   "metadata": {
    "ExecuteTime": {
     "end_time": "2019-05-12T23:49:29.501866Z",
     "start_time": "2019-05-12T23:49:29.492641Z"
    }
   },
   "outputs": [],
   "source": [
    "def density(a):\n",
    "    num_cells = reduce(lambda x,y: x * y, a.shape)\n",
    "    d = len(np.nonzero(a)[0]) / num_cells\n",
    "    return d\n",
    "\n",
    "def sparsity(a):\n",
    "    return 1 - density(a)"
   ]
  },
  {
   "cell_type": "code",
   "execution_count": 88,
   "metadata": {
    "ExecuteTime": {
     "end_time": "2019-05-12T23:49:29.804089Z",
     "start_time": "2019-05-12T23:49:29.799969Z"
    }
   },
   "outputs": [],
   "source": [
    "def to_sparse(v):\n",
    "    return sparse.COO(v)"
   ]
  },
  {
   "cell_type": "markdown",
   "metadata": {},
   "source": [
    "# Local processing pipeline to generate non-sparse $\\overline{S}_i, \\overline{X}_i$, $\\forall i$ "
   ]
  },
  {
   "cell_type": "code",
   "execution_count": 107,
   "metadata": {
    "ExecuteTime": {
     "end_time": "2019-05-12T23:55:54.712695Z",
     "start_time": "2019-05-12T23:55:54.707400Z"
    }
   },
   "outputs": [],
   "source": [
    "def construct_Si_bar_Xi_bar(i, O):\n",
    "    Si = construct_Si(i)\n",
    "    Xi = calculate_Xi(Si, O)\n",
    "    Si_bar = construct_Si_bar(Si, Xi)\n",
    "    del Si\n",
    "    del Xi\n",
    "    #FIXME you shouldn't have to recalculate the extensions of everything in Si_bar!\n",
    "    Xi_bar = calculate_Xi(Si_bar, O)\n",
    "    return Si_bar, Xi_bar #these (or at least Xi_bar) should be sparse (and memory mapped) representations"
   ]
  },
  {
   "cell_type": "code",
   "execution_count": 103,
   "metadata": {
    "ExecuteTime": {
     "end_time": "2019-05-12T23:51:43.049120Z",
     "start_time": "2019-05-12T23:51:43.044302Z"
    }
   },
   "outputs": [
    {
     "data": {
      "text/plain": [
       "array([[ 1,  0,  0,  0,  0],\n",
       "       [-1,  0,  0,  0,  0],\n",
       "       [ 0,  1,  0,  0,  0],\n",
       "       [ 0, -1,  0,  0,  0],\n",
       "       [ 0,  0,  1,  0,  0],\n",
       "       [ 0,  0, -1,  0,  0],\n",
       "       [ 0,  0,  0,  1,  0],\n",
       "       [ 0,  0,  0, -1,  0],\n",
       "       [ 0,  0,  0,  0,  1],\n",
       "       [ 0,  0,  0,  0, -1]], dtype=int8)"
      ]
     },
     "execution_count": 103,
     "metadata": {},
     "output_type": "execute_result"
    }
   ],
   "source": [
    "construct_Si(1)"
   ]
  },
  {
   "cell_type": "code",
   "execution_count": 109,
   "metadata": {
    "ExecuteTime": {
     "end_time": "2019-05-12T23:56:21.995629Z",
     "start_time": "2019-05-12T23:56:21.988826Z"
    }
   },
   "outputs": [
    {
     "data": {
      "text/plain": [
       "0.8"
      ]
     },
     "execution_count": 109,
     "metadata": {},
     "output_type": "execute_result"
    },
    {
     "data": {
      "text/plain": [
       "0.5"
      ]
     },
     "execution_count": 109,
     "metadata": {},
     "output_type": "execute_result"
    }
   ],
   "source": [
    "S1_bar, X1_bar = construct_Si_bar_Xi_bar(1, O)\n",
    "sparsity(S1_bar)\n",
    "sparsity(X1_bar)"
   ]
  },
  {
   "cell_type": "code",
   "execution_count": 110,
   "metadata": {
    "ExecuteTime": {
     "end_time": "2019-05-12T23:56:30.598444Z",
     "start_time": "2019-05-12T23:56:30.595796Z"
    }
   },
   "outputs": [
    {
     "data": {
      "text/plain": [
       "array([[ 1,  0,  0,  0,  0],\n",
       "       [-1,  0,  0,  0,  0],\n",
       "       [ 0,  1,  0,  0,  0],\n",
       "       [ 0, -1,  0,  0,  0],\n",
       "       [ 0,  0,  1,  0,  0],\n",
       "       [ 0,  0, -1,  0,  0],\n",
       "       [ 0,  0,  0,  1,  0],\n",
       "       [ 0,  0,  0, -1,  0],\n",
       "       [ 0,  0,  0,  0,  1],\n",
       "       [ 0,  0,  0,  0, -1]], dtype=int8)"
      ]
     },
     "execution_count": 110,
     "metadata": {},
     "output_type": "execute_result"
    }
   ],
   "source": [
    "S1_bar"
   ]
  },
  {
   "cell_type": "code",
   "execution_count": 111,
   "metadata": {
    "ExecuteTime": {
     "end_time": "2019-05-12T23:56:51.756649Z",
     "start_time": "2019-05-12T23:56:51.748583Z"
    }
   },
   "outputs": [
    {
     "data": {
      "text/plain": [
       "0.6"
      ]
     },
     "execution_count": 111,
     "metadata": {},
     "output_type": "execute_result"
    },
    {
     "data": {
      "text/plain": [
       "0.75"
      ]
     },
     "execution_count": 111,
     "metadata": {},
     "output_type": "execute_result"
    }
   ],
   "source": [
    "S2_bar, X2_bar = construct_Si_bar_Xi_bar(2, O)\n",
    "sparsity(S2_bar)\n",
    "sparsity(X2_bar)"
   ]
  },
  {
   "cell_type": "code",
   "execution_count": 112,
   "metadata": {
    "ExecuteTime": {
     "end_time": "2019-05-12T23:57:00.859024Z",
     "start_time": "2019-05-12T23:57:00.849421Z"
    }
   },
   "outputs": [
    {
     "data": {
      "text/plain": [
       "0.4"
      ]
     },
     "execution_count": 112,
     "metadata": {},
     "output_type": "execute_result"
    },
    {
     "data": {
      "text/plain": [
       "0.8717948717948718"
      ]
     },
     "execution_count": 112,
     "metadata": {},
     "output_type": "execute_result"
    }
   ],
   "source": [
    "S3_bar, X3_bar = construct_Si_bar_Xi_bar(3, O)\n",
    "sparsity(S3_bar)\n",
    "sparsity(X3_bar)"
   ]
  },
  {
   "cell_type": "code",
   "execution_count": 113,
   "metadata": {
    "ExecuteTime": {
     "end_time": "2019-05-12T23:57:09.198104Z",
     "start_time": "2019-05-12T23:57:09.188431Z"
    }
   },
   "outputs": [
    {
     "data": {
      "text/plain": [
       "0.19999999999999996"
      ]
     },
     "execution_count": 113,
     "metadata": {},
     "output_type": "execute_result"
    },
    {
     "data": {
      "text/plain": [
       "0.9242424242424242"
      ]
     },
     "execution_count": 113,
     "metadata": {},
     "output_type": "execute_result"
    }
   ],
   "source": [
    "S4_bar, X4_bar = construct_Si_bar_Xi_bar(4, O)\n",
    "sparsity(S4_bar)\n",
    "sparsity(X4_bar)"
   ]
  },
  {
   "cell_type": "code",
   "execution_count": 114,
   "metadata": {
    "ExecuteTime": {
     "end_time": "2019-05-12T23:57:18.045594Z",
     "start_time": "2019-05-12T23:57:18.038347Z"
    }
   },
   "outputs": [
    {
     "data": {
      "text/plain": [
       "0.0"
      ]
     },
     "execution_count": 114,
     "metadata": {},
     "output_type": "execute_result"
    },
    {
     "data": {
      "text/plain": [
       "0.9473684210526316"
      ]
     },
     "execution_count": 114,
     "metadata": {},
     "output_type": "execute_result"
    }
   ],
   "source": [
    "S5_bar, X5_bar = construct_Si_bar_Xi_bar(5, O)\n",
    "sparsity(S5_bar)\n",
    "sparsity(X5_bar)"
   ]
  },
  {
   "cell_type": "markdown",
   "metadata": {},
   "source": []
  }
 ],
 "metadata": {
  "kernelspec": {
   "display_name": "Python 3",
   "language": "python",
   "name": "python3"
  },
  "language_info": {
   "codemirror_mode": {
    "name": "ipython",
    "version": 3
   },
   "file_extension": ".py",
   "mimetype": "text/x-python",
   "name": "python",
   "nbconvert_exporter": "python",
   "pygments_lexer": "ipython3",
   "version": "3.6.8"
  },
  "toc": {
   "base_numbering": 1,
   "nav_menu": {},
   "number_sections": true,
   "sideBar": true,
   "skip_h1_title": false,
   "title_cell": "Table of Contents",
   "title_sidebar": "Contents",
   "toc_cell": false,
   "toc_position": {},
   "toc_section_display": true,
   "toc_window_display": false
  }
 },
 "nbformat": 4,
 "nbformat_minor": 2
}
