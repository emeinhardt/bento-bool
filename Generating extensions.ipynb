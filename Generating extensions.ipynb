{
 "cells": [
  {
   "cell_type": "code",
   "execution_count": 1,
   "metadata": {
    "ExecuteTime": {
     "end_time": "2019-05-13T00:42:31.712041Z",
     "start_time": "2019-05-13T00:42:31.705455Z"
    }
   },
   "outputs": [],
   "source": [
    "#Prints **all** console output, not just last item in cell \n",
    "from IPython.core.interactiveshell import InteractiveShell\n",
    "InteractiveShell.ast_node_interactivity = \"all\""
   ]
  },
  {
   "cell_type": "markdown",
   "metadata": {},
   "source": [
    "**Eric Meinhardt / emeinhardt@ucsd.edu**"
   ]
  },
  {
   "cell_type": "code",
   "execution_count": 2,
   "metadata": {
    "ExecuteTime": {
     "end_time": "2019-05-13T00:42:31.821004Z",
     "start_time": "2019-05-13T00:42:31.726906Z"
    }
   },
   "outputs": [],
   "source": [
    "import numpy as np\n",
    "myint = np.int8"
   ]
  },
  {
   "cell_type": "code",
   "execution_count": 3,
   "metadata": {
    "ExecuteTime": {
     "end_time": "2019-05-13T00:42:31.824014Z",
     "start_time": "2019-05-13T00:42:31.822174Z"
    }
   },
   "outputs": [],
   "source": [
    "from itertools import starmap, product, combinations, chain"
   ]
  },
  {
   "cell_type": "code",
   "execution_count": 4,
   "metadata": {
    "ExecuteTime": {
     "end_time": "2019-05-13T00:42:31.827526Z",
     "start_time": "2019-05-13T00:42:31.825551Z"
    }
   },
   "outputs": [],
   "source": [
    "from functools import reduce"
   ]
  },
  {
   "cell_type": "code",
   "execution_count": 5,
   "metadata": {
    "ExecuteTime": {
     "end_time": "2019-05-13T00:42:31.898337Z",
     "start_time": "2019-05-13T00:42:31.828742Z"
    }
   },
   "outputs": [],
   "source": [
    "from tqdm import tqdm\n",
    "\n",
    "from joblib import Parallel, delayed, Memory\n",
    "\n",
    "J = -1\n",
    "BACKEND = 'multiprocessing'\n",
    "# BACKEND = 'loky'\n",
    "V = 10\n",
    "PREFER = 'processes'\n",
    "# PREFER = 'threads'\n",
    "\n",
    "def par(gen_expr, j=None, backend=None, verbose=None, prefer=None):\n",
    "    if j is None:\n",
    "        j = J\n",
    "    if backend is None:\n",
    "        backend = BACKEND\n",
    "    if verbose is None:\n",
    "        verbose = V\n",
    "    if prefer is None:\n",
    "        prefer = PREFER\n",
    "    return Parallel(n_jobs=j, backend=backend, verbose=verbose, prefer=prefer)(gen_expr)\n",
    "\n",
    "def identity(x):\n",
    "    return x"
   ]
  },
  {
   "cell_type": "code",
   "execution_count": 6,
   "metadata": {
    "ExecuteTime": {
     "end_time": "2019-05-13T00:42:31.901569Z",
     "start_time": "2019-05-13T00:42:31.899661Z"
    }
   },
   "outputs": [],
   "source": [
    "from random import choice"
   ]
  },
  {
   "cell_type": "code",
   "execution_count": 7,
   "metadata": {
    "ExecuteTime": {
     "end_time": "2019-05-13T00:42:31.906396Z",
     "start_time": "2019-05-13T00:42:31.902834Z"
    }
   },
   "outputs": [],
   "source": [
    "CAREFUL = False"
   ]
  },
  {
   "cell_type": "code",
   "execution_count": 8,
   "metadata": {
    "ExecuteTime": {
     "end_time": "2019-05-13T00:42:32.260957Z",
     "start_time": "2019-05-13T00:42:31.907539Z"
    }
   },
   "outputs": [],
   "source": [
    "import sparse"
   ]
  },
  {
   "cell_type": "markdown",
   "metadata": {},
   "source": [
    "# Read in (or make) object vectors"
   ]
  },
  {
   "cell_type": "markdown",
   "metadata": {},
   "source": [
    "## Make"
   ]
  },
  {
   "cell_type": "code",
   "execution_count": 9,
   "metadata": {
    "ExecuteTime": {
     "end_time": "2019-05-13T00:42:32.264310Z",
     "start_time": "2019-05-13T00:42:32.262532Z"
    }
   },
   "outputs": [],
   "source": [
    "m = 5"
   ]
  },
  {
   "cell_type": "code",
   "execution_count": 10,
   "metadata": {
    "ExecuteTime": {
     "end_time": "2019-05-13T00:42:32.273782Z",
     "start_time": "2019-05-13T00:42:32.265918Z"
    }
   },
   "outputs": [
    {
     "data": {
      "text/plain": [
       "32"
      ]
     },
     "execution_count": 10,
     "metadata": {},
     "output_type": "execute_result"
    },
    {
     "data": {
      "text/plain": [
       "243"
      ]
     },
     "execution_count": 10,
     "metadata": {},
     "output_type": "execute_result"
    }
   ],
   "source": [
    "max_num_objects = 2 ** m\n",
    "max_num_objects\n",
    "\n",
    "max_num_partial_fvs = (2 + 1) ** m\n",
    "max_num_partial_fvs"
   ]
  },
  {
   "cell_type": "code",
   "execution_count": 11,
   "metadata": {
    "ExecuteTime": {
     "end_time": "2019-05-13T00:42:32.276787Z",
     "start_time": "2019-05-13T00:42:32.274809Z"
    }
   },
   "outputs": [],
   "source": [
    "def make_random_pfv():\n",
    "    return np.random.randint(3, size=m, dtype=myint) - 1"
   ]
  },
  {
   "cell_type": "code",
   "execution_count": 12,
   "metadata": {
    "ExecuteTime": {
     "end_time": "2019-05-13T00:42:32.281836Z",
     "start_time": "2019-05-13T00:42:32.277850Z"
    }
   },
   "outputs": [
    {
     "data": {
      "text/plain": [
       "32"
      ]
     },
     "execution_count": 12,
     "metadata": {},
     "output_type": "execute_result"
    },
    {
     "data": {
      "text/plain": [
       "9"
      ]
     },
     "execution_count": 12,
     "metadata": {},
     "output_type": "execute_result"
    }
   ],
   "source": [
    "max_num_objects\n",
    "actual_num_objects = np.random.randint(max_num_objects)\n",
    "# actual_num_objects = 40\n",
    "actual_num_objects\n",
    "\n",
    "assert actual_num_objects < max_num_objects"
   ]
  },
  {
   "cell_type": "code",
   "execution_count": 13,
   "metadata": {
    "ExecuteTime": {
     "end_time": "2019-05-13T00:42:32.289016Z",
     "start_time": "2019-05-13T00:42:32.282794Z"
    }
   },
   "outputs": [
    {
     "data": {
      "text/plain": [
       "9"
      ]
     },
     "execution_count": 13,
     "metadata": {},
     "output_type": "execute_result"
    },
    {
     "data": {
      "text/plain": [
       "(array([-1, -1,  1,  1, -1]),\n",
       " array([-1,  1,  1, -1, -1]),\n",
       " array([-1,  1,  1,  1, -1]),\n",
       " array([-1,  1, -1,  1, -1]),\n",
       " array([-1, -1, -1, -1,  1]),\n",
       " array([ 1, -1,  1, -1, -1]),\n",
       " array([1, 1, 1, 1, 1]),\n",
       " array([-1,  1, -1, -1,  1]),\n",
       " array([ 1, -1, -1, -1,  1]))"
      ]
     },
     "execution_count": 13,
     "metadata": {},
     "output_type": "execute_result"
    }
   ],
   "source": [
    "objects = tuple(set([tuple(np.random.randint(2, size=m)) for each in range(actual_num_objects)]))\n",
    "objects = tuple(map(np.array, objects))\n",
    "l = len(objects)\n",
    "\n",
    "def zeroToMinusOne(u):\n",
    "    return np.array([x if x == 1 else -1 for x in u])\n",
    "\n",
    "objects = tuple([zeroToMinusOne(o) for o in objects])\n",
    "\n",
    "\n",
    "actual_num_objects = len(objects)\n",
    "actual_num_objects\n",
    "objects"
   ]
  },
  {
   "cell_type": "code",
   "execution_count": 14,
   "metadata": {
    "ExecuteTime": {
     "end_time": "2019-05-13T00:42:32.294952Z",
     "start_time": "2019-05-13T00:42:32.290175Z"
    }
   },
   "outputs": [
    {
     "data": {
      "text/plain": [
       "(9, 5)"
      ]
     },
     "execution_count": 14,
     "metadata": {},
     "output_type": "execute_result"
    },
    {
     "data": {
      "text/plain": [
       "array([[-1, -1,  1,  1, -1],\n",
       "       [-1,  1,  1, -1, -1],\n",
       "       [-1,  1,  1,  1, -1],\n",
       "       [-1,  1, -1,  1, -1],\n",
       "       [-1, -1, -1, -1,  1],\n",
       "       [ 1, -1,  1, -1, -1],\n",
       "       [ 1,  1,  1,  1,  1],\n",
       "       [-1,  1, -1, -1,  1],\n",
       "       [ 1, -1, -1, -1,  1]])"
      ]
     },
     "execution_count": 14,
     "metadata": {},
     "output_type": "execute_result"
    },
    {
     "data": {
      "text/plain": [
       "array([-1, -1,  1,  1, -1])"
      ]
     },
     "execution_count": 14,
     "metadata": {},
     "output_type": "execute_result"
    }
   ],
   "source": [
    "objectMap = np.array([objects[i] for i in range(l)])\n",
    "objectMap.shape\n",
    "objectMap\n",
    "objectMap[0]\n",
    "\n",
    "O = objectMap"
   ]
  },
  {
   "cell_type": "markdown",
   "metadata": {},
   "source": [
    "## Read-in"
   ]
  },
  {
   "cell_type": "code",
   "execution_count": null,
   "metadata": {},
   "outputs": [],
   "source": []
  },
  {
   "cell_type": "code",
   "execution_count": 15,
   "metadata": {
    "ExecuteTime": {
     "end_time": "2019-05-13T00:42:32.297507Z",
     "start_time": "2019-05-13T00:42:32.295946Z"
    }
   },
   "outputs": [],
   "source": [
    "# m = 5"
   ]
  },
  {
   "cell_type": "code",
   "execution_count": 16,
   "metadata": {
    "ExecuteTime": {
     "end_time": "2019-05-13T00:42:32.301629Z",
     "start_time": "2019-05-13T00:42:32.298662Z"
    }
   },
   "outputs": [],
   "source": [
    "# O = "
   ]
  },
  {
   "cell_type": "markdown",
   "metadata": {},
   "source": [
    "# Operations "
   ]
  },
  {
   "cell_type": "markdown",
   "metadata": {},
   "source": [
    "## Make generator vectors"
   ]
  },
  {
   "cell_type": "code",
   "execution_count": 17,
   "metadata": {
    "ExecuteTime": {
     "end_time": "2019-05-13T00:42:32.305973Z",
     "start_time": "2019-05-13T00:42:32.302780Z"
    }
   },
   "outputs": [],
   "source": [
    "def make_generator_vectors(num_features):\n",
    "    basis_vectors = [np.zeros(num_features, dtype=myint) for each in range(num_features)]\n",
    "    basis_vectors_neg = [np.zeros(num_features, dtype=myint) for each in range(num_features)]\n",
    "    for i,v in enumerate(basis_vectors):\n",
    "        v[i] = 1\n",
    "    for i,v in enumerate(basis_vectors_neg):\n",
    "        v[i] = -1\n",
    "    generators = basis_vectors + basis_vectors_neg\n",
    "    return generators"
   ]
  },
  {
   "cell_type": "code",
   "execution_count": 18,
   "metadata": {
    "ExecuteTime": {
     "end_time": "2019-05-13T00:42:32.312268Z",
     "start_time": "2019-05-13T00:42:32.306964Z"
    }
   },
   "outputs": [
    {
     "data": {
      "text/plain": [
       "[array([1, 0, 0, 0, 0], dtype=int8),\n",
       " array([0, 1, 0, 0, 0], dtype=int8),\n",
       " array([0, 0, 1, 0, 0], dtype=int8),\n",
       " array([0, 0, 0, 1, 0], dtype=int8),\n",
       " array([0, 0, 0, 0, 1], dtype=int8),\n",
       " array([-1,  0,  0,  0,  0], dtype=int8),\n",
       " array([ 0, -1,  0,  0,  0], dtype=int8),\n",
       " array([ 0,  0, -1,  0,  0], dtype=int8),\n",
       " array([ 0,  0,  0, -1,  0], dtype=int8),\n",
       " array([ 0,  0,  0,  0, -1], dtype=int8)]"
      ]
     },
     "execution_count": 18,
     "metadata": {},
     "output_type": "execute_result"
    }
   ],
   "source": [
    "generators = make_generator_vectors(m)\n",
    "generators"
   ]
  },
  {
   "cell_type": "code",
   "execution_count": 19,
   "metadata": {
    "ExecuteTime": {
     "end_time": "2019-05-13T00:42:32.314701Z",
     "start_time": "2019-05-13T00:42:32.313301Z"
    }
   },
   "outputs": [],
   "source": [
    "# max_num_objects = 2 ** m\n",
    "# max_num_objects\n",
    "\n",
    "# max_num_partial_fvs = (2 + 1) ** m\n",
    "# max_num_partial_fvs"
   ]
  },
  {
   "cell_type": "markdown",
   "metadata": {},
   "source": [
    "## Boilerplate"
   ]
  },
  {
   "cell_type": "code",
   "execution_count": 20,
   "metadata": {
    "ExecuteTime": {
     "end_time": "2019-05-13T00:42:32.319010Z",
     "start_time": "2019-05-13T00:42:32.315678Z"
    }
   },
   "outputs": [],
   "source": [
    "def wf_pfv(v):\n",
    "    allowedValues = {-1,0,1}\n",
    "    return all([x in allowedValues for x in v])"
   ]
  },
  {
   "cell_type": "code",
   "execution_count": 21,
   "metadata": {
    "ExecuteTime": {
     "end_time": "2019-05-13T00:42:32.323997Z",
     "start_time": "2019-05-13T00:42:32.319982Z"
    }
   },
   "outputs": [],
   "source": [
    "def wf_tfv(v):\n",
    "    allowedValues = {-1,1}\n",
    "    return all([x in allowedValues for x in v])"
   ]
  },
  {
   "cell_type": "code",
   "execution_count": 22,
   "metadata": {
    "ExecuteTime": {
     "end_time": "2019-05-13T00:42:32.328594Z",
     "start_time": "2019-05-13T00:42:32.325129Z"
    }
   },
   "outputs": [],
   "source": [
    "def uniquify(ndarray_iterable):\n",
    "    tuples = [tuple(a) for a in ndarray_iterable]\n",
    "    s = set(tuples)\n",
    "    arrays = [np.array(t) for t in s]\n",
    "    return arrays"
   ]
  },
  {
   "cell_type": "markdown",
   "metadata": {},
   "source": [
    "## Agreement"
   ]
  },
  {
   "cell_type": "code",
   "execution_count": 23,
   "metadata": {
    "ExecuteTime": {
     "end_time": "2019-05-13T00:42:32.334048Z",
     "start_time": "2019-05-13T00:42:32.329616Z"
    }
   },
   "outputs": [],
   "source": [
    "def ag(x,y):\n",
    "    '''\n",
    "    Formula:\n",
    "    (x == 0 or y == 0) or ((x != 0 and y != 0) and (x == y)), where T = 1 and F = 0\n",
    "    \n",
    "    Pattern:\n",
    "    x = x ⟶ 1\n",
    "    0 = _ ⟶ 1\n",
    "    _ = 0 ⟶ 1\n",
    "    _ = _ ⟶ 0\n",
    "    '''\n",
    "    if x == y:\n",
    "        return True\n",
    "    elif x == 0:\n",
    "        return True\n",
    "    elif y == 0:\n",
    "        return True\n",
    "    else:\n",
    "        return False"
   ]
  },
  {
   "cell_type": "code",
   "execution_count": 24,
   "metadata": {
    "ExecuteTime": {
     "end_time": "2019-05-13T00:42:32.339012Z",
     "start_time": "2019-05-13T00:42:32.336213Z"
    }
   },
   "outputs": [],
   "source": [
    "def agree(u,v):\n",
    "    '''\n",
    "    Given two vectors u and v, returns a binary vector indicating,\n",
    "    elementwise, whether u and v 'agree'.\n",
    "    \n",
    "    agree(u[i], v[i]) iff (u[i] == 0 or v[i] == 0) or (u[i] == v[i])\n",
    "    '''\n",
    "#     return np.array([True if (u[i] == 0 or v[i] == 0) or (u[i] == v[i]) else False \n",
    "#                      for i in range(len(u))])\n",
    "    return np.array([1 if (u[i] == 0 or v[i] == 0) or (u[i] == v[i]) else 0 \n",
    "                     for i in range(len(u))], dtype=myint)"
   ]
  },
  {
   "cell_type": "code",
   "execution_count": 25,
   "metadata": {
    "ExecuteTime": {
     "end_time": "2019-05-13T00:42:32.343118Z",
     "start_time": "2019-05-13T00:42:32.340994Z"
    }
   },
   "outputs": [],
   "source": [
    "def agree_(u,v):\n",
    "    '''\n",
    "    Given two vectors u and v, return 1 iff u and v agree at all indices\n",
    "    and 0 otherwise.\n",
    "    '''\n",
    "    ag = agree(u,v)\n",
    "    return int(ag.all())"
   ]
  },
  {
   "cell_type": "code",
   "execution_count": 26,
   "metadata": {
    "ExecuteTime": {
     "end_time": "2019-05-13T00:42:32.349160Z",
     "start_time": "2019-05-13T00:42:32.344101Z"
    }
   },
   "outputs": [],
   "source": [
    "def agree_mat(A,B):\n",
    "    '''\n",
    "    Given two matrices A::(n,m) and B::(n,m), \n",
    "    return C::(n,1) where \n",
    "    C[i] = 1 iff A[i] and B[i] agree at all indices\n",
    "    and 0 otherwise.\n",
    "    '''\n",
    "    # (x == 0 or y == 0) or ((x != 0 and y != 0) and (x == y))\n",
    "    A_unspecified = A == 0\n",
    "    B_unspecified = B == 0\n",
    "    A_or_B_unspecified = A_unspecified | B_unspecified\n",
    "    \n",
    "    A_specified = A != 0\n",
    "    B_specified = B != 0\n",
    "    A_and_B_specified = A_specified & B_specified\n",
    "    A_equal_B = np.equal(A,B)\n",
    "    A_B_both_specified_and_equal = A_and_B_specified & A_equal_B\n",
    "\n",
    "    ag = A_or_B_unspecified | A_B_both_specified_and_equal\n",
    "#     return ag\n",
    "    result = np.prod(ag, axis=-1, dtype=myint)\n",
    "    return result"
   ]
  },
  {
   "cell_type": "code",
   "execution_count": 27,
   "metadata": {
    "ExecuteTime": {
     "end_time": "2019-05-13T00:42:32.355374Z",
     "start_time": "2019-05-13T00:42:32.350342Z"
    }
   },
   "outputs": [],
   "source": [
    "def make_agreeing_vector_pair(pred=None):\n",
    "    u = make_random_pfv()\n",
    "    v = make_random_pfv()\n",
    "    if pred is None:\n",
    "        while not agree_(u,v):\n",
    "            u = make_random_pfv()\n",
    "            v = make_random_pfv()\n",
    "        return u,v\n",
    "    while not agree_(u,v) and not pred(u,v):\n",
    "        u = make_random_pfv()\n",
    "        v = make_random_pfv()\n",
    "    return u,v"
   ]
  },
  {
   "cell_type": "code",
   "execution_count": 28,
   "metadata": {
    "ExecuteTime": {
     "end_time": "2019-05-13T00:42:32.999122Z",
     "start_time": "2019-05-13T00:42:32.356347Z"
    }
   },
   "outputs": [
    {
     "data": {
      "text/plain": [
       "100000"
      ]
     },
     "execution_count": 28,
     "metadata": {},
     "output_type": "execute_result"
    }
   ],
   "source": [
    "num_test_pairs = int(1e5)\n",
    "random_vector_pairs = [(make_random_pfv(), make_random_pfv()) for each in range(num_test_pairs)]\n",
    "len(random_vector_pairs)"
   ]
  },
  {
   "cell_type": "code",
   "execution_count": 29,
   "metadata": {
    "ExecuteTime": {
     "end_time": "2019-05-13T00:42:41.074041Z",
     "start_time": "2019-05-13T00:42:33.000243Z"
    }
   },
   "outputs": [
    {
     "data": {
      "text/plain": [
       "100000"
      ]
     },
     "execution_count": 29,
     "metadata": {},
     "output_type": "execute_result"
    }
   ],
   "source": [
    "num_test_pairs = int(1e5)\n",
    "agreeing_vector_pairs = [make_agreeing_vector_pair() for each in range(num_test_pairs)]\n",
    "len(agreeing_vector_pairs)"
   ]
  },
  {
   "cell_type": "code",
   "execution_count": 30,
   "metadata": {
    "ExecuteTime": {
     "end_time": "2019-05-13T00:42:41.133040Z",
     "start_time": "2019-05-13T00:42:41.075065Z"
    }
   },
   "outputs": [
    {
     "data": {
      "text/plain": [
       "dtype('int8')"
      ]
     },
     "execution_count": 30,
     "metadata": {},
     "output_type": "execute_result"
    },
    {
     "data": {
      "text/plain": [
       "dtype('int8')"
      ]
     },
     "execution_count": 30,
     "metadata": {},
     "output_type": "execute_result"
    }
   ],
   "source": [
    "first = lambda seq: seq[0]\n",
    "second = lambda seq: seq[1]\n",
    "\n",
    "stack_a, stack_b = list(map(first, random_vector_pairs)), list(map(second, random_vector_pairs))\n",
    "random_pair_stack_a, random_pair_stack_b = np.array(stack_a), np.array(stack_b)\n",
    "random_pair_stack_a.dtype\n",
    "random_pair_stack_b.dtype"
   ]
  },
  {
   "cell_type": "code",
   "execution_count": 31,
   "metadata": {
    "ExecuteTime": {
     "end_time": "2019-05-13T00:42:41.195751Z",
     "start_time": "2019-05-13T00:42:41.134115Z"
    }
   },
   "outputs": [
    {
     "data": {
      "text/plain": [
       "dtype('int8')"
      ]
     },
     "execution_count": 31,
     "metadata": {},
     "output_type": "execute_result"
    },
    {
     "data": {
      "text/plain": [
       "dtype('int8')"
      ]
     },
     "execution_count": 31,
     "metadata": {},
     "output_type": "execute_result"
    }
   ],
   "source": [
    "stack_a, stack_b = list(map(first, agreeing_vector_pairs)), list(map(second, agreeing_vector_pairs))\n",
    "agreeing_pair_stack_a, agreeing_pair_stack_b = np.array(stack_a), np.array(stack_b)\n",
    "agreeing_pair_stack_a.dtype\n",
    "agreeing_pair_stack_b.dtype"
   ]
  },
  {
   "cell_type": "code",
   "execution_count": 32,
   "metadata": {
    "ExecuteTime": {
     "end_time": "2019-05-13T00:42:52.975688Z",
     "start_time": "2019-05-13T00:42:41.196745Z"
    }
   },
   "outputs": [
    {
     "name": "stdout",
     "output_type": "stream",
     "text": [
      "1.47 s ± 2.84 ms per loop (mean ± std. dev. of 7 runs, 1 loop each)\n"
     ]
    }
   ],
   "source": [
    "%%timeit\n",
    "\n",
    "list(starmap(agree_, random_vector_pairs));"
   ]
  },
  {
   "cell_type": "code",
   "execution_count": 33,
   "metadata": {
    "ExecuteTime": {
     "end_time": "2019-05-13T00:42:55.197020Z",
     "start_time": "2019-05-13T00:42:52.976716Z"
    }
   },
   "outputs": [
    {
     "name": "stdout",
     "output_type": "stream",
     "text": [
      "2.73 ms ± 4.81 µs per loop (mean ± std. dev. of 7 runs, 100 loops each)\n"
     ]
    }
   ],
   "source": [
    "%%timeit\n",
    "\n",
    "agree_mat(random_pair_stack_a, random_pair_stack_b)"
   ]
  },
  {
   "cell_type": "code",
   "execution_count": 34,
   "metadata": {
    "ExecuteTime": {
     "end_time": "2019-05-13T00:42:56.679287Z",
     "start_time": "2019-05-13T00:42:55.198100Z"
    }
   },
   "outputs": [
    {
     "data": {
      "text/plain": [
       "True"
      ]
     },
     "execution_count": 34,
     "metadata": {},
     "output_type": "execute_result"
    }
   ],
   "source": [
    "np.array_equal(agree_mat(random_pair_stack_a, random_pair_stack_b), \n",
    "               list(starmap(agree_, random_vector_pairs)))"
   ]
  },
  {
   "cell_type": "code",
   "execution_count": 35,
   "metadata": {
    "ExecuteTime": {
     "end_time": "2019-05-13T00:42:59.368921Z",
     "start_time": "2019-05-13T00:42:56.680419Z"
    }
   },
   "outputs": [],
   "source": [
    "n = num_test_pairs\n",
    "for i in range(n):\n",
    "    u = random_pair_stack_a[i]\n",
    "    v = random_pair_stack_b[i]\n",
    "    assert agree_(u,v) == agree_mat(u,v), '{0}, {1} -> {2} vs. {3}'.format(u,v, agree_(u,v), agree_mat(u,v, True))"
   ]
  },
  {
   "cell_type": "code",
   "execution_count": 36,
   "metadata": {
    "ExecuteTime": {
     "end_time": "2019-05-13T00:42:59.371602Z",
     "start_time": "2019-05-13T00:42:59.369934Z"
    }
   },
   "outputs": [],
   "source": [
    "agreement = agree_mat"
   ]
  },
  {
   "cell_type": "markdown",
   "metadata": {},
   "source": [
    "## Union"
   ]
  },
  {
   "cell_type": "code",
   "execution_count": 37,
   "metadata": {
    "ExecuteTime": {
     "end_time": "2019-05-13T00:42:59.392418Z",
     "start_time": "2019-05-13T00:42:59.372798Z"
    }
   },
   "outputs": [
    {
     "data": {
      "text/plain": [
       "((-1, -1), (-1, 0), (-1, 1), (0, -1), (0, 0), (0, 1), (1, -1), (1, 0), (1, 1))"
      ]
     },
     "execution_count": 37,
     "metadata": {},
     "output_type": "execute_result"
    },
    {
     "data": {
      "text/plain": [
       "((-1, -1), -1)"
      ]
     },
     "execution_count": 37,
     "metadata": {},
     "output_type": "execute_result"
    },
    {
     "data": {
      "text/plain": [
       "((-1, 0), -1)"
      ]
     },
     "execution_count": 37,
     "metadata": {},
     "output_type": "execute_result"
    },
    {
     "data": {
      "text/plain": [
       "((-1, 1), 0)"
      ]
     },
     "execution_count": 37,
     "metadata": {},
     "output_type": "execute_result"
    },
    {
     "data": {
      "text/plain": [
       "((0, -1), -1)"
      ]
     },
     "execution_count": 37,
     "metadata": {},
     "output_type": "execute_result"
    },
    {
     "data": {
      "text/plain": [
       "((0, 0), 0)"
      ]
     },
     "execution_count": 37,
     "metadata": {},
     "output_type": "execute_result"
    },
    {
     "data": {
      "text/plain": [
       "((0, 1), 1)"
      ]
     },
     "execution_count": 37,
     "metadata": {},
     "output_type": "execute_result"
    },
    {
     "data": {
      "text/plain": [
       "((1, -1), 0)"
      ]
     },
     "execution_count": 37,
     "metadata": {},
     "output_type": "execute_result"
    },
    {
     "data": {
      "text/plain": [
       "((1, 0), 1)"
      ]
     },
     "execution_count": 37,
     "metadata": {},
     "output_type": "execute_result"
    },
    {
     "data": {
      "text/plain": [
       "((1, 1), 1)"
      ]
     },
     "execution_count": 37,
     "metadata": {},
     "output_type": "execute_result"
    }
   ],
   "source": [
    "XYs = tuple(product((-1,0,1), (-1,0,1)))\n",
    "XYs\n",
    "\n",
    "def cup(x,y):\n",
    "    '''\n",
    "    Formula:\n",
    "    x or y, where 1 = T, -1 = T, 0 = F\n",
    "    \n",
    "    Algebra:\n",
    "    0 is the identity ∀x ∈ {-1,0,+1}\n",
    "    x is its own identity ∀x ∈ {-1,0,+1}\n",
    "    (-1 and +1 are mutual inverses, but this case shouldn't occur when agree(x,y) holds)\n",
    "    \n",
    "    Pattern:\n",
    "    x ∪ x = x\n",
    "    \n",
    "    0 ∪ y = y\n",
    "    x ∪ 0 = x\n",
    "    \n",
    "    _ ∪ _ = 0  \\\\ <- shouldn't occur in two pfvs that agree\n",
    "    '''\n",
    "    if x == 0:  #if x is unspecified, return y\n",
    "        return y\n",
    "    elif y == 0: #if y is unspecified, return x\n",
    "        return x\n",
    "    elif x == y: #if both are specified and the same, return their common value\n",
    "        return x\n",
    "    else: #otherwise return 0\n",
    "        return 0\n",
    "\n",
    "for x,y in XYs:\n",
    "    ((x,y), cup(x,y))"
   ]
  },
  {
   "cell_type": "code",
   "execution_count": 38,
   "metadata": {
    "ExecuteTime": {
     "end_time": "2019-05-13T00:42:59.395403Z",
     "start_time": "2019-05-13T00:42:59.393382Z"
    }
   },
   "outputs": [],
   "source": [
    "def union(u, v):\n",
    "    if CAREFUL:\n",
    "        assert agree_(u,v)\n",
    "    return np.sign(u + v)"
   ]
  },
  {
   "cell_type": "markdown",
   "metadata": {},
   "source": [
    "## Intersection"
   ]
  },
  {
   "cell_type": "code",
   "execution_count": 39,
   "metadata": {
    "ExecuteTime": {
     "end_time": "2019-05-13T00:42:59.412213Z",
     "start_time": "2019-05-13T00:42:59.396578Z"
    }
   },
   "outputs": [
    {
     "data": {
      "text/plain": [
       "((-1, -1), (-1, 0), (-1, 1), (0, -1), (0, 0), (0, 1), (1, -1), (1, 0), (1, 1))"
      ]
     },
     "execution_count": 39,
     "metadata": {},
     "output_type": "execute_result"
    },
    {
     "data": {
      "text/plain": [
       "((-1, -1), -1, -1)"
      ]
     },
     "execution_count": 39,
     "metadata": {},
     "output_type": "execute_result"
    },
    {
     "data": {
      "text/plain": [
       "((-1, 0), 0, 0)"
      ]
     },
     "execution_count": 39,
     "metadata": {},
     "output_type": "execute_result"
    },
    {
     "data": {
      "text/plain": [
       "((-1, 1), 0, 0)"
      ]
     },
     "execution_count": 39,
     "metadata": {},
     "output_type": "execute_result"
    },
    {
     "data": {
      "text/plain": [
       "((0, -1), 0, 0)"
      ]
     },
     "execution_count": 39,
     "metadata": {},
     "output_type": "execute_result"
    },
    {
     "data": {
      "text/plain": [
       "((0, 0), 0, 0)"
      ]
     },
     "execution_count": 39,
     "metadata": {},
     "output_type": "execute_result"
    },
    {
     "data": {
      "text/plain": [
       "((0, 1), 0, 0)"
      ]
     },
     "execution_count": 39,
     "metadata": {},
     "output_type": "execute_result"
    },
    {
     "data": {
      "text/plain": [
       "((1, -1), 0, 0)"
      ]
     },
     "execution_count": 39,
     "metadata": {},
     "output_type": "execute_result"
    },
    {
     "data": {
      "text/plain": [
       "((1, 0), 0, 0)"
      ]
     },
     "execution_count": 39,
     "metadata": {},
     "output_type": "execute_result"
    },
    {
     "data": {
      "text/plain": [
       "((1, 1), 1, 1)"
      ]
     },
     "execution_count": 39,
     "metadata": {},
     "output_type": "execute_result"
    }
   ],
   "source": [
    "XYs = tuple(product((-1,0,1), (-1,0,1)))\n",
    "XYs \n",
    "    \n",
    "def cap(x,y):\n",
    "    '''\n",
    "    Algebra:\n",
    "    0 is the annihilating element ∀x ∈ {-1,0,+1}\n",
    "    x is its own identity ∀x ∈ {-1,0,+1}\n",
    "    -1 and +1 annihilate each other\n",
    "    \n",
    "    Pattern:\n",
    "    x ∩ x = x\n",
    "    \n",
    "    0 ∩ _ = 0\n",
    "    _ ∩ 0 = 0\n",
    "    \n",
    "    _ ∩ _ = 0\n",
    "    '''\n",
    "    if x == 0: #if x is unspecified, return 0\n",
    "        return 0\n",
    "    elif y == 0: #if y is unspecified, return 0\n",
    "        return 0\n",
    "    elif x == y: #if both are specified and the same, return their common value\n",
    "        return x\n",
    "    else: #otherwise return 0\n",
    "        return 0\n",
    "\n",
    "def foo(x,y):\n",
    "    return np.sign( (x == y) * (x + y) )\n",
    "\n",
    "# def bar(x,y):\n",
    "#     return (x == y) * (x + y) * 0.5\n",
    "\n",
    "# def baz(x,y):\n",
    "#     return (x == y) * int((x + y) / 2)\n",
    "\n",
    "for x,y in XYs:\n",
    "#     ((x,y), cap(x,y))\n",
    "#     ((x,y), cap(x,y), foo(x,y), bar(x,y), baz(x,y))\n",
    "    ((x,y), cap(x,y), foo(x,y))"
   ]
  },
  {
   "cell_type": "code",
   "execution_count": 40,
   "metadata": {
    "ExecuteTime": {
     "end_time": "2019-05-13T00:42:59.415071Z",
     "start_time": "2019-05-13T00:42:59.413157Z"
    }
   },
   "outputs": [],
   "source": [
    "def intersection(u, v):\n",
    "    return np.sign(  np.equal(u, v) * (u + v) )"
   ]
  },
  {
   "cell_type": "markdown",
   "metadata": {},
   "source": [
    "## Extension"
   ]
  },
  {
   "cell_type": "code",
   "execution_count": 41,
   "metadata": {
    "ExecuteTime": {
     "end_time": "2019-05-13T00:42:59.418916Z",
     "start_time": "2019-05-13T00:42:59.416193Z"
    }
   },
   "outputs": [],
   "source": [
    "def getIndex(o, O):\n",
    "    matches = [i for i,v in enumerate(O) if np.array_equal(v,o)]\n",
    "    if len(matches) == 0:\n",
    "        return -1\n",
    "    if CAREFUL:\n",
    "        assert len(matches) == 1\n",
    "    return matches[0]"
   ]
  },
  {
   "cell_type": "code",
   "execution_count": 42,
   "metadata": {
    "ExecuteTime": {
     "end_time": "2019-05-13T00:42:59.424230Z",
     "start_time": "2019-05-13T00:42:59.419978Z"
    }
   },
   "outputs": [],
   "source": [
    "def makeExtensionVector(positive_Indices, O):\n",
    "    return np.array([1 if i in positive_Indices else 0 for i in np.arange(O.shape[0])], dtype=myint)"
   ]
  },
  {
   "cell_type": "code",
   "execution_count": 43,
   "metadata": {
    "ExecuteTime": {
     "end_time": "2019-05-13T00:42:59.430051Z",
     "start_time": "2019-05-13T00:42:59.425414Z"
    }
   },
   "outputs": [],
   "source": [
    "def extension(v, O, asIndexVector=True):\n",
    "    '''\n",
    "    The extension of a partial feature vector v is the set of object vectors\n",
    "    (= fully specified, or 'total' feature vectors) that 'agree' with it.\n",
    "    '''\n",
    "    matches = tuple([o for o in O if agree_(v,o)])\n",
    "#     matches = tuple([o for o in objects if agree(v,o).all()])\n",
    "#     matches = np.array([1.0 if np.linalg.norm(agree(v,o), 1) == num_features else 0.0 for o in objects])\n",
    "    if asIndexVector:\n",
    "        return makeExtensionVector([getIndex(o, O) for o in matches], O)\n",
    "    return matches"
   ]
  },
  {
   "cell_type": "code",
   "execution_count": 44,
   "metadata": {
    "ExecuteTime": {
     "end_time": "2019-05-13T00:42:59.434574Z",
     "start_time": "2019-05-13T00:42:59.431064Z"
    }
   },
   "outputs": [],
   "source": [
    "def ramp(M):\n",
    "    return np.heaviside(M-1, 1).astype(myint)\n",
    "\n",
    "def primed(p):\n",
    "    mag_p = np.sum(np.abs(p))\n",
    "    return p / mag_p\n",
    "\n",
    "def extension_alt3(s, O):\n",
    "    if np.array_equal(s, np.zeros(s.shape)):\n",
    "        return np.ones((l,), dtype=myint)\n",
    "    p = s\n",
    "#     mag_p = np.sum(np.abs(p))\n",
    "#     p_prime = p / mag_p\n",
    "    return ramp( np.dot(O, primed(p)) )"
   ]
  },
  {
   "cell_type": "code",
   "execution_count": 45,
   "metadata": {
    "ExecuteTime": {
     "end_time": "2019-05-13T00:42:59.439614Z",
     "start_time": "2019-05-13T00:42:59.435868Z"
    }
   },
   "outputs": [],
   "source": [
    "def extension_(pfv, O):\n",
    "    return agree_mat(pfv, O)"
   ]
  },
  {
   "cell_type": "code",
   "execution_count": 46,
   "metadata": {
    "ExecuteTime": {
     "end_time": "2019-05-13T00:42:59.910212Z",
     "start_time": "2019-05-13T00:42:59.440761Z"
    }
   },
   "outputs": [
    {
     "name": "stderr",
     "output_type": "stream",
     "text": [
      "100%|██████████| 100000/100000 [00:00<00:00, 215829.43it/s]\n"
     ]
    },
    {
     "data": {
      "text/plain": [
       "100000"
      ]
     },
     "execution_count": 46,
     "metadata": {},
     "output_type": "execute_result"
    }
   ],
   "source": [
    "num_test_pairs = int(1e5)\n",
    "random_vectors = [make_random_pfv() for each in tqdm(range(num_test_pairs))]\n",
    "len(random_vectors)"
   ]
  },
  {
   "cell_type": "code",
   "execution_count": 47,
   "metadata": {
    "ExecuteTime": {
     "end_time": "2019-05-13T00:45:38.595150Z",
     "start_time": "2019-05-13T00:42:59.911167Z"
    }
   },
   "outputs": [
    {
     "name": "stdout",
     "output_type": "stream",
     "text": [
      "19.8 s ± 56.8 ms per loop (mean ± std. dev. of 7 runs, 1 loop each)\n"
     ]
    }
   ],
   "source": [
    "%%timeit\n",
    "\n",
    "list(map(lambda v: extension(v, O), random_vectors))"
   ]
  },
  {
   "cell_type": "code",
   "execution_count": 48,
   "metadata": {
    "ExecuteTime": {
     "end_time": "2019-05-13T00:45:50.292406Z",
     "start_time": "2019-05-13T00:45:38.596172Z"
    }
   },
   "outputs": [
    {
     "name": "stdout",
     "output_type": "stream",
     "text": [
      "1.46 s ± 2.66 ms per loop (mean ± std. dev. of 7 runs, 1 loop each)\n"
     ]
    }
   ],
   "source": [
    "%%timeit\n",
    "\n",
    "list(map(lambda v: extension_alt3(v, O), random_vectors))"
   ]
  },
  {
   "cell_type": "code",
   "execution_count": 49,
   "metadata": {
    "ExecuteTime": {
     "end_time": "2019-05-13T00:46:00.322764Z",
     "start_time": "2019-05-13T00:45:50.293409Z"
    }
   },
   "outputs": [
    {
     "name": "stdout",
     "output_type": "stream",
     "text": [
      "1.24 s ± 12.5 ms per loop (mean ± std. dev. of 7 runs, 1 loop each)\n"
     ]
    }
   ],
   "source": [
    "%%timeit\n",
    "\n",
    "list(map(lambda v: extension_(v,O), random_vectors))"
   ]
  },
  {
   "cell_type": "code",
   "execution_count": 50,
   "metadata": {
    "ExecuteTime": {
     "end_time": "2019-05-13T00:46:00.325575Z",
     "start_time": "2019-05-13T00:46:00.323775Z"
    }
   },
   "outputs": [],
   "source": [
    "interpretation = extension_"
   ]
  },
  {
   "cell_type": "markdown",
   "metadata": {},
   "source": [
    "## Entailed pfvs"
   ]
  },
  {
   "cell_type": "code",
   "execution_count": 51,
   "metadata": {
    "ExecuteTime": {
     "end_time": "2019-05-13T00:46:00.341058Z",
     "start_time": "2019-05-13T00:46:00.326772Z"
    }
   },
   "outputs": [],
   "source": [
    "def specifiable_zero_indices(p, ext_p):\n",
    "    '''\n",
    "    Given p and A::(n,m) = ⟦p⟧:\n",
    "    \n",
    "    If p_j = 0 and ∀i A_{i,j} = k≠0, then\n",
    "    p_j is unspecified (i.e. p_j = 0) but \n",
    "    can be set to k and yield a co-extensive \n",
    "    and more specific pfv p'. (NB: p' entails \n",
    "    p.)\n",
    "    \n",
    "    This function returns a list of (index, value) pairs\n",
    "    indicating the set of 0-valued indices of p that can \n",
    "    be specified, plus what the common value at that index is.\n",
    "    \n",
    "    Correctly specifying any one or any combination\n",
    "    of the indices in this list of indices will result\n",
    "    in a more specific vector than p that is coextensive.\n",
    "    \n",
    "    From this list, you can construct (or count) all of the\n",
    "    more specified pfvs that are coextensive with p.\n",
    "    '''\n",
    "    A = ext_p\n",
    "    n = A.shape[0]\n",
    "    if n == 0:\n",
    "        return set()\n",
    "    n_opp = -1.0 * n\n",
    "#     zeros = np.nonzero(p)[0]\n",
    "    zero_indices = np.array(tuple(  set(range(len(p))) - set(np.nonzero(p)[0])  ), dtype=myint)\n",
    "    specifiable_indices = set()\n",
    "    for j in zero_indices:\n",
    "        j_col_sum = np.sum(A[:,j])\n",
    "        if j_col_sum == n:\n",
    "            specifiable_indices.add((j, 1))\n",
    "        if j_col_sum == n_opp:\n",
    "            specifiable_indices.add((j, -1))\n",
    "    return specifiable_indices\n",
    "\n",
    "def specify(p, specs):\n",
    "    '''\n",
    "    Given a partial feature vector p and a set of\n",
    "        (index i, non-zero value v)\n",
    "    pairs where p_i ≠ 0, returns a more specific p'\n",
    "    where p'_i = v as indicated by spec.\n",
    "    '''\n",
    "    p_prime = p.copy()\n",
    "    for i,v in specs:\n",
    "        p_prime[i] = v\n",
    "    return p_prime\n",
    "\n",
    "def entailed_pfvs(p, O, no_total_fvs = True):\n",
    "    '''\n",
    "    Given a partial feature vector p and a set of objects\n",
    "    (total feature vectors) O, this returns the set of\n",
    "    partial feature vectors that are strictly more specific\n",
    "    than p that have the same extension in O.\n",
    "    '''\n",
    "    x_p = np.array(extension(p, O, False))\n",
    "    specifiable_indices = specifiable_zero_indices(p, x_p)\n",
    "    num_specifiable_indices = len(specifiable_indices)\n",
    "    specifications = {tuple(combinations(specifiable_indices, r) )\n",
    "                      for r in range(1, num_specifiable_indices+1)}\n",
    "    entailed_vectors = np.array([specify(p, spec)\n",
    "                                 for r_level in specifications \n",
    "                                 for spec in r_level], dtype=myint)\n",
    "    if not no_total_fvs:\n",
    "        return entailed_vectors\n",
    "    entailed_pfvs = np.array([v for v in entailed_vectors\n",
    "                              if len(v.nonzero()[0]) < m])\n",
    "    return entailed_pfvs"
   ]
  },
  {
   "cell_type": "markdown",
   "metadata": {},
   "source": [
    "# Generation of $S_i$: all pfvs with exactly $i$ specified values"
   ]
  },
  {
   "cell_type": "code",
   "execution_count": 52,
   "metadata": {
    "ExecuteTime": {
     "end_time": "2019-05-13T00:46:00.346042Z",
     "start_time": "2019-05-13T00:46:00.342291Z"
    }
   },
   "outputs": [],
   "source": [
    "# from functools import reduce"
   ]
  },
  {
   "cell_type": "code",
   "execution_count": 53,
   "metadata": {
    "ExecuteTime": {
     "end_time": "2019-05-13T00:46:00.350935Z",
     "start_time": "2019-05-13T00:46:00.347185Z"
    }
   },
   "outputs": [],
   "source": [
    "def grand_union(pfvs):\n",
    "    return reduce(union, pfvs)"
   ]
  },
  {
   "cell_type": "code",
   "execution_count": 54,
   "metadata": {
    "ExecuteTime": {
     "end_time": "2019-05-13T00:46:00.356090Z",
     "start_time": "2019-05-13T00:46:00.352000Z"
    }
   },
   "outputs": [],
   "source": [
    "def one_hot_stack(indices):\n",
    "#     n_values = np.max(indices) + 1\n",
    "#     n_values = num_features\n",
    "    n_values = m\n",
    "    return np.eye(n_values,dtype=myint)[indices] "
   ]
  },
  {
   "cell_type": "code",
   "execution_count": 55,
   "metadata": {
    "ExecuteTime": {
     "end_time": "2019-05-13T00:46:00.361143Z",
     "start_time": "2019-05-13T00:46:00.357075Z"
    }
   },
   "outputs": [],
   "source": [
    "def indexChoicesToComponentOptions(index_choices):\n",
    "    indices = list(index_choices)\n",
    "    one_hots = one_hot_stack(indices)\n",
    "#     component_options = tuple([(v, -1 * v) for v in one_hots])\n",
    "    component_options = ((v, -1 * v) for v in one_hots)\n",
    "    return component_options\n",
    "\n",
    "def componentOptionsToChoices(component_options):\n",
    "#     choice_combinations = tuple(product(*component_options))\n",
    "    choice_combinations = product(*component_options)\n",
    "#     return tuple(starmap(union,\n",
    "#                          choice_combinations))\n",
    "#     return tuple(map(grand_union,\n",
    "#                      choice_combinations))\n",
    "    return map(grand_union, choice_combinations)\n",
    "\n",
    "def make_Si_naive(i):\n",
    "    index_choices = combinations(range(m), i)\n",
    "    componentOptions = (indexChoicesToComponentOptions(c) for c in index_choices)\n",
    "    componentChoices = (componentOptionsToChoices(o) for o in componentOptions)\n",
    "#     choices_flattened = reduce(lambda a,b: a + b, componentChoices)\n",
    "    choices_flattened = tuple(reduce(lambda a,b: chain.from_iterable([a,b]), componentChoices))\n",
    "    return np.array(choices_flattened)"
   ]
  },
  {
   "cell_type": "code",
   "execution_count": 56,
   "metadata": {
    "ExecuteTime": {
     "end_time": "2019-05-13T00:46:00.364957Z",
     "start_time": "2019-05-13T00:46:00.362255Z"
    }
   },
   "outputs": [],
   "source": [
    "construct_Si = make_Si_naive"
   ]
  },
  {
   "cell_type": "code",
   "execution_count": 85,
   "metadata": {
    "ExecuteTime": {
     "end_time": "2019-05-13T00:57:51.662662Z",
     "start_time": "2019-05-13T00:57:51.657994Z"
    }
   },
   "outputs": [],
   "source": [
    "# calculate_Xi = interpretation\n",
    "\n",
    "#FIXME this can/should be parallelized and memory mapped\n",
    "def calculate_Xi_naive(Si, O):\n",
    "    return np.array([interpretation(p, O) for p in Si], dtype=myint)"
   ]
  },
  {
   "cell_type": "code",
   "execution_count": 146,
   "metadata": {
    "ExecuteTime": {
     "end_time": "2019-05-13T01:26:50.329713Z",
     "start_time": "2019-05-13T01:26:50.322704Z"
    }
   },
   "outputs": [],
   "source": [
    "def heaviside(x):\n",
    "    return np.array(1 * (x >= 0))\n",
    "\n",
    "def extension_multi_bool(p_mat,V):\n",
    "    \"\"\"\n",
    "    Compute a boolean vector that represents the extension of p in V\n",
    "    \n",
    "    Inputs:\n",
    "        p_mat - a matrix of shape (M,num_p) with elements from {-1,0,1}.  The matrix of partially specified\n",
    "            feature vectors, containing num_p vectors\n",
    "        V-  a matrix of shape (L,M) with elements from {-1,1}.  The feature vectors\n",
    "    Outputs:\n",
    "        extension - a matrix of shape (L,num_p) with elements from {1,0}.  extension[l,i]=1 iff V[l,:] is \n",
    "            in the extension of p_mat[:,i]\n",
    "    \"\"\"\n",
    "    K_vec = np.sum(abs(p_mat),axis=0) #shape is (num_p,)\n",
    "    E = np.dot(V,p_mat) #shape is (L,num_p)\n",
    "    return heaviside(E-K_vec[np.newaxis,:])\n",
    "\n",
    "# calculate_Xi = extension_multi_bool\n",
    "\n",
    "def calculate_Xi(p_mat, V):\n",
    "    \"\"\"\n",
    "    Compute a boolean vector that represents the extension of p in V\n",
    "    \n",
    "    Inputs:\n",
    "        p_mat - a matrix of shape (num_p, M) with elements from {-1,0,1}.  The matrix of partially specified\n",
    "            feature vectors, containing num_p vectors\n",
    "        V-  a matrix of shape (L,M) with elements from {-1,1}.  The feature vectors\n",
    "    Outputs:\n",
    "        extension - a matrix of shape (L,num_p) with elements from {1,0}.  extension[l,i]=1 iff V[l,:] is \n",
    "            in the extension of p_mat[:,i]\n",
    "    \"\"\"\n",
    "    p_mat_prime = p_mat.T\n",
    "    K_vec = np.sum(abs(p_mat_prime),axis=0) #shape is (num_p,)\n",
    "    E = np.dot(V,p_mat_prime) #shape is (L,num_p)\n",
    "    result = heaviside(E-K_vec[np.newaxis,:]).T\n",
    "    \n",
    "#     K_vec_prime = np.sum(abs(p_mat), axis=1)\n",
    "# #     assert np.array_equal(K_vec_prime, K_vec.T)\n",
    "#     E_prime = np.dot(p_mat, V.T)\n",
    "# #     assert np.array_equal(E_prime, E.T)\n",
    "#     result_prime = heaviside(E_prime-K_vec_prime[:,np.newaxis])\n",
    "#     assert result_prime.shape == result.shape, '{0} vs. {1}'.format(result_prime.shape, result.shape)\n",
    "#     assert np.array_equal(result_prime, result.T)    \n",
    "    return result#_prime\n"
   ]
  },
  {
   "cell_type": "code",
   "execution_count": 88,
   "metadata": {
    "ExecuteTime": {
     "end_time": "2019-05-13T00:59:31.542920Z",
     "start_time": "2019-05-13T00:59:31.538044Z"
    }
   },
   "outputs": [
    {
     "data": {
      "text/plain": [
       "(9, 5)"
      ]
     },
     "execution_count": 88,
     "metadata": {},
     "output_type": "execute_result"
    }
   ],
   "source": [
    "O.shape"
   ]
  },
  {
   "cell_type": "code",
   "execution_count": 82,
   "metadata": {
    "ExecuteTime": {
     "end_time": "2019-05-13T00:55:55.606869Z",
     "start_time": "2019-05-13T00:55:55.602029Z"
    }
   },
   "outputs": [
    {
     "data": {
      "text/plain": [
       "5"
      ]
     },
     "execution_count": 82,
     "metadata": {},
     "output_type": "execute_result"
    }
   ],
   "source": [
    "m"
   ]
  },
  {
   "cell_type": "code",
   "execution_count": 78,
   "metadata": {
    "ExecuteTime": {
     "end_time": "2019-05-13T00:55:07.661274Z",
     "start_time": "2019-05-13T00:55:07.655679Z"
    }
   },
   "outputs": [
    {
     "data": {
      "text/plain": [
       "(80, 5)"
      ]
     },
     "execution_count": 78,
     "metadata": {},
     "output_type": "execute_result"
    }
   ],
   "source": [
    "S3 = construct_Si(3)\n",
    "S3.shape"
   ]
  },
  {
   "cell_type": "code",
   "execution_count": 115,
   "metadata": {
    "ExecuteTime": {
     "end_time": "2019-05-13T01:17:47.999480Z",
     "start_time": "2019-05-13T01:17:47.995462Z"
    }
   },
   "outputs": [
    {
     "data": {
      "text/plain": [
       "(5, 80)"
      ]
     },
     "execution_count": 115,
     "metadata": {},
     "output_type": "execute_result"
    }
   ],
   "source": [
    "S3.T.shape"
   ]
  },
  {
   "cell_type": "code",
   "execution_count": 81,
   "metadata": {
    "ExecuteTime": {
     "end_time": "2019-05-13T00:55:44.861789Z",
     "start_time": "2019-05-13T00:55:44.856793Z"
    }
   },
   "outputs": [
    {
     "data": {
      "text/plain": [
       "(9, 5)"
      ]
     },
     "execution_count": 81,
     "metadata": {},
     "output_type": "execute_result"
    }
   ],
   "source": [
    "O.shape"
   ]
  },
  {
   "cell_type": "code",
   "execution_count": 149,
   "metadata": {
    "ExecuteTime": {
     "end_time": "2019-05-13T01:27:21.863761Z",
     "start_time": "2019-05-13T01:27:13.799498Z"
    }
   },
   "outputs": [
    {
     "name": "stdout",
     "output_type": "stream",
     "text": [
      "993 µs ± 2.07 µs per loop (mean ± std. dev. of 7 runs, 1000 loops each)\n"
     ]
    }
   ],
   "source": [
    "%%timeit\n",
    "\n",
    "calculate_Xi_naive(S3, O)"
   ]
  },
  {
   "cell_type": "code",
   "execution_count": 148,
   "metadata": {
    "ExecuteTime": {
     "end_time": "2019-05-13T01:27:11.126566Z",
     "start_time": "2019-05-13T01:26:56.357365Z"
    }
   },
   "outputs": [
    {
     "name": "stdout",
     "output_type": "stream",
     "text": [
      "18.2 µs ± 58.2 ns per loop (mean ± std. dev. of 7 runs, 100000 loops each)\n"
     ]
    }
   ],
   "source": [
    "%%timeit\n",
    "\n",
    "calculate_Xi(S3, O)"
   ]
  },
  {
   "cell_type": "code",
   "execution_count": 130,
   "metadata": {
    "ExecuteTime": {
     "end_time": "2019-05-13T01:23:56.888091Z",
     "start_time": "2019-05-13T01:23:56.878067Z"
    },
    "scrolled": true
   },
   "outputs": [
    {
     "data": {
      "text/plain": [
       "(80, 9)"
      ]
     },
     "execution_count": 130,
     "metadata": {},
     "output_type": "execute_result"
    },
    {
     "data": {
      "text/plain": [
       "array([[0, 0, 0, 0, 0, 0, 1, 0, 0],\n",
       "       [0, 0, 0, 0, 0, 0, 0, 0, 0],\n",
       "       [0, 0, 0, 0, 0, 1, 0, 0, 0],\n",
       "       [0, 0, 0, 0, 0, 0, 0, 0, 1],\n",
       "       [0, 1, 1, 0, 0, 0, 0, 0, 0],\n",
       "       [0, 0, 0, 1, 0, 0, 0, 1, 0],\n",
       "       [1, 0, 0, 0, 0, 0, 0, 0, 0],\n",
       "       [0, 0, 0, 0, 1, 0, 0, 0, 0],\n",
       "       [0, 0, 0, 0, 0, 0, 1, 0, 0],\n",
       "       [0, 0, 0, 0, 0, 0, 0, 0, 0],\n",
       "       [0, 0, 0, 0, 0, 0, 0, 0, 0],\n",
       "       [0, 0, 0, 0, 0, 1, 0, 0, 1],\n",
       "       [0, 0, 1, 1, 0, 0, 0, 0, 0],\n",
       "       [0, 1, 0, 0, 0, 0, 0, 1, 0],\n",
       "       [1, 0, 0, 0, 0, 0, 0, 0, 0],\n",
       "       [0, 0, 0, 0, 1, 0, 0, 0, 0],\n",
       "       [0, 0, 0, 0, 0, 0, 1, 0, 0],\n",
       "       [0, 0, 0, 0, 0, 0, 0, 0, 0],\n",
       "       [0, 0, 0, 0, 0, 0, 0, 0, 1],\n",
       "       [0, 0, 0, 0, 0, 1, 0, 0, 0],\n",
       "       [0, 0, 0, 0, 0, 0, 0, 1, 0],\n",
       "       [0, 1, 1, 1, 0, 0, 0, 0, 0],\n",
       "       [0, 0, 0, 0, 1, 0, 0, 0, 0],\n",
       "       [1, 0, 0, 0, 0, 0, 0, 0, 0],\n",
       "       [0, 0, 0, 0, 0, 0, 1, 0, 0],\n",
       "       [0, 0, 0, 0, 0, 1, 0, 0, 0],\n",
       "       [0, 0, 0, 0, 0, 0, 0, 0, 0],\n",
       "       [0, 0, 0, 0, 0, 0, 0, 0, 1],\n",
       "       [1, 0, 1, 0, 0, 0, 0, 0, 0],\n",
       "       [0, 1, 0, 0, 0, 0, 0, 0, 0],\n",
       "       [0, 0, 0, 1, 0, 0, 0, 0, 0],\n",
       "       [0, 0, 0, 0, 1, 0, 0, 1, 0],\n",
       "       [0, 0, 0, 0, 0, 0, 1, 0, 0],\n",
       "       [0, 0, 0, 0, 0, 1, 0, 0, 0],\n",
       "       [0, 0, 0, 0, 0, 0, 0, 0, 1],\n",
       "       [0, 0, 0, 0, 0, 0, 0, 0, 0],\n",
       "       [0, 0, 0, 0, 0, 0, 0, 0, 0],\n",
       "       [1, 1, 1, 0, 0, 0, 0, 0, 0],\n",
       "       [0, 0, 0, 0, 1, 0, 0, 1, 0],\n",
       "       [0, 0, 0, 1, 0, 0, 0, 0, 0],\n",
       "       [0, 0, 0, 0, 0, 0, 1, 0, 0],\n",
       "       [0, 0, 0, 0, 0, 0, 0, 0, 0],\n",
       "       [0, 0, 0, 0, 0, 0, 0, 0, 1],\n",
       "       [0, 0, 0, 0, 0, 1, 0, 0, 0],\n",
       "       [0, 0, 0, 0, 0, 0, 0, 0, 0],\n",
       "       [1, 0, 1, 1, 0, 0, 0, 0, 0],\n",
       "       [0, 0, 0, 0, 1, 0, 0, 1, 0],\n",
       "       [0, 1, 0, 0, 0, 0, 0, 0, 0],\n",
       "       [0, 0, 1, 0, 0, 0, 1, 0, 0],\n",
       "       [0, 1, 0, 0, 0, 0, 0, 0, 0],\n",
       "       [0, 0, 0, 1, 0, 0, 0, 0, 0],\n",
       "       [0, 0, 0, 0, 0, 0, 0, 1, 0],\n",
       "       [1, 0, 0, 0, 0, 0, 0, 0, 0],\n",
       "       [0, 0, 0, 0, 0, 1, 0, 0, 0],\n",
       "       [0, 0, 0, 0, 0, 0, 0, 0, 0],\n",
       "       [0, 0, 0, 0, 1, 0, 0, 0, 1],\n",
       "       [0, 0, 0, 0, 0, 0, 1, 0, 0],\n",
       "       [0, 1, 1, 0, 0, 0, 0, 0, 0],\n",
       "       [0, 0, 0, 0, 0, 0, 0, 1, 0],\n",
       "       [0, 0, 0, 1, 0, 0, 0, 0, 0],\n",
       "       [0, 0, 0, 0, 0, 0, 0, 0, 0],\n",
       "       [1, 0, 0, 0, 0, 1, 0, 0, 0],\n",
       "       [0, 0, 0, 0, 1, 0, 0, 0, 1],\n",
       "       [0, 0, 0, 0, 0, 0, 0, 0, 0],\n",
       "       [0, 0, 0, 0, 0, 0, 1, 0, 0],\n",
       "       [0, 0, 1, 1, 0, 0, 0, 0, 0],\n",
       "       [0, 0, 0, 0, 0, 0, 0, 1, 0],\n",
       "       [0, 1, 0, 0, 0, 0, 0, 0, 0],\n",
       "       [0, 0, 0, 0, 0, 0, 0, 0, 0],\n",
       "       [1, 0, 0, 0, 0, 0, 0, 0, 0],\n",
       "       [0, 0, 0, 0, 1, 0, 0, 0, 1],\n",
       "       [0, 0, 0, 0, 0, 1, 0, 0, 0],\n",
       "       [0, 0, 0, 0, 0, 0, 1, 0, 0],\n",
       "       [1, 0, 1, 0, 0, 0, 0, 0, 0],\n",
       "       [0, 0, 0, 0, 0, 0, 0, 0, 0],\n",
       "       [0, 1, 0, 0, 0, 1, 0, 0, 0],\n",
       "       [0, 0, 0, 0, 0, 0, 0, 0, 0],\n",
       "       [0, 0, 0, 1, 0, 0, 0, 0, 0],\n",
       "       [0, 0, 0, 0, 1, 0, 0, 1, 1],\n",
       "       [0, 0, 0, 0, 0, 0, 0, 0, 0]], dtype=int8)"
      ]
     },
     "execution_count": 130,
     "metadata": {},
     "output_type": "execute_result"
    }
   ],
   "source": [
    "calculate_Xi_naive(S3, O).shape\n",
    "calculate_Xi_naive(S3, O)"
   ]
  },
  {
   "cell_type": "code",
   "execution_count": 147,
   "metadata": {
    "ExecuteTime": {
     "end_time": "2019-05-13T01:26:52.814081Z",
     "start_time": "2019-05-13T01:26:52.807131Z"
    },
    "scrolled": true
   },
   "outputs": [
    {
     "data": {
      "text/plain": [
       "(80, 9)"
      ]
     },
     "execution_count": 147,
     "metadata": {},
     "output_type": "execute_result"
    },
    {
     "data": {
      "text/plain": [
       "array([[0, 0, 0, 0, 0, 0, 1, 0, 0],\n",
       "       [0, 0, 0, 0, 0, 0, 0, 0, 0],\n",
       "       [0, 0, 0, 0, 0, 1, 0, 0, 0],\n",
       "       [0, 0, 0, 0, 0, 0, 0, 0, 1],\n",
       "       [0, 1, 1, 0, 0, 0, 0, 0, 0],\n",
       "       [0, 0, 0, 1, 0, 0, 0, 1, 0],\n",
       "       [1, 0, 0, 0, 0, 0, 0, 0, 0],\n",
       "       [0, 0, 0, 0, 1, 0, 0, 0, 0],\n",
       "       [0, 0, 0, 0, 0, 0, 1, 0, 0],\n",
       "       [0, 0, 0, 0, 0, 0, 0, 0, 0],\n",
       "       [0, 0, 0, 0, 0, 0, 0, 0, 0],\n",
       "       [0, 0, 0, 0, 0, 1, 0, 0, 1],\n",
       "       [0, 0, 1, 1, 0, 0, 0, 0, 0],\n",
       "       [0, 1, 0, 0, 0, 0, 0, 1, 0],\n",
       "       [1, 0, 0, 0, 0, 0, 0, 0, 0],\n",
       "       [0, 0, 0, 0, 1, 0, 0, 0, 0],\n",
       "       [0, 0, 0, 0, 0, 0, 1, 0, 0],\n",
       "       [0, 0, 0, 0, 0, 0, 0, 0, 0],\n",
       "       [0, 0, 0, 0, 0, 0, 0, 0, 1],\n",
       "       [0, 0, 0, 0, 0, 1, 0, 0, 0],\n",
       "       [0, 0, 0, 0, 0, 0, 0, 1, 0],\n",
       "       [0, 1, 1, 1, 0, 0, 0, 0, 0],\n",
       "       [0, 0, 0, 0, 1, 0, 0, 0, 0],\n",
       "       [1, 0, 0, 0, 0, 0, 0, 0, 0],\n",
       "       [0, 0, 0, 0, 0, 0, 1, 0, 0],\n",
       "       [0, 0, 0, 0, 0, 1, 0, 0, 0],\n",
       "       [0, 0, 0, 0, 0, 0, 0, 0, 0],\n",
       "       [0, 0, 0, 0, 0, 0, 0, 0, 1],\n",
       "       [1, 0, 1, 0, 0, 0, 0, 0, 0],\n",
       "       [0, 1, 0, 0, 0, 0, 0, 0, 0],\n",
       "       [0, 0, 0, 1, 0, 0, 0, 0, 0],\n",
       "       [0, 0, 0, 0, 1, 0, 0, 1, 0],\n",
       "       [0, 0, 0, 0, 0, 0, 1, 0, 0],\n",
       "       [0, 0, 0, 0, 0, 1, 0, 0, 0],\n",
       "       [0, 0, 0, 0, 0, 0, 0, 0, 1],\n",
       "       [0, 0, 0, 0, 0, 0, 0, 0, 0],\n",
       "       [0, 0, 0, 0, 0, 0, 0, 0, 0],\n",
       "       [1, 1, 1, 0, 0, 0, 0, 0, 0],\n",
       "       [0, 0, 0, 0, 1, 0, 0, 1, 0],\n",
       "       [0, 0, 0, 1, 0, 0, 0, 0, 0],\n",
       "       [0, 0, 0, 0, 0, 0, 1, 0, 0],\n",
       "       [0, 0, 0, 0, 0, 0, 0, 0, 0],\n",
       "       [0, 0, 0, 0, 0, 0, 0, 0, 1],\n",
       "       [0, 0, 0, 0, 0, 1, 0, 0, 0],\n",
       "       [0, 0, 0, 0, 0, 0, 0, 0, 0],\n",
       "       [1, 0, 1, 1, 0, 0, 0, 0, 0],\n",
       "       [0, 0, 0, 0, 1, 0, 0, 1, 0],\n",
       "       [0, 1, 0, 0, 0, 0, 0, 0, 0],\n",
       "       [0, 0, 1, 0, 0, 0, 1, 0, 0],\n",
       "       [0, 1, 0, 0, 0, 0, 0, 0, 0],\n",
       "       [0, 0, 0, 1, 0, 0, 0, 0, 0],\n",
       "       [0, 0, 0, 0, 0, 0, 0, 1, 0],\n",
       "       [1, 0, 0, 0, 0, 0, 0, 0, 0],\n",
       "       [0, 0, 0, 0, 0, 1, 0, 0, 0],\n",
       "       [0, 0, 0, 0, 0, 0, 0, 0, 0],\n",
       "       [0, 0, 0, 0, 1, 0, 0, 0, 1],\n",
       "       [0, 0, 0, 0, 0, 0, 1, 0, 0],\n",
       "       [0, 1, 1, 0, 0, 0, 0, 0, 0],\n",
       "       [0, 0, 0, 0, 0, 0, 0, 1, 0],\n",
       "       [0, 0, 0, 1, 0, 0, 0, 0, 0],\n",
       "       [0, 0, 0, 0, 0, 0, 0, 0, 0],\n",
       "       [1, 0, 0, 0, 0, 1, 0, 0, 0],\n",
       "       [0, 0, 0, 0, 1, 0, 0, 0, 1],\n",
       "       [0, 0, 0, 0, 0, 0, 0, 0, 0],\n",
       "       [0, 0, 0, 0, 0, 0, 1, 0, 0],\n",
       "       [0, 0, 1, 1, 0, 0, 0, 0, 0],\n",
       "       [0, 0, 0, 0, 0, 0, 0, 1, 0],\n",
       "       [0, 1, 0, 0, 0, 0, 0, 0, 0],\n",
       "       [0, 0, 0, 0, 0, 0, 0, 0, 0],\n",
       "       [1, 0, 0, 0, 0, 0, 0, 0, 0],\n",
       "       [0, 0, 0, 0, 1, 0, 0, 0, 1],\n",
       "       [0, 0, 0, 0, 0, 1, 0, 0, 0],\n",
       "       [0, 0, 0, 0, 0, 0, 1, 0, 0],\n",
       "       [1, 0, 1, 0, 0, 0, 0, 0, 0],\n",
       "       [0, 0, 0, 0, 0, 0, 0, 0, 0],\n",
       "       [0, 1, 0, 0, 0, 1, 0, 0, 0],\n",
       "       [0, 0, 0, 0, 0, 0, 0, 0, 0],\n",
       "       [0, 0, 0, 1, 0, 0, 0, 0, 0],\n",
       "       [0, 0, 0, 0, 1, 0, 0, 1, 1],\n",
       "       [0, 0, 0, 0, 0, 0, 0, 0, 0]])"
      ]
     },
     "execution_count": 147,
     "metadata": {},
     "output_type": "execute_result"
    }
   ],
   "source": [
    "calculate_Xi(S3, O).shape\n",
    "calculate_Xi(S3, O)"
   ]
  },
  {
   "cell_type": "markdown",
   "metadata": {},
   "source": [
    "# Generate $\\overline{S}_i$, $\\overline{X}_i$ by removing vectors with empty extension in $S_i$ + their empty extension in $X_i$"
   ]
  },
  {
   "cell_type": "code",
   "execution_count": 58,
   "metadata": {
    "ExecuteTime": {
     "end_time": "2019-05-13T00:46:00.373377Z",
     "start_time": "2019-05-13T00:46:00.370338Z"
    }
   },
   "outputs": [],
   "source": [
    "EMPTY = np.zeros((l,), dtype=myint)"
   ]
  },
  {
   "cell_type": "code",
   "execution_count": 59,
   "metadata": {
    "ExecuteTime": {
     "end_time": "2019-05-13T00:46:00.378692Z",
     "start_time": "2019-05-13T00:46:00.374528Z"
    }
   },
   "outputs": [],
   "source": [
    "#FIXME this can/should be parallelized and memory mapped\n",
    "def make_Si_bar_naive(Si, Xi):\n",
    "    return np.array([v for i,v in enumerate(Si) \n",
    "#                      if not empty_extension(Xj[i])])\n",
    "                     if not np.array_equal(EMPTY, Xi[i])])"
   ]
  },
  {
   "cell_type": "code",
   "execution_count": 60,
   "metadata": {
    "ExecuteTime": {
     "end_time": "2019-05-13T00:46:00.384683Z",
     "start_time": "2019-05-13T00:46:00.379739Z"
    }
   },
   "outputs": [],
   "source": [
    "#FIXME this can/should be parallelized and memory mapped\n",
    "def make_Si_bar_Xi_bar_naive(Si, Xi):\n",
    "    non_empty_indices = np.array([i for i,v in enumerate(Si)\n",
    "                                  if not np.array_equal(EMPTY, Xi[i])])\n",
    "    Si_bar = np.array([Si[i] for i in non_empty_indices])\n",
    "    Xi_bar = np.array([Xi[i] for i in non_empty_indices])\n",
    "    return Si_bar, Xi_bar"
   ]
  },
  {
   "cell_type": "code",
   "execution_count": 176,
   "metadata": {
    "ExecuteTime": {
     "end_time": "2019-05-13T01:39:13.105547Z",
     "start_time": "2019-05-13T01:39:13.100015Z"
    }
   },
   "outputs": [],
   "source": [
    "def make_Si_bar_Xi_bar_alt(Si, Xi):\n",
    "#     non_empty_extension_row_indices = np.array([i for i,v in enumerate(Si)\n",
    "#                                                 if np.sum(Xi[i]) != 0])\n",
    "    Xi_sums = np.sum(Xi, axis=1) #shape is (Si.shape[0],)\n",
    "    non_empty_extension_row_indices = Xi_sums.nonzero()[0]\n",
    "    \n",
    "    Si_bar = Si[non_empty_extension_row_indices,:]\n",
    "    Xi_bar = Xi[non_empty_extension_row_indices,:]\n",
    "    return Si_bar, Xi_bar"
   ]
  },
  {
   "cell_type": "code",
   "execution_count": 103,
   "metadata": {
    "ExecuteTime": {
     "end_time": "2019-05-13T01:10:26.405387Z",
     "start_time": "2019-05-13T01:10:26.399760Z"
    }
   },
   "outputs": [],
   "source": [
    "construct_Si_bar = make_Si_bar_naive\n",
    "construct_Si_Xi_bar = make_Si_bar_Xi_bar_alt"
   ]
  },
  {
   "cell_type": "code",
   "execution_count": 172,
   "metadata": {
    "ExecuteTime": {
     "end_time": "2019-05-13T01:35:41.006962Z",
     "start_time": "2019-05-13T01:35:41.002061Z"
    }
   },
   "outputs": [
    {
     "data": {
      "text/plain": [
       "(80, 5)"
      ]
     },
     "execution_count": 172,
     "metadata": {},
     "output_type": "execute_result"
    }
   ],
   "source": [
    "S3.shape"
   ]
  },
  {
   "cell_type": "code",
   "execution_count": 110,
   "metadata": {
    "ExecuteTime": {
     "end_time": "2019-05-13T01:11:35.803674Z",
     "start_time": "2019-05-13T01:11:35.797861Z"
    }
   },
   "outputs": [],
   "source": [
    "X3 = calculate_Xi_naive(S3, O)"
   ]
  },
  {
   "cell_type": "code",
   "execution_count": 159,
   "metadata": {
    "ExecuteTime": {
     "end_time": "2019-05-13T01:32:40.357008Z",
     "start_time": "2019-05-13T01:32:40.352358Z"
    }
   },
   "outputs": [
    {
     "data": {
      "text/plain": [
       "(80, 9)"
      ]
     },
     "execution_count": 159,
     "metadata": {},
     "output_type": "execute_result"
    }
   ],
   "source": [
    "X3.shape"
   ]
  },
  {
   "cell_type": "code",
   "execution_count": 163,
   "metadata": {
    "ExecuteTime": {
     "end_time": "2019-05-13T01:32:58.903918Z",
     "start_time": "2019-05-13T01:32:58.899071Z"
    }
   },
   "outputs": [
    {
     "data": {
      "text/plain": [
       "(9, 5)"
      ]
     },
     "execution_count": 163,
     "metadata": {},
     "output_type": "execute_result"
    }
   ],
   "source": [
    "l, m"
   ]
  },
  {
   "cell_type": "code",
   "execution_count": 162,
   "metadata": {
    "ExecuteTime": {
     "end_time": "2019-05-13T01:32:54.888092Z",
     "start_time": "2019-05-13T01:32:54.883369Z"
    }
   },
   "outputs": [
    {
     "data": {
      "text/plain": [
       "(9, 5)"
      ]
     },
     "execution_count": 162,
     "metadata": {},
     "output_type": "execute_result"
    }
   ],
   "source": [
    "O.shape"
   ]
  },
  {
   "cell_type": "code",
   "execution_count": 169,
   "metadata": {
    "ExecuteTime": {
     "end_time": "2019-05-13T01:34:19.493324Z",
     "start_time": "2019-05-13T01:34:19.488262Z"
    }
   },
   "outputs": [
    {
     "data": {
      "text/plain": [
       "(80,)"
      ]
     },
     "execution_count": 169,
     "metadata": {},
     "output_type": "execute_result"
    }
   ],
   "source": [
    "np.sum(X3, axis=1).shape"
   ]
  },
  {
   "cell_type": "code",
   "execution_count": 175,
   "metadata": {
    "ExecuteTime": {
     "end_time": "2019-05-13T01:37:53.384459Z",
     "start_time": "2019-05-13T01:37:53.377090Z"
    }
   },
   "outputs": [
    {
     "data": {
      "text/plain": [
       "(80,)"
      ]
     },
     "execution_count": 175,
     "metadata": {},
     "output_type": "execute_result"
    },
    {
     "data": {
      "text/plain": [
       "array([ 0,  2,  3,  4,  5,  6,  7,  8, 11, 12, 13, 14, 15, 16, 18, 19, 20,\n",
       "       21, 22, 23, 24, 25, 27, 28, 29, 30, 31, 32, 33, 34, 37, 38, 39, 40,\n",
       "       42, 43, 45, 46, 47, 48, 49, 50, 51, 52, 53, 55, 56, 57, 58, 59, 61,\n",
       "       62, 64, 65, 66, 67, 69, 70, 71, 72, 73, 75, 77, 78])"
      ]
     },
     "execution_count": 175,
     "metadata": {},
     "output_type": "execute_result"
    }
   ],
   "source": [
    "np.array([np.sum(X3[i]) for i,v in enumerate(S3)]).shape\n",
    "np.array([np.sum(X3[i]) for i,v in enumerate(S3)]).nonzero()[0]"
   ]
  },
  {
   "cell_type": "code",
   "execution_count": 168,
   "metadata": {
    "ExecuteTime": {
     "end_time": "2019-05-13T01:34:07.840873Z",
     "start_time": "2019-05-13T01:34:07.835216Z"
    }
   },
   "outputs": [
    {
     "data": {
      "text/plain": [
       "(64,)"
      ]
     },
     "execution_count": 168,
     "metadata": {},
     "output_type": "execute_result"
    }
   ],
   "source": [
    "non_empty_row_indices = np.array([i for i,v in enumerate(S3)\n",
    "                                  if np.sum(X3[i]) != 0])\n",
    "non_empty_row_indices.shape"
   ]
  },
  {
   "cell_type": "code",
   "execution_count": 157,
   "metadata": {
    "ExecuteTime": {
     "end_time": "2019-05-13T01:29:59.878782Z",
     "start_time": "2019-05-13T01:29:59.865298Z"
    }
   },
   "outputs": [
    {
     "data": {
      "text/plain": [
       "True"
      ]
     },
     "execution_count": 157,
     "metadata": {},
     "output_type": "execute_result"
    }
   ],
   "source": [
    "np.array_equal( make_Si_bar_Xi_bar_naive(S3, X3)[0], make_Si_bar_Xi_bar_alt(S3, X3)[0] )"
   ]
  },
  {
   "cell_type": "code",
   "execution_count": 158,
   "metadata": {
    "ExecuteTime": {
     "end_time": "2019-05-13T01:30:05.511985Z",
     "start_time": "2019-05-13T01:30:05.505777Z"
    }
   },
   "outputs": [
    {
     "data": {
      "text/plain": [
       "True"
      ]
     },
     "execution_count": 158,
     "metadata": {},
     "output_type": "execute_result"
    }
   ],
   "source": [
    "np.array_equal( make_Si_bar_Xi_bar_naive(S3, X3)[1], make_Si_bar_Xi_bar_alt(S3, X3)[1] )"
   ]
  },
  {
   "cell_type": "code",
   "execution_count": 177,
   "metadata": {
    "ExecuteTime": {
     "end_time": "2019-05-13T01:39:20.047019Z",
     "start_time": "2019-05-13T01:39:17.707436Z"
    }
   },
   "outputs": [
    {
     "name": "stdout",
     "output_type": "stream",
     "text": [
      "286 µs ± 1.74 µs per loop (mean ± std. dev. of 7 runs, 1000 loops each)\n"
     ]
    }
   ],
   "source": [
    "%%timeit\n",
    "\n",
    "make_Si_bar_Xi_bar_naive(S3, X3)"
   ]
  },
  {
   "cell_type": "code",
   "execution_count": 178,
   "metadata": {
    "ExecuteTime": {
     "end_time": "2019-05-13T01:39:28.848090Z",
     "start_time": "2019-05-13T01:39:21.083372Z"
    }
   },
   "outputs": [
    {
     "name": "stdout",
     "output_type": "stream",
     "text": [
      "9.55 µs ± 55.1 ns per loop (mean ± std. dev. of 7 runs, 100000 loops each)\n"
     ]
    }
   ],
   "source": [
    "%%timeit\n",
    "\n",
    "make_Si_bar_Xi_bar_alt(S3, X3)"
   ]
  },
  {
   "cell_type": "markdown",
   "metadata": {},
   "source": [
    "# Convert $\\overline{X}_i$ to a sparse representation"
   ]
  },
  {
   "cell_type": "code",
   "execution_count": 62,
   "metadata": {
    "ExecuteTime": {
     "end_time": "2019-05-13T00:46:00.393110Z",
     "start_time": "2019-05-13T00:46:00.389496Z"
    }
   },
   "outputs": [],
   "source": [
    "# import sparse"
   ]
  },
  {
   "cell_type": "code",
   "execution_count": 63,
   "metadata": {
    "ExecuteTime": {
     "end_time": "2019-05-13T00:46:00.398958Z",
     "start_time": "2019-05-13T00:46:00.394261Z"
    }
   },
   "outputs": [],
   "source": [
    "def density(a):\n",
    "    num_cells = reduce(lambda x,y: x * y, a.shape)\n",
    "    d = len(np.nonzero(a)[0]) / num_cells\n",
    "    return d\n",
    "\n",
    "def sparsity(a):\n",
    "    return 1 - density(a)"
   ]
  },
  {
   "cell_type": "code",
   "execution_count": 64,
   "metadata": {
    "ExecuteTime": {
     "end_time": "2019-05-13T00:46:00.403989Z",
     "start_time": "2019-05-13T00:46:00.399959Z"
    }
   },
   "outputs": [],
   "source": [
    "def to_sparse(v):\n",
    "    return sparse.COO(v)"
   ]
  },
  {
   "cell_type": "markdown",
   "metadata": {},
   "source": [
    "# Local processing pipeline to generate non-sparse $\\overline{S}_i, \\overline{X}_i$, $\\forall i$ "
   ]
  },
  {
   "cell_type": "code",
   "execution_count": 65,
   "metadata": {
    "ExecuteTime": {
     "end_time": "2019-05-13T00:46:00.408413Z",
     "start_time": "2019-05-13T00:46:00.405124Z"
    }
   },
   "outputs": [],
   "source": [
    "def construct_Si_bar_Xi_bar(i, O):\n",
    "    Si = construct_Si(i)\n",
    "    Xi = calculate_Xi(Si, O)\n",
    "    Si_bar, Xi_bar = construct_Si_Xi_bar(Si, Xi)\n",
    "#     Si_bar = construct_Si_bar(Si, Xi)\n",
    "#     del Si\n",
    "#     del Xi\n",
    "    #FIXME you shouldn't have to recalculate the extensions of everything in Si_bar!\n",
    "#     Xi_bar = calculate_Xi(Si_bar, O)\n",
    "    return Si_bar, Xi_bar #these (or at least Xi_bar) should be sparse (and memory mapped) representations"
   ]
  },
  {
   "cell_type": "code",
   "execution_count": 66,
   "metadata": {
    "ExecuteTime": {
     "end_time": "2019-05-13T00:46:00.413933Z",
     "start_time": "2019-05-13T00:46:00.409421Z"
    }
   },
   "outputs": [
    {
     "data": {
      "text/plain": [
       "array([[ 1,  0,  0,  0,  0],\n",
       "       [-1,  0,  0,  0,  0],\n",
       "       [ 0,  1,  0,  0,  0],\n",
       "       [ 0, -1,  0,  0,  0],\n",
       "       [ 0,  0,  1,  0,  0],\n",
       "       [ 0,  0, -1,  0,  0],\n",
       "       [ 0,  0,  0,  1,  0],\n",
       "       [ 0,  0,  0, -1,  0],\n",
       "       [ 0,  0,  0,  0,  1],\n",
       "       [ 0,  0,  0,  0, -1]], dtype=int8)"
      ]
     },
     "execution_count": 66,
     "metadata": {},
     "output_type": "execute_result"
    }
   ],
   "source": [
    "construct_Si(1)"
   ]
  },
  {
   "cell_type": "code",
   "execution_count": 67,
   "metadata": {
    "ExecuteTime": {
     "end_time": "2019-05-13T00:46:00.420486Z",
     "start_time": "2019-05-13T00:46:00.414938Z"
    }
   },
   "outputs": [
    {
     "data": {
      "text/plain": [
       "0.8"
      ]
     },
     "execution_count": 67,
     "metadata": {},
     "output_type": "execute_result"
    },
    {
     "data": {
      "text/plain": [
       "0.5"
      ]
     },
     "execution_count": 67,
     "metadata": {},
     "output_type": "execute_result"
    }
   ],
   "source": [
    "S1_bar, X1_bar = construct_Si_bar_Xi_bar(1, O)\n",
    "sparsity(S1_bar)\n",
    "sparsity(X1_bar)"
   ]
  },
  {
   "cell_type": "code",
   "execution_count": 68,
   "metadata": {
    "ExecuteTime": {
     "end_time": "2019-05-13T00:46:00.424038Z",
     "start_time": "2019-05-13T00:46:00.421485Z"
    }
   },
   "outputs": [
    {
     "data": {
      "text/plain": [
       "array([[ 1,  0,  0,  0,  0],\n",
       "       [-1,  0,  0,  0,  0],\n",
       "       [ 0,  1,  0,  0,  0],\n",
       "       [ 0, -1,  0,  0,  0],\n",
       "       [ 0,  0,  1,  0,  0],\n",
       "       [ 0,  0, -1,  0,  0],\n",
       "       [ 0,  0,  0,  1,  0],\n",
       "       [ 0,  0,  0, -1,  0],\n",
       "       [ 0,  0,  0,  0,  1],\n",
       "       [ 0,  0,  0,  0, -1]], dtype=int8)"
      ]
     },
     "execution_count": 68,
     "metadata": {},
     "output_type": "execute_result"
    }
   ],
   "source": [
    "S1_bar"
   ]
  },
  {
   "cell_type": "code",
   "execution_count": 69,
   "metadata": {
    "ExecuteTime": {
     "end_time": "2019-05-13T00:46:00.431076Z",
     "start_time": "2019-05-13T00:46:00.426767Z"
    }
   },
   "outputs": [
    {
     "data": {
      "text/plain": [
       "0.6"
      ]
     },
     "execution_count": 69,
     "metadata": {},
     "output_type": "execute_result"
    },
    {
     "data": {
      "text/plain": [
       "0.75"
      ]
     },
     "execution_count": 69,
     "metadata": {},
     "output_type": "execute_result"
    }
   ],
   "source": [
    "S2_bar, X2_bar = construct_Si_bar_Xi_bar(2, O)\n",
    "sparsity(S2_bar)\n",
    "sparsity(X2_bar)"
   ]
  },
  {
   "cell_type": "code",
   "execution_count": 70,
   "metadata": {
    "ExecuteTime": {
     "end_time": "2019-05-13T00:46:00.437790Z",
     "start_time": "2019-05-13T00:46:00.432599Z"
    }
   },
   "outputs": [
    {
     "data": {
      "text/plain": [
       "0.4"
      ]
     },
     "execution_count": 70,
     "metadata": {},
     "output_type": "execute_result"
    },
    {
     "data": {
      "text/plain": [
       "0.84375"
      ]
     },
     "execution_count": 70,
     "metadata": {},
     "output_type": "execute_result"
    }
   ],
   "source": [
    "S3_bar, X3_bar = construct_Si_bar_Xi_bar(3, O)\n",
    "sparsity(S3_bar)\n",
    "sparsity(X3_bar)"
   ]
  },
  {
   "cell_type": "code",
   "execution_count": 71,
   "metadata": {
    "ExecuteTime": {
     "end_time": "2019-05-13T00:46:00.443995Z",
     "start_time": "2019-05-13T00:46:00.438784Z"
    }
   },
   "outputs": [
    {
     "data": {
      "text/plain": [
       "0.19999999999999996"
      ]
     },
     "execution_count": 71,
     "metadata": {},
     "output_type": "execute_result"
    },
    {
     "data": {
      "text/plain": [
       "0.875"
      ]
     },
     "execution_count": 71,
     "metadata": {},
     "output_type": "execute_result"
    }
   ],
   "source": [
    "S4_bar, X4_bar = construct_Si_bar_Xi_bar(4, O)\n",
    "sparsity(S4_bar)\n",
    "sparsity(X4_bar)"
   ]
  },
  {
   "cell_type": "code",
   "execution_count": 72,
   "metadata": {
    "ExecuteTime": {
     "end_time": "2019-05-13T00:46:00.449100Z",
     "start_time": "2019-05-13T00:46:00.444948Z"
    }
   },
   "outputs": [
    {
     "data": {
      "text/plain": [
       "0.0"
      ]
     },
     "execution_count": 72,
     "metadata": {},
     "output_type": "execute_result"
    },
    {
     "data": {
      "text/plain": [
       "0.8888888888888888"
      ]
     },
     "execution_count": 72,
     "metadata": {},
     "output_type": "execute_result"
    }
   ],
   "source": [
    "S5_bar, X5_bar = construct_Si_bar_Xi_bar(5, O)\n",
    "sparsity(S5_bar)\n",
    "sparsity(X5_bar)"
   ]
  },
  {
   "cell_type": "markdown",
   "metadata": {},
   "source": []
  }
 ],
 "metadata": {
  "kernelspec": {
   "display_name": "Python 3",
   "language": "python",
   "name": "python3"
  },
  "language_info": {
   "codemirror_mode": {
    "name": "ipython",
    "version": 3
   },
   "file_extension": ".py",
   "mimetype": "text/x-python",
   "name": "python",
   "nbconvert_exporter": "python",
   "pygments_lexer": "ipython3",
   "version": "3.6.8"
  },
  "toc": {
   "base_numbering": 1,
   "nav_menu": {},
   "number_sections": true,
   "sideBar": true,
   "skip_h1_title": false,
   "title_cell": "Table of Contents",
   "title_sidebar": "Contents",
   "toc_cell": false,
   "toc_position": {},
   "toc_section_display": true,
   "toc_window_display": false
  }
 },
 "nbformat": 4,
 "nbformat_minor": 2
}
