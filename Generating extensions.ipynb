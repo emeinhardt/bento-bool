{
 "cells": [
  {
   "cell_type": "code",
   "execution_count": 2,
   "metadata": {
    "ExecuteTime": {
     "end_time": "2019-05-13T22:38:55.953732Z",
     "start_time": "2019-05-13T22:38:55.950298Z"
    }
   },
   "outputs": [],
   "source": [
    "#Prints **all** console output, not just last item in cell \n",
    "from IPython.core.interactiveshell import InteractiveShell\n",
    "InteractiveShell.ast_node_interactivity = \"all\""
   ]
  },
  {
   "cell_type": "markdown",
   "metadata": {},
   "source": [
    "**Eric Meinhardt / emeinhardt@ucsd.edu**"
   ]
  },
  {
   "cell_type": "code",
   "execution_count": 3,
   "metadata": {
    "ExecuteTime": {
     "end_time": "2019-05-13T22:38:57.839558Z",
     "start_time": "2019-05-13T22:38:56.730187Z"
    }
   },
   "outputs": [],
   "source": [
    "import numpy as np\n",
    "myint = np.int8"
   ]
  },
  {
   "cell_type": "code",
   "execution_count": 4,
   "metadata": {
    "ExecuteTime": {
     "end_time": "2019-05-13T22:38:57.844698Z",
     "start_time": "2019-05-13T22:38:57.842054Z"
    }
   },
   "outputs": [],
   "source": [
    "from itertools import starmap, product, combinations, chain"
   ]
  },
  {
   "cell_type": "code",
   "execution_count": 5,
   "metadata": {
    "ExecuteTime": {
     "end_time": "2019-05-13T22:38:57.851396Z",
     "start_time": "2019-05-13T22:38:57.846167Z"
    }
   },
   "outputs": [],
   "source": [
    "from functools import reduce"
   ]
  },
  {
   "cell_type": "code",
   "execution_count": 6,
   "metadata": {
    "ExecuteTime": {
     "end_time": "2019-05-13T22:38:58.366294Z",
     "start_time": "2019-05-13T22:38:57.853032Z"
    }
   },
   "outputs": [],
   "source": [
    "from tqdm import tqdm\n",
    "\n",
    "from joblib import Parallel, delayed, Memory\n",
    "\n",
    "J = -1\n",
    "BACKEND = 'multiprocessing'\n",
    "# BACKEND = 'loky'\n",
    "V = 10\n",
    "PREFER = 'processes'\n",
    "# PREFER = 'threads'\n",
    "\n",
    "def par(gen_expr, j=None, backend=None, verbose=None, prefer=None):\n",
    "    if j is None:\n",
    "        j = J\n",
    "    if backend is None:\n",
    "        backend = BACKEND\n",
    "    if verbose is None:\n",
    "        verbose = V\n",
    "    if prefer is None:\n",
    "        prefer = PREFER\n",
    "    return Parallel(n_jobs=j, backend=backend, verbose=verbose, prefer=prefer)(gen_expr)\n",
    "\n",
    "def identity(x):\n",
    "    return x"
   ]
  },
  {
   "cell_type": "code",
   "execution_count": 7,
   "metadata": {
    "ExecuteTime": {
     "end_time": "2019-05-13T22:38:58.370972Z",
     "start_time": "2019-05-13T22:38:58.368281Z"
    }
   },
   "outputs": [],
   "source": [
    "from random import choice"
   ]
  },
  {
   "cell_type": "code",
   "execution_count": 8,
   "metadata": {
    "ExecuteTime": {
     "end_time": "2019-05-13T22:38:58.375750Z",
     "start_time": "2019-05-13T22:38:58.372363Z"
    }
   },
   "outputs": [],
   "source": [
    "CAREFUL = False"
   ]
  },
  {
   "cell_type": "code",
   "execution_count": 9,
   "metadata": {
    "ExecuteTime": {
     "end_time": "2019-05-13T22:39:01.759776Z",
     "start_time": "2019-05-13T22:38:58.657760Z"
    }
   },
   "outputs": [],
   "source": [
    "import sparse"
   ]
  },
  {
   "cell_type": "code",
   "execution_count": 99,
   "metadata": {
    "ExecuteTime": {
     "end_time": "2019-05-14T00:21:50.782473Z",
     "start_time": "2019-05-14T00:21:50.726791Z"
    }
   },
   "outputs": [],
   "source": [
    "from scipy.special import binom#, comb"
   ]
  },
  {
   "cell_type": "code",
   "execution_count": 110,
   "metadata": {
    "ExecuteTime": {
     "end_time": "2019-05-14T00:39:26.362424Z",
     "start_time": "2019-05-14T00:39:26.360030Z"
    }
   },
   "outputs": [],
   "source": [
    "import os"
   ]
  },
  {
   "cell_type": "markdown",
   "metadata": {},
   "source": [
    "# Read in (or make) object vectors"
   ]
  },
  {
   "cell_type": "markdown",
   "metadata": {},
   "source": [
    "## Make"
   ]
  },
  {
   "cell_type": "code",
   "execution_count": 10,
   "metadata": {
    "ExecuteTime": {
     "end_time": "2019-05-13T22:39:01.763643Z",
     "start_time": "2019-05-13T22:39:01.761587Z"
    }
   },
   "outputs": [],
   "source": [
    "m = 5"
   ]
  },
  {
   "cell_type": "code",
   "execution_count": 11,
   "metadata": {
    "ExecuteTime": {
     "end_time": "2019-05-13T22:39:01.776936Z",
     "start_time": "2019-05-13T22:39:01.764912Z"
    }
   },
   "outputs": [
    {
     "data": {
      "text/plain": [
       "32"
      ]
     },
     "execution_count": 11,
     "metadata": {},
     "output_type": "execute_result"
    },
    {
     "data": {
      "text/plain": [
       "243"
      ]
     },
     "execution_count": 11,
     "metadata": {},
     "output_type": "execute_result"
    }
   ],
   "source": [
    "max_num_objects = 2 ** m\n",
    "max_num_objects\n",
    "\n",
    "max_num_partial_fvs = (2 + 1) ** m\n",
    "max_num_partial_fvs"
   ]
  },
  {
   "cell_type": "code",
   "execution_count": 12,
   "metadata": {
    "ExecuteTime": {
     "end_time": "2019-05-13T22:39:01.781373Z",
     "start_time": "2019-05-13T22:39:01.779033Z"
    }
   },
   "outputs": [],
   "source": [
    "def make_random_pfv():\n",
    "    return np.random.randint(3, size=m, dtype=myint) - 1"
   ]
  },
  {
   "cell_type": "code",
   "execution_count": 13,
   "metadata": {
    "ExecuteTime": {
     "end_time": "2019-05-13T22:39:01.789636Z",
     "start_time": "2019-05-13T22:39:01.782703Z"
    }
   },
   "outputs": [
    {
     "data": {
      "text/plain": [
       "32"
      ]
     },
     "execution_count": 13,
     "metadata": {},
     "output_type": "execute_result"
    },
    {
     "data": {
      "text/plain": [
       "15"
      ]
     },
     "execution_count": 13,
     "metadata": {},
     "output_type": "execute_result"
    }
   ],
   "source": [
    "max_num_objects\n",
    "actual_num_objects = np.random.randint(max_num_objects)\n",
    "# actual_num_objects = 40\n",
    "actual_num_objects\n",
    "\n",
    "assert actual_num_objects < max_num_objects"
   ]
  },
  {
   "cell_type": "code",
   "execution_count": 14,
   "metadata": {
    "ExecuteTime": {
     "end_time": "2019-05-13T22:39:01.798208Z",
     "start_time": "2019-05-13T22:39:01.790716Z"
    }
   },
   "outputs": [
    {
     "data": {
      "text/plain": [
       "12"
      ]
     },
     "execution_count": 14,
     "metadata": {},
     "output_type": "execute_result"
    },
    {
     "data": {
      "text/plain": [
       "(array([ 1,  1, -1,  1, -1]),\n",
       " array([ 1,  1,  1, -1, -1]),\n",
       " array([-1, -1,  1,  1, -1]),\n",
       " array([ 1,  1,  1, -1,  1]),\n",
       " array([ 1,  1, -1,  1,  1]),\n",
       " array([ 1, -1,  1, -1,  1]),\n",
       " array([ 1, -1, -1,  1,  1]),\n",
       " array([ 1, -1,  1,  1, -1]),\n",
       " array([ 1, -1, -1, -1, -1]),\n",
       " array([ 1, -1, -1,  1, -1]),\n",
       " array([1, 1, 1, 1, 1]),\n",
       " array([-1,  1, -1, -1,  1]))"
      ]
     },
     "execution_count": 14,
     "metadata": {},
     "output_type": "execute_result"
    }
   ],
   "source": [
    "objects = tuple(set([tuple(np.random.randint(2, size=m)) for each in range(actual_num_objects)]))\n",
    "objects = tuple(map(np.array, objects))\n",
    "l = len(objects)\n",
    "\n",
    "def zeroToMinusOne(u):\n",
    "    return np.array([x if x == 1 else -1 for x in u])\n",
    "\n",
    "objects = tuple([zeroToMinusOne(o) for o in objects])\n",
    "\n",
    "\n",
    "actual_num_objects = len(objects)\n",
    "actual_num_objects\n",
    "objects"
   ]
  },
  {
   "cell_type": "code",
   "execution_count": 15,
   "metadata": {
    "ExecuteTime": {
     "end_time": "2019-05-13T22:39:01.814451Z",
     "start_time": "2019-05-13T22:39:01.799313Z"
    }
   },
   "outputs": [
    {
     "data": {
      "text/plain": [
       "(12, 5)"
      ]
     },
     "execution_count": 15,
     "metadata": {},
     "output_type": "execute_result"
    },
    {
     "data": {
      "text/plain": [
       "array([[ 1,  1, -1,  1, -1],\n",
       "       [ 1,  1,  1, -1, -1],\n",
       "       [-1, -1,  1,  1, -1],\n",
       "       [ 1,  1,  1, -1,  1],\n",
       "       [ 1,  1, -1,  1,  1],\n",
       "       [ 1, -1,  1, -1,  1],\n",
       "       [ 1, -1, -1,  1,  1],\n",
       "       [ 1, -1,  1,  1, -1],\n",
       "       [ 1, -1, -1, -1, -1],\n",
       "       [ 1, -1, -1,  1, -1],\n",
       "       [ 1,  1,  1,  1,  1],\n",
       "       [-1,  1, -1, -1,  1]])"
      ]
     },
     "execution_count": 15,
     "metadata": {},
     "output_type": "execute_result"
    },
    {
     "data": {
      "text/plain": [
       "array([ 1,  1, -1,  1, -1])"
      ]
     },
     "execution_count": 15,
     "metadata": {},
     "output_type": "execute_result"
    }
   ],
   "source": [
    "objectMap = np.array([objects[i] for i in range(l)])\n",
    "objectMap.shape\n",
    "objectMap\n",
    "objectMap[0]\n",
    "\n",
    "O = objectMap"
   ]
  },
  {
   "cell_type": "markdown",
   "metadata": {},
   "source": [
    "## Read-in"
   ]
  },
  {
   "cell_type": "code",
   "execution_count": null,
   "metadata": {},
   "outputs": [],
   "source": []
  },
  {
   "cell_type": "code",
   "execution_count": 16,
   "metadata": {
    "ExecuteTime": {
     "end_time": "2019-05-13T22:39:01.817866Z",
     "start_time": "2019-05-13T22:39:01.816211Z"
    }
   },
   "outputs": [],
   "source": [
    "# m = 5"
   ]
  },
  {
   "cell_type": "code",
   "execution_count": 17,
   "metadata": {
    "ExecuteTime": {
     "end_time": "2019-05-13T22:39:02.184710Z",
     "start_time": "2019-05-13T22:39:02.182569Z"
    }
   },
   "outputs": [],
   "source": [
    "# O = "
   ]
  },
  {
   "cell_type": "markdown",
   "metadata": {},
   "source": [
    "# Operations "
   ]
  },
  {
   "cell_type": "markdown",
   "metadata": {},
   "source": [
    "## Make generator vectors"
   ]
  },
  {
   "cell_type": "code",
   "execution_count": 18,
   "metadata": {
    "ExecuteTime": {
     "end_time": "2019-05-13T22:39:02.955723Z",
     "start_time": "2019-05-13T22:39:02.949867Z"
    }
   },
   "outputs": [],
   "source": [
    "def make_generator_vectors(num_features):\n",
    "    basis_vectors = [np.zeros(num_features, dtype=myint) for each in range(num_features)]\n",
    "    basis_vectors_neg = [np.zeros(num_features, dtype=myint) for each in range(num_features)]\n",
    "    for i,v in enumerate(basis_vectors):\n",
    "        v[i] = 1\n",
    "    for i,v in enumerate(basis_vectors_neg):\n",
    "        v[i] = -1\n",
    "    generators = basis_vectors + basis_vectors_neg\n",
    "    return generators"
   ]
  },
  {
   "cell_type": "code",
   "execution_count": 19,
   "metadata": {
    "ExecuteTime": {
     "end_time": "2019-05-13T22:39:03.128300Z",
     "start_time": "2019-05-13T22:39:03.122859Z"
    }
   },
   "outputs": [
    {
     "data": {
      "text/plain": [
       "[array([1, 0, 0, 0, 0], dtype=int8),\n",
       " array([0, 1, 0, 0, 0], dtype=int8),\n",
       " array([0, 0, 1, 0, 0], dtype=int8),\n",
       " array([0, 0, 0, 1, 0], dtype=int8),\n",
       " array([0, 0, 0, 0, 1], dtype=int8),\n",
       " array([-1,  0,  0,  0,  0], dtype=int8),\n",
       " array([ 0, -1,  0,  0,  0], dtype=int8),\n",
       " array([ 0,  0, -1,  0,  0], dtype=int8),\n",
       " array([ 0,  0,  0, -1,  0], dtype=int8),\n",
       " array([ 0,  0,  0,  0, -1], dtype=int8)]"
      ]
     },
     "execution_count": 19,
     "metadata": {},
     "output_type": "execute_result"
    }
   ],
   "source": [
    "generators = make_generator_vectors(m)\n",
    "generators"
   ]
  },
  {
   "cell_type": "code",
   "execution_count": 20,
   "metadata": {
    "ExecuteTime": {
     "end_time": "2019-05-13T22:39:03.321397Z",
     "start_time": "2019-05-13T22:39:03.318724Z"
    }
   },
   "outputs": [],
   "source": [
    "# max_num_objects = 2 ** m\n",
    "# max_num_objects\n",
    "\n",
    "# max_num_partial_fvs = (2 + 1) ** m\n",
    "# max_num_partial_fvs"
   ]
  },
  {
   "cell_type": "markdown",
   "metadata": {},
   "source": [
    "## Boilerplate"
   ]
  },
  {
   "cell_type": "code",
   "execution_count": 21,
   "metadata": {
    "ExecuteTime": {
     "end_time": "2019-05-13T22:39:03.755848Z",
     "start_time": "2019-05-13T22:39:03.752594Z"
    }
   },
   "outputs": [],
   "source": [
    "def wf_pfv(v):\n",
    "    allowedValues = {-1,0,1}\n",
    "    return all([x in allowedValues for x in v])"
   ]
  },
  {
   "cell_type": "code",
   "execution_count": 22,
   "metadata": {
    "ExecuteTime": {
     "end_time": "2019-05-13T22:39:03.966149Z",
     "start_time": "2019-05-13T22:39:03.962865Z"
    }
   },
   "outputs": [],
   "source": [
    "def wf_tfv(v):\n",
    "    allowedValues = {-1,1}\n",
    "    return all([x in allowedValues for x in v])"
   ]
  },
  {
   "cell_type": "code",
   "execution_count": 23,
   "metadata": {
    "ExecuteTime": {
     "end_time": "2019-05-13T22:39:04.157538Z",
     "start_time": "2019-05-13T22:39:04.153021Z"
    }
   },
   "outputs": [],
   "source": [
    "def uniquify(ndarray_iterable):\n",
    "    tuples = [tuple(a) for a in ndarray_iterable]\n",
    "    s = set(tuples)\n",
    "    arrays = [np.array(t) for t in s]\n",
    "    return arrays"
   ]
  },
  {
   "cell_type": "markdown",
   "metadata": {},
   "source": [
    "## Agreement"
   ]
  },
  {
   "cell_type": "code",
   "execution_count": 24,
   "metadata": {
    "ExecuteTime": {
     "end_time": "2019-05-13T22:39:04.518121Z",
     "start_time": "2019-05-13T22:39:04.513263Z"
    }
   },
   "outputs": [],
   "source": [
    "def ag(x,y):\n",
    "    '''\n",
    "    Formula:\n",
    "    (x == 0 or y == 0) or ((x != 0 and y != 0) and (x == y)), where T = 1 and F = 0\n",
    "    \n",
    "    Pattern:\n",
    "    x = x ⟶ 1\n",
    "    0 = _ ⟶ 1\n",
    "    _ = 0 ⟶ 1\n",
    "    _ = _ ⟶ 0\n",
    "    '''\n",
    "    if x == y:\n",
    "        return True\n",
    "    elif x == 0:\n",
    "        return True\n",
    "    elif y == 0:\n",
    "        return True\n",
    "    else:\n",
    "        return False"
   ]
  },
  {
   "cell_type": "code",
   "execution_count": 25,
   "metadata": {
    "ExecuteTime": {
     "end_time": "2019-05-13T22:39:04.705153Z",
     "start_time": "2019-05-13T22:39:04.700403Z"
    }
   },
   "outputs": [],
   "source": [
    "def agree(u,v):\n",
    "    '''\n",
    "    Given two vectors u and v, returns a binary vector indicating,\n",
    "    elementwise, whether u and v 'agree'.\n",
    "    \n",
    "    agree(u[i], v[i]) iff (u[i] == 0 or v[i] == 0) or (u[i] == v[i])\n",
    "    '''\n",
    "#     return np.array([True if (u[i] == 0 or v[i] == 0) or (u[i] == v[i]) else False \n",
    "#                      for i in range(len(u))])\n",
    "    return np.array([1 if (u[i] == 0 or v[i] == 0) or (u[i] == v[i]) else 0 \n",
    "                     for i in range(len(u))], dtype=myint)"
   ]
  },
  {
   "cell_type": "code",
   "execution_count": 26,
   "metadata": {
    "ExecuteTime": {
     "end_time": "2019-05-13T22:39:04.880365Z",
     "start_time": "2019-05-13T22:39:04.877904Z"
    }
   },
   "outputs": [],
   "source": [
    "def agree_(u,v):\n",
    "    '''\n",
    "    Given two vectors u and v, return 1 iff u and v agree at all indices\n",
    "    and 0 otherwise.\n",
    "    '''\n",
    "    ag = agree(u,v)\n",
    "    return int(ag.all())"
   ]
  },
  {
   "cell_type": "code",
   "execution_count": 27,
   "metadata": {
    "ExecuteTime": {
     "end_time": "2019-05-13T22:39:05.085080Z",
     "start_time": "2019-05-13T22:39:05.080642Z"
    }
   },
   "outputs": [],
   "source": [
    "def agree_mat(A,B):\n",
    "    '''\n",
    "    Given two matrices A::(n,m) and B::(n,m), \n",
    "    return C::(n,1) where \n",
    "    C[i] = 1 iff A[i] and B[i] agree at all indices\n",
    "    and 0 otherwise.\n",
    "    '''\n",
    "    # (x == 0 or y == 0) or ((x != 0 and y != 0) and (x == y))\n",
    "    A_unspecified = A == 0\n",
    "    B_unspecified = B == 0\n",
    "    A_or_B_unspecified = A_unspecified | B_unspecified\n",
    "    \n",
    "    A_specified = A != 0\n",
    "    B_specified = B != 0\n",
    "    A_and_B_specified = A_specified & B_specified\n",
    "    A_equal_B = np.equal(A,B)\n",
    "    A_B_both_specified_and_equal = A_and_B_specified & A_equal_B\n",
    "\n",
    "    ag = A_or_B_unspecified | A_B_both_specified_and_equal\n",
    "#     return ag\n",
    "    result = np.prod(ag, axis=-1, dtype=myint)\n",
    "    return result"
   ]
  },
  {
   "cell_type": "code",
   "execution_count": 28,
   "metadata": {
    "ExecuteTime": {
     "end_time": "2019-05-13T22:39:05.273523Z",
     "start_time": "2019-05-13T22:39:05.267936Z"
    }
   },
   "outputs": [],
   "source": [
    "def make_agreeing_vector_pair(pred=None):\n",
    "    u = make_random_pfv()\n",
    "    v = make_random_pfv()\n",
    "    if pred is None:\n",
    "        while not agree_(u,v):\n",
    "            u = make_random_pfv()\n",
    "            v = make_random_pfv()\n",
    "        return u,v\n",
    "    while not agree_(u,v) and not pred(u,v):\n",
    "        u = make_random_pfv()\n",
    "        v = make_random_pfv()\n",
    "    return u,v"
   ]
  },
  {
   "cell_type": "code",
   "execution_count": 29,
   "metadata": {
    "ExecuteTime": {
     "end_time": "2019-05-13T22:39:06.388929Z",
     "start_time": "2019-05-13T22:39:05.670112Z"
    }
   },
   "outputs": [
    {
     "data": {
      "text/plain": [
       "100000"
      ]
     },
     "execution_count": 29,
     "metadata": {},
     "output_type": "execute_result"
    }
   ],
   "source": [
    "num_test_pairs = int(1e5)\n",
    "random_vector_pairs = [(make_random_pfv(), make_random_pfv()) for each in range(num_test_pairs)]\n",
    "len(random_vector_pairs)"
   ]
  },
  {
   "cell_type": "code",
   "execution_count": 30,
   "metadata": {
    "ExecuteTime": {
     "end_time": "2019-05-13T22:39:15.972136Z",
     "start_time": "2019-05-13T22:39:06.390367Z"
    }
   },
   "outputs": [
    {
     "data": {
      "text/plain": [
       "100000"
      ]
     },
     "execution_count": 30,
     "metadata": {},
     "output_type": "execute_result"
    }
   ],
   "source": [
    "num_test_pairs = int(1e5)\n",
    "agreeing_vector_pairs = [make_agreeing_vector_pair() for each in range(num_test_pairs)]\n",
    "len(agreeing_vector_pairs)"
   ]
  },
  {
   "cell_type": "code",
   "execution_count": 31,
   "metadata": {
    "ExecuteTime": {
     "end_time": "2019-05-13T22:39:16.039776Z",
     "start_time": "2019-05-13T22:39:15.973454Z"
    }
   },
   "outputs": [
    {
     "data": {
      "text/plain": [
       "dtype('int8')"
      ]
     },
     "execution_count": 31,
     "metadata": {},
     "output_type": "execute_result"
    },
    {
     "data": {
      "text/plain": [
       "dtype('int8')"
      ]
     },
     "execution_count": 31,
     "metadata": {},
     "output_type": "execute_result"
    }
   ],
   "source": [
    "first = lambda seq: seq[0]\n",
    "second = lambda seq: seq[1]\n",
    "\n",
    "stack_a, stack_b = list(map(first, random_vector_pairs)), list(map(second, random_vector_pairs))\n",
    "random_pair_stack_a, random_pair_stack_b = np.array(stack_a), np.array(stack_b)\n",
    "random_pair_stack_a.dtype\n",
    "random_pair_stack_b.dtype"
   ]
  },
  {
   "cell_type": "code",
   "execution_count": 32,
   "metadata": {
    "ExecuteTime": {
     "end_time": "2019-05-13T22:39:16.122554Z",
     "start_time": "2019-05-13T22:39:16.041385Z"
    }
   },
   "outputs": [
    {
     "data": {
      "text/plain": [
       "dtype('int8')"
      ]
     },
     "execution_count": 32,
     "metadata": {},
     "output_type": "execute_result"
    },
    {
     "data": {
      "text/plain": [
       "dtype('int8')"
      ]
     },
     "execution_count": 32,
     "metadata": {},
     "output_type": "execute_result"
    }
   ],
   "source": [
    "stack_a, stack_b = list(map(first, agreeing_vector_pairs)), list(map(second, agreeing_vector_pairs))\n",
    "agreeing_pair_stack_a, agreeing_pair_stack_b = np.array(stack_a), np.array(stack_b)\n",
    "agreeing_pair_stack_a.dtype\n",
    "agreeing_pair_stack_b.dtype"
   ]
  },
  {
   "cell_type": "code",
   "execution_count": 32,
   "metadata": {
    "ExecuteTime": {
     "end_time": "2019-05-13T00:42:52.975688Z",
     "start_time": "2019-05-13T00:42:41.196745Z"
    }
   },
   "outputs": [
    {
     "name": "stdout",
     "output_type": "stream",
     "text": [
      "1.47 s ± 2.84 ms per loop (mean ± std. dev. of 7 runs, 1 loop each)\n"
     ]
    }
   ],
   "source": [
    "%%timeit\n",
    "\n",
    "list(starmap(agree_, random_vector_pairs));"
   ]
  },
  {
   "cell_type": "code",
   "execution_count": 33,
   "metadata": {
    "ExecuteTime": {
     "end_time": "2019-05-13T00:42:55.197020Z",
     "start_time": "2019-05-13T00:42:52.976716Z"
    }
   },
   "outputs": [
    {
     "name": "stdout",
     "output_type": "stream",
     "text": [
      "2.73 ms ± 4.81 µs per loop (mean ± std. dev. of 7 runs, 100 loops each)\n"
     ]
    }
   ],
   "source": [
    "%%timeit\n",
    "\n",
    "agree_mat(random_pair_stack_a, random_pair_stack_b)"
   ]
  },
  {
   "cell_type": "code",
   "execution_count": 33,
   "metadata": {
    "ExecuteTime": {
     "end_time": "2019-05-13T22:39:17.951965Z",
     "start_time": "2019-05-13T22:39:16.124069Z"
    }
   },
   "outputs": [
    {
     "data": {
      "text/plain": [
       "True"
      ]
     },
     "execution_count": 33,
     "metadata": {},
     "output_type": "execute_result"
    }
   ],
   "source": [
    "np.array_equal(agree_mat(random_pair_stack_a, random_pair_stack_b), \n",
    "               list(starmap(agree_, random_vector_pairs)))"
   ]
  },
  {
   "cell_type": "code",
   "execution_count": 34,
   "metadata": {
    "ExecuteTime": {
     "end_time": "2019-05-13T22:39:22.437357Z",
     "start_time": "2019-05-13T22:39:19.140258Z"
    }
   },
   "outputs": [],
   "source": [
    "n = num_test_pairs\n",
    "for i in range(n):\n",
    "    u = random_pair_stack_a[i]\n",
    "    v = random_pair_stack_b[i]\n",
    "    assert agree_(u,v) == agree_mat(u,v), '{0}, {1} -> {2} vs. {3}'.format(u,v, agree_(u,v), agree_mat(u,v, True))"
   ]
  },
  {
   "cell_type": "code",
   "execution_count": 35,
   "metadata": {
    "ExecuteTime": {
     "end_time": "2019-05-13T22:39:22.441416Z",
     "start_time": "2019-05-13T22:39:22.439241Z"
    }
   },
   "outputs": [],
   "source": [
    "agreement = agree_mat"
   ]
  },
  {
   "cell_type": "markdown",
   "metadata": {},
   "source": [
    "## Union"
   ]
  },
  {
   "cell_type": "code",
   "execution_count": 36,
   "metadata": {
    "ExecuteTime": {
     "end_time": "2019-05-13T22:39:22.473986Z",
     "start_time": "2019-05-13T22:39:22.443075Z"
    }
   },
   "outputs": [
    {
     "data": {
      "text/plain": [
       "((-1, -1), (-1, 0), (-1, 1), (0, -1), (0, 0), (0, 1), (1, -1), (1, 0), (1, 1))"
      ]
     },
     "execution_count": 36,
     "metadata": {},
     "output_type": "execute_result"
    },
    {
     "data": {
      "text/plain": [
       "((-1, -1), -1)"
      ]
     },
     "execution_count": 36,
     "metadata": {},
     "output_type": "execute_result"
    },
    {
     "data": {
      "text/plain": [
       "((-1, 0), -1)"
      ]
     },
     "execution_count": 36,
     "metadata": {},
     "output_type": "execute_result"
    },
    {
     "data": {
      "text/plain": [
       "((-1, 1), 0)"
      ]
     },
     "execution_count": 36,
     "metadata": {},
     "output_type": "execute_result"
    },
    {
     "data": {
      "text/plain": [
       "((0, -1), -1)"
      ]
     },
     "execution_count": 36,
     "metadata": {},
     "output_type": "execute_result"
    },
    {
     "data": {
      "text/plain": [
       "((0, 0), 0)"
      ]
     },
     "execution_count": 36,
     "metadata": {},
     "output_type": "execute_result"
    },
    {
     "data": {
      "text/plain": [
       "((0, 1), 1)"
      ]
     },
     "execution_count": 36,
     "metadata": {},
     "output_type": "execute_result"
    },
    {
     "data": {
      "text/plain": [
       "((1, -1), 0)"
      ]
     },
     "execution_count": 36,
     "metadata": {},
     "output_type": "execute_result"
    },
    {
     "data": {
      "text/plain": [
       "((1, 0), 1)"
      ]
     },
     "execution_count": 36,
     "metadata": {},
     "output_type": "execute_result"
    },
    {
     "data": {
      "text/plain": [
       "((1, 1), 1)"
      ]
     },
     "execution_count": 36,
     "metadata": {},
     "output_type": "execute_result"
    }
   ],
   "source": [
    "XYs = tuple(product((-1,0,1), (-1,0,1)))\n",
    "XYs\n",
    "\n",
    "def cup(x,y):\n",
    "    '''\n",
    "    Formula:\n",
    "    x or y, where 1 = T, -1 = T, 0 = F\n",
    "    \n",
    "    Algebra:\n",
    "    0 is the identity ∀x ∈ {-1,0,+1}\n",
    "    x is its own identity ∀x ∈ {-1,0,+1}\n",
    "    (-1 and +1 are mutual inverses, but this case shouldn't occur when agree(x,y) holds)\n",
    "    \n",
    "    Pattern:\n",
    "    x ∪ x = x\n",
    "    \n",
    "    0 ∪ y = y\n",
    "    x ∪ 0 = x\n",
    "    \n",
    "    _ ∪ _ = 0  \\\\ <- shouldn't occur in two pfvs that agree\n",
    "    '''\n",
    "    if x == 0:  #if x is unspecified, return y\n",
    "        return y\n",
    "    elif y == 0: #if y is unspecified, return x\n",
    "        return x\n",
    "    elif x == y: #if both are specified and the same, return their common value\n",
    "        return x\n",
    "    else: #otherwise return 0\n",
    "        return 0\n",
    "\n",
    "for x,y in XYs:\n",
    "    ((x,y), cup(x,y))"
   ]
  },
  {
   "cell_type": "code",
   "execution_count": 37,
   "metadata": {
    "ExecuteTime": {
     "end_time": "2019-05-13T22:39:22.477852Z",
     "start_time": "2019-05-13T22:39:22.475604Z"
    }
   },
   "outputs": [],
   "source": [
    "def union(u, v):\n",
    "    if CAREFUL:\n",
    "        assert agree_(u,v)\n",
    "    return np.sign(u + v)"
   ]
  },
  {
   "cell_type": "markdown",
   "metadata": {},
   "source": [
    "## Intersection"
   ]
  },
  {
   "cell_type": "code",
   "execution_count": 38,
   "metadata": {
    "ExecuteTime": {
     "end_time": "2019-05-13T22:39:22.501079Z",
     "start_time": "2019-05-13T22:39:22.483132Z"
    }
   },
   "outputs": [
    {
     "data": {
      "text/plain": [
       "((-1, -1), (-1, 0), (-1, 1), (0, -1), (0, 0), (0, 1), (1, -1), (1, 0), (1, 1))"
      ]
     },
     "execution_count": 38,
     "metadata": {},
     "output_type": "execute_result"
    },
    {
     "data": {
      "text/plain": [
       "((-1, -1), -1, -1)"
      ]
     },
     "execution_count": 38,
     "metadata": {},
     "output_type": "execute_result"
    },
    {
     "data": {
      "text/plain": [
       "((-1, 0), 0, 0)"
      ]
     },
     "execution_count": 38,
     "metadata": {},
     "output_type": "execute_result"
    },
    {
     "data": {
      "text/plain": [
       "((-1, 1), 0, 0)"
      ]
     },
     "execution_count": 38,
     "metadata": {},
     "output_type": "execute_result"
    },
    {
     "data": {
      "text/plain": [
       "((0, -1), 0, 0)"
      ]
     },
     "execution_count": 38,
     "metadata": {},
     "output_type": "execute_result"
    },
    {
     "data": {
      "text/plain": [
       "((0, 0), 0, 0)"
      ]
     },
     "execution_count": 38,
     "metadata": {},
     "output_type": "execute_result"
    },
    {
     "data": {
      "text/plain": [
       "((0, 1), 0, 0)"
      ]
     },
     "execution_count": 38,
     "metadata": {},
     "output_type": "execute_result"
    },
    {
     "data": {
      "text/plain": [
       "((1, -1), 0, 0)"
      ]
     },
     "execution_count": 38,
     "metadata": {},
     "output_type": "execute_result"
    },
    {
     "data": {
      "text/plain": [
       "((1, 0), 0, 0)"
      ]
     },
     "execution_count": 38,
     "metadata": {},
     "output_type": "execute_result"
    },
    {
     "data": {
      "text/plain": [
       "((1, 1), 1, 1)"
      ]
     },
     "execution_count": 38,
     "metadata": {},
     "output_type": "execute_result"
    }
   ],
   "source": [
    "XYs = tuple(product((-1,0,1), (-1,0,1)))\n",
    "XYs \n",
    "    \n",
    "def cap(x,y):\n",
    "    '''\n",
    "    Algebra:\n",
    "    0 is the annihilating element ∀x ∈ {-1,0,+1}\n",
    "    x is its own identity ∀x ∈ {-1,0,+1}\n",
    "    -1 and +1 annihilate each other\n",
    "    \n",
    "    Pattern:\n",
    "    x ∩ x = x\n",
    "    \n",
    "    0 ∩ _ = 0\n",
    "    _ ∩ 0 = 0\n",
    "    \n",
    "    _ ∩ _ = 0\n",
    "    '''\n",
    "    if x == 0: #if x is unspecified, return 0\n",
    "        return 0\n",
    "    elif y == 0: #if y is unspecified, return 0\n",
    "        return 0\n",
    "    elif x == y: #if both are specified and the same, return their common value\n",
    "        return x\n",
    "    else: #otherwise return 0\n",
    "        return 0\n",
    "\n",
    "def foo(x,y):\n",
    "    return np.sign( (x == y) * (x + y) )\n",
    "\n",
    "# def bar(x,y):\n",
    "#     return (x == y) * (x + y) * 0.5\n",
    "\n",
    "# def baz(x,y):\n",
    "#     return (x == y) * int((x + y) / 2)\n",
    "\n",
    "for x,y in XYs:\n",
    "#     ((x,y), cap(x,y))\n",
    "#     ((x,y), cap(x,y), foo(x,y), bar(x,y), baz(x,y))\n",
    "    ((x,y), cap(x,y), foo(x,y))"
   ]
  },
  {
   "cell_type": "code",
   "execution_count": 39,
   "metadata": {
    "ExecuteTime": {
     "end_time": "2019-05-13T22:39:23.173482Z",
     "start_time": "2019-05-13T22:39:23.170315Z"
    }
   },
   "outputs": [],
   "source": [
    "def intersection(u, v):\n",
    "    return np.sign(  np.equal(u, v) * (u + v) )"
   ]
  },
  {
   "cell_type": "markdown",
   "metadata": {},
   "source": [
    "## Extension"
   ]
  },
  {
   "cell_type": "code",
   "execution_count": 40,
   "metadata": {
    "ExecuteTime": {
     "end_time": "2019-05-13T22:39:25.108786Z",
     "start_time": "2019-05-13T22:39:25.103548Z"
    }
   },
   "outputs": [],
   "source": [
    "def getIndex(o, O):\n",
    "    matches = [i for i,v in enumerate(O) if np.array_equal(v,o)]\n",
    "    if len(matches) == 0:\n",
    "        return -1\n",
    "    if CAREFUL:\n",
    "        assert len(matches) == 1\n",
    "    return matches[0]"
   ]
  },
  {
   "cell_type": "code",
   "execution_count": 41,
   "metadata": {
    "ExecuteTime": {
     "end_time": "2019-05-13T22:39:25.426980Z",
     "start_time": "2019-05-13T22:39:25.423116Z"
    }
   },
   "outputs": [],
   "source": [
    "def makeExtensionVector(positive_Indices, O):\n",
    "    return np.array([1 if i in positive_Indices else 0 for i in np.arange(O.shape[0])], dtype=myint)"
   ]
  },
  {
   "cell_type": "code",
   "execution_count": 42,
   "metadata": {
    "ExecuteTime": {
     "end_time": "2019-05-13T22:39:25.711934Z",
     "start_time": "2019-05-13T22:39:25.707595Z"
    }
   },
   "outputs": [],
   "source": [
    "def extension(v, O, asIndexVector=True):\n",
    "    '''\n",
    "    The extension of a partial feature vector v is the set of object vectors\n",
    "    (= fully specified, or 'total' feature vectors) that 'agree' with it.\n",
    "    '''\n",
    "    matches = tuple([o for o in O if agree_(v,o)])\n",
    "#     matches = tuple([o for o in objects if agree(v,o).all()])\n",
    "#     matches = np.array([1.0 if np.linalg.norm(agree(v,o), 1) == num_features else 0.0 for o in objects])\n",
    "    if asIndexVector:\n",
    "        return makeExtensionVector([getIndex(o, O) for o in matches], O)\n",
    "    return matches"
   ]
  },
  {
   "cell_type": "code",
   "execution_count": 43,
   "metadata": {
    "ExecuteTime": {
     "end_time": "2019-05-13T22:39:26.786572Z",
     "start_time": "2019-05-13T22:39:26.780271Z"
    }
   },
   "outputs": [],
   "source": [
    "def ramp(M):\n",
    "    return np.heaviside(M-1, 1).astype(myint)\n",
    "\n",
    "def primed(p):\n",
    "    mag_p = np.sum(np.abs(p))\n",
    "    return p / mag_p\n",
    "\n",
    "def extension_alt3(s, O):\n",
    "    if np.array_equal(s, np.zeros(s.shape)):\n",
    "        return np.ones((l,), dtype=myint)\n",
    "    p = s\n",
    "#     mag_p = np.sum(np.abs(p))\n",
    "#     p_prime = p / mag_p\n",
    "    return ramp( np.dot(O, primed(p)) )"
   ]
  },
  {
   "cell_type": "code",
   "execution_count": 44,
   "metadata": {
    "ExecuteTime": {
     "end_time": "2019-05-13T22:39:27.402378Z",
     "start_time": "2019-05-13T22:39:27.399799Z"
    }
   },
   "outputs": [],
   "source": [
    "def extension_(pfv, O):\n",
    "    return agree_mat(pfv, O)"
   ]
  },
  {
   "cell_type": "code",
   "execution_count": 45,
   "metadata": {
    "ExecuteTime": {
     "end_time": "2019-05-13T22:39:28.903953Z",
     "start_time": "2019-05-13T22:39:28.536507Z"
    }
   },
   "outputs": [
    {
     "name": "stderr",
     "output_type": "stream",
     "text": [
      "100%|██████████| 100000/100000 [00:00<00:00, 275910.56it/s]\n"
     ]
    },
    {
     "data": {
      "text/plain": [
       "100000"
      ]
     },
     "execution_count": 45,
     "metadata": {},
     "output_type": "execute_result"
    }
   ],
   "source": [
    "num_test_pairs = int(1e5)\n",
    "random_vectors = [make_random_pfv() for each in tqdm(range(num_test_pairs))]\n",
    "len(random_vectors)"
   ]
  },
  {
   "cell_type": "code",
   "execution_count": 47,
   "metadata": {
    "ExecuteTime": {
     "end_time": "2019-05-13T00:45:38.595150Z",
     "start_time": "2019-05-13T00:42:59.911167Z"
    }
   },
   "outputs": [
    {
     "name": "stdout",
     "output_type": "stream",
     "text": [
      "19.8 s ± 56.8 ms per loop (mean ± std. dev. of 7 runs, 1 loop each)\n"
     ]
    }
   ],
   "source": [
    "%%timeit\n",
    "\n",
    "list(map(lambda v: extension(v, O), random_vectors))"
   ]
  },
  {
   "cell_type": "code",
   "execution_count": 48,
   "metadata": {
    "ExecuteTime": {
     "end_time": "2019-05-13T00:45:50.292406Z",
     "start_time": "2019-05-13T00:45:38.596172Z"
    }
   },
   "outputs": [
    {
     "name": "stdout",
     "output_type": "stream",
     "text": [
      "1.46 s ± 2.66 ms per loop (mean ± std. dev. of 7 runs, 1 loop each)\n"
     ]
    }
   ],
   "source": [
    "%%timeit\n",
    "\n",
    "list(map(lambda v: extension_alt3(v, O), random_vectors))"
   ]
  },
  {
   "cell_type": "code",
   "execution_count": 49,
   "metadata": {
    "ExecuteTime": {
     "end_time": "2019-05-13T00:46:00.322764Z",
     "start_time": "2019-05-13T00:45:50.293409Z"
    }
   },
   "outputs": [
    {
     "name": "stdout",
     "output_type": "stream",
     "text": [
      "1.24 s ± 12.5 ms per loop (mean ± std. dev. of 7 runs, 1 loop each)\n"
     ]
    }
   ],
   "source": [
    "%%timeit\n",
    "\n",
    "list(map(lambda v: extension_(v,O), random_vectors))"
   ]
  },
  {
   "cell_type": "code",
   "execution_count": 46,
   "metadata": {
    "ExecuteTime": {
     "end_time": "2019-05-13T22:39:30.723450Z",
     "start_time": "2019-05-13T22:39:30.720336Z"
    }
   },
   "outputs": [],
   "source": [
    "interpretation = extension_"
   ]
  },
  {
   "cell_type": "markdown",
   "metadata": {},
   "source": [
    "## Entailed pfvs"
   ]
  },
  {
   "cell_type": "code",
   "execution_count": 47,
   "metadata": {
    "ExecuteTime": {
     "end_time": "2019-05-13T22:39:32.232449Z",
     "start_time": "2019-05-13T22:39:32.216206Z"
    }
   },
   "outputs": [],
   "source": [
    "def specifiable_zero_indices(p, ext_p):\n",
    "    '''\n",
    "    Given p and A::(n,m) = ⟦p⟧:\n",
    "    \n",
    "    If p_j = 0 and ∀i A_{i,j} = k≠0, then\n",
    "    p_j is unspecified (i.e. p_j = 0) but \n",
    "    can be set to k and yield a co-extensive \n",
    "    and more specific pfv p'. (NB: p' entails \n",
    "    p.)\n",
    "    \n",
    "    This function returns a list of (index, value) pairs\n",
    "    indicating the set of 0-valued indices of p that can \n",
    "    be specified, plus what the common value at that index is.\n",
    "    \n",
    "    Correctly specifying any one or any combination\n",
    "    of the indices in this list of indices will result\n",
    "    in a more specific vector than p that is coextensive.\n",
    "    \n",
    "    From this list, you can construct (or count) all of the\n",
    "    more specified pfvs that are coextensive with p.\n",
    "    '''\n",
    "    A = ext_p\n",
    "    n = A.shape[0]\n",
    "    if n == 0:\n",
    "        return set()\n",
    "    n_opp = -1.0 * n\n",
    "#     zeros = np.nonzero(p)[0]\n",
    "    zero_indices = np.array(tuple(  set(range(len(p))) - set(np.nonzero(p)[0])  ), dtype=myint)\n",
    "    specifiable_indices = set()\n",
    "    for j in zero_indices:\n",
    "        j_col_sum = np.sum(A[:,j])\n",
    "        if j_col_sum == n:\n",
    "            specifiable_indices.add((j, 1))\n",
    "        if j_col_sum == n_opp:\n",
    "            specifiable_indices.add((j, -1))\n",
    "    return specifiable_indices\n",
    "\n",
    "def specify(p, specs):\n",
    "    '''\n",
    "    Given a partial feature vector p and a set of\n",
    "        (index i, non-zero value v)\n",
    "    pairs where p_i ≠ 0, returns a more specific p'\n",
    "    where p'_i = v as indicated by spec.\n",
    "    '''\n",
    "    p_prime = p.copy()\n",
    "    for i,v in specs:\n",
    "        p_prime[i] = v\n",
    "    return p_prime\n",
    "\n",
    "def entailed_pfvs(p, O, no_total_fvs = True):\n",
    "    '''\n",
    "    Given a partial feature vector p and a set of objects\n",
    "    (total feature vectors) O, this returns the set of\n",
    "    partial feature vectors that are strictly more specific\n",
    "    than p that have the same extension in O.\n",
    "    '''\n",
    "    x_p = np.array(extension(p, O, False))\n",
    "    specifiable_indices = specifiable_zero_indices(p, x_p)\n",
    "    num_specifiable_indices = len(specifiable_indices)\n",
    "    specifications = {tuple(combinations(specifiable_indices, r) )\n",
    "                      for r in range(1, num_specifiable_indices+1)}\n",
    "    entailed_vectors = np.array([specify(p, spec)\n",
    "                                 for r_level in specifications \n",
    "                                 for spec in r_level], dtype=myint)\n",
    "    if not no_total_fvs:\n",
    "        return entailed_vectors\n",
    "    entailed_pfvs = np.array([v for v in entailed_vectors\n",
    "                              if len(v.nonzero()[0]) < m])\n",
    "    return entailed_pfvs"
   ]
  },
  {
   "cell_type": "markdown",
   "metadata": {},
   "source": [
    "# Generation of $S_i$: all pfvs with exactly $i$ specified values"
   ]
  },
  {
   "cell_type": "code",
   "execution_count": 52,
   "metadata": {
    "ExecuteTime": {
     "end_time": "2019-05-13T00:46:00.346042Z",
     "start_time": "2019-05-13T00:46:00.342291Z"
    }
   },
   "outputs": [],
   "source": [
    "# from functools import reduce"
   ]
  },
  {
   "cell_type": "code",
   "execution_count": 48,
   "metadata": {
    "ExecuteTime": {
     "end_time": "2019-05-13T22:39:34.173688Z",
     "start_time": "2019-05-13T22:39:34.170310Z"
    }
   },
   "outputs": [],
   "source": [
    "def grand_union(pfvs):\n",
    "    return reduce(union, pfvs)"
   ]
  },
  {
   "cell_type": "code",
   "execution_count": 49,
   "metadata": {
    "ExecuteTime": {
     "end_time": "2019-05-13T22:39:34.553885Z",
     "start_time": "2019-05-13T22:39:34.550187Z"
    }
   },
   "outputs": [],
   "source": [
    "def one_hot_stack(indices):\n",
    "#     n_values = np.max(indices) + 1\n",
    "#     n_values = num_features\n",
    "    n_values = m\n",
    "    return np.eye(n_values,dtype=myint)[indices] "
   ]
  },
  {
   "cell_type": "code",
   "execution_count": 50,
   "metadata": {
    "ExecuteTime": {
     "end_time": "2019-05-13T22:39:34.905119Z",
     "start_time": "2019-05-13T22:39:34.897471Z"
    }
   },
   "outputs": [],
   "source": [
    "def indexChoicesToComponentOptions(index_choices):\n",
    "    indices = list(index_choices)\n",
    "    one_hots = one_hot_stack(indices)\n",
    "#     component_options = tuple([(v, -1 * v) for v in one_hots])\n",
    "    component_options = ((v, -1 * v) for v in one_hots)\n",
    "    return component_options\n",
    "\n",
    "def componentOptionsToChoices(component_options):\n",
    "#     choice_combinations = tuple(product(*component_options))\n",
    "    choice_combinations = product(*component_options)\n",
    "#     return tuple(starmap(union,\n",
    "#                          choice_combinations))\n",
    "#     return tuple(map(grand_union,\n",
    "#                      choice_combinations))\n",
    "    return map(grand_union, choice_combinations)\n",
    "\n",
    "def make_Si_naive(i):\n",
    "    index_choices = combinations(range(m), i)\n",
    "    componentOptions = (indexChoicesToComponentOptions(c) for c in index_choices)\n",
    "    componentChoices = (componentOptionsToChoices(o) for o in componentOptions)\n",
    "#     choices_flattened = reduce(lambda a,b: a + b, componentChoices)\n",
    "    choices_flattened = tuple(reduce(lambda a,b: chain.from_iterable([a,b]), componentChoices))\n",
    "    return np.array(choices_flattened)"
   ]
  },
  {
   "cell_type": "code",
   "execution_count": 51,
   "metadata": {
    "ExecuteTime": {
     "end_time": "2019-05-13T22:39:36.141175Z",
     "start_time": "2019-05-13T22:39:36.138129Z"
    }
   },
   "outputs": [],
   "source": [
    "construct_Si = make_Si_naive"
   ]
  },
  {
   "cell_type": "code",
   "execution_count": 52,
   "metadata": {
    "ExecuteTime": {
     "end_time": "2019-05-13T22:39:36.924355Z",
     "start_time": "2019-05-13T22:39:36.919973Z"
    }
   },
   "outputs": [],
   "source": [
    "# calculate_Xi = interpretation\n",
    "\n",
    "#FIXME this can/should be parallelized and memory mapped\n",
    "def calculate_Xi_naive(Si, O):\n",
    "    return np.array([interpretation(p, O) for p in Si], dtype=myint)"
   ]
  },
  {
   "cell_type": "code",
   "execution_count": 53,
   "metadata": {
    "ExecuteTime": {
     "end_time": "2019-05-13T22:40:06.612519Z",
     "start_time": "2019-05-13T22:40:06.603768Z"
    }
   },
   "outputs": [],
   "source": [
    "def heaviside(x):\n",
    "    return np.array(1 * (x >= 0))\n",
    "\n",
    "def extension_multi_bool(p_mat,V):\n",
    "    \"\"\"\n",
    "    Compute a boolean vector that represents the extension of p in V\n",
    "    \n",
    "    Inputs:\n",
    "        p_mat - a matrix of shape (M,num_p) with elements from {-1,0,1}.  The matrix of partially specified\n",
    "            feature vectors, containing num_p vectors\n",
    "        V-  a matrix of shape (L,M) with elements from {-1,1}.  The feature vectors\n",
    "    Outputs:\n",
    "        extension - a matrix of shape (L,num_p) with elements from {1,0}.  extension[l,i]=1 iff V[l,:] is \n",
    "            in the extension of p_mat[:,i]\n",
    "    \"\"\"\n",
    "    K_vec = np.sum(abs(p_mat),axis=0) #shape is (num_p,)\n",
    "    E = np.dot(V,p_mat) #shape is (L,num_p)\n",
    "    return heaviside(E-K_vec[np.newaxis,:])\n",
    "\n",
    "# calculate_Xi = extension_multi_bool\n",
    "\n",
    "def calculate_Xi(p_mat, V):\n",
    "    \"\"\"\n",
    "    Compute a boolean vector that represents the extension of p in V\n",
    "    \n",
    "    Inputs:\n",
    "        p_mat - a matrix of shape (num_p, M) with elements from {-1,0,1}.  The matrix of partially specified\n",
    "            feature vectors, containing num_p vectors\n",
    "        V-  a matrix of shape (L,M) with elements from {-1,1}.  The feature vectors\n",
    "    Outputs:\n",
    "        extension - a matrix of shape (L,num_p) with elements from {1,0}.  extension[l,i]=1 iff V[l,:] is \n",
    "            in the extension of p_mat[:,i]\n",
    "    \"\"\"\n",
    "    p_mat_prime = p_mat.T\n",
    "    K_vec = np.sum(abs(p_mat_prime),axis=0) #shape is (num_p,)\n",
    "    E = np.dot(V,p_mat_prime) #shape is (L,num_p)\n",
    "    result = heaviside(E-K_vec[np.newaxis,:]).T\n",
    "    \n",
    "#     K_vec_prime = np.sum(abs(p_mat), axis=1)\n",
    "# #     assert np.array_equal(K_vec_prime, K_vec.T)\n",
    "#     E_prime = np.dot(p_mat, V.T)\n",
    "# #     assert np.array_equal(E_prime, E.T)\n",
    "#     result_prime = heaviside(E_prime-K_vec_prime[:,np.newaxis])\n",
    "#     assert result_prime.shape == result.shape, '{0} vs. {1}'.format(result_prime.shape, result.shape)\n",
    "#     assert np.array_equal(result_prime, result.T)    \n",
    "    return result#_prime\n"
   ]
  },
  {
   "cell_type": "code",
   "execution_count": 54,
   "metadata": {
    "ExecuteTime": {
     "end_time": "2019-05-13T22:40:07.532313Z",
     "start_time": "2019-05-13T22:40:07.528160Z"
    }
   },
   "outputs": [
    {
     "data": {
      "text/plain": [
       "(12, 5)"
      ]
     },
     "execution_count": 54,
     "metadata": {},
     "output_type": "execute_result"
    }
   ],
   "source": [
    "O.shape"
   ]
  },
  {
   "cell_type": "code",
   "execution_count": 55,
   "metadata": {
    "ExecuteTime": {
     "end_time": "2019-05-13T22:40:07.973959Z",
     "start_time": "2019-05-13T22:40:07.970155Z"
    }
   },
   "outputs": [
    {
     "data": {
      "text/plain": [
       "5"
      ]
     },
     "execution_count": 55,
     "metadata": {},
     "output_type": "execute_result"
    }
   ],
   "source": [
    "m"
   ]
  },
  {
   "cell_type": "code",
   "execution_count": 56,
   "metadata": {
    "ExecuteTime": {
     "end_time": "2019-05-13T22:40:08.428898Z",
     "start_time": "2019-05-13T22:40:08.423318Z"
    }
   },
   "outputs": [
    {
     "data": {
      "text/plain": [
       "(80, 5)"
      ]
     },
     "execution_count": 56,
     "metadata": {},
     "output_type": "execute_result"
    }
   ],
   "source": [
    "S3 = construct_Si(3)\n",
    "S3.shape"
   ]
  },
  {
   "cell_type": "code",
   "execution_count": 57,
   "metadata": {
    "ExecuteTime": {
     "end_time": "2019-05-13T22:40:08.691918Z",
     "start_time": "2019-05-13T22:40:08.688307Z"
    }
   },
   "outputs": [
    {
     "data": {
      "text/plain": [
       "(5, 80)"
      ]
     },
     "execution_count": 57,
     "metadata": {},
     "output_type": "execute_result"
    }
   ],
   "source": [
    "S3.T.shape"
   ]
  },
  {
   "cell_type": "code",
   "execution_count": 58,
   "metadata": {
    "ExecuteTime": {
     "end_time": "2019-05-13T22:40:08.932008Z",
     "start_time": "2019-05-13T22:40:08.927757Z"
    }
   },
   "outputs": [
    {
     "data": {
      "text/plain": [
       "(12, 5)"
      ]
     },
     "execution_count": 58,
     "metadata": {},
     "output_type": "execute_result"
    }
   ],
   "source": [
    "O.shape"
   ]
  },
  {
   "cell_type": "code",
   "execution_count": 59,
   "metadata": {
    "ExecuteTime": {
     "end_time": "2019-05-13T22:40:18.271668Z",
     "start_time": "2019-05-13T22:40:09.229694Z"
    }
   },
   "outputs": [
    {
     "name": "stdout",
     "output_type": "stream",
     "text": [
      "1.11 ms ± 5.43 µs per loop (mean ± std. dev. of 7 runs, 1000 loops each)\n"
     ]
    }
   ],
   "source": [
    "%%timeit\n",
    "\n",
    "calculate_Xi_naive(S3, O)"
   ]
  },
  {
   "cell_type": "code",
   "execution_count": 148,
   "metadata": {
    "ExecuteTime": {
     "end_time": "2019-05-13T01:27:11.126566Z",
     "start_time": "2019-05-13T01:26:56.357365Z"
    }
   },
   "outputs": [
    {
     "name": "stdout",
     "output_type": "stream",
     "text": [
      "18.2 µs ± 58.2 ns per loop (mean ± std. dev. of 7 runs, 100000 loops each)\n"
     ]
    }
   ],
   "source": [
    "%%timeit\n",
    "\n",
    "calculate_Xi(S3, O)"
   ]
  },
  {
   "cell_type": "code",
   "execution_count": 60,
   "metadata": {
    "ExecuteTime": {
     "end_time": "2019-05-13T22:40:18.284577Z",
     "start_time": "2019-05-13T22:40:18.273321Z"
    },
    "scrolled": true
   },
   "outputs": [
    {
     "data": {
      "text/plain": [
       "(80, 12)"
      ]
     },
     "execution_count": 60,
     "metadata": {},
     "output_type": "execute_result"
    },
    {
     "data": {
      "text/plain": [
       "array([[0, 1, 0, 1, 0, 0, 0, 0, 0, 0, 1, 0],\n",
       "       [1, 0, 0, 0, 1, 0, 0, 0, 0, 0, 0, 0],\n",
       "       [0, 0, 0, 0, 0, 1, 0, 1, 0, 0, 0, 0],\n",
       "       [0, 0, 0, 0, 0, 0, 1, 0, 1, 1, 0, 0],\n",
       "       [0, 0, 0, 0, 0, 0, 0, 0, 0, 0, 0, 0],\n",
       "       [0, 0, 0, 0, 0, 0, 0, 0, 0, 0, 0, 1],\n",
       "       [0, 0, 1, 0, 0, 0, 0, 0, 0, 0, 0, 0],\n",
       "       [0, 0, 0, 0, 0, 0, 0, 0, 0, 0, 0, 0],\n",
       "       [1, 0, 0, 0, 1, 0, 0, 0, 0, 0, 1, 0],\n",
       "       [0, 1, 0, 1, 0, 0, 0, 0, 0, 0, 0, 0],\n",
       "       [0, 0, 0, 0, 0, 0, 1, 1, 0, 1, 0, 0],\n",
       "       [0, 0, 0, 0, 0, 1, 0, 0, 1, 0, 0, 0],\n",
       "       [0, 0, 0, 0, 0, 0, 0, 0, 0, 0, 0, 0],\n",
       "       [0, 0, 0, 0, 0, 0, 0, 0, 0, 0, 0, 1],\n",
       "       [0, 0, 1, 0, 0, 0, 0, 0, 0, 0, 0, 0],\n",
       "       [0, 0, 0, 0, 0, 0, 0, 0, 0, 0, 0, 0],\n",
       "       [0, 0, 0, 1, 1, 0, 0, 0, 0, 0, 1, 0],\n",
       "       [1, 1, 0, 0, 0, 0, 0, 0, 0, 0, 0, 0],\n",
       "       [0, 0, 0, 0, 0, 1, 1, 0, 0, 0, 0, 0],\n",
       "       [0, 0, 0, 0, 0, 0, 0, 1, 1, 1, 0, 0],\n",
       "       [0, 0, 0, 0, 0, 0, 0, 0, 0, 0, 0, 1],\n",
       "       [0, 0, 0, 0, 0, 0, 0, 0, 0, 0, 0, 0],\n",
       "       [0, 0, 0, 0, 0, 0, 0, 0, 0, 0, 0, 0],\n",
       "       [0, 0, 1, 0, 0, 0, 0, 0, 0, 0, 0, 0],\n",
       "       [0, 0, 0, 0, 0, 0, 0, 1, 0, 0, 1, 0],\n",
       "       [0, 1, 0, 1, 0, 1, 0, 0, 0, 0, 0, 0],\n",
       "       [1, 0, 0, 0, 1, 0, 1, 0, 0, 1, 0, 0],\n",
       "       [0, 0, 0, 0, 0, 0, 0, 0, 1, 0, 0, 0],\n",
       "       [0, 0, 1, 0, 0, 0, 0, 0, 0, 0, 0, 0],\n",
       "       [0, 0, 0, 0, 0, 0, 0, 0, 0, 0, 0, 0],\n",
       "       [0, 0, 0, 0, 0, 0, 0, 0, 0, 0, 0, 0],\n",
       "       [0, 0, 0, 0, 0, 0, 0, 0, 0, 0, 0, 1],\n",
       "       [0, 0, 0, 1, 0, 1, 0, 0, 0, 0, 1, 0],\n",
       "       [0, 1, 0, 0, 0, 0, 0, 1, 0, 0, 0, 0],\n",
       "       [0, 0, 0, 0, 1, 0, 1, 0, 0, 0, 0, 0],\n",
       "       [1, 0, 0, 0, 0, 0, 0, 0, 1, 1, 0, 0],\n",
       "       [0, 0, 0, 0, 0, 0, 0, 0, 0, 0, 0, 0],\n",
       "       [0, 0, 1, 0, 0, 0, 0, 0, 0, 0, 0, 0],\n",
       "       [0, 0, 0, 0, 0, 0, 0, 0, 0, 0, 0, 1],\n",
       "       [0, 0, 0, 0, 0, 0, 0, 0, 0, 0, 0, 0],\n",
       "       [0, 0, 0, 0, 1, 0, 1, 0, 0, 0, 1, 0],\n",
       "       [1, 0, 0, 0, 0, 0, 0, 1, 0, 1, 0, 0],\n",
       "       [0, 0, 0, 1, 0, 1, 0, 0, 0, 0, 0, 0],\n",
       "       [0, 1, 0, 0, 0, 0, 0, 0, 1, 0, 0, 0],\n",
       "       [0, 0, 0, 0, 0, 0, 0, 0, 0, 0, 0, 0],\n",
       "       [0, 0, 1, 0, 0, 0, 0, 0, 0, 0, 0, 0],\n",
       "       [0, 0, 0, 0, 0, 0, 0, 0, 0, 0, 0, 1],\n",
       "       [0, 0, 0, 0, 0, 0, 0, 0, 0, 0, 0, 0],\n",
       "       [0, 0, 0, 0, 0, 0, 0, 0, 0, 0, 1, 0],\n",
       "       [0, 1, 0, 1, 0, 0, 0, 0, 0, 0, 0, 0],\n",
       "       [1, 0, 0, 0, 1, 0, 0, 0, 0, 0, 0, 0],\n",
       "       [0, 0, 0, 0, 0, 0, 0, 0, 0, 0, 0, 1],\n",
       "       [0, 0, 1, 0, 0, 0, 0, 1, 0, 0, 0, 0],\n",
       "       [0, 0, 0, 0, 0, 1, 0, 0, 0, 0, 0, 0],\n",
       "       [0, 0, 0, 0, 0, 0, 1, 0, 0, 1, 0, 0],\n",
       "       [0, 0, 0, 0, 0, 0, 0, 0, 1, 0, 0, 0],\n",
       "       [0, 0, 0, 1, 0, 0, 0, 0, 0, 0, 1, 0],\n",
       "       [0, 1, 0, 0, 0, 0, 0, 0, 0, 0, 0, 0],\n",
       "       [0, 0, 0, 0, 1, 0, 0, 0, 0, 0, 0, 1],\n",
       "       [1, 0, 0, 0, 0, 0, 0, 0, 0, 0, 0, 0],\n",
       "       [0, 0, 0, 0, 0, 1, 0, 0, 0, 0, 0, 0],\n",
       "       [0, 0, 1, 0, 0, 0, 0, 1, 0, 0, 0, 0],\n",
       "       [0, 0, 0, 0, 0, 0, 1, 0, 0, 0, 0, 0],\n",
       "       [0, 0, 0, 0, 0, 0, 0, 0, 1, 1, 0, 0],\n",
       "       [0, 0, 0, 0, 1, 0, 0, 0, 0, 0, 1, 0],\n",
       "       [1, 0, 0, 0, 0, 0, 0, 0, 0, 0, 0, 0],\n",
       "       [0, 0, 0, 1, 0, 0, 0, 0, 0, 0, 0, 1],\n",
       "       [0, 1, 0, 0, 0, 0, 0, 0, 0, 0, 0, 0],\n",
       "       [0, 0, 0, 0, 0, 0, 1, 0, 0, 0, 0, 0],\n",
       "       [0, 0, 1, 0, 0, 0, 0, 1, 0, 1, 0, 0],\n",
       "       [0, 0, 0, 0, 0, 1, 0, 0, 0, 0, 0, 0],\n",
       "       [0, 0, 0, 0, 0, 0, 0, 0, 1, 0, 0, 0],\n",
       "       [0, 0, 0, 0, 0, 0, 0, 0, 0, 0, 1, 0],\n",
       "       [0, 0, 1, 0, 0, 0, 0, 1, 0, 0, 0, 0],\n",
       "       [0, 0, 0, 1, 0, 1, 0, 0, 0, 0, 0, 0],\n",
       "       [0, 1, 0, 0, 0, 0, 0, 0, 0, 0, 0, 0],\n",
       "       [0, 0, 0, 0, 1, 0, 1, 0, 0, 0, 0, 0],\n",
       "       [1, 0, 0, 0, 0, 0, 0, 0, 0, 1, 0, 0],\n",
       "       [0, 0, 0, 0, 0, 0, 0, 0, 0, 0, 0, 1],\n",
       "       [0, 0, 0, 0, 0, 0, 0, 0, 1, 0, 0, 0]], dtype=int8)"
      ]
     },
     "execution_count": 60,
     "metadata": {},
     "output_type": "execute_result"
    }
   ],
   "source": [
    "calculate_Xi_naive(S3, O).shape\n",
    "calculate_Xi_naive(S3, O)"
   ]
  },
  {
   "cell_type": "code",
   "execution_count": 61,
   "metadata": {
    "ExecuteTime": {
     "end_time": "2019-05-13T22:40:18.308693Z",
     "start_time": "2019-05-13T22:40:18.285544Z"
    },
    "scrolled": true
   },
   "outputs": [
    {
     "data": {
      "text/plain": [
       "(80, 12)"
      ]
     },
     "execution_count": 61,
     "metadata": {},
     "output_type": "execute_result"
    },
    {
     "data": {
      "text/plain": [
       "array([[0, 1, 0, 1, 0, 0, 0, 0, 0, 0, 1, 0],\n",
       "       [1, 0, 0, 0, 1, 0, 0, 0, 0, 0, 0, 0],\n",
       "       [0, 0, 0, 0, 0, 1, 0, 1, 0, 0, 0, 0],\n",
       "       [0, 0, 0, 0, 0, 0, 1, 0, 1, 1, 0, 0],\n",
       "       [0, 0, 0, 0, 0, 0, 0, 0, 0, 0, 0, 0],\n",
       "       [0, 0, 0, 0, 0, 0, 0, 0, 0, 0, 0, 1],\n",
       "       [0, 0, 1, 0, 0, 0, 0, 0, 0, 0, 0, 0],\n",
       "       [0, 0, 0, 0, 0, 0, 0, 0, 0, 0, 0, 0],\n",
       "       [1, 0, 0, 0, 1, 0, 0, 0, 0, 0, 1, 0],\n",
       "       [0, 1, 0, 1, 0, 0, 0, 0, 0, 0, 0, 0],\n",
       "       [0, 0, 0, 0, 0, 0, 1, 1, 0, 1, 0, 0],\n",
       "       [0, 0, 0, 0, 0, 1, 0, 0, 1, 0, 0, 0],\n",
       "       [0, 0, 0, 0, 0, 0, 0, 0, 0, 0, 0, 0],\n",
       "       [0, 0, 0, 0, 0, 0, 0, 0, 0, 0, 0, 1],\n",
       "       [0, 0, 1, 0, 0, 0, 0, 0, 0, 0, 0, 0],\n",
       "       [0, 0, 0, 0, 0, 0, 0, 0, 0, 0, 0, 0],\n",
       "       [0, 0, 0, 1, 1, 0, 0, 0, 0, 0, 1, 0],\n",
       "       [1, 1, 0, 0, 0, 0, 0, 0, 0, 0, 0, 0],\n",
       "       [0, 0, 0, 0, 0, 1, 1, 0, 0, 0, 0, 0],\n",
       "       [0, 0, 0, 0, 0, 0, 0, 1, 1, 1, 0, 0],\n",
       "       [0, 0, 0, 0, 0, 0, 0, 0, 0, 0, 0, 1],\n",
       "       [0, 0, 0, 0, 0, 0, 0, 0, 0, 0, 0, 0],\n",
       "       [0, 0, 0, 0, 0, 0, 0, 0, 0, 0, 0, 0],\n",
       "       [0, 0, 1, 0, 0, 0, 0, 0, 0, 0, 0, 0],\n",
       "       [0, 0, 0, 0, 0, 0, 0, 1, 0, 0, 1, 0],\n",
       "       [0, 1, 0, 1, 0, 1, 0, 0, 0, 0, 0, 0],\n",
       "       [1, 0, 0, 0, 1, 0, 1, 0, 0, 1, 0, 0],\n",
       "       [0, 0, 0, 0, 0, 0, 0, 0, 1, 0, 0, 0],\n",
       "       [0, 0, 1, 0, 0, 0, 0, 0, 0, 0, 0, 0],\n",
       "       [0, 0, 0, 0, 0, 0, 0, 0, 0, 0, 0, 0],\n",
       "       [0, 0, 0, 0, 0, 0, 0, 0, 0, 0, 0, 0],\n",
       "       [0, 0, 0, 0, 0, 0, 0, 0, 0, 0, 0, 1],\n",
       "       [0, 0, 0, 1, 0, 1, 0, 0, 0, 0, 1, 0],\n",
       "       [0, 1, 0, 0, 0, 0, 0, 1, 0, 0, 0, 0],\n",
       "       [0, 0, 0, 0, 1, 0, 1, 0, 0, 0, 0, 0],\n",
       "       [1, 0, 0, 0, 0, 0, 0, 0, 1, 1, 0, 0],\n",
       "       [0, 0, 0, 0, 0, 0, 0, 0, 0, 0, 0, 0],\n",
       "       [0, 0, 1, 0, 0, 0, 0, 0, 0, 0, 0, 0],\n",
       "       [0, 0, 0, 0, 0, 0, 0, 0, 0, 0, 0, 1],\n",
       "       [0, 0, 0, 0, 0, 0, 0, 0, 0, 0, 0, 0],\n",
       "       [0, 0, 0, 0, 1, 0, 1, 0, 0, 0, 1, 0],\n",
       "       [1, 0, 0, 0, 0, 0, 0, 1, 0, 1, 0, 0],\n",
       "       [0, 0, 0, 1, 0, 1, 0, 0, 0, 0, 0, 0],\n",
       "       [0, 1, 0, 0, 0, 0, 0, 0, 1, 0, 0, 0],\n",
       "       [0, 0, 0, 0, 0, 0, 0, 0, 0, 0, 0, 0],\n",
       "       [0, 0, 1, 0, 0, 0, 0, 0, 0, 0, 0, 0],\n",
       "       [0, 0, 0, 0, 0, 0, 0, 0, 0, 0, 0, 1],\n",
       "       [0, 0, 0, 0, 0, 0, 0, 0, 0, 0, 0, 0],\n",
       "       [0, 0, 0, 0, 0, 0, 0, 0, 0, 0, 1, 0],\n",
       "       [0, 1, 0, 1, 0, 0, 0, 0, 0, 0, 0, 0],\n",
       "       [1, 0, 0, 0, 1, 0, 0, 0, 0, 0, 0, 0],\n",
       "       [0, 0, 0, 0, 0, 0, 0, 0, 0, 0, 0, 1],\n",
       "       [0, 0, 1, 0, 0, 0, 0, 1, 0, 0, 0, 0],\n",
       "       [0, 0, 0, 0, 0, 1, 0, 0, 0, 0, 0, 0],\n",
       "       [0, 0, 0, 0, 0, 0, 1, 0, 0, 1, 0, 0],\n",
       "       [0, 0, 0, 0, 0, 0, 0, 0, 1, 0, 0, 0],\n",
       "       [0, 0, 0, 1, 0, 0, 0, 0, 0, 0, 1, 0],\n",
       "       [0, 1, 0, 0, 0, 0, 0, 0, 0, 0, 0, 0],\n",
       "       [0, 0, 0, 0, 1, 0, 0, 0, 0, 0, 0, 1],\n",
       "       [1, 0, 0, 0, 0, 0, 0, 0, 0, 0, 0, 0],\n",
       "       [0, 0, 0, 0, 0, 1, 0, 0, 0, 0, 0, 0],\n",
       "       [0, 0, 1, 0, 0, 0, 0, 1, 0, 0, 0, 0],\n",
       "       [0, 0, 0, 0, 0, 0, 1, 0, 0, 0, 0, 0],\n",
       "       [0, 0, 0, 0, 0, 0, 0, 0, 1, 1, 0, 0],\n",
       "       [0, 0, 0, 0, 1, 0, 0, 0, 0, 0, 1, 0],\n",
       "       [1, 0, 0, 0, 0, 0, 0, 0, 0, 0, 0, 0],\n",
       "       [0, 0, 0, 1, 0, 0, 0, 0, 0, 0, 0, 1],\n",
       "       [0, 1, 0, 0, 0, 0, 0, 0, 0, 0, 0, 0],\n",
       "       [0, 0, 0, 0, 0, 0, 1, 0, 0, 0, 0, 0],\n",
       "       [0, 0, 1, 0, 0, 0, 0, 1, 0, 1, 0, 0],\n",
       "       [0, 0, 0, 0, 0, 1, 0, 0, 0, 0, 0, 0],\n",
       "       [0, 0, 0, 0, 0, 0, 0, 0, 1, 0, 0, 0],\n",
       "       [0, 0, 0, 0, 0, 0, 0, 0, 0, 0, 1, 0],\n",
       "       [0, 0, 1, 0, 0, 0, 0, 1, 0, 0, 0, 0],\n",
       "       [0, 0, 0, 1, 0, 1, 0, 0, 0, 0, 0, 0],\n",
       "       [0, 1, 0, 0, 0, 0, 0, 0, 0, 0, 0, 0],\n",
       "       [0, 0, 0, 0, 1, 0, 1, 0, 0, 0, 0, 0],\n",
       "       [1, 0, 0, 0, 0, 0, 0, 0, 0, 1, 0, 0],\n",
       "       [0, 0, 0, 0, 0, 0, 0, 0, 0, 0, 0, 1],\n",
       "       [0, 0, 0, 0, 0, 0, 0, 0, 1, 0, 0, 0]])"
      ]
     },
     "execution_count": 61,
     "metadata": {},
     "output_type": "execute_result"
    }
   ],
   "source": [
    "calculate_Xi(S3, O).shape\n",
    "calculate_Xi(S3, O)"
   ]
  },
  {
   "cell_type": "markdown",
   "metadata": {},
   "source": [
    "# Generate $\\overline{S}_i$, $\\overline{X}_i$ by removing vectors with empty extension in $S_i$ + their empty extension in $X_i$"
   ]
  },
  {
   "cell_type": "code",
   "execution_count": 58,
   "metadata": {
    "ExecuteTime": {
     "end_time": "2019-05-13T00:46:00.373377Z",
     "start_time": "2019-05-13T00:46:00.370338Z"
    }
   },
   "outputs": [],
   "source": [
    "EMPTY = np.zeros((l,), dtype=myint)"
   ]
  },
  {
   "cell_type": "code",
   "execution_count": 73,
   "metadata": {
    "ExecuteTime": {
     "end_time": "2019-05-13T23:50:39.537208Z",
     "start_time": "2019-05-13T23:50:39.533269Z"
    }
   },
   "outputs": [],
   "source": [
    "#FIXME this can/should be parallelized and memory mapped\n",
    "def make_Si_bar_naive(Si, Xi):\n",
    "    return np.array([v for i,v in enumerate(Si) \n",
    "#                      if not empty_extension(Xj[i])])\n",
    "                     if not np.array_equal(EMPTY, Xi[i])])"
   ]
  },
  {
   "cell_type": "code",
   "execution_count": 71,
   "metadata": {
    "ExecuteTime": {
     "end_time": "2019-05-13T23:50:34.706488Z",
     "start_time": "2019-05-13T23:50:34.701447Z"
    }
   },
   "outputs": [],
   "source": [
    "#FIXME this can/should be parallelized and memory mapped\n",
    "def make_Si_bar_Xi_bar_naive(Si, Xi):\n",
    "    non_empty_indices = np.array([i for i,v in enumerate(Si)\n",
    "                                  if not np.array_equal(EMPTY, Xi[i])])\n",
    "    Si_bar = np.array([Si[i] for i in non_empty_indices])\n",
    "    Xi_bar = np.array([Xi[i] for i in non_empty_indices])\n",
    "    return Si_bar, Xi_bar"
   ]
  },
  {
   "cell_type": "code",
   "execution_count": 75,
   "metadata": {
    "ExecuteTime": {
     "end_time": "2019-05-13T23:50:48.309871Z",
     "start_time": "2019-05-13T23:50:48.306584Z"
    }
   },
   "outputs": [],
   "source": [
    "def make_Si_bar_Xi_bar_alt(Si, Xi):\n",
    "#     non_empty_extension_row_indices = np.array([i for i,v in enumerate(Si)\n",
    "#                                                 if np.sum(Xi[i]) != 0])\n",
    "    Xi_sums = np.sum(Xi, axis=1) #shape is (Si.shape[0],)\n",
    "    non_empty_extension_row_indices = Xi_sums.nonzero()[0]\n",
    "    \n",
    "    Si_bar = Si[non_empty_extension_row_indices,:]\n",
    "    Xi_bar = Xi[non_empty_extension_row_indices,:]\n",
    "    return Si_bar, Xi_bar"
   ]
  },
  {
   "cell_type": "code",
   "execution_count": 76,
   "metadata": {
    "ExecuteTime": {
     "end_time": "2019-05-13T23:50:48.784487Z",
     "start_time": "2019-05-13T23:50:48.781356Z"
    }
   },
   "outputs": [],
   "source": [
    "construct_Si_bar = make_Si_bar_naive\n",
    "construct_Si_Xi_bar = make_Si_bar_Xi_bar_alt"
   ]
  },
  {
   "cell_type": "code",
   "execution_count": 172,
   "metadata": {
    "ExecuteTime": {
     "end_time": "2019-05-13T01:35:41.006962Z",
     "start_time": "2019-05-13T01:35:41.002061Z"
    }
   },
   "outputs": [
    {
     "data": {
      "text/plain": [
       "(80, 5)"
      ]
     },
     "execution_count": 172,
     "metadata": {},
     "output_type": "execute_result"
    }
   ],
   "source": [
    "S3.shape"
   ]
  },
  {
   "cell_type": "code",
   "execution_count": 110,
   "metadata": {
    "ExecuteTime": {
     "end_time": "2019-05-13T01:11:35.803674Z",
     "start_time": "2019-05-13T01:11:35.797861Z"
    }
   },
   "outputs": [],
   "source": [
    "X3 = calculate_Xi_naive(S3, O)"
   ]
  },
  {
   "cell_type": "code",
   "execution_count": 159,
   "metadata": {
    "ExecuteTime": {
     "end_time": "2019-05-13T01:32:40.357008Z",
     "start_time": "2019-05-13T01:32:40.352358Z"
    }
   },
   "outputs": [
    {
     "data": {
      "text/plain": [
       "(80, 9)"
      ]
     },
     "execution_count": 159,
     "metadata": {},
     "output_type": "execute_result"
    }
   ],
   "source": [
    "X3.shape"
   ]
  },
  {
   "cell_type": "code",
   "execution_count": 163,
   "metadata": {
    "ExecuteTime": {
     "end_time": "2019-05-13T01:32:58.903918Z",
     "start_time": "2019-05-13T01:32:58.899071Z"
    }
   },
   "outputs": [
    {
     "data": {
      "text/plain": [
       "(9, 5)"
      ]
     },
     "execution_count": 163,
     "metadata": {},
     "output_type": "execute_result"
    }
   ],
   "source": [
    "l, m"
   ]
  },
  {
   "cell_type": "code",
   "execution_count": 162,
   "metadata": {
    "ExecuteTime": {
     "end_time": "2019-05-13T01:32:54.888092Z",
     "start_time": "2019-05-13T01:32:54.883369Z"
    }
   },
   "outputs": [
    {
     "data": {
      "text/plain": [
       "(9, 5)"
      ]
     },
     "execution_count": 162,
     "metadata": {},
     "output_type": "execute_result"
    }
   ],
   "source": [
    "O.shape"
   ]
  },
  {
   "cell_type": "code",
   "execution_count": 169,
   "metadata": {
    "ExecuteTime": {
     "end_time": "2019-05-13T01:34:19.493324Z",
     "start_time": "2019-05-13T01:34:19.488262Z"
    }
   },
   "outputs": [
    {
     "data": {
      "text/plain": [
       "(80,)"
      ]
     },
     "execution_count": 169,
     "metadata": {},
     "output_type": "execute_result"
    }
   ],
   "source": [
    "np.sum(X3, axis=1).shape"
   ]
  },
  {
   "cell_type": "code",
   "execution_count": 175,
   "metadata": {
    "ExecuteTime": {
     "end_time": "2019-05-13T01:37:53.384459Z",
     "start_time": "2019-05-13T01:37:53.377090Z"
    }
   },
   "outputs": [
    {
     "data": {
      "text/plain": [
       "(80,)"
      ]
     },
     "execution_count": 175,
     "metadata": {},
     "output_type": "execute_result"
    },
    {
     "data": {
      "text/plain": [
       "array([ 0,  2,  3,  4,  5,  6,  7,  8, 11, 12, 13, 14, 15, 16, 18, 19, 20,\n",
       "       21, 22, 23, 24, 25, 27, 28, 29, 30, 31, 32, 33, 34, 37, 38, 39, 40,\n",
       "       42, 43, 45, 46, 47, 48, 49, 50, 51, 52, 53, 55, 56, 57, 58, 59, 61,\n",
       "       62, 64, 65, 66, 67, 69, 70, 71, 72, 73, 75, 77, 78])"
      ]
     },
     "execution_count": 175,
     "metadata": {},
     "output_type": "execute_result"
    }
   ],
   "source": [
    "np.array([np.sum(X3[i]) for i,v in enumerate(S3)]).shape\n",
    "np.array([np.sum(X3[i]) for i,v in enumerate(S3)]).nonzero()[0]"
   ]
  },
  {
   "cell_type": "code",
   "execution_count": 168,
   "metadata": {
    "ExecuteTime": {
     "end_time": "2019-05-13T01:34:07.840873Z",
     "start_time": "2019-05-13T01:34:07.835216Z"
    }
   },
   "outputs": [
    {
     "data": {
      "text/plain": [
       "(64,)"
      ]
     },
     "execution_count": 168,
     "metadata": {},
     "output_type": "execute_result"
    }
   ],
   "source": [
    "non_empty_row_indices = np.array([i for i,v in enumerate(S3)\n",
    "                                  if np.sum(X3[i]) != 0])\n",
    "non_empty_row_indices.shape"
   ]
  },
  {
   "cell_type": "code",
   "execution_count": 157,
   "metadata": {
    "ExecuteTime": {
     "end_time": "2019-05-13T01:29:59.878782Z",
     "start_time": "2019-05-13T01:29:59.865298Z"
    }
   },
   "outputs": [
    {
     "data": {
      "text/plain": [
       "True"
      ]
     },
     "execution_count": 157,
     "metadata": {},
     "output_type": "execute_result"
    }
   ],
   "source": [
    "np.array_equal( make_Si_bar_Xi_bar_naive(S3, X3)[0], make_Si_bar_Xi_bar_alt(S3, X3)[0] )"
   ]
  },
  {
   "cell_type": "code",
   "execution_count": 158,
   "metadata": {
    "ExecuteTime": {
     "end_time": "2019-05-13T01:30:05.511985Z",
     "start_time": "2019-05-13T01:30:05.505777Z"
    }
   },
   "outputs": [
    {
     "data": {
      "text/plain": [
       "True"
      ]
     },
     "execution_count": 158,
     "metadata": {},
     "output_type": "execute_result"
    }
   ],
   "source": [
    "np.array_equal( make_Si_bar_Xi_bar_naive(S3, X3)[1], make_Si_bar_Xi_bar_alt(S3, X3)[1] )"
   ]
  },
  {
   "cell_type": "code",
   "execution_count": 177,
   "metadata": {
    "ExecuteTime": {
     "end_time": "2019-05-13T01:39:20.047019Z",
     "start_time": "2019-05-13T01:39:17.707436Z"
    }
   },
   "outputs": [
    {
     "name": "stdout",
     "output_type": "stream",
     "text": [
      "286 µs ± 1.74 µs per loop (mean ± std. dev. of 7 runs, 1000 loops each)\n"
     ]
    }
   ],
   "source": [
    "%%timeit\n",
    "\n",
    "make_Si_bar_Xi_bar_naive(S3, X3)"
   ]
  },
  {
   "cell_type": "code",
   "execution_count": 178,
   "metadata": {
    "ExecuteTime": {
     "end_time": "2019-05-13T01:39:28.848090Z",
     "start_time": "2019-05-13T01:39:21.083372Z"
    }
   },
   "outputs": [
    {
     "name": "stdout",
     "output_type": "stream",
     "text": [
      "9.55 µs ± 55.1 ns per loop (mean ± std. dev. of 7 runs, 100000 loops each)\n"
     ]
    }
   ],
   "source": [
    "%%timeit\n",
    "\n",
    "make_Si_bar_Xi_bar_alt(S3, X3)"
   ]
  },
  {
   "cell_type": "markdown",
   "metadata": {},
   "source": [
    "# Convert $\\overline{X}_i$ to a sparse representation"
   ]
  },
  {
   "cell_type": "code",
   "execution_count": 62,
   "metadata": {
    "ExecuteTime": {
     "end_time": "2019-05-13T00:46:00.393110Z",
     "start_time": "2019-05-13T00:46:00.389496Z"
    }
   },
   "outputs": [],
   "source": [
    "# import sparse"
   ]
  },
  {
   "cell_type": "code",
   "execution_count": 78,
   "metadata": {
    "ExecuteTime": {
     "end_time": "2019-05-13T23:51:01.664513Z",
     "start_time": "2019-05-13T23:51:01.660813Z"
    }
   },
   "outputs": [],
   "source": [
    "def density(a):\n",
    "    num_cells = reduce(lambda x,y: x * y, a.shape)\n",
    "    d = len(np.nonzero(a)[0]) / num_cells\n",
    "    return d\n",
    "\n",
    "def sparsity(a):\n",
    "    return 1 - density(a)"
   ]
  },
  {
   "cell_type": "code",
   "execution_count": 79,
   "metadata": {
    "ExecuteTime": {
     "end_time": "2019-05-13T23:51:01.841206Z",
     "start_time": "2019-05-13T23:51:01.838148Z"
    }
   },
   "outputs": [],
   "source": [
    "def to_sparse(v):\n",
    "    return sparse.COO(v)"
   ]
  },
  {
   "cell_type": "markdown",
   "metadata": {},
   "source": [
    "# Local processing pipeline to generate $\\overline{S}_i$ and (dense) $\\overline{X}_i$, $\\forall i$ "
   ]
  },
  {
   "cell_type": "code",
   "execution_count": 68,
   "metadata": {
    "ExecuteTime": {
     "end_time": "2019-05-13T23:50:09.433810Z",
     "start_time": "2019-05-13T23:50:09.430194Z"
    }
   },
   "outputs": [],
   "source": [
    "def construct_Si_bar_Xi_bar(i, O):\n",
    "    Si = construct_Si(i)\n",
    "    Xi = calculate_Xi(Si, O)\n",
    "    Si_bar, Xi_bar = construct_Si_Xi_bar(Si, Xi)\n",
    "#     Si_bar = construct_Si_bar(Si, Xi)\n",
    "#     del Si\n",
    "#     del Xi\n",
    "    #FIXME you shouldn't have to recalculate the extensions of everything in Si_bar!\n",
    "#     Xi_bar = calculate_Xi(Si_bar, O)\n",
    "    return Si_bar, Xi_bar #these (or at least Xi_bar) should be sparse (and memory mapped) representations"
   ]
  },
  {
   "cell_type": "code",
   "execution_count": 63,
   "metadata": {
    "ExecuteTime": {
     "end_time": "2019-05-13T23:49:40.914103Z",
     "start_time": "2019-05-13T23:49:40.910085Z"
    }
   },
   "outputs": [
    {
     "data": {
      "text/plain": [
       "array([[ 1,  0,  0,  0,  0],\n",
       "       [-1,  0,  0,  0,  0],\n",
       "       [ 0,  1,  0,  0,  0],\n",
       "       [ 0, -1,  0,  0,  0],\n",
       "       [ 0,  0,  1,  0,  0],\n",
       "       [ 0,  0, -1,  0,  0],\n",
       "       [ 0,  0,  0,  1,  0],\n",
       "       [ 0,  0,  0, -1,  0],\n",
       "       [ 0,  0,  0,  0,  1],\n",
       "       [ 0,  0,  0,  0, -1]], dtype=int8)"
      ]
     },
     "execution_count": 63,
     "metadata": {},
     "output_type": "execute_result"
    }
   ],
   "source": [
    "construct_Si(1)"
   ]
  },
  {
   "cell_type": "code",
   "execution_count": 80,
   "metadata": {
    "ExecuteTime": {
     "end_time": "2019-05-13T23:51:04.455518Z",
     "start_time": "2019-05-13T23:51:04.448604Z"
    }
   },
   "outputs": [
    {
     "data": {
      "text/plain": [
       "0.8"
      ]
     },
     "execution_count": 80,
     "metadata": {},
     "output_type": "execute_result"
    },
    {
     "data": {
      "text/plain": [
       "0.5"
      ]
     },
     "execution_count": 80,
     "metadata": {},
     "output_type": "execute_result"
    }
   ],
   "source": [
    "S1_bar, X1_bar = construct_Si_bar_Xi_bar(1, O)\n",
    "sparsity(S1_bar)\n",
    "sparsity(X1_bar)"
   ]
  },
  {
   "cell_type": "code",
   "execution_count": 81,
   "metadata": {
    "ExecuteTime": {
     "end_time": "2019-05-13T23:51:05.942888Z",
     "start_time": "2019-05-13T23:51:05.939051Z"
    }
   },
   "outputs": [
    {
     "data": {
      "text/plain": [
       "array([[ 1,  0,  0,  0,  0],\n",
       "       [-1,  0,  0,  0,  0],\n",
       "       [ 0,  1,  0,  0,  0],\n",
       "       [ 0, -1,  0,  0,  0],\n",
       "       [ 0,  0,  1,  0,  0],\n",
       "       [ 0,  0, -1,  0,  0],\n",
       "       [ 0,  0,  0,  1,  0],\n",
       "       [ 0,  0,  0, -1,  0],\n",
       "       [ 0,  0,  0,  0,  1],\n",
       "       [ 0,  0,  0,  0, -1]], dtype=int8)"
      ]
     },
     "execution_count": 81,
     "metadata": {},
     "output_type": "execute_result"
    }
   ],
   "source": [
    "S1_bar"
   ]
  },
  {
   "cell_type": "code",
   "execution_count": 82,
   "metadata": {
    "ExecuteTime": {
     "end_time": "2019-05-13T23:51:06.779497Z",
     "start_time": "2019-05-13T23:51:06.772575Z"
    }
   },
   "outputs": [
    {
     "data": {
      "text/plain": [
       "0.6"
      ]
     },
     "execution_count": 82,
     "metadata": {},
     "output_type": "execute_result"
    },
    {
     "data": {
      "text/plain": [
       "0.75"
      ]
     },
     "execution_count": 82,
     "metadata": {},
     "output_type": "execute_result"
    }
   ],
   "source": [
    "S2_bar, X2_bar = construct_Si_bar_Xi_bar(2, O)\n",
    "sparsity(S2_bar)\n",
    "sparsity(X2_bar)"
   ]
  },
  {
   "cell_type": "code",
   "execution_count": 83,
   "metadata": {
    "ExecuteTime": {
     "end_time": "2019-05-13T23:51:07.235771Z",
     "start_time": "2019-05-13T23:51:07.227869Z"
    }
   },
   "outputs": [
    {
     "data": {
      "text/plain": [
       "0.4"
      ]
     },
     "execution_count": 83,
     "metadata": {},
     "output_type": "execute_result"
    },
    {
     "data": {
      "text/plain": [
       "0.8529411764705882"
      ]
     },
     "execution_count": 83,
     "metadata": {},
     "output_type": "execute_result"
    }
   ],
   "source": [
    "S3_bar, X3_bar = construct_Si_bar_Xi_bar(3, O)\n",
    "sparsity(S3_bar)\n",
    "sparsity(X3_bar)"
   ]
  },
  {
   "cell_type": "code",
   "execution_count": 84,
   "metadata": {
    "ExecuteTime": {
     "end_time": "2019-05-13T23:51:07.609610Z",
     "start_time": "2019-05-13T23:51:07.603093Z"
    }
   },
   "outputs": [
    {
     "data": {
      "text/plain": [
       "0.19999999999999996"
      ]
     },
     "execution_count": 84,
     "metadata": {},
     "output_type": "execute_result"
    },
    {
     "data": {
      "text/plain": [
       "0.8979591836734694"
      ]
     },
     "execution_count": 84,
     "metadata": {},
     "output_type": "execute_result"
    }
   ],
   "source": [
    "S4_bar, X4_bar = construct_Si_bar_Xi_bar(4, O)\n",
    "sparsity(S4_bar)\n",
    "sparsity(X4_bar)"
   ]
  },
  {
   "cell_type": "code",
   "execution_count": 85,
   "metadata": {
    "ExecuteTime": {
     "end_time": "2019-05-13T23:51:08.105597Z",
     "start_time": "2019-05-13T23:51:08.099883Z"
    }
   },
   "outputs": [
    {
     "data": {
      "text/plain": [
       "0.0"
      ]
     },
     "execution_count": 85,
     "metadata": {},
     "output_type": "execute_result"
    },
    {
     "data": {
      "text/plain": [
       "0.9166666666666666"
      ]
     },
     "execution_count": 85,
     "metadata": {},
     "output_type": "execute_result"
    }
   ],
   "source": [
    "S5_bar, X5_bar = construct_Si_bar_Xi_bar(5, O)\n",
    "sparsity(S5_bar)\n",
    "sparsity(X5_bar)"
   ]
  },
  {
   "cell_type": "markdown",
   "metadata": {},
   "source": [
    "# Memory-mapping"
   ]
  },
  {
   "cell_type": "code",
   "execution_count": 113,
   "metadata": {
    "ExecuteTime": {
     "end_time": "2019-05-14T01:08:12.973735Z",
     "start_time": "2019-05-14T01:08:12.971418Z"
    }
   },
   "outputs": [],
   "source": [
    "X5_bar_sparse = to_sparse(X5_bar)"
   ]
  },
  {
   "cell_type": "code",
   "execution_count": 114,
   "metadata": {
    "ExecuteTime": {
     "end_time": "2019-05-14T01:08:19.359018Z",
     "start_time": "2019-05-14T01:08:19.356294Z"
    }
   },
   "outputs": [
    {
     "data": {
      "text/plain": [
       "288"
      ]
     },
     "execution_count": 114,
     "metadata": {},
     "output_type": "execute_result"
    }
   ],
   "source": [
    "X5_bar_sparse.nbytes"
   ]
  },
  {
   "cell_type": "code",
   "execution_count": 129,
   "metadata": {
    "ExecuteTime": {
     "end_time": "2019-05-14T01:12:08.965491Z",
     "start_time": "2019-05-14T01:12:08.953874Z"
    }
   },
   "outputs": [],
   "source": [
    "def construct_Si_bar_Xi_bar_mmap(i, O):\n",
    "    Si_fn = 'S{0}.dat'.format(i)\n",
    "    n_pfvs = int(binom(m, i) * (2 ** i))\n",
    "    n_features = m\n",
    "    Si_shape = (n_pfvs, n_features)\n",
    "    print('Si_shape: {0}'.format(Si_shape))\n",
    "    Si = np.memmap(Si_fn, dtype=myint, mode='w+', shape = Si_shape)\n",
    "#     Si = construct_Si(i)\n",
    "    Si[:] = construct_Si(i)\n",
    "    print('Finished writing S{0} to disk as {1} w/ {2} GB'.format(i, Si_fn, Si.nbytes / 1e9))\n",
    "    \n",
    "    Xi_fn = 'X{0}.dat'.format(i)\n",
    "    n_objects = l\n",
    "    Xi_shape = (n_pfvs, n_objects)\n",
    "    Xi = np.memmap(Xi_fn, dtype=myint, mode='w+', shape = Xi_shape)\n",
    "    Xi[:] = calculate_Xi(Si, O)\n",
    "    print('Finished writing X{0} to disk as {1} w/ {2} GB'.format(i, Xi_fn, Xi.nbytes / 1e9))\n",
    "    \n",
    "    Xi_sums = np.sum(Xi, axis=1) #shape is (Si.shape[0],)\n",
    "    non_empty_extension_row_indices = Xi_sums.nonzero()[0]\n",
    "    num_ne_pfvs = len(non_empty_extension_row_indices)\n",
    "    print('Finished identifying {0} pfvs with non-empty extensions.'.format(num_ne_pfvs))\n",
    "    \n",
    "    Si_bar_fn = 'S{0}_bar.dat'.format(i)\n",
    "    Si_bar_shape = (num_ne_pfvs, n_features)\n",
    "    Si_bar = np.memmap(Si_bar_fn, dtype=myint, mode='w+', shape = Si_bar_shape)\n",
    "    Si_bar[:] = Si[non_empty_extension_row_indices,:]\n",
    "    print('Finished writing S{0}_bar to disk as {1} w/ {2} GB'.format(i, Si_bar_fn, Si_bar.nbytes / 1e9))\n",
    "    print('Sparsity of S{0}_bar: {1}'.format(i, sparsity(Si_bar)))\n",
    "    print('Deleting S{0} from disk, freeing {1} GB'.format(i, Si.nbytes / 1e9))\n",
    "    os.remove(Si_fn)\n",
    "    print('S{0} deleted'.format(i))\n",
    "    \n",
    "    Xi_bar_fn = 'X{0}_bar.dat'.format(i)\n",
    "    Xi_bar_shape = (num_ne_pfvs, n_objects)\n",
    "    Xi_bar = np.memmap(Xi_bar_fn, dtype=myint, mode='w+', shape = Xi_bar_shape)\n",
    "    Xi_bar[:] = Xi[non_empty_extension_row_indices,:]\n",
    "    print('Finished writing X{0}_bar to disk as {1} w/ {2} GB'.format(i, Xi_bar_fn, Xi_bar.nbytes / 1e9))\n",
    "    print('Deleting X{0} from disk, freeing {1} GB'.format(i, Xi.nbytes / 1e9))\n",
    "    os.remove(Xi_fn)\n",
    "    print('X{0} deleted'.format(i))\n",
    "    \n",
    "    print('Sparsity of X{0}_bar: {1}'.format(i, sparsity(Xi_bar)))\n",
    "    print('Creating sparse version of X{0}_bar'.format(i))\n",
    "    Xi_bar_sparse_fn = 'X{0}_bar.sparse'.format(i)\n",
    "    Xi_bar_sparse = to_sparse(Xi_bar)\n",
    "    print('Saving as {0}'.format(Xi_bar_sparse_fn))\n",
    "    sparse.save_npz(Xi_bar_sparse_fn, Xi_bar_sparse)\n",
    "    print('Saved, using {0} GB'.format(Xi_bar_sparse.nbytes / 1e9))\n",
    "    print('Deleting {0}, saving {1} GB'.format(Xi_bar_fn, Xi_bar.nbytes / 1e9))\n",
    "    \n",
    "    return Si_bar, Xi_bar_sparse #these (or at least Xi_bar) should be sparse (and memory mapped) representations"
   ]
  },
  {
   "cell_type": "code",
   "execution_count": 127,
   "metadata": {
    "ExecuteTime": {
     "end_time": "2019-05-14T01:11:36.987213Z",
     "start_time": "2019-05-14T01:11:36.982840Z"
    }
   },
   "outputs": [
    {
     "data": {
      "text/plain": [
       "5"
      ]
     },
     "execution_count": 127,
     "metadata": {},
     "output_type": "execute_result"
    }
   ],
   "source": [
    "m"
   ]
  },
  {
   "cell_type": "code",
   "execution_count": 131,
   "metadata": {
    "ExecuteTime": {
     "end_time": "2019-05-14T01:13:37.198744Z",
     "start_time": "2019-05-14T01:13:37.028439Z"
    },
    "scrolled": false
   },
   "outputs": [
    {
     "name": "stdout",
     "output_type": "stream",
     "text": [
      "i = 1\n",
      "Si_shape: (10, 5)\n",
      "Finished writing S1 to disk as S1.dat w/ 5e-08 GB\n",
      "Finished writing X1 to disk as X1.dat w/ 1.2e-07 GB\n",
      "Finished identifying 10 pfvs with non-empty extensions.\n",
      "Finished writing S1_bar to disk as S1_bar.dat w/ 5e-08 GB\n",
      "Sparsity of S1_bar: 0.8\n",
      "Deleting S1 from disk, freeing 5e-08 GB\n",
      "S1 deleted\n",
      "Finished writing X1_bar to disk as X1_bar.dat w/ 1.2e-07 GB\n",
      "Deleting X1 from disk, freeing 1.2e-07 GB\n",
      "X1 deleted\n",
      "Sparsity of X1_bar: 0.5\n",
      "Creating sparse version of X1_bar\n",
      "Saving as X1_bar.sparse\n",
      "Saved, using 1.02e-06 GB\n",
      "Deleting X1_bar.dat, saving 1.2e-07 GB\n"
     ]
    },
    {
     "data": {
      "text/plain": [
       "(memmap([[ 1,  0,  0,  0,  0],\n",
       "         [-1,  0,  0,  0,  0],\n",
       "         [ 0,  1,  0,  0,  0],\n",
       "         [ 0, -1,  0,  0,  0],\n",
       "         [ 0,  0,  1,  0,  0],\n",
       "         [ 0,  0, -1,  0,  0],\n",
       "         [ 0,  0,  0,  1,  0],\n",
       "         [ 0,  0,  0, -1,  0],\n",
       "         [ 0,  0,  0,  0,  1],\n",
       "         [ 0,  0,  0,  0, -1]], dtype=int8),\n",
       " <COO: shape=(10, 12), dtype=int8, nnz=60, fill_value=0>)"
      ]
     },
     "execution_count": 131,
     "metadata": {},
     "output_type": "execute_result"
    },
    {
     "name": "stdout",
     "output_type": "stream",
     "text": [
      " \n",
      "i = 2\n",
      "Si_shape: (40, 5)\n",
      "Finished writing S2 to disk as S2.dat w/ 2e-07 GB\n",
      "Finished writing X2 to disk as X2.dat w/ 4.8e-07 GB\n",
      "Finished identifying 40 pfvs with non-empty extensions.\n",
      "Finished writing S2_bar to disk as S2_bar.dat w/ 2e-07 GB\n",
      "Sparsity of S2_bar: 0.6\n",
      "Deleting S2 from disk, freeing 2e-07 GB\n",
      "S2 deleted\n",
      "Finished writing X2_bar to disk as X2_bar.dat w/ 4.8e-07 GB\n",
      "Deleting X2 from disk, freeing 4.8e-07 GB\n",
      "X2 deleted\n",
      "Sparsity of X2_bar: 0.75\n",
      "Creating sparse version of X2_bar\n",
      "Saving as X2_bar.sparse\n",
      "Saved, using 2.04e-06 GB\n",
      "Deleting X2_bar.dat, saving 4.8e-07 GB\n"
     ]
    },
    {
     "data": {
      "text/plain": [
       "(memmap([[ 1,  1,  0,  0,  0],\n",
       "         [ 1, -1,  0,  0,  0],\n",
       "         [-1,  1,  0,  0,  0],\n",
       "         [-1, -1,  0,  0,  0],\n",
       "         [ 1,  0,  1,  0,  0],\n",
       "         [ 1,  0, -1,  0,  0],\n",
       "         [-1,  0,  1,  0,  0],\n",
       "         [-1,  0, -1,  0,  0],\n",
       "         [ 1,  0,  0,  1,  0],\n",
       "         [ 1,  0,  0, -1,  0],\n",
       "         [-1,  0,  0,  1,  0],\n",
       "         [-1,  0,  0, -1,  0],\n",
       "         [ 1,  0,  0,  0,  1],\n",
       "         [ 1,  0,  0,  0, -1],\n",
       "         [-1,  0,  0,  0,  1],\n",
       "         [-1,  0,  0,  0, -1],\n",
       "         [ 0,  1,  1,  0,  0],\n",
       "         [ 0,  1, -1,  0,  0],\n",
       "         [ 0, -1,  1,  0,  0],\n",
       "         [ 0, -1, -1,  0,  0],\n",
       "         [ 0,  1,  0,  1,  0],\n",
       "         [ 0,  1,  0, -1,  0],\n",
       "         [ 0, -1,  0,  1,  0],\n",
       "         [ 0, -1,  0, -1,  0],\n",
       "         [ 0,  1,  0,  0,  1],\n",
       "         [ 0,  1,  0,  0, -1],\n",
       "         [ 0, -1,  0,  0,  1],\n",
       "         [ 0, -1,  0,  0, -1],\n",
       "         [ 0,  0,  1,  1,  0],\n",
       "         [ 0,  0,  1, -1,  0],\n",
       "         [ 0,  0, -1,  1,  0],\n",
       "         [ 0,  0, -1, -1,  0],\n",
       "         [ 0,  0,  1,  0,  1],\n",
       "         [ 0,  0,  1,  0, -1],\n",
       "         [ 0,  0, -1,  0,  1],\n",
       "         [ 0,  0, -1,  0, -1],\n",
       "         [ 0,  0,  0,  1,  1],\n",
       "         [ 0,  0,  0,  1, -1],\n",
       "         [ 0,  0,  0, -1,  1],\n",
       "         [ 0,  0,  0, -1, -1]], dtype=int8),\n",
       " <COO: shape=(40, 12), dtype=int8, nnz=120, fill_value=0>)"
      ]
     },
     "execution_count": 131,
     "metadata": {},
     "output_type": "execute_result"
    },
    {
     "name": "stdout",
     "output_type": "stream",
     "text": [
      " \n",
      "i = 3\n",
      "Si_shape: (80, 5)\n",
      "Finished writing S3 to disk as S3.dat w/ 4e-07 GB\n",
      "Finished writing X3 to disk as X3.dat w/ 9.6e-07 GB\n",
      "Finished identifying 68 pfvs with non-empty extensions.\n",
      "Finished writing S3_bar to disk as S3_bar.dat w/ 3.4e-07 GB\n",
      "Sparsity of S3_bar: 0.4\n",
      "Deleting S3 from disk, freeing 4e-07 GB\n",
      "S3 deleted\n",
      "Finished writing X3_bar to disk as X3_bar.dat w/ 8.16e-07 GB\n",
      "Deleting X3 from disk, freeing 9.6e-07 GB\n",
      "X3 deleted\n",
      "Sparsity of X3_bar: 0.8529411764705882\n",
      "Creating sparse version of X3_bar\n",
      "Saving as X3_bar.sparse\n",
      "Saved, using 2.04e-06 GB\n",
      "Deleting X3_bar.dat, saving 8.16e-07 GB\n"
     ]
    },
    {
     "data": {
      "text/plain": [
       "(memmap([[ 1,  1,  1,  0,  0],\n",
       "         [ 1,  1, -1,  0,  0],\n",
       "         [ 1, -1,  1,  0,  0],\n",
       "         [ 1, -1, -1,  0,  0],\n",
       "         [-1,  1, -1,  0,  0],\n",
       "         [-1, -1,  1,  0,  0],\n",
       "         [ 1,  1,  0,  1,  0],\n",
       "         [ 1,  1,  0, -1,  0],\n",
       "         [ 1, -1,  0,  1,  0],\n",
       "         [ 1, -1,  0, -1,  0],\n",
       "         [-1,  1,  0, -1,  0],\n",
       "         [-1, -1,  0,  1,  0],\n",
       "         [ 1,  1,  0,  0,  1],\n",
       "         [ 1,  1,  0,  0, -1],\n",
       "         [ 1, -1,  0,  0,  1],\n",
       "         [ 1, -1,  0,  0, -1],\n",
       "         [-1,  1,  0,  0,  1],\n",
       "         [-1, -1,  0,  0, -1],\n",
       "         [ 1,  0,  1,  1,  0],\n",
       "         [ 1,  0,  1, -1,  0],\n",
       "         [ 1,  0, -1,  1,  0],\n",
       "         [ 1,  0, -1, -1,  0],\n",
       "         [-1,  0,  1,  1,  0],\n",
       "         [-1,  0, -1, -1,  0],\n",
       "         [ 1,  0,  1,  0,  1],\n",
       "         [ 1,  0,  1,  0, -1],\n",
       "         [ 1,  0, -1,  0,  1],\n",
       "         [ 1,  0, -1,  0, -1],\n",
       "         [-1,  0,  1,  0, -1],\n",
       "         [-1,  0, -1,  0,  1],\n",
       "         [ 1,  0,  0,  1,  1],\n",
       "         [ 1,  0,  0,  1, -1],\n",
       "         [ 1,  0,  0, -1,  1],\n",
       "         [ 1,  0,  0, -1, -1],\n",
       "         [-1,  0,  0,  1, -1],\n",
       "         [-1,  0,  0, -1,  1],\n",
       "         [ 0,  1,  1,  1,  0],\n",
       "         [ 0,  1,  1, -1,  0],\n",
       "         [ 0,  1, -1,  1,  0],\n",
       "         [ 0,  1, -1, -1,  0],\n",
       "         [ 0, -1,  1,  1,  0],\n",
       "         [ 0, -1,  1, -1,  0],\n",
       "         [ 0, -1, -1,  1,  0],\n",
       "         [ 0, -1, -1, -1,  0],\n",
       "         [ 0,  1,  1,  0,  1],\n",
       "         [ 0,  1,  1,  0, -1],\n",
       "         [ 0,  1, -1,  0,  1],\n",
       "         [ 0,  1, -1,  0, -1],\n",
       "         [ 0, -1,  1,  0,  1],\n",
       "         [ 0, -1,  1,  0, -1],\n",
       "         [ 0, -1, -1,  0,  1],\n",
       "         [ 0, -1, -1,  0, -1],\n",
       "         [ 0,  1,  0,  1,  1],\n",
       "         [ 0,  1,  0,  1, -1],\n",
       "         [ 0,  1,  0, -1,  1],\n",
       "         [ 0,  1,  0, -1, -1],\n",
       "         [ 0, -1,  0,  1,  1],\n",
       "         [ 0, -1,  0,  1, -1],\n",
       "         [ 0, -1,  0, -1,  1],\n",
       "         [ 0, -1,  0, -1, -1],\n",
       "         [ 0,  0,  1,  1,  1],\n",
       "         [ 0,  0,  1,  1, -1],\n",
       "         [ 0,  0,  1, -1,  1],\n",
       "         [ 0,  0,  1, -1, -1],\n",
       "         [ 0,  0, -1,  1,  1],\n",
       "         [ 0,  0, -1,  1, -1],\n",
       "         [ 0,  0, -1, -1,  1],\n",
       "         [ 0,  0, -1, -1, -1]], dtype=int8),\n",
       " <COO: shape=(68, 12), dtype=int8, nnz=120, fill_value=0>)"
      ]
     },
     "execution_count": 131,
     "metadata": {},
     "output_type": "execute_result"
    },
    {
     "name": "stdout",
     "output_type": "stream",
     "text": [
      " \n",
      "i = 4\n",
      "Si_shape: (80, 5)\n",
      "Finished writing S4 to disk as S4.dat w/ 4e-07 GB\n",
      "Finished writing X4 to disk as X4.dat w/ 9.6e-07 GB\n",
      "Finished identifying 49 pfvs with non-empty extensions.\n",
      "Finished writing S4_bar to disk as S4_bar.dat w/ 2.45e-07 GB\n",
      "Sparsity of S4_bar: 0.19999999999999996\n",
      "Deleting S4 from disk, freeing 4e-07 GB\n",
      "S4 deleted\n",
      "Finished writing X4_bar to disk as X4_bar.dat w/ 5.88e-07 GB\n",
      "Deleting X4 from disk, freeing 9.6e-07 GB\n",
      "X4 deleted\n",
      "Sparsity of X4_bar: 0.8979591836734694\n",
      "Creating sparse version of X4_bar\n",
      "Saving as X4_bar.sparse\n",
      "Saved, using 1.02e-06 GB\n",
      "Deleting X4_bar.dat, saving 5.88e-07 GB\n"
     ]
    },
    {
     "data": {
      "text/plain": [
       "(memmap([[ 1,  1,  1,  1,  0],\n",
       "         [ 1,  1,  1, -1,  0],\n",
       "         [ 1,  1, -1,  1,  0],\n",
       "         [ 1, -1,  1,  1,  0],\n",
       "         [ 1, -1,  1, -1,  0],\n",
       "         [ 1, -1, -1,  1,  0],\n",
       "         [ 1, -1, -1, -1,  0],\n",
       "         [-1,  1, -1, -1,  0],\n",
       "         [-1, -1,  1,  1,  0],\n",
       "         [ 1,  1,  1,  0,  1],\n",
       "         [ 1,  1,  1,  0, -1],\n",
       "         [ 1,  1, -1,  0,  1],\n",
       "         [ 1,  1, -1,  0, -1],\n",
       "         [ 1, -1,  1,  0,  1],\n",
       "         [ 1, -1,  1,  0, -1],\n",
       "         [ 1, -1, -1,  0,  1],\n",
       "         [ 1, -1, -1,  0, -1],\n",
       "         [-1,  1, -1,  0,  1],\n",
       "         [-1, -1,  1,  0, -1],\n",
       "         [ 1,  1,  0,  1,  1],\n",
       "         [ 1,  1,  0,  1, -1],\n",
       "         [ 1,  1,  0, -1,  1],\n",
       "         [ 1,  1,  0, -1, -1],\n",
       "         [ 1, -1,  0,  1,  1],\n",
       "         [ 1, -1,  0,  1, -1],\n",
       "         [ 1, -1,  0, -1,  1],\n",
       "         [ 1, -1,  0, -1, -1],\n",
       "         [-1,  1,  0, -1,  1],\n",
       "         [-1, -1,  0,  1, -1],\n",
       "         [ 1,  0,  1,  1,  1],\n",
       "         [ 1,  0,  1,  1, -1],\n",
       "         [ 1,  0,  1, -1,  1],\n",
       "         [ 1,  0,  1, -1, -1],\n",
       "         [ 1,  0, -1,  1,  1],\n",
       "         [ 1,  0, -1,  1, -1],\n",
       "         [ 1,  0, -1, -1, -1],\n",
       "         [-1,  0,  1,  1, -1],\n",
       "         [-1,  0, -1, -1,  1],\n",
       "         [ 0,  1,  1,  1,  1],\n",
       "         [ 0,  1,  1, -1,  1],\n",
       "         [ 0,  1,  1, -1, -1],\n",
       "         [ 0,  1, -1,  1,  1],\n",
       "         [ 0,  1, -1,  1, -1],\n",
       "         [ 0,  1, -1, -1,  1],\n",
       "         [ 0, -1,  1,  1, -1],\n",
       "         [ 0, -1,  1, -1,  1],\n",
       "         [ 0, -1, -1,  1,  1],\n",
       "         [ 0, -1, -1,  1, -1],\n",
       "         [ 0, -1, -1, -1, -1]], dtype=int8),\n",
       " <COO: shape=(49, 12), dtype=int8, nnz=60, fill_value=0>)"
      ]
     },
     "execution_count": 131,
     "metadata": {},
     "output_type": "execute_result"
    },
    {
     "name": "stdout",
     "output_type": "stream",
     "text": [
      " \n",
      "i = 5\n",
      "Si_shape: (32, 5)\n",
      "Finished writing S5 to disk as S5.dat w/ 1.6e-07 GB\n",
      "Finished writing X5 to disk as X5.dat w/ 3.84e-07 GB\n",
      "Finished identifying 12 pfvs with non-empty extensions.\n",
      "Finished writing S5_bar to disk as S5_bar.dat w/ 6e-08 GB\n",
      "Sparsity of S5_bar: 0.0\n",
      "Deleting S5 from disk, freeing 1.6e-07 GB\n",
      "S5 deleted\n",
      "Finished writing X5_bar to disk as X5_bar.dat w/ 1.44e-07 GB\n",
      "Deleting X5 from disk, freeing 3.84e-07 GB\n",
      "X5 deleted\n",
      "Sparsity of X5_bar: 0.9166666666666666\n",
      "Creating sparse version of X5_bar\n",
      "Saving as X5_bar.sparse\n",
      "Saved, using 2.04e-07 GB\n",
      "Deleting X5_bar.dat, saving 1.44e-07 GB\n"
     ]
    },
    {
     "data": {
      "text/plain": [
       "(memmap([[ 1,  1,  1,  1,  1],\n",
       "         [ 1,  1,  1, -1,  1],\n",
       "         [ 1,  1,  1, -1, -1],\n",
       "         [ 1,  1, -1,  1,  1],\n",
       "         [ 1,  1, -1,  1, -1],\n",
       "         [ 1, -1,  1,  1, -1],\n",
       "         [ 1, -1,  1, -1,  1],\n",
       "         [ 1, -1, -1,  1,  1],\n",
       "         [ 1, -1, -1,  1, -1],\n",
       "         [ 1, -1, -1, -1, -1],\n",
       "         [-1,  1, -1, -1,  1],\n",
       "         [-1, -1,  1,  1, -1]], dtype=int8),\n",
       " <COO: shape=(12, 12), dtype=int8, nnz=12, fill_value=0>)"
      ]
     },
     "execution_count": 131,
     "metadata": {},
     "output_type": "execute_result"
    },
    {
     "name": "stdout",
     "output_type": "stream",
     "text": [
      " \n"
     ]
    }
   ],
   "source": [
    "for i in range(1,m+1):\n",
    "    print('i = {0}'.format(i))\n",
    "    construct_Si_bar_Xi_bar_mmap(i, O)\n",
    "    print(' ')"
   ]
  },
  {
   "cell_type": "code",
   "execution_count": null,
   "metadata": {},
   "outputs": [],
   "source": []
  }
 ],
 "metadata": {
  "kernelspec": {
   "display_name": "Python 3",
   "language": "python",
   "name": "python3"
  },
  "language_info": {
   "codemirror_mode": {
    "name": "ipython",
    "version": 3
   },
   "file_extension": ".py",
   "mimetype": "text/x-python",
   "name": "python",
   "nbconvert_exporter": "python",
   "pygments_lexer": "ipython3",
   "version": "3.6.8"
  },
  "toc": {
   "base_numbering": 1,
   "nav_menu": {},
   "number_sections": true,
   "sideBar": true,
   "skip_h1_title": false,
   "title_cell": "Table of Contents",
   "title_sidebar": "Contents",
   "toc_cell": false,
   "toc_position": {},
   "toc_section_display": true,
   "toc_window_display": true
  }
 },
 "nbformat": 4,
 "nbformat_minor": 2
}
